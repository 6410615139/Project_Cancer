{
  "nbformat": 4,
  "nbformat_minor": 0,
  "metadata": {
    "colab": {
      "provenance": []
    },
    "kernelspec": {
      "name": "python3",
      "display_name": "Python 3"
    },
    "language_info": {
      "name": "python"
    }
  },
  "cells": [
    {
      "cell_type": "code",
      "source": [
        "import pandas as pd\n",
        "import matplotlib.pyplot as plt\n",
        "import numpy as np\n",
        "import seaborn as sns\n",
        "\n",
        "# import accuracy score function\n",
        "from sklearn.metrics import accuracy_score\n",
        "from sklearn.preprocessing import LabelEncoder\n",
        "from sklearn.metrics import confusion_matrix, roc_curve, roc_auc_score"
      ],
      "metadata": {
        "id": "RddS-M6u1vPt"
      },
      "execution_count": 37,
      "outputs": []
    },
    {
      "cell_type": "markdown",
      "source": [
        "function"
      ],
      "metadata": {
        "id": "DH5UjhlYvkzM"
      }
    },
    {
      "cell_type": "code",
      "source": [
        "# # tn, fp, fn, tp = each_index(cm)\n",
        "def each_index(metrix):\n",
        "    TN = metrix[0][0]\n",
        "    FP = metrix[0][1]\n",
        "    FN = metrix[1][0]\n",
        "    TP = metrix[1][1]\n",
        "    return TN, FP, FN, TP"
      ],
      "metadata": {
        "id": "AjgrHZHivmbf"
      },
      "execution_count": 38,
      "outputs": []
    },
    {
      "cell_type": "code",
      "source": [
        "def sensitivity(metrix):\n",
        "    TN, FP, FN, TP = each_index(metrix)\n",
        "    # Calculate sensitivity\n",
        "    sensitivity = TP / (TP + FN) * 100\n",
        "    print(\"Sensitivity: %.2f%%\" % sensitivity)\n",
        "    return sensitivity"
      ],
      "metadata": {
        "id": "PHtzEpwUvp6k"
      },
      "execution_count": 39,
      "outputs": []
    },
    {
      "cell_type": "code",
      "source": [
        "def specificity(metrix):\n",
        "    TN, FP, FN, TP = each_index(metrix)\n",
        "    # Calculate specificity\n",
        "    specificity = TN / (TN + FP) * 100\n",
        "    print(\"Specificity: %.2f%%\" % specificity)\n",
        "    return specificity"
      ],
      "metadata": {
        "id": "8jgak8E3vsXI"
      },
      "execution_count": 40,
      "outputs": []
    },
    {
      "cell_type": "code",
      "source": [
        "def accuracy(metrix):\n",
        "    TN, FP, FN, TP = each_index(metrix)\n",
        "    # Calculate accuracy\n",
        "    accuracy = ((TP + TN) / (TP + TN + FP + FN)) *100\n",
        "    print(\"Accuracy: %.2f%%\" % accuracy)\n",
        "    return accuracy"
      ],
      "metadata": {
        "id": "2JIB3U7vvuFw"
      },
      "execution_count": 41,
      "outputs": []
    },
    {
      "cell_type": "code",
      "source": [
        "def precision(metrix):\n",
        "    TN, FP, FN, TP = each_index(metrix)\n",
        "    # Calculate accuracy\n",
        "    precision = (TP / (TP + FP)) *100\n",
        "    print(\"Precision: %.2f%%\" % precision)\n",
        "    return precision"
      ],
      "metadata": {
        "id": "ZLPNwdQuvzoH"
      },
      "execution_count": 42,
      "outputs": []
    },
    {
      "cell_type": "code",
      "source": [
        "def f1(metrix):\n",
        "    TN, FP, FN, TP = each_index(metrix)\n",
        "    # Calculate f1\n",
        "    recall = sensitivity(metrix)\n",
        "    pre = precision(metrix)\n",
        "    f1 = ((2*pre*recall) / (pre+recall))\n",
        "    print(\"F1: %.2f%%\" % f1)\n",
        "    return f1"
      ],
      "metadata": {
        "id": "97hAzpViv1yK"
      },
      "execution_count": 43,
      "outputs": []
    },
    {
      "cell_type": "markdown",
      "source": [
        "Training set"
      ],
      "metadata": {
        "id": "4m9YyBRM2NKz"
      }
    },
    {
      "cell_type": "code",
      "source": [
        "train_data = pd.read_csv(\"oversampled_train_split3.csv\")\n",
        "train_data.shape"
      ],
      "metadata": {
        "colab": {
          "base_uri": "https://localhost:8080/"
        },
        "id": "ajdi8p-P2QWn",
        "outputId": "f557f7d2-006c-4dbe-85a1-9a1a11c7ab67"
      },
      "execution_count": 44,
      "outputs": [
        {
          "output_type": "execute_result",
          "data": {
            "text/plain": [
              "(490, 32)"
            ]
          },
          "metadata": {},
          "execution_count": 44
        }
      ]
    },
    {
      "cell_type": "code",
      "source": [
        "x_train = train_data[train_data.columns[2:]]\n",
        "x_train.shape"
      ],
      "metadata": {
        "colab": {
          "base_uri": "https://localhost:8080/"
        },
        "id": "shWiq_oB2Tw3",
        "outputId": "51cc4af4-aa4c-447c-d632-47d328c3988b"
      },
      "execution_count": 45,
      "outputs": [
        {
          "output_type": "execute_result",
          "data": {
            "text/plain": [
              "(490, 30)"
            ]
          },
          "metadata": {},
          "execution_count": 45
        }
      ]
    },
    {
      "cell_type": "code",
      "source": [
        "y_train = train_data[train_data.columns[1]]\n",
        "#y_train.shape\n",
        "le = LabelEncoder()\n",
        "y_train = np.array(le.fit_transform(y_train))\n",
        "print(le.classes_)"
      ],
      "metadata": {
        "colab": {
          "base_uri": "https://localhost:8080/"
        },
        "id": "QaUbGQPy2XLf",
        "outputId": "ee96c932-6bb4-413d-a8dc-1342164755f8"
      },
      "execution_count": 46,
      "outputs": [
        {
          "output_type": "stream",
          "name": "stdout",
          "text": [
            "['B' 'M']\n"
          ]
        }
      ]
    },
    {
      "cell_type": "markdown",
      "source": [
        "Testing set"
      ],
      "metadata": {
        "id": "NOPotMPZ2af9"
      }
    },
    {
      "cell_type": "code",
      "source": [
        "test_data = pd.read_csv(\"test.csv\")\n",
        "test_data.shape"
      ],
      "metadata": {
        "colab": {
          "base_uri": "https://localhost:8080/"
        },
        "id": "CXArw0AS2d7C",
        "outputId": "14117a8c-ced5-4d23-85d7-3d87e3ed3e75"
      },
      "execution_count": 47,
      "outputs": [
        {
          "output_type": "execute_result",
          "data": {
            "text/plain": [
              "(114, 33)"
            ]
          },
          "metadata": {},
          "execution_count": 47
        }
      ]
    },
    {
      "cell_type": "code",
      "source": [
        "x_test = test_data[test_data.columns[3:]]\n",
        "x_test.shape"
      ],
      "metadata": {
        "colab": {
          "base_uri": "https://localhost:8080/"
        },
        "id": "gear7pls2h1j",
        "outputId": "cfb889d7-55ba-417a-f000-9ff77da6126f"
      },
      "execution_count": 48,
      "outputs": [
        {
          "output_type": "execute_result",
          "data": {
            "text/plain": [
              "(114, 30)"
            ]
          },
          "metadata": {},
          "execution_count": 48
        }
      ]
    },
    {
      "cell_type": "code",
      "source": [
        "y_test = test_data[test_data.columns[2]]\n",
        "#y_test.shape\n",
        "le = LabelEncoder()\n",
        "y_test = np.array(le.fit_transform(y_test))\n",
        "print(le.classes_)"
      ],
      "metadata": {
        "colab": {
          "base_uri": "https://localhost:8080/"
        },
        "id": "51NexKtT2lYe",
        "outputId": "fb8558de-30e1-442e-d2d3-c3ceaa9fe244"
      },
      "execution_count": 49,
      "outputs": [
        {
          "output_type": "stream",
          "name": "stdout",
          "text": [
            "['B' 'M']\n"
          ]
        }
      ]
    },
    {
      "cell_type": "markdown",
      "source": [
        "Validation set"
      ],
      "metadata": {
        "id": "X5RHw0kj2pkF"
      }
    },
    {
      "cell_type": "code",
      "source": [
        "val_data = pd.read_csv(\"val_split3.csv\")\n",
        "val_data.shape"
      ],
      "metadata": {
        "colab": {
          "base_uri": "https://localhost:8080/"
        },
        "id": "0bhsL5zN2sP9",
        "outputId": "885d8bbb-9db6-422a-efed-5be69b11ab3f"
      },
      "execution_count": 50,
      "outputs": [
        {
          "output_type": "execute_result",
          "data": {
            "text/plain": [
              "(91, 32)"
            ]
          },
          "metadata": {},
          "execution_count": 50
        }
      ]
    },
    {
      "cell_type": "code",
      "source": [
        "x_val = val_data[val_data.columns[2:]]\n",
        "x_val.shape"
      ],
      "metadata": {
        "colab": {
          "base_uri": "https://localhost:8080/"
        },
        "id": "XL6VUzfb2wnd",
        "outputId": "6ca98751-b04a-44b9-cf86-fa6b4e5518a1"
      },
      "execution_count": 51,
      "outputs": [
        {
          "output_type": "execute_result",
          "data": {
            "text/plain": [
              "(91, 30)"
            ]
          },
          "metadata": {},
          "execution_count": 51
        }
      ]
    },
    {
      "cell_type": "code",
      "source": [
        "y_val = val_data[val_data.columns[1]]\n",
        "#y_val.shape\n",
        "le = LabelEncoder()\n",
        "y_val = np.array(le.fit_transform(y_val))\n",
        "print(le.classes_)"
      ],
      "metadata": {
        "colab": {
          "base_uri": "https://localhost:8080/"
        },
        "id": "e4vAqTU12ztD",
        "outputId": "f40dbf0e-7223-4d1d-d1d9-530ef1e30572"
      },
      "execution_count": 52,
      "outputs": [
        {
          "output_type": "stream",
          "name": "stdout",
          "text": [
            "['B' 'M']\n"
          ]
        }
      ]
    },
    {
      "cell_type": "markdown",
      "source": [
        "-"
      ],
      "metadata": {
        "id": "4jKoeSIb25h9"
      }
    },
    {
      "cell_type": "code",
      "source": [
        "x_train = x_train.to_numpy()\n",
        "x_test = x_test.to_numpy()\n",
        "x_val = x_val.to_numpy()  # เพิ่ม"
      ],
      "metadata": {
        "id": "SnHMSkHF28TX"
      },
      "execution_count": 53,
      "outputs": []
    },
    {
      "cell_type": "code",
      "source": [
        "from sklearn.model_selection import train_test_split\n",
        "\n",
        "print(\"Shape of training set:\", x_train.shape)\n",
        "print(\"Shape of test set:\", x_test.shape)"
      ],
      "metadata": {
        "colab": {
          "base_uri": "https://localhost:8080/"
        },
        "id": "17XjQkgE2_7W",
        "outputId": "ed8fd69c-079e-4c12-e80e-66043fba209d"
      },
      "execution_count": 54,
      "outputs": [
        {
          "output_type": "stream",
          "name": "stdout",
          "text": [
            "Shape of training set: (490, 30)\n",
            "Shape of test set: (114, 30)\n"
          ]
        }
      ]
    },
    {
      "cell_type": "code",
      "source": [
        "from sklearn.preprocessing import StandardScaler\n",
        "\n",
        "ss = StandardScaler()\n",
        "X_train = ss.fit_transform(x_train)\n",
        "X_test = ss.fit_transform(x_test)\n",
        "X_val = ss.fit_transform(x_val)   # เพิ่ม"
      ],
      "metadata": {
        "id": "hTv925KR3DD_"
      },
      "execution_count": 55,
      "outputs": []
    },
    {
      "cell_type": "markdown",
      "source": [
        "# Random Forest Classifier"
      ],
      "metadata": {
        "id": "OhL8Ads53Gqh"
      }
    },
    {
      "cell_type": "markdown",
      "source": [
        "1"
      ],
      "metadata": {
        "id": "HxRb7bR7mMz7"
      }
    },
    {
      "cell_type": "code",
      "source": [
        "from sklearn.ensemble import RandomForestClassifier\n",
        "\n",
        "rand_clf = RandomForestClassifier(criterion = 'entropy', max_depth = 11, max_features = 'auto', min_samples_leaf = 2, min_samples_split = 3, n_estimators = 130)\n",
        "rand_clf.fit(X_train, y_train) # map"
      ],
      "metadata": {
        "id": "IgMZ1pel3Lag",
        "colab": {
          "base_uri": "https://localhost:8080/",
          "height": 162
        },
        "outputId": "d99d0c1d-a898-4dcd-9ad6-d8bff545cd69"
      },
      "execution_count": 56,
      "outputs": [
        {
          "output_type": "stream",
          "name": "stderr",
          "text": [
            "/usr/local/lib/python3.9/dist-packages/sklearn/ensemble/_forest.py:424: FutureWarning: `max_features='auto'` has been deprecated in 1.1 and will be removed in 1.3. To keep the past behaviour, explicitly set `max_features='sqrt'` or remove this parameter as it is also the default value for RandomForestClassifiers and ExtraTreesClassifiers.\n",
            "  warn(\n"
          ]
        },
        {
          "output_type": "execute_result",
          "data": {
            "text/plain": [
              "RandomForestClassifier(criterion='entropy', max_depth=11, max_features='auto',\n",
              "                       min_samples_leaf=2, min_samples_split=3,\n",
              "                       n_estimators=130)"
            ],
            "text/html": [
              "<style>#sk-container-id-2 {color: black;background-color: white;}#sk-container-id-2 pre{padding: 0;}#sk-container-id-2 div.sk-toggleable {background-color: white;}#sk-container-id-2 label.sk-toggleable__label {cursor: pointer;display: block;width: 100%;margin-bottom: 0;padding: 0.3em;box-sizing: border-box;text-align: center;}#sk-container-id-2 label.sk-toggleable__label-arrow:before {content: \"▸\";float: left;margin-right: 0.25em;color: #696969;}#sk-container-id-2 label.sk-toggleable__label-arrow:hover:before {color: black;}#sk-container-id-2 div.sk-estimator:hover label.sk-toggleable__label-arrow:before {color: black;}#sk-container-id-2 div.sk-toggleable__content {max-height: 0;max-width: 0;overflow: hidden;text-align: left;background-color: #f0f8ff;}#sk-container-id-2 div.sk-toggleable__content pre {margin: 0.2em;color: black;border-radius: 0.25em;background-color: #f0f8ff;}#sk-container-id-2 input.sk-toggleable__control:checked~div.sk-toggleable__content {max-height: 200px;max-width: 100%;overflow: auto;}#sk-container-id-2 input.sk-toggleable__control:checked~label.sk-toggleable__label-arrow:before {content: \"▾\";}#sk-container-id-2 div.sk-estimator input.sk-toggleable__control:checked~label.sk-toggleable__label {background-color: #d4ebff;}#sk-container-id-2 div.sk-label input.sk-toggleable__control:checked~label.sk-toggleable__label {background-color: #d4ebff;}#sk-container-id-2 input.sk-hidden--visually {border: 0;clip: rect(1px 1px 1px 1px);clip: rect(1px, 1px, 1px, 1px);height: 1px;margin: -1px;overflow: hidden;padding: 0;position: absolute;width: 1px;}#sk-container-id-2 div.sk-estimator {font-family: monospace;background-color: #f0f8ff;border: 1px dotted black;border-radius: 0.25em;box-sizing: border-box;margin-bottom: 0.5em;}#sk-container-id-2 div.sk-estimator:hover {background-color: #d4ebff;}#sk-container-id-2 div.sk-parallel-item::after {content: \"\";width: 100%;border-bottom: 1px solid gray;flex-grow: 1;}#sk-container-id-2 div.sk-label:hover label.sk-toggleable__label {background-color: #d4ebff;}#sk-container-id-2 div.sk-serial::before {content: \"\";position: absolute;border-left: 1px solid gray;box-sizing: border-box;top: 0;bottom: 0;left: 50%;z-index: 0;}#sk-container-id-2 div.sk-serial {display: flex;flex-direction: column;align-items: center;background-color: white;padding-right: 0.2em;padding-left: 0.2em;position: relative;}#sk-container-id-2 div.sk-item {position: relative;z-index: 1;}#sk-container-id-2 div.sk-parallel {display: flex;align-items: stretch;justify-content: center;background-color: white;position: relative;}#sk-container-id-2 div.sk-item::before, #sk-container-id-2 div.sk-parallel-item::before {content: \"\";position: absolute;border-left: 1px solid gray;box-sizing: border-box;top: 0;bottom: 0;left: 50%;z-index: -1;}#sk-container-id-2 div.sk-parallel-item {display: flex;flex-direction: column;z-index: 1;position: relative;background-color: white;}#sk-container-id-2 div.sk-parallel-item:first-child::after {align-self: flex-end;width: 50%;}#sk-container-id-2 div.sk-parallel-item:last-child::after {align-self: flex-start;width: 50%;}#sk-container-id-2 div.sk-parallel-item:only-child::after {width: 0;}#sk-container-id-2 div.sk-dashed-wrapped {border: 1px dashed gray;margin: 0 0.4em 0.5em 0.4em;box-sizing: border-box;padding-bottom: 0.4em;background-color: white;}#sk-container-id-2 div.sk-label label {font-family: monospace;font-weight: bold;display: inline-block;line-height: 1.2em;}#sk-container-id-2 div.sk-label-container {text-align: center;}#sk-container-id-2 div.sk-container {/* jupyter's `normalize.less` sets `[hidden] { display: none; }` but bootstrap.min.css set `[hidden] { display: none !important; }` so we also need the `!important` here to be able to override the default hidden behavior on the sphinx rendered scikit-learn.org. See: https://github.com/scikit-learn/scikit-learn/issues/21755 */display: inline-block !important;position: relative;}#sk-container-id-2 div.sk-text-repr-fallback {display: none;}</style><div id=\"sk-container-id-2\" class=\"sk-top-container\"><div class=\"sk-text-repr-fallback\"><pre>RandomForestClassifier(criterion=&#x27;entropy&#x27;, max_depth=11, max_features=&#x27;auto&#x27;,\n",
              "                       min_samples_leaf=2, min_samples_split=3,\n",
              "                       n_estimators=130)</pre><b>In a Jupyter environment, please rerun this cell to show the HTML representation or trust the notebook. <br />On GitHub, the HTML representation is unable to render, please try loading this page with nbviewer.org.</b></div><div class=\"sk-container\" hidden><div class=\"sk-item\"><div class=\"sk-estimator sk-toggleable\"><input class=\"sk-toggleable__control sk-hidden--visually\" id=\"sk-estimator-id-2\" type=\"checkbox\" checked><label for=\"sk-estimator-id-2\" class=\"sk-toggleable__label sk-toggleable__label-arrow\">RandomForestClassifier</label><div class=\"sk-toggleable__content\"><pre>RandomForestClassifier(criterion=&#x27;entropy&#x27;, max_depth=11, max_features=&#x27;auto&#x27;,\n",
              "                       min_samples_leaf=2, min_samples_split=3,\n",
              "                       n_estimators=130)</pre></div></div></div></div></div>"
            ]
          },
          "metadata": {},
          "execution_count": 56
        }
      ]
    },
    {
      "cell_type": "markdown",
      "source": [
        "2"
      ],
      "metadata": {
        "id": "129vURPwmOHG"
      }
    },
    {
      "cell_type": "code",
      "source": [
        "from sklearn.ensemble import RandomForestClassifier\n",
        "\n",
        "#rand_clf = RandomForestClassifier(criterion = 'gini', max_depth = 4, max_features = 'auto', min_samples_leaf = 2, min_samples_split = 3, n_estimators = 10)\n",
        "#rand_clf.fit(X_train, y_train) # map"
      ],
      "metadata": {
        "id": "kAOaeI3hmOz2"
      },
      "execution_count": 57,
      "outputs": []
    },
    {
      "cell_type": "code",
      "source": [
        "y_pred = rand_clf.predict(X_test)"
      ],
      "metadata": {
        "id": "oxbB4TlG3Pu0"
      },
      "execution_count": 58,
      "outputs": []
    },
    {
      "cell_type": "code",
      "source": [
        "y_pred"
      ],
      "metadata": {
        "colab": {
          "base_uri": "https://localhost:8080/"
        },
        "id": "YP2QBbZS3SrC",
        "outputId": "a4d284a9-118c-45b6-f4c4-905d129c838f"
      },
      "execution_count": 59,
      "outputs": [
        {
          "output_type": "execute_result",
          "data": {
            "text/plain": [
              "array([1, 1, 1, 1, 1, 1, 1, 1, 1, 1, 1, 1, 1, 1, 1, 1, 1, 1, 1, 0, 0, 0,\n",
              "       1, 1, 1, 1, 1, 1, 1, 1, 1, 1, 1, 1, 1, 1, 1, 0, 0, 0, 0, 0, 1, 1,\n",
              "       0, 1, 0, 1, 0, 0, 0, 0, 0, 1, 1, 0, 1, 1, 0, 0, 0, 0, 1, 0, 1, 1,\n",
              "       0, 0, 0, 0, 1, 0, 1, 0, 0, 1, 0, 1, 1, 0, 0, 0, 1, 1, 0, 1, 0, 1,\n",
              "       0, 0, 0, 0, 0, 0, 1, 1, 0, 0, 0, 0, 0, 0, 0, 0, 0, 1, 0, 0, 1, 0,\n",
              "       0, 0, 0, 0])"
            ]
          },
          "metadata": {},
          "execution_count": 59
        }
      ]
    },
    {
      "cell_type": "code",
      "source": [
        "# accuracy score\n",
        "\n",
        "print(accuracy_score(y_train, rand_clf.predict(X_train)))\n",
        "\n",
        "ran_clf_acc = accuracy_score(y_test, y_pred)\n",
        "print(ran_clf_acc)"
      ],
      "metadata": {
        "colab": {
          "base_uri": "https://localhost:8080/"
        },
        "id": "-V_e5m3D3WqQ",
        "outputId": "9789922c-c206-40ee-fb40-8f4f775bb2f9"
      },
      "execution_count": 60,
      "outputs": [
        {
          "output_type": "stream",
          "name": "stdout",
          "text": [
            "1.0\n",
            "0.9122807017543859\n"
          ]
        }
      ]
    },
    {
      "cell_type": "code",
      "source": [
        "from sklearn.metrics import confusion_matrix"
      ],
      "metadata": {
        "id": "GPquFjb03ceE"
      },
      "execution_count": 61,
      "outputs": []
    },
    {
      "cell_type": "code",
      "source": [
        "# confusion matrix\n",
        "\n",
        "print(confusion_matrix(y_test, y_pred))"
      ],
      "metadata": {
        "colab": {
          "base_uri": "https://localhost:8080/"
        },
        "id": "RaAKKC-Y3g1j",
        "outputId": "ddeb9f1d-f065-41a9-ce79-6ee38e8a318a"
      },
      "execution_count": 62,
      "outputs": [
        {
          "output_type": "stream",
          "name": "stdout",
          "text": [
            "[[46  0]\n",
            " [10 58]]\n"
          ]
        }
      ]
    },
    {
      "cell_type": "code",
      "source": [
        "from sklearn.metrics import classification_report"
      ],
      "metadata": {
        "id": "8Zc53KAM3jtk"
      },
      "execution_count": 63,
      "outputs": []
    },
    {
      "cell_type": "code",
      "source": [
        "# classification report\n",
        "\n",
        "print(classification_report(y_test, y_pred))"
      ],
      "metadata": {
        "colab": {
          "base_uri": "https://localhost:8080/"
        },
        "id": "nA1twamF3nCH",
        "outputId": "24af282c-d97f-40d3-cfa7-73c7f06a5f13"
      },
      "execution_count": 64,
      "outputs": [
        {
          "output_type": "stream",
          "name": "stdout",
          "text": [
            "              precision    recall  f1-score   support\n",
            "\n",
            "           0       0.82      1.00      0.90        46\n",
            "           1       1.00      0.85      0.92        68\n",
            "\n",
            "    accuracy                           0.91       114\n",
            "   macro avg       0.91      0.93      0.91       114\n",
            "weighted avg       0.93      0.91      0.91       114\n",
            "\n"
          ]
        }
      ]
    },
    {
      "cell_type": "markdown",
      "source": [
        "# validate set "
      ],
      "metadata": {
        "id": "zfDa5NRixRMT"
      }
    },
    {
      "cell_type": "code",
      "source": [
        "y_pred_val = rand_clf.predict(X_val)\n",
        "cm_val = confusion_matrix(y_val, y_pred_val)\n",
        "print('Confusion Matrix')\n",
        "print('-'*16)\n",
        "print(cm_val,'\\n')\n",
        "print('-'*16)\n"
      ],
      "metadata": {
        "colab": {
          "base_uri": "https://localhost:8080/"
        },
        "id": "NUVg8Q-DyRj6",
        "outputId": "83704229-f209-49e3-e167-0160f41975bd"
      },
      "execution_count": 65,
      "outputs": [
        {
          "output_type": "stream",
          "name": "stdout",
          "text": [
            "Confusion Matrix\n",
            "----------------\n",
            "[[59  7]\n",
            " [ 1 24]] \n",
            "\n",
            "----------------\n"
          ]
        }
      ]
    },
    {
      "cell_type": "code",
      "source": [
        " # Calculate score\n",
        "sen_val = sensitivity(cm_val)\n",
        "spec_val = specificity(cm_val)\n",
        "acc_val = accuracy(cm_val)\n",
        "pre_val = precision(cm_val)\n",
        "f1_val = f1(cm_val)"
      ],
      "metadata": {
        "colab": {
          "base_uri": "https://localhost:8080/"
        },
        "id": "jnO_Rtwtwnxi",
        "outputId": "97e81fcf-8f76-42b2-acb7-8644471916c3"
      },
      "execution_count": 66,
      "outputs": [
        {
          "output_type": "stream",
          "name": "stdout",
          "text": [
            "Sensitivity: 96.00%\n",
            "Specificity: 89.39%\n",
            "Accuracy: 91.21%\n",
            "Precision: 77.42%\n",
            "Sensitivity: 96.00%\n",
            "Precision: 77.42%\n",
            "F1: 85.71%\n"
          ]
        }
      ]
    },
    {
      "cell_type": "code",
      "source": [
        "class_names = ['benign','malignant']\n",
        "# Normalize confusion matrix to percentage\n",
        "cm_norm_val = cm_val.astype('float') / cm_val.sum(axis=1)[:, np.newaxis]\n",
        "# Create plot\n",
        "fig, ax = plt.subplots()\n",
        "im = ax.imshow(cm_norm_val, interpolation='nearest', cmap=\"rocket_r\")\n",
        "ax.grid(False)\n",
        "# Add labels\n",
        "ax.set(xticks=np.arange(cm_norm_val.shape[1]),\n",
        "       yticks=np.arange(cm_norm_val.shape[0]),\n",
        "       xticklabels=class_names, yticklabels=class_names)\n",
        "ax.set_title(\"Validate set\", fontsize=16)\n",
        "ax.set_ylabel('Actual', fontsize=16)\n",
        "ax.set_xlabel('Predicted', fontsize=16)\n",
        "# Add percentage and count values inside plot\n",
        "thresh = cm_norm_val.max() / 2.\n",
        "for i in range(cm_norm_val.shape[0]):\n",
        "    for j in range(cm_norm_val.shape[1]):\n",
        "        ax.text(j, i, '''{}\\n({:.2f}%)'''.format(cm_val[i,j], cm_norm_val[i, j]*100),\n",
        "                ha=\"center\", va=\"center\",\n",
        "                color=\"white\" if cm_norm_val[i, j] > thresh else \"black\")\n",
        "# Show plot\n",
        "plt.show()"
      ],
      "metadata": {
        "colab": {
          "base_uri": "https://localhost:8080/",
          "height": 480
        },
        "id": "6HKvAvGDxR6g",
        "outputId": "21158e55-e162-44c4-c2af-2f977777ef66"
      },
      "execution_count": 67,
      "outputs": [
        {
          "output_type": "display_data",
          "data": {
            "text/plain": [
              "<Figure size 640x480 with 1 Axes>"
            ],
            "image/png": "[encoded data removed]"
          },
          "metadata": {}
        }
      ]
    },
    {
      "cell_type": "markdown",
      "source": [
        "# test set"
      ],
      "metadata": {
        "id": "qgTUt2wa0Wh4"
      }
    },
    {
      "cell_type": "code",
      "source": [
        "y_pred_test = rand_clf.predict(X_test)\n",
        "# Confusion matrix\n",
        "cm_test = confusion_matrix(y_test, y_pred_test)\n",
        "print('Confusion Matrix')\n",
        "print('-'*16)\n",
        "print(cm_test,'\\n')\n",
        "print('-'*16)"
      ],
      "metadata": {
        "colab": {
          "base_uri": "https://localhost:8080/"
        },
        "id": "eAKyKCDR0XQg",
        "outputId": "bcc0494a-9f73-4298-b1a7-27bfab19b939"
      },
      "execution_count": 68,
      "outputs": [
        {
          "output_type": "stream",
          "name": "stdout",
          "text": [
            "Confusion Matrix\n",
            "----------------\n",
            "[[46  0]\n",
            " [10 58]] \n",
            "\n",
            "----------------\n"
          ]
        }
      ]
    },
    {
      "cell_type": "code",
      "source": [
        "# Calculate score\n",
        "sen_test_split1 = sensitivity(cm_test)\n",
        "spec_test_split1 = specificity(cm_test)\n",
        "acc_test_split1 = accuracy(cm_test)\n",
        "pre_test_split1 = precision(cm_test)\n",
        "f1_test_split1 = f1(cm_test)"
      ],
      "metadata": {
        "colab": {
          "base_uri": "https://localhost:8080/"
        },
        "id": "BR5f-tCR1Kjf",
        "outputId": "045f3eef-f17a-4480-ac93-9844ed1f34d2"
      },
      "execution_count": 69,
      "outputs": [
        {
          "output_type": "stream",
          "name": "stdout",
          "text": [
            "Sensitivity: 85.29%\n",
            "Specificity: 100.00%\n",
            "Accuracy: 91.23%\n",
            "Precision: 100.00%\n",
            "Sensitivity: 85.29%\n",
            "Precision: 100.00%\n",
            "F1: 92.06%\n"
          ]
        }
      ]
    },
    {
      "cell_type": "code",
      "source": [
        "# plot confusion matrix\n",
        "class_names = ['benign','malignant']\n",
        "# Normalize confusion matrix to percentage\n",
        "cm_norm_test = cm_test.astype('float') / cm_test.sum(axis=1)[:, np.newaxis]\n",
        "# Create plot\n",
        "fig, ax = plt.subplots()\n",
        "im = ax.imshow(cm_norm_test, interpolation='nearest', cmap=\"rocket_r\")\n",
        "ax.grid(False)\n",
        "# Add labels\n",
        "ax.set(xticks=np.arange(cm_norm_test.shape[1]),\n",
        "       yticks=np.arange(cm_norm_test.shape[0]),\n",
        "       xticklabels=class_names, yticklabels=class_names)\n",
        "ax.set_title(\"Test set\", fontsize=16)\n",
        "ax.set_ylabel('Actual', fontsize=16)\n",
        "ax.set_xlabel('Predicted', fontsize=16)\n",
        "# Add percentage and count values inside plot\n",
        "thresh = cm_norm_test.max() / 2.\n",
        "for i in range(cm_norm_test.shape[0]):\n",
        "    for j in range(cm_norm_test.shape[1]):\n",
        "        ax.text(j, i, '''{}\\n({:.2f}%)'''.format(cm_test[i,j], cm_norm_test[i, j]*100),\n",
        "                ha=\"center\", va=\"center\",\n",
        "                color=\"white\" if cm_norm_test[i, j] > thresh else \"black\")\n",
        "# Show plot\n",
        "plt.show()"
      ],
      "metadata": {
        "colab": {
          "base_uri": "https://localhost:8080/",
          "height": 480
        },
        "id": "P-kNdcnO1Qb0",
        "outputId": "103f0144-9b36-4b9f-a21b-787546a52e7f"
      },
      "execution_count": 70,
      "outputs": [
        {
          "output_type": "display_data",
          "data": {
            "text/plain": [
              "<Figure size 640x480 with 1 Axes>"
            ],
            "image/png": "[encoded data removed]"
          },
          "metadata": {}
        }
      ]
    },
    {
      "cell_type": "markdown",
      "source": [
        "# plot ROC curve"
      ],
      "metadata": {
        "id": "JO9vY9bs1-7M"
      }
    },
    {
      "cell_type": "code",
      "source": [
        "fpr1, tpr1, thr1 = roc_curve(y_val, y_pred_val)\n",
        "auc_val = roc_auc_score(y_val, y_pred_val)\n",
        "fpr2, tpr2, thr2 = roc_curve(y_test, y_pred_test)\n",
        "auc_test_split3 = roc_auc_score(y_test, y_pred_test)\n",
        "\n",
        "print(\"---------------------------------------\")\n",
        "print(\"AUC validate: %.4f\" % auc_val)\n",
        "print(\"AUC test: %.4f\" % auc_test_split3)"
      ],
      "metadata": {
        "colab": {
          "base_uri": "https://localhost:8080/"
        },
        "id": "uw2dSHwR1cM9",
        "outputId": "38884e33-5222-4606-a577-4c4574ff74fc"
      },
      "execution_count": 71,
      "outputs": [
        {
          "output_type": "stream",
          "name": "stdout",
          "text": [
            "---------------------------------------\n",
            "AUC validate: 0.9270\n",
            "AUC test: 0.9265\n"
          ]
        }
      ]
    },
    {
      "cell_type": "code",
      "source": [
        "# plt.plot(fpr,tpr,label=\"data 1, auc=\"+str(auc),color='red')\n",
        "plt.plot(fpr1,tpr1,label=\"ROC valid, auc=\"+str(\"%.4f\" % auc_val))\n",
        "plt.plot(fpr2,tpr2,label=\"ROC test, auc=\"+str(\"%.4f\" % auc_test_split3))\n",
        "plt.plot([0, 1], [0, 1], linestyle=\"--\", lw=2, color=\"r\", label=\"Chance\", alpha=0.8)\n",
        "plt.legend(loc=4)\n",
        "plt.show()"
      ],
      "metadata": {
        "colab": {
          "base_uri": "https://localhost:8080/",
          "height": 430
        },
        "id": "ktJ3K1qN192U",
        "outputId": "8525a7c2-97c4-4cbf-9df8-11bd0f5b6c7b"
      },
      "execution_count": 72,
      "outputs": [
        {
          "output_type": "display_data",
          "data": {
            "text/plain": [
              "<Figure size 640x480 with 1 Axes>"
            ],
            "image/png": "[encoded data removed]"
          },
          "metadata": {}
        }
      ]
    }
  ]
}