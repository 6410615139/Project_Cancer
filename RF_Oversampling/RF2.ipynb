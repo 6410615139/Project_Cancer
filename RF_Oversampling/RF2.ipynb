{
  "nbformat": 4,
  "nbformat_minor": 0,
  "metadata": {
    "colab": {
      "provenance": []
    },
    "kernelspec": {
      "name": "python3",
      "display_name": "Python 3"
    },
    "language_info": {
      "name": "python"
    }
  },
  "cells": [
    {
      "cell_type": "code",
      "execution_count": 37,
      "metadata": {
        "id": "Bby0ZKEXxeMC"
      },
      "outputs": [],
      "source": [
        "import pandas as pd\n",
        "import matplotlib.pyplot as plt\n",
        "import numpy as np\n",
        "import seaborn as sns\n",
        "\n",
        "# import accuracy score function\n",
        "from sklearn.metrics import accuracy_score\n",
        "from sklearn.preprocessing import LabelEncoder\n",
        "from sklearn.metrics import confusion_matrix, roc_curve, roc_auc_score"
      ]
    },
    {
      "cell_type": "markdown",
      "source": [
        "function"
      ],
      "metadata": {
        "id": "qEaPB42dLPXd"
      }
    },
    {
      "cell_type": "code",
      "source": [
        "# # tn, fp, fn, tp = each_index(cm)\n",
        "def each_index(metrix):\n",
        "    TN = metrix[0][0]\n",
        "    FP = metrix[0][1]\n",
        "    FN = metrix[1][0]\n",
        "    TP = metrix[1][1]\n",
        "    return TN, FP, FN, TP"
      ],
      "metadata": {
        "id": "67-2PNSlLRDA"
      },
      "execution_count": 38,
      "outputs": []
    },
    {
      "cell_type": "code",
      "source": [
        "def sensitivity(metrix):\n",
        "    TN, FP, FN, TP = each_index(metrix)\n",
        "    # Calculate sensitivity\n",
        "    sensitivity = TP / (TP + FN) * 100\n",
        "    print(\"Sensitivity: %.2f%%\" % sensitivity)\n",
        "    return sensitivity"
      ],
      "metadata": {
        "id": "xi0cGcZ7LTQI"
      },
      "execution_count": 39,
      "outputs": []
    },
    {
      "cell_type": "code",
      "source": [
        "def specificity(metrix):\n",
        "    TN, FP, FN, TP = each_index(metrix)\n",
        "    # Calculate specificity\n",
        "    specificity = TN / (TN + FP) * 100\n",
        "    print(\"Specificity: %.2f%%\" % specificity)\n",
        "    return specificity"
      ],
      "metadata": {
        "id": "gNKWILsuLWQv"
      },
      "execution_count": 40,
      "outputs": []
    },
    {
      "cell_type": "code",
      "source": [
        "def accuracy(metrix):\n",
        "    TN, FP, FN, TP = each_index(metrix)\n",
        "    # Calculate accuracy\n",
        "    accuracy = ((TP + TN) / (TP + TN + FP + FN)) *100\n",
        "    print(\"Accuracy: %.2f%%\" % accuracy)\n",
        "    return accuracy"
      ],
      "metadata": {
        "id": "68Ht_9bGLYOX"
      },
      "execution_count": 41,
      "outputs": []
    },
    {
      "cell_type": "code",
      "source": [
        "def precision(metrix):\n",
        "    TN, FP, FN, TP = each_index(metrix)\n",
        "    # Calculate accuracy\n",
        "    precision = (TP / (TP + FP)) *100\n",
        "    print(\"Precision: %.2f%%\" % precision)\n",
        "    return precision"
      ],
      "metadata": {
        "id": "YjTUDfu3LbcQ"
      },
      "execution_count": 42,
      "outputs": []
    },
    {
      "cell_type": "code",
      "source": [
        "def f1(metrix):\n",
        "    TN, FP, FN, TP = each_index(metrix)\n",
        "    # Calculate f1\n",
        "    recall = sensitivity(metrix)\n",
        "    pre = precision(metrix)\n",
        "    f1 = ((2*pre*recall) / (pre+recall))\n",
        "    print(\"F1: %.2f%%\" % f1)\n",
        "    return f1"
      ],
      "metadata": {
        "id": "K81i6q_HLbdz"
      },
      "execution_count": 43,
      "outputs": []
    },
    {
      "cell_type": "markdown",
      "source": [
        "Training set"
      ],
      "metadata": {
        "id": "n89sCmbJxv9O"
      }
    },
    {
      "cell_type": "code",
      "source": [
        "train_data = pd.read_csv(\"oversampled_train_split2.csv\")\n",
        "train_data.shape"
      ],
      "metadata": {
        "colab": {
          "base_uri": "https://localhost:8080/"
        },
        "id": "ogs-c5NUxt0V",
        "outputId": "2d19ce3c-0618-4017-9d0f-43d85cd194a8"
      },
      "execution_count": 44,
      "outputs": [
        {
          "output_type": "execute_result",
          "data": {
            "text/plain": [
              "(516, 32)"
            ]
          },
          "metadata": {},
          "execution_count": 44
        }
      ]
    },
    {
      "cell_type": "code",
      "source": [
        "x_train = train_data[train_data.columns[2:]]\n",
        "x_train.shape"
      ],
      "metadata": {
        "colab": {
          "base_uri": "https://localhost:8080/"
        },
        "id": "RhPPmTHZxybt",
        "outputId": "ebb0ddbc-df67-4c51-954a-67097be368c4"
      },
      "execution_count": 45,
      "outputs": [
        {
          "output_type": "execute_result",
          "data": {
            "text/plain": [
              "(516, 30)"
            ]
          },
          "metadata": {},
          "execution_count": 45
        }
      ]
    },
    {
      "cell_type": "code",
      "source": [
        "y_train = train_data[train_data.columns[1]]\n",
        "#y_train.shape\n",
        "le = LabelEncoder()\n",
        "y_train = np.array(le.fit_transform(y_train))\n",
        "print(le.classes_)"
      ],
      "metadata": {
        "colab": {
          "base_uri": "https://localhost:8080/"
        },
        "id": "qUoxW9Fux3I4",
        "outputId": "85af7a07-cda5-4f61-e91f-23895936c0e7"
      },
      "execution_count": 46,
      "outputs": [
        {
          "output_type": "stream",
          "name": "stdout",
          "text": [
            "['B' 'M']\n"
          ]
        }
      ]
    },
    {
      "cell_type": "markdown",
      "source": [
        "Testing set"
      ],
      "metadata": {
        "id": "8zwegH8kx6F_"
      }
    },
    {
      "cell_type": "code",
      "source": [
        "test_data = pd.read_csv(\"test.csv\")\n",
        "test_data.shape"
      ],
      "metadata": {
        "colab": {
          "base_uri": "https://localhost:8080/"
        },
        "id": "KfGyEEtGx8LW",
        "outputId": "1e45c7c5-b901-4137-de34-c4e498fa8084"
      },
      "execution_count": 47,
      "outputs": [
        {
          "output_type": "execute_result",
          "data": {
            "text/plain": [
              "(114, 33)"
            ]
          },
          "metadata": {},
          "execution_count": 47
        }
      ]
    },
    {
      "cell_type": "code",
      "source": [
        "x_test = test_data[test_data.columns[3:]]\n",
        "x_test.shape"
      ],
      "metadata": {
        "colab": {
          "base_uri": "https://localhost:8080/"
        },
        "id": "JO6rEkhGx_Ye",
        "outputId": "a1b0f86f-0c23-4a8c-d8ef-4136ad4904ea"
      },
      "execution_count": 48,
      "outputs": [
        {
          "output_type": "execute_result",
          "data": {
            "text/plain": [
              "(114, 30)"
            ]
          },
          "metadata": {},
          "execution_count": 48
        }
      ]
    },
    {
      "cell_type": "code",
      "source": [
        "y_test = test_data[test_data.columns[2]]\n",
        "#y_test.shape\n",
        "le = LabelEncoder()\n",
        "y_test = np.array(le.fit_transform(y_test))\n",
        "print(le.classes_)"
      ],
      "metadata": {
        "colab": {
          "base_uri": "https://localhost:8080/"
        },
        "id": "c2cP15rlyBLD",
        "outputId": "d0dbbac3-a169-4e5b-fdca-be82cca16239"
      },
      "execution_count": 49,
      "outputs": [
        {
          "output_type": "stream",
          "name": "stdout",
          "text": [
            "['B' 'M']\n"
          ]
        }
      ]
    },
    {
      "cell_type": "markdown",
      "source": [
        "Validation set"
      ],
      "metadata": {
        "id": "0fd4p3xhyDAs"
      }
    },
    {
      "cell_type": "code",
      "source": [
        "val_data = pd.read_csv(\"val_split2.csv\")\n",
        "val_data.shape"
      ],
      "metadata": {
        "colab": {
          "base_uri": "https://localhost:8080/"
        },
        "id": "DVFa4euKyFDj",
        "outputId": "e0876aa8-5caa-431e-c8cd-36a85a41c5b3"
      },
      "execution_count": 50,
      "outputs": [
        {
          "output_type": "execute_result",
          "data": {
            "text/plain": [
              "(91, 32)"
            ]
          },
          "metadata": {},
          "execution_count": 50
        }
      ]
    },
    {
      "cell_type": "code",
      "source": [
        "x_val = val_data[val_data.columns[2:]]\n",
        "x_val.shape"
      ],
      "metadata": {
        "colab": {
          "base_uri": "https://localhost:8080/"
        },
        "id": "RIV9nfHEyG2_",
        "outputId": "d3531a8b-5610-4a4f-fa9a-fea8d01e7056"
      },
      "execution_count": 51,
      "outputs": [
        {
          "output_type": "execute_result",
          "data": {
            "text/plain": [
              "(91, 30)"
            ]
          },
          "metadata": {},
          "execution_count": 51
        }
      ]
    },
    {
      "cell_type": "code",
      "source": [
        "y_val = val_data[val_data.columns[1]]\n",
        "#y_val.shape\n",
        "le = LabelEncoder()\n",
        "y_val = np.array(le.fit_transform(y_val))\n",
        "print(le.classes_)"
      ],
      "metadata": {
        "colab": {
          "base_uri": "https://localhost:8080/"
        },
        "id": "eW5pNojOyJzs",
        "outputId": "08a102be-3b14-4e63-9dd4-bae016a8b9de"
      },
      "execution_count": 52,
      "outputs": [
        {
          "output_type": "stream",
          "name": "stdout",
          "text": [
            "['B' 'M']\n"
          ]
        }
      ]
    },
    {
      "cell_type": "markdown",
      "source": [
        "-"
      ],
      "metadata": {
        "id": "qRprjjzIyMo4"
      }
    },
    {
      "cell_type": "code",
      "source": [
        "x_train = x_train.to_numpy()\n",
        "x_test = x_test.to_numpy()\n",
        "x_val = x_val.to_numpy() "
      ],
      "metadata": {
        "id": "bUWHBzMryNTR"
      },
      "execution_count": 53,
      "outputs": []
    },
    {
      "cell_type": "code",
      "source": [
        "from sklearn.model_selection import train_test_split\n",
        "\n",
        "print(\"Shape of training set:\", x_train.shape)\n",
        "print(\"Shape of test set:\", x_test.shape)\n"
      ],
      "metadata": {
        "colab": {
          "base_uri": "https://localhost:8080/"
        },
        "id": "vlgDnlGHyPdi",
        "outputId": "3d4bcb44-8844-442d-f044-7607645a27ae"
      },
      "execution_count": 54,
      "outputs": [
        {
          "output_type": "stream",
          "name": "stdout",
          "text": [
            "Shape of training set: (516, 30)\n",
            "Shape of test set: (114, 30)\n"
          ]
        }
      ]
    },
    {
      "cell_type": "code",
      "source": [
        "from sklearn.preprocessing import StandardScaler\n",
        "\n",
        "ss = StandardScaler()\n",
        "X_train = ss.fit_transform(x_train)\n",
        "X_test = ss.fit_transform(x_test)\n",
        "X_val = ss.fit_transform(x_val) "
      ],
      "metadata": {
        "id": "2t1lRZsFyRj1"
      },
      "execution_count": 55,
      "outputs": []
    },
    {
      "cell_type": "markdown",
      "source": [
        "# Random Forest Classifier"
      ],
      "metadata": {
        "id": "MfUuh6UC0-2q"
      }
    },
    {
      "cell_type": "markdown",
      "source": [
        "แบบ 1"
      ],
      "metadata": {
        "id": "FHnBE1Kcl32D"
      }
    },
    {
      "cell_type": "code",
      "source": [
        "from sklearn.ensemble import RandomForestClassifier\n",
        "\n",
        "#rand_clf = RandomForestClassifier(criterion = 'entropy', max_depth = 11, max_features = 'auto', min_samples_leaf = 2, min_samples_split = 3, n_estimators = 130)\n",
        "#rand_clf.fit(X_train, y_train) # map"
      ],
      "metadata": {
        "id": "WYicU1Mg1BYq"
      },
      "execution_count": 56,
      "outputs": []
    },
    {
      "cell_type": "markdown",
      "source": [
        "แบบ 2"
      ],
      "metadata": {
        "id": "6WLYo8Dwl7z7"
      }
    },
    {
      "cell_type": "code",
      "source": [
        "from sklearn.ensemble import RandomForestClassifier\n",
        "\n",
        "rand_clf = RandomForestClassifier(criterion = 'gini', max_depth = 4, max_features = 'auto', min_samples_leaf = 2, min_samples_split = 3, n_estimators = 10)\n",
        "rand_clf.fit(X_train, y_train) # map"
      ],
      "metadata": {
        "id": "XI00bf4VjhiT",
        "colab": {
          "base_uri": "https://localhost:8080/",
          "height": 145
        },
        "outputId": "af1d71fb-3284-4e9d-dd2b-c4c14f26e844"
      },
      "execution_count": 57,
      "outputs": [
        {
          "output_type": "stream",
          "name": "stderr",
          "text": [
            "/usr/local/lib/python3.9/dist-packages/sklearn/ensemble/_forest.py:424: FutureWarning: `max_features='auto'` has been deprecated in 1.1 and will be removed in 1.3. To keep the past behaviour, explicitly set `max_features='sqrt'` or remove this parameter as it is also the default value for RandomForestClassifiers and ExtraTreesClassifiers.\n",
            "  warn(\n"
          ]
        },
        {
          "output_type": "execute_result",
          "data": {
            "text/plain": [
              "RandomForestClassifier(max_depth=4, max_features='auto', min_samples_leaf=2,\n",
              "                       min_samples_split=3, n_estimators=10)"
            ],
            "text/html": [
              "<style>#sk-container-id-2 {color: black;background-color: white;}#sk-container-id-2 pre{padding: 0;}#sk-container-id-2 div.sk-toggleable {background-color: white;}#sk-container-id-2 label.sk-toggleable__label {cursor: pointer;display: block;width: 100%;margin-bottom: 0;padding: 0.3em;box-sizing: border-box;text-align: center;}#sk-container-id-2 label.sk-toggleable__label-arrow:before {content: \"▸\";float: left;margin-right: 0.25em;color: #696969;}#sk-container-id-2 label.sk-toggleable__label-arrow:hover:before {color: black;}#sk-container-id-2 div.sk-estimator:hover label.sk-toggleable__label-arrow:before {color: black;}#sk-container-id-2 div.sk-toggleable__content {max-height: 0;max-width: 0;overflow: hidden;text-align: left;background-color: #f0f8ff;}#sk-container-id-2 div.sk-toggleable__content pre {margin: 0.2em;color: black;border-radius: 0.25em;background-color: #f0f8ff;}#sk-container-id-2 input.sk-toggleable__control:checked~div.sk-toggleable__content {max-height: 200px;max-width: 100%;overflow: auto;}#sk-container-id-2 input.sk-toggleable__control:checked~label.sk-toggleable__label-arrow:before {content: \"▾\";}#sk-container-id-2 div.sk-estimator input.sk-toggleable__control:checked~label.sk-toggleable__label {background-color: #d4ebff;}#sk-container-id-2 div.sk-label input.sk-toggleable__control:checked~label.sk-toggleable__label {background-color: #d4ebff;}#sk-container-id-2 input.sk-hidden--visually {border: 0;clip: rect(1px 1px 1px 1px);clip: rect(1px, 1px, 1px, 1px);height: 1px;margin: -1px;overflow: hidden;padding: 0;position: absolute;width: 1px;}#sk-container-id-2 div.sk-estimator {font-family: monospace;background-color: #f0f8ff;border: 1px dotted black;border-radius: 0.25em;box-sizing: border-box;margin-bottom: 0.5em;}#sk-container-id-2 div.sk-estimator:hover {background-color: #d4ebff;}#sk-container-id-2 div.sk-parallel-item::after {content: \"\";width: 100%;border-bottom: 1px solid gray;flex-grow: 1;}#sk-container-id-2 div.sk-label:hover label.sk-toggleable__label {background-color: #d4ebff;}#sk-container-id-2 div.sk-serial::before {content: \"\";position: absolute;border-left: 1px solid gray;box-sizing: border-box;top: 0;bottom: 0;left: 50%;z-index: 0;}#sk-container-id-2 div.sk-serial {display: flex;flex-direction: column;align-items: center;background-color: white;padding-right: 0.2em;padding-left: 0.2em;position: relative;}#sk-container-id-2 div.sk-item {position: relative;z-index: 1;}#sk-container-id-2 div.sk-parallel {display: flex;align-items: stretch;justify-content: center;background-color: white;position: relative;}#sk-container-id-2 div.sk-item::before, #sk-container-id-2 div.sk-parallel-item::before {content: \"\";position: absolute;border-left: 1px solid gray;box-sizing: border-box;top: 0;bottom: 0;left: 50%;z-index: -1;}#sk-container-id-2 div.sk-parallel-item {display: flex;flex-direction: column;z-index: 1;position: relative;background-color: white;}#sk-container-id-2 div.sk-parallel-item:first-child::after {align-self: flex-end;width: 50%;}#sk-container-id-2 div.sk-parallel-item:last-child::after {align-self: flex-start;width: 50%;}#sk-container-id-2 div.sk-parallel-item:only-child::after {width: 0;}#sk-container-id-2 div.sk-dashed-wrapped {border: 1px dashed gray;margin: 0 0.4em 0.5em 0.4em;box-sizing: border-box;padding-bottom: 0.4em;background-color: white;}#sk-container-id-2 div.sk-label label {font-family: monospace;font-weight: bold;display: inline-block;line-height: 1.2em;}#sk-container-id-2 div.sk-label-container {text-align: center;}#sk-container-id-2 div.sk-container {/* jupyter's `normalize.less` sets `[hidden] { display: none; }` but bootstrap.min.css set `[hidden] { display: none !important; }` so we also need the `!important` here to be able to override the default hidden behavior on the sphinx rendered scikit-learn.org. See: https://github.com/scikit-learn/scikit-learn/issues/21755 */display: inline-block !important;position: relative;}#sk-container-id-2 div.sk-text-repr-fallback {display: none;}</style><div id=\"sk-container-id-2\" class=\"sk-top-container\"><div class=\"sk-text-repr-fallback\"><pre>RandomForestClassifier(max_depth=4, max_features=&#x27;auto&#x27;, min_samples_leaf=2,\n",
              "                       min_samples_split=3, n_estimators=10)</pre><b>In a Jupyter environment, please rerun this cell to show the HTML representation or trust the notebook. <br />On GitHub, the HTML representation is unable to render, please try loading this page with nbviewer.org.</b></div><div class=\"sk-container\" hidden><div class=\"sk-item\"><div class=\"sk-estimator sk-toggleable\"><input class=\"sk-toggleable__control sk-hidden--visually\" id=\"sk-estimator-id-2\" type=\"checkbox\" checked><label for=\"sk-estimator-id-2\" class=\"sk-toggleable__label sk-toggleable__label-arrow\">RandomForestClassifier</label><div class=\"sk-toggleable__content\"><pre>RandomForestClassifier(max_depth=4, max_features=&#x27;auto&#x27;, min_samples_leaf=2,\n",
              "                       min_samples_split=3, n_estimators=10)</pre></div></div></div></div></div>"
            ]
          },
          "metadata": {},
          "execution_count": 57
        }
      ]
    },
    {
      "cell_type": "code",
      "source": [
        "y_pred = rand_clf.predict(X_test)"
      ],
      "metadata": {
        "id": "AAc8A3jY1Iar"
      },
      "execution_count": 58,
      "outputs": []
    },
    {
      "cell_type": "code",
      "source": [
        "y_pred"
      ],
      "metadata": {
        "colab": {
          "base_uri": "https://localhost:8080/"
        },
        "id": "E0ofi2eC1I-t",
        "outputId": "2caeaa9c-47cb-4e9f-85b5-232004146b3d"
      },
      "execution_count": 59,
      "outputs": [
        {
          "output_type": "execute_result",
          "data": {
            "text/plain": [
              "array([1, 0, 1, 1, 1, 1, 1, 1, 1, 1, 0, 1, 1, 0, 1, 1, 1, 1, 1, 0, 0, 0,\n",
              "       1, 1, 1, 1, 1, 1, 1, 1, 1, 1, 1, 1, 1, 1, 0, 0, 0, 0, 0, 0, 1, 1,\n",
              "       0, 1, 0, 1, 0, 0, 0, 0, 0, 1, 1, 0, 1, 1, 0, 0, 0, 0, 1, 0, 1, 1,\n",
              "       0, 0, 0, 0, 1, 0, 1, 0, 0, 1, 0, 1, 1, 0, 0, 0, 1, 1, 0, 1, 0, 1,\n",
              "       0, 0, 0, 1, 0, 0, 1, 1, 0, 0, 0, 1, 0, 0, 0, 0, 0, 1, 0, 0, 1, 0,\n",
              "       0, 0, 0, 0])"
            ]
          },
          "metadata": {},
          "execution_count": 59
        }
      ]
    },
    {
      "cell_type": "code",
      "source": [
        "# accuracy score\n",
        "\n",
        "print(accuracy_score(y_train, rand_clf.predict(X_train)))\n",
        "\n",
        "ran_clf_acc = accuracy_score(y_test, y_pred)\n",
        "print(ran_clf_acc)"
      ],
      "metadata": {
        "colab": {
          "base_uri": "https://localhost:8080/"
        },
        "id": "7rpbwbax1LFR",
        "outputId": "1a8a4fed-0f2e-4437-bff1-93299935b737"
      },
      "execution_count": 60,
      "outputs": [
        {
          "output_type": "stream",
          "name": "stdout",
          "text": [
            "0.9864341085271318\n",
            "0.8947368421052632\n"
          ]
        }
      ]
    },
    {
      "cell_type": "code",
      "source": [
        "from sklearn.metrics import confusion_matrix"
      ],
      "metadata": {
        "id": "o-Se5nlw1PCm"
      },
      "execution_count": 61,
      "outputs": []
    },
    {
      "cell_type": "code",
      "source": [
        "# confusion matrix\n",
        "\n",
        "print(confusion_matrix(y_test, y_pred))"
      ],
      "metadata": {
        "colab": {
          "base_uri": "https://localhost:8080/"
        },
        "id": "yu_w2r7z1Ppi",
        "outputId": "a021fe4e-4ae6-4036-a63f-be24d1959311"
      },
      "execution_count": 62,
      "outputs": [
        {
          "output_type": "stream",
          "name": "stdout",
          "text": [
            "[[46  0]\n",
            " [12 56]]\n"
          ]
        }
      ]
    },
    {
      "cell_type": "code",
      "source": [
        "from sklearn.metrics import classification_report"
      ],
      "metadata": {
        "id": "cyx8VwLR1RXr"
      },
      "execution_count": 63,
      "outputs": []
    },
    {
      "cell_type": "code",
      "source": [
        "# classification report\n",
        "\n",
        "print(classification_report(y_test, y_pred))"
      ],
      "metadata": {
        "colab": {
          "base_uri": "https://localhost:8080/"
        },
        "id": "PIYBbtCU1TJ1",
        "outputId": "15162a60-498b-482c-d1b0-f08f7b02e82d"
      },
      "execution_count": 64,
      "outputs": [
        {
          "output_type": "stream",
          "name": "stdout",
          "text": [
            "              precision    recall  f1-score   support\n",
            "\n",
            "           0       0.79      1.00      0.88        46\n",
            "           1       1.00      0.82      0.90        68\n",
            "\n",
            "    accuracy                           0.89       114\n",
            "   macro avg       0.90      0.91      0.89       114\n",
            "weighted avg       0.92      0.89      0.90       114\n",
            "\n"
          ]
        }
      ]
    },
    {
      "cell_type": "markdown",
      "source": [
        "# validate set"
      ],
      "metadata": {
        "id": "iHMNrWE1M6z7"
      }
    },
    {
      "cell_type": "code",
      "source": [
        "y_pred_val = rand_clf.predict(X_val)\n",
        "cm_val = confusion_matrix(y_val, y_pred_val)\n",
        "print('Confusion Matrix')\n",
        "print('-'*16)\n",
        "print(cm_val,'\\n')\n",
        "print('-'*16)\n"
      ],
      "metadata": {
        "id": "9Xijcr14M7pT",
        "colab": {
          "base_uri": "https://localhost:8080/"
        },
        "outputId": "7a8882e2-5c04-4a42-93ad-a85f88f87535"
      },
      "execution_count": 65,
      "outputs": [
        {
          "output_type": "stream",
          "name": "stdout",
          "text": [
            "Confusion Matrix\n",
            "----------------\n",
            "[[52  1]\n",
            " [ 2 36]] \n",
            "\n",
            "----------------\n"
          ]
        }
      ]
    },
    {
      "cell_type": "code",
      "source": [
        " # Calculate score\n",
        "sen_val = sensitivity(cm_val)\n",
        "spec_val = specificity(cm_val)\n",
        "acc_val = accuracy(cm_val)\n",
        "pre_val = precision(cm_val)\n",
        "f1_val = f1(cm_val)"
      ],
      "metadata": {
        "id": "qYZxLmCyM9an",
        "colab": {
          "base_uri": "https://localhost:8080/"
        },
        "outputId": "b1873f79-48f1-46d5-b4e0-ad5e987cfdac"
      },
      "execution_count": 66,
      "outputs": [
        {
          "output_type": "stream",
          "name": "stdout",
          "text": [
            "Sensitivity: 94.74%\n",
            "Specificity: 98.11%\n",
            "Accuracy: 96.70%\n",
            "Precision: 97.30%\n",
            "Sensitivity: 94.74%\n",
            "Precision: 97.30%\n",
            "F1: 96.00%\n"
          ]
        }
      ]
    },
    {
      "cell_type": "code",
      "source": [
        "class_names = ['benign','malignant']\n",
        "# Normalize confusion matrix to percentage\n",
        "cm_norm_val = cm_val.astype('float') / cm_val.sum(axis=1)[:, np.newaxis]\n",
        "# Create plot\n",
        "fig, ax = plt.subplots()\n",
        "im = ax.imshow(cm_norm_val, interpolation='nearest', cmap=\"rocket_r\")\n",
        "ax.grid(False)\n",
        "# Add labels\n",
        "ax.set(xticks=np.arange(cm_norm_val.shape[1]),\n",
        "       yticks=np.arange(cm_norm_val.shape[0]),\n",
        "       xticklabels=class_names, yticklabels=class_names)\n",
        "ax.set_title(\"Validate set\", fontsize=16)\n",
        "ax.set_ylabel('Actual', fontsize=16)\n",
        "ax.set_xlabel('Predicted', fontsize=16)\n",
        "# Add percentage and count values inside plot\n",
        "thresh = cm_norm_val.max() / 2.\n",
        "for i in range(cm_norm_val.shape[0]):\n",
        "    for j in range(cm_norm_val.shape[1]):\n",
        "        ax.text(j, i, '''{}\\n({:.2f}%)'''.format(cm_val[i,j], cm_norm_val[i, j]*100),\n",
        "                ha=\"center\", va=\"center\",\n",
        "                color=\"white\" if cm_norm_val[i, j] > thresh else \"black\")\n",
        "# Show plot\n",
        "plt.show()"
      ],
      "metadata": {
        "id": "nOcL-f4cNAif",
        "colab": {
          "base_uri": "https://localhost:8080/",
          "height": 480
        },
        "outputId": "506a4f33-3754-462e-d8cb-b595343ffdd5"
      },
      "execution_count": 67,
      "outputs": [
        {
          "output_type": "display_data",
          "data": {
            "text/plain": [
              "<Figure size 640x480 with 1 Axes>"
            ],
            "image/png": "[encoded data removed]"
          },
          "metadata": {}
        }
      ]
    },
    {
      "cell_type": "markdown",
      "source": [
        "# test set"
      ],
      "metadata": {
        "id": "kWTwhA_3NDbp"
      }
    },
    {
      "cell_type": "code",
      "source": [
        "y_pred_test = rand_clf.predict(X_test)\n",
        "# Confusion matrix\n",
        "cm_test = confusion_matrix(y_test, y_pred_test)\n",
        "print('Confusion Matrix')\n",
        "print('-'*16)\n",
        "print(cm_test,'\\n')\n",
        "print('-'*16)"
      ],
      "metadata": {
        "id": "3Zw_rqEaNFfW",
        "colab": {
          "base_uri": "https://localhost:8080/"
        },
        "outputId": "b8a08ea1-c64f-4068-ee27-9f7f7e564a5f"
      },
      "execution_count": 68,
      "outputs": [
        {
          "output_type": "stream",
          "name": "stdout",
          "text": [
            "Confusion Matrix\n",
            "----------------\n",
            "[[46  0]\n",
            " [12 56]] \n",
            "\n",
            "----------------\n"
          ]
        }
      ]
    },
    {
      "cell_type": "code",
      "source": [
        "# Calculate score\n",
        "sen_test_split1 = sensitivity(cm_test)\n",
        "spec_test_split1 = specificity(cm_test)\n",
        "acc_test_split1 = accuracy(cm_test)\n",
        "pre_test_split1 = precision(cm_test)\n",
        "f1_test_split1 = f1(cm_test)"
      ],
      "metadata": {
        "id": "g9y19JuMNHI2",
        "colab": {
          "base_uri": "https://localhost:8080/"
        },
        "outputId": "e1779a64-dec6-404f-99eb-dccc68221888"
      },
      "execution_count": 69,
      "outputs": [
        {
          "output_type": "stream",
          "name": "stdout",
          "text": [
            "Sensitivity: 82.35%\n",
            "Specificity: 100.00%\n",
            "Accuracy: 89.47%\n",
            "Precision: 100.00%\n",
            "Sensitivity: 82.35%\n",
            "Precision: 100.00%\n",
            "F1: 90.32%\n"
          ]
        }
      ]
    },
    {
      "cell_type": "code",
      "source": [
        "# plot confusion matrix\n",
        "class_names = ['benign','malignant']\n",
        "# Normalize confusion matrix to percentage\n",
        "cm_norm_test = cm_test.astype('float') / cm_test.sum(axis=1)[:, np.newaxis]\n",
        "# Create plot\n",
        "fig, ax = plt.subplots()\n",
        "im = ax.imshow(cm_norm_test, interpolation='nearest', cmap=\"rocket_r\")\n",
        "ax.grid(False)\n",
        "# Add labels\n",
        "ax.set(xticks=np.arange(cm_norm_test.shape[1]),\n",
        "       yticks=np.arange(cm_norm_test.shape[0]),\n",
        "       xticklabels=class_names, yticklabels=class_names)\n",
        "ax.set_title(\"Test set\", fontsize=16)\n",
        "ax.set_ylabel('Actual', fontsize=16)\n",
        "ax.set_xlabel('Predicted', fontsize=16)\n",
        "# Add percentage and count values inside plot\n",
        "thresh = cm_norm_test.max() / 2.\n",
        "for i in range(cm_norm_test.shape[0]):\n",
        "    for j in range(cm_norm_test.shape[1]):\n",
        "        ax.text(j, i, '''{}\\n({:.2f}%)'''.format(cm_test[i,j], cm_norm_test[i, j]*100),\n",
        "                ha=\"center\", va=\"center\",\n",
        "                color=\"white\" if cm_norm_test[i, j] > thresh else \"black\")\n",
        "# Show plot\n",
        "plt.show()"
      ],
      "metadata": {
        "id": "Wns1_lZ_NJem",
        "colab": {
          "base_uri": "https://localhost:8080/",
          "height": 480
        },
        "outputId": "96eb083d-94b3-4edf-9fb4-59e293aa9efd"
      },
      "execution_count": 70,
      "outputs": [
        {
          "output_type": "display_data",
          "data": {
            "text/plain": [
              "<Figure size 640x480 with 1 Axes>"
            ],
            "image/png": "[encoded data removed]"
          },
          "metadata": {}
        }
      ]
    },
    {
      "cell_type": "markdown",
      "source": [
        "# plot ROC curve"
      ],
      "metadata": {
        "id": "-S_XTWmcNMVa"
      }
    },
    {
      "cell_type": "code",
      "source": [
        "fpr1, tpr1, thr1 = roc_curve(y_val, y_pred_val)\n",
        "auc_val = roc_auc_score(y_val, y_pred_val)\n",
        "fpr2, tpr2, thr2 = roc_curve(y_test, y_pred_test)\n",
        "auc_test_split2 = roc_auc_score(y_test, y_pred_test)\n",
        "\n",
        "print(\"---------------------------------------\")\n",
        "print(\"AUC validate: %.4f\" % auc_val)\n",
        "print(\"AUC test: %.4f\" % auc_test_split2)"
      ],
      "metadata": {
        "id": "IS_NdHEXNPfb",
        "colab": {
          "base_uri": "https://localhost:8080/"
        },
        "outputId": "277d3278-ad6e-4ac9-ed24-ce83b3d61cb2"
      },
      "execution_count": 71,
      "outputs": [
        {
          "output_type": "stream",
          "name": "stdout",
          "text": [
            "---------------------------------------\n",
            "AUC validate: 0.9643\n",
            "AUC test: 0.9118\n"
          ]
        }
      ]
    },
    {
      "cell_type": "code",
      "source": [
        "# plt.plot(fpr,tpr,label=\"data 1, auc=\"+str(auc),color='red')\n",
        "plt.plot(fpr1,tpr1,label=\"ROC valid, auc=\"+str(\"%.4f\" % auc_val))\n",
        "plt.plot(fpr2,tpr2,label=\"ROC test, auc=\"+str(\"%.4f\" % auc_test_split2))\n",
        "plt.plot([0, 1], [0, 1], linestyle=\"--\", lw=2, color=\"r\", label=\"Chance\", alpha=0.8)\n",
        "plt.legend(loc=4)\n",
        "plt.show()"
      ],
      "metadata": {
        "id": "CN2HIQfeNRXc",
        "colab": {
          "base_uri": "https://localhost:8080/",
          "height": 430
        },
        "outputId": "33b98aea-397f-4a0c-d4ec-4a5f9cb9a22b"
      },
      "execution_count": 72,
      "outputs": [
        {
          "output_type": "display_data",
          "data": {
            "text/plain": [
              "<Figure size 640x480 with 1 Axes>"
            ],
            "image/png": "[encoded data removed]"
          },
          "metadata": {}
        }
      ]
    }
  ]
}