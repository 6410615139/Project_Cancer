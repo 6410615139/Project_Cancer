{
 "cells": [
  {
   "cell_type": "code",
   "execution_count": 1,
   "id": "469948af-ad97-4b41-b0a6-6bf8e9066978",
   "metadata": {},
   "outputs": [],
   "source": [
    "import torch\n",
    "import numpy as np\n",
    "import pandas as pd\n",
    "from sklearn.preprocessing import LabelEncoder\n",
    "from sklearn.model_selection import train_test_split\n",
    "from XBNet.training_utils import training,predict\n",
    "from XBNet.models import XBNETClassifier\n",
    "from XBNet.run import run_XBNET\n",
    "\n",
    "import glob\n",
    "from pandas.core.common import flatten\n",
    "import random"
   ]
  },
  {
   "cell_type": "markdown",
   "id": "96704225-5b29-455f-a333-3dedcadc977c",
   "metadata": {},
   "source": [
    "# set path"
   ]
  },
  {
   "cell_type": "code",
   "execution_count": 2,
   "id": "f79dc333-f178-4292-9a64-bc1913124cee",
   "metadata": {},
   "outputs": [],
   "source": [
    "split = 'split1'\n",
    "path = \"../DATA/\"\n",
    "train_path = \"{}/{}/train/train_{}.csv\".format(path,split,split)\n",
    "test_path =  \"{}/{}/test/test_{}.csv\".format(path,split,split)\n",
    "valid_path = \"{}/{}/val/val_{}.csv\".format(path,split,split)"
   ]
  },
  {
   "cell_type": "code",
   "execution_count": 3,
   "id": "4b2ebf28-c117-49e6-b00d-d91f61584cae",
   "metadata": {},
   "outputs": [
    {
     "name": "stdout",
     "output_type": "stream",
     "text": [
      "../DATA//split1/train/train_split1.csv\n",
      "../DATA//split1/test/test_split1.csv\n",
      "../DATA//split1/val/val_split1.csv\n"
     ]
    }
   ],
   "source": [
    "print(train_path)\n",
    "print(test_path)\n",
    "print(valid_path)"
   ]
  },
  {
   "cell_type": "code",
   "execution_count": 7,
   "id": "5ad2f009-2915-4442-8d24-f16f7dc05950",
   "metadata": {},
   "outputs": [
    {
     "name": "stdout",
     "output_type": "stream",
     "text": [
      "(292, 32)\n",
      "(292, 30)\n",
      "['B' 'M']\n"
     ]
    }
   ],
   "source": [
    "train_data = pd.read_csv(train_path)\n",
    "print(train_data.shape)\n",
    "x_train = train_data[train_data.columns[2:]]\n",
    "print(x_train.shape)\n",
    "y_train = train_data[train_data.columns[1]]\n",
    "le = LabelEncoder()\n",
    "y_train = np.array(le.fit_transform(y_train))\n",
    "print(le.classes_)"
   ]
  },
  {
   "cell_type": "code",
   "execution_count": 9,
   "id": "1679718f-db56-49c4-8df6-ae4a10569776",
   "metadata": {},
   "outputs": [
    {
     "name": "stdout",
     "output_type": "stream",
     "text": [
      "(91, 32)\n",
      "(91, 30)\n",
      "['B' 'M']\n"
     ]
    }
   ],
   "source": [
    "# Load the testing set\n",
    "test_data = pd.read_csv(test_path)\n",
    "print(test_data.shape)\n",
    "x_test = test_data[test_data.columns[2:]]\n",
    "print(x_test.shape)\n",
    "y_test = test_data[test_data.columns[1]]\n",
    "le = LabelEncoder()\n",
    "y_test = np.array(le.fit_transform(y_test))\n",
    "print(le.classes_)"
   ]
  },
  {
   "cell_type": "code",
   "execution_count": 11,
   "id": "a9b76016-00dc-4c88-a461-3d78603e03e5",
   "metadata": {},
   "outputs": [
    {
     "name": "stdout",
     "output_type": "stream",
     "text": [
      "(72, 32)\n",
      "(72, 30)\n",
      "['B' 'M']\n"
     ]
    }
   ],
   "source": [
    "# Load the validation set\n",
    "val_data = pd.read_csv(valid_path)\n",
    "print(val_data.shape)\n",
    "x_val = val_data[val_data.columns[2:]]\n",
    "print(x_val.shape)\n",
    "y_val = val_data[val_data.columns[1]]\n",
    "le = LabelEncoder()\n",
    "y_val = np.array(le.fit_transform(y_val))\n",
    "print(le.classes_)"
   ]
  },
  {
   "cell_type": "code",
   "execution_count": 18,
   "id": "616d5f2c-a13c-4f1a-a014-4acf6d0739d7",
   "metadata": {},
   "outputs": [],
   "source": [
    "x_train = x_train.to_numpy()\n",
    "x_test = x_test.to_numpy()"
   ]
  },
  {
   "cell_type": "code",
   "execution_count": 12,
   "id": "ac4d8221-f8ab-470a-a197-085d398cd98d",
   "metadata": {},
   "outputs": [
    {
     "name": "stdout",
     "output_type": "stream",
     "text": [
      "Enter dimensions of linear layers: \n"
     ]
    },
    {
     "name": "stdin",
     "output_type": "stream",
     "text": [
      "Enter input dimensions of layer 1:  10\n",
      "Enter output dimensions of layer 1:  10\n",
      "Set bias as True or False:  False\n",
      "Enter input dimensions of layer 2:  10\n",
      "Enter output dimensions of layer 2:  10\n",
      "Set bias as True or False:  False\n"
     ]
    },
    {
     "name": "stdout",
     "output_type": "stream",
     "text": [
      "Enter your last layer \n"
     ]
    },
    {
     "name": "stdin",
     "output_type": "stream",
     "text": [
      "1. Sigmoid \n",
      "2. Softmax \n",
      "3. None \n",
      " 3\n"
     ]
    },
    {
     "name": "stderr",
     "output_type": "stream",
     "text": [
      "C:\\Users\\supak\\anaconda3\\lib\\site-packages\\xgboost\\sklearn.py:1146: UserWarning: The use of label encoder in XGBClassifier is deprecated and will be removed in a future release. To remove this warning, do the following: 1) Pass option use_label_encoder=False when constructing XGBClassifier object; and 2) Encode your labels (y) as integers starting with 0, i.e. 0, 1, 2, ..., [num_class - 1].\n",
      "  warnings.warn(label_encoder_deprecation_msg, UserWarning)\n"
     ]
    }
   ],
   "source": [
    "model = XBNETClassifier(x_train,y_train,num_layers=2)"
   ]
  },
  {
   "cell_type": "code",
   "execution_count": 13,
   "id": "a969fea7-76fa-47d4-9905-77e941cd7a61",
   "metadata": {},
   "outputs": [],
   "source": [
    "criterion = torch.nn.CrossEntropyLoss()\n",
    "optimizer = torch.optim.Adam(model.parameters(), lr=0.01)"
   ]
  },
  {
   "cell_type": "code",
   "execution_count": 19,
   "id": "041718ac-ba9c-4bc9-8805-449fd1e32676",
   "metadata": {},
   "outputs": [
    {
     "name": "stderr",
     "output_type": "stream",
     "text": [
      "Percentage training completed:   0%|                                                           | 0/300 [00:00<?, ?it/s]C:\\Users\\supak\\anaconda3\\lib\\site-packages\\xgboost\\sklearn.py:1146: UserWarning: The use of label encoder in XGBClassifier is deprecated and will be removed in a future release. To remove this warning, do the following: 1) Pass option use_label_encoder=False when constructing XGBClassifier object; and 2) Encode your labels (y) as integers starting with 0, i.e. 0, 1, 2, ..., [num_class - 1].\n",
      "  warnings.warn(label_encoder_deprecation_msg, UserWarning)\n",
      "Percentage training completed:   0%|▏                                                  | 1/300 [00:01<06:50,  1.37s/it]"
     ]
    },
    {
     "name": "stdout",
     "output_type": "stream",
     "text": [
      "Training Loss after epoch 1 is 42.72931878566742 and Accuracy is 58.21917808219178\n",
      "Validation Loss after epoch 1 is 7.362889766693115 and Accuracy is 57.142857142857146\n"
     ]
    },
    {
     "name": "stderr",
     "output_type": "stream",
     "text": [
      "Percentage training completed:   1%|▎                                                  | 2/300 [00:01<03:42,  1.34it/s]"
     ]
    },
    {
     "name": "stdout",
     "output_type": "stream",
     "text": [
      "Training Loss after epoch 2 is 18.05509308576584 and Accuracy is 37.67123287671233\n",
      "Validation Loss after epoch 2 is 9.891423225402832 and Accuracy is 57.142857142857146\n"
     ]
    },
    {
     "name": "stderr",
     "output_type": "stream",
     "text": [
      "Percentage training completed:   1%|▌                                                  | 3/300 [00:01<02:40,  1.85it/s]"
     ]
    },
    {
     "name": "stdout",
     "output_type": "stream",
     "text": [
      "Training Loss after epoch 3 is 4.74900109320879 and Accuracy is 58.9041095890411\n",
      "Validation Loss after epoch 3 is 2.1548373699188232 and Accuracy is 65.93406593406593\n"
     ]
    },
    {
     "name": "stderr",
     "output_type": "stream",
     "text": [
      "Percentage training completed:   1%|▋                                                  | 4/300 [00:02<02:12,  2.24it/s]"
     ]
    },
    {
     "name": "stdout",
     "output_type": "stream",
     "text": [
      "Training Loss after epoch 4 is 2.291068601608276 and Accuracy is 72.26027397260275\n",
      "Validation Loss after epoch 4 is 0.890612781047821 and Accuracy is 87.91208791208791\n"
     ]
    },
    {
     "name": "stderr",
     "output_type": "stream",
     "text": [
      "Percentage training completed:   2%|▊                                                  | 5/300 [00:02<01:56,  2.53it/s]"
     ]
    },
    {
     "name": "stdout",
     "output_type": "stream",
     "text": [
      "Training Loss after epoch 5 is 2.691590540111065 and Accuracy is 69.52054794520548\n",
      "Validation Loss after epoch 5 is 1.4690847396850586 and Accuracy is 81.31868131868131\n"
     ]
    },
    {
     "name": "stderr",
     "output_type": "stream",
     "text": [
      "Percentage training completed:   2%|█                                                  | 6/300 [00:02<01:48,  2.72it/s]"
     ]
    },
    {
     "name": "stdout",
     "output_type": "stream",
     "text": [
      "Training Loss after epoch 6 is 2.2654618199914696 and Accuracy is 71.23287671232876\n",
      "Validation Loss after epoch 6 is 1.411908745765686 and Accuracy is 83.51648351648352\n"
     ]
    },
    {
     "name": "stderr",
     "output_type": "stream",
     "text": [
      "Percentage training completed:   2%|█▏                                                 | 7/300 [00:03<01:41,  2.88it/s]"
     ]
    },
    {
     "name": "stdout",
     "output_type": "stream",
     "text": [
      "Training Loss after epoch 7 is 1.5042259603738786 and Accuracy is 76.71232876712328\n",
      "Validation Loss after epoch 7 is 2.3105616569519043 and Accuracy is 74.72527472527473\n"
     ]
    },
    {
     "name": "stderr",
     "output_type": "stream",
     "text": [
      "Percentage training completed:   3%|█▎                                                 | 8/300 [00:03<01:37,  2.99it/s]"
     ]
    },
    {
     "name": "stdout",
     "output_type": "stream",
     "text": [
      "Training Loss after epoch 8 is 0.8323078863999399 and Accuracy is 85.27397260273973\n",
      "Validation Loss after epoch 8 is 0.5401639938354492 and Accuracy is 89.01098901098901\n"
     ]
    },
    {
     "name": "stderr",
     "output_type": "stream",
     "text": [
      "Percentage training completed:   3%|█▌                                                 | 9/300 [00:03<01:34,  3.09it/s]"
     ]
    },
    {
     "name": "stdout",
     "output_type": "stream",
     "text": [
      "Training Loss after epoch 9 is 0.31277456318284746 and Accuracy is 92.8082191780822\n",
      "Validation Loss after epoch 9 is 0.4033716022968292 and Accuracy is 89.01098901098901\n"
     ]
    },
    {
     "name": "stderr",
     "output_type": "stream",
     "text": [
      "Percentage training completed:   3%|█▋                                                | 10/300 [00:04<01:31,  3.15it/s]"
     ]
    },
    {
     "name": "stdout",
     "output_type": "stream",
     "text": [
      "Training Loss after epoch 10 is 0.39151860885322093 and Accuracy is 92.8082191780822\n",
      "Validation Loss after epoch 10 is 0.7514999508857727 and Accuracy is 90.10989010989012\n"
     ]
    },
    {
     "name": "stderr",
     "output_type": "stream",
     "text": [
      "Percentage training completed:   4%|█▊                                                | 11/300 [00:04<01:30,  3.20it/s]"
     ]
    },
    {
     "name": "stdout",
     "output_type": "stream",
     "text": [
      "Training Loss after epoch 11 is 0.3073644451520522 and Accuracy is 93.4931506849315\n",
      "Validation Loss after epoch 11 is 0.4328455924987793 and Accuracy is 90.10989010989012\n"
     ]
    },
    {
     "name": "stderr",
     "output_type": "stream",
     "text": [
      "Percentage training completed:   4%|██                                                | 12/300 [00:04<01:30,  3.20it/s]"
     ]
    },
    {
     "name": "stdout",
     "output_type": "stream",
     "text": [
      "Training Loss after epoch 12 is 0.28504697717144156 and Accuracy is 94.17808219178082\n",
      "Validation Loss after epoch 12 is 0.42077985405921936 and Accuracy is 90.10989010989012\n"
     ]
    },
    {
     "name": "stderr",
     "output_type": "stream",
     "text": [
      "Percentage training completed:   4%|██▏                                               | 13/300 [00:05<01:29,  3.20it/s]"
     ]
    },
    {
     "name": "stdout",
     "output_type": "stream",
     "text": [
      "Training Loss after epoch 13 is 0.29192201455589384 and Accuracy is 93.83561643835617\n",
      "Validation Loss after epoch 13 is 0.48937878012657166 and Accuracy is 90.10989010989012\n"
     ]
    },
    {
     "name": "stderr",
     "output_type": "stream",
     "text": [
      "Percentage training completed:   5%|██▎                                               | 14/300 [00:05<01:29,  3.19it/s]"
     ]
    },
    {
     "name": "stdout",
     "output_type": "stream",
     "text": [
      "Training Loss after epoch 14 is 0.2674498223030241 and Accuracy is 94.17808219178082\n",
      "Validation Loss after epoch 14 is 0.3897837698459625 and Accuracy is 91.20879120879121\n"
     ]
    },
    {
     "name": "stderr",
     "output_type": "stream",
     "text": [
      "Percentage training completed:   5%|██▌                                               | 15/300 [00:05<01:28,  3.23it/s]"
     ]
    },
    {
     "name": "stdout",
     "output_type": "stream",
     "text": [
      "Training Loss after epoch 15 is 0.27102298399549907 and Accuracy is 94.52054794520548\n",
      "Validation Loss after epoch 15 is 0.4109704792499542 and Accuracy is 90.10989010989012\n"
     ]
    },
    {
     "name": "stderr",
     "output_type": "stream",
     "text": [
      "Percentage training completed:   5%|██▋                                               | 16/300 [00:05<01:27,  3.25it/s]"
     ]
    },
    {
     "name": "stdout",
     "output_type": "stream",
     "text": [
      "Training Loss after epoch 16 is 0.2590298917377368 and Accuracy is 94.52054794520548\n",
      "Validation Loss after epoch 16 is 0.3882765769958496 and Accuracy is 91.20879120879121\n"
     ]
    },
    {
     "name": "stderr",
     "output_type": "stream",
     "text": [
      "Percentage training completed:   6%|██▊                                               | 17/300 [00:06<01:26,  3.25it/s]"
     ]
    },
    {
     "name": "stdout",
     "output_type": "stream",
     "text": [
      "Training Loss after epoch 17 is 0.2504750989435706 and Accuracy is 94.52054794520548\n",
      "Validation Loss after epoch 17 is 0.3621550500392914 and Accuracy is 91.20879120879121\n"
     ]
    },
    {
     "name": "stderr",
     "output_type": "stream",
     "text": [
      "Percentage training completed:   6%|███                                               | 18/300 [00:06<01:26,  3.28it/s]"
     ]
    },
    {
     "name": "stdout",
     "output_type": "stream",
     "text": [
      "Training Loss after epoch 18 is 0.24662703034700825 and Accuracy is 94.52054794520548\n",
      "Validation Loss after epoch 18 is 0.35210123658180237 and Accuracy is 91.20879120879121\n"
     ]
    },
    {
     "name": "stderr",
     "output_type": "stream",
     "text": [
      "Percentage training completed:   6%|███▏                                              | 19/300 [00:06<01:25,  3.29it/s]"
     ]
    },
    {
     "name": "stdout",
     "output_type": "stream",
     "text": [
      "Training Loss after epoch 19 is 0.23921220986521802 and Accuracy is 94.52054794520548\n",
      "Validation Loss after epoch 19 is 0.335822731256485 and Accuracy is 92.3076923076923\n"
     ]
    },
    {
     "name": "stderr",
     "output_type": "stream",
     "text": [
      "Percentage training completed:   7%|███▎                                              | 20/300 [00:07<01:26,  3.25it/s]"
     ]
    },
    {
     "name": "stdout",
     "output_type": "stream",
     "text": [
      "Training Loss after epoch 20 is 0.23310483323875814 and Accuracy is 94.52054794520548\n",
      "Validation Loss after epoch 20 is 0.31952768564224243 and Accuracy is 92.3076923076923\n"
     ]
    },
    {
     "name": "stderr",
     "output_type": "stream",
     "text": [
      "Percentage training completed:   7%|███▌                                              | 21/300 [00:07<01:25,  3.28it/s]"
     ]
    },
    {
     "name": "stdout",
     "output_type": "stream",
     "text": [
      "Training Loss after epoch 21 is 0.2283614194195252 and Accuracy is 94.52054794520548\n",
      "Validation Loss after epoch 21 is 0.3066382110118866 and Accuracy is 92.3076923076923\n"
     ]
    },
    {
     "name": "stderr",
     "output_type": "stream",
     "text": [
      "Percentage training completed:   7%|███▋                                              | 22/300 [00:07<01:24,  3.30it/s]"
     ]
    },
    {
     "name": "stdout",
     "output_type": "stream",
     "text": [
      "Training Loss after epoch 22 is 0.22280550239956937 and Accuracy is 95.20547945205479\n",
      "Validation Loss after epoch 22 is 0.2930953800678253 and Accuracy is 92.3076923076923\n"
     ]
    },
    {
     "name": "stderr",
     "output_type": "stream",
     "text": [
      "Percentage training completed:   8%|███▊                                              | 23/300 [00:08<01:23,  3.31it/s]"
     ]
    },
    {
     "name": "stdout",
     "output_type": "stream",
     "text": [
      "Training Loss after epoch 23 is 0.21777474184636958 and Accuracy is 95.20547945205479\n",
      "Validation Loss after epoch 23 is 0.27971595525741577 and Accuracy is 92.3076923076923\n"
     ]
    },
    {
     "name": "stderr",
     "output_type": "stream",
     "text": [
      "Percentage training completed:   8%|████                                              | 24/300 [00:08<01:23,  3.30it/s]"
     ]
    },
    {
     "name": "stdout",
     "output_type": "stream",
     "text": [
      "Training Loss after epoch 24 is 0.21336176794138736 and Accuracy is 95.20547945205479\n",
      "Validation Loss after epoch 24 is 0.2670642137527466 and Accuracy is 92.3076923076923\n"
     ]
    },
    {
     "name": "stderr",
     "output_type": "stream",
     "text": [
      "Percentage training completed:   8%|████▏                                             | 25/300 [00:08<01:23,  3.28it/s]"
     ]
    },
    {
     "name": "stdout",
     "output_type": "stream",
     "text": [
      "Training Loss after epoch 25 is 0.20917183739948086 and Accuracy is 95.20547945205479\n",
      "Validation Loss after epoch 25 is 0.254651814699173 and Accuracy is 92.3076923076923\n"
     ]
    },
    {
     "name": "stderr",
     "output_type": "stream",
     "text": [
      "Percentage training completed:   9%|████▎                                             | 26/300 [00:09<01:24,  3.24it/s]"
     ]
    },
    {
     "name": "stdout",
     "output_type": "stream",
     "text": [
      "Training Loss after epoch 26 is 0.20546430916292593 and Accuracy is 95.54794520547945\n",
      "Validation Loss after epoch 26 is 0.24252796173095703 and Accuracy is 92.3076923076923\n"
     ]
    },
    {
     "name": "stderr",
     "output_type": "stream",
     "text": [
      "Percentage training completed:   9%|████▌                                             | 27/300 [00:09<01:23,  3.26it/s]"
     ]
    },
    {
     "name": "stdout",
     "output_type": "stream",
     "text": [
      "Training Loss after epoch 27 is 0.20243025578674861 and Accuracy is 95.20547945205479\n",
      "Validation Loss after epoch 27 is 0.23095373809337616 and Accuracy is 92.3076923076923\n"
     ]
    },
    {
     "name": "stderr",
     "output_type": "stream",
     "text": [
      "Percentage training completed:   9%|████▋                                             | 28/300 [00:09<01:22,  3.29it/s]"
     ]
    },
    {
     "name": "stdout",
     "output_type": "stream",
     "text": [
      "Training Loss after epoch 28 is 0.20009121566545218 and Accuracy is 94.52054794520548\n",
      "Validation Loss after epoch 28 is 0.2201557755470276 and Accuracy is 92.3076923076923\n"
     ]
    },
    {
     "name": "stderr",
     "output_type": "stream",
     "text": [
      "Percentage training completed:  10%|████▊                                             | 29/300 [00:09<01:22,  3.30it/s]"
     ]
    },
    {
     "name": "stdout",
     "output_type": "stream",
     "text": [
      "Training Loss after epoch 29 is 0.19847927071386948 and Accuracy is 94.86301369863014\n",
      "Validation Loss after epoch 29 is 0.21043939888477325 and Accuracy is 92.3076923076923\n"
     ]
    },
    {
     "name": "stderr",
     "output_type": "stream",
     "text": [
      "Percentage training completed:  10%|█████                                             | 30/300 [00:10<01:21,  3.29it/s]"
     ]
    },
    {
     "name": "stdout",
     "output_type": "stream",
     "text": [
      "Training Loss after epoch 30 is 0.19758550708647818 and Accuracy is 94.86301369863014\n",
      "Validation Loss after epoch 30 is 0.20217983424663544 and Accuracy is 92.3076923076923\n"
     ]
    },
    {
     "name": "stderr",
     "output_type": "stream",
     "text": [
      "Percentage training completed:  10%|█████▏                                            | 31/300 [00:10<01:21,  3.30it/s]"
     ]
    },
    {
     "name": "stdout",
     "output_type": "stream",
     "text": [
      "Training Loss after epoch 31 is 0.19726908188313247 and Accuracy is 94.86301369863014\n",
      "Validation Loss after epoch 31 is 0.19584089517593384 and Accuracy is 92.3076923076923\n"
     ]
    },
    {
     "name": "stderr",
     "output_type": "stream",
     "text": [
      "Percentage training completed:  11%|█████▎                                            | 32/300 [00:10<01:21,  3.30it/s]"
     ]
    },
    {
     "name": "stdout",
     "output_type": "stream",
     "text": [
      "Training Loss after epoch 32 is 0.1971814252086915 and Accuracy is 94.86301369863014\n",
      "Validation Loss after epoch 32 is 0.19219772517681122 and Accuracy is 92.3076923076923\n"
     ]
    },
    {
     "name": "stderr",
     "output_type": "stream",
     "text": [
      "Percentage training completed:  11%|█████▌                                            | 33/300 [00:11<01:22,  3.25it/s]"
     ]
    },
    {
     "name": "stdout",
     "output_type": "stream",
     "text": [
      "Training Loss after epoch 33 is 0.19660551366396248 and Accuracy is 94.52054794520548\n",
      "Validation Loss after epoch 33 is 0.19297051429748535 and Accuracy is 92.3076923076923\n"
     ]
    },
    {
     "name": "stderr",
     "output_type": "stream",
     "text": [
      "Percentage training completed:  11%|█████▋                                            | 34/300 [00:11<01:21,  3.27it/s]"
     ]
    },
    {
     "name": "stdout",
     "output_type": "stream",
     "text": [
      "Training Loss after epoch 34 is 0.19403479289030656 and Accuracy is 94.52054794520548\n",
      "Validation Loss after epoch 34 is 0.2018202543258667 and Accuracy is 92.3076923076923\n"
     ]
    },
    {
     "name": "stderr",
     "output_type": "stream",
     "text": [
      "Percentage training completed:  12%|█████▊                                            | 35/300 [00:11<01:20,  3.30it/s]"
     ]
    },
    {
     "name": "stdout",
     "output_type": "stream",
     "text": [
      "Training Loss after epoch 35 is 0.1868288200814277 and Accuracy is 94.86301369863014\n",
      "Validation Loss after epoch 35 is 0.22298355400562286 and Accuracy is 91.20879120879121\n"
     ]
    },
    {
     "name": "stderr",
     "output_type": "stream",
     "text": [
      "Percentage training completed:  12%|██████                                            | 36/300 [00:12<01:19,  3.31it/s]"
     ]
    },
    {
     "name": "stdout",
     "output_type": "stream",
     "text": [
      "Training Loss after epoch 36 is 0.1741736108902842 and Accuracy is 95.20547945205479\n",
      "Validation Loss after epoch 36 is 0.24337339401245117 and Accuracy is 92.3076923076923\n"
     ]
    },
    {
     "name": "stderr",
     "output_type": "stream",
     "text": [
      "Percentage training completed:  12%|██████▏                                           | 37/300 [00:12<01:19,  3.31it/s]"
     ]
    },
    {
     "name": "stdout",
     "output_type": "stream",
     "text": [
      "Training Loss after epoch 37 is 0.16173342633992432 and Accuracy is 95.89041095890411\n",
      "Validation Loss after epoch 37 is 0.20467865467071533 and Accuracy is 92.3076923076923\n"
     ]
    },
    {
     "name": "stderr",
     "output_type": "stream",
     "text": [
      "Percentage training completed:  13%|██████▎                                           | 38/300 [00:12<01:18,  3.33it/s]"
     ]
    },
    {
     "name": "stdout",
     "output_type": "stream",
     "text": [
      "Training Loss after epoch 38 is 0.1444741567596793 and Accuracy is 96.91780821917808\n",
      "Validation Loss after epoch 38 is 0.17147719860076904 and Accuracy is 92.3076923076923\n"
     ]
    },
    {
     "name": "stderr",
     "output_type": "stream",
     "text": [
      "Percentage training completed:  13%|██████▌                                           | 39/300 [00:12<01:17,  3.35it/s]"
     ]
    },
    {
     "name": "stdout",
     "output_type": "stream",
     "text": [
      "Training Loss after epoch 39 is 0.13000869762618095 and Accuracy is 96.57534246575342\n",
      "Validation Loss after epoch 39 is 0.16756899654865265 and Accuracy is 92.3076923076923\n"
     ]
    },
    {
     "name": "stderr",
     "output_type": "stream",
     "text": [
      "Percentage training completed:  13%|██████▋                                           | 40/300 [00:13<01:17,  3.36it/s]"
     ]
    },
    {
     "name": "stdout",
     "output_type": "stream",
     "text": [
      "Training Loss after epoch 40 is 0.12703911662101747 and Accuracy is 96.91780821917808\n",
      "Validation Loss after epoch 40 is 0.1665130853652954 and Accuracy is 92.3076923076923\n"
     ]
    },
    {
     "name": "stderr",
     "output_type": "stream",
     "text": [
      "Percentage training completed:  14%|██████▊                                           | 41/300 [00:13<01:18,  3.32it/s]"
     ]
    },
    {
     "name": "stdout",
     "output_type": "stream",
     "text": [
      "Training Loss after epoch 41 is 0.12490357875358313 and Accuracy is 96.91780821917808\n",
      "Validation Loss after epoch 41 is 0.16014167666435242 and Accuracy is 92.3076923076923\n"
     ]
    },
    {
     "name": "stderr",
     "output_type": "stream",
     "text": [
      "Percentage training completed:  14%|███████                                           | 42/300 [00:13<01:18,  3.30it/s]"
     ]
    },
    {
     "name": "stdout",
     "output_type": "stream",
     "text": [
      "Training Loss after epoch 42 is 0.12023214371874928 and Accuracy is 97.26027397260275\n",
      "Validation Loss after epoch 42 is 0.15463590621948242 and Accuracy is 93.4065934065934\n"
     ]
    },
    {
     "name": "stderr",
     "output_type": "stream",
     "text": [
      "Percentage training completed:  14%|███████▏                                          | 43/300 [00:14<01:19,  3.23it/s]"
     ]
    },
    {
     "name": "stdout",
     "output_type": "stream",
     "text": [
      "Training Loss after epoch 43 is 0.11575800706632436 and Accuracy is 97.26027397260275\n",
      "Validation Loss after epoch 43 is 0.15144138038158417 and Accuracy is 94.50549450549451\n"
     ]
    },
    {
     "name": "stderr",
     "output_type": "stream",
     "text": [
      "Percentage training completed:  15%|███████▎                                          | 44/300 [00:14<01:20,  3.18it/s]"
     ]
    },
    {
     "name": "stdout",
     "output_type": "stream",
     "text": [
      "Training Loss after epoch 44 is 0.11283966340124607 and Accuracy is 97.26027397260275\n",
      "Validation Loss after epoch 44 is 0.14872296154499054 and Accuracy is 94.50549450549451\n"
     ]
    },
    {
     "name": "stderr",
     "output_type": "stream",
     "text": [
      "Percentage training completed:  15%|███████▌                                          | 45/300 [00:14<01:20,  3.16it/s]"
     ]
    },
    {
     "name": "stdout",
     "output_type": "stream",
     "text": [
      "Training Loss after epoch 45 is 0.11045009084045887 and Accuracy is 97.26027397260275\n",
      "Validation Loss after epoch 45 is 0.14636361598968506 and Accuracy is 94.50549450549451\n"
     ]
    },
    {
     "name": "stderr",
     "output_type": "stream",
     "text": [
      "Percentage training completed:  15%|███████▋                                          | 46/300 [00:15<01:20,  3.15it/s]"
     ]
    },
    {
     "name": "stdout",
     "output_type": "stream",
     "text": [
      "Training Loss after epoch 46 is 0.10821290942840278 and Accuracy is 97.26027397260275\n",
      "Validation Loss after epoch 46 is 0.14420826733112335 and Accuracy is 94.50549450549451\n"
     ]
    },
    {
     "name": "stderr",
     "output_type": "stream",
     "text": [
      "Percentage training completed:  16%|███████▊                                          | 47/300 [00:15<01:19,  3.19it/s]"
     ]
    },
    {
     "name": "stdout",
     "output_type": "stream",
     "text": [
      "Training Loss after epoch 47 is 0.10640172334387898 and Accuracy is 97.26027397260275\n",
      "Validation Loss after epoch 47 is 0.1420876532793045 and Accuracy is 95.6043956043956\n"
     ]
    },
    {
     "name": "stderr",
     "output_type": "stream",
     "text": [
      "Percentage training completed:  16%|████████                                          | 48/300 [00:15<01:18,  3.21it/s]"
     ]
    },
    {
     "name": "stdout",
     "output_type": "stream",
     "text": [
      "Training Loss after epoch 48 is 0.10491383466869593 and Accuracy is 97.26027397260275\n",
      "Validation Loss after epoch 48 is 0.1401319056749344 and Accuracy is 95.6043956043956\n"
     ]
    },
    {
     "name": "stderr",
     "output_type": "stream",
     "text": [
      "Percentage training completed:  16%|████████▏                                         | 49/300 [00:16<01:17,  3.22it/s]"
     ]
    },
    {
     "name": "stdout",
     "output_type": "stream",
     "text": [
      "Training Loss after epoch 49 is 0.10360009036958218 and Accuracy is 97.26027397260275\n",
      "Validation Loss after epoch 49 is 0.13817395269870758 and Accuracy is 95.6043956043956\n"
     ]
    },
    {
     "name": "stderr",
     "output_type": "stream",
     "text": [
      "Percentage training completed:  17%|████████▎                                         | 50/300 [00:16<01:17,  3.21it/s]"
     ]
    },
    {
     "name": "stdout",
     "output_type": "stream",
     "text": [
      "Training Loss after epoch 50 is 0.10249469154514372 and Accuracy is 96.91780821917808\n",
      "Validation Loss after epoch 50 is 0.13633807003498077 and Accuracy is 95.6043956043956\n"
     ]
    },
    {
     "name": "stderr",
     "output_type": "stream",
     "text": [
      "Percentage training completed:  17%|████████▌                                         | 51/300 [00:16<01:17,  3.20it/s]"
     ]
    },
    {
     "name": "stdout",
     "output_type": "stream",
     "text": [
      "Training Loss after epoch 51 is 0.1015243492089212 and Accuracy is 96.91780821917808\n",
      "Validation Loss after epoch 51 is 0.13455797731876373 and Accuracy is 95.6043956043956\n"
     ]
    },
    {
     "name": "stderr",
     "output_type": "stream",
     "text": [
      "Percentage training completed:  17%|████████▋                                         | 52/300 [00:16<01:17,  3.20it/s]"
     ]
    },
    {
     "name": "stdout",
     "output_type": "stream",
     "text": [
      "Training Loss after epoch 52 is 0.100682092923671 and Accuracy is 96.91780821917808\n",
      "Validation Loss after epoch 52 is 0.13290418684482574 and Accuracy is 95.6043956043956\n"
     ]
    },
    {
     "name": "stderr",
     "output_type": "stream",
     "text": [
      "Percentage training completed:  18%|████████▊                                         | 53/300 [00:17<01:17,  3.20it/s]"
     ]
    },
    {
     "name": "stdout",
     "output_type": "stream",
     "text": [
      "Training Loss after epoch 53 is 0.09992705155164003 and Accuracy is 96.91780821917808\n",
      "Validation Loss after epoch 53 is 0.13131846487522125 and Accuracy is 95.6043956043956\n"
     ]
    },
    {
     "name": "stderr",
     "output_type": "stream",
     "text": [
      "Percentage training completed:  18%|█████████                                         | 54/300 [00:17<01:16,  3.20it/s]"
     ]
    },
    {
     "name": "stdout",
     "output_type": "stream",
     "text": [
      "Training Loss after epoch 54 is 0.09925859728828072 and Accuracy is 96.91780821917808\n",
      "Validation Loss after epoch 54 is 0.12988369166851044 and Accuracy is 95.6043956043956\n"
     ]
    },
    {
     "name": "stderr",
     "output_type": "stream",
     "text": [
      "Percentage training completed:  18%|█████████▏                                        | 55/300 [00:17<01:16,  3.21it/s]"
     ]
    },
    {
     "name": "stdout",
     "output_type": "stream",
     "text": [
      "Training Loss after epoch 55 is 0.09863438531756401 and Accuracy is 96.91780821917808\n",
      "Validation Loss after epoch 55 is 0.12848468124866486 and Accuracy is 95.6043956043956\n"
     ]
    },
    {
     "name": "stderr",
     "output_type": "stream",
     "text": [
      "Percentage training completed:  19%|█████████▎                                        | 56/300 [00:18<01:16,  3.20it/s]"
     ]
    },
    {
     "name": "stdout",
     "output_type": "stream",
     "text": [
      "Training Loss after epoch 56 is 0.09808094371110201 and Accuracy is 96.91780821917808\n",
      "Validation Loss after epoch 56 is 0.12728500366210938 and Accuracy is 95.6043956043956\n"
     ]
    },
    {
     "name": "stderr",
     "output_type": "stream",
     "text": [
      "Percentage training completed:  19%|█████████▌                                        | 57/300 [00:18<01:16,  3.20it/s]"
     ]
    },
    {
     "name": "stdout",
     "output_type": "stream",
     "text": [
      "Training Loss after epoch 57 is 0.09752076882869005 and Accuracy is 96.91780821917808\n",
      "Validation Loss after epoch 57 is 0.126027449965477 and Accuracy is 95.6043956043956\n"
     ]
    },
    {
     "name": "stderr",
     "output_type": "stream",
     "text": [
      "Percentage training completed:  19%|█████████▋                                        | 58/300 [00:18<01:15,  3.20it/s]"
     ]
    },
    {
     "name": "stdout",
     "output_type": "stream",
     "text": [
      "Training Loss after epoch 58 is 0.0970661861822009 and Accuracy is 96.91780821917808\n",
      "Validation Loss after epoch 58 is 0.12509948015213013 and Accuracy is 95.6043956043956\n"
     ]
    },
    {
     "name": "stderr",
     "output_type": "stream",
     "text": [
      "Percentage training completed:  20%|█████████▊                                        | 59/300 [00:19<01:15,  3.21it/s]"
     ]
    },
    {
     "name": "stdout",
     "output_type": "stream",
     "text": [
      "Training Loss after epoch 59 is 0.09648870974779129 and Accuracy is 96.91780821917808\n",
      "Validation Loss after epoch 59 is 0.12388060241937637 and Accuracy is 95.6043956043956\n"
     ]
    },
    {
     "name": "stderr",
     "output_type": "stream",
     "text": [
      "Percentage training completed:  20%|██████████                                        | 60/300 [00:19<01:14,  3.20it/s]"
     ]
    },
    {
     "name": "stdout",
     "output_type": "stream",
     "text": [
      "Training Loss after epoch 60 is 0.09623463321477174 and Accuracy is 96.91780821917808\n",
      "Validation Loss after epoch 60 is 0.12340009212493896 and Accuracy is 95.6043956043956\n"
     ]
    },
    {
     "name": "stderr",
     "output_type": "stream",
     "text": [
      "Percentage training completed:  20%|██████████▏                                       | 61/300 [00:19<01:14,  3.20it/s]"
     ]
    },
    {
     "name": "stdout",
     "output_type": "stream",
     "text": [
      "Training Loss after epoch 61 is 0.09545767344534398 and Accuracy is 97.26027397260275\n",
      "Validation Loss after epoch 61 is 0.12219210714101791 and Accuracy is 95.6043956043956\n"
     ]
    },
    {
     "name": "stderr",
     "output_type": "stream",
     "text": [
      "Percentage training completed:  21%|██████████▎                                       | 62/300 [00:20<01:14,  3.19it/s]"
     ]
    },
    {
     "name": "stdout",
     "output_type": "stream",
     "text": [
      "Training Loss after epoch 62 is 0.09613217297010124 and Accuracy is 96.91780821917808\n",
      "Validation Loss after epoch 62 is 0.12332368642091751 and Accuracy is 95.6043956043956\n"
     ]
    },
    {
     "name": "stderr",
     "output_type": "stream",
     "text": [
      "Percentage training completed:  21%|██████████▌                                       | 63/300 [00:20<01:14,  3.20it/s]"
     ]
    },
    {
     "name": "stdout",
     "output_type": "stream",
     "text": [
      "Training Loss after epoch 63 is 0.09506623391062022 and Accuracy is 97.6027397260274\n",
      "Validation Loss after epoch 63 is 0.12519563734531403 and Accuracy is 94.50549450549451\n"
     ]
    },
    {
     "name": "stderr",
     "output_type": "stream",
     "text": [
      "Percentage training completed:  21%|██████████▋                                       | 64/300 [00:20<01:13,  3.21it/s]"
     ]
    },
    {
     "name": "stdout",
     "output_type": "stream",
     "text": [
      "Training Loss after epoch 64 is 0.10291544003412127 and Accuracy is 96.57534246575342\n",
      "Validation Loss after epoch 64 is 0.13877595961093903 and Accuracy is 94.50549450549451\n"
     ]
    },
    {
     "name": "stderr",
     "output_type": "stream",
     "text": [
      "Percentage training completed:  22%|██████████▊                                       | 65/300 [00:21<01:13,  3.20it/s]"
     ]
    },
    {
     "name": "stdout",
     "output_type": "stream",
     "text": [
      "Training Loss after epoch 65 is 0.10656410846859217 and Accuracy is 96.57534246575342\n",
      "Validation Loss after epoch 65 is 0.19315005838871002 and Accuracy is 93.4065934065934\n"
     ]
    },
    {
     "name": "stderr",
     "output_type": "stream",
     "text": [
      "Percentage training completed:  22%|███████████                                       | 66/300 [00:21<01:12,  3.21it/s]"
     ]
    },
    {
     "name": "stdout",
     "output_type": "stream",
     "text": [
      "Training Loss after epoch 66 is 0.17667231969535352 and Accuracy is 93.4931506849315\n",
      "Validation Loss after epoch 66 is 0.13149945437908173 and Accuracy is 94.50549450549451\n"
     ]
    },
    {
     "name": "stderr",
     "output_type": "stream",
     "text": [
      "Percentage training completed:  22%|███████████▏                                      | 67/300 [00:21<01:12,  3.20it/s]"
     ]
    },
    {
     "name": "stdout",
     "output_type": "stream",
     "text": [
      "Training Loss after epoch 67 is 0.1502455505542457 and Accuracy is 94.17808219178082\n",
      "Validation Loss after epoch 67 is 0.1912982314825058 and Accuracy is 93.4065934065934\n"
     ]
    },
    {
     "name": "stderr",
     "output_type": "stream",
     "text": [
      "Percentage training completed:  23%|███████████▎                                      | 68/300 [00:22<01:13,  3.16it/s]"
     ]
    },
    {
     "name": "stdout",
     "output_type": "stream",
     "text": [
      "Training Loss after epoch 68 is 0.17641439884901047 and Accuracy is 93.4931506849315\n",
      "Validation Loss after epoch 68 is 0.1479109674692154 and Accuracy is 94.50549450549451\n"
     ]
    },
    {
     "name": "stderr",
     "output_type": "stream",
     "text": [
      "Percentage training completed:  23%|███████████▌                                      | 69/300 [00:22<01:14,  3.12it/s]"
     ]
    },
    {
     "name": "stdout",
     "output_type": "stream",
     "text": [
      "Training Loss after epoch 69 is 0.15520914895460008 and Accuracy is 94.86301369863014\n",
      "Validation Loss after epoch 69 is 0.4592688977718353 and Accuracy is 83.51648351648352\n"
     ]
    },
    {
     "name": "stderr",
     "output_type": "stream",
     "text": [
      "Percentage training completed:  23%|███████████▋                                      | 70/300 [00:22<01:14,  3.07it/s]"
     ]
    },
    {
     "name": "stdout",
     "output_type": "stream",
     "text": [
      "Training Loss after epoch 70 is 0.45776488408446314 and Accuracy is 90.75342465753425\n",
      "Validation Loss after epoch 70 is 0.1308434158563614 and Accuracy is 95.6043956043956\n"
     ]
    },
    {
     "name": "stderr",
     "output_type": "stream",
     "text": [
      "Percentage training completed:  24%|███████████▊                                      | 71/300 [00:23<01:15,  3.04it/s]"
     ]
    },
    {
     "name": "stdout",
     "output_type": "stream",
     "text": [
      "Training Loss after epoch 71 is 0.4253873862326145 and Accuracy is 85.27397260273973\n",
      "Validation Loss after epoch 71 is 0.15558640658855438 and Accuracy is 93.4065934065934\n"
     ]
    },
    {
     "name": "stderr",
     "output_type": "stream",
     "text": [
      "Percentage training completed:  24%|████████████                                      | 72/300 [00:23<01:16,  2.98it/s]"
     ]
    },
    {
     "name": "stdout",
     "output_type": "stream",
     "text": [
      "Training Loss after epoch 72 is 0.14505843529477716 and Accuracy is 94.86301369863014\n",
      "Validation Loss after epoch 72 is 0.30295678973197937 and Accuracy is 92.3076923076923\n"
     ]
    },
    {
     "name": "stderr",
     "output_type": "stream",
     "text": [
      "Percentage training completed:  24%|████████████▏                                     | 73/300 [00:23<01:15,  3.02it/s]"
     ]
    },
    {
     "name": "stdout",
     "output_type": "stream",
     "text": [
      "Training Loss after epoch 73 is 0.16687229501549156 and Accuracy is 95.54794520547945\n",
      "Validation Loss after epoch 73 is 0.2141769379377365 and Accuracy is 92.3076923076923\n"
     ]
    },
    {
     "name": "stderr",
     "output_type": "stream",
     "text": [
      "Percentage training completed:  25%|████████████▎                                     | 74/300 [00:24<01:14,  3.04it/s]"
     ]
    },
    {
     "name": "stdout",
     "output_type": "stream",
     "text": [
      "Training Loss after epoch 74 is 0.12383085420588032 and Accuracy is 96.91780821917808\n",
      "Validation Loss after epoch 74 is 0.14758530259132385 and Accuracy is 94.50549450549451\n"
     ]
    },
    {
     "name": "stderr",
     "output_type": "stream",
     "text": [
      "Percentage training completed:  25%|████████████▌                                     | 75/300 [00:24<01:13,  3.06it/s]"
     ]
    },
    {
     "name": "stdout",
     "output_type": "stream",
     "text": [
      "Training Loss after epoch 75 is 0.1008685828652233 and Accuracy is 96.57534246575342\n",
      "Validation Loss after epoch 75 is 0.16750872135162354 and Accuracy is 95.6043956043956\n"
     ]
    },
    {
     "name": "stderr",
     "output_type": "stream",
     "text": [
      "Percentage training completed:  25%|████████████▋                                     | 76/300 [00:24<01:13,  3.06it/s]"
     ]
    },
    {
     "name": "stdout",
     "output_type": "stream",
     "text": [
      "Training Loss after epoch 76 is 0.09666546852095052 and Accuracy is 96.91780821917808\n",
      "Validation Loss after epoch 76 is 0.1493997573852539 and Accuracy is 93.4065934065934\n"
     ]
    },
    {
     "name": "stderr",
     "output_type": "stream",
     "text": [
      "Percentage training completed:  26%|████████████▊                                     | 77/300 [00:24<01:12,  3.07it/s]"
     ]
    },
    {
     "name": "stdout",
     "output_type": "stream",
     "text": [
      "Training Loss after epoch 77 is 0.10173673901008443 and Accuracy is 97.26027397260275\n",
      "Validation Loss after epoch 77 is 0.15832291543483734 and Accuracy is 95.6043956043956\n"
     ]
    },
    {
     "name": "stderr",
     "output_type": "stream",
     "text": [
      "Percentage training completed:  26%|█████████████                                     | 78/300 [00:25<01:12,  3.06it/s]"
     ]
    },
    {
     "name": "stdout",
     "output_type": "stream",
     "text": [
      "Training Loss after epoch 78 is 0.09379819203168153 and Accuracy is 97.26027397260275\n",
      "Validation Loss after epoch 78 is 0.14097996056079865 and Accuracy is 93.4065934065934\n"
     ]
    },
    {
     "name": "stderr",
     "output_type": "stream",
     "text": [
      "Percentage training completed:  26%|█████████████▏                                    | 79/300 [00:25<01:12,  3.07it/s]"
     ]
    },
    {
     "name": "stdout",
     "output_type": "stream",
     "text": [
      "Training Loss after epoch 79 is 0.10012947977520525 and Accuracy is 96.57534246575342\n",
      "Validation Loss after epoch 79 is 0.1690322905778885 and Accuracy is 94.50549450549451\n"
     ]
    },
    {
     "name": "stderr",
     "output_type": "stream",
     "text": [
      "Percentage training completed:  27%|█████████████▎                                    | 80/300 [00:25<01:11,  3.08it/s]"
     ]
    },
    {
     "name": "stdout",
     "output_type": "stream",
     "text": [
      "Training Loss after epoch 80 is 0.10190266019199043 and Accuracy is 96.57534246575342\n",
      "Validation Loss after epoch 80 is 0.16015519201755524 and Accuracy is 92.3076923076923\n"
     ]
    },
    {
     "name": "stderr",
     "output_type": "stream",
     "text": [
      "Percentage training completed:  27%|█████████████▌                                    | 81/300 [00:26<01:11,  3.07it/s]"
     ]
    },
    {
     "name": "stdout",
     "output_type": "stream",
     "text": [
      "Training Loss after epoch 81 is 0.11704799639992416 and Accuracy is 95.89041095890411\n",
      "Validation Loss after epoch 81 is 0.21693606674671173 and Accuracy is 93.4065934065934\n"
     ]
    },
    {
     "name": "stderr",
     "output_type": "stream",
     "text": [
      "Percentage training completed:  27%|█████████████▋                                    | 82/300 [00:26<01:11,  3.07it/s]"
     ]
    },
    {
     "name": "stdout",
     "output_type": "stream",
     "text": [
      "Training Loss after epoch 82 is 0.14847394046373666 and Accuracy is 94.86301369863014\n",
      "Validation Loss after epoch 82 is 0.25439271330833435 and Accuracy is 93.4065934065934\n"
     ]
    },
    {
     "name": "stderr",
     "output_type": "stream",
     "text": [
      "Percentage training completed:  28%|█████████████▊                                    | 83/300 [00:26<01:11,  3.05it/s]"
     ]
    },
    {
     "name": "stdout",
     "output_type": "stream",
     "text": [
      "Training Loss after epoch 83 is 0.1804595163092017 and Accuracy is 94.86301369863014\n",
      "Validation Loss after epoch 83 is 0.24432258307933807 and Accuracy is 93.4065934065934\n"
     ]
    },
    {
     "name": "stderr",
     "output_type": "stream",
     "text": [
      "Percentage training completed:  28%|██████████████                                    | 84/300 [00:27<01:11,  3.04it/s]"
     ]
    },
    {
     "name": "stdout",
     "output_type": "stream",
     "text": [
      "Training Loss after epoch 84 is 0.15833244170062244 and Accuracy is 94.86301369863014\n",
      "Validation Loss after epoch 84 is 0.3069470524787903 and Accuracy is 86.81318681318682\n"
     ]
    },
    {
     "name": "stderr",
     "output_type": "stream",
     "text": [
      "Percentage training completed:  28%|██████████████▏                                   | 85/300 [00:27<01:10,  3.03it/s]"
     ]
    },
    {
     "name": "stdout",
     "output_type": "stream",
     "text": [
      "Training Loss after epoch 85 is 0.22809510938823224 and Accuracy is 93.4931506849315\n",
      "Validation Loss after epoch 85 is 0.1625891923904419 and Accuracy is 94.50549450549451\n"
     ]
    },
    {
     "name": "stderr",
     "output_type": "stream",
     "text": [
      "Percentage training completed:  29%|██████████████▎                                   | 86/300 [00:27<01:10,  3.05it/s]"
     ]
    },
    {
     "name": "stdout",
     "output_type": "stream",
     "text": [
      "Training Loss after epoch 86 is 0.19566060397773982 and Accuracy is 94.17808219178082\n",
      "Validation Loss after epoch 86 is 0.6185959577560425 and Accuracy is 79.12087912087912\n"
     ]
    },
    {
     "name": "stderr",
     "output_type": "stream",
     "text": [
      "Percentage training completed:  29%|██████████████▍                                   | 87/300 [00:28<01:10,  3.04it/s]"
     ]
    },
    {
     "name": "stdout",
     "output_type": "stream",
     "text": [
      "Training Loss after epoch 87 is 0.39642448667436836 and Accuracy is 91.43835616438356\n",
      "Validation Loss after epoch 87 is 0.13558579981327057 and Accuracy is 95.6043956043956\n"
     ]
    },
    {
     "name": "stderr",
     "output_type": "stream",
     "text": [
      "Percentage training completed:  29%|██████████████▋                                   | 88/300 [00:28<01:10,  2.99it/s]"
     ]
    },
    {
     "name": "stdout",
     "output_type": "stream",
     "text": [
      "Training Loss after epoch 88 is 0.2923501981422305 and Accuracy is 89.72602739726027\n",
      "Validation Loss after epoch 88 is 1.1270959377288818 and Accuracy is 71.42857142857143\n"
     ]
    },
    {
     "name": "stderr",
     "output_type": "stream",
     "text": [
      "Percentage training completed:  30%|██████████████▊                                   | 89/300 [00:28<01:11,  2.97it/s]"
     ]
    },
    {
     "name": "stdout",
     "output_type": "stream",
     "text": [
      "Training Loss after epoch 89 is 0.48012753333896396 and Accuracy is 90.06849315068493\n",
      "Validation Loss after epoch 89 is 0.6048510074615479 and Accuracy is 86.81318681318682\n"
     ]
    },
    {
     "name": "stderr",
     "output_type": "stream",
     "text": [
      "Percentage training completed:  30%|███████████████                                   | 90/300 [00:29<01:11,  2.94it/s]"
     ]
    },
    {
     "name": "stdout",
     "output_type": "stream",
     "text": [
      "Training Loss after epoch 90 is 0.4409725276287645 and Accuracy is 93.15068493150685\n",
      "Validation Loss after epoch 90 is 0.16357481479644775 and Accuracy is 95.6043956043956\n"
     ]
    },
    {
     "name": "stderr",
     "output_type": "stream",
     "text": [
      "Percentage training completed:  30%|███████████████▏                                  | 91/300 [00:29<01:11,  2.92it/s]"
     ]
    },
    {
     "name": "stdout",
     "output_type": "stream",
     "text": [
      "Training Loss after epoch 91 is 0.2930336656048894 and Accuracy is 92.46575342465754\n",
      "Validation Loss after epoch 91 is 0.1845760941505432 and Accuracy is 92.3076923076923\n"
     ]
    },
    {
     "name": "stderr",
     "output_type": "stream",
     "text": [
      "Percentage training completed:  31%|███████████████▎                                  | 92/300 [00:29<01:10,  2.94it/s]"
     ]
    },
    {
     "name": "stdout",
     "output_type": "stream",
     "text": [
      "Training Loss after epoch 92 is 0.18720108509878627 and Accuracy is 94.86301369863014\n",
      "Validation Loss after epoch 92 is 0.46511778235435486 and Accuracy is 84.61538461538461\n"
     ]
    },
    {
     "name": "stderr",
     "output_type": "stream",
     "text": [
      "Percentage training completed:  31%|███████████████▌                                  | 93/300 [00:30<01:10,  2.96it/s]"
     ]
    },
    {
     "name": "stdout",
     "output_type": "stream",
     "text": [
      "Training Loss after epoch 93 is 0.20830531761748716 and Accuracy is 95.89041095890411\n",
      "Validation Loss after epoch 93 is 0.16179148852825165 and Accuracy is 95.6043956043956\n"
     ]
    },
    {
     "name": "stderr",
     "output_type": "stream",
     "text": [
      "Percentage training completed:  31%|███████████████▋                                  | 94/300 [00:30<01:09,  2.98it/s]"
     ]
    },
    {
     "name": "stdout",
     "output_type": "stream",
     "text": [
      "Training Loss after epoch 94 is 0.09387901011505165 and Accuracy is 96.57534246575342\n",
      "Validation Loss after epoch 94 is 0.18189196288585663 and Accuracy is 94.50549450549451\n"
     ]
    },
    {
     "name": "stderr",
     "output_type": "stream",
     "text": [
      "Percentage training completed:  32%|███████████████▊                                  | 95/300 [00:30<01:08,  2.99it/s]"
     ]
    },
    {
     "name": "stdout",
     "output_type": "stream",
     "text": [
      "Training Loss after epoch 95 is 0.09444837846094742 and Accuracy is 96.91780821917808\n",
      "Validation Loss after epoch 95 is 0.141910120844841 and Accuracy is 95.6043956043956\n"
     ]
    },
    {
     "name": "stderr",
     "output_type": "stream",
     "text": [
      "Percentage training completed:  32%|████████████████                                  | 96/300 [00:31<01:08,  3.00it/s]"
     ]
    },
    {
     "name": "stdout",
     "output_type": "stream",
     "text": [
      "Training Loss after epoch 96 is 0.08949665208929218 and Accuracy is 97.6027397260274\n",
      "Validation Loss after epoch 96 is 0.13737985491752625 and Accuracy is 95.6043956043956\n"
     ]
    },
    {
     "name": "stderr",
     "output_type": "stream",
     "text": [
      "Percentage training completed:  32%|████████████████▏                                 | 97/300 [00:31<01:07,  3.00it/s]"
     ]
    },
    {
     "name": "stdout",
     "output_type": "stream",
     "text": [
      "Training Loss after epoch 97 is 0.08775405093911104 and Accuracy is 97.26027397260275\n",
      "Validation Loss after epoch 97 is 0.14969821274280548 and Accuracy is 95.6043956043956\n"
     ]
    },
    {
     "name": "stderr",
     "output_type": "stream",
     "text": [
      "Percentage training completed:  33%|████████████████▎                                 | 98/300 [00:31<01:07,  3.01it/s]"
     ]
    },
    {
     "name": "stdout",
     "output_type": "stream",
     "text": [
      "Training Loss after epoch 98 is 0.08371127623249777 and Accuracy is 97.26027397260275\n",
      "Validation Loss after epoch 98 is 0.13080063462257385 and Accuracy is 95.6043956043956\n"
     ]
    },
    {
     "name": "stderr",
     "output_type": "stream",
     "text": [
      "Percentage training completed:  33%|████████████████▌                                 | 99/300 [00:32<01:07,  2.98it/s]"
     ]
    },
    {
     "name": "stdout",
     "output_type": "stream",
     "text": [
      "Training Loss after epoch 99 is 0.08149416283122264 and Accuracy is 97.6027397260274\n",
      "Validation Loss after epoch 99 is 0.13289938867092133 and Accuracy is 95.6043956043956\n"
     ]
    },
    {
     "name": "stderr",
     "output_type": "stream",
     "text": [
      "Percentage training completed:  33%|████████████████▎                                | 100/300 [00:32<01:08,  2.92it/s]"
     ]
    },
    {
     "name": "stdout",
     "output_type": "stream",
     "text": [
      "Training Loss after epoch 100 is 0.07953827166929842 and Accuracy is 97.6027397260274\n",
      "Validation Loss after epoch 100 is 0.1284589320421219 and Accuracy is 95.6043956043956\n"
     ]
    },
    {
     "name": "stderr",
     "output_type": "stream",
     "text": [
      "Percentage training completed:  34%|████████████████▍                                | 101/300 [00:33<01:07,  2.95it/s]"
     ]
    },
    {
     "name": "stdout",
     "output_type": "stream",
     "text": [
      "Training Loss after epoch 101 is 0.07842035731300712 and Accuracy is 97.94520547945206\n",
      "Validation Loss after epoch 101 is 0.12514299154281616 and Accuracy is 95.6043956043956\n"
     ]
    },
    {
     "name": "stderr",
     "output_type": "stream",
     "text": [
      "Percentage training completed:  34%|████████████████▋                                | 102/300 [00:33<01:07,  2.94it/s]"
     ]
    },
    {
     "name": "stdout",
     "output_type": "stream",
     "text": [
      "Training Loss after epoch 102 is 0.07760903562884777 and Accuracy is 97.6027397260274\n",
      "Validation Loss after epoch 102 is 0.12340226769447327 and Accuracy is 95.6043956043956\n"
     ]
    },
    {
     "name": "stderr",
     "output_type": "stream",
     "text": [
      "Percentage training completed:  34%|████████████████▊                                | 103/300 [00:33<01:06,  2.95it/s]"
     ]
    },
    {
     "name": "stdout",
     "output_type": "stream",
     "text": [
      "Training Loss after epoch 103 is 0.07710054555209353 and Accuracy is 97.6027397260274\n",
      "Validation Loss after epoch 103 is 0.11948785930871964 and Accuracy is 95.6043956043956\n"
     ]
    },
    {
     "name": "stderr",
     "output_type": "stream",
     "text": [
      "Percentage training completed:  35%|████████████████▉                                | 104/300 [00:34<01:06,  2.95it/s]"
     ]
    },
    {
     "name": "stdout",
     "output_type": "stream",
     "text": [
      "Training Loss after epoch 104 is 0.07641647565178573 and Accuracy is 97.6027397260274\n",
      "Validation Loss after epoch 104 is 0.11856258660554886 and Accuracy is 95.6043956043956\n"
     ]
    },
    {
     "name": "stderr",
     "output_type": "stream",
     "text": [
      "Percentage training completed:  35%|█████████████████▏                               | 105/300 [00:34<01:06,  2.95it/s]"
     ]
    },
    {
     "name": "stdout",
     "output_type": "stream",
     "text": [
      "Training Loss after epoch 105 is 0.07632520543411374 and Accuracy is 97.6027397260274\n",
      "Validation Loss after epoch 105 is 0.1144024133682251 and Accuracy is 95.6043956043956\n"
     ]
    },
    {
     "name": "stderr",
     "output_type": "stream",
     "text": [
      "Percentage training completed:  35%|█████████████████▎                               | 106/300 [00:34<01:06,  2.93it/s]"
     ]
    },
    {
     "name": "stdout",
     "output_type": "stream",
     "text": [
      "Training Loss after epoch 106 is 0.07561070369556547 and Accuracy is 97.6027397260274\n",
      "Validation Loss after epoch 106 is 0.1150563582777977 and Accuracy is 95.6043956043956\n"
     ]
    },
    {
     "name": "stderr",
     "output_type": "stream",
     "text": [
      "Percentage training completed:  36%|█████████████████▍                               | 107/300 [00:35<01:05,  2.92it/s]"
     ]
    },
    {
     "name": "stdout",
     "output_type": "stream",
     "text": [
      "Training Loss after epoch 107 is 0.07609754402656108 and Accuracy is 97.94520547945206\n",
      "Validation Loss after epoch 107 is 0.10963514447212219 and Accuracy is 95.6043956043956\n"
     ]
    },
    {
     "name": "stderr",
     "output_type": "stream",
     "text": [
      "Percentage training completed:  36%|█████████████████▋                               | 108/300 [00:35<01:05,  2.93it/s]"
     ]
    },
    {
     "name": "stdout",
     "output_type": "stream",
     "text": [
      "Training Loss after epoch 108 is 0.07505406367126852 and Accuracy is 97.6027397260274\n",
      "Validation Loss after epoch 108 is 0.11483263969421387 and Accuracy is 95.6043956043956\n"
     ]
    },
    {
     "name": "stderr",
     "output_type": "stream",
     "text": [
      "Percentage training completed:  36%|█████████████████▊                               | 109/300 [00:35<01:05,  2.92it/s]"
     ]
    },
    {
     "name": "stdout",
     "output_type": "stream",
     "text": [
      "Training Loss after epoch 109 is 0.07759373921435327 and Accuracy is 97.94520547945206\n",
      "Validation Loss after epoch 109 is 0.10642945766448975 and Accuracy is 95.6043956043956\n"
     ]
    },
    {
     "name": "stderr",
     "output_type": "stream",
     "text": [
      "Percentage training completed:  37%|█████████████████▉                               | 110/300 [00:36<01:05,  2.91it/s]"
     ]
    },
    {
     "name": "stdout",
     "output_type": "stream",
     "text": [
      "Training Loss after epoch 110 is 0.07726510795764625 and Accuracy is 97.26027397260275\n",
      "Validation Loss after epoch 110 is 0.1343107968568802 and Accuracy is 95.6043956043956\n"
     ]
    },
    {
     "name": "stderr",
     "output_type": "stream",
     "text": [
      "Percentage training completed:  37%|██████████████████▏                              | 111/300 [00:36<01:05,  2.90it/s]"
     ]
    },
    {
     "name": "stdout",
     "output_type": "stream",
     "text": [
      "Training Loss after epoch 111 is 0.09773428672924638 and Accuracy is 96.23287671232876\n",
      "Validation Loss after epoch 111 is 0.16296781599521637 and Accuracy is 93.4065934065934\n"
     ]
    },
    {
     "name": "stderr",
     "output_type": "stream",
     "text": [
      "Percentage training completed:  37%|██████████████████▎                              | 112/300 [00:36<01:06,  2.84it/s]"
     ]
    },
    {
     "name": "stdout",
     "output_type": "stream",
     "text": [
      "Training Loss after epoch 112 is 0.13443802781403064 and Accuracy is 95.54794520547945\n",
      "Validation Loss after epoch 112 is 0.2090381383895874 and Accuracy is 94.50549450549451\n"
     ]
    },
    {
     "name": "stderr",
     "output_type": "stream",
     "text": [
      "Percentage training completed:  38%|██████████████████▍                              | 113/300 [00:37<01:11,  2.63it/s]"
     ]
    },
    {
     "name": "stdout",
     "output_type": "stream",
     "text": [
      "Training Loss after epoch 113 is 0.1564208372728899 and Accuracy is 95.20547945205479\n",
      "Validation Loss after epoch 113 is 0.28871747851371765 and Accuracy is 91.20879120879121\n"
     ]
    },
    {
     "name": "stderr",
     "output_type": "stream",
     "text": [
      "Percentage training completed:  38%|██████████████████▌                              | 114/300 [00:37<01:10,  2.63it/s]"
     ]
    },
    {
     "name": "stdout",
     "output_type": "stream",
     "text": [
      "Training Loss after epoch 114 is 0.28672299571335313 and Accuracy is 92.8082191780822\n",
      "Validation Loss after epoch 114 is 0.1243467703461647 and Accuracy is 94.50549450549451\n"
     ]
    },
    {
     "name": "stderr",
     "output_type": "stream",
     "text": [
      "Percentage training completed:  38%|██████████████████▊                              | 115/300 [00:38<01:10,  2.61it/s]"
     ]
    },
    {
     "name": "stdout",
     "output_type": "stream",
     "text": [
      "Training Loss after epoch 115 is 0.31573575059883296 and Accuracy is 89.38356164383562\n",
      "Validation Loss after epoch 115 is 0.2196214348077774 and Accuracy is 94.50549450549451\n"
     ]
    },
    {
     "name": "stderr",
     "output_type": "stream",
     "text": [
      "Percentage training completed:  39%|██████████████████▉                              | 116/300 [00:38<01:11,  2.58it/s]"
     ]
    },
    {
     "name": "stdout",
     "output_type": "stream",
     "text": [
      "Training Loss after epoch 116 is 0.17452742950990796 and Accuracy is 94.52054794520548\n",
      "Validation Loss after epoch 116 is 0.3898249864578247 and Accuracy is 90.10989010989012\n"
     ]
    },
    {
     "name": "stderr",
     "output_type": "stream",
     "text": [
      "Percentage training completed:  39%|███████████████████                              | 117/300 [00:38<01:14,  2.46it/s]"
     ]
    },
    {
     "name": "stdout",
     "output_type": "stream",
     "text": [
      "Training Loss after epoch 117 is 0.3325251944595948 and Accuracy is 93.83561643835617\n",
      "Validation Loss after epoch 117 is 0.13312244415283203 and Accuracy is 95.6043956043956\n"
     ]
    },
    {
     "name": "stderr",
     "output_type": "stream",
     "text": [
      "Percentage training completed:  39%|███████████████████▎                             | 118/300 [00:39<01:13,  2.49it/s]"
     ]
    },
    {
     "name": "stdout",
     "output_type": "stream",
     "text": [
      "Training Loss after epoch 118 is 0.16315737647237255 and Accuracy is 94.52054794520548\n",
      "Validation Loss after epoch 118 is 0.4658219814300537 and Accuracy is 85.71428571428571\n"
     ]
    },
    {
     "name": "stderr",
     "output_type": "stream",
     "text": [
      "Percentage training completed:  40%|███████████████████▍                             | 119/300 [00:39<01:12,  2.50it/s]"
     ]
    },
    {
     "name": "stdout",
     "output_type": "stream",
     "text": [
      "Training Loss after epoch 119 is 0.238664670730941 and Accuracy is 94.52054794520548\n",
      "Validation Loss after epoch 119 is 0.26207607984542847 and Accuracy is 93.4065934065934\n"
     ]
    },
    {
     "name": "stderr",
     "output_type": "stream",
     "text": [
      "Percentage training completed:  40%|███████████████████▌                             | 120/300 [00:40<01:15,  2.39it/s]"
     ]
    },
    {
     "name": "stdout",
     "output_type": "stream",
     "text": [
      "Training Loss after epoch 120 is 0.19768662874121218 and Accuracy is 94.52054794520548\n",
      "Validation Loss after epoch 120 is 0.13244767487049103 and Accuracy is 95.6043956043956\n"
     ]
    },
    {
     "name": "stderr",
     "output_type": "stream",
     "text": [
      "Percentage training completed:  40%|███████████████████▊                             | 121/300 [00:40<01:14,  2.40it/s]"
     ]
    },
    {
     "name": "stdout",
     "output_type": "stream",
     "text": [
      "Training Loss after epoch 121 is 0.10650178979849442 and Accuracy is 96.57534246575342\n",
      "Validation Loss after epoch 121 is 0.2224450558423996 and Accuracy is 94.50549450549451\n"
     ]
    },
    {
     "name": "stderr",
     "output_type": "stream",
     "text": [
      "Percentage training completed:  41%|███████████████████▉                             | 122/300 [00:40<01:13,  2.43it/s]"
     ]
    },
    {
     "name": "stdout",
     "output_type": "stream",
     "text": [
      "Training Loss after epoch 122 is 0.12567903286253568 and Accuracy is 96.23287671232876\n",
      "Validation Loss after epoch 122 is 0.15719150006771088 and Accuracy is 95.6043956043956\n"
     ]
    },
    {
     "name": "stderr",
     "output_type": "stream",
     "text": [
      "Percentage training completed:  41%|████████████████████                             | 123/300 [00:41<01:12,  2.44it/s]"
     ]
    },
    {
     "name": "stdout",
     "output_type": "stream",
     "text": [
      "Training Loss after epoch 123 is 0.0800243095611222 and Accuracy is 97.26027397260275\n",
      "Validation Loss after epoch 123 is 0.12589098513126373 and Accuracy is 95.6043956043956\n"
     ]
    },
    {
     "name": "stderr",
     "output_type": "stream",
     "text": [
      "Percentage training completed:  41%|████████████████████▎                            | 124/300 [00:41<01:13,  2.40it/s]"
     ]
    },
    {
     "name": "stdout",
     "output_type": "stream",
     "text": [
      "Training Loss after epoch 124 is 0.07225218375097028 and Accuracy is 97.94520547945206\n",
      "Validation Loss after epoch 124 is 0.12022525072097778 and Accuracy is 95.6043956043956\n"
     ]
    },
    {
     "name": "stderr",
     "output_type": "stream",
     "text": [
      "Percentage training completed:  42%|████████████████████▍                            | 125/300 [00:42<01:11,  2.44it/s]"
     ]
    },
    {
     "name": "stdout",
     "output_type": "stream",
     "text": [
      "Training Loss after epoch 125 is 0.07195084586855956 and Accuracy is 97.6027397260274\n",
      "Validation Loss after epoch 125 is 0.13115434348583221 and Accuracy is 95.6043956043956\n"
     ]
    },
    {
     "name": "stderr",
     "output_type": "stream",
     "text": [
      "Percentage training completed:  42%|████████████████████▌                            | 126/300 [00:42<01:10,  2.48it/s]"
     ]
    },
    {
     "name": "stdout",
     "output_type": "stream",
     "text": [
      "Training Loss after epoch 126 is 0.07211466762819327 and Accuracy is 98.28767123287672\n",
      "Validation Loss after epoch 126 is 0.11487697809934616 and Accuracy is 95.6043956043956\n"
     ]
    },
    {
     "name": "stderr",
     "output_type": "stream",
     "text": [
      "Percentage training completed:  42%|████████████████████▋                            | 127/300 [00:42<01:11,  2.43it/s]"
     ]
    },
    {
     "name": "stdout",
     "output_type": "stream",
     "text": [
      "Training Loss after epoch 127 is 0.069383930566255 and Accuracy is 97.94520547945206\n",
      "Validation Loss after epoch 127 is 0.1182808056473732 and Accuracy is 95.6043956043956\n"
     ]
    },
    {
     "name": "stderr",
     "output_type": "stream",
     "text": [
      "Percentage training completed:  43%|████████████████████▉                            | 128/300 [00:43<01:10,  2.42it/s]"
     ]
    },
    {
     "name": "stdout",
     "output_type": "stream",
     "text": [
      "Training Loss after epoch 128 is 0.069081832584925 and Accuracy is 98.28767123287672\n",
      "Validation Loss after epoch 128 is 0.11230691522359848 and Accuracy is 95.6043956043956\n"
     ]
    },
    {
     "name": "stderr",
     "output_type": "stream",
     "text": [
      "Percentage training completed:  43%|█████████████████████                            | 129/300 [00:43<01:09,  2.45it/s]"
     ]
    },
    {
     "name": "stdout",
     "output_type": "stream",
     "text": [
      "Training Loss after epoch 129 is 0.06804386732401327 and Accuracy is 97.94520547945206\n",
      "Validation Loss after epoch 129 is 0.1113208755850792 and Accuracy is 95.6043956043956\n"
     ]
    },
    {
     "name": "stderr",
     "output_type": "stream",
     "text": [
      "Percentage training completed:  43%|█████████████████████▏                           | 130/300 [00:44<01:09,  2.46it/s]"
     ]
    },
    {
     "name": "stdout",
     "output_type": "stream",
     "text": [
      "Training Loss after epoch 130 is 0.0679749655071646 and Accuracy is 97.94520547945206\n",
      "Validation Loss after epoch 130 is 0.10844586044549942 and Accuracy is 95.6043956043956\n"
     ]
    },
    {
     "name": "stderr",
     "output_type": "stream",
     "text": [
      "Percentage training completed:  44%|█████████████████████▍                           | 131/300 [00:44<01:08,  2.45it/s]"
     ]
    },
    {
     "name": "stdout",
     "output_type": "stream",
     "text": [
      "Training Loss after epoch 131 is 0.0675508878310211 and Accuracy is 97.94520547945206\n",
      "Validation Loss after epoch 131 is 0.10690084844827652 and Accuracy is 95.6043956043956\n"
     ]
    },
    {
     "name": "stderr",
     "output_type": "stream",
     "text": [
      "Percentage training completed:  44%|█████████████████████▌                           | 132/300 [00:44<01:08,  2.46it/s]"
     ]
    },
    {
     "name": "stdout",
     "output_type": "stream",
     "text": [
      "Training Loss after epoch 132 is 0.0674397308845073 and Accuracy is 98.28767123287672\n",
      "Validation Loss after epoch 132 is 0.1048174723982811 and Accuracy is 95.6043956043956\n"
     ]
    },
    {
     "name": "stderr",
     "output_type": "stream",
     "text": [
      "Percentage training completed:  44%|█████████████████████▋                           | 133/300 [00:45<01:07,  2.46it/s]"
     ]
    },
    {
     "name": "stdout",
     "output_type": "stream",
     "text": [
      "Training Loss after epoch 133 is 0.06714086649008096 and Accuracy is 98.28767123287672\n",
      "Validation Loss after epoch 133 is 0.10364783555269241 and Accuracy is 95.6043956043956\n"
     ]
    },
    {
     "name": "stderr",
     "output_type": "stream",
     "text": [
      "Percentage training completed:  45%|█████████████████████▉                           | 134/300 [00:45<01:07,  2.46it/s]"
     ]
    },
    {
     "name": "stdout",
     "output_type": "stream",
     "text": [
      "Training Loss after epoch 134 is 0.06706528910435736 and Accuracy is 98.28767123287672\n",
      "Validation Loss after epoch 134 is 0.1018851026892662 and Accuracy is 95.6043956043956\n"
     ]
    },
    {
     "name": "stderr",
     "output_type": "stream",
     "text": [
      "Percentage training completed:  45%|██████████████████████                           | 135/300 [00:46<01:07,  2.46it/s]"
     ]
    },
    {
     "name": "stdout",
     "output_type": "stream",
     "text": [
      "Training Loss after epoch 135 is 0.06673545192461461 and Accuracy is 98.28767123287672\n",
      "Validation Loss after epoch 135 is 0.10128233581781387 and Accuracy is 95.6043956043956\n"
     ]
    },
    {
     "name": "stderr",
     "output_type": "stream",
     "text": [
      "Percentage training completed:  45%|██████████████████████▏                          | 136/300 [00:46<01:06,  2.45it/s]"
     ]
    },
    {
     "name": "stdout",
     "output_type": "stream",
     "text": [
      "Training Loss after epoch 136 is 0.0667424167972058 and Accuracy is 98.28767123287672\n",
      "Validation Loss after epoch 136 is 0.09952372312545776 and Accuracy is 95.6043956043956\n"
     ]
    },
    {
     "name": "stderr",
     "output_type": "stream",
     "text": [
      "Percentage training completed:  46%|██████████████████████▍                          | 137/300 [00:47<01:08,  2.37it/s]"
     ]
    },
    {
     "name": "stdout",
     "output_type": "stream",
     "text": [
      "Training Loss after epoch 137 is 0.06627621972002089 and Accuracy is 98.28767123287672\n",
      "Validation Loss after epoch 137 is 0.0997948944568634 and Accuracy is 95.6043956043956\n"
     ]
    },
    {
     "name": "stderr",
     "output_type": "stream",
     "text": [
      "Percentage training completed:  46%|██████████████████████▌                          | 138/300 [00:47<01:08,  2.37it/s]"
     ]
    },
    {
     "name": "stdout",
     "output_type": "stream",
     "text": [
      "Training Loss after epoch 138 is 0.06652281864080578 and Accuracy is 98.28767123287672\n",
      "Validation Loss after epoch 138 is 0.09749966859817505 and Accuracy is 95.6043956043956\n"
     ]
    },
    {
     "name": "stderr",
     "output_type": "stream",
     "text": [
      "Percentage training completed:  46%|██████████████████████▋                          | 139/300 [00:47<01:08,  2.36it/s]"
     ]
    },
    {
     "name": "stdout",
     "output_type": "stream",
     "text": [
      "Training Loss after epoch 139 is 0.06579794324934482 and Accuracy is 98.28767123287672\n",
      "Validation Loss after epoch 139 is 0.0997915267944336 and Accuracy is 95.6043956043956\n"
     ]
    },
    {
     "name": "stderr",
     "output_type": "stream",
     "text": [
      "Percentage training completed:  47%|██████████████████████▊                          | 140/300 [00:48<01:06,  2.39it/s]"
     ]
    },
    {
     "name": "stdout",
     "output_type": "stream",
     "text": [
      "Training Loss after epoch 140 is 0.06694749211892485 and Accuracy is 98.28767123287672\n",
      "Validation Loss after epoch 140 is 0.09630555659532547 and Accuracy is 95.6043956043956\n"
     ]
    },
    {
     "name": "stderr",
     "output_type": "stream",
     "text": [
      "Percentage training completed:  47%|███████████████████████                          | 141/300 [00:48<01:06,  2.41it/s]"
     ]
    },
    {
     "name": "stdout",
     "output_type": "stream",
     "text": [
      "Training Loss after epoch 141 is 0.06638838371727615 and Accuracy is 97.6027397260274\n",
      "Validation Loss after epoch 141 is 0.10657209157943726 and Accuracy is 95.6043956043956\n"
     ]
    },
    {
     "name": "stderr",
     "output_type": "stream",
     "text": [
      "Percentage training completed:  47%|███████████████████████▏                         | 142/300 [00:49<01:08,  2.30it/s]"
     ]
    },
    {
     "name": "stdout",
     "output_type": "stream",
     "text": [
      "Training Loss after epoch 142 is 0.07313163119833917 and Accuracy is 97.94520547945206\n",
      "Validation Loss after epoch 142 is 0.11454802006483078 and Accuracy is 96.7032967032967\n"
     ]
    },
    {
     "name": "stderr",
     "output_type": "stream",
     "text": [
      "Percentage training completed:  48%|███████████████████████▎                         | 143/300 [00:49<01:07,  2.32it/s]"
     ]
    },
    {
     "name": "stdout",
     "output_type": "stream",
     "text": [
      "Training Loss after epoch 143 is 0.08714665723964572 and Accuracy is 96.91780821917808\n",
      "Validation Loss after epoch 143 is 0.1997179388999939 and Accuracy is 94.50549450549451\n"
     ]
    },
    {
     "name": "stderr",
     "output_type": "stream",
     "text": [
      "Percentage training completed:  48%|███████████████████████▌                         | 144/300 [00:50<01:07,  2.30it/s]"
     ]
    },
    {
     "name": "stdout",
     "output_type": "stream",
     "text": [
      "Training Loss after epoch 144 is 0.17815231191925704 and Accuracy is 94.17808219178082\n",
      "Validation Loss after epoch 144 is 0.2804117500782013 and Accuracy is 91.20879120879121\n"
     ]
    },
    {
     "name": "stderr",
     "output_type": "stream",
     "text": [
      "Percentage training completed:  48%|███████████████████████▋                         | 145/300 [00:50<01:08,  2.26it/s]"
     ]
    },
    {
     "name": "stdout",
     "output_type": "stream",
     "text": [
      "Training Loss after epoch 145 is 0.2620142102241516 and Accuracy is 93.15068493150685\n",
      "Validation Loss after epoch 145 is 0.14925965666770935 and Accuracy is 94.50549450549451\n"
     ]
    },
    {
     "name": "stderr",
     "output_type": "stream",
     "text": [
      "Percentage training completed:  49%|███████████████████████▊                         | 146/300 [00:50<01:08,  2.26it/s]"
     ]
    },
    {
     "name": "stdout",
     "output_type": "stream",
     "text": [
      "Training Loss after epoch 146 is 0.30846264861756933 and Accuracy is 87.67123287671232\n",
      "Validation Loss after epoch 146 is 0.12636201083660126 and Accuracy is 95.6043956043956\n"
     ]
    },
    {
     "name": "stderr",
     "output_type": "stream",
     "text": [
      "Percentage training completed:  49%|████████████████████████                         | 147/300 [00:51<01:09,  2.20it/s]"
     ]
    },
    {
     "name": "stdout",
     "output_type": "stream",
     "text": [
      "Training Loss after epoch 147 is 0.09010447089094668 and Accuracy is 96.57534246575342\n",
      "Validation Loss after epoch 147 is 0.12310561537742615 and Accuracy is 95.6043956043956\n"
     ]
    },
    {
     "name": "stderr",
     "output_type": "stream",
     "text": [
      "Percentage training completed:  49%|████████████████████████▏                        | 148/300 [00:51<01:10,  2.16it/s]"
     ]
    },
    {
     "name": "stdout",
     "output_type": "stream",
     "text": [
      "Training Loss after epoch 148 is 0.06884819804108702 and Accuracy is 97.94520547945206\n",
      "Validation Loss after epoch 148 is 0.12087338417768478 and Accuracy is 95.6043956043956\n"
     ]
    },
    {
     "name": "stderr",
     "output_type": "stream",
     "text": [
      "Percentage training completed:  50%|████████████████████████▎                        | 149/300 [00:52<01:11,  2.10it/s]"
     ]
    },
    {
     "name": "stdout",
     "output_type": "stream",
     "text": [
      "Training Loss after epoch 149 is 0.07350837984122335 and Accuracy is 97.26027397260275\n",
      "Validation Loss after epoch 149 is 0.1493256688117981 and Accuracy is 95.6043956043956\n"
     ]
    },
    {
     "name": "stderr",
     "output_type": "stream",
     "text": [
      "Percentage training completed:  50%|████████████████████████▌                        | 150/300 [00:52<01:11,  2.09it/s]"
     ]
    },
    {
     "name": "stdout",
     "output_type": "stream",
     "text": [
      "Training Loss after epoch 150 is 0.07390623185783625 and Accuracy is 97.94520547945206\n",
      "Validation Loss after epoch 150 is 0.11817702651023865 and Accuracy is 95.6043956043956\n"
     ]
    },
    {
     "name": "stderr",
     "output_type": "stream",
     "text": [
      "Percentage training completed:  50%|████████████████████████▋                        | 151/300 [00:53<01:11,  2.10it/s]"
     ]
    },
    {
     "name": "stdout",
     "output_type": "stream",
     "text": [
      "Training Loss after epoch 151 is 0.07115399644244462 and Accuracy is 97.94520547945206\n",
      "Validation Loss after epoch 151 is 0.12636198103427887 and Accuracy is 95.6043956043956\n"
     ]
    },
    {
     "name": "stderr",
     "output_type": "stream",
     "text": [
      "Percentage training completed:  51%|████████████████████████▊                        | 152/300 [00:53<01:11,  2.07it/s]"
     ]
    },
    {
     "name": "stdout",
     "output_type": "stream",
     "text": [
      "Training Loss after epoch 152 is 0.06536347071523778 and Accuracy is 98.63013698630137\n",
      "Validation Loss after epoch 152 is 0.10881076008081436 and Accuracy is 95.6043956043956\n"
     ]
    },
    {
     "name": "stderr",
     "output_type": "stream",
     "text": [
      "Percentage training completed:  51%|████████████████████████▉                        | 153/300 [00:54<01:08,  2.16it/s]"
     ]
    },
    {
     "name": "stdout",
     "output_type": "stream",
     "text": [
      "Training Loss after epoch 153 is 0.06454031442990527 and Accuracy is 97.94520547945206\n",
      "Validation Loss after epoch 153 is 0.1172824278473854 and Accuracy is 95.6043956043956\n"
     ]
    },
    {
     "name": "stderr",
     "output_type": "stream",
     "text": [
      "Percentage training completed:  51%|█████████████████████████▏                       | 154/300 [00:54<01:06,  2.20it/s]"
     ]
    },
    {
     "name": "stdout",
     "output_type": "stream",
     "text": [
      "Training Loss after epoch 154 is 0.06379118372569792 and Accuracy is 98.28767123287672\n",
      "Validation Loss after epoch 154 is 0.10413859039545059 and Accuracy is 95.6043956043956\n"
     ]
    },
    {
     "name": "stderr",
     "output_type": "stream",
     "text": [
      "Percentage training completed:  52%|█████████████████████████▎                       | 155/300 [00:55<01:05,  2.20it/s]"
     ]
    },
    {
     "name": "stdout",
     "output_type": "stream",
     "text": [
      "Training Loss after epoch 155 is 0.06349275030661375 and Accuracy is 97.94520547945206\n",
      "Validation Loss after epoch 155 is 0.11422979831695557 and Accuracy is 95.6043956043956\n"
     ]
    },
    {
     "name": "stderr",
     "output_type": "stream",
     "text": [
      "Percentage training completed:  52%|█████████████████████████▍                       | 156/300 [00:55<01:04,  2.24it/s]"
     ]
    },
    {
     "name": "stdout",
     "output_type": "stream",
     "text": [
      "Training Loss after epoch 156 is 0.06483188631245866 and Accuracy is 98.28767123287672\n",
      "Validation Loss after epoch 156 is 0.10257163643836975 and Accuracy is 95.6043956043956\n"
     ]
    },
    {
     "name": "stderr",
     "output_type": "stream",
     "text": [
      "Percentage training completed:  52%|█████████████████████████▋                       | 157/300 [00:56<01:03,  2.26it/s]"
     ]
    },
    {
     "name": "stdout",
     "output_type": "stream",
     "text": [
      "Training Loss after epoch 157 is 0.06566775079118088 and Accuracy is 97.94520547945206\n",
      "Validation Loss after epoch 157 is 0.12123080343008041 and Accuracy is 95.6043956043956\n"
     ]
    },
    {
     "name": "stderr",
     "output_type": "stream",
     "text": [
      "Percentage training completed:  53%|█████████████████████████▊                       | 158/300 [00:56<01:02,  2.28it/s]"
     ]
    },
    {
     "name": "stdout",
     "output_type": "stream",
     "text": [
      "Training Loss after epoch 158 is 0.07309685266809537 and Accuracy is 97.26027397260275\n",
      "Validation Loss after epoch 158 is 0.1283697634935379 and Accuracy is 94.50549450549451\n"
     ]
    },
    {
     "name": "stderr",
     "output_type": "stream",
     "text": [
      "Percentage training completed:  53%|█████████████████████████▉                       | 159/300 [00:57<01:04,  2.19it/s]"
     ]
    },
    {
     "name": "stdout",
     "output_type": "stream",
     "text": [
      "Training Loss after epoch 159 is 0.08959693820215761 and Accuracy is 96.91780821917808\n",
      "Validation Loss after epoch 159 is 0.21931545436382294 and Accuracy is 94.50549450549451\n"
     ]
    },
    {
     "name": "stderr",
     "output_type": "stream",
     "text": [
      "Percentage training completed:  53%|██████████████████████████▏                      | 160/300 [00:57<01:03,  2.21it/s]"
     ]
    },
    {
     "name": "stdout",
     "output_type": "stream",
     "text": [
      "Training Loss after epoch 160 is 0.19071249052649364 and Accuracy is 94.52054794520548\n",
      "Validation Loss after epoch 160 is 0.22092628479003906 and Accuracy is 93.4065934065934\n"
     ]
    },
    {
     "name": "stderr",
     "output_type": "stream",
     "text": [
      "Percentage training completed:  54%|██████████████████████████▎                      | 161/300 [00:57<01:02,  2.23it/s]"
     ]
    },
    {
     "name": "stdout",
     "output_type": "stream",
     "text": [
      "Training Loss after epoch 161 is 0.12926188074052333 and Accuracy is 96.91780821917808\n",
      "Validation Loss after epoch 161 is 0.26897773146629333 and Accuracy is 92.3076923076923\n"
     ]
    },
    {
     "name": "stderr",
     "output_type": "stream",
     "text": [
      "Percentage training completed:  54%|██████████████████████████▍                      | 162/300 [00:58<01:01,  2.25it/s]"
     ]
    },
    {
     "name": "stdout",
     "output_type": "stream",
     "text": [
      "Training Loss after epoch 162 is 0.2257032515539322 and Accuracy is 94.17808219178082\n",
      "Validation Loss after epoch 162 is 0.23917286098003387 and Accuracy is 93.4065934065934\n"
     ]
    },
    {
     "name": "stderr",
     "output_type": "stream",
     "text": [
      "Percentage training completed:  54%|██████████████████████████▌                      | 163/300 [00:58<01:01,  2.22it/s]"
     ]
    },
    {
     "name": "stdout",
     "output_type": "stream",
     "text": [
      "Training Loss after epoch 163 is 0.12742835157550872 and Accuracy is 96.57534246575342\n",
      "Validation Loss after epoch 163 is 0.237660750746727 and Accuracy is 93.4065934065934\n"
     ]
    },
    {
     "name": "stderr",
     "output_type": "stream",
     "text": [
      "Percentage training completed:  55%|██████████████████████████▊                      | 164/300 [00:59<01:01,  2.22it/s]"
     ]
    },
    {
     "name": "stdout",
     "output_type": "stream",
     "text": [
      "Training Loss after epoch 164 is 0.228552514774492 and Accuracy is 94.17808219178082\n",
      "Validation Loss after epoch 164 is 0.14429105818271637 and Accuracy is 94.50549450549451\n"
     ]
    },
    {
     "name": "stderr",
     "output_type": "stream",
     "text": [
      "Percentage training completed:  55%|██████████████████████████▉                      | 165/300 [00:59<01:00,  2.24it/s]"
     ]
    },
    {
     "name": "stdout",
     "output_type": "stream",
     "text": [
      "Training Loss after epoch 165 is 0.08850294975563884 and Accuracy is 96.91780821917808\n",
      "Validation Loss after epoch 165 is 0.10719738155603409 and Accuracy is 95.6043956043956\n"
     ]
    },
    {
     "name": "stderr",
     "output_type": "stream",
     "text": [
      "Percentage training completed:  55%|███████████████████████████                      | 166/300 [01:00<01:00,  2.22it/s]"
     ]
    },
    {
     "name": "stdout",
     "output_type": "stream",
     "text": [
      "Training Loss after epoch 166 is 0.07745502179022878 and Accuracy is 97.26027397260275\n",
      "Validation Loss after epoch 166 is 0.20866172015666962 and Accuracy is 94.50549450549451\n"
     ]
    },
    {
     "name": "stderr",
     "output_type": "stream",
     "text": [
      "Percentage training completed:  56%|███████████████████████████▎                     | 167/300 [01:00<00:59,  2.22it/s]"
     ]
    },
    {
     "name": "stdout",
     "output_type": "stream",
     "text": [
      "Training Loss after epoch 167 is 0.17012208233354614 and Accuracy is 95.20547945205479\n",
      "Validation Loss after epoch 167 is 0.15259169042110443 and Accuracy is 93.4065934065934\n"
     ]
    },
    {
     "name": "stderr",
     "output_type": "stream",
     "text": [
      "Percentage training completed:  56%|███████████████████████████▍                     | 168/300 [01:01<00:58,  2.28it/s]"
     ]
    },
    {
     "name": "stdout",
     "output_type": "stream",
     "text": [
      "Training Loss after epoch 168 is 0.08198438670951873 and Accuracy is 97.94520547945206\n",
      "Validation Loss after epoch 168 is 0.10226597636938095 and Accuracy is 95.6043956043956\n"
     ]
    },
    {
     "name": "stderr",
     "output_type": "stream",
     "text": [
      "Percentage training completed:  56%|███████████████████████████▌                     | 169/300 [01:01<00:57,  2.27it/s]"
     ]
    },
    {
     "name": "stdout",
     "output_type": "stream",
     "text": [
      "Training Loss after epoch 169 is 0.05970315154409036 and Accuracy is 98.28767123287672\n",
      "Validation Loss after epoch 169 is 0.10414433479309082 and Accuracy is 95.6043956043956\n"
     ]
    },
    {
     "name": "stderr",
     "output_type": "stream",
     "text": [
      "Percentage training completed:  57%|███████████████████████████▊                     | 170/300 [01:01<00:57,  2.24it/s]"
     ]
    },
    {
     "name": "stdout",
     "output_type": "stream",
     "text": [
      "Training Loss after epoch 170 is 0.05939860231010243 and Accuracy is 98.28767123287672\n",
      "Validation Loss after epoch 170 is 0.09781491756439209 and Accuracy is 95.6043956043956\n"
     ]
    },
    {
     "name": "stderr",
     "output_type": "stream",
     "text": [
      "Percentage training completed:  57%|███████████████████████████▉                     | 171/300 [01:02<00:56,  2.27it/s]"
     ]
    },
    {
     "name": "stdout",
     "output_type": "stream",
     "text": [
      "Training Loss after epoch 171 is 0.05986379176029004 and Accuracy is 98.63013698630137\n",
      "Validation Loss after epoch 171 is 0.1051797941327095 and Accuracy is 95.6043956043956\n"
     ]
    },
    {
     "name": "stderr",
     "output_type": "stream",
     "text": [
      "Percentage training completed:  57%|████████████████████████████                     | 172/300 [01:02<00:54,  2.37it/s]"
     ]
    },
    {
     "name": "stdout",
     "output_type": "stream",
     "text": [
      "Training Loss after epoch 172 is 0.06090346958953887 and Accuracy is 98.28767123287672\n",
      "Validation Loss after epoch 172 is 0.09784161299467087 and Accuracy is 95.6043956043956\n"
     ]
    },
    {
     "name": "stderr",
     "output_type": "stream",
     "text": [
      "Percentage training completed:  58%|████████████████████████████▎                    | 173/300 [01:03<00:52,  2.43it/s]"
     ]
    },
    {
     "name": "stdout",
     "output_type": "stream",
     "text": [
      "Training Loss after epoch 173 is 0.06125506274402141 and Accuracy is 98.63013698630137\n",
      "Validation Loss after epoch 173 is 0.10790809243917465 and Accuracy is 95.6043956043956\n"
     ]
    },
    {
     "name": "stderr",
     "output_type": "stream",
     "text": [
      "Percentage training completed:  58%|████████████████████████████▍                    | 174/300 [01:03<00:52,  2.41it/s]"
     ]
    },
    {
     "name": "stdout",
     "output_type": "stream",
     "text": [
      "Training Loss after epoch 174 is 0.06420353001449257 and Accuracy is 98.28767123287672\n",
      "Validation Loss after epoch 174 is 0.10570179671049118 and Accuracy is 97.8021978021978\n"
     ]
    },
    {
     "name": "stderr",
     "output_type": "stream",
     "text": [
      "Percentage training completed:  58%|████████████████████████████▌                    | 175/300 [01:03<00:50,  2.47it/s]"
     ]
    },
    {
     "name": "stdout",
     "output_type": "stream",
     "text": [
      "Training Loss after epoch 175 is 0.06831802455708384 and Accuracy is 98.28767123287672\n",
      "Validation Loss after epoch 175 is 0.1307101547718048 and Accuracy is 96.7032967032967\n"
     ]
    },
    {
     "name": "stderr",
     "output_type": "stream",
     "text": [
      "Percentage training completed:  59%|████████████████████████████▋                    | 176/300 [01:04<00:49,  2.52it/s]"
     ]
    },
    {
     "name": "stdout",
     "output_type": "stream",
     "text": [
      "Training Loss after epoch 176 is 0.08741796605754644 and Accuracy is 96.91780821917808\n",
      "Validation Loss after epoch 176 is 0.24188371002674103 and Accuracy is 93.4065934065934\n"
     ]
    },
    {
     "name": "stderr",
     "output_type": "stream",
     "text": [
      "Percentage training completed:  59%|████████████████████████████▉                    | 177/300 [01:04<00:51,  2.40it/s]"
     ]
    },
    {
     "name": "stdout",
     "output_type": "stream",
     "text": [
      "Training Loss after epoch 177 is 0.2086785577237606 and Accuracy is 94.17808219178082\n",
      "Validation Loss after epoch 177 is 0.12459919601678848 and Accuracy is 93.4065934065934\n"
     ]
    },
    {
     "name": "stderr",
     "output_type": "stream",
     "text": [
      "Percentage training completed:  59%|█████████████████████████████                    | 178/300 [01:05<00:53,  2.28it/s]"
     ]
    },
    {
     "name": "stdout",
     "output_type": "stream",
     "text": [
      "Training Loss after epoch 178 is 0.25423625896219165 and Accuracy is 90.41095890410959\n",
      "Validation Loss after epoch 178 is 0.10807617753744125 and Accuracy is 95.6043956043956\n"
     ]
    },
    {
     "name": "stderr",
     "output_type": "stream",
     "text": [
      "Percentage training completed:  60%|█████████████████████████████▏                   | 179/300 [01:05<00:52,  2.30it/s]"
     ]
    },
    {
     "name": "stdout",
     "output_type": "stream",
     "text": [
      "Training Loss after epoch 179 is 0.07551840597297996 and Accuracy is 97.6027397260274\n",
      "Validation Loss after epoch 179 is 0.2104683667421341 and Accuracy is 94.50549450549451\n"
     ]
    },
    {
     "name": "stderr",
     "output_type": "stream",
     "text": [
      "Percentage training completed:  60%|█████████████████████████████▍                   | 180/300 [01:06<00:54,  2.22it/s]"
     ]
    },
    {
     "name": "stdout",
     "output_type": "stream",
     "text": [
      "Training Loss after epoch 180 is 0.1153082716773497 and Accuracy is 95.54794520547945\n",
      "Validation Loss after epoch 180 is 0.2733410894870758 and Accuracy is 92.3076923076923\n"
     ]
    },
    {
     "name": "stderr",
     "output_type": "stream",
     "text": [
      "Percentage training completed:  60%|█████████████████████████████▌                   | 181/300 [01:06<00:54,  2.18it/s]"
     ]
    },
    {
     "name": "stdout",
     "output_type": "stream",
     "text": [
      "Training Loss after epoch 181 is 0.15238410973688588 and Accuracy is 95.89041095890411\n",
      "Validation Loss after epoch 181 is 0.24786663055419922 and Accuracy is 92.3076923076923\n"
     ]
    },
    {
     "name": "stderr",
     "output_type": "stream",
     "text": [
      "Percentage training completed:  61%|█████████████████████████████▋                   | 182/300 [01:07<00:54,  2.18it/s]"
     ]
    },
    {
     "name": "stdout",
     "output_type": "stream",
     "text": [
      "Training Loss after epoch 182 is 0.20660056363849436 and Accuracy is 94.86301369863014\n",
      "Validation Loss after epoch 182 is 0.11764640361070633 and Accuracy is 95.6043956043956\n"
     ]
    },
    {
     "name": "stderr",
     "output_type": "stream",
     "text": [
      "Percentage training completed:  61%|█████████████████████████████▉                   | 183/300 [01:07<00:55,  2.10it/s]"
     ]
    },
    {
     "name": "stdout",
     "output_type": "stream",
     "text": [
      "Training Loss after epoch 183 is 0.09009456267231145 and Accuracy is 96.23287671232876\n",
      "Validation Loss after epoch 183 is 0.1768646389245987 and Accuracy is 93.4065934065934\n"
     ]
    },
    {
     "name": "stderr",
     "output_type": "stream",
     "text": [
      "Percentage training completed:  61%|██████████████████████████████                   | 184/300 [01:07<00:52,  2.22it/s]"
     ]
    },
    {
     "name": "stdout",
     "output_type": "stream",
     "text": [
      "Training Loss after epoch 184 is 0.10968132412526757 and Accuracy is 97.26027397260275\n",
      "Validation Loss after epoch 184 is 0.23973651230335236 and Accuracy is 93.4065934065934\n"
     ]
    },
    {
     "name": "stderr",
     "output_type": "stream",
     "text": [
      "Percentage training completed:  62%|██████████████████████████████▏                  | 185/300 [01:08<00:51,  2.22it/s]"
     ]
    },
    {
     "name": "stdout",
     "output_type": "stream",
     "text": [
      "Training Loss after epoch 185 is 0.2178487390629016 and Accuracy is 94.52054794520548\n",
      "Validation Loss after epoch 185 is 0.1067080870270729 and Accuracy is 95.6043956043956\n"
     ]
    },
    {
     "name": "stderr",
     "output_type": "stream",
     "text": [
      "Percentage training completed:  62%|██████████████████████████████▍                  | 186/300 [01:08<00:51,  2.23it/s]"
     ]
    },
    {
     "name": "stdout",
     "output_type": "stream",
     "text": [
      "Training Loss after epoch 186 is 0.093086266820319 and Accuracy is 96.91780821917808\n",
      "Validation Loss after epoch 186 is 0.24161207675933838 and Accuracy is 93.4065934065934\n"
     ]
    },
    {
     "name": "stderr",
     "output_type": "stream",
     "text": [
      "Percentage training completed:  62%|██████████████████████████████▌                  | 187/300 [01:09<00:49,  2.29it/s]"
     ]
    },
    {
     "name": "stdout",
     "output_type": "stream",
     "text": [
      "Training Loss after epoch 187 is 0.1622447391040623 and Accuracy is 95.20547945205479\n",
      "Validation Loss after epoch 187 is 0.33879682421684265 and Accuracy is 91.20879120879121\n"
     ]
    },
    {
     "name": "stderr",
     "output_type": "stream",
     "text": [
      "Percentage training completed:  63%|██████████████████████████████▋                  | 188/300 [01:09<00:47,  2.34it/s]"
     ]
    },
    {
     "name": "stdout",
     "output_type": "stream",
     "text": [
      "Training Loss after epoch 188 is 0.29056244727689773 and Accuracy is 93.4931506849315\n",
      "Validation Loss after epoch 188 is 0.31199780106544495 and Accuracy is 90.10989010989012\n"
     ]
    },
    {
     "name": "stderr",
     "output_type": "stream",
     "text": [
      "Percentage training completed:  63%|██████████████████████████████▊                  | 189/300 [01:10<00:49,  2.25it/s]"
     ]
    },
    {
     "name": "stdout",
     "output_type": "stream",
     "text": [
      "Training Loss after epoch 189 is 0.13201957472774667 and Accuracy is 96.57534246575342\n",
      "Validation Loss after epoch 189 is 0.1261986643075943 and Accuracy is 95.6043956043956\n"
     ]
    },
    {
     "name": "stderr",
     "output_type": "stream",
     "text": [
      "Percentage training completed:  63%|███████████████████████████████                  | 190/300 [01:10<00:49,  2.23it/s]"
     ]
    },
    {
     "name": "stdout",
     "output_type": "stream",
     "text": [
      "Training Loss after epoch 190 is 0.05905084240075666 and Accuracy is 98.28767123287672\n",
      "Validation Loss after epoch 190 is 0.11498763412237167 and Accuracy is 95.6043956043956\n"
     ]
    },
    {
     "name": "stderr",
     "output_type": "stream",
     "text": [
      "Percentage training completed:  64%|███████████████████████████████▏                 | 191/300 [01:11<00:47,  2.30it/s]"
     ]
    },
    {
     "name": "stdout",
     "output_type": "stream",
     "text": [
      "Training Loss after epoch 191 is 0.0569474192277994 and Accuracy is 98.28767123287672\n",
      "Validation Loss after epoch 191 is 0.10877136141061783 and Accuracy is 95.6043956043956\n"
     ]
    },
    {
     "name": "stderr",
     "output_type": "stream",
     "text": [
      "Percentage training completed:  64%|███████████████████████████████▎                 | 192/300 [01:11<00:48,  2.24it/s]"
     ]
    },
    {
     "name": "stdout",
     "output_type": "stream",
     "text": [
      "Training Loss after epoch 192 is 0.05775129740068223 and Accuracy is 98.28767123287672\n",
      "Validation Loss after epoch 192 is 0.11215833574533463 and Accuracy is 95.6043956043956\n"
     ]
    },
    {
     "name": "stderr",
     "output_type": "stream",
     "text": [
      "Percentage training completed:  64%|███████████████████████████████▌                 | 193/300 [01:11<00:47,  2.27it/s]"
     ]
    },
    {
     "name": "stdout",
     "output_type": "stream",
     "text": [
      "Training Loss after epoch 193 is 0.05514884388830978 and Accuracy is 98.28767123287672\n",
      "Validation Loss after epoch 193 is 0.10674971342086792 and Accuracy is 95.6043956043956\n"
     ]
    },
    {
     "name": "stderr",
     "output_type": "stream",
     "text": [
      "Percentage training completed:  65%|███████████████████████████████▋                 | 194/300 [01:12<00:47,  2.22it/s]"
     ]
    },
    {
     "name": "stdout",
     "output_type": "stream",
     "text": [
      "Training Loss after epoch 194 is 0.055085566118941644 and Accuracy is 98.28767123287672\n",
      "Validation Loss after epoch 194 is 0.10488683730363846 and Accuracy is 95.6043956043956\n"
     ]
    },
    {
     "name": "stderr",
     "output_type": "stream",
     "text": [
      "Percentage training completed:  65%|███████████████████████████████▊                 | 195/300 [01:12<00:47,  2.20it/s]"
     ]
    },
    {
     "name": "stdout",
     "output_type": "stream",
     "text": [
      "Training Loss after epoch 195 is 0.05467471418669447 and Accuracy is 98.63013698630137\n",
      "Validation Loss after epoch 195 is 0.10390359163284302 and Accuracy is 95.6043956043956\n"
     ]
    },
    {
     "name": "stderr",
     "output_type": "stream",
     "text": [
      "Percentage training completed:  65%|████████████████████████████████                 | 196/300 [01:13<00:47,  2.21it/s]"
     ]
    },
    {
     "name": "stdout",
     "output_type": "stream",
     "text": [
      "Training Loss after epoch 196 is 0.054373965942068024 and Accuracy is 98.63013698630137\n",
      "Validation Loss after epoch 196 is 0.10163143277168274 and Accuracy is 95.6043956043956\n",
      "Training Loss after epoch 197 is 0.05427588018064853 and Accuracy is 98.63013698630137\n"
     ]
    },
    {
     "name": "stderr",
     "output_type": "stream",
     "text": [
      "Percentage training completed:  66%|████████████████████████████████▏                | 197/300 [01:13<00:44,  2.30it/s]"
     ]
    },
    {
     "name": "stdout",
     "output_type": "stream",
     "text": [
      "Validation Loss after epoch 197 is 0.10041636228561401 and Accuracy is 95.6043956043956\n"
     ]
    },
    {
     "name": "stderr",
     "output_type": "stream",
     "text": [
      "Percentage training completed:  66%|████████████████████████████████▎                | 198/300 [01:14<00:46,  2.20it/s]"
     ]
    },
    {
     "name": "stdout",
     "output_type": "stream",
     "text": [
      "Training Loss after epoch 198 is 0.05409777052118443 and Accuracy is 98.63013698630137\n",
      "Validation Loss after epoch 198 is 0.09916224330663681 and Accuracy is 95.6043956043956\n"
     ]
    },
    {
     "name": "stderr",
     "output_type": "stream",
     "text": [
      "Percentage training completed:  66%|████████████████████████████████▌                | 199/300 [01:14<00:46,  2.17it/s]"
     ]
    },
    {
     "name": "stdout",
     "output_type": "stream",
     "text": [
      "Training Loss after epoch 199 is 0.05400053257471882 and Accuracy is 98.63013698630137\n",
      "Validation Loss after epoch 199 is 0.09797400236129761 and Accuracy is 95.6043956043956\n"
     ]
    },
    {
     "name": "stderr",
     "output_type": "stream",
     "text": [
      "Percentage training completed:  67%|████████████████████████████████▋                | 200/300 [01:15<00:45,  2.22it/s]"
     ]
    },
    {
     "name": "stdout",
     "output_type": "stream",
     "text": [
      "Training Loss after epoch 200 is 0.05391441030078568 and Accuracy is 98.63013698630137\n",
      "Validation Loss after epoch 200 is 0.09706632047891617 and Accuracy is 95.6043956043956\n"
     ]
    },
    {
     "name": "stderr",
     "output_type": "stream",
     "text": [
      "Percentage training completed:  67%|████████████████████████████████▊                | 201/300 [01:15<00:44,  2.24it/s]"
     ]
    },
    {
     "name": "stdout",
     "output_type": "stream",
     "text": [
      "Training Loss after epoch 201 is 0.05383036079001613 and Accuracy is 98.63013698630137\n",
      "Validation Loss after epoch 201 is 0.09619844704866409 and Accuracy is 95.6043956043956\n"
     ]
    },
    {
     "name": "stderr",
     "output_type": "stream",
     "text": [
      "Percentage training completed:  67%|████████████████████████████████▉                | 202/300 [01:16<00:43,  2.25it/s]"
     ]
    },
    {
     "name": "stdout",
     "output_type": "stream",
     "text": [
      "Training Loss after epoch 202 is 0.05376098441774957 and Accuracy is 98.63013698630137\n",
      "Validation Loss after epoch 202 is 0.09549188613891602 and Accuracy is 95.6043956043956\n"
     ]
    },
    {
     "name": "stderr",
     "output_type": "stream",
     "text": [
      "Percentage training completed:  68%|█████████████████████████████████▏               | 203/300 [01:16<00:41,  2.33it/s]"
     ]
    },
    {
     "name": "stdout",
     "output_type": "stream",
     "text": [
      "Training Loss after epoch 203 is 0.05368921904591843 and Accuracy is 98.63013698630137\n",
      "Validation Loss after epoch 203 is 0.09487991780042648 and Accuracy is 95.6043956043956\n"
     ]
    },
    {
     "name": "stderr",
     "output_type": "stream",
     "text": [
      "Percentage training completed:  68%|█████████████████████████████████▎               | 204/300 [01:16<00:39,  2.40it/s]"
     ]
    },
    {
     "name": "stdout",
     "output_type": "stream",
     "text": [
      "Training Loss after epoch 204 is 0.053620006947312504 and Accuracy is 98.63013698630137\n",
      "Validation Loss after epoch 204 is 0.09436693042516708 and Accuracy is 95.6043956043956\n"
     ]
    },
    {
     "name": "stderr",
     "output_type": "stream",
     "text": [
      "Percentage training completed:  68%|█████████████████████████████████▍               | 205/300 [01:17<00:38,  2.44it/s]"
     ]
    },
    {
     "name": "stdout",
     "output_type": "stream",
     "text": [
      "Training Loss after epoch 205 is 0.05354908651206643 and Accuracy is 98.63013698630137\n",
      "Validation Loss after epoch 205 is 0.09394361823797226 and Accuracy is 95.6043956043956\n"
     ]
    },
    {
     "name": "stderr",
     "output_type": "stream",
     "text": [
      "Percentage training completed:  69%|█████████████████████████████████▋               | 206/300 [01:17<00:38,  2.46it/s]"
     ]
    },
    {
     "name": "stdout",
     "output_type": "stream",
     "text": [
      "Training Loss after epoch 206 is 0.05347596842912026 and Accuracy is 98.63013698630137\n",
      "Validation Loss after epoch 206 is 0.09359603375196457 and Accuracy is 95.6043956043956\n"
     ]
    },
    {
     "name": "stderr",
     "output_type": "stream",
     "text": [
      "Percentage training completed:  69%|█████████████████████████████████▊               | 207/300 [01:18<00:41,  2.27it/s]"
     ]
    },
    {
     "name": "stdout",
     "output_type": "stream",
     "text": [
      "Training Loss after epoch 207 is 0.05340061606839299 and Accuracy is 98.63013698630137\n",
      "Validation Loss after epoch 207 is 0.09332019090652466 and Accuracy is 95.6043956043956\n"
     ]
    },
    {
     "name": "stderr",
     "output_type": "stream",
     "text": [
      "Percentage training completed:  69%|█████████████████████████████████▉               | 208/300 [01:18<00:43,  2.13it/s]"
     ]
    },
    {
     "name": "stdout",
     "output_type": "stream",
     "text": [
      "Training Loss after epoch 208 is 0.05332240903517231 and Accuracy is 98.63013698630137\n",
      "Validation Loss after epoch 208 is 0.09310518950223923 and Accuracy is 95.6043956043956\n"
     ]
    },
    {
     "name": "stderr",
     "output_type": "stream",
     "text": [
      "Percentage training completed:  70%|██████████████████████████████████▏              | 209/300 [01:19<00:41,  2.21it/s]"
     ]
    },
    {
     "name": "stdout",
     "output_type": "stream",
     "text": [
      "Training Loss after epoch 209 is 0.053242502943612637 and Accuracy is 98.63013698630137\n",
      "Validation Loss after epoch 209 is 0.09294595569372177 and Accuracy is 95.6043956043956\n"
     ]
    },
    {
     "name": "stderr",
     "output_type": "stream",
     "text": [
      "Percentage training completed:  70%|██████████████████████████████████▎              | 210/300 [01:19<00:39,  2.28it/s]"
     ]
    },
    {
     "name": "stdout",
     "output_type": "stream",
     "text": [
      "Training Loss after epoch 210 is 0.05316021266626194 and Accuracy is 98.63013698630137\n",
      "Validation Loss after epoch 210 is 0.09283479303121567 and Accuracy is 95.6043956043956\n"
     ]
    },
    {
     "name": "stderr",
     "output_type": "stream",
     "text": [
      "Percentage training completed:  70%|██████████████████████████████████▍              | 211/300 [01:19<00:38,  2.31it/s]"
     ]
    },
    {
     "name": "stdout",
     "output_type": "stream",
     "text": [
      "Training Loss after epoch 211 is 0.05307711949571967 and Accuracy is 98.63013698630137\n",
      "Validation Loss after epoch 211 is 0.09276676177978516 and Accuracy is 95.6043956043956\n"
     ]
    },
    {
     "name": "stderr",
     "output_type": "stream",
     "text": [
      "Percentage training completed:  71%|██████████████████████████████████▋              | 212/300 [01:20<00:37,  2.32it/s]"
     ]
    },
    {
     "name": "stdout",
     "output_type": "stream",
     "text": [
      "Training Loss after epoch 212 is 0.0529925192007795 and Accuracy is 98.63013698630137\n",
      "Validation Loss after epoch 212 is 0.09273537248373032 and Accuracy is 95.6043956043956\n"
     ]
    },
    {
     "name": "stderr",
     "output_type": "stream",
     "text": [
      "Percentage training completed:  71%|██████████████████████████████████▊              | 213/300 [01:20<00:36,  2.38it/s]"
     ]
    },
    {
     "name": "stdout",
     "output_type": "stream",
     "text": [
      "Training Loss after epoch 213 is 0.052908992697484794 and Accuracy is 98.63013698630137\n",
      "Validation Loss after epoch 213 is 0.09273725748062134 and Accuracy is 95.6043956043956\n"
     ]
    },
    {
     "name": "stderr",
     "output_type": "stream",
     "text": [
      "Percentage training completed:  71%|██████████████████████████████████▉              | 214/300 [01:21<00:37,  2.27it/s]"
     ]
    },
    {
     "name": "stdout",
     "output_type": "stream",
     "text": [
      "Training Loss after epoch 214 is 0.052824702759971844 and Accuracy is 98.63013698630137\n",
      "Validation Loss after epoch 214 is 0.0927678570151329 and Accuracy is 95.6043956043956\n"
     ]
    },
    {
     "name": "stderr",
     "output_type": "stream",
     "text": [
      "Percentage training completed:  72%|███████████████████████████████████              | 215/300 [01:21<00:38,  2.22it/s]"
     ]
    },
    {
     "name": "stdout",
     "output_type": "stream",
     "text": [
      "Training Loss after epoch 215 is 0.05274311390821822 and Accuracy is 98.63013698630137\n",
      "Validation Loss after epoch 215 is 0.09282288700342178 and Accuracy is 94.50549450549451\n"
     ]
    },
    {
     "name": "stderr",
     "output_type": "stream",
     "text": [
      "Percentage training completed:  72%|███████████████████████████████████▎             | 216/300 [01:22<00:36,  2.30it/s]"
     ]
    },
    {
     "name": "stdout",
     "output_type": "stream",
     "text": [
      "Training Loss after epoch 216 is 0.05266081487061456 and Accuracy is 98.63013698630137\n",
      "Validation Loss after epoch 216 is 0.09289980679750443 and Accuracy is 94.50549450549451\n"
     ]
    },
    {
     "name": "stderr",
     "output_type": "stream",
     "text": [
      "Percentage training completed:  72%|███████████████████████████████████▍             | 217/300 [01:22<00:35,  2.32it/s]"
     ]
    },
    {
     "name": "stdout",
     "output_type": "stream",
     "text": [
      "Training Loss after epoch 217 is 0.05258346217451617 and Accuracy is 98.63013698630137\n",
      "Validation Loss after epoch 217 is 0.09299441426992416 and Accuracy is 94.50549450549451\n"
     ]
    },
    {
     "name": "stderr",
     "output_type": "stream",
     "text": [
      "Percentage training completed:  73%|███████████████████████████████████▌             | 218/300 [01:22<00:34,  2.36it/s]"
     ]
    },
    {
     "name": "stdout",
     "output_type": "stream",
     "text": [
      "Training Loss after epoch 218 is 0.05250488563906401 and Accuracy is 98.63013698630137\n",
      "Validation Loss after epoch 218 is 0.09310778230428696 and Accuracy is 94.50549450549451\n"
     ]
    },
    {
     "name": "stderr",
     "output_type": "stream",
     "text": [
      "Percentage training completed:  73%|███████████████████████████████████▊             | 219/300 [01:23<00:33,  2.41it/s]"
     ]
    },
    {
     "name": "stdout",
     "output_type": "stream",
     "text": [
      "Training Loss after epoch 219 is 0.05243407025700435 and Accuracy is 98.63013698630137\n",
      "Validation Loss after epoch 219 is 0.09323086589574814 and Accuracy is 94.50549450549451\n"
     ]
    },
    {
     "name": "stderr",
     "output_type": "stream",
     "text": [
      "Percentage training completed:  73%|███████████████████████████████████▉             | 220/300 [01:23<00:32,  2.44it/s]"
     ]
    },
    {
     "name": "stdout",
     "output_type": "stream",
     "text": [
      "Training Loss after epoch 220 is 0.052359542227350175 and Accuracy is 98.63013698630137\n",
      "Validation Loss after epoch 220 is 0.09337177127599716 and Accuracy is 94.50549450549451\n"
     ]
    },
    {
     "name": "stderr",
     "output_type": "stream",
     "text": [
      "Percentage training completed:  74%|████████████████████████████████████             | 221/300 [01:24<00:31,  2.48it/s]"
     ]
    },
    {
     "name": "stdout",
     "output_type": "stream",
     "text": [
      "Training Loss after epoch 221 is 0.05229771133163012 and Accuracy is 98.63013698630137\n",
      "Validation Loss after epoch 221 is 0.09351441264152527 and Accuracy is 94.50549450549451\n"
     ]
    },
    {
     "name": "stderr",
     "output_type": "stream",
     "text": [
      "Percentage training completed:  74%|████████████████████████████████████▎            | 222/300 [01:24<00:31,  2.51it/s]"
     ]
    },
    {
     "name": "stdout",
     "output_type": "stream",
     "text": [
      "Training Loss after epoch 222 is 0.05222591285710223 and Accuracy is 98.63013698630137\n",
      "Validation Loss after epoch 222 is 0.09367796033620834 and Accuracy is 94.50549450549451\n"
     ]
    },
    {
     "name": "stderr",
     "output_type": "stream",
     "text": [
      "Percentage training completed:  74%|████████████████████████████████████▍            | 223/300 [01:24<00:31,  2.48it/s]"
     ]
    },
    {
     "name": "stdout",
     "output_type": "stream",
     "text": [
      "Training Loss after epoch 223 is 0.05217735805781558 and Accuracy is 98.63013698630137\n",
      "Validation Loss after epoch 223 is 0.09383103251457214 and Accuracy is 94.50549450549451\n"
     ]
    },
    {
     "name": "stderr",
     "output_type": "stream",
     "text": [
      "Percentage training completed:  75%|████████████████████████████████████▌            | 224/300 [01:25<00:30,  2.50it/s]"
     ]
    },
    {
     "name": "stdout",
     "output_type": "stream",
     "text": [
      "Training Loss after epoch 224 is 0.05210421570227482 and Accuracy is 98.63013698630137\n",
      "Validation Loss after epoch 224 is 0.09401637315750122 and Accuracy is 94.50549450549451\n"
     ]
    },
    {
     "name": "stderr",
     "output_type": "stream",
     "text": [
      "Percentage training completed:  75%|████████████████████████████████████▊            | 225/300 [01:25<00:29,  2.51it/s]"
     ]
    },
    {
     "name": "stdout",
     "output_type": "stream",
     "text": [
      "Training Loss after epoch 225 is 0.05207561881397851 and Accuracy is 98.63013698630137\n",
      "Validation Loss after epoch 225 is 0.09416774660348892 and Accuracy is 94.50549450549451\n"
     ]
    },
    {
     "name": "stderr",
     "output_type": "stream",
     "text": [
      "Percentage training completed:  75%|████████████████████████████████████▉            | 226/300 [01:26<00:30,  2.41it/s]"
     ]
    },
    {
     "name": "stdout",
     "output_type": "stream",
     "text": [
      "Training Loss after epoch 226 is 0.051992411265382545 and Accuracy is 98.63013698630137\n",
      "Validation Loss after epoch 226 is 0.09438174962997437 and Accuracy is 94.50549450549451\n"
     ]
    },
    {
     "name": "stderr",
     "output_type": "stream",
     "text": [
      "Percentage training completed:  76%|█████████████████████████████████████            | 227/300 [01:26<00:30,  2.38it/s]"
     ]
    },
    {
     "name": "stdout",
     "output_type": "stream",
     "text": [
      "Training Loss after epoch 227 is 0.051997652486898006 and Accuracy is 98.63013698630137\n",
      "Validation Loss after epoch 227 is 0.09451370686292648 and Accuracy is 94.50549450549451\n"
     ]
    },
    {
     "name": "stderr",
     "output_type": "stream",
     "text": [
      "Percentage training completed:  76%|█████████████████████████████████████▏           | 228/300 [01:27<00:31,  2.31it/s]"
     ]
    },
    {
     "name": "stdout",
     "output_type": "stream",
     "text": [
      "Training Loss after epoch 228 is 0.05188498081988655 and Accuracy is 98.63013698630137\n",
      "Validation Loss after epoch 228 is 0.09477636963129044 and Accuracy is 94.50549450549451\n"
     ]
    },
    {
     "name": "stderr",
     "output_type": "stream",
     "text": [
      "Percentage training completed:  76%|█████████████████████████████████████▍           | 229/300 [01:27<00:30,  2.35it/s]"
     ]
    },
    {
     "name": "stdout",
     "output_type": "stream",
     "text": [
      "Training Loss after epoch 229 is 0.051954791555181144 and Accuracy is 98.63013698630137\n",
      "Validation Loss after epoch 229 is 0.09485707432031631 and Accuracy is 94.50549450549451\n"
     ]
    },
    {
     "name": "stderr",
     "output_type": "stream",
     "text": [
      "Percentage training completed:  77%|█████████████████████████████████████▌           | 230/300 [01:27<00:30,  2.31it/s]"
     ]
    },
    {
     "name": "stdout",
     "output_type": "stream",
     "text": [
      "Training Loss after epoch 230 is 0.05177216660231352 and Accuracy is 98.28767123287672\n",
      "Validation Loss after epoch 230 is 0.09521672129631042 and Accuracy is 94.50549450549451\n"
     ]
    },
    {
     "name": "stderr",
     "output_type": "stream",
     "text": [
      "Percentage training completed:  77%|█████████████████████████████████████▋           | 231/300 [01:28<00:30,  2.30it/s]"
     ]
    },
    {
     "name": "stdout",
     "output_type": "stream",
     "text": [
      "Training Loss after epoch 231 is 0.051972259889589624 and Accuracy is 98.63013698630137\n",
      "Validation Loss after epoch 231 is 0.09518763422966003 and Accuracy is 94.50549450549451\n"
     ]
    },
    {
     "name": "stderr",
     "output_type": "stream",
     "text": [
      "Percentage training completed:  77%|█████████████████████████████████████▉           | 232/300 [01:28<00:29,  2.31it/s]"
     ]
    },
    {
     "name": "stdout",
     "output_type": "stream",
     "text": [
      "Training Loss after epoch 232 is 0.051640548062277955 and Accuracy is 98.28767123287672\n",
      "Validation Loss after epoch 232 is 0.09575626999139786 and Accuracy is 94.50549450549451\n"
     ]
    },
    {
     "name": "stderr",
     "output_type": "stream",
     "text": [
      "Percentage training completed:  78%|██████████████████████████████████████           | 233/300 [01:29<00:29,  2.30it/s]"
     ]
    },
    {
     "name": "stdout",
     "output_type": "stream",
     "text": [
      "Training Loss after epoch 233 is 0.052115108066936956 and Accuracy is 98.63013698630137\n",
      "Validation Loss after epoch 233 is 0.09551806002855301 and Accuracy is 94.50549450549451\n"
     ]
    },
    {
     "name": "stderr",
     "output_type": "stream",
     "text": [
      "Percentage training completed:  78%|██████████████████████████████████████▏          | 234/300 [01:29<00:28,  2.29it/s]"
     ]
    },
    {
     "name": "stdout",
     "output_type": "stream",
     "text": [
      "Training Loss after epoch 234 is 0.05148835238069296 and Accuracy is 98.28767123287672\n",
      "Validation Loss after epoch 234 is 0.09654907137155533 and Accuracy is 94.50549450549451\n"
     ]
    },
    {
     "name": "stderr",
     "output_type": "stream",
     "text": [
      "Percentage training completed:  78%|██████████████████████████████████████▍          | 235/300 [01:30<00:28,  2.31it/s]"
     ]
    },
    {
     "name": "stdout",
     "output_type": "stream",
     "text": [
      "Training Loss after epoch 235 is 0.052558322466211393 and Accuracy is 98.63013698630137\n",
      "Validation Loss after epoch 235 is 0.0959734246134758 and Accuracy is 94.50549450549451\n"
     ]
    },
    {
     "name": "stderr",
     "output_type": "stream",
     "text": [
      "Percentage training completed:  79%|██████████████████████████████████████▌          | 236/300 [01:30<00:26,  2.39it/s]"
     ]
    },
    {
     "name": "stdout",
     "output_type": "stream",
     "text": [
      "Training Loss after epoch 236 is 0.05140568543574773 and Accuracy is 98.28767123287672\n",
      "Validation Loss after epoch 236 is 0.0980542004108429 and Accuracy is 94.50549450549451\n"
     ]
    },
    {
     "name": "stderr",
     "output_type": "stream",
     "text": [
      "Percentage training completed:  79%|██████████████████████████████████████▋          | 237/300 [01:30<00:25,  2.45it/s]"
     ]
    },
    {
     "name": "stdout",
     "output_type": "stream",
     "text": [
      "Training Loss after epoch 237 is 0.053809238618123346 and Accuracy is 98.63013698630137\n",
      "Validation Loss after epoch 237 is 0.09717053920030594 and Accuracy is 94.50549450549451\n"
     ]
    },
    {
     "name": "stderr",
     "output_type": "stream",
     "text": [
      "Percentage training completed:  79%|██████████████████████████████████████▊          | 238/300 [01:31<00:25,  2.41it/s]"
     ]
    },
    {
     "name": "stdout",
     "output_type": "stream",
     "text": [
      "Training Loss after epoch 238 is 0.05188046348921489 and Accuracy is 98.28767123287672\n",
      "Validation Loss after epoch 238 is 0.10186076164245605 and Accuracy is 94.50549450549451\n"
     ]
    },
    {
     "name": "stderr",
     "output_type": "stream",
     "text": [
      "Percentage training completed:  80%|███████████████████████████████████████          | 239/300 [01:31<00:24,  2.49it/s]"
     ]
    },
    {
     "name": "stdout",
     "output_type": "stream",
     "text": [
      "Training Loss after epoch 239 is 0.05753852733760141 and Accuracy is 98.28767123287672\n",
      "Validation Loss after epoch 239 is 0.10219477862119675 and Accuracy is 95.6043956043956\n"
     ]
    },
    {
     "name": "stderr",
     "output_type": "stream",
     "text": [
      "Percentage training completed:  80%|███████████████████████████████████████▏         | 240/300 [01:32<00:24,  2.44it/s]"
     ]
    },
    {
     "name": "stdout",
     "output_type": "stream",
     "text": [
      "Training Loss after epoch 240 is 0.05517394579946995 and Accuracy is 98.63013698630137\n",
      "Validation Loss after epoch 240 is 0.1182706356048584 and Accuracy is 94.50549450549451\n"
     ]
    },
    {
     "name": "stderr",
     "output_type": "stream",
     "text": [
      "Percentage training completed:  80%|███████████████████████████████████████▎         | 241/300 [01:32<00:24,  2.46it/s]"
     ]
    },
    {
     "name": "stdout",
     "output_type": "stream",
     "text": [
      "Training Loss after epoch 241 is 0.07289312814828008 and Accuracy is 97.26027397260275\n",
      "Validation Loss after epoch 241 is 0.1349872499704361 and Accuracy is 96.7032967032967\n"
     ]
    },
    {
     "name": "stderr",
     "output_type": "stream",
     "text": [
      "Percentage training completed:  81%|███████████████████████████████████████▌         | 242/300 [01:32<00:24,  2.36it/s]"
     ]
    },
    {
     "name": "stdout",
     "output_type": "stream",
     "text": [
      "Training Loss after epoch 242 is 0.0777999956801068 and Accuracy is 97.26027397260275\n",
      "Validation Loss after epoch 242 is 0.3049432337284088 and Accuracy is 92.3076923076923\n"
     ]
    },
    {
     "name": "stderr",
     "output_type": "stream",
     "text": [
      "Percentage training completed:  81%|███████████████████████████████████████▋         | 243/300 [01:33<00:24,  2.35it/s]"
     ]
    },
    {
     "name": "stdout",
     "output_type": "stream",
     "text": [
      "Training Loss after epoch 243 is 0.1612036504317075 and Accuracy is 94.86301369863014\n",
      "Validation Loss after epoch 243 is 0.14741435647010803 and Accuracy is 96.7032967032967\n"
     ]
    },
    {
     "name": "stderr",
     "output_type": "stream",
     "text": [
      "Percentage training completed:  81%|███████████████████████████████████████▊         | 244/300 [01:33<00:23,  2.35it/s]"
     ]
    },
    {
     "name": "stdout",
     "output_type": "stream",
     "text": [
      "Training Loss after epoch 244 is 0.08113610802101903 and Accuracy is 96.57534246575342\n",
      "Validation Loss after epoch 244 is 0.31260085105895996 and Accuracy is 92.3076923076923\n"
     ]
    },
    {
     "name": "stderr",
     "output_type": "stream",
     "text": [
      "Percentage training completed:  82%|████████████████████████████████████████         | 245/300 [01:34<00:22,  2.40it/s]"
     ]
    },
    {
     "name": "stdout",
     "output_type": "stream",
     "text": [
      "Training Loss after epoch 245 is 0.192679869197309 and Accuracy is 95.20547945205479\n",
      "Validation Loss after epoch 245 is 0.1346236616373062 and Accuracy is 95.6043956043956\n"
     ]
    },
    {
     "name": "stderr",
     "output_type": "stream",
     "text": [
      "Percentage training completed:  82%|████████████████████████████████████████▏        | 246/300 [01:34<00:22,  2.43it/s]"
     ]
    },
    {
     "name": "stdout",
     "output_type": "stream",
     "text": [
      "Training Loss after epoch 246 is 0.13610324900364504 and Accuracy is 95.20547945205479\n",
      "Validation Loss after epoch 246 is 0.7176421284675598 and Accuracy is 80.21978021978022\n"
     ]
    },
    {
     "name": "stderr",
     "output_type": "stream",
     "text": [
      "Percentage training completed:  82%|████████████████████████████████████████▎        | 247/300 [01:34<00:21,  2.43it/s]"
     ]
    },
    {
     "name": "stdout",
     "output_type": "stream",
     "text": [
      "Training Loss after epoch 247 is 0.5136668920516968 and Accuracy is 91.43835616438356\n",
      "Validation Loss after epoch 247 is 0.2907332479953766 and Accuracy is 92.3076923076923\n"
     ]
    },
    {
     "name": "stderr",
     "output_type": "stream",
     "text": [
      "Percentage training completed:  83%|████████████████████████████████████████▌        | 248/300 [01:35<00:21,  2.43it/s]"
     ]
    },
    {
     "name": "stdout",
     "output_type": "stream",
     "text": [
      "Training Loss after epoch 248 is 0.36549120157615106 and Accuracy is 88.35616438356165\n",
      "Validation Loss after epoch 248 is 0.1901024580001831 and Accuracy is 96.7032967032967\n"
     ]
    },
    {
     "name": "stderr",
     "output_type": "stream",
     "text": [
      "Percentage training completed:  83%|████████████████████████████████████████▋        | 249/300 [01:35<00:21,  2.39it/s]"
     ]
    },
    {
     "name": "stdout",
     "output_type": "stream",
     "text": [
      "Training Loss after epoch 249 is 0.1642050329988706 and Accuracy is 95.54794520547945\n",
      "Validation Loss after epoch 249 is 0.2297879457473755 and Accuracy is 93.4065934065934\n"
     ]
    },
    {
     "name": "stderr",
     "output_type": "stream",
     "text": [
      "Percentage training completed:  83%|████████████████████████████████████████▊        | 250/300 [01:36<00:21,  2.33it/s]"
     ]
    },
    {
     "name": "stdout",
     "output_type": "stream",
     "text": [
      "Training Loss after epoch 250 is 0.11003584107074857 and Accuracy is 96.91780821917808\n",
      "Validation Loss after epoch 250 is 0.13937795162200928 and Accuracy is 95.6043956043956\n"
     ]
    },
    {
     "name": "stderr",
     "output_type": "stream",
     "text": [
      "Percentage training completed:  84%|████████████████████████████████████████▉        | 251/300 [01:36<00:21,  2.33it/s]"
     ]
    },
    {
     "name": "stdout",
     "output_type": "stream",
     "text": [
      "Training Loss after epoch 251 is 0.0693972358632891 and Accuracy is 97.26027397260275\n",
      "Validation Loss after epoch 251 is 0.17913301289081573 and Accuracy is 95.6043956043956\n"
     ]
    },
    {
     "name": "stderr",
     "output_type": "stream",
     "text": [
      "Percentage training completed:  84%|█████████████████████████████████████████▏       | 252/300 [01:37<00:20,  2.32it/s]"
     ]
    },
    {
     "name": "stdout",
     "output_type": "stream",
     "text": [
      "Training Loss after epoch 252 is 0.06982118662817811 and Accuracy is 97.94520547945206\n",
      "Validation Loss after epoch 252 is 0.13577434420585632 and Accuracy is 93.4065934065934\n"
     ]
    },
    {
     "name": "stderr",
     "output_type": "stream",
     "text": [
      "Percentage training completed:  84%|█████████████████████████████████████████▎       | 253/300 [01:37<00:21,  2.22it/s]"
     ]
    },
    {
     "name": "stdout",
     "output_type": "stream",
     "text": [
      "Training Loss after epoch 253 is 0.06975343847152544 and Accuracy is 97.94520547945206\n",
      "Validation Loss after epoch 253 is 0.1253672093153 and Accuracy is 95.6043956043956\n"
     ]
    },
    {
     "name": "stderr",
     "output_type": "stream",
     "text": [
      "Percentage training completed:  85%|█████████████████████████████████████████▍       | 254/300 [01:38<00:22,  2.05it/s]"
     ]
    },
    {
     "name": "stdout",
     "output_type": "stream",
     "text": [
      "Training Loss after epoch 254 is 0.05705413040122949 and Accuracy is 98.97260273972603\n",
      "Validation Loss after epoch 254 is 0.13141386210918427 and Accuracy is 95.6043956043956\n"
     ]
    },
    {
     "name": "stderr",
     "output_type": "stream",
     "text": [
      "Percentage training completed:  85%|█████████████████████████████████████████▋       | 255/300 [01:38<00:22,  1.99it/s]"
     ]
    },
    {
     "name": "stdout",
     "output_type": "stream",
     "text": [
      "Training Loss after epoch 255 is 0.05321360955640557 and Accuracy is 98.28767123287672\n",
      "Validation Loss after epoch 255 is 0.11786479502916336 and Accuracy is 95.6043956043956\n"
     ]
    },
    {
     "name": "stderr",
     "output_type": "stream",
     "text": [
      "Percentage training completed:  85%|█████████████████████████████████████████▊       | 256/300 [01:39<00:20,  2.10it/s]"
     ]
    },
    {
     "name": "stdout",
     "output_type": "stream",
     "text": [
      "Training Loss after epoch 256 is 0.05819985982088838 and Accuracy is 98.63013698630137\n",
      "Validation Loss after epoch 256 is 0.12025004625320435 and Accuracy is 95.6043956043956\n"
     ]
    },
    {
     "name": "stderr",
     "output_type": "stream",
     "text": [
      "Percentage training completed:  86%|█████████████████████████████████████████▉       | 257/300 [01:39<00:19,  2.17it/s]"
     ]
    },
    {
     "name": "stdout",
     "output_type": "stream",
     "text": [
      "Training Loss after epoch 257 is 0.05060151289653732 and Accuracy is 98.63013698630137\n",
      "Validation Loss after epoch 257 is 0.11200129985809326 and Accuracy is 95.6043956043956\n"
     ]
    },
    {
     "name": "stderr",
     "output_type": "stream",
     "text": [
      "Percentage training completed:  86%|██████████████████████████████████████████▏      | 258/300 [01:39<00:18,  2.22it/s]"
     ]
    },
    {
     "name": "stdout",
     "output_type": "stream",
     "text": [
      "Training Loss after epoch 258 is 0.05245671961674816 and Accuracy is 98.63013698630137\n",
      "Validation Loss after epoch 258 is 0.11178308725357056 and Accuracy is 95.6043956043956\n"
     ]
    },
    {
     "name": "stderr",
     "output_type": "stream",
     "text": [
      "Percentage training completed:  86%|██████████████████████████████████████████▎      | 259/300 [01:40<00:17,  2.28it/s]"
     ]
    },
    {
     "name": "stdout",
     "output_type": "stream",
     "text": [
      "Training Loss after epoch 259 is 0.05001261207944481 and Accuracy is 98.63013698630137\n",
      "Validation Loss after epoch 259 is 0.10873302072286606 and Accuracy is 95.6043956043956\n"
     ]
    },
    {
     "name": "stderr",
     "output_type": "stream",
     "text": [
      "Percentage training completed:  87%|██████████████████████████████████████████▍      | 260/300 [01:40<00:17,  2.29it/s]"
     ]
    },
    {
     "name": "stdout",
     "output_type": "stream",
     "text": [
      "Training Loss after epoch 260 is 0.05034591360890772 and Accuracy is 98.63013698630137\n",
      "Validation Loss after epoch 260 is 0.10736305266618729 and Accuracy is 95.6043956043956\n"
     ]
    },
    {
     "name": "stderr",
     "output_type": "stream",
     "text": [
      "Percentage training completed:  87%|██████████████████████████████████████████▋      | 261/300 [01:41<00:16,  2.34it/s]"
     ]
    },
    {
     "name": "stdout",
     "output_type": "stream",
     "text": [
      "Training Loss after epoch 261 is 0.04987447475723457 and Accuracy is 98.63013698630137\n",
      "Validation Loss after epoch 261 is 0.10594305396080017 and Accuracy is 95.6043956043956\n"
     ]
    },
    {
     "name": "stderr",
     "output_type": "stream",
     "text": [
      "Percentage training completed:  87%|██████████████████████████████████████████▊      | 262/300 [01:41<00:15,  2.46it/s]"
     ]
    },
    {
     "name": "stdout",
     "output_type": "stream",
     "text": [
      "Training Loss after epoch 262 is 0.049717651413811834 and Accuracy is 98.63013698630137\n",
      "Validation Loss after epoch 262 is 0.10460800677537918 and Accuracy is 94.50549450549451\n"
     ]
    },
    {
     "name": "stderr",
     "output_type": "stream",
     "text": [
      "Percentage training completed:  88%|██████████████████████████████████████████▉      | 263/300 [01:42<00:15,  2.40it/s]"
     ]
    },
    {
     "name": "stdout",
     "output_type": "stream",
     "text": [
      "Training Loss after epoch 263 is 0.04965601465519285 and Accuracy is 98.63013698630137\n",
      "Validation Loss after epoch 263 is 0.10356976836919785 and Accuracy is 94.50549450549451\n"
     ]
    },
    {
     "name": "stderr",
     "output_type": "stream",
     "text": [
      "Percentage training completed:  88%|███████████████████████████████████████████      | 264/300 [01:42<00:15,  2.40it/s]"
     ]
    },
    {
     "name": "stdout",
     "output_type": "stream",
     "text": [
      "Training Loss after epoch 264 is 0.04950273189024301 and Accuracy is 98.63013698630137\n",
      "Validation Loss after epoch 264 is 0.10256729274988174 and Accuracy is 94.50549450549451\n"
     ]
    },
    {
     "name": "stderr",
     "output_type": "stream",
     "text": [
      "Percentage training completed:  88%|███████████████████████████████████████████▎     | 265/300 [01:42<00:15,  2.31it/s]"
     ]
    },
    {
     "name": "stdout",
     "output_type": "stream",
     "text": [
      "Training Loss after epoch 265 is 0.049480561837845015 and Accuracy is 98.63013698630137\n",
      "Validation Loss after epoch 265 is 0.10174629837274551 and Accuracy is 94.50549450549451\n"
     ]
    },
    {
     "name": "stderr",
     "output_type": "stream",
     "text": [
      "Percentage training completed:  89%|███████████████████████████████████████████▍     | 266/300 [01:43<00:14,  2.31it/s]"
     ]
    },
    {
     "name": "stdout",
     "output_type": "stream",
     "text": [
      "Training Loss after epoch 266 is 0.04940365452057449 and Accuracy is 98.63013698630137\n",
      "Validation Loss after epoch 266 is 0.10101791471242905 and Accuracy is 94.50549450549451\n"
     ]
    },
    {
     "name": "stderr",
     "output_type": "stream",
     "text": [
      "Percentage training completed:  89%|███████████████████████████████████████████▌     | 267/300 [01:43<00:13,  2.39it/s]"
     ]
    },
    {
     "name": "stdout",
     "output_type": "stream",
     "text": [
      "Training Loss after epoch 267 is 0.04937885220570024 and Accuracy is 98.63013698630137\n",
      "Validation Loss after epoch 267 is 0.10040369629859924 and Accuracy is 94.50549450549451\n"
     ]
    },
    {
     "name": "stderr",
     "output_type": "stream",
     "text": [
      "Percentage training completed:  89%|███████████████████████████████████████████▊     | 268/300 [01:44<00:13,  2.40it/s]"
     ]
    },
    {
     "name": "stdout",
     "output_type": "stream",
     "text": [
      "Training Loss after epoch 268 is 0.04934167471510591 and Accuracy is 98.28767123287672\n",
      "Validation Loss after epoch 268 is 0.09988442808389664 and Accuracy is 94.50549450549451\n"
     ]
    },
    {
     "name": "stderr",
     "output_type": "stream",
     "text": [
      "Percentage training completed:  90%|███████████████████████████████████████████▉     | 269/300 [01:44<00:12,  2.42it/s]"
     ]
    },
    {
     "name": "stdout",
     "output_type": "stream",
     "text": [
      "Training Loss after epoch 269 is 0.04931886717822635 and Accuracy is 98.28767123287672\n",
      "Validation Loss after epoch 269 is 0.09945354610681534 and Accuracy is 94.50549450549451\n"
     ]
    },
    {
     "name": "stderr",
     "output_type": "stream",
     "text": [
      "Percentage training completed:  90%|████████████████████████████████████████████     | 270/300 [01:44<00:12,  2.43it/s]"
     ]
    },
    {
     "name": "stdout",
     "output_type": "stream",
     "text": [
      "Training Loss after epoch 270 is 0.04929520727309864 and Accuracy is 98.28767123287672\n",
      "Validation Loss after epoch 270 is 0.09910250455141068 and Accuracy is 94.50549450549451\n"
     ]
    },
    {
     "name": "stderr",
     "output_type": "stream",
     "text": [
      "Percentage training completed:  90%|████████████████████████████████████████████▎    | 271/300 [01:45<00:12,  2.38it/s]"
     ]
    },
    {
     "name": "stdout",
     "output_type": "stream",
     "text": [
      "Training Loss after epoch 271 is 0.04927433068660321 and Accuracy is 98.28767123287672\n",
      "Validation Loss after epoch 271 is 0.09882417321205139 and Accuracy is 94.50549450549451\n"
     ]
    },
    {
     "name": "stderr",
     "output_type": "stream",
     "text": [
      "Percentage training completed:  91%|████████████████████████████████████████████▍    | 272/300 [01:45<00:11,  2.44it/s]"
     ]
    },
    {
     "name": "stdout",
     "output_type": "stream",
     "text": [
      "Training Loss after epoch 272 is 0.04925360541965347 and Accuracy is 98.28767123287672\n",
      "Validation Loss after epoch 272 is 0.09861098974943161 and Accuracy is 94.50549450549451\n"
     ]
    },
    {
     "name": "stderr",
     "output_type": "stream",
     "text": [
      "Percentage training completed:  91%|████████████████████████████████████████████▌    | 273/300 [01:46<00:10,  2.50it/s]"
     ]
    },
    {
     "name": "stdout",
     "output_type": "stream",
     "text": [
      "Training Loss after epoch 273 is 0.049232959376240615 and Accuracy is 98.28767123287672\n",
      "Validation Loss after epoch 273 is 0.0984562337398529 and Accuracy is 94.50549450549451\n"
     ]
    },
    {
     "name": "stderr",
     "output_type": "stream",
     "text": [
      "Percentage training completed:  91%|████████████████████████████████████████████▊    | 274/300 [01:46<00:10,  2.56it/s]"
     ]
    },
    {
     "name": "stdout",
     "output_type": "stream",
     "text": [
      "Training Loss after epoch 274 is 0.04921172665926861 and Accuracy is 98.28767123287672\n",
      "Validation Loss after epoch 274 is 0.09835276752710342 and Accuracy is 94.50549450549451\n"
     ]
    },
    {
     "name": "stderr",
     "output_type": "stream",
     "text": [
      "Percentage training completed:  92%|████████████████████████████████████████████▉    | 275/300 [01:46<00:09,  2.59it/s]"
     ]
    },
    {
     "name": "stdout",
     "output_type": "stream",
     "text": [
      "Training Loss after epoch 275 is 0.049190243933117016 and Accuracy is 98.28767123287672\n",
      "Validation Loss after epoch 275 is 0.09829527139663696 and Accuracy is 94.50549450549451\n"
     ]
    },
    {
     "name": "stderr",
     "output_type": "stream",
     "text": [
      "Percentage training completed:  92%|█████████████████████████████████████████████    | 276/300 [01:47<00:09,  2.54it/s]"
     ]
    },
    {
     "name": "stdout",
     "output_type": "stream",
     "text": [
      "Training Loss after epoch 276 is 0.049168213129451036 and Accuracy is 98.28767123287672\n",
      "Validation Loss after epoch 276 is 0.0982779860496521 and Accuracy is 94.50549450549451\n"
     ]
    },
    {
     "name": "stderr",
     "output_type": "stream",
     "text": [
      "Percentage training completed:  92%|█████████████████████████████████████████████▏   | 277/300 [01:47<00:09,  2.56it/s]"
     ]
    },
    {
     "name": "stdout",
     "output_type": "stream",
     "text": [
      "Training Loss after epoch 277 is 0.04914585453952895 and Accuracy is 98.28767123287672\n",
      "Validation Loss after epoch 277 is 0.09829600900411606 and Accuracy is 94.50549450549451\n"
     ]
    },
    {
     "name": "stderr",
     "output_type": "stream",
     "text": [
      "Percentage training completed:  93%|█████████████████████████████████████████████▍   | 278/300 [01:48<00:08,  2.61it/s]"
     ]
    },
    {
     "name": "stdout",
     "output_type": "stream",
     "text": [
      "Training Loss after epoch 278 is 0.049123461946146564 and Accuracy is 98.28767123287672\n",
      "Validation Loss after epoch 278 is 0.09834440797567368 and Accuracy is 94.50549450549451\n"
     ]
    },
    {
     "name": "stderr",
     "output_type": "stream",
     "text": [
      "Percentage training completed:  93%|█████████████████████████████████████████████▌   | 279/300 [01:48<00:08,  2.57it/s]"
     ]
    },
    {
     "name": "stdout",
     "output_type": "stream",
     "text": [
      "Training Loss after epoch 279 is 0.049101010053709614 and Accuracy is 98.28767123287672\n",
      "Validation Loss after epoch 279 is 0.09841891378164291 and Accuracy is 94.50549450549451\n"
     ]
    },
    {
     "name": "stderr",
     "output_type": "stream",
     "text": [
      "Percentage training completed:  93%|█████████████████████████████████████████████▋   | 280/300 [01:48<00:07,  2.59it/s]"
     ]
    },
    {
     "name": "stdout",
     "output_type": "stream",
     "text": [
      "Training Loss after epoch 280 is 0.049079372725100254 and Accuracy is 98.28767123287672\n",
      "Validation Loss after epoch 280 is 0.09851602464914322 and Accuracy is 94.50549450549451\n"
     ]
    },
    {
     "name": "stderr",
     "output_type": "stream",
     "text": [
      "Percentage training completed:  94%|█████████████████████████████████████████████▉   | 281/300 [01:49<00:07,  2.63it/s]"
     ]
    },
    {
     "name": "stdout",
     "output_type": "stream",
     "text": [
      "Training Loss after epoch 281 is 0.04905800148990238 and Accuracy is 98.28767123287672\n",
      "Validation Loss after epoch 281 is 0.09863322228193283 and Accuracy is 94.50549450549451\n"
     ]
    },
    {
     "name": "stderr",
     "output_type": "stream",
     "text": [
      "Percentage training completed:  94%|██████████████████████████████████████████████   | 282/300 [01:49<00:06,  2.59it/s]"
     ]
    },
    {
     "name": "stdout",
     "output_type": "stream",
     "text": [
      "Training Loss after epoch 282 is 0.049038306837610436 and Accuracy is 98.28767123287672\n",
      "Validation Loss after epoch 282 is 0.09876541048288345 and Accuracy is 94.50549450549451\n"
     ]
    },
    {
     "name": "stderr",
     "output_type": "stream",
     "text": [
      "Percentage training completed:  94%|██████████████████████████████████████████████▏  | 283/300 [01:50<00:06,  2.63it/s]"
     ]
    },
    {
     "name": "stdout",
     "output_type": "stream",
     "text": [
      "Training Loss after epoch 283 is 0.04901928498002235 and Accuracy is 98.28767123287672\n",
      "Validation Loss after epoch 283 is 0.09891161322593689 and Accuracy is 94.50549450549451\n"
     ]
    },
    {
     "name": "stderr",
     "output_type": "stream",
     "text": [
      "Percentage training completed:  95%|██████████████████████████████████████████████▍  | 284/300 [01:50<00:06,  2.66it/s]"
     ]
    },
    {
     "name": "stdout",
     "output_type": "stream",
     "text": [
      "Training Loss after epoch 284 is 0.049002262591966425 and Accuracy is 98.28767123287672\n",
      "Validation Loss after epoch 284 is 0.09906815737485886 and Accuracy is 94.50549450549451\n"
     ]
    },
    {
     "name": "stderr",
     "output_type": "stream",
     "text": [
      "Percentage training completed:  95%|██████████████████████████████████████████████▌  | 285/300 [01:50<00:05,  2.60it/s]"
     ]
    },
    {
     "name": "stdout",
     "output_type": "stream",
     "text": [
      "Training Loss after epoch 285 is 0.04898636905418243 and Accuracy is 98.28767123287672\n",
      "Validation Loss after epoch 285 is 0.09923490881919861 and Accuracy is 94.50549450549451\n"
     ]
    },
    {
     "name": "stderr",
     "output_type": "stream",
     "text": [
      "Percentage training completed:  95%|██████████████████████████████████████████████▋  | 286/300 [01:51<00:05,  2.60it/s]"
     ]
    },
    {
     "name": "stdout",
     "output_type": "stream",
     "text": [
      "Training Loss after epoch 286 is 0.04897344774799421 and Accuracy is 98.28767123287672\n",
      "Validation Loss after epoch 286 is 0.0994066596031189 and Accuracy is 94.50549450549451\n"
     ]
    },
    {
     "name": "stderr",
     "output_type": "stream",
     "text": [
      "Percentage training completed:  96%|██████████████████████████████████████████████▉  | 287/300 [01:51<00:04,  2.61it/s]"
     ]
    },
    {
     "name": "stdout",
     "output_type": "stream",
     "text": [
      "Training Loss after epoch 287 is 0.04896091433038237 and Accuracy is 98.28767123287672\n",
      "Validation Loss after epoch 287 is 0.09958657622337341 and Accuracy is 94.50549450549451\n"
     ]
    },
    {
     "name": "stderr",
     "output_type": "stream",
     "text": [
      "Percentage training completed:  96%|███████████████████████████████████████████████  | 288/300 [01:51<00:04,  2.56it/s]"
     ]
    },
    {
     "name": "stdout",
     "output_type": "stream",
     "text": [
      "Training Loss after epoch 288 is 0.0489526784120244 and Accuracy is 98.28767123287672\n",
      "Validation Loss after epoch 288 is 0.09976766258478165 and Accuracy is 94.50549450549451\n"
     ]
    },
    {
     "name": "stderr",
     "output_type": "stream",
     "text": [
      "Percentage training completed:  96%|███████████████████████████████████████████████▏ | 289/300 [01:52<00:04,  2.61it/s]"
     ]
    },
    {
     "name": "stdout",
     "output_type": "stream",
     "text": [
      "Training Loss after epoch 289 is 0.048943986411904915 and Accuracy is 98.28767123287672\n",
      "Validation Loss after epoch 289 is 0.09995483607053757 and Accuracy is 94.50549450549451\n"
     ]
    },
    {
     "name": "stderr",
     "output_type": "stream",
     "text": [
      "Percentage training completed:  97%|███████████████████████████████████████████████▎ | 290/300 [01:52<00:03,  2.65it/s]"
     ]
    },
    {
     "name": "stdout",
     "output_type": "stream",
     "text": [
      "Training Loss after epoch 290 is 0.048940705029235684 and Accuracy is 98.28767123287672\n",
      "Validation Loss after epoch 290 is 0.10013904422521591 and Accuracy is 94.50549450549451\n"
     ]
    },
    {
     "name": "stderr",
     "output_type": "stream",
     "text": [
      "Percentage training completed:  97%|███████████████████████████████████████████████▌ | 291/300 [01:53<00:03,  2.59it/s]"
     ]
    },
    {
     "name": "stdout",
     "output_type": "stream",
     "text": [
      "Training Loss after epoch 291 is 0.048935554371564646 and Accuracy is 98.28767123287672\n",
      "Validation Loss after epoch 291 is 0.10033047199249268 and Accuracy is 94.50549450549451\n"
     ]
    },
    {
     "name": "stderr",
     "output_type": "stream",
     "text": [
      "Percentage training completed:  97%|███████████████████████████████████████████████▋ | 292/300 [01:53<00:03,  2.63it/s]"
     ]
    },
    {
     "name": "stdout",
     "output_type": "stream",
     "text": [
      "Training Loss after epoch 292 is 0.04893866874044761 and Accuracy is 98.28767123287672\n",
      "Validation Loss after epoch 292 is 0.10051444172859192 and Accuracy is 94.50549450549451\n"
     ]
    },
    {
     "name": "stderr",
     "output_type": "stream",
     "text": [
      "Percentage training completed:  98%|███████████████████████████████████████████████▊ | 293/300 [01:53<00:02,  2.59it/s]"
     ]
    },
    {
     "name": "stdout",
     "output_type": "stream",
     "text": [
      "Training Loss after epoch 293 is 0.048935694104875437 and Accuracy is 98.28767123287672\n",
      "Validation Loss after epoch 293 is 0.10070730000734329 and Accuracy is 94.50549450549451\n"
     ]
    },
    {
     "name": "stderr",
     "output_type": "stream",
     "text": [
      "Percentage training completed:  98%|████████████████████████████████████████████████ | 294/300 [01:54<00:02,  2.64it/s]"
     ]
    },
    {
     "name": "stdout",
     "output_type": "stream",
     "text": [
      "Training Loss after epoch 294 is 0.04894622067367891 and Accuracy is 98.28767123287672\n",
      "Validation Loss after epoch 294 is 0.10088580846786499 and Accuracy is 94.50549450549451\n"
     ]
    },
    {
     "name": "stderr",
     "output_type": "stream",
     "text": [
      "Percentage training completed:  98%|████████████████████████████████████████████████▏| 295/300 [01:54<00:01,  2.66it/s]"
     ]
    },
    {
     "name": "stdout",
     "output_type": "stream",
     "text": [
      "Training Loss after epoch 295 is 0.048944206023588774 and Accuracy is 98.28767123287672\n",
      "Validation Loss after epoch 295 is 0.10108048468828201 and Accuracy is 94.50549450549451\n"
     ]
    },
    {
     "name": "stderr",
     "output_type": "stream",
     "text": [
      "Percentage training completed:  99%|████████████████████████████████████████████████▎| 296/300 [01:54<00:01,  2.63it/s]"
     ]
    },
    {
     "name": "stdout",
     "output_type": "stream",
     "text": [
      "Training Loss after epoch 296 is 0.04896424697799375 and Accuracy is 98.28767123287672\n",
      "Validation Loss after epoch 296 is 0.10125038772821426 and Accuracy is 94.50549450549451\n"
     ]
    },
    {
     "name": "stderr",
     "output_type": "stream",
     "text": [
      "Percentage training completed:  99%|████████████████████████████████████████████████▌| 297/300 [01:55<00:01,  2.59it/s]"
     ]
    },
    {
     "name": "stdout",
     "output_type": "stream",
     "text": [
      "Training Loss after epoch 297 is 0.048960167937912046 and Accuracy is 98.28767123287672\n",
      "Validation Loss after epoch 297 is 0.10144790261983871 and Accuracy is 94.50549450549451\n"
     ]
    },
    {
     "name": "stderr",
     "output_type": "stream",
     "text": [
      "Percentage training completed:  99%|████████████████████████████████████████████████▋| 298/300 [01:55<00:00,  2.58it/s]"
     ]
    },
    {
     "name": "stdout",
     "output_type": "stream",
     "text": [
      "Training Loss after epoch 298 is 0.04899267910805065 and Accuracy is 98.28767123287672\n",
      "Validation Loss after epoch 298 is 0.10160279273986816 and Accuracy is 94.50549450549451\n"
     ]
    },
    {
     "name": "stderr",
     "output_type": "stream",
     "text": [
      "Percentage training completed: 100%|████████████████████████████████████████████████▊| 299/300 [01:56<00:00,  2.56it/s]"
     ]
    },
    {
     "name": "stdout",
     "output_type": "stream",
     "text": [
      "Training Loss after epoch 299 is 0.04898178564908449 and Accuracy is 98.28767123287672\n",
      "Validation Loss after epoch 299 is 0.10180755704641342 and Accuracy is 94.50549450549451\n"
     ]
    },
    {
     "name": "stderr",
     "output_type": "stream",
     "text": [
      "Percentage training completed: 100%|█████████████████████████████████████████████████| 300/300 [01:56<00:00,  2.57it/s]"
     ]
    },
    {
     "name": "stdout",
     "output_type": "stream",
     "text": [
      "Training Loss after epoch 300 is 0.04903297458658926 and Accuracy is 98.28767123287672\n",
      "Validation Loss after epoch 300 is 0.1019417867064476 and Accuracy is 94.50549450549451\n",
      "              precision    recall  f1-score   support\n",
      "\n",
      "           0       0.99      0.99      0.99       207\n",
      "           1       0.98      0.96      0.97        85\n",
      "\n",
      "    accuracy                           0.98       292\n",
      "   macro avg       0.98      0.98      0.98       292\n",
      "weighted avg       0.98      0.98      0.98       292\n",
      "\n",
      "              precision    recall  f1-score   support\n",
      "\n",
      "           0       0.94      0.96      0.95        52\n",
      "           1       0.95      0.92      0.94        39\n",
      "\n",
      "    accuracy                           0.95        91\n",
      "   macro avg       0.95      0.94      0.94        91\n",
      "weighted avg       0.95      0.95      0.94        91\n",
      "\n",
      "Validation Loss after epoch 300 is 0.1019417867064476 and Accuracy is 94.50549450549451\n"
     ]
    },
    {
     "name": "stderr",
     "output_type": "stream",
     "text": [
      "\n"
     ]
    },
    {
     "data": {
      "image/png": "[encoded data removed]",
      "text/plain": [
       "<Figure size 640x480 with 2 Axes>"
      ]
     },
     "metadata": {},
     "output_type": "display_data"
    },
    {
     "ename": "NameError",
     "evalue": "name 'x_data' is not defined",
     "output_type": "error",
     "traceback": [
      "\u001b[1;31m---------------------------------------------------------------------------\u001b[0m",
      "\u001b[1;31mNameError\u001b[0m                                 Traceback (most recent call last)",
      "\u001b[1;32m~\\AppData\\Local\\Temp\\ipykernel_14412\\2611784293.py\u001b[0m in \u001b[0;36m<module>\u001b[1;34m\u001b[0m\n\u001b[0;32m      1\u001b[0m \u001b[0mm\u001b[0m\u001b[1;33m,\u001b[0m\u001b[0macc\u001b[0m\u001b[1;33m,\u001b[0m \u001b[0mlo\u001b[0m\u001b[1;33m,\u001b[0m \u001b[0mval_ac\u001b[0m\u001b[1;33m,\u001b[0m \u001b[0mval_lo\u001b[0m \u001b[1;33m=\u001b[0m \u001b[0mrun_XBNET\u001b[0m\u001b[1;33m(\u001b[0m\u001b[0mx_train\u001b[0m\u001b[1;33m,\u001b[0m\u001b[0mx_test\u001b[0m\u001b[1;33m,\u001b[0m\u001b[0my_train\u001b[0m\u001b[1;33m,\u001b[0m\u001b[0my_test\u001b[0m\u001b[1;33m,\u001b[0m\u001b[0mmodel\u001b[0m\u001b[1;33m,\u001b[0m\u001b[0mcriterion\u001b[0m\u001b[1;33m,\u001b[0m\u001b[0moptimizer\u001b[0m\u001b[1;33m,\u001b[0m\u001b[1;36m32\u001b[0m\u001b[1;33m,\u001b[0m\u001b[1;36m300\u001b[0m\u001b[1;33m)\u001b[0m\u001b[1;33m\u001b[0m\u001b[1;33m\u001b[0m\u001b[0m\n\u001b[1;32m----> 2\u001b[1;33m \u001b[0mprint\u001b[0m\u001b[1;33m(\u001b[0m\u001b[0mpredict\u001b[0m\u001b[1;33m(\u001b[0m\u001b[0mm\u001b[0m\u001b[1;33m,\u001b[0m\u001b[0mx_data\u001b[0m\u001b[1;33m.\u001b[0m\u001b[0mto_numpy\u001b[0m\u001b[1;33m(\u001b[0m\u001b[1;33m)\u001b[0m\u001b[1;33m[\u001b[0m\u001b[1;36m0\u001b[0m\u001b[1;33m,\u001b[0m\u001b[1;33m:\u001b[0m\u001b[1;33m]\u001b[0m\u001b[1;33m)\u001b[0m\u001b[1;33m)\u001b[0m\u001b[1;33m\u001b[0m\u001b[1;33m\u001b[0m\u001b[0m\n\u001b[0m",
      "\u001b[1;31mNameError\u001b[0m: name 'x_data' is not defined"
     ]
    }
   ],
   "source": [
    "m,acc, lo, val_ac, val_lo = run_XBNET(x_train,x_test,y_train,y_test,model,criterion,optimizer,32,300)\n",
    "print(predict(m,x_data.to_numpy()[0,:]))"
   ]
  },
  {
   "cell_type": "code",
   "execution_count": null,
   "id": "7d7eefd7-ab68-4659-85e8-8dc30acba4cd",
   "metadata": {},
   "outputs": [],
   "source": []
  }
 ],
 "metadata": {
  "kernelspec": {
   "display_name": "Python 3 (ipykernel)",
   "language": "python",
   "name": "python3"
  },
  "language_info": {
   "codemirror_mode": {
    "name": "ipython",
    "version": 3
   },
   "file_extension": ".py",
   "mimetype": "text/x-python",
   "name": "python",
   "nbconvert_exporter": "python",
   "pygments_lexer": "ipython3",
   "version": "3.9.13"
  }
 },
 "nbformat": 4,
 "nbformat_minor": 5
}
