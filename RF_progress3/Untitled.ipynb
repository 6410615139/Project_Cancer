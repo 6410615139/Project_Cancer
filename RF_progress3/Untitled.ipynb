{
 "cells": [
  {
   "cell_type": "code",
   "execution_count": null,
   "id": "cb0232a7-a316-45a1-9362-f6ed6dd24ddc",
   "metadata": {},
   "outputs": [],
   "source": []
  },
  {
   "cell_type": "code",
   "execution_count": 2,
   "id": "3953968c-b821-495e-801e-aa35d3a4f798",
   "metadata": {},
   "outputs": [],
   "source": [
    "with open('RF_model_old/RF_parameter_split1.txt', 'r') as f:\n",
    "    params_str = f.readline()\n",
    "    params_dict = eval(params_str)\n",
    "    f.close()"
   ]
  },
  {
   "cell_type": "code",
   "execution_count": 4,
   "id": "2706149b-0074-4785-8a23-adbcd2a30921",
   "metadata": {},
   "outputs": [
    {
     "data": {
      "text/plain": [
       "True"
      ]
     },
     "execution_count": 4,
     "metadata": {},
     "output_type": "execute_result"
    }
   ],
   "source": [
    "params_dict[\"bootstrap\"]"
   ]
  },
  {
   "cell_type": "code",
   "execution_count": null,
   "id": "c0f3f1f9-ae1d-4d35-b75a-fce3585d0b30",
   "metadata": {},
   "outputs": [],
   "source": []
  }
 ],
 "metadata": {
  "kernelspec": {
   "display_name": "Python 3 (ipykernel)",
   "language": "python",
   "name": "python3"
  },
  "language_info": {
   "codemirror_mode": {
    "name": "ipython",
    "version": 3
   },
   "file_extension": ".py",
   "mimetype": "text/x-python",
   "name": "python",
   "nbconvert_exporter": "python",
   "pygments_lexer": "ipython3",
   "version": "3.9.13"
  }
 },
 "nbformat": 4,
 "nbformat_minor": 5
}
