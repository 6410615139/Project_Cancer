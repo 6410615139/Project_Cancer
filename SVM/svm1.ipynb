{
 "cells": [
  {
   "cell_type": "markdown",
   "id": "bb643782",
   "metadata": {},
   "source": [
    "split1"
   ]
  },
  {
   "cell_type": "code",
   "execution_count": 1,
   "id": "f79dc333-f178-4292-9a64-bc1913124cee",
   "metadata": {},
   "outputs": [
    {
     "name": "stdout",
     "output_type": "stream",
     "text": [
      "../5-fold_new/DATA//split1/train/train_split1.csv\n",
      "../5-fold_new/DATA//test.csv\n",
      "../5-fold_new/DATA//split1/val/val_split1.csv\n"
     ]
    }
   ],
   "source": [
    "split = 'split1'\n",
    "path = \"../5-fold_new/DATA/\"\n",
    "train_path = \"{}/{}/train/train_{}.csv\".format(path,split,split)\n",
    "test_path =  \"{}/test.csv\".format(path)\n",
    "val_path = \"{}/{}/val/val_{}.csv\".format(path,split,split)\n",
    "\n",
    "print(train_path)\n",
    "print(test_path)\n",
    "print(val_path)"
   ]
  },
  {
   "cell_type": "code",
   "execution_count": 2,
   "id": "5ad2f009-2915-4442-8d24-f16f7dc05950",
   "metadata": {},
   "outputs": [
    {
     "name": "stdout",
     "output_type": "stream",
     "text": [
      "(364, 32)\n",
      "(364, 30)\n",
      "['B' 'M']\n",
      "\n",
      "\n",
      "(114, 33)\n",
      "(114, 30)\n",
      "['B' 'M']\n",
      "\n",
      "\n",
      "(91, 32)\n",
      "(91, 30)\n",
      "['B' 'M']\n",
      "\n",
      "\n",
      "Shape of training set: (364, 30)\n",
      "Shape of testing set: (114, 30)\n"
     ]
    }
   ],
   "source": [
    "import numpy as np\n",
    "import pandas as pd\n",
    "\n",
    "from sklearn.preprocessing import LabelEncoder\n",
    "from sklearn.model_selection import train_test_split\n",
    "\n",
    "# Load the training set\n",
    "train_data = pd.read_csv(train_path)\n",
    "print(train_data.shape)\n",
    "x_train = train_data[train_data.columns[2:]]\n",
    "print(x_train.shape)\n",
    "y_train = train_data[train_data.columns[1]]\n",
    "le = LabelEncoder()\n",
    "y_train = np.array(le.fit_transform(y_train))\n",
    "print(le.classes_)\n",
    "print('\\n')\n",
    "\n",
    "# Load the testing set\n",
    "test_data = pd.read_csv(test_path)\n",
    "print(test_data.shape)\n",
    "x_test = test_data[test_data.columns[3:]]\n",
    "print(x_test.shape)\n",
    "y_test = test_data[test_data.columns[2]]\n",
    "le = LabelEncoder()\n",
    "y_test = np.array(le.fit_transform(y_test))\n",
    "print(le.classes_)\n",
    "print('\\n')\n",
    "\n",
    "# Load the validation set\n",
    "val_data = pd.read_csv(val_path)\n",
    "print(val_data.shape)\n",
    "x_val = val_data[val_data.columns[2:]]\n",
    "print(x_val.shape)\n",
    "y_val = val_data[val_data.columns[1]]\n",
    "le = LabelEncoder()\n",
    "y_val = np.array(le.fit_transform(y_val))\n",
    "print(le.classes_)\n",
    "print('\\n')\n",
    "\n",
    "print(\"Shape of training set:\", x_train.shape)\n",
    "print(\"Shape of testing set:\", x_test.shape)"
   ]
  },
  {
   "cell_type": "code",
   "execution_count": 3,
   "id": "ac4d8221-f8ab-470a-a197-085d398cd98d",
   "metadata": {},
   "outputs": [
    {
     "name": "stdout",
     "output_type": "stream",
     "text": [
      "Confusion Matrix: \n",
      " [[46  0]\n",
      " [24 44]]\n",
      "\n",
      "\n",
      "              precision    recall  f1-score   support\n",
      "\n",
      "           0       0.66      1.00      0.79        46\n",
      "           1       1.00      0.65      0.79        68\n",
      "\n",
      "    accuracy                           0.79       114\n",
      "   macro avg       0.83      0.82      0.79       114\n",
      "weighted avg       0.86      0.79      0.79       114\n",
      "\n",
      "Accuracy of SVM model is:  0.7894736842105263\n"
     ]
    }
   ],
   "source": [
    "from sklearn.svm import SVC\n",
    "from sklearn.preprocessing import StandardScaler\n",
    "from sklearn.metrics import confusion_matrix, classification_report, accuracy_score\n",
    "\n",
    "ss = StandardScaler()\n",
    "x_train = ss.fit_transform(x_train)\n",
    "x_test = ss.fit_transform(x_test)\n",
    "\n",
    "svc_model = SVC(kernel=\"rbf\")\n",
    "svc_model.fit(x_train, y_train)\n",
    "predictions = svc_model.predict(x_test)\n",
    "\n",
    "print(\"Confusion Matrix: \\n\", confusion_matrix(y_test, predictions))\n",
    "print(\"\\n\")\n",
    "print(classification_report(y_test, predictions))\n",
    "\n",
    "svm_acc = accuracy_score(y_test, predictions)\n",
    "print(\"Accuracy of SVM model is: \", svm_acc)"
   ]
  },
  {
   "cell_type": "markdown",
   "id": "49c5ec0a",
   "metadata": {},
   "source": [
    "split2"
   ]
  },
  {
   "cell_type": "code",
   "execution_count": 4,
   "id": "c373f6d9",
   "metadata": {},
   "outputs": [
    {
     "name": "stdout",
     "output_type": "stream",
     "text": [
      "(364, 32)\n",
      "(364, 30)\n",
      "['B' 'M']\n",
      "\n",
      "\n",
      "(114, 33)\n",
      "(114, 30)\n",
      "['B' 'M']\n",
      "\n",
      "\n",
      "(91, 32)\n",
      "(91, 30)\n",
      "['B' 'M']\n"
     ]
    }
   ],
   "source": [
    "split = 'split2'\n",
    "path = \"../5-fold_new/DATA/\"\n",
    "train_path = \"{}/{}/train/train_{}.csv\".format(path,split,split)\n",
    "test_path =  \"{}/test.csv\".format(path)\n",
    "val_path = \"{}/{}/val/val_{}.csv\".format(path,split,split)\n",
    "\n",
    "# Load the training set\n",
    "train_data = pd.read_csv(train_path)\n",
    "print(train_data.shape)\n",
    "x_train = train_data[train_data.columns[2:]]\n",
    "print(x_train.shape)\n",
    "y_train = train_data[train_data.columns[1]]\n",
    "le = LabelEncoder()\n",
    "y_train = np.array(le.fit_transform(y_train))\n",
    "print(le.classes_)\n",
    "print('\\n')\n",
    "\n",
    "# Load the testing set\n",
    "test_data = pd.read_csv(test_path)\n",
    "print(test_data.shape)\n",
    "x_test = test_data[test_data.columns[3:]]\n",
    "print(x_test.shape)\n",
    "y_test = test_data[test_data.columns[2]]\n",
    "le = LabelEncoder()\n",
    "y_test = np.array(le.fit_transform(y_test))\n",
    "print(le.classes_)\n",
    "print('\\n')\n",
    "\n",
    "# Load the validation set\n",
    "val_data = pd.read_csv(val_path)\n",
    "print(val_data.shape)\n",
    "x_val = val_data[val_data.columns[2:]]\n",
    "print(x_val.shape)\n",
    "y_val = val_data[val_data.columns[1]]\n",
    "le = LabelEncoder()\n",
    "y_val = np.array(le.fit_transform(y_val))\n",
    "print(le.classes_)"
   ]
  },
  {
   "cell_type": "code",
   "execution_count": 5,
   "id": "8139216d",
   "metadata": {},
   "outputs": [
    {
     "name": "stdout",
     "output_type": "stream",
     "text": [
      "Confusion Matrix: \n",
      " [[46  0]\n",
      " [23 45]]\n",
      "\n",
      "\n",
      "              precision    recall  f1-score   support\n",
      "\n",
      "           0       0.67      1.00      0.80        46\n",
      "           1       1.00      0.66      0.80        68\n",
      "\n",
      "    accuracy                           0.80       114\n",
      "   macro avg       0.83      0.83      0.80       114\n",
      "weighted avg       0.87      0.80      0.80       114\n",
      "\n",
      "Accuracy of SVM model is:  0.7982456140350878\n"
     ]
    }
   ],
   "source": [
    "from sklearn.svm import SVC\n",
    "from sklearn.preprocessing import StandardScaler\n",
    "from sklearn.metrics import confusion_matrix, classification_report, accuracy_score\n",
    "\n",
    "ss = StandardScaler()\n",
    "x_train = ss.fit_transform(x_train)\n",
    "x_test = ss.fit_transform(x_test)\n",
    "\n",
    "svc_model = SVC(kernel=\"rbf\")\n",
    "svc_model.fit(x_train, y_train)\n",
    "predictions = svc_model.predict(x_test)\n",
    "\n",
    "print(\"Confusion Matrix: \\n\", confusion_matrix(y_test, predictions))\n",
    "print(\"\\n\")\n",
    "print(classification_report(y_test, predictions))\n",
    "\n",
    "svm_acc = accuracy_score(y_test, predictions)\n",
    "print(\"Accuracy of SVM model is: \", svm_acc)"
   ]
  },
  {
   "cell_type": "markdown",
   "id": "dde69e32",
   "metadata": {},
   "source": [
    "split3"
   ]
  },
  {
   "cell_type": "code",
   "execution_count": 6,
   "id": "375a40af",
   "metadata": {},
   "outputs": [
    {
     "name": "stdout",
     "output_type": "stream",
     "text": [
      "(364, 32)\n",
      "(364, 30)\n",
      "['B' 'M']\n",
      "\n",
      "\n",
      "(114, 33)\n",
      "(114, 30)\n",
      "['B' 'M']\n",
      "\n",
      "\n",
      "(91, 32)\n",
      "(91, 30)\n",
      "['B' 'M']\n"
     ]
    }
   ],
   "source": [
    "split = 'split3'\n",
    "path = \"../5-fold_new/DATA/\"\n",
    "train_path = \"{}/{}/train/train_{}.csv\".format(path,split,split)\n",
    "test_path =  \"{}/test.csv\".format(path)\n",
    "val_path = \"{}/{}/val/val_{}.csv\".format(path,split,split)\n",
    "\n",
    "# Load the training set\n",
    "train_data = pd.read_csv(train_path)\n",
    "print(train_data.shape)\n",
    "x_train = train_data[train_data.columns[2:]]\n",
    "print(x_train.shape)\n",
    "y_train = train_data[train_data.columns[1]]\n",
    "le = LabelEncoder()\n",
    "y_train = np.array(le.fit_transform(y_train))\n",
    "print(le.classes_)\n",
    "print('\\n')\n",
    "\n",
    "# Load the testing set\n",
    "test_data = pd.read_csv(test_path)\n",
    "print(test_data.shape)\n",
    "x_test = test_data[test_data.columns[3:]]\n",
    "print(x_test.shape)\n",
    "y_test = test_data[test_data.columns[2]]\n",
    "le = LabelEncoder()\n",
    "y_test = np.array(le.fit_transform(y_test))\n",
    "print(le.classes_)\n",
    "print('\\n')\n",
    "\n",
    "# Load the validation set\n",
    "val_data = pd.read_csv(val_path)\n",
    "print(val_data.shape)\n",
    "x_val = val_data[val_data.columns[2:]]\n",
    "print(x_val.shape)\n",
    "y_val = val_data[val_data.columns[1]]\n",
    "le = LabelEncoder()\n",
    "y_val = np.array(le.fit_transform(y_val))\n",
    "print(le.classes_)"
   ]
  },
  {
   "cell_type": "code",
   "execution_count": 7,
   "id": "5ee4d2dc",
   "metadata": {},
   "outputs": [
    {
     "name": "stdout",
     "output_type": "stream",
     "text": [
      "Confusion Matrix: \n",
      " [[45  1]\n",
      " [20 48]]\n",
      "\n",
      "\n",
      "              precision    recall  f1-score   support\n",
      "\n",
      "           0       0.69      0.98      0.81        46\n",
      "           1       0.98      0.71      0.82        68\n",
      "\n",
      "    accuracy                           0.82       114\n",
      "   macro avg       0.84      0.84      0.82       114\n",
      "weighted avg       0.86      0.82      0.82       114\n",
      "\n",
      "Accuracy of SVM model is:  0.8157894736842105\n"
     ]
    }
   ],
   "source": [
    "from sklearn.svm import SVC\n",
    "from sklearn.preprocessing import StandardScaler\n",
    "from sklearn.metrics import confusion_matrix, classification_report, accuracy_score\n",
    "\n",
    "ss = StandardScaler()\n",
    "x_train = ss.fit_transform(x_train)\n",
    "x_test = ss.fit_transform(x_test)\n",
    "\n",
    "svc_model = SVC(kernel=\"rbf\")\n",
    "svc_model.fit(x_train, y_train)\n",
    "predictions = svc_model.predict(x_test)\n",
    "\n",
    "print(\"Confusion Matrix: \\n\", confusion_matrix(y_test, predictions))\n",
    "print(\"\\n\")\n",
    "print(classification_report(y_test, predictions))\n",
    "\n",
    "svm_acc = accuracy_score(y_test, predictions)\n",
    "print(\"Accuracy of SVM model is: \", svm_acc)"
   ]
  },
  {
   "cell_type": "markdown",
   "id": "622066b5",
   "metadata": {},
   "source": [
    "split4"
   ]
  },
  {
   "cell_type": "code",
   "execution_count": 8,
   "id": "8b0addcb",
   "metadata": {},
   "outputs": [
    {
     "name": "stdout",
     "output_type": "stream",
     "text": [
      "(364, 32)\n",
      "(364, 30)\n",
      "['B' 'M']\n",
      "\n",
      "\n",
      "(114, 33)\n",
      "(114, 30)\n",
      "['B' 'M']\n",
      "\n",
      "\n",
      "(91, 32)\n",
      "(91, 30)\n",
      "['B' 'M']\n"
     ]
    }
   ],
   "source": [
    "split = 'split4'\n",
    "path = \"../5-fold_new/DATA/\"\n",
    "train_path = \"{}/{}/train/train_{}.csv\".format(path,split,split)\n",
    "test_path =  \"{}/test.csv\".format(path)\n",
    "val_path = \"{}/{}/val/val_{}.csv\".format(path,split,split)\n",
    "\n",
    "# Load the training set\n",
    "train_data = pd.read_csv(train_path)\n",
    "print(train_data.shape)\n",
    "x_train = train_data[train_data.columns[2:]]\n",
    "print(x_train.shape)\n",
    "y_train = train_data[train_data.columns[1]]\n",
    "le = LabelEncoder()\n",
    "y_train = np.array(le.fit_transform(y_train))\n",
    "print(le.classes_)\n",
    "print('\\n')\n",
    "\n",
    "# Load the testing set\n",
    "test_data = pd.read_csv(test_path)\n",
    "print(test_data.shape)\n",
    "x_test = test_data[test_data.columns[3:]]\n",
    "print(x_test.shape)\n",
    "y_test = test_data[test_data.columns[2]]\n",
    "le = LabelEncoder()\n",
    "y_test = np.array(le.fit_transform(y_test))\n",
    "print(le.classes_)\n",
    "print('\\n')\n",
    "\n",
    "# Load the validation set\n",
    "val_data = pd.read_csv(val_path)\n",
    "print(val_data.shape)\n",
    "x_val = val_data[val_data.columns[2:]]\n",
    "print(x_val.shape)\n",
    "y_val = val_data[val_data.columns[1]]\n",
    "le = LabelEncoder()\n",
    "y_val = np.array(le.fit_transform(y_val))\n",
    "print(le.classes_)"
   ]
  },
  {
   "cell_type": "code",
   "execution_count": 9,
   "id": "c0541bd1",
   "metadata": {},
   "outputs": [
    {
     "name": "stdout",
     "output_type": "stream",
     "text": [
      "Confusion Matrix: \n",
      " [[46  0]\n",
      " [20 48]]\n",
      "\n",
      "\n",
      "              precision    recall  f1-score   support\n",
      "\n",
      "           0       0.70      1.00      0.82        46\n",
      "           1       1.00      0.71      0.83        68\n",
      "\n",
      "    accuracy                           0.82       114\n",
      "   macro avg       0.85      0.85      0.82       114\n",
      "weighted avg       0.88      0.82      0.83       114\n",
      "\n",
      "Accuracy of SVM model is:  0.8245614035087719\n"
     ]
    }
   ],
   "source": [
    "from sklearn.svm import SVC\n",
    "from sklearn.preprocessing import StandardScaler\n",
    "from sklearn.metrics import confusion_matrix, classification_report, accuracy_score\n",
    "\n",
    "ss = StandardScaler()\n",
    "x_train = ss.fit_transform(x_train)\n",
    "x_test = ss.fit_transform(x_test)\n",
    "\n",
    "svc_model = SVC(kernel=\"rbf\")\n",
    "svc_model.fit(x_train, y_train)\n",
    "predictions = svc_model.predict(x_test)\n",
    "\n",
    "print(\"Confusion Matrix: \\n\", confusion_matrix(y_test, predictions))\n",
    "print(\"\\n\")\n",
    "print(classification_report(y_test, predictions))\n",
    "\n",
    "svm_acc = accuracy_score(y_test, predictions)\n",
    "print(\"Accuracy of SVM model is: \", svm_acc)"
   ]
  },
  {
   "cell_type": "markdown",
   "id": "618dcdd8",
   "metadata": {},
   "source": [
    "split5"
   ]
  },
  {
   "cell_type": "code",
   "execution_count": 10,
   "id": "e594155a",
   "metadata": {},
   "outputs": [
    {
     "name": "stdout",
     "output_type": "stream",
     "text": [
      "(364, 32)\n",
      "(364, 30)\n",
      "['B' 'M']\n",
      "\n",
      "\n",
      "(114, 33)\n",
      "(114, 30)\n",
      "['B' 'M']\n",
      "\n",
      "\n",
      "(91, 32)\n",
      "(91, 30)\n",
      "['B' 'M']\n"
     ]
    }
   ],
   "source": [
    "split = 'split5'\n",
    "path = \"../5-fold_new/DATA/\"\n",
    "train_path = \"{}/{}/train/train_{}.csv\".format(path,split,split)\n",
    "test_path =  \"{}/test.csv\".format(path)\n",
    "val_path = \"{}/{}/val/val_{}.csv\".format(path,split,split)\n",
    "\n",
    "# Load the training set\n",
    "train_data = pd.read_csv(train_path)\n",
    "print(train_data.shape)\n",
    "x_train = train_data[train_data.columns[2:]]\n",
    "print(x_train.shape)\n",
    "y_train = train_data[train_data.columns[1]]\n",
    "le = LabelEncoder()\n",
    "y_train = np.array(le.fit_transform(y_train))\n",
    "print(le.classes_)\n",
    "print('\\n')\n",
    "\n",
    "# Load the testing set\n",
    "test_data = pd.read_csv(test_path)\n",
    "print(test_data.shape)\n",
    "x_test = test_data[test_data.columns[3:]]\n",
    "print(x_test.shape)\n",
    "y_test = test_data[test_data.columns[2]]\n",
    "le = LabelEncoder()\n",
    "y_test = np.array(le.fit_transform(y_test))\n",
    "print(le.classes_)\n",
    "print('\\n')\n",
    "\n",
    "# Load the validation set\n",
    "val_data = pd.read_csv(val_path)\n",
    "print(val_data.shape)\n",
    "x_val = val_data[val_data.columns[2:]]\n",
    "print(x_val.shape)\n",
    "y_val = val_data[val_data.columns[1]]\n",
    "le = LabelEncoder()\n",
    "y_val = np.array(le.fit_transform(y_val))\n",
    "print(le.classes_)"
   ]
  },
  {
   "cell_type": "code",
   "execution_count": 11,
   "id": "125bf7a7",
   "metadata": {},
   "outputs": [
    {
     "name": "stdout",
     "output_type": "stream",
     "text": [
      "Confusion Matrix: \n",
      " [[46  0]\n",
      " [17 51]]\n",
      "\n",
      "\n",
      "              precision    recall  f1-score   support\n",
      "\n",
      "           0       0.73      1.00      0.84        46\n",
      "           1       1.00      0.75      0.86        68\n",
      "\n",
      "    accuracy                           0.85       114\n",
      "   macro avg       0.87      0.88      0.85       114\n",
      "weighted avg       0.89      0.85      0.85       114\n",
      "\n",
      "Accuracy of SVM model is:  0.8508771929824561\n"
     ]
    }
   ],
   "source": [
    "from sklearn.svm import SVC\n",
    "from sklearn.preprocessing import StandardScaler\n",
    "from sklearn.metrics import confusion_matrix, classification_report, accuracy_score\n",
    "\n",
    "ss = StandardScaler()\n",
    "x_train = ss.fit_transform(x_train)\n",
    "x_test = ss.fit_transform(x_test)\n",
    "\n",
    "svc_model = SVC(kernel=\"rbf\")\n",
    "svc_model.fit(x_train, y_train)\n",
    "predictions = svc_model.predict(x_test)\n",
    "\n",
    "print(\"Confusion Matrix: \\n\", confusion_matrix(y_test, predictions))\n",
    "print(\"\\n\")\n",
    "print(classification_report(y_test, predictions))\n",
    "\n",
    "svm_acc = accuracy_score(y_test, predictions)\n",
    "print(\"Accuracy of SVM model is: \", svm_acc)"
   ]
  }
 ],
 "metadata": {
  "kernelspec": {
   "display_name": "Python 3 (ipykernel)",
   "language": "python",
   "name": "python3"
  },
  "language_info": {
   "codemirror_mode": {
    "name": "ipython",
    "version": 3
   },
   "file_extension": ".py",
   "mimetype": "text/x-python",
   "name": "python",
   "nbconvert_exporter": "python",
   "pygments_lexer": "ipython3",
   "version": "3.10.9"
  },
  "vscode": {
   "interpreter": {
    "hash": "23bf0724a01b6ea9814e66f76182ea78c0ee849a72ca257c0e116bf83bb4960a"
   }
  }
 },
 "nbformat": 4,
 "nbformat_minor": 5
}
