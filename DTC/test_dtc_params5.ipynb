{
 "cells": [
  {
   "cell_type": "code",
   "execution_count": 1,
   "id": "9654a0c9",
   "metadata": {},
   "outputs": [],
   "source": [
    "import torch\n",
    "import torch.nn as nn\n",
    "import torch.optim as optim\n",
    "import pandas as pd\n",
    "from torch.utils.data import DataLoader, Dataset\n",
    "from sklearn.preprocessing import LabelEncoder\n",
    "import numpy as np\n",
    "from sklearn.preprocessing import StandardScaler\n",
    "from sklearn.model_selection import GridSearchCV\n",
    "from sklearn.svm import SVC\n",
    "from sklearn.metrics import accuracy_score, confusion_matrix, classification_report, confusion_matrix, roc_curve, roc_auc_score, auc\n",
    "from sklearn.tree import DecisionTreeClassifier\n",
    "\n",
    "import sklearn.metrics as metrics\n",
    "import matplotlib.pyplot as plt\n",
    "import seaborn as sns\n",
    "import statistics\n",
    "import joblib"
   ]
  },
  {
   "cell_type": "code",
   "execution_count": 2,
   "id": "8a19690c",
   "metadata": {},
   "outputs": [],
   "source": [
    "# read fold for check\n",
    "f1 = pd.read_csv(\"../Anny_oversampling/fold2.csv\")\n",
    "f2 = pd.read_csv(\"../Anny_oversampling/fold2.csv\")\n",
    "f3 = pd.read_csv(\"../Anny_oversampling/fold3.csv\")\n",
    "f4 = pd.read_csv(\"../Anny_oversampling/fold4.csv\")\n",
    "f5 = pd.read_csv(\"../Anny_oversampling/fold5.csv\")\n",
    "\n",
    "# read raw data\n",
    "raw_data = pd.read_csv(\"../raw_data/data.csv\")"
   ]
  },
  {
   "cell_type": "markdown",
   "id": "136868fb",
   "metadata": {},
   "source": [
    "# Review"
   ]
  },
  {
   "cell_type": "code",
   "execution_count": 3,
   "id": "25fcf239",
   "metadata": {},
   "outputs": [
    {
     "data": {
      "text/html": [
       "<div>\n",
       "<style scoped>\n",
       "    .dataframe tbody tr th:only-of-type {\n",
       "        vertical-align: middle;\n",
       "    }\n",
       "\n",
       "    .dataframe tbody tr th {\n",
       "        vertical-align: top;\n",
       "    }\n",
       "\n",
       "    .dataframe thead th {\n",
       "        text-align: right;\n",
       "    }\n",
       "</style>\n",
       "<table border=\"1\" class=\"dataframe\">\n",
       "  <thead>\n",
       "    <tr style=\"text-align: right;\">\n",
       "      <th></th>\n",
       "      <th>id</th>\n",
       "      <th>diagnosis</th>\n",
       "      <th>radius_mean</th>\n",
       "      <th>texture_mean</th>\n",
       "      <th>perimeter_mean</th>\n",
       "      <th>area_mean</th>\n",
       "      <th>smoothness_mean</th>\n",
       "      <th>compactness_mean</th>\n",
       "      <th>concavity_mean</th>\n",
       "      <th>concave points_mean</th>\n",
       "      <th>...</th>\n",
       "      <th>radius_worst</th>\n",
       "      <th>texture_worst</th>\n",
       "      <th>perimeter_worst</th>\n",
       "      <th>area_worst</th>\n",
       "      <th>smoothness_worst</th>\n",
       "      <th>compactness_worst</th>\n",
       "      <th>concavity_worst</th>\n",
       "      <th>concave points_worst</th>\n",
       "      <th>symmetry_worst</th>\n",
       "      <th>fractal_dimension_worst</th>\n",
       "    </tr>\n",
       "  </thead>\n",
       "  <tbody>\n",
       "    <tr>\n",
       "      <th>0</th>\n",
       "      <td>842302</td>\n",
       "      <td>M</td>\n",
       "      <td>17.99</td>\n",
       "      <td>10.38</td>\n",
       "      <td>122.80</td>\n",
       "      <td>1001.0</td>\n",
       "      <td>0.11840</td>\n",
       "      <td>0.27760</td>\n",
       "      <td>0.30010</td>\n",
       "      <td>0.14710</td>\n",
       "      <td>...</td>\n",
       "      <td>25.380</td>\n",
       "      <td>17.33</td>\n",
       "      <td>184.60</td>\n",
       "      <td>2019.0</td>\n",
       "      <td>0.16220</td>\n",
       "      <td>0.66560</td>\n",
       "      <td>0.7119</td>\n",
       "      <td>0.2654</td>\n",
       "      <td>0.4601</td>\n",
       "      <td>0.11890</td>\n",
       "    </tr>\n",
       "    <tr>\n",
       "      <th>1</th>\n",
       "      <td>842517</td>\n",
       "      <td>M</td>\n",
       "      <td>20.57</td>\n",
       "      <td>17.77</td>\n",
       "      <td>132.90</td>\n",
       "      <td>1326.0</td>\n",
       "      <td>0.08474</td>\n",
       "      <td>0.07864</td>\n",
       "      <td>0.08690</td>\n",
       "      <td>0.07017</td>\n",
       "      <td>...</td>\n",
       "      <td>24.990</td>\n",
       "      <td>23.41</td>\n",
       "      <td>158.80</td>\n",
       "      <td>1956.0</td>\n",
       "      <td>0.12380</td>\n",
       "      <td>0.18660</td>\n",
       "      <td>0.2416</td>\n",
       "      <td>0.1860</td>\n",
       "      <td>0.2750</td>\n",
       "      <td>0.08902</td>\n",
       "    </tr>\n",
       "    <tr>\n",
       "      <th>2</th>\n",
       "      <td>84300903</td>\n",
       "      <td>M</td>\n",
       "      <td>19.69</td>\n",
       "      <td>21.25</td>\n",
       "      <td>130.00</td>\n",
       "      <td>1203.0</td>\n",
       "      <td>0.10960</td>\n",
       "      <td>0.15990</td>\n",
       "      <td>0.19740</td>\n",
       "      <td>0.12790</td>\n",
       "      <td>...</td>\n",
       "      <td>23.570</td>\n",
       "      <td>25.53</td>\n",
       "      <td>152.50</td>\n",
       "      <td>1709.0</td>\n",
       "      <td>0.14440</td>\n",
       "      <td>0.42450</td>\n",
       "      <td>0.4504</td>\n",
       "      <td>0.2430</td>\n",
       "      <td>0.3613</td>\n",
       "      <td>0.08758</td>\n",
       "    </tr>\n",
       "    <tr>\n",
       "      <th>3</th>\n",
       "      <td>84348301</td>\n",
       "      <td>M</td>\n",
       "      <td>11.42</td>\n",
       "      <td>20.38</td>\n",
       "      <td>77.58</td>\n",
       "      <td>386.1</td>\n",
       "      <td>0.14250</td>\n",
       "      <td>0.28390</td>\n",
       "      <td>0.24140</td>\n",
       "      <td>0.10520</td>\n",
       "      <td>...</td>\n",
       "      <td>14.910</td>\n",
       "      <td>26.50</td>\n",
       "      <td>98.87</td>\n",
       "      <td>567.7</td>\n",
       "      <td>0.20980</td>\n",
       "      <td>0.86630</td>\n",
       "      <td>0.6869</td>\n",
       "      <td>0.2575</td>\n",
       "      <td>0.6638</td>\n",
       "      <td>0.17300</td>\n",
       "    </tr>\n",
       "    <tr>\n",
       "      <th>4</th>\n",
       "      <td>84358402</td>\n",
       "      <td>M</td>\n",
       "      <td>20.29</td>\n",
       "      <td>14.34</td>\n",
       "      <td>135.10</td>\n",
       "      <td>1297.0</td>\n",
       "      <td>0.10030</td>\n",
       "      <td>0.13280</td>\n",
       "      <td>0.19800</td>\n",
       "      <td>0.10430</td>\n",
       "      <td>...</td>\n",
       "      <td>22.540</td>\n",
       "      <td>16.67</td>\n",
       "      <td>152.20</td>\n",
       "      <td>1575.0</td>\n",
       "      <td>0.13740</td>\n",
       "      <td>0.20500</td>\n",
       "      <td>0.4000</td>\n",
       "      <td>0.1625</td>\n",
       "      <td>0.2364</td>\n",
       "      <td>0.07678</td>\n",
       "    </tr>\n",
       "    <tr>\n",
       "      <th>...</th>\n",
       "      <td>...</td>\n",
       "      <td>...</td>\n",
       "      <td>...</td>\n",
       "      <td>...</td>\n",
       "      <td>...</td>\n",
       "      <td>...</td>\n",
       "      <td>...</td>\n",
       "      <td>...</td>\n",
       "      <td>...</td>\n",
       "      <td>...</td>\n",
       "      <td>...</td>\n",
       "      <td>...</td>\n",
       "      <td>...</td>\n",
       "      <td>...</td>\n",
       "      <td>...</td>\n",
       "      <td>...</td>\n",
       "      <td>...</td>\n",
       "      <td>...</td>\n",
       "      <td>...</td>\n",
       "      <td>...</td>\n",
       "      <td>...</td>\n",
       "    </tr>\n",
       "    <tr>\n",
       "      <th>564</th>\n",
       "      <td>926424</td>\n",
       "      <td>M</td>\n",
       "      <td>21.56</td>\n",
       "      <td>22.39</td>\n",
       "      <td>142.00</td>\n",
       "      <td>1479.0</td>\n",
       "      <td>0.11100</td>\n",
       "      <td>0.11590</td>\n",
       "      <td>0.24390</td>\n",
       "      <td>0.13890</td>\n",
       "      <td>...</td>\n",
       "      <td>25.450</td>\n",
       "      <td>26.40</td>\n",
       "      <td>166.10</td>\n",
       "      <td>2027.0</td>\n",
       "      <td>0.14100</td>\n",
       "      <td>0.21130</td>\n",
       "      <td>0.4107</td>\n",
       "      <td>0.2216</td>\n",
       "      <td>0.2060</td>\n",
       "      <td>0.07115</td>\n",
       "    </tr>\n",
       "    <tr>\n",
       "      <th>565</th>\n",
       "      <td>926682</td>\n",
       "      <td>M</td>\n",
       "      <td>20.13</td>\n",
       "      <td>28.25</td>\n",
       "      <td>131.20</td>\n",
       "      <td>1261.0</td>\n",
       "      <td>0.09780</td>\n",
       "      <td>0.10340</td>\n",
       "      <td>0.14400</td>\n",
       "      <td>0.09791</td>\n",
       "      <td>...</td>\n",
       "      <td>23.690</td>\n",
       "      <td>38.25</td>\n",
       "      <td>155.00</td>\n",
       "      <td>1731.0</td>\n",
       "      <td>0.11660</td>\n",
       "      <td>0.19220</td>\n",
       "      <td>0.3215</td>\n",
       "      <td>0.1628</td>\n",
       "      <td>0.2572</td>\n",
       "      <td>0.06637</td>\n",
       "    </tr>\n",
       "    <tr>\n",
       "      <th>566</th>\n",
       "      <td>926954</td>\n",
       "      <td>M</td>\n",
       "      <td>16.60</td>\n",
       "      <td>28.08</td>\n",
       "      <td>108.30</td>\n",
       "      <td>858.1</td>\n",
       "      <td>0.08455</td>\n",
       "      <td>0.10230</td>\n",
       "      <td>0.09251</td>\n",
       "      <td>0.05302</td>\n",
       "      <td>...</td>\n",
       "      <td>18.980</td>\n",
       "      <td>34.12</td>\n",
       "      <td>126.70</td>\n",
       "      <td>1124.0</td>\n",
       "      <td>0.11390</td>\n",
       "      <td>0.30940</td>\n",
       "      <td>0.3403</td>\n",
       "      <td>0.1418</td>\n",
       "      <td>0.2218</td>\n",
       "      <td>0.07820</td>\n",
       "    </tr>\n",
       "    <tr>\n",
       "      <th>567</th>\n",
       "      <td>927241</td>\n",
       "      <td>M</td>\n",
       "      <td>20.60</td>\n",
       "      <td>29.33</td>\n",
       "      <td>140.10</td>\n",
       "      <td>1265.0</td>\n",
       "      <td>0.11780</td>\n",
       "      <td>0.27700</td>\n",
       "      <td>0.35140</td>\n",
       "      <td>0.15200</td>\n",
       "      <td>...</td>\n",
       "      <td>25.740</td>\n",
       "      <td>39.42</td>\n",
       "      <td>184.60</td>\n",
       "      <td>1821.0</td>\n",
       "      <td>0.16500</td>\n",
       "      <td>0.86810</td>\n",
       "      <td>0.9387</td>\n",
       "      <td>0.2650</td>\n",
       "      <td>0.4087</td>\n",
       "      <td>0.12400</td>\n",
       "    </tr>\n",
       "    <tr>\n",
       "      <th>568</th>\n",
       "      <td>92751</td>\n",
       "      <td>B</td>\n",
       "      <td>7.76</td>\n",
       "      <td>24.54</td>\n",
       "      <td>47.92</td>\n",
       "      <td>181.0</td>\n",
       "      <td>0.05263</td>\n",
       "      <td>0.04362</td>\n",
       "      <td>0.00000</td>\n",
       "      <td>0.00000</td>\n",
       "      <td>...</td>\n",
       "      <td>9.456</td>\n",
       "      <td>30.37</td>\n",
       "      <td>59.16</td>\n",
       "      <td>268.6</td>\n",
       "      <td>0.08996</td>\n",
       "      <td>0.06444</td>\n",
       "      <td>0.0000</td>\n",
       "      <td>0.0000</td>\n",
       "      <td>0.2871</td>\n",
       "      <td>0.07039</td>\n",
       "    </tr>\n",
       "  </tbody>\n",
       "</table>\n",
       "<p>569 rows × 32 columns</p>\n",
       "</div>"
      ],
      "text/plain": [
       "           id diagnosis  radius_mean  texture_mean  perimeter_mean  area_mean  \\\n",
       "0      842302         M        17.99         10.38          122.80     1001.0   \n",
       "1      842517         M        20.57         17.77          132.90     1326.0   \n",
       "2    84300903         M        19.69         21.25          130.00     1203.0   \n",
       "3    84348301         M        11.42         20.38           77.58      386.1   \n",
       "4    84358402         M        20.29         14.34          135.10     1297.0   \n",
       "..        ...       ...          ...           ...             ...        ...   \n",
       "564    926424         M        21.56         22.39          142.00     1479.0   \n",
       "565    926682         M        20.13         28.25          131.20     1261.0   \n",
       "566    926954         M        16.60         28.08          108.30      858.1   \n",
       "567    927241         M        20.60         29.33          140.10     1265.0   \n",
       "568     92751         B         7.76         24.54           47.92      181.0   \n",
       "\n",
       "     smoothness_mean  compactness_mean  concavity_mean  concave points_mean  \\\n",
       "0            0.11840           0.27760         0.30010              0.14710   \n",
       "1            0.08474           0.07864         0.08690              0.07017   \n",
       "2            0.10960           0.15990         0.19740              0.12790   \n",
       "3            0.14250           0.28390         0.24140              0.10520   \n",
       "4            0.10030           0.13280         0.19800              0.10430   \n",
       "..               ...               ...             ...                  ...   \n",
       "564          0.11100           0.11590         0.24390              0.13890   \n",
       "565          0.09780           0.10340         0.14400              0.09791   \n",
       "566          0.08455           0.10230         0.09251              0.05302   \n",
       "567          0.11780           0.27700         0.35140              0.15200   \n",
       "568          0.05263           0.04362         0.00000              0.00000   \n",
       "\n",
       "     ...  radius_worst  texture_worst  perimeter_worst  area_worst  \\\n",
       "0    ...        25.380          17.33           184.60      2019.0   \n",
       "1    ...        24.990          23.41           158.80      1956.0   \n",
       "2    ...        23.570          25.53           152.50      1709.0   \n",
       "3    ...        14.910          26.50            98.87       567.7   \n",
       "4    ...        22.540          16.67           152.20      1575.0   \n",
       "..   ...           ...            ...              ...         ...   \n",
       "564  ...        25.450          26.40           166.10      2027.0   \n",
       "565  ...        23.690          38.25           155.00      1731.0   \n",
       "566  ...        18.980          34.12           126.70      1124.0   \n",
       "567  ...        25.740          39.42           184.60      1821.0   \n",
       "568  ...         9.456          30.37            59.16       268.6   \n",
       "\n",
       "     smoothness_worst  compactness_worst  concavity_worst  \\\n",
       "0             0.16220            0.66560           0.7119   \n",
       "1             0.12380            0.18660           0.2416   \n",
       "2             0.14440            0.42450           0.4504   \n",
       "3             0.20980            0.86630           0.6869   \n",
       "4             0.13740            0.20500           0.4000   \n",
       "..                ...                ...              ...   \n",
       "564           0.14100            0.21130           0.4107   \n",
       "565           0.11660            0.19220           0.3215   \n",
       "566           0.11390            0.30940           0.3403   \n",
       "567           0.16500            0.86810           0.9387   \n",
       "568           0.08996            0.06444           0.0000   \n",
       "\n",
       "     concave points_worst  symmetry_worst  fractal_dimension_worst  \n",
       "0                  0.2654          0.4601                  0.11890  \n",
       "1                  0.1860          0.2750                  0.08902  \n",
       "2                  0.2430          0.3613                  0.08758  \n",
       "3                  0.2575          0.6638                  0.17300  \n",
       "4                  0.1625          0.2364                  0.07678  \n",
       "..                    ...             ...                      ...  \n",
       "564                0.2216          0.2060                  0.07115  \n",
       "565                0.1628          0.2572                  0.06637  \n",
       "566                0.1418          0.2218                  0.07820  \n",
       "567                0.2650          0.4087                  0.12400  \n",
       "568                0.0000          0.2871                  0.07039  \n",
       "\n",
       "[569 rows x 32 columns]"
      ]
     },
     "execution_count": 3,
     "metadata": {},
     "output_type": "execute_result"
    }
   ],
   "source": [
    "# run it once\n",
    "raw_data = raw_data.drop(labels='Unnamed: 32', axis=1)\n",
    "raw_data"
   ]
  },
  {
   "cell_type": "code",
   "execution_count": 4,
   "id": "93ff785a",
   "metadata": {},
   "outputs": [
    {
     "name": "stdout",
     "output_type": "stream",
     "text": [
      "########## the fold ############\n",
      "fold1: 91\n",
      "fold2: 91\n",
      "fold3: 91\n",
      "fold4: 91\n",
      "fold5: 91\n",
      "\n",
      "total: 455\n",
      "################################\n"
     ]
    }
   ],
   "source": [
    "print(\"########## the fold ############\")\n",
    "print(\"fold1: \"+ str(len(f1)))\n",
    "print(\"fold2: \"+ str(len(f2)))\n",
    "print(\"fold3: \"+ str(len(f3)))\n",
    "print(\"fold4: \"+ str(len(f4)))\n",
    "print(\"fold5: \"+ str(len(f5)))\n",
    "print(\"\\ntotal: \" + str(len(f1) + len(f2) + len(f3) + len(f4) + len(f5)))\n",
    "print(\"################################\")"
   ]
  },
  {
   "cell_type": "code",
   "execution_count": 5,
   "id": "8addb130",
   "metadata": {},
   "outputs": [
    {
     "name": "stdout",
     "output_type": "stream",
     "text": [
      "y_f1: ['B' 'M']\n",
      "y_f2: ['B' 'M']\n",
      "y_f3: ['B' 'M']\n",
      "y_f4: ['B' 'M']\n",
      "y_f5: ['B' 'M']\n"
     ]
    }
   ],
   "source": [
    "y_f1 = f1[f1.columns[1]]\n",
    "le = LabelEncoder()\n",
    "y_f1 = np.array(le.fit_transform(y_f1))\n",
    "print(\"y_f1:\", le.classes_)\n",
    "y_f2 = f2[f2.columns[1]]\n",
    "le = LabelEncoder()\n",
    "y_f2 = np.array(le.fit_transform(y_f2))\n",
    "print(\"y_f2:\",le.classes_)\n",
    "y_f3 = f3[f3.columns[1]]\n",
    "le = LabelEncoder()\n",
    "y_f3 = np.array(le.fit_transform(y_f3))\n",
    "print(\"y_f3:\",le.classes_)\n",
    "y_f4 = f4[f4.columns[1]]\n",
    "le = LabelEncoder()\n",
    "y_f4 = np.array(le.fit_transform(y_f4))\n",
    "print(\"y_f4:\",le.classes_)\n",
    "y_f5 = f5[f5.columns[1]]\n",
    "le = LabelEncoder()\n",
    "y_f5 = np.array(le.fit_transform(y_f5))\n",
    "print(\"y_f5:\",le.classes_)"
   ]
  },
  {
   "cell_type": "code",
   "execution_count": 6,
   "id": "f7821650",
   "metadata": {
    "scrolled": true
   },
   "outputs": [
    {
     "name": "stdout",
     "output_type": "stream",
     "text": [
      "------ fold ------\n",
      "f1 positive: 38\n",
      "f1 negative: 53\n",
      "------------------\n",
      "f2 positive: 38\n",
      "f2 negative: 53\n",
      "------------------\n",
      "f3 positive: 25\n",
      "f3 negative: 66\n",
      "------------------\n",
      "f4 positive: 19\n",
      "f4 negative: 72\n",
      "------------------\n",
      "f5 positive: 23\n",
      "f5 negative: 68\n",
      "------------------\n"
     ]
    }
   ],
   "source": [
    "# check balance in each fold\n",
    "print(\"------ fold ------\")\n",
    "print(\"f1 positive: \" + str(sum(y_f1)))\n",
    "print(\"f1 negative: \" + str(len(f1) - sum(y_f1)))\n",
    "print(\"------------------\")\n",
    "print(\"f2 positive: \" + str(sum(y_f2)))\n",
    "print(\"f2 negative: \" + str(len(f2) - sum(y_f2)))\n",
    "print(\"------------------\")\n",
    "print(\"f3 positive: \" + str(sum(y_f3)))\n",
    "print(\"f3 negative: \" + str(len(f3) - sum(y_f3)))\n",
    "print(\"------------------\")\n",
    "print(\"f4 positive: \" + str(sum(y_f4)))\n",
    "print(\"f4 negative: \" + str(len(f4) - sum(y_f4)))\n",
    "print(\"------------------\")\n",
    "print(\"f5 positive: \" + str(sum(y_f5)))\n",
    "print(\"f5 negative: \" + str(len(f5) - sum(y_f5)))\n",
    "print(\"------------------\")"
   ]
  },
  {
   "cell_type": "markdown",
   "id": "c1f55b01",
   "metadata": {},
   "source": [
    "# Function"
   ]
  },
  {
   "cell_type": "code",
   "execution_count": 7,
   "id": "0583b14c",
   "metadata": {},
   "outputs": [],
   "source": [
    "# tn, fp, fn, tp = each_index(cm)\n",
    "def each_index(metrix):\n",
    "    TN = metrix[0][0]\n",
    "    FP = metrix[0][1]\n",
    "    FN = metrix[1][0]\n",
    "    TP = metrix[1][1]\n",
    "    return TN, FP, FN, TP"
   ]
  },
  {
   "cell_type": "code",
   "execution_count": 8,
   "id": "f8a787c8",
   "metadata": {},
   "outputs": [],
   "source": [
    "def sensitivity(metrix):\n",
    "    TN, FP, FN, TP = each_index(metrix)\n",
    "    # Calculate sensitivity\n",
    "    sensitivity = TP / (TP + FN) * 100\n",
    "    print(\"Sensitivity: %.2f%%\" % sensitivity)\n",
    "    return sensitivity"
   ]
  },
  {
   "cell_type": "code",
   "execution_count": 9,
   "id": "a0e3e81e",
   "metadata": {},
   "outputs": [],
   "source": [
    "def specificity(metrix):\n",
    "    TN, FP, FN, TP = each_index(metrix)\n",
    "    # Calculate specificity\n",
    "    specificity = TN / (TN + FP) * 100\n",
    "    print(\"Specificity: %.2f%%\" % specificity)\n",
    "    return specificity"
   ]
  },
  {
   "cell_type": "code",
   "execution_count": 10,
   "id": "ef4cdf46",
   "metadata": {},
   "outputs": [],
   "source": [
    "def accuracy(metrix):\n",
    "    TN, FP, FN, TP = each_index(metrix)\n",
    "    # Calculate accuracy\n",
    "    accuracy = ((TP + TN) / (TP + TN + FP + FN)) *100\n",
    "    print(\"Accuracy: %.2f%%\" % accuracy)\n",
    "    return accuracy"
   ]
  },
  {
   "cell_type": "code",
   "execution_count": 11,
   "id": "d71ace68",
   "metadata": {},
   "outputs": [],
   "source": [
    "def precision(metrix):\n",
    "    TN, FP, FN, TP = each_index(metrix)\n",
    "    # Calculate accuracy\n",
    "    precision = (TP / (TP + FP)) *100\n",
    "    print(\"Precision: %.2f%%\" % precision)\n",
    "    return precision"
   ]
  },
  {
   "cell_type": "code",
   "execution_count": 12,
   "id": "e8a78f1d",
   "metadata": {},
   "outputs": [],
   "source": [
    "def f1(metrix):\n",
    "    TN, FP, FN, TP = each_index(metrix)\n",
    "    # Calculate f1\n",
    "    recall = sensitivity(metrix)\n",
    "    pre = precision(metrix)\n",
    "    f1 = ((2*pre*recall) / (pre+recall))\n",
    "    print(\"F1: %.2f%%\" % f1)\n",
    "    return f1"
   ]
  },
  {
   "cell_type": "markdown",
   "id": "c0c3219c",
   "metadata": {},
   "source": [
    "# Split1"
   ]
  },
  {
   "cell_type": "code",
   "execution_count": 520,
   "id": "e35a5c43",
   "metadata": {},
   "outputs": [],
   "source": [
    "# setting split and path\n",
    "split = 'split1'\n",
    "path = \"../Anny_oversampling/DATA/\"\n",
    "train_path = \"{}/{}/train/oversampled_train_{}.csv\".format(path,split,split)\n",
    "test_path =  \"{}/test.csv\".format(path)\n",
    "valid_path = \"{}/{}/val/val_{}.csv\".format(path,split,split)"
   ]
  },
  {
   "cell_type": "code",
   "execution_count": 521,
   "id": "2076b1ff",
   "metadata": {},
   "outputs": [
    {
     "name": "stdout",
     "output_type": "stream",
     "text": [
      "../Anny_oversampling/DATA//split1/train/oversampled_train_split1.csv\n",
      "../Anny_oversampling/DATA//test.csv\n",
      "../Anny_oversampling/DATA//split1/val/val_split1.csv\n"
     ]
    }
   ],
   "source": [
    "# check if path is correct\n",
    "print(train_path)\n",
    "print(test_path)\n",
    "print(valid_path)"
   ]
  },
  {
   "cell_type": "code",
   "execution_count": 522,
   "id": "83b66359",
   "metadata": {},
   "outputs": [
    {
     "name": "stdout",
     "output_type": "stream",
     "text": [
      "(518, 32)\n",
      "(518, 30)\n",
      "['B' 'M']\n"
     ]
    }
   ],
   "source": [
    "# Load the training set\n",
    "train_data = pd.read_csv(train_path)\n",
    "print(train_data.shape)\n",
    "x_train = train_data[train_data.columns[2:]]\n",
    "print(x_train.shape)\n",
    "y_train = train_data[train_data.columns[1]]\n",
    "le = LabelEncoder()\n",
    "y_train = np.array(le.fit_transform(y_train))\n",
    "print(le.classes_)"
   ]
  },
  {
   "cell_type": "code",
   "execution_count": 523,
   "id": "52b6a352",
   "metadata": {},
   "outputs": [
    {
     "name": "stdout",
     "output_type": "stream",
     "text": [
      "(114, 33)\n",
      "(114, 30)\n",
      "['B' 'M']\n"
     ]
    }
   ],
   "source": [
    "# Load the testing set\n",
    "test_data = pd.read_csv(test_path)\n",
    "print(test_data.shape)\n",
    "x_test = test_data[test_data.columns[3:]]\n",
    "print(x_test.shape)\n",
    "y_test = test_data[test_data.columns[2]]\n",
    "le = LabelEncoder()\n",
    "y_test = np.array(le.fit_transform(y_test))\n",
    "print(le.classes_)"
   ]
  },
  {
   "cell_type": "code",
   "execution_count": 524,
   "id": "29e445e8",
   "metadata": {},
   "outputs": [
    {
     "name": "stdout",
     "output_type": "stream",
     "text": [
      "(91, 32)\n",
      "(91, 30)\n",
      "['B' 'M']\n"
     ]
    }
   ],
   "source": [
    "# Load the validation set\n",
    "val_data = pd.read_csv(valid_path)\n",
    "print(val_data.shape)\n",
    "x_val = val_data[val_data.columns[2:]]\n",
    "print(x_val.shape)\n",
    "y_val = val_data[val_data.columns[1]]\n",
    "le = LabelEncoder()\n",
    "y_val = np.array(le.fit_transform(y_val))\n",
    "print(le.classes_)"
   ]
  },
  {
   "cell_type": "code",
   "execution_count": 525,
   "id": "e63e5407",
   "metadata": {},
   "outputs": [
    {
     "name": "stdout",
     "output_type": "stream",
     "text": [
      "['B' 'M']\n"
     ]
    }
   ],
   "source": [
    "# Load the raw set\n",
    "x_raw = raw_data[raw_data.columns[2:]]\n",
    "y_raw = raw_data[raw_data.columns[1]]\n",
    "le = LabelEncoder()\n",
    "y_raw = np.array(le.fit_transform(y_raw))\n",
    "print(le.classes_)"
   ]
  },
  {
   "cell_type": "code",
   "execution_count": 526,
   "id": "336785bf",
   "metadata": {},
   "outputs": [
    {
     "name": "stdout",
     "output_type": "stream",
     "text": [
      "split1\n",
      "train positive:    259\n",
      "validate positive: 39\n"
     ]
    }
   ],
   "source": [
    "# check balance in this split\n",
    "print(split)\n",
    "print(\"train positive:    \" + str(sum(y_train)))\n",
    "print(\"validate positive: \" + str(sum(y_val)))"
   ]
  },
  {
   "cell_type": "code",
   "execution_count": 527,
   "id": "a047d36e",
   "metadata": {},
   "outputs": [
    {
     "name": "stdout",
     "output_type": "stream",
     "text": [
      "Shape of training set: (518, 30)\n",
      "Shape of test set: (114, 30)\n"
     ]
    }
   ],
   "source": [
    "from sklearn.model_selection import train_test_split\n",
    "\n",
    "print(\"Shape of training set:\", x_train.shape)\n",
    "print(\"Shape of test set:\", x_test.shape)"
   ]
  },
  {
   "cell_type": "code",
   "execution_count": 528,
   "id": "2b084908",
   "metadata": {},
   "outputs": [
    {
     "name": "stdout",
     "output_type": "stream",
     "text": [
      "######### Check balance! ##########\n",
      "split1\n",
      "Train have abnormal: 259\n",
      "Train have normal: 259\n",
      " * Train difference: 0\n",
      "Validate have abnormal: 39\n",
      "Validate have normal: 52\n",
      " * Validate difference: 13\n",
      "Test have abnormal: 68\n",
      "Test have normal: 46\n",
      "####################################\n"
     ]
    }
   ],
   "source": [
    "# Define a custom dataset class\n",
    "class WisconsinDataset(Dataset):\n",
    "    def __init__(self, x, y):\n",
    "        self.X = x.values\n",
    "        self.y = y\n",
    "        self.X = torch.tensor(self.X, dtype=torch.float32)\n",
    "        self.y = torch.tensor(self.y, dtype=torch.int64)\n",
    "        \n",
    "        \n",
    "    def __len__(self):\n",
    "        return len(self.X)\n",
    "    \n",
    "    def __getitem__(self, idx):\n",
    "        return self.X[idx], self.y[idx]\n",
    "    \n",
    "batch = 1\n",
    "# Initialize the datasets and data loaders\n",
    "val_dataset = WisconsinDataset(x_val, y_val)\n",
    "train_dataset = WisconsinDataset(x_train, y_train)\n",
    "test_dataset = WisconsinDataset(x_test, y_test)\n",
    "train_loader = DataLoader(train_dataset, batch_size=batch, shuffle=False)\n",
    "test_loader = DataLoader(test_dataset, batch_size=1)\n",
    "val_loader = DataLoader(val_dataset, batch_size=batch)\n",
    "\n",
    "dataloaders = {\n",
    "    'train': train_loader\n",
    "    , 'valid': val_loader}\n",
    "\n",
    "print(\"######### Check balance! ##########\")\n",
    "print(split)\n",
    "# train\n",
    "count_train = 0\n",
    "for image,label in train_dataset:\n",
    "    count_train = count_train + label\n",
    "print(\"Train have abnormal: {}\".format(count_train))\n",
    "print(\"Train have normal: {}\".format(len(train_dataset) - count_train))\n",
    "print(\" * Train difference: {}\".format(abs(len(train_dataset) - (2*count_train))))\n",
    "# val\n",
    "count_val = 0\n",
    "for image,label in val_dataset:\n",
    "    count_val = count_val + label\n",
    "print(\"Validate have abnormal: {}\".format(count_val))\n",
    "print(\"Validate have normal: {}\".format(len(val_dataset) - count_val))\n",
    "print(\" * Validate difference: {}\".format(abs(len(val_dataset) - (2*count_val))))\n",
    "# test\n",
    "count_test = 0\n",
    "for image,label in test_dataset:\n",
    "    count_test = count_test + label\n",
    "print(\"Test have abnormal: {}\".format(count_test))\n",
    "print(\"Test have normal: {}\".format(len(test_dataset) - count_test))\n",
    "print(\"####################################\")"
   ]
  },
  {
   "cell_type": "markdown",
   "id": "b1dedbd5",
   "metadata": {},
   "source": [
    "## step train - split1"
   ]
  },
  {
   "cell_type": "code",
   "execution_count": 529,
   "id": "7f2444bb",
   "metadata": {},
   "outputs": [],
   "source": [
    "x_train = x_train.to_numpy()\n",
    "x_test = x_test.to_numpy()\n",
    "x_val = x_val.to_numpy()"
   ]
  },
  {
   "cell_type": "code",
   "execution_count": 530,
   "id": "9983c3fa",
   "metadata": {},
   "outputs": [],
   "source": [
    "ss = StandardScaler()\n",
    "x_train = ss.fit_transform(x_train)\n",
    "x_test = ss.fit_transform(x_test)\n",
    "x_val = ss.fit_transform(x_val)"
   ]
  },
  {
   "cell_type": "code",
   "execution_count": 43,
   "id": "96ad2529",
   "metadata": {},
   "outputs": [
    {
     "name": "stdout",
     "output_type": "stream",
     "text": [
      "Fitting 5 folds for each of 8640 candidates, totalling 43200 fits\n",
      "Best criterion parameter: gini\n",
      "Best max_depth parameter: 19\n",
      "Best min_samples_leaf parameter: 5\n",
      "Best min_samples_split parameter: 9\n",
      "Best splitter parameter: random\n",
      "Best score: 0.9903099327856608\n"
     ]
    }
   ],
   "source": [
    "model = DecisionTreeClassifier()\n",
    "\n",
    "parameters = {\n",
    "    'criterion' : ['gini', 'entropy'],\n",
    "    'max_depth' : range(2, 32, 1),\n",
    "    'min_samples_leaf' : range(1, 10, 1),\n",
    "    'min_samples_split' : range(2, 10, 1),\n",
    "    'splitter' : ['best', 'random']\n",
    "}\n",
    "\n",
    "grid_search = GridSearchCV(model, parameters, cv = 5, n_jobs = -1, verbose = 1)\n",
    "grid_search.fit(x_train, y_train)\n",
    "print('Best criterion parameter:', grid_search.best_params_['criterion'])\n",
    "print('Best max_depth parameter:', grid_search.best_params_['max_depth'])\n",
    "print('Best min_samples_leaf parameter:', grid_search.best_params_['min_samples_leaf'])\n",
    "print('Best min_samples_split parameter:', grid_search.best_params_['min_samples_split'])\n",
    "print('Best splitter parameter:', grid_search.best_params_['splitter'])\n",
    "print('Best score:', grid_search.best_score_)"
   ]
  },
  {
   "cell_type": "code",
   "execution_count": 531,
   "id": "3c42e66e",
   "metadata": {},
   "outputs": [
    {
     "data": {
      "text/plain": [
       "{'criterion': 'gini',\n",
       " 'max_depth': 19,\n",
       " 'min_samples_leaf': 5,\n",
       " 'min_samples_split': 9,\n",
       " 'splitter': 'random'}"
      ]
     },
     "execution_count": 531,
     "metadata": {},
     "output_type": "execute_result"
    }
   ],
   "source": [
    "grid_search.best_params_"
   ]
  },
  {
   "cell_type": "code",
   "execution_count": 727,
   "id": "cfa97dc0",
   "metadata": {},
   "outputs": [],
   "source": [
    "model = DecisionTreeClassifier(criterion=\"gini\",\n",
    "                             max_depth=19, min_samples_leaf=5, \n",
    "                             min_samples_split=9, splitter=\"random\")"
   ]
  },
  {
   "cell_type": "code",
   "execution_count": 728,
   "id": "985be4b9",
   "metadata": {
    "scrolled": true
   },
   "outputs": [
    {
     "data": {
      "text/html": [
       "<style>#sk-container-id-133 {color: black;background-color: white;}#sk-container-id-133 pre{padding: 0;}#sk-container-id-133 div.sk-toggleable {background-color: white;}#sk-container-id-133 label.sk-toggleable__label {cursor: pointer;display: block;width: 100%;margin-bottom: 0;padding: 0.3em;box-sizing: border-box;text-align: center;}#sk-container-id-133 label.sk-toggleable__label-arrow:before {content: \"▸\";float: left;margin-right: 0.25em;color: #696969;}#sk-container-id-133 label.sk-toggleable__label-arrow:hover:before {color: black;}#sk-container-id-133 div.sk-estimator:hover label.sk-toggleable__label-arrow:before {color: black;}#sk-container-id-133 div.sk-toggleable__content {max-height: 0;max-width: 0;overflow: hidden;text-align: left;background-color: #f0f8ff;}#sk-container-id-133 div.sk-toggleable__content pre {margin: 0.2em;color: black;border-radius: 0.25em;background-color: #f0f8ff;}#sk-container-id-133 input.sk-toggleable__control:checked~div.sk-toggleable__content {max-height: 200px;max-width: 100%;overflow: auto;}#sk-container-id-133 input.sk-toggleable__control:checked~label.sk-toggleable__label-arrow:before {content: \"▾\";}#sk-container-id-133 div.sk-estimator input.sk-toggleable__control:checked~label.sk-toggleable__label {background-color: #d4ebff;}#sk-container-id-133 div.sk-label input.sk-toggleable__control:checked~label.sk-toggleable__label {background-color: #d4ebff;}#sk-container-id-133 input.sk-hidden--visually {border: 0;clip: rect(1px 1px 1px 1px);clip: rect(1px, 1px, 1px, 1px);height: 1px;margin: -1px;overflow: hidden;padding: 0;position: absolute;width: 1px;}#sk-container-id-133 div.sk-estimator {font-family: monospace;background-color: #f0f8ff;border: 1px dotted black;border-radius: 0.25em;box-sizing: border-box;margin-bottom: 0.5em;}#sk-container-id-133 div.sk-estimator:hover {background-color: #d4ebff;}#sk-container-id-133 div.sk-parallel-item::after {content: \"\";width: 100%;border-bottom: 1px solid gray;flex-grow: 1;}#sk-container-id-133 div.sk-label:hover label.sk-toggleable__label {background-color: #d4ebff;}#sk-container-id-133 div.sk-serial::before {content: \"\";position: absolute;border-left: 1px solid gray;box-sizing: border-box;top: 0;bottom: 0;left: 50%;z-index: 0;}#sk-container-id-133 div.sk-serial {display: flex;flex-direction: column;align-items: center;background-color: white;padding-right: 0.2em;padding-left: 0.2em;position: relative;}#sk-container-id-133 div.sk-item {position: relative;z-index: 1;}#sk-container-id-133 div.sk-parallel {display: flex;align-items: stretch;justify-content: center;background-color: white;position: relative;}#sk-container-id-133 div.sk-item::before, #sk-container-id-133 div.sk-parallel-item::before {content: \"\";position: absolute;border-left: 1px solid gray;box-sizing: border-box;top: 0;bottom: 0;left: 50%;z-index: -1;}#sk-container-id-133 div.sk-parallel-item {display: flex;flex-direction: column;z-index: 1;position: relative;background-color: white;}#sk-container-id-133 div.sk-parallel-item:first-child::after {align-self: flex-end;width: 50%;}#sk-container-id-133 div.sk-parallel-item:last-child::after {align-self: flex-start;width: 50%;}#sk-container-id-133 div.sk-parallel-item:only-child::after {width: 0;}#sk-container-id-133 div.sk-dashed-wrapped {border: 1px dashed gray;margin: 0 0.4em 0.5em 0.4em;box-sizing: border-box;padding-bottom: 0.4em;background-color: white;}#sk-container-id-133 div.sk-label label {font-family: monospace;font-weight: bold;display: inline-block;line-height: 1.2em;}#sk-container-id-133 div.sk-label-container {text-align: center;}#sk-container-id-133 div.sk-container {/* jupyter's `normalize.less` sets `[hidden] { display: none; }` but bootstrap.min.css set `[hidden] { display: none !important; }` so we also need the `!important` here to be able to override the default hidden behavior on the sphinx rendered scikit-learn.org. See: https://github.com/scikit-learn/scikit-learn/issues/21755 */display: inline-block !important;position: relative;}#sk-container-id-133 div.sk-text-repr-fallback {display: none;}</style><div id=\"sk-container-id-133\" class=\"sk-top-container\"><div class=\"sk-text-repr-fallback\"><pre>DecisionTreeClassifier(max_depth=19, min_samples_leaf=5, min_samples_split=9,\n",
       "                       splitter=&#x27;random&#x27;)</pre><b>In a Jupyter environment, please rerun this cell to show the HTML representation or trust the notebook. <br />On GitHub, the HTML representation is unable to render, please try loading this page with nbviewer.org.</b></div><div class=\"sk-container\" hidden><div class=\"sk-item\"><div class=\"sk-estimator sk-toggleable\"><input class=\"sk-toggleable__control sk-hidden--visually\" id=\"sk-estimator-id-133\" type=\"checkbox\" checked><label for=\"sk-estimator-id-133\" class=\"sk-toggleable__label sk-toggleable__label-arrow\">DecisionTreeClassifier</label><div class=\"sk-toggleable__content\"><pre>DecisionTreeClassifier(max_depth=19, min_samples_leaf=5, min_samples_split=9,\n",
       "                       splitter=&#x27;random&#x27;)</pre></div></div></div></div></div>"
      ],
      "text/plain": [
       "DecisionTreeClassifier(max_depth=19, min_samples_leaf=5, min_samples_split=9,\n",
       "                       splitter='random')"
      ]
     },
     "execution_count": 728,
     "metadata": {},
     "output_type": "execute_result"
    }
   ],
   "source": [
    "model.fit(x_train, y_train)"
   ]
  },
  {
   "cell_type": "code",
   "execution_count": 729,
   "id": "ae2f10b7",
   "metadata": {},
   "outputs": [],
   "source": [
    "model_path = \"../DTC/models_train/param5/dtc_model_{}.pkl\".format(split)\n",
    "\n",
    "# Save the trained model to disk\n",
    "joblib.dump(model, model_path)\n",
    "\n",
    "# Load the saved model from disk\n",
    "model = joblib.load(model_path)"
   ]
  },
  {
   "cell_type": "code",
   "execution_count": 730,
   "id": "554f8dd0",
   "metadata": {},
   "outputs": [
    {
     "data": {
      "text/plain": [
       "array([1, 1, 1, 1, 1, 1, 1, 1, 1, 1, 1, 1, 1, 1, 1, 1, 1, 1, 1, 0, 0, 0,\n",
       "       1, 1, 1, 1, 1, 1, 1, 1, 1, 1, 1, 1, 1, 1, 1, 0, 1, 1, 0, 1, 1, 1,\n",
       "       1, 1, 0, 1, 0, 0, 0, 0, 0, 1, 1, 0, 1, 1, 0, 0, 0, 0, 1, 0, 1, 1,\n",
       "       0, 0, 0, 0, 1, 0, 1, 0, 0, 1, 0, 1, 1, 0, 0, 0, 1, 1, 0, 1, 1, 1,\n",
       "       0, 0, 1, 1, 0, 0, 1, 1, 0, 0, 0, 1, 1, 0, 0, 0, 0, 0, 0, 0, 1, 0,\n",
       "       0, 0, 1, 0])"
      ]
     },
     "execution_count": 730,
     "metadata": {},
     "output_type": "execute_result"
    }
   ],
   "source": [
    "y_pred = model.predict(x_test)\n",
    "y_pred"
   ]
  },
  {
   "cell_type": "code",
   "execution_count": 731,
   "id": "25242642",
   "metadata": {},
   "outputs": [
    {
     "data": {
      "text/plain": [
       "0.956140350877193"
      ]
     },
     "execution_count": 731,
     "metadata": {},
     "output_type": "execute_result"
    }
   ],
   "source": [
    "accuracy_score(y_test, y_pred)"
   ]
  },
  {
   "cell_type": "code",
   "execution_count": null,
   "id": "8265eaa9",
   "metadata": {},
   "outputs": [],
   "source": []
  },
  {
   "cell_type": "code",
   "execution_count": 732,
   "id": "1e87d12f",
   "metadata": {
    "scrolled": false
   },
   "outputs": [
    {
     "name": "stdout",
     "output_type": "stream",
     "text": [
      "split1\n",
      "############## validate set ################\n",
      "Confusion Matrix\n",
      "----------------\n",
      "[[43  9]\n",
      " [ 1 38]] \n",
      "\n",
      "----------------\n",
      "Sensitivity: 97.44%\n",
      "Specificity: 82.69%\n",
      "Accuracy: 89.01%\n",
      "Precision: 80.85%\n",
      "Sensitivity: 97.44%\n",
      "Precision: 80.85%\n",
      "F1: 88.37%\n"
     ]
    },
    {
     "data": {
      "image/png": "[encoded data removed]",
      "text/plain": [
       "<Figure size 640x480 with 1 Axes>"
      ]
     },
     "metadata": {},
     "output_type": "display_data"
    },
    {
     "name": "stdout",
     "output_type": "stream",
     "text": [
      "################# test set ##################\n",
      "Confusion Matrix\n",
      "----------------\n",
      "[[44  2]\n",
      " [ 3 65]] \n",
      "\n",
      "----------------\n",
      "Sensitivity: 95.59%\n",
      "Specificity: 95.65%\n",
      "Accuracy: 95.61%\n",
      "Precision: 97.01%\n",
      "Sensitivity: 95.59%\n",
      "Precision: 97.01%\n",
      "F1: 96.30%\n"
     ]
    },
    {
     "data": {
      "image/png": "[encoded data removed]",
      "text/plain": [
       "<Figure size 640x480 with 1 Axes>"
      ]
     },
     "metadata": {},
     "output_type": "display_data"
    },
    {
     "name": "stdout",
     "output_type": "stream",
     "text": [
      "---------------------------------------\n",
      "AUC validate: 0.9006\n",
      "AUC test: 0.9562\n"
     ]
    },
    {
     "data": {
      "image/png": "[encoded data removed]",
      "text/plain": [
       "<Figure size 640x480 with 1 Axes>"
      ]
     },
     "metadata": {},
     "output_type": "display_data"
    }
   ],
   "source": [
    "print(split)\n",
    "############## validate set ################\n",
    "print(\"############## validate set ################\")\n",
    "y_pred_val = model.predict(x_val)\n",
    "\n",
    "# Confusion matrix\n",
    "cm_val = confusion_matrix(y_val, y_pred_val)\n",
    "print('Confusion Matrix')\n",
    "print('-'*16)\n",
    "print(cm_val,'\\n')\n",
    "print('-'*16)\n",
    "\n",
    "# Calculate score\n",
    "sen_val = sensitivity(cm_val)\n",
    "spec_val = specificity(cm_val)\n",
    "acc_val = accuracy(cm_val)\n",
    "pre_val = precision(cm_val)\n",
    "f1_val = f1(cm_val)\n",
    "\n",
    "# plot confusion matrix\n",
    "class_names = ['benign','malignant']\n",
    "# Normalize confusion matrix to percentage\n",
    "cm_norm_val = cm_val.astype('float') / cm_val.sum(axis=1)[:, np.newaxis]\n",
    "# Create plot\n",
    "fig, ax = plt.subplots()\n",
    "im = ax.imshow(cm_norm_val, interpolation='nearest', cmap=\"rocket_r\")\n",
    "ax.grid(False)\n",
    "# Add labels\n",
    "ax.set(xticks=np.arange(cm_norm_val.shape[1]),\n",
    "       yticks=np.arange(cm_norm_val.shape[0]),\n",
    "       xticklabels=class_names, yticklabels=class_names)\n",
    "ax.set_title(\"Validate set\", fontsize=16)\n",
    "ax.set_ylabel('Actual', fontsize=16)\n",
    "ax.set_xlabel('Predicted', fontsize=16)\n",
    "# Add percentage and count values inside plot\n",
    "thresh = cm_norm_val.max() / 2.\n",
    "for i in range(cm_norm_val.shape[0]):\n",
    "    for j in range(cm_norm_val.shape[1]):\n",
    "        ax.text(j, i, '''{}\\n({:.2f}%)'''.format(cm_val[i,j], cm_norm_val[i, j]*100),\n",
    "                ha=\"center\", va=\"center\",\n",
    "                color=\"white\" if cm_norm_val[i, j] > thresh else \"black\")\n",
    "# Show plot\n",
    "plt.show()\n",
    "\n",
    "################# test set ##################\n",
    "print(\"################# test set ##################\")\n",
    "y_pred_test = model.predict(x_test)\n",
    "\n",
    "\n",
    "# Confusion matrix\n",
    "cm_test = confusion_matrix(y_test, y_pred_test)\n",
    "print('Confusion Matrix')\n",
    "print('-'*16)\n",
    "print(cm_test,'\\n')\n",
    "print('-'*16)\n",
    "\n",
    "# Calculate score\n",
    "sen_test_split1 = sensitivity(cm_test)\n",
    "spec_test_split1 = specificity(cm_test)\n",
    "acc_test_split1 = accuracy(cm_test)\n",
    "pre_test_split1 = precision(cm_test)\n",
    "f1_test_split1 = f1(cm_test)\n",
    "\n",
    "# plot confusion matrix\n",
    "class_names = ['benign','malignant']\n",
    "# Normalize confusion matrix to percentage\n",
    "cm_norm_test = cm_test.astype('float') / cm_test.sum(axis=1)[:, np.newaxis]\n",
    "# Create plot\n",
    "fig, ax = plt.subplots()\n",
    "im = ax.imshow(cm_norm_test, interpolation='nearest', cmap=\"rocket_r\")\n",
    "ax.grid(False)\n",
    "# Add labels\n",
    "ax.set(xticks=np.arange(cm_norm_test.shape[1]),\n",
    "       yticks=np.arange(cm_norm_test.shape[0]),\n",
    "       xticklabels=class_names, yticklabels=class_names)\n",
    "ax.set_title(\"Test set\", fontsize=16)\n",
    "ax.set_ylabel('Actual', fontsize=16)\n",
    "ax.set_xlabel('Predicted', fontsize=16)\n",
    "# Add percentage and count values inside plot\n",
    "thresh = cm_norm_test.max() / 2.\n",
    "for i in range(cm_norm_test.shape[0]):\n",
    "    for j in range(cm_norm_test.shape[1]):\n",
    "        ax.text(j, i, '''{}\\n({:.2f}%)'''.format(cm_test[i,j], cm_norm_test[i, j]*100),\n",
    "                ha=\"center\", va=\"center\",\n",
    "                color=\"white\" if cm_norm_test[i, j] > thresh else \"black\")\n",
    "# Show plot\n",
    "plt.show()\n",
    "\n",
    "################## plot ROC curve ########################\n",
    "fpr1, tpr1, thr1 = roc_curve(y_val, y_pred_val)\n",
    "auc_val = roc_auc_score(y_val, y_pred_val)\n",
    "fpr2, tpr2, thr2 = roc_curve(y_test, y_pred_test)\n",
    "auc_test_split1 = roc_auc_score(y_test, y_pred_test)\n",
    "\n",
    "print(\"---------------------------------------\")\n",
    "print(\"AUC validate: %.4f\" % auc_val)\n",
    "print(\"AUC test: %.4f\" % auc_test_split1)\n",
    "\n",
    "# plt.plot(fpr,tpr,label=\"data 1, auc=\"+str(auc),color='red')\n",
    "plt.plot(fpr1,tpr1,label=\"ROC valid, auc=\"+str(\"%.4f\" % auc_val))\n",
    "plt.plot(fpr2,tpr2,label=\"ROC test, auc=\"+str(\"%.4f\" % auc_test_split1))\n",
    "plt.plot([0, 1], [0, 1], linestyle=\"--\", lw=2, color=\"r\", label=\"Chance\", alpha=0.8)\n",
    "plt.legend(loc=4)\n",
    "plt.show()\n",
    "######################################################"
   ]
  },
  {
   "cell_type": "markdown",
   "id": "7c8896f4",
   "metadata": {},
   "source": [
    "# Split2"
   ]
  },
  {
   "cell_type": "code",
   "execution_count": 112,
   "id": "f644efe8",
   "metadata": {},
   "outputs": [],
   "source": [
    "# setting split and path\n",
    "split = 'split2'\n",
    "path = \"../Anny_oversampling/DATA/\"\n",
    "train_path = \"{}/{}/train/oversampled_train_{}.csv\".format(path,split,split)\n",
    "test_path = \"{}/test.csv\".format(path)\n",
    "valid_path = \"{}/{}/val/val_{}.csv\".format(path,split,split)"
   ]
  },
  {
   "cell_type": "code",
   "execution_count": 113,
   "id": "57e8b6c6",
   "metadata": {},
   "outputs": [
    {
     "name": "stdout",
     "output_type": "stream",
     "text": [
      "../Anny_oversampling/DATA//split2/train/oversampled_train_split2.csv\n",
      "../Anny_oversampling/DATA//test.csv\n",
      "../Anny_oversampling/DATA//split2/val/val_split2.csv\n"
     ]
    }
   ],
   "source": [
    "# check if path is correct\n",
    "print(train_path)\n",
    "print(test_path)\n",
    "print(valid_path)"
   ]
  },
  {
   "cell_type": "code",
   "execution_count": 114,
   "id": "57410870",
   "metadata": {},
   "outputs": [
    {
     "name": "stdout",
     "output_type": "stream",
     "text": [
      "(516, 32)\n",
      "(516, 30)\n",
      "['B' 'M']\n"
     ]
    }
   ],
   "source": [
    "# Load the training set\n",
    "train_data = pd.read_csv(train_path)\n",
    "print(train_data.shape)\n",
    "x_train = train_data[train_data.columns[2:]]\n",
    "print(x_train.shape)\n",
    "y_train = train_data[train_data.columns[1]]\n",
    "le = LabelEncoder()\n",
    "y_train = np.array(le.fit_transform(y_train))\n",
    "print(le.classes_)"
   ]
  },
  {
   "cell_type": "code",
   "execution_count": 115,
   "id": "89889f41",
   "metadata": {},
   "outputs": [
    {
     "name": "stdout",
     "output_type": "stream",
     "text": [
      "(114, 33)\n",
      "(114, 30)\n",
      "['B' 'M']\n"
     ]
    }
   ],
   "source": [
    "# Load the testing set\n",
    "test_data = pd.read_csv(test_path)\n",
    "print(test_data.shape)\n",
    "x_test = test_data[test_data.columns[3:]]\n",
    "print(x_test.shape)\n",
    "y_test = test_data[test_data.columns[2]]\n",
    "le = LabelEncoder()\n",
    "y_test = np.array(le.fit_transform(y_test))\n",
    "print(le.classes_)"
   ]
  },
  {
   "cell_type": "code",
   "execution_count": 116,
   "id": "c0923260",
   "metadata": {},
   "outputs": [
    {
     "name": "stdout",
     "output_type": "stream",
     "text": [
      "(91, 32)\n",
      "(91, 30)\n",
      "['B' 'M']\n"
     ]
    }
   ],
   "source": [
    "# Load the validation set\n",
    "val_data = pd.read_csv(valid_path)\n",
    "print(val_data.shape)\n",
    "x_val = val_data[val_data.columns[2:]]\n",
    "print(x_val.shape)\n",
    "y_val = val_data[val_data.columns[1]]\n",
    "le = LabelEncoder()\n",
    "y_val = np.array(le.fit_transform(y_val))\n",
    "print(le.classes_)"
   ]
  },
  {
   "cell_type": "code",
   "execution_count": 117,
   "id": "0e1f0caa",
   "metadata": {},
   "outputs": [
    {
     "name": "stdout",
     "output_type": "stream",
     "text": [
      "['B' 'M']\n"
     ]
    }
   ],
   "source": [
    "# Load the raw set\n",
    "x_raw = raw_data[raw_data.columns[2:]]\n",
    "y_raw = raw_data[raw_data.columns[1]]\n",
    "le = LabelEncoder()\n",
    "y_raw = np.array(le.fit_transform(y_raw))\n",
    "print(le.classes_)"
   ]
  },
  {
   "cell_type": "code",
   "execution_count": 118,
   "id": "85fb3a9e",
   "metadata": {},
   "outputs": [
    {
     "name": "stdout",
     "output_type": "stream",
     "text": [
      "split2\n",
      "train positive:    258\n",
      "validate positive: 38\n"
     ]
    }
   ],
   "source": [
    "# check balance in this split\n",
    "print(split)\n",
    "print(\"train positive:    \" + str(sum(y_train)))\n",
    "print(\"validate positive: \" + str(sum(y_val)))"
   ]
  },
  {
   "cell_type": "code",
   "execution_count": 119,
   "id": "f73fb328",
   "metadata": {},
   "outputs": [
    {
     "name": "stdout",
     "output_type": "stream",
     "text": [
      "Shape of training set: (516, 30)\n",
      "Shape of test set: (114, 30)\n"
     ]
    }
   ],
   "source": [
    "from sklearn.model_selection import train_test_split\n",
    "\n",
    "print(\"Shape of training set:\", x_train.shape)\n",
    "print(\"Shape of test set:\", x_test.shape)"
   ]
  },
  {
   "cell_type": "code",
   "execution_count": 120,
   "id": "b537663d",
   "metadata": {},
   "outputs": [],
   "source": [
    "# Define a custom dataset class\n",
    "class WisconsinDataset(Dataset):\n",
    "    def __init__(self, x, y):\n",
    "        self.X = x.values\n",
    "        self.y = y\n",
    "        self.X = torch.tensor(self.X, dtype=torch.float32)\n",
    "        self.y = torch.tensor(self.y, dtype=torch.int64)\n",
    "        \n",
    "        \n",
    "    def __len__(self):\n",
    "        return len(self.X)\n",
    "    \n",
    "    def __getitem__(self, idx):\n",
    "        return self.X[idx], self.y[idx]"
   ]
  },
  {
   "cell_type": "code",
   "execution_count": 121,
   "id": "4dabf577",
   "metadata": {},
   "outputs": [],
   "source": [
    "batch = 1\n",
    "# Initialize the datasets and data loaders\n",
    "val_dataset = WisconsinDataset(x_val, y_val)\n",
    "train_dataset = WisconsinDataset(x_train, y_train)\n",
    "test_dataset = WisconsinDataset(x_test, y_test)\n",
    "train_loader = DataLoader(train_dataset, batch_size=batch, shuffle=False)\n",
    "test_loader = DataLoader(test_dataset, batch_size=1)\n",
    "val_loader = DataLoader(val_dataset, batch_size=batch)"
   ]
  },
  {
   "cell_type": "code",
   "execution_count": 122,
   "id": "35f2b81f",
   "metadata": {},
   "outputs": [],
   "source": [
    "dataloaders = {\n",
    "    'train': train_loader\n",
    "    , 'valid': val_loader}"
   ]
  },
  {
   "cell_type": "code",
   "execution_count": 123,
   "id": "8208d51e",
   "metadata": {},
   "outputs": [
    {
     "name": "stdout",
     "output_type": "stream",
     "text": [
      "######### Check balance! ##########\n",
      "split2\n",
      "Train have abnormal: 258\n",
      "Train have normal: 258\n",
      " * Train difference: 0\n",
      "Validate have abnormal: 38\n",
      "Validate have normal: 53\n",
      " * Validate difference: 15\n",
      "Test have abnormal: 68\n",
      "Test have normal: 46\n",
      "####################################\n"
     ]
    }
   ],
   "source": [
    "print(\"######### Check balance! ##########\")\n",
    "print(split)\n",
    "# train\n",
    "count_train = 0\n",
    "for image,label in train_dataset:\n",
    "    count_train = count_train + label\n",
    "print(\"Train have abnormal: {}\".format(count_train))\n",
    "print(\"Train have normal: {}\".format(len(train_dataset) - count_train))\n",
    "print(\" * Train difference: {}\".format(abs(len(train_dataset) - (2*count_train))))\n",
    "# val\n",
    "count_val = 0\n",
    "for image,label in val_dataset:\n",
    "    count_val = count_val + label\n",
    "print(\"Validate have abnormal: {}\".format(count_val))\n",
    "print(\"Validate have normal: {}\".format(len(val_dataset) - count_val))\n",
    "print(\" * Validate difference: {}\".format(abs(len(val_dataset) - (2*count_val))))\n",
    "# test\n",
    "count_test = 0\n",
    "for image,label in test_dataset:\n",
    "    count_test = count_test + label\n",
    "print(\"Test have abnormal: {}\".format(count_test))\n",
    "print(\"Test have normal: {}\".format(len(test_dataset) - count_test))\n",
    "print(\"####################################\")"
   ]
  },
  {
   "cell_type": "markdown",
   "id": "638c2b15",
   "metadata": {},
   "source": [
    "## step train - split2"
   ]
  },
  {
   "cell_type": "code",
   "execution_count": 124,
   "id": "bec269de",
   "metadata": {},
   "outputs": [],
   "source": [
    "x_train = x_train.to_numpy()\n",
    "x_test = x_test.to_numpy()\n",
    "x_val = x_val.to_numpy()"
   ]
  },
  {
   "cell_type": "code",
   "execution_count": 125,
   "id": "17924baa",
   "metadata": {},
   "outputs": [],
   "source": [
    "ss = StandardScaler()\n",
    "x_train = ss.fit_transform(x_train)\n",
    "x_test = ss.fit_transform(x_test)\n",
    "x_val = ss.fit_transform(x_val)"
   ]
  },
  {
   "cell_type": "code",
   "execution_count": 126,
   "id": "0714fd32",
   "metadata": {},
   "outputs": [],
   "source": [
    "# dtc = DecisionTreeClassifier()\n",
    "\n",
    "# parameters = {\n",
    "#     'criterion' : ['gini', 'entropy'],\n",
    "#     'max_depth' : range(2, 32, 1),\n",
    "#     'min_samples_leaf' : range(1, 10, 1),\n",
    "#     'min_samples_split' : range(2\n",
    "#                                 , 10, 1),\n",
    "#     'splitter' : ['best', 'random']\n",
    "# }\n",
    "\n",
    "# grid_search = GridSearchCV(dtc, parameters, cv = 5, n_jobs = -1, verbose = 1)\n",
    "# grid_search.fit(x_raw, y_raw)\n",
    "# print('Best criterion parameter:', grid_search.best_params_['criterion'])\n",
    "# print('Best max_depth parameter:', grid_search.best_params_['max_depth'])\n",
    "# print('Best min_samples_leaf parameter:', grid_search.best_params_['min_samples_leaf'])\n",
    "# print('Best min_samples_split parameter:', grid_search.best_params_['min_samples_split'])\n",
    "# print('Best splitter parameter:', grid_search.best_params_['splitter'])\n",
    "# print('Best score:', grid_search.best_score_)"
   ]
  },
  {
   "cell_type": "code",
   "execution_count": 514,
   "id": "cbe6456b",
   "metadata": {},
   "outputs": [],
   "source": [
    "model = DecisionTreeClassifier(criterion=\"gini\",\n",
    "                             max_depth=19, min_samples_leaf=5, \n",
    "                             min_samples_split=9, splitter=\"random\")"
   ]
  },
  {
   "cell_type": "code",
   "execution_count": 515,
   "id": "1844ecac",
   "metadata": {},
   "outputs": [
    {
     "data": {
      "text/html": [
       "<style>#sk-container-id-93 {color: black;background-color: white;}#sk-container-id-93 pre{padding: 0;}#sk-container-id-93 div.sk-toggleable {background-color: white;}#sk-container-id-93 label.sk-toggleable__label {cursor: pointer;display: block;width: 100%;margin-bottom: 0;padding: 0.3em;box-sizing: border-box;text-align: center;}#sk-container-id-93 label.sk-toggleable__label-arrow:before {content: \"▸\";float: left;margin-right: 0.25em;color: #696969;}#sk-container-id-93 label.sk-toggleable__label-arrow:hover:before {color: black;}#sk-container-id-93 div.sk-estimator:hover label.sk-toggleable__label-arrow:before {color: black;}#sk-container-id-93 div.sk-toggleable__content {max-height: 0;max-width: 0;overflow: hidden;text-align: left;background-color: #f0f8ff;}#sk-container-id-93 div.sk-toggleable__content pre {margin: 0.2em;color: black;border-radius: 0.25em;background-color: #f0f8ff;}#sk-container-id-93 input.sk-toggleable__control:checked~div.sk-toggleable__content {max-height: 200px;max-width: 100%;overflow: auto;}#sk-container-id-93 input.sk-toggleable__control:checked~label.sk-toggleable__label-arrow:before {content: \"▾\";}#sk-container-id-93 div.sk-estimator input.sk-toggleable__control:checked~label.sk-toggleable__label {background-color: #d4ebff;}#sk-container-id-93 div.sk-label input.sk-toggleable__control:checked~label.sk-toggleable__label {background-color: #d4ebff;}#sk-container-id-93 input.sk-hidden--visually {border: 0;clip: rect(1px 1px 1px 1px);clip: rect(1px, 1px, 1px, 1px);height: 1px;margin: -1px;overflow: hidden;padding: 0;position: absolute;width: 1px;}#sk-container-id-93 div.sk-estimator {font-family: monospace;background-color: #f0f8ff;border: 1px dotted black;border-radius: 0.25em;box-sizing: border-box;margin-bottom: 0.5em;}#sk-container-id-93 div.sk-estimator:hover {background-color: #d4ebff;}#sk-container-id-93 div.sk-parallel-item::after {content: \"\";width: 100%;border-bottom: 1px solid gray;flex-grow: 1;}#sk-container-id-93 div.sk-label:hover label.sk-toggleable__label {background-color: #d4ebff;}#sk-container-id-93 div.sk-serial::before {content: \"\";position: absolute;border-left: 1px solid gray;box-sizing: border-box;top: 0;bottom: 0;left: 50%;z-index: 0;}#sk-container-id-93 div.sk-serial {display: flex;flex-direction: column;align-items: center;background-color: white;padding-right: 0.2em;padding-left: 0.2em;position: relative;}#sk-container-id-93 div.sk-item {position: relative;z-index: 1;}#sk-container-id-93 div.sk-parallel {display: flex;align-items: stretch;justify-content: center;background-color: white;position: relative;}#sk-container-id-93 div.sk-item::before, #sk-container-id-93 div.sk-parallel-item::before {content: \"\";position: absolute;border-left: 1px solid gray;box-sizing: border-box;top: 0;bottom: 0;left: 50%;z-index: -1;}#sk-container-id-93 div.sk-parallel-item {display: flex;flex-direction: column;z-index: 1;position: relative;background-color: white;}#sk-container-id-93 div.sk-parallel-item:first-child::after {align-self: flex-end;width: 50%;}#sk-container-id-93 div.sk-parallel-item:last-child::after {align-self: flex-start;width: 50%;}#sk-container-id-93 div.sk-parallel-item:only-child::after {width: 0;}#sk-container-id-93 div.sk-dashed-wrapped {border: 1px dashed gray;margin: 0 0.4em 0.5em 0.4em;box-sizing: border-box;padding-bottom: 0.4em;background-color: white;}#sk-container-id-93 div.sk-label label {font-family: monospace;font-weight: bold;display: inline-block;line-height: 1.2em;}#sk-container-id-93 div.sk-label-container {text-align: center;}#sk-container-id-93 div.sk-container {/* jupyter's `normalize.less` sets `[hidden] { display: none; }` but bootstrap.min.css set `[hidden] { display: none !important; }` so we also need the `!important` here to be able to override the default hidden behavior on the sphinx rendered scikit-learn.org. See: https://github.com/scikit-learn/scikit-learn/issues/21755 */display: inline-block !important;position: relative;}#sk-container-id-93 div.sk-text-repr-fallback {display: none;}</style><div id=\"sk-container-id-93\" class=\"sk-top-container\"><div class=\"sk-text-repr-fallback\"><pre>DecisionTreeClassifier(max_depth=19, min_samples_leaf=5, min_samples_split=9,\n",
       "                       splitter=&#x27;random&#x27;)</pre><b>In a Jupyter environment, please rerun this cell to show the HTML representation or trust the notebook. <br />On GitHub, the HTML representation is unable to render, please try loading this page with nbviewer.org.</b></div><div class=\"sk-container\" hidden><div class=\"sk-item\"><div class=\"sk-estimator sk-toggleable\"><input class=\"sk-toggleable__control sk-hidden--visually\" id=\"sk-estimator-id-93\" type=\"checkbox\" checked><label for=\"sk-estimator-id-93\" class=\"sk-toggleable__label sk-toggleable__label-arrow\">DecisionTreeClassifier</label><div class=\"sk-toggleable__content\"><pre>DecisionTreeClassifier(max_depth=19, min_samples_leaf=5, min_samples_split=9,\n",
       "                       splitter=&#x27;random&#x27;)</pre></div></div></div></div></div>"
      ],
      "text/plain": [
       "DecisionTreeClassifier(max_depth=19, min_samples_leaf=5, min_samples_split=9,\n",
       "                       splitter='random')"
      ]
     },
     "execution_count": 515,
     "metadata": {},
     "output_type": "execute_result"
    }
   ],
   "source": [
    "model.fit(x_train, y_train)"
   ]
  },
  {
   "cell_type": "code",
   "execution_count": 516,
   "id": "6220ecd6",
   "metadata": {},
   "outputs": [],
   "source": [
    "model_path = \"../DTC/models_train/param5/dtc_model_{}.pkl\".format(split)\n",
    "\n",
    "# Save the trained model to disk\n",
    "joblib.dump(model, model_path)\n",
    "\n",
    "# Load the saved model from disk\n",
    "model = joblib.load(model_path)"
   ]
  },
  {
   "cell_type": "code",
   "execution_count": 517,
   "id": "d7f20819",
   "metadata": {},
   "outputs": [
    {
     "data": {
      "text/plain": [
       "array([1, 1, 1, 1, 1, 1, 1, 1, 1, 1, 1, 1, 1, 1, 1, 1, 1, 1, 1, 0, 0, 0,\n",
       "       1, 1, 1, 1, 1, 1, 1, 1, 1, 1, 1, 1, 1, 1, 1, 0, 1, 1, 0, 0, 1, 1,\n",
       "       1, 1, 0, 1, 0, 0, 0, 0, 0, 1, 1, 0, 1, 1, 0, 0, 0, 0, 1, 0, 1, 1,\n",
       "       0, 0, 0, 0, 1, 0, 1, 0, 0, 1, 0, 1, 1, 0, 0, 0, 1, 1, 0, 1, 1, 1,\n",
       "       0, 0, 0, 1, 0, 0, 1, 1, 0, 0, 0, 1, 0, 0, 0, 0, 0, 1, 0, 0, 1, 0,\n",
       "       0, 0, 1, 0])"
      ]
     },
     "execution_count": 517,
     "metadata": {},
     "output_type": "execute_result"
    }
   ],
   "source": [
    "y_pred = model.predict(x_test)\n",
    "y_pred"
   ]
  },
  {
   "cell_type": "code",
   "execution_count": 518,
   "id": "969c1aed",
   "metadata": {},
   "outputs": [
    {
     "data": {
      "text/plain": [
       "0.956140350877193"
      ]
     },
     "execution_count": 518,
     "metadata": {},
     "output_type": "execute_result"
    }
   ],
   "source": [
    "accuracy_score(y_test, y_pred)"
   ]
  },
  {
   "cell_type": "code",
   "execution_count": null,
   "id": "17201fae",
   "metadata": {},
   "outputs": [],
   "source": []
  },
  {
   "cell_type": "code",
   "execution_count": 519,
   "id": "211230ce",
   "metadata": {
    "scrolled": false
   },
   "outputs": [
    {
     "name": "stdout",
     "output_type": "stream",
     "text": [
      "split2\n",
      "############## validate set ################\n",
      "Confusion Matrix\n",
      "----------------\n",
      "[[49  4]\n",
      " [ 2 36]] \n",
      "\n",
      "----------------\n",
      "Sensitivity: 94.74%\n",
      "Specificity: 92.45%\n",
      "Accuracy: 93.41%\n",
      "Precision: 90.00%\n",
      "Sensitivity: 94.74%\n",
      "Precision: 90.00%\n",
      "F1: 92.31%\n"
     ]
    },
    {
     "data": {
      "image/png": "[encoded data removed]",
      "text/plain": [
       "<Figure size 640x480 with 1 Axes>"
      ]
     },
     "metadata": {},
     "output_type": "display_data"
    },
    {
     "name": "stdout",
     "output_type": "stream",
     "text": [
      "################# test set ##################\n",
      "Confusion Matrix\n",
      "----------------\n",
      "[[45  1]\n",
      " [ 4 64]] \n",
      "\n",
      "----------------\n",
      "Sensitivity: 94.12%\n",
      "Specificity: 97.83%\n",
      "Accuracy: 95.61%\n",
      "Precision: 98.46%\n",
      "Sensitivity: 94.12%\n",
      "Precision: 98.46%\n",
      "F1: 96.24%\n"
     ]
    },
    {
     "data": {
      "image/png": "[encoded data removed]",
      "text/plain": [
       "<Figure size 640x480 with 1 Axes>"
      ]
     },
     "metadata": {},
     "output_type": "display_data"
    },
    {
     "name": "stdout",
     "output_type": "stream",
     "text": [
      "---------------------------------------\n",
      "AUC validate: 0.9359\n",
      "AUC test: 0.9597\n"
     ]
    },
    {
     "data": {
      "image/png": "[encoded data removed]",
      "text/plain": [
       "<Figure size 640x480 with 1 Axes>"
      ]
     },
     "metadata": {},
     "output_type": "display_data"
    }
   ],
   "source": [
    "print(split)\n",
    "############## validate set ################\n",
    "print(\"############## validate set ################\")\n",
    "y_pred_val = model.predict(x_val)\n",
    "\n",
    "# Confusion matrix\n",
    "cm_val = confusion_matrix(y_val, y_pred_val)\n",
    "print('Confusion Matrix')\n",
    "print('-'*16)\n",
    "print(cm_val,'\\n')\n",
    "print('-'*16)\n",
    "\n",
    "# Calculate score\n",
    "sen_val = sensitivity(cm_val)\n",
    "spec_val = specificity(cm_val)\n",
    "acc_val = accuracy(cm_val)\n",
    "pre_val = precision(cm_val)\n",
    "f1_val = f1(cm_val)\n",
    "\n",
    "# plot confusion matrix\n",
    "class_names = ['benign','malignant']\n",
    "# Normalize confusion matrix to percentage\n",
    "cm_norm_val = cm_val.astype('float') / cm_val.sum(axis=1)[:, np.newaxis]\n",
    "# Create plot\n",
    "fig, ax = plt.subplots()\n",
    "im = ax.imshow(cm_norm_val, interpolation='nearest', cmap=\"rocket_r\")\n",
    "ax.grid(False)\n",
    "# Add labels\n",
    "ax.set(xticks=np.arange(cm_norm_val.shape[1]),\n",
    "       yticks=np.arange(cm_norm_val.shape[0]),\n",
    "       xticklabels=class_names, yticklabels=class_names)\n",
    "ax.set_title(\"Validate set\", fontsize=16)\n",
    "ax.set_ylabel('Actual', fontsize=16)\n",
    "ax.set_xlabel('Predicted', fontsize=16)\n",
    "# Add percentage and count values inside plot\n",
    "thresh = cm_norm_val.max() / 2.\n",
    "for i in range(cm_norm_val.shape[0]):\n",
    "    for j in range(cm_norm_val.shape[1]):\n",
    "        ax.text(j, i, '''{}\\n({:.2f}%)'''.format(cm_val[i,j], cm_norm_val[i, j]*100),\n",
    "                ha=\"center\", va=\"center\",\n",
    "                color=\"white\" if cm_norm_val[i, j] > thresh else \"black\")\n",
    "# Show plot\n",
    "plt.show()\n",
    "\n",
    "################# test set ##################\n",
    "print(\"################# test set ##################\")\n",
    "y_pred_test = model.predict(x_test)\n",
    "\n",
    "\n",
    "# Confusion matrix\n",
    "cm_test = confusion_matrix(y_test, y_pred_test)\n",
    "print('Confusion Matrix')\n",
    "print('-'*16)\n",
    "print(cm_test,'\\n')\n",
    "print('-'*16)\n",
    "\n",
    "# Calculate score\n",
    "sen_test_split2 = sensitivity(cm_test)\n",
    "spec_test_split2 = specificity(cm_test)\n",
    "acc_test_split2 = accuracy(cm_test)\n",
    "pre_test_split2 = precision(cm_test)\n",
    "f1_test_split2 = f1(cm_test)\n",
    "\n",
    "# plot confusion matrix\n",
    "class_names = ['benign','malignant']\n",
    "# Normalize confusion matrix to percentage\n",
    "cm_norm_test = cm_test.astype('float') / cm_test.sum(axis=1)[:, np.newaxis]\n",
    "# Create plot\n",
    "fig, ax = plt.subplots()\n",
    "im = ax.imshow(cm_norm_test, interpolation='nearest', cmap=\"rocket_r\")\n",
    "ax.grid(False)\n",
    "# Add labels\n",
    "ax.set(xticks=np.arange(cm_norm_test.shape[1]),\n",
    "       yticks=np.arange(cm_norm_test.shape[0]),\n",
    "       xticklabels=class_names, yticklabels=class_names)\n",
    "ax.set_title(\"Test set\", fontsize=16)\n",
    "ax.set_ylabel('Actual', fontsize=16)\n",
    "ax.set_xlabel('Predicted', fontsize=16)\n",
    "# Add percentage and count values inside plot\n",
    "thresh = cm_norm_test.max() / 2.\n",
    "for i in range(cm_norm_test.shape[0]):\n",
    "    for j in range(cm_norm_test.shape[1]):\n",
    "        ax.text(j, i, '''{}\\n({:.2f}%)'''.format(cm_test[i,j], cm_norm_test[i, j]*100),\n",
    "                ha=\"center\", va=\"center\",\n",
    "                color=\"white\" if cm_norm_test[i, j] > thresh else \"black\")\n",
    "# Show plot\n",
    "plt.show()\n",
    "\n",
    "################## plot ROC curve ########################\n",
    "fpr1, tpr1, thr1 = roc_curve(y_val, y_pred_val)\n",
    "auc_val = roc_auc_score(y_val, y_pred_val)\n",
    "fpr2, tpr2, thr2 = roc_curve(y_test, y_pred_test)\n",
    "auc_test_split2 = roc_auc_score(y_test, y_pred_test)\n",
    "\n",
    "print(\"---------------------------------------\")\n",
    "print(\"AUC validate: %.4f\" % auc_val)\n",
    "print(\"AUC test: %.4f\" % auc_test_split2)\n",
    "\n",
    "# plt.plot(fpr,tpr,label=\"data 1, auc=\"+str(auc),color='red')\n",
    "plt.plot(fpr1,tpr1,label=\"ROC valid, auc=\"+str(\"%.4f\" % auc_val))\n",
    "plt.plot(fpr2,tpr2,label=\"ROC test, auc=\"+str(\"%.4f\" % auc_test_split2))\n",
    "plt.plot([0, 1], [0, 1], linestyle=\"--\", lw=2, color=\"r\", label=\"Chance\", alpha=0.8)\n",
    "plt.legend(loc=4)\n",
    "plt.show()\n",
    "#####################################################"
   ]
  },
  {
   "cell_type": "markdown",
   "id": "8fd23930",
   "metadata": {},
   "source": [
    "# Split3"
   ]
  },
  {
   "cell_type": "code",
   "execution_count": 733,
   "id": "1ba21b4f",
   "metadata": {},
   "outputs": [],
   "source": [
    "# setting split and path\n",
    "split = 'split3'\n",
    "path = \"../Anny_oversampling/DATA/\"\n",
    "train_path = \"{}/{}/train/oversampled_train_{}.csv\".format(path,split,split)\n",
    "test_path = \"{}/test.csv\".format(path)\n",
    "valid_path = \"{}/{}/val/val_{}.csv\".format(path,split,split)"
   ]
  },
  {
   "cell_type": "code",
   "execution_count": 734,
   "id": "b2b3737b",
   "metadata": {},
   "outputs": [
    {
     "name": "stdout",
     "output_type": "stream",
     "text": [
      "../Anny_oversampling/DATA//split3/train/oversampled_train_split3.csv\n",
      "../Anny_oversampling/DATA//test.csv\n",
      "../Anny_oversampling/DATA//split3/val/val_split3.csv\n"
     ]
    }
   ],
   "source": [
    "# check if path is correct\n",
    "print(train_path)\n",
    "print(test_path)\n",
    "print(valid_path)"
   ]
  },
  {
   "cell_type": "code",
   "execution_count": 735,
   "id": "ecb801b4",
   "metadata": {},
   "outputs": [
    {
     "name": "stdout",
     "output_type": "stream",
     "text": [
      "(490, 32)\n",
      "(490, 30)\n",
      "['B' 'M']\n"
     ]
    }
   ],
   "source": [
    "# Load the training set\n",
    "train_data = pd.read_csv(train_path)\n",
    "print(train_data.shape)\n",
    "x_train = train_data[train_data.columns[2:]]\n",
    "print(x_train.shape)\n",
    "y_train = train_data[train_data.columns[1]]\n",
    "le = LabelEncoder()\n",
    "y_train = np.array(le.fit_transform(y_train))\n",
    "print(le.classes_)"
   ]
  },
  {
   "cell_type": "code",
   "execution_count": 736,
   "id": "f6b202e4",
   "metadata": {},
   "outputs": [
    {
     "name": "stdout",
     "output_type": "stream",
     "text": [
      "(114, 33)\n",
      "(114, 30)\n",
      "['B' 'M']\n"
     ]
    }
   ],
   "source": [
    "# Load the testing set\n",
    "test_data = pd.read_csv(test_path)\n",
    "print(test_data.shape)\n",
    "x_test = test_data[test_data.columns[3:]]\n",
    "print(x_test.shape)\n",
    "y_test = test_data[test_data.columns[2]]\n",
    "le = LabelEncoder()\n",
    "y_test = np.array(le.fit_transform(y_test))\n",
    "print(le.classes_)"
   ]
  },
  {
   "cell_type": "code",
   "execution_count": 737,
   "id": "0c0a5abf",
   "metadata": {},
   "outputs": [
    {
     "name": "stdout",
     "output_type": "stream",
     "text": [
      "(91, 32)\n",
      "(91, 30)\n",
      "['B' 'M']\n"
     ]
    }
   ],
   "source": [
    "# Load the validation set\n",
    "val_data = pd.read_csv(valid_path)\n",
    "print(val_data.shape)\n",
    "x_val = val_data[val_data.columns[2:]]\n",
    "print(x_val.shape)\n",
    "y_val = val_data[val_data.columns[1]]\n",
    "le = LabelEncoder()\n",
    "y_val = np.array(le.fit_transform(y_val))\n",
    "print(le.classes_)"
   ]
  },
  {
   "cell_type": "code",
   "execution_count": 738,
   "id": "ad73225f",
   "metadata": {},
   "outputs": [
    {
     "name": "stdout",
     "output_type": "stream",
     "text": [
      "['B' 'M']\n"
     ]
    }
   ],
   "source": [
    "# Load the raw set\n",
    "x_raw = raw_data[raw_data.columns[2:]]\n",
    "y_raw = raw_data[raw_data.columns[1]]\n",
    "le = LabelEncoder()\n",
    "y_raw = np.array(le.fit_transform(y_raw))\n",
    "print(le.classes_)"
   ]
  },
  {
   "cell_type": "code",
   "execution_count": 739,
   "id": "f9fea4b9",
   "metadata": {},
   "outputs": [
    {
     "name": "stdout",
     "output_type": "stream",
     "text": [
      "split3\n",
      "train positive:    245\n",
      "validate positive: 25\n"
     ]
    }
   ],
   "source": [
    "# check balance in this split\n",
    "print(split)\n",
    "print(\"train positive:    \" + str(sum(y_train)))\n",
    "print(\"validate positive: \" + str(sum(y_val)))"
   ]
  },
  {
   "cell_type": "code",
   "execution_count": 740,
   "id": "4171f841",
   "metadata": {},
   "outputs": [
    {
     "name": "stdout",
     "output_type": "stream",
     "text": [
      "Shape of training set: (490, 30)\n",
      "Shape of test set: (114, 30)\n"
     ]
    }
   ],
   "source": [
    "from sklearn.model_selection import train_test_split\n",
    "\n",
    "print(\"Shape of training set:\", x_train.shape)\n",
    "print(\"Shape of test set:\", x_test.shape)"
   ]
  },
  {
   "cell_type": "code",
   "execution_count": 741,
   "id": "d236962b",
   "metadata": {},
   "outputs": [],
   "source": [
    "# Define a custom dataset class\n",
    "class WisconsinDataset(Dataset):\n",
    "    def __init__(self, x, y):\n",
    "        self.X = x.values\n",
    "        self.y = y\n",
    "        self.X = torch.tensor(self.X, dtype=torch.float32)\n",
    "        self.y = torch.tensor(self.y, dtype=torch.int64)\n",
    "        \n",
    "        \n",
    "    def __len__(self):\n",
    "        return len(self.X)\n",
    "    \n",
    "    def __getitem__(self, idx):\n",
    "        return self.X[idx], self.y[idx]"
   ]
  },
  {
   "cell_type": "code",
   "execution_count": 742,
   "id": "016de3be",
   "metadata": {},
   "outputs": [],
   "source": [
    "batch = 1\n",
    "# Initialize the datasets and data loaders\n",
    "val_dataset = WisconsinDataset(x_val, y_val)\n",
    "train_dataset = WisconsinDataset(x_train, y_train)\n",
    "test_dataset = WisconsinDataset(x_test, y_test)\n",
    "train_loader = DataLoader(train_dataset, batch_size=batch, shuffle=False)\n",
    "test_loader = DataLoader(test_dataset, batch_size=1)\n",
    "val_loader = DataLoader(val_dataset, batch_size=batch)"
   ]
  },
  {
   "cell_type": "code",
   "execution_count": 743,
   "id": "f396fbd8",
   "metadata": {},
   "outputs": [],
   "source": [
    "dataloaders = {\n",
    "    'train': train_loader\n",
    "    , 'valid': val_loader}"
   ]
  },
  {
   "cell_type": "code",
   "execution_count": 744,
   "id": "feed8835",
   "metadata": {},
   "outputs": [
    {
     "name": "stdout",
     "output_type": "stream",
     "text": [
      "######### Check balance! ##########\n",
      "split3\n",
      "Train have abnormal: 245\n",
      "Train have normal: 245\n",
      " * Train difference: 0\n",
      "Validate have abnormal: 25\n",
      "Validate have normal: 66\n",
      " * Validate difference: 41\n",
      "Test have abnormal: 68\n",
      "Test have normal: 46\n",
      "####################################\n"
     ]
    }
   ],
   "source": [
    "print(\"######### Check balance! ##########\")\n",
    "print(split)\n",
    "# train\n",
    "count_train = 0\n",
    "for image,label in train_dataset:\n",
    "    count_train = count_train + label\n",
    "print(\"Train have abnormal: {}\".format(count_train))\n",
    "print(\"Train have normal: {}\".format(len(train_dataset) - count_train))\n",
    "print(\" * Train difference: {}\".format(abs(len(train_dataset) - (2*count_train))))\n",
    "# val\n",
    "count_val = 0\n",
    "for image,label in val_dataset:\n",
    "    count_val = count_val + label\n",
    "print(\"Validate have abnormal: {}\".format(count_val))\n",
    "print(\"Validate have normal: {}\".format(len(val_dataset) - count_val))\n",
    "print(\" * Validate difference: {}\".format(abs(len(val_dataset) - (2*count_val))))\n",
    "# test\n",
    "count_test = 0\n",
    "for image,label in test_dataset:\n",
    "    count_test = count_test + label\n",
    "print(\"Test have abnormal: {}\".format(count_test))\n",
    "print(\"Test have normal: {}\".format(len(test_dataset) - count_test))\n",
    "print(\"####################################\")"
   ]
  },
  {
   "cell_type": "markdown",
   "id": "a2b77800",
   "metadata": {},
   "source": [
    "## step train - split3"
   ]
  },
  {
   "cell_type": "code",
   "execution_count": 745,
   "id": "a9279fbf",
   "metadata": {},
   "outputs": [],
   "source": [
    "x_train = x_train.to_numpy()\n",
    "x_test = x_test.to_numpy()\n",
    "x_val = x_val.to_numpy()"
   ]
  },
  {
   "cell_type": "code",
   "execution_count": 746,
   "id": "82363d85",
   "metadata": {},
   "outputs": [],
   "source": [
    "ss = StandardScaler()\n",
    "x_train = ss.fit_transform(x_train)\n",
    "x_test = ss.fit_transform(x_test)\n",
    "x_val = ss.fit_transform(x_val)"
   ]
  },
  {
   "cell_type": "code",
   "execution_count": 747,
   "id": "da375676",
   "metadata": {},
   "outputs": [],
   "source": [
    "# dtc = DecisionTreeClassifier()\n",
    "\n",
    "# parameters = {\n",
    "#     'criterion' : ['gini', 'entropy'],\n",
    "#     'max_depth' : range(2, 32, 1),\n",
    "#     'min_samples_leaf' : range(1, 10, 1),\n",
    "#     'min_samples_split' : range(2\n",
    "#                                 , 10, 1),\n",
    "#     'splitter' : ['best', 'random']\n",
    "# }\n",
    "\n",
    "# grid_search = GridSearchCV(dtc, parameters, cv = 5, n_jobs = -1, verbose = 1)\n",
    "# grid_search.fit(x_raw, y_raw)\n",
    "# print('Best criterion parameter:', grid_search.best_params_['criterion'])\n",
    "# print('Best max_depth parameter:', grid_search.best_params_['max_depth'])\n",
    "# print('Best min_samples_leaf parameter:', grid_search.best_params_['min_samples_leaf'])\n",
    "# print('Best min_samples_split parameter:', grid_search.best_params_['min_samples_split'])\n",
    "# print('Best splitter parameter:', grid_search.best_params_['splitter'])\n",
    "# print('Best score:', grid_search.best_score_)"
   ]
  },
  {
   "cell_type": "code",
   "execution_count": 242,
   "id": "8a8948a3",
   "metadata": {},
   "outputs": [],
   "source": [
    "# grid_search_dt.best_params_"
   ]
  },
  {
   "cell_type": "code",
   "execution_count": 918,
   "id": "9a894a15",
   "metadata": {},
   "outputs": [],
   "source": [
    "model = DecisionTreeClassifier(criterion=\"gini\",\n",
    "                             max_depth=19, min_samples_leaf=5, \n",
    "                             min_samples_split=9, splitter=\"random\")"
   ]
  },
  {
   "cell_type": "code",
   "execution_count": 919,
   "id": "e48d5ebd",
   "metadata": {},
   "outputs": [
    {
     "data": {
      "text/html": [
       "<style>#sk-container-id-168 {color: black;background-color: white;}#sk-container-id-168 pre{padding: 0;}#sk-container-id-168 div.sk-toggleable {background-color: white;}#sk-container-id-168 label.sk-toggleable__label {cursor: pointer;display: block;width: 100%;margin-bottom: 0;padding: 0.3em;box-sizing: border-box;text-align: center;}#sk-container-id-168 label.sk-toggleable__label-arrow:before {content: \"▸\";float: left;margin-right: 0.25em;color: #696969;}#sk-container-id-168 label.sk-toggleable__label-arrow:hover:before {color: black;}#sk-container-id-168 div.sk-estimator:hover label.sk-toggleable__label-arrow:before {color: black;}#sk-container-id-168 div.sk-toggleable__content {max-height: 0;max-width: 0;overflow: hidden;text-align: left;background-color: #f0f8ff;}#sk-container-id-168 div.sk-toggleable__content pre {margin: 0.2em;color: black;border-radius: 0.25em;background-color: #f0f8ff;}#sk-container-id-168 input.sk-toggleable__control:checked~div.sk-toggleable__content {max-height: 200px;max-width: 100%;overflow: auto;}#sk-container-id-168 input.sk-toggleable__control:checked~label.sk-toggleable__label-arrow:before {content: \"▾\";}#sk-container-id-168 div.sk-estimator input.sk-toggleable__control:checked~label.sk-toggleable__label {background-color: #d4ebff;}#sk-container-id-168 div.sk-label input.sk-toggleable__control:checked~label.sk-toggleable__label {background-color: #d4ebff;}#sk-container-id-168 input.sk-hidden--visually {border: 0;clip: rect(1px 1px 1px 1px);clip: rect(1px, 1px, 1px, 1px);height: 1px;margin: -1px;overflow: hidden;padding: 0;position: absolute;width: 1px;}#sk-container-id-168 div.sk-estimator {font-family: monospace;background-color: #f0f8ff;border: 1px dotted black;border-radius: 0.25em;box-sizing: border-box;margin-bottom: 0.5em;}#sk-container-id-168 div.sk-estimator:hover {background-color: #d4ebff;}#sk-container-id-168 div.sk-parallel-item::after {content: \"\";width: 100%;border-bottom: 1px solid gray;flex-grow: 1;}#sk-container-id-168 div.sk-label:hover label.sk-toggleable__label {background-color: #d4ebff;}#sk-container-id-168 div.sk-serial::before {content: \"\";position: absolute;border-left: 1px solid gray;box-sizing: border-box;top: 0;bottom: 0;left: 50%;z-index: 0;}#sk-container-id-168 div.sk-serial {display: flex;flex-direction: column;align-items: center;background-color: white;padding-right: 0.2em;padding-left: 0.2em;position: relative;}#sk-container-id-168 div.sk-item {position: relative;z-index: 1;}#sk-container-id-168 div.sk-parallel {display: flex;align-items: stretch;justify-content: center;background-color: white;position: relative;}#sk-container-id-168 div.sk-item::before, #sk-container-id-168 div.sk-parallel-item::before {content: \"\";position: absolute;border-left: 1px solid gray;box-sizing: border-box;top: 0;bottom: 0;left: 50%;z-index: -1;}#sk-container-id-168 div.sk-parallel-item {display: flex;flex-direction: column;z-index: 1;position: relative;background-color: white;}#sk-container-id-168 div.sk-parallel-item:first-child::after {align-self: flex-end;width: 50%;}#sk-container-id-168 div.sk-parallel-item:last-child::after {align-self: flex-start;width: 50%;}#sk-container-id-168 div.sk-parallel-item:only-child::after {width: 0;}#sk-container-id-168 div.sk-dashed-wrapped {border: 1px dashed gray;margin: 0 0.4em 0.5em 0.4em;box-sizing: border-box;padding-bottom: 0.4em;background-color: white;}#sk-container-id-168 div.sk-label label {font-family: monospace;font-weight: bold;display: inline-block;line-height: 1.2em;}#sk-container-id-168 div.sk-label-container {text-align: center;}#sk-container-id-168 div.sk-container {/* jupyter's `normalize.less` sets `[hidden] { display: none; }` but bootstrap.min.css set `[hidden] { display: none !important; }` so we also need the `!important` here to be able to override the default hidden behavior on the sphinx rendered scikit-learn.org. See: https://github.com/scikit-learn/scikit-learn/issues/21755 */display: inline-block !important;position: relative;}#sk-container-id-168 div.sk-text-repr-fallback {display: none;}</style><div id=\"sk-container-id-168\" class=\"sk-top-container\"><div class=\"sk-text-repr-fallback\"><pre>DecisionTreeClassifier(max_depth=19, min_samples_leaf=5, min_samples_split=9,\n",
       "                       splitter=&#x27;random&#x27;)</pre><b>In a Jupyter environment, please rerun this cell to show the HTML representation or trust the notebook. <br />On GitHub, the HTML representation is unable to render, please try loading this page with nbviewer.org.</b></div><div class=\"sk-container\" hidden><div class=\"sk-item\"><div class=\"sk-estimator sk-toggleable\"><input class=\"sk-toggleable__control sk-hidden--visually\" id=\"sk-estimator-id-168\" type=\"checkbox\" checked><label for=\"sk-estimator-id-168\" class=\"sk-toggleable__label sk-toggleable__label-arrow\">DecisionTreeClassifier</label><div class=\"sk-toggleable__content\"><pre>DecisionTreeClassifier(max_depth=19, min_samples_leaf=5, min_samples_split=9,\n",
       "                       splitter=&#x27;random&#x27;)</pre></div></div></div></div></div>"
      ],
      "text/plain": [
       "DecisionTreeClassifier(max_depth=19, min_samples_leaf=5, min_samples_split=9,\n",
       "                       splitter='random')"
      ]
     },
     "execution_count": 919,
     "metadata": {},
     "output_type": "execute_result"
    }
   ],
   "source": [
    "model.fit(x_train, y_train)"
   ]
  },
  {
   "cell_type": "code",
   "execution_count": 920,
   "id": "e3cc153a",
   "metadata": {},
   "outputs": [],
   "source": [
    "model_path = \"../DTC/models_train/param5/dtc_model_{}.pkl\".format(split)\n",
    "\n",
    "# Save the trained model to disk\n",
    "joblib.dump(model, model_path)\n",
    "\n",
    "# Load the saved model from disk\n",
    "model = joblib.load(model_path)"
   ]
  },
  {
   "cell_type": "code",
   "execution_count": 921,
   "id": "1b50754b",
   "metadata": {},
   "outputs": [
    {
     "data": {
      "text/plain": [
       "array([1, 1, 1, 1, 1, 1, 1, 1, 1, 1, 0, 1, 1, 1, 1, 1, 1, 1, 1, 0, 0, 0,\n",
       "       1, 1, 1, 1, 1, 1, 1, 1, 1, 1, 1, 1, 1, 1, 1, 0, 0, 1, 1, 1, 1, 1,\n",
       "       1, 1, 0, 1, 0, 0, 0, 0, 0, 1, 1, 0, 1, 1, 0, 0, 0, 0, 1, 0, 1, 1,\n",
       "       0, 0, 0, 0, 1, 0, 1, 0, 0, 1, 0, 1, 1, 0, 0, 0, 1, 1, 0, 1, 1, 1,\n",
       "       0, 0, 0, 1, 1, 0, 1, 1, 0, 0, 0, 1, 0, 0, 0, 0, 0, 0, 0, 0, 1, 0,\n",
       "       0, 0, 0, 0])"
      ]
     },
     "execution_count": 921,
     "metadata": {},
     "output_type": "execute_result"
    }
   ],
   "source": [
    "y_pred = model.predict(x_test)\n",
    "y_pred"
   ]
  },
  {
   "cell_type": "code",
   "execution_count": 922,
   "id": "825d8552",
   "metadata": {},
   "outputs": [
    {
     "data": {
      "text/plain": [
       "0.9473684210526315"
      ]
     },
     "execution_count": 922,
     "metadata": {},
     "output_type": "execute_result"
    }
   ],
   "source": [
    "accuracy_score(y_test, y_pred)"
   ]
  },
  {
   "cell_type": "code",
   "execution_count": null,
   "id": "6a7f0ae0",
   "metadata": {},
   "outputs": [],
   "source": []
  },
  {
   "cell_type": "code",
   "execution_count": 923,
   "id": "96294efa",
   "metadata": {
    "scrolled": false
   },
   "outputs": [
    {
     "name": "stdout",
     "output_type": "stream",
     "text": [
      "split3\n",
      "############## validate set ################\n",
      "Confusion Matrix\n",
      "----------------\n",
      "[[51 15]\n",
      " [ 1 24]] \n",
      "\n",
      "----------------\n",
      "Sensitivity: 96.00%\n",
      "Specificity: 77.27%\n",
      "Accuracy: 82.42%\n",
      "Precision: 61.54%\n",
      "Sensitivity: 96.00%\n",
      "Precision: 61.54%\n",
      "F1: 75.00%\n"
     ]
    },
    {
     "data": {
      "image/png": "[encoded data removed]",
      "text/plain": [
       "<Figure size 640x480 with 1 Axes>"
      ]
     },
     "metadata": {},
     "output_type": "display_data"
    },
    {
     "name": "stdout",
     "output_type": "stream",
     "text": [
      "################# test set ##################\n",
      "Confusion Matrix\n",
      "----------------\n",
      "[[45  1]\n",
      " [ 5 63]] \n",
      "\n",
      "----------------\n",
      "Sensitivity: 92.65%\n",
      "Specificity: 97.83%\n",
      "Accuracy: 94.74%\n",
      "Precision: 98.44%\n",
      "Sensitivity: 92.65%\n",
      "Precision: 98.44%\n",
      "F1: 95.45%\n"
     ]
    },
    {
     "data": {
      "image/png": "[encoded data removed]",
      "text/plain": [
       "<Figure size 640x480 with 1 Axes>"
      ]
     },
     "metadata": {},
     "output_type": "display_data"
    },
    {
     "name": "stdout",
     "output_type": "stream",
     "text": [
      "---------------------------------------\n",
      "AUC validate: 0.8664\n",
      "AUC test: 0.9524\n"
     ]
    },
    {
     "data": {
      "image/png": "[encoded data removed]",
      "text/plain": [
       "<Figure size 640x480 with 1 Axes>"
      ]
     },
     "metadata": {},
     "output_type": "display_data"
    }
   ],
   "source": [
    "print(split)\n",
    "############## validate set ################\n",
    "print(\"############## validate set ################\")\n",
    "y_pred_val = model.predict(x_val)\n",
    "\n",
    "# Confusion matrix\n",
    "cm_val = confusion_matrix(y_val, y_pred_val)\n",
    "print('Confusion Matrix')\n",
    "print('-'*16)\n",
    "print(cm_val,'\\n')\n",
    "print('-'*16)\n",
    "\n",
    "# Calculate score\n",
    "sen_val = sensitivity(cm_val)\n",
    "spec_val = specificity(cm_val)\n",
    "acc_val = accuracy(cm_val)\n",
    "pre_val = precision(cm_val)\n",
    "f1_val = f1(cm_val)\n",
    "\n",
    "# plot confusion matrix\n",
    "class_names = ['benign','malignant']\n",
    "# Normalize confusion matrix to percentage\n",
    "cm_norm_val = cm_val.astype('float') / cm_val.sum(axis=1)[:, np.newaxis]\n",
    "# Create plot\n",
    "fig, ax = plt.subplots()\n",
    "im = ax.imshow(cm_norm_val, interpolation='nearest', cmap=\"rocket_r\")\n",
    "ax.grid(False)\n",
    "# Add labels\n",
    "ax.set(xticks=np.arange(cm_norm_val.shape[1]),\n",
    "       yticks=np.arange(cm_norm_val.shape[0]),\n",
    "       xticklabels=class_names, yticklabels=class_names)\n",
    "ax.set_title(\"Validate set\", fontsize=16)\n",
    "ax.set_ylabel('Actual', fontsize=16)\n",
    "ax.set_xlabel('Predicted', fontsize=16)\n",
    "# Add percentage and count values inside plot\n",
    "thresh = cm_norm_val.max() / 2.\n",
    "for i in range(cm_norm_val.shape[0]):\n",
    "    for j in range(cm_norm_val.shape[1]):\n",
    "        ax.text(j, i, '''{}\\n({:.2f}%)'''.format(cm_val[i,j], cm_norm_val[i, j]*100),\n",
    "                ha=\"center\", va=\"center\",\n",
    "                color=\"white\" if cm_norm_val[i, j] > thresh else \"black\")\n",
    "# Show plot\n",
    "plt.show()\n",
    "\n",
    "################# test set ##################\n",
    "print(\"################# test set ##################\")\n",
    "y_pred_test = model.predict(x_test)\n",
    "\n",
    "\n",
    "# Confusion matrix\n",
    "cm_test = confusion_matrix(y_test, y_pred_test)\n",
    "print('Confusion Matrix')\n",
    "print('-'*16)\n",
    "print(cm_test,'\\n')\n",
    "print('-'*16)\n",
    "\n",
    "# Calculate score\n",
    "sen_test_split3 = sensitivity(cm_test)\n",
    "spec_test_split3 = specificity(cm_test)\n",
    "acc_test_split3 = accuracy(cm_test)\n",
    "pre_test_split3 = precision(cm_test)\n",
    "f1_test_split3 = f1(cm_test)\n",
    "\n",
    "# plot confusion matrix\n",
    "class_names = ['benign','malignant']\n",
    "# Normalize confusion matrix to percentage\n",
    "cm_norm_test = cm_test.astype('float') / cm_test.sum(axis=1)[:, np.newaxis]\n",
    "# Create plot\n",
    "fig, ax = plt.subplots()\n",
    "im = ax.imshow(cm_norm_test, interpolation='nearest', cmap=\"rocket_r\")\n",
    "ax.grid(False)\n",
    "# Add labels\n",
    "ax.set(xticks=np.arange(cm_norm_test.shape[1]),\n",
    "       yticks=np.arange(cm_norm_test.shape[0]),\n",
    "       xticklabels=class_names, yticklabels=class_names)\n",
    "ax.set_title(\"Test set\", fontsize=16)\n",
    "ax.set_ylabel('Actual', fontsize=16)\n",
    "ax.set_xlabel('Predicted', fontsize=16)\n",
    "# Add percentage and count values inside plot\n",
    "thresh = cm_norm_test.max() / 2.\n",
    "for i in range(cm_norm_test.shape[0]):\n",
    "    for j in range(cm_norm_test.shape[1]):\n",
    "        ax.text(j, i, '''{}\\n({:.2f}%)'''.format(cm_test[i,j], cm_norm_test[i, j]*100),\n",
    "                ha=\"center\", va=\"center\",\n",
    "                color=\"white\" if cm_norm_test[i, j] > thresh else \"black\")\n",
    "# Show plot\n",
    "plt.show()\n",
    "\n",
    "################## plot ROC curve ########################\n",
    "fpr1, tpr1, thr1 = roc_curve(y_val, y_pred_val)\n",
    "auc_val = roc_auc_score(y_val, y_pred_val)\n",
    "fpr2, tpr2, thr2 = roc_curve(y_test, y_pred_test)\n",
    "auc_test_split3 = roc_auc_score(y_test, y_pred_test)\n",
    "\n",
    "print(\"---------------------------------------\")\n",
    "print(\"AUC validate: %.4f\" % auc_val)\n",
    "print(\"AUC test: %.4f\" % auc_test_split3)\n",
    "\n",
    "# plt.plot(fpr,tpr,label=\"data 1, auc=\"+str(auc),color='red')\n",
    "plt.plot(fpr1,tpr1,label=\"ROC valid, auc=\"+str(\"%.4f\" % auc_val))\n",
    "plt.plot(fpr2,tpr2,label=\"ROC test, auc=\"+str(\"%.4f\" % auc_test_split3))\n",
    "plt.plot([0, 1], [0, 1], linestyle=\"--\", lw=2, color=\"r\", label=\"Chance\", alpha=0.8)\n",
    "plt.legend(loc=4)\n",
    "plt.show()\n",
    "#####################################################"
   ]
  },
  {
   "cell_type": "markdown",
   "id": "c36f1483",
   "metadata": {},
   "source": [
    "# Split4"
   ]
  },
  {
   "cell_type": "code",
   "execution_count": 924,
   "id": "129bc9fa",
   "metadata": {},
   "outputs": [],
   "source": [
    "# setting split and path\n",
    "split = 'split4'\n",
    "path = \"../Anny_oversampling/DATA/\"\n",
    "train_path = \"{}/{}/train/oversampled_train_{}.csv\".format(path,split,split)\n",
    "valid_path = \"{}/{}/val/val_{}.csv\".format(path,split,split)"
   ]
  },
  {
   "cell_type": "code",
   "execution_count": 925,
   "id": "0d3a0d44",
   "metadata": {},
   "outputs": [
    {
     "name": "stdout",
     "output_type": "stream",
     "text": [
      "../Anny_oversampling/DATA//split4/train/oversampled_train_split4.csv\n",
      "../Anny_oversampling/DATA//test.csv\n",
      "../Anny_oversampling/DATA//split4/val/val_split4.csv\n"
     ]
    }
   ],
   "source": [
    "# check if path is correct\n",
    "print(train_path)\n",
    "print(test_path)\n",
    "print(valid_path)"
   ]
  },
  {
   "cell_type": "code",
   "execution_count": 926,
   "id": "0795b88a",
   "metadata": {},
   "outputs": [
    {
     "name": "stdout",
     "output_type": "stream",
     "text": [
      "(478, 32)\n",
      "(478, 30)\n",
      "['B' 'M']\n"
     ]
    }
   ],
   "source": [
    "# Load the training set\n",
    "train_data = pd.read_csv(train_path)\n",
    "print(train_data.shape)\n",
    "x_train = train_data[train_data.columns[2:]]\n",
    "print(x_train.shape)\n",
    "y_train = train_data[train_data.columns[1]]\n",
    "le = LabelEncoder()\n",
    "y_train = np.array(le.fit_transform(y_train))\n",
    "print(le.classes_)"
   ]
  },
  {
   "cell_type": "code",
   "execution_count": 927,
   "id": "e82cd6ab",
   "metadata": {},
   "outputs": [
    {
     "name": "stdout",
     "output_type": "stream",
     "text": [
      "(114, 33)\n",
      "(114, 30)\n",
      "['B' 'M']\n"
     ]
    }
   ],
   "source": [
    "# Load the testing set\n",
    "test_data = pd.read_csv(test_path)\n",
    "print(test_data.shape)\n",
    "x_test = test_data[test_data.columns[3:]]\n",
    "print(x_test.shape)\n",
    "y_test = test_data[test_data.columns[2]]\n",
    "le = LabelEncoder()\n",
    "y_test = np.array(le.fit_transform(y_test))\n",
    "print(le.classes_)"
   ]
  },
  {
   "cell_type": "code",
   "execution_count": 928,
   "id": "48d3383d",
   "metadata": {},
   "outputs": [
    {
     "name": "stdout",
     "output_type": "stream",
     "text": [
      "(91, 32)\n",
      "(91, 30)\n",
      "['B' 'M']\n"
     ]
    }
   ],
   "source": [
    "# Load the validation set\n",
    "val_data = pd.read_csv(valid_path)\n",
    "print(val_data.shape)\n",
    "x_val = val_data[val_data.columns[2:]]\n",
    "print(x_val.shape)\n",
    "y_val = val_data[val_data.columns[1]]\n",
    "le = LabelEncoder()\n",
    "y_val = np.array(le.fit_transform(y_val))\n",
    "print(le.classes_)"
   ]
  },
  {
   "cell_type": "code",
   "execution_count": 929,
   "id": "e3731bcc",
   "metadata": {},
   "outputs": [
    {
     "name": "stdout",
     "output_type": "stream",
     "text": [
      "['B' 'M']\n"
     ]
    }
   ],
   "source": [
    "# Load the raw set\n",
    "x_raw = raw_data[raw_data.columns[2:]]\n",
    "y_raw = raw_data[raw_data.columns[1]]\n",
    "le = LabelEncoder()\n",
    "y_raw = np.array(le.fit_transform(y_raw))\n",
    "print(le.classes_)"
   ]
  },
  {
   "cell_type": "code",
   "execution_count": 930,
   "id": "a68207cf",
   "metadata": {},
   "outputs": [
    {
     "name": "stdout",
     "output_type": "stream",
     "text": [
      "split4\n",
      "train positive:    239\n",
      "validate positive: 19\n"
     ]
    }
   ],
   "source": [
    "# check balance in this split\n",
    "print(split)\n",
    "print(\"train positive:    \" + str(sum(y_train)))\n",
    "print(\"validate positive: \" + str(sum(y_val)))"
   ]
  },
  {
   "cell_type": "code",
   "execution_count": 931,
   "id": "4cf760dd",
   "metadata": {},
   "outputs": [
    {
     "name": "stdout",
     "output_type": "stream",
     "text": [
      "Shape of training set: (478, 30)\n",
      "Shape of test set: (114, 30)\n"
     ]
    }
   ],
   "source": [
    "from sklearn.model_selection import train_test_split\n",
    "\n",
    "print(\"Shape of training set:\", x_train.shape)\n",
    "print(\"Shape of test set:\", x_test.shape)"
   ]
  },
  {
   "cell_type": "code",
   "execution_count": 932,
   "id": "1912fa97",
   "metadata": {},
   "outputs": [],
   "source": [
    "# Define a custom dataset class\n",
    "class WisconsinDataset(Dataset):\n",
    "    def __init__(self, x, y):\n",
    "        self.X = x.values\n",
    "        self.y = y\n",
    "        self.X = torch.tensor(self.X, dtype=torch.float32)\n",
    "        self.y = torch.tensor(self.y, dtype=torch.int64)\n",
    "        \n",
    "        \n",
    "    def __len__(self):\n",
    "        return len(self.X)\n",
    "    \n",
    "    def __getitem__(self, idx):\n",
    "        return self.X[idx], self.y[idx]"
   ]
  },
  {
   "cell_type": "code",
   "execution_count": 933,
   "id": "61474e92",
   "metadata": {},
   "outputs": [],
   "source": [
    "batch = 1\n",
    "# Initialize the datasets and data loaders\n",
    "val_dataset = WisconsinDataset(x_val, y_val)\n",
    "train_dataset = WisconsinDataset(x_train, y_train)\n",
    "test_dataset = WisconsinDataset(x_test, y_test)\n",
    "train_loader = DataLoader(train_dataset, batch_size=batch, shuffle=False)\n",
    "test_loader = DataLoader(test_dataset, batch_size=1)\n",
    "val_loader = DataLoader(val_dataset, batch_size=batch)"
   ]
  },
  {
   "cell_type": "code",
   "execution_count": 934,
   "id": "1d0e2a4b",
   "metadata": {},
   "outputs": [],
   "source": [
    "dataloaders = {\n",
    "    'train': train_loader\n",
    "    , 'valid': val_loader}"
   ]
  },
  {
   "cell_type": "code",
   "execution_count": 935,
   "id": "a5a2881b",
   "metadata": {},
   "outputs": [
    {
     "name": "stdout",
     "output_type": "stream",
     "text": [
      "######### Check balance! ##########\n",
      "split4\n",
      "Train have abnormal: 239\n",
      "Train have normal: 239\n",
      " * Train difference: 0\n",
      "Validate have abnormal: 19\n",
      "Validate have normal: 72\n",
      " * Validate difference: 53\n",
      "Test have abnormal: 68\n",
      "Test have normal: 46\n",
      "####################################\n"
     ]
    }
   ],
   "source": [
    "print(\"######### Check balance! ##########\")\n",
    "print(split)\n",
    "# train\n",
    "count_train = 0\n",
    "for image,label in train_dataset:\n",
    "    count_train = count_train + label\n",
    "print(\"Train have abnormal: {}\".format(count_train))\n",
    "print(\"Train have normal: {}\".format(len(train_dataset) - count_train))\n",
    "print(\" * Train difference: {}\".format(abs(len(train_dataset) - (2*count_train))))\n",
    "# val\n",
    "count_val = 0\n",
    "for image,label in val_dataset:\n",
    "    count_val = count_val + label\n",
    "print(\"Validate have abnormal: {}\".format(count_val))\n",
    "print(\"Validate have normal: {}\".format(len(val_dataset) - count_val))\n",
    "print(\" * Validate difference: {}\".format(abs(len(val_dataset) - (2*count_val))))\n",
    "# test\n",
    "count_test = 0\n",
    "for image,label in test_dataset:\n",
    "    count_test = count_test + label\n",
    "print(\"Test have abnormal: {}\".format(count_test))\n",
    "print(\"Test have normal: {}\".format(len(test_dataset) - count_test))\n",
    "print(\"####################################\")"
   ]
  },
  {
   "cell_type": "markdown",
   "id": "a935ca11",
   "metadata": {},
   "source": [
    "## step train - split4"
   ]
  },
  {
   "cell_type": "code",
   "execution_count": 936,
   "id": "d48b0948",
   "metadata": {},
   "outputs": [],
   "source": [
    "x_train = x_train.to_numpy()\n",
    "x_test = x_test.to_numpy()\n",
    "x_val = x_val.to_numpy()"
   ]
  },
  {
   "cell_type": "code",
   "execution_count": 937,
   "id": "89ffb484",
   "metadata": {},
   "outputs": [],
   "source": [
    "ss = StandardScaler()\n",
    "x_train = ss.fit_transform(x_train)\n",
    "x_test = ss.fit_transform(x_test)\n",
    "x_val = ss.fit_transform(x_val)"
   ]
  },
  {
   "cell_type": "code",
   "execution_count": 938,
   "id": "da60cdf5",
   "metadata": {},
   "outputs": [],
   "source": [
    "# dtc = DecisionTreeClassifier()\n",
    "\n",
    "# parameters = {\n",
    "#     'criterion' : ['gini', 'entropy'],\n",
    "#     'max_depth' : range(2, 32, 1),\n",
    "#     'min_samples_leaf' : range(1, 10, 1),\n",
    "#     'min_samples_split' : range(2\n",
    "#                                 , 10, 1),\n",
    "#     'splitter' : ['best', 'random']\n",
    "# }\n",
    "\n",
    "# grid_search = GridSearchCV(dtc, parameters, cv = 5, n_jobs = -1, verbose = 1)\n",
    "# grid_search.fit(x_raw, y_raw)\n",
    "# print('Best criterion parameter:', grid_search.best_params_['criterion'])\n",
    "# print('Best max_depth parameter:', grid_search.best_params_['max_depth'])\n",
    "# print('Best min_samples_leaf parameter:', grid_search.best_params_['min_samples_leaf'])\n",
    "# print('Best min_samples_split parameter:', grid_search.best_params_['min_samples_split'])\n",
    "# print('Best splitter parameter:', grid_search.best_params_['splitter'])\n",
    "# print('Best score:', grid_search.best_score_)"
   ]
  },
  {
   "cell_type": "code",
   "execution_count": 939,
   "id": "254a1599",
   "metadata": {},
   "outputs": [],
   "source": [
    "# grid_search_dt.best_params_"
   ]
  },
  {
   "cell_type": "code",
   "execution_count": 1040,
   "id": "6905fc40",
   "metadata": {},
   "outputs": [],
   "source": [
    "model = DecisionTreeClassifier(criterion=\"gini\",\n",
    "                             max_depth=19, min_samples_leaf=5, \n",
    "                             min_samples_split=9, splitter=\"random\")"
   ]
  },
  {
   "cell_type": "code",
   "execution_count": 1041,
   "id": "0da84c2a",
   "metadata": {},
   "outputs": [
    {
     "data": {
      "text/html": [
       "<style>#sk-container-id-189 {color: black;background-color: white;}#sk-container-id-189 pre{padding: 0;}#sk-container-id-189 div.sk-toggleable {background-color: white;}#sk-container-id-189 label.sk-toggleable__label {cursor: pointer;display: block;width: 100%;margin-bottom: 0;padding: 0.3em;box-sizing: border-box;text-align: center;}#sk-container-id-189 label.sk-toggleable__label-arrow:before {content: \"▸\";float: left;margin-right: 0.25em;color: #696969;}#sk-container-id-189 label.sk-toggleable__label-arrow:hover:before {color: black;}#sk-container-id-189 div.sk-estimator:hover label.sk-toggleable__label-arrow:before {color: black;}#sk-container-id-189 div.sk-toggleable__content {max-height: 0;max-width: 0;overflow: hidden;text-align: left;background-color: #f0f8ff;}#sk-container-id-189 div.sk-toggleable__content pre {margin: 0.2em;color: black;border-radius: 0.25em;background-color: #f0f8ff;}#sk-container-id-189 input.sk-toggleable__control:checked~div.sk-toggleable__content {max-height: 200px;max-width: 100%;overflow: auto;}#sk-container-id-189 input.sk-toggleable__control:checked~label.sk-toggleable__label-arrow:before {content: \"▾\";}#sk-container-id-189 div.sk-estimator input.sk-toggleable__control:checked~label.sk-toggleable__label {background-color: #d4ebff;}#sk-container-id-189 div.sk-label input.sk-toggleable__control:checked~label.sk-toggleable__label {background-color: #d4ebff;}#sk-container-id-189 input.sk-hidden--visually {border: 0;clip: rect(1px 1px 1px 1px);clip: rect(1px, 1px, 1px, 1px);height: 1px;margin: -1px;overflow: hidden;padding: 0;position: absolute;width: 1px;}#sk-container-id-189 div.sk-estimator {font-family: monospace;background-color: #f0f8ff;border: 1px dotted black;border-radius: 0.25em;box-sizing: border-box;margin-bottom: 0.5em;}#sk-container-id-189 div.sk-estimator:hover {background-color: #d4ebff;}#sk-container-id-189 div.sk-parallel-item::after {content: \"\";width: 100%;border-bottom: 1px solid gray;flex-grow: 1;}#sk-container-id-189 div.sk-label:hover label.sk-toggleable__label {background-color: #d4ebff;}#sk-container-id-189 div.sk-serial::before {content: \"\";position: absolute;border-left: 1px solid gray;box-sizing: border-box;top: 0;bottom: 0;left: 50%;z-index: 0;}#sk-container-id-189 div.sk-serial {display: flex;flex-direction: column;align-items: center;background-color: white;padding-right: 0.2em;padding-left: 0.2em;position: relative;}#sk-container-id-189 div.sk-item {position: relative;z-index: 1;}#sk-container-id-189 div.sk-parallel {display: flex;align-items: stretch;justify-content: center;background-color: white;position: relative;}#sk-container-id-189 div.sk-item::before, #sk-container-id-189 div.sk-parallel-item::before {content: \"\";position: absolute;border-left: 1px solid gray;box-sizing: border-box;top: 0;bottom: 0;left: 50%;z-index: -1;}#sk-container-id-189 div.sk-parallel-item {display: flex;flex-direction: column;z-index: 1;position: relative;background-color: white;}#sk-container-id-189 div.sk-parallel-item:first-child::after {align-self: flex-end;width: 50%;}#sk-container-id-189 div.sk-parallel-item:last-child::after {align-self: flex-start;width: 50%;}#sk-container-id-189 div.sk-parallel-item:only-child::after {width: 0;}#sk-container-id-189 div.sk-dashed-wrapped {border: 1px dashed gray;margin: 0 0.4em 0.5em 0.4em;box-sizing: border-box;padding-bottom: 0.4em;background-color: white;}#sk-container-id-189 div.sk-label label {font-family: monospace;font-weight: bold;display: inline-block;line-height: 1.2em;}#sk-container-id-189 div.sk-label-container {text-align: center;}#sk-container-id-189 div.sk-container {/* jupyter's `normalize.less` sets `[hidden] { display: none; }` but bootstrap.min.css set `[hidden] { display: none !important; }` so we also need the `!important` here to be able to override the default hidden behavior on the sphinx rendered scikit-learn.org. See: https://github.com/scikit-learn/scikit-learn/issues/21755 */display: inline-block !important;position: relative;}#sk-container-id-189 div.sk-text-repr-fallback {display: none;}</style><div id=\"sk-container-id-189\" class=\"sk-top-container\"><div class=\"sk-text-repr-fallback\"><pre>DecisionTreeClassifier(max_depth=19, min_samples_leaf=5, min_samples_split=9,\n",
       "                       splitter=&#x27;random&#x27;)</pre><b>In a Jupyter environment, please rerun this cell to show the HTML representation or trust the notebook. <br />On GitHub, the HTML representation is unable to render, please try loading this page with nbviewer.org.</b></div><div class=\"sk-container\" hidden><div class=\"sk-item\"><div class=\"sk-estimator sk-toggleable\"><input class=\"sk-toggleable__control sk-hidden--visually\" id=\"sk-estimator-id-189\" type=\"checkbox\" checked><label for=\"sk-estimator-id-189\" class=\"sk-toggleable__label sk-toggleable__label-arrow\">DecisionTreeClassifier</label><div class=\"sk-toggleable__content\"><pre>DecisionTreeClassifier(max_depth=19, min_samples_leaf=5, min_samples_split=9,\n",
       "                       splitter=&#x27;random&#x27;)</pre></div></div></div></div></div>"
      ],
      "text/plain": [
       "DecisionTreeClassifier(max_depth=19, min_samples_leaf=5, min_samples_split=9,\n",
       "                       splitter='random')"
      ]
     },
     "execution_count": 1041,
     "metadata": {},
     "output_type": "execute_result"
    }
   ],
   "source": [
    "model.fit(x_train, y_train)"
   ]
  },
  {
   "cell_type": "code",
   "execution_count": 1042,
   "id": "48ab9f07",
   "metadata": {},
   "outputs": [],
   "source": [
    "model_path = \"../DTC/models_train/param5/dtc_model_{}.pkl\".format(split)\n",
    "\n",
    "# Save the trained model to disk\n",
    "joblib.dump(model, model_path)\n",
    "\n",
    "# Load the saved model from disk\n",
    "model = joblib.load(model_path)"
   ]
  },
  {
   "cell_type": "code",
   "execution_count": 1043,
   "id": "7321fce4",
   "metadata": {},
   "outputs": [
    {
     "data": {
      "text/plain": [
       "array([1, 1, 1, 1, 1, 1, 1, 1, 1, 1, 1, 1, 1, 1, 1, 1, 1, 1, 1, 0, 0, 0,\n",
       "       1, 1, 1, 1, 1, 1, 1, 1, 1, 1, 1, 1, 1, 1, 1, 0, 1, 1, 0, 1, 1, 1,\n",
       "       1, 1, 0, 1, 0, 0, 0, 0, 0, 1, 1, 0, 1, 1, 0, 0, 0, 0, 1, 0, 1, 1,\n",
       "       0, 0, 0, 0, 1, 0, 1, 0, 0, 1, 0, 1, 1, 0, 0, 0, 1, 1, 0, 1, 1, 1,\n",
       "       0, 0, 0, 1, 0, 0, 1, 1, 0, 0, 0, 0, 0, 0, 0, 0, 0, 1, 0, 0, 1, 0,\n",
       "       0, 1, 0, 0])"
      ]
     },
     "execution_count": 1043,
     "metadata": {},
     "output_type": "execute_result"
    }
   ],
   "source": [
    "y_pred = model.predict(x_test)\n",
    "y_pred"
   ]
  },
  {
   "cell_type": "code",
   "execution_count": 1044,
   "id": "9e8c56e1",
   "metadata": {},
   "outputs": [
    {
     "data": {
      "text/plain": [
       "0.956140350877193"
      ]
     },
     "execution_count": 1044,
     "metadata": {},
     "output_type": "execute_result"
    }
   ],
   "source": [
    "accuracy_score(y_test, y_pred)"
   ]
  },
  {
   "cell_type": "code",
   "execution_count": null,
   "id": "efebac62",
   "metadata": {},
   "outputs": [],
   "source": []
  },
  {
   "cell_type": "code",
   "execution_count": 1045,
   "id": "188fff0c",
   "metadata": {
    "scrolled": false
   },
   "outputs": [
    {
     "name": "stdout",
     "output_type": "stream",
     "text": [
      "split4\n",
      "############## validate set ################\n",
      "Confusion Matrix\n",
      "----------------\n",
      "[[51 21]\n",
      " [ 0 19]] \n",
      "\n",
      "----------------\n",
      "Sensitivity: 100.00%\n",
      "Specificity: 70.83%\n",
      "Accuracy: 76.92%\n",
      "Precision: 47.50%\n",
      "Sensitivity: 100.00%\n",
      "Precision: 47.50%\n",
      "F1: 64.41%\n"
     ]
    },
    {
     "data": {
      "image/png": "[encoded data removed]",
      "text/plain": [
       "<Figure size 640x480 with 1 Axes>"
      ]
     },
     "metadata": {},
     "output_type": "display_data"
    },
    {
     "name": "stdout",
     "output_type": "stream",
     "text": [
      "################# test set ##################\n",
      "Confusion Matrix\n",
      "----------------\n",
      "[[45  1]\n",
      " [ 4 64]] \n",
      "\n",
      "----------------\n",
      "Sensitivity: 94.12%\n",
      "Specificity: 97.83%\n",
      "Accuracy: 95.61%\n",
      "Precision: 98.46%\n",
      "Sensitivity: 94.12%\n",
      "Precision: 98.46%\n",
      "F1: 96.24%\n"
     ]
    },
    {
     "data": {
      "image/png": "[encoded data removed]",
      "text/plain": [
       "<Figure size 640x480 with 1 Axes>"
      ]
     },
     "metadata": {},
     "output_type": "display_data"
    },
    {
     "name": "stdout",
     "output_type": "stream",
     "text": [
      "---------------------------------------\n",
      "AUC validate: 0.8542\n",
      "AUC test: 0.9597\n"
     ]
    },
    {
     "data": {
      "image/png": "[encoded data removed]",
      "text/plain": [
       "<Figure size 640x480 with 1 Axes>"
      ]
     },
     "metadata": {},
     "output_type": "display_data"
    }
   ],
   "source": [
    "print(split)\n",
    "############## validate set ################\n",
    "print(\"############## validate set ################\")\n",
    "y_pred_val = model.predict(x_val)\n",
    "\n",
    "# Confusion matrix\n",
    "cm_val = confusion_matrix(y_val, y_pred_val)\n",
    "print('Confusion Matrix')\n",
    "print('-'*16)\n",
    "print(cm_val,'\\n')\n",
    "print('-'*16)\n",
    "\n",
    "# Calculate score\n",
    "sen_val = sensitivity(cm_val)\n",
    "spec_val = specificity(cm_val)\n",
    "acc_val = accuracy(cm_val)\n",
    "pre_val = precision(cm_val)\n",
    "f1_val = f1(cm_val)\n",
    "\n",
    "# plot confusion matrix\n",
    "class_names = ['benign','malignant']\n",
    "# Normalize confusion matrix to percentage\n",
    "cm_norm_val = cm_val.astype('float') / cm_val.sum(axis=1)[:, np.newaxis]\n",
    "# Create plot\n",
    "fig, ax = plt.subplots()\n",
    "im = ax.imshow(cm_norm_val, interpolation='nearest', cmap=\"rocket_r\")\n",
    "ax.grid(False)\n",
    "# Add labels\n",
    "ax.set(xticks=np.arange(cm_norm_val.shape[1]),\n",
    "       yticks=np.arange(cm_norm_val.shape[0]),\n",
    "       xticklabels=class_names, yticklabels=class_names)\n",
    "ax.set_title(\"Validate set\", fontsize=16)\n",
    "ax.set_ylabel('Actual', fontsize=16)\n",
    "ax.set_xlabel('Predicted', fontsize=16)\n",
    "# Add percentage and count values inside plot\n",
    "thresh = cm_norm_val.max() / 2.\n",
    "for i in range(cm_norm_val.shape[0]):\n",
    "    for j in range(cm_norm_val.shape[1]):\n",
    "        ax.text(j, i, '''{}\\n({:.2f}%)'''.format(cm_val[i,j], cm_norm_val[i, j]*100),\n",
    "                ha=\"center\", va=\"center\",\n",
    "                color=\"white\" if cm_norm_val[i, j] > thresh else \"black\")\n",
    "# Show plot\n",
    "plt.show()\n",
    "\n",
    "################# test set ##################\n",
    "print(\"################# test set ##################\")\n",
    "y_pred_test = model.predict(x_test)\n",
    "\n",
    "\n",
    "# Confusion matrix\n",
    "cm_test = confusion_matrix(y_test, y_pred_test)\n",
    "print('Confusion Matrix')\n",
    "print('-'*16)\n",
    "print(cm_test,'\\n')\n",
    "print('-'*16)\n",
    "\n",
    "# Calculate score\n",
    "sen_test_split4 = sensitivity(cm_test)\n",
    "spec_test_split4 = specificity(cm_test)\n",
    "acc_test_split4 = accuracy(cm_test)\n",
    "pre_test_split4 = precision(cm_test)\n",
    "f1_test_split4 = f1(cm_test)\n",
    "\n",
    "# plot confusion matrix\n",
    "class_names = ['benign','malignant']\n",
    "# Normalize confusion matrix to percentage\n",
    "cm_norm_test = cm_test.astype('float') / cm_test.sum(axis=1)[:, np.newaxis]\n",
    "# Create plot\n",
    "fig, ax = plt.subplots()\n",
    "im = ax.imshow(cm_norm_test, interpolation='nearest', cmap=\"rocket_r\")\n",
    "ax.grid(False)\n",
    "# Add labels\n",
    "ax.set(xticks=np.arange(cm_norm_test.shape[1]),\n",
    "       yticks=np.arange(cm_norm_test.shape[0]),\n",
    "       xticklabels=class_names, yticklabels=class_names)\n",
    "ax.set_title(\"Test set\", fontsize=16)\n",
    "ax.set_ylabel('Actual', fontsize=16)\n",
    "ax.set_xlabel('Predicted', fontsize=16)\n",
    "# Add percentage and count values inside plot\n",
    "thresh = cm_norm_test.max() / 2.\n",
    "for i in range(cm_norm_test.shape[0]):\n",
    "    for j in range(cm_norm_test.shape[1]):\n",
    "        ax.text(j, i, '''{}\\n({:.2f}%)'''.format(cm_test[i,j], cm_norm_test[i, j]*100),\n",
    "                ha=\"center\", va=\"center\",\n",
    "                color=\"white\" if cm_norm_test[i, j] > thresh else \"black\")\n",
    "# Show plot\n",
    "plt.show()\n",
    "\n",
    "################## plot ROC curve ########################\n",
    "fpr1, tpr1, thr1 = roc_curve(y_val, y_pred_val)\n",
    "auc_val = roc_auc_score(y_val, y_pred_val)\n",
    "fpr2, tpr2, thr2 = roc_curve(y_test, y_pred_test)\n",
    "auc_test_split4 = roc_auc_score(y_test, y_pred_test)\n",
    "\n",
    "print(\"---------------------------------------\")\n",
    "print(\"AUC validate: %.4f\" % auc_val)\n",
    "print(\"AUC test: %.4f\" % auc_test_split4)\n",
    "\n",
    "# plt.plot(fpr,tpr,label=\"data 1, auc=\"+str(auc),color='red')\n",
    "plt.plot(fpr1,tpr1,label=\"ROC valid, auc=\"+str(\"%.4f\" % auc_val))\n",
    "plt.plot(fpr2,tpr2,label=\"ROC test, auc=\"+str(\"%.4f\" % auc_test_split4))\n",
    "plt.plot([0, 1], [0, 1], linestyle=\"--\", lw=2, color=\"r\", label=\"Chance\", alpha=0.8)\n",
    "plt.legend(loc=4)\n",
    "plt.show()\n",
    "##########################################################"
   ]
  },
  {
   "cell_type": "markdown",
   "id": "675c4ced",
   "metadata": {},
   "source": [
    "# Split5"
   ]
  },
  {
   "cell_type": "code",
   "execution_count": 1046,
   "id": "75fd3a53",
   "metadata": {},
   "outputs": [],
   "source": [
    "# setting split and path\n",
    "split = 'split5'\n",
    "path = \"../Anny_oversampling/DATA/\"\n",
    "train_path = \"{}/{}/train/oversampled_train_{}.csv\".format(path,split,split)\n",
    "valid_path = \"{}/{}/val/val_{}.csv\".format(path,split,split)"
   ]
  },
  {
   "cell_type": "code",
   "execution_count": 1047,
   "id": "258ea367",
   "metadata": {},
   "outputs": [
    {
     "name": "stdout",
     "output_type": "stream",
     "text": [
      "../Anny_oversampling/DATA//split5/train/oversampled_train_split5.csv\n",
      "../Anny_oversampling/DATA//test.csv\n",
      "../Anny_oversampling/DATA//split5/val/val_split5.csv\n"
     ]
    }
   ],
   "source": [
    "# check if path is correct\n",
    "print(train_path)\n",
    "print(test_path)\n",
    "print(valid_path)"
   ]
  },
  {
   "cell_type": "code",
   "execution_count": 1048,
   "id": "c15a2f53",
   "metadata": {},
   "outputs": [
    {
     "name": "stdout",
     "output_type": "stream",
     "text": [
      "(486, 32)\n",
      "(486, 30)\n",
      "['B' 'M']\n"
     ]
    }
   ],
   "source": [
    "# Load the training set\n",
    "train_data = pd.read_csv(train_path)\n",
    "print(train_data.shape)\n",
    "x_train = train_data[train_data.columns[2:]]\n",
    "print(x_train.shape)\n",
    "y_train = train_data[train_data.columns[1]]\n",
    "le = LabelEncoder()\n",
    "y_train = np.array(le.fit_transform(y_train))\n",
    "print(le.classes_)"
   ]
  },
  {
   "cell_type": "code",
   "execution_count": 1049,
   "id": "f9d9da41",
   "metadata": {},
   "outputs": [
    {
     "name": "stdout",
     "output_type": "stream",
     "text": [
      "(114, 33)\n",
      "(114, 30)\n",
      "['B' 'M']\n"
     ]
    }
   ],
   "source": [
    "# Load the testing set\n",
    "test_data = pd.read_csv(test_path)\n",
    "print(test_data.shape)\n",
    "x_test = test_data[test_data.columns[3:]]\n",
    "print(x_test.shape)\n",
    "y_test = test_data[test_data.columns[2]]\n",
    "le = LabelEncoder()\n",
    "y_test = np.array(le.fit_transform(y_test))\n",
    "print(le.classes_)"
   ]
  },
  {
   "cell_type": "code",
   "execution_count": 1050,
   "id": "ec75cd1b",
   "metadata": {},
   "outputs": [
    {
     "name": "stdout",
     "output_type": "stream",
     "text": [
      "(91, 32)\n",
      "(91, 30)\n",
      "['B' 'M']\n"
     ]
    }
   ],
   "source": [
    "# Load the validation set\n",
    "val_data = pd.read_csv(valid_path)\n",
    "print(val_data.shape)\n",
    "x_val = val_data[val_data.columns[2:]]\n",
    "print(x_val.shape)\n",
    "y_val = val_data[val_data.columns[1]]\n",
    "le = LabelEncoder()\n",
    "y_val = np.array(le.fit_transform(y_val))\n",
    "print(le.classes_)"
   ]
  },
  {
   "cell_type": "code",
   "execution_count": 1051,
   "id": "01c112c6",
   "metadata": {},
   "outputs": [
    {
     "name": "stdout",
     "output_type": "stream",
     "text": [
      "['B' 'M']\n"
     ]
    }
   ],
   "source": [
    "# Load the raw set\n",
    "x_raw = raw_data[raw_data.columns[2:]]\n",
    "y_raw = raw_data[raw_data.columns[1]]\n",
    "le = LabelEncoder()\n",
    "y_raw = np.array(le.fit_transform(y_raw))\n",
    "print(le.classes_)"
   ]
  },
  {
   "cell_type": "code",
   "execution_count": 1052,
   "id": "8a19ebb5",
   "metadata": {},
   "outputs": [
    {
     "name": "stdout",
     "output_type": "stream",
     "text": [
      "split5\n",
      "train positive:    243\n",
      "validate positive: 23\n"
     ]
    }
   ],
   "source": [
    "# check balance in this split\n",
    "print(split)\n",
    "print(\"train positive:    \" + str(sum(y_train)))\n",
    "print(\"validate positive: \" + str(sum(y_val)))"
   ]
  },
  {
   "cell_type": "code",
   "execution_count": 1053,
   "id": "bcfe0be7",
   "metadata": {},
   "outputs": [
    {
     "name": "stdout",
     "output_type": "stream",
     "text": [
      "Shape of training set: (486, 30)\n",
      "Shape of test set: (114, 30)\n"
     ]
    }
   ],
   "source": [
    "from sklearn.model_selection import train_test_split\n",
    "\n",
    "print(\"Shape of training set:\", x_train.shape)\n",
    "print(\"Shape of test set:\", x_test.shape)"
   ]
  },
  {
   "cell_type": "code",
   "execution_count": 1054,
   "id": "8ca4897a",
   "metadata": {},
   "outputs": [],
   "source": [
    "# Define a custom dataset class\n",
    "class WisconsinDataset(Dataset):\n",
    "    def __init__(self, x, y):\n",
    "        self.X = x.values\n",
    "        self.y = y\n",
    "        self.X = torch.tensor(self.X, dtype=torch.float32)\n",
    "        self.y = torch.tensor(self.y, dtype=torch.int64)\n",
    "        \n",
    "        \n",
    "    def __len__(self):\n",
    "        return len(self.X)\n",
    "    \n",
    "    def __getitem__(self, idx):\n",
    "        return self.X[idx], self.y[idx]"
   ]
  },
  {
   "cell_type": "code",
   "execution_count": 1055,
   "id": "6706fb74",
   "metadata": {},
   "outputs": [],
   "source": [
    "batch = 1\n",
    "# Initialize the datasets and data loaders\n",
    "val_dataset = WisconsinDataset(x_val, y_val)\n",
    "train_dataset = WisconsinDataset(x_train, y_train)\n",
    "test_dataset = WisconsinDataset(x_test, y_test)\n",
    "train_loader = DataLoader(train_dataset, batch_size=batch, shuffle=False)\n",
    "test_loader = DataLoader(test_dataset, batch_size=1)\n",
    "val_loader = DataLoader(val_dataset, batch_size=batch)"
   ]
  },
  {
   "cell_type": "code",
   "execution_count": 1056,
   "id": "b4909b2d",
   "metadata": {},
   "outputs": [],
   "source": [
    "dataloaders = {\n",
    "    'train': train_loader\n",
    "    , 'valid': val_loader}"
   ]
  },
  {
   "cell_type": "code",
   "execution_count": 1057,
   "id": "fac57325",
   "metadata": {},
   "outputs": [
    {
     "name": "stdout",
     "output_type": "stream",
     "text": [
      "######### Check balance! ##########\n",
      "split5\n",
      "Train have abnormal: 243\n",
      "Train have normal: 243\n",
      " * Train difference: 0\n",
      "Validate have abnormal: 23\n",
      "Validate have normal: 68\n",
      " * Validate difference: 45\n",
      "Test have abnormal: 68\n",
      "Test have normal: 46\n",
      "####################################\n"
     ]
    }
   ],
   "source": [
    "print(\"######### Check balance! ##########\")\n",
    "print(split)\n",
    "# train\n",
    "count_train = 0\n",
    "for image,label in train_dataset:\n",
    "    count_train = count_train + label\n",
    "print(\"Train have abnormal: {}\".format(count_train))\n",
    "print(\"Train have normal: {}\".format(len(train_dataset) - count_train))\n",
    "print(\" * Train difference: {}\".format(abs(len(train_dataset) - (2*count_train))))\n",
    "# val\n",
    "count_val = 0\n",
    "for image,label in val_dataset:\n",
    "    count_val = count_val + label\n",
    "print(\"Validate have abnormal: {}\".format(count_val))\n",
    "print(\"Validate have normal: {}\".format(len(val_dataset) - count_val))\n",
    "print(\" * Validate difference: {}\".format(abs(len(val_dataset) - (2*count_val))))\n",
    "# test\n",
    "count_test = 0\n",
    "for image,label in test_dataset:\n",
    "    count_test = count_test + label\n",
    "print(\"Test have abnormal: {}\".format(count_test))\n",
    "print(\"Test have normal: {}\".format(len(test_dataset) - count_test))\n",
    "print(\"####################################\")"
   ]
  },
  {
   "cell_type": "markdown",
   "id": "cbbaf0d6",
   "metadata": {},
   "source": [
    "## step train - split5"
   ]
  },
  {
   "cell_type": "code",
   "execution_count": 1058,
   "id": "9400c3c5",
   "metadata": {},
   "outputs": [],
   "source": [
    "x_train = x_train.to_numpy()\n",
    "x_test = x_test.to_numpy()\n",
    "x_val = x_val.to_numpy()"
   ]
  },
  {
   "cell_type": "code",
   "execution_count": 1059,
   "id": "c7cb8e79",
   "metadata": {},
   "outputs": [],
   "source": [
    "ss = StandardScaler()\n",
    "x_train = ss.fit_transform(x_train)\n",
    "x_test = ss.fit_transform(x_test)\n",
    "x_val = ss.fit_transform(x_val)"
   ]
  },
  {
   "cell_type": "code",
   "execution_count": 1060,
   "id": "f897ed6e",
   "metadata": {},
   "outputs": [],
   "source": [
    "# dtc = DecisionTreeClassifier()\n",
    "\n",
    "# parameters = {\n",
    "#     'criterion' : ['gini', 'entropy'],\n",
    "#     'max_depth' : range(2, 32, 1),\n",
    "#     'min_samples_leaf' : range(1, 10, 1),\n",
    "#     'min_samples_split' : range(2\n",
    "#                                 , 10, 1),\n",
    "#     'splitter' : ['best', 'random']\n",
    "# }\n",
    "\n",
    "# grid_search = GridSearchCV(dtc, parameters, cv = 5, n_jobs = -1, verbose = 1)\n",
    "# grid_search.fit(x_raw, y_raw)\n",
    "# print('Best criterion parameter:', grid_search.best_params_['criterion'])\n",
    "# print('Best max_depth parameter:', grid_search.best_params_['max_depth'])\n",
    "# print('Best min_samples_leaf parameter:', grid_search.best_params_['min_samples_leaf'])\n",
    "# print('Best min_samples_split parameter:', grid_search.best_params_['min_samples_split'])\n",
    "# print('Best splitter parameter:', grid_search.best_params_['splitter'])\n",
    "# print('Best score:', grid_search.best_score_)"
   ]
  },
  {
   "cell_type": "code",
   "execution_count": 1061,
   "id": "0a784d42",
   "metadata": {},
   "outputs": [],
   "source": [
    "# grid_search_dt.best_params_"
   ]
  },
  {
   "cell_type": "code",
   "execution_count": 1207,
   "id": "b5ffe93d",
   "metadata": {},
   "outputs": [],
   "source": [
    "model = DecisionTreeClassifier(criterion=\"gini\",\n",
    "                             max_depth=19, min_samples_leaf=5, \n",
    "                             min_samples_split=9, splitter=\"random\")"
   ]
  },
  {
   "cell_type": "code",
   "execution_count": 1208,
   "id": "386c0d6c",
   "metadata": {},
   "outputs": [
    {
     "data": {
      "text/html": [
       "<style>#sk-container-id-219 {color: black;background-color: white;}#sk-container-id-219 pre{padding: 0;}#sk-container-id-219 div.sk-toggleable {background-color: white;}#sk-container-id-219 label.sk-toggleable__label {cursor: pointer;display: block;width: 100%;margin-bottom: 0;padding: 0.3em;box-sizing: border-box;text-align: center;}#sk-container-id-219 label.sk-toggleable__label-arrow:before {content: \"▸\";float: left;margin-right: 0.25em;color: #696969;}#sk-container-id-219 label.sk-toggleable__label-arrow:hover:before {color: black;}#sk-container-id-219 div.sk-estimator:hover label.sk-toggleable__label-arrow:before {color: black;}#sk-container-id-219 div.sk-toggleable__content {max-height: 0;max-width: 0;overflow: hidden;text-align: left;background-color: #f0f8ff;}#sk-container-id-219 div.sk-toggleable__content pre {margin: 0.2em;color: black;border-radius: 0.25em;background-color: #f0f8ff;}#sk-container-id-219 input.sk-toggleable__control:checked~div.sk-toggleable__content {max-height: 200px;max-width: 100%;overflow: auto;}#sk-container-id-219 input.sk-toggleable__control:checked~label.sk-toggleable__label-arrow:before {content: \"▾\";}#sk-container-id-219 div.sk-estimator input.sk-toggleable__control:checked~label.sk-toggleable__label {background-color: #d4ebff;}#sk-container-id-219 div.sk-label input.sk-toggleable__control:checked~label.sk-toggleable__label {background-color: #d4ebff;}#sk-container-id-219 input.sk-hidden--visually {border: 0;clip: rect(1px 1px 1px 1px);clip: rect(1px, 1px, 1px, 1px);height: 1px;margin: -1px;overflow: hidden;padding: 0;position: absolute;width: 1px;}#sk-container-id-219 div.sk-estimator {font-family: monospace;background-color: #f0f8ff;border: 1px dotted black;border-radius: 0.25em;box-sizing: border-box;margin-bottom: 0.5em;}#sk-container-id-219 div.sk-estimator:hover {background-color: #d4ebff;}#sk-container-id-219 div.sk-parallel-item::after {content: \"\";width: 100%;border-bottom: 1px solid gray;flex-grow: 1;}#sk-container-id-219 div.sk-label:hover label.sk-toggleable__label {background-color: #d4ebff;}#sk-container-id-219 div.sk-serial::before {content: \"\";position: absolute;border-left: 1px solid gray;box-sizing: border-box;top: 0;bottom: 0;left: 50%;z-index: 0;}#sk-container-id-219 div.sk-serial {display: flex;flex-direction: column;align-items: center;background-color: white;padding-right: 0.2em;padding-left: 0.2em;position: relative;}#sk-container-id-219 div.sk-item {position: relative;z-index: 1;}#sk-container-id-219 div.sk-parallel {display: flex;align-items: stretch;justify-content: center;background-color: white;position: relative;}#sk-container-id-219 div.sk-item::before, #sk-container-id-219 div.sk-parallel-item::before {content: \"\";position: absolute;border-left: 1px solid gray;box-sizing: border-box;top: 0;bottom: 0;left: 50%;z-index: -1;}#sk-container-id-219 div.sk-parallel-item {display: flex;flex-direction: column;z-index: 1;position: relative;background-color: white;}#sk-container-id-219 div.sk-parallel-item:first-child::after {align-self: flex-end;width: 50%;}#sk-container-id-219 div.sk-parallel-item:last-child::after {align-self: flex-start;width: 50%;}#sk-container-id-219 div.sk-parallel-item:only-child::after {width: 0;}#sk-container-id-219 div.sk-dashed-wrapped {border: 1px dashed gray;margin: 0 0.4em 0.5em 0.4em;box-sizing: border-box;padding-bottom: 0.4em;background-color: white;}#sk-container-id-219 div.sk-label label {font-family: monospace;font-weight: bold;display: inline-block;line-height: 1.2em;}#sk-container-id-219 div.sk-label-container {text-align: center;}#sk-container-id-219 div.sk-container {/* jupyter's `normalize.less` sets `[hidden] { display: none; }` but bootstrap.min.css set `[hidden] { display: none !important; }` so we also need the `!important` here to be able to override the default hidden behavior on the sphinx rendered scikit-learn.org. See: https://github.com/scikit-learn/scikit-learn/issues/21755 */display: inline-block !important;position: relative;}#sk-container-id-219 div.sk-text-repr-fallback {display: none;}</style><div id=\"sk-container-id-219\" class=\"sk-top-container\"><div class=\"sk-text-repr-fallback\"><pre>DecisionTreeClassifier(max_depth=19, min_samples_leaf=5, min_samples_split=9,\n",
       "                       splitter=&#x27;random&#x27;)</pre><b>In a Jupyter environment, please rerun this cell to show the HTML representation or trust the notebook. <br />On GitHub, the HTML representation is unable to render, please try loading this page with nbviewer.org.</b></div><div class=\"sk-container\" hidden><div class=\"sk-item\"><div class=\"sk-estimator sk-toggleable\"><input class=\"sk-toggleable__control sk-hidden--visually\" id=\"sk-estimator-id-219\" type=\"checkbox\" checked><label for=\"sk-estimator-id-219\" class=\"sk-toggleable__label sk-toggleable__label-arrow\">DecisionTreeClassifier</label><div class=\"sk-toggleable__content\"><pre>DecisionTreeClassifier(max_depth=19, min_samples_leaf=5, min_samples_split=9,\n",
       "                       splitter=&#x27;random&#x27;)</pre></div></div></div></div></div>"
      ],
      "text/plain": [
       "DecisionTreeClassifier(max_depth=19, min_samples_leaf=5, min_samples_split=9,\n",
       "                       splitter='random')"
      ]
     },
     "execution_count": 1208,
     "metadata": {},
     "output_type": "execute_result"
    }
   ],
   "source": [
    "model.fit(x_train, y_train)"
   ]
  },
  {
   "cell_type": "code",
   "execution_count": 1209,
   "id": "ec1bcf03",
   "metadata": {},
   "outputs": [],
   "source": [
    "model_path = \"../DTC/models_train/param5/dtc_model_{}.pkl\".format(split)\n",
    "\n",
    "# Save the trained model to disk\n",
    "joblib.dump(model, model_path)\n",
    "\n",
    "# Load the saved model from disk\n",
    "model = joblib.load(model_path)"
   ]
  },
  {
   "cell_type": "code",
   "execution_count": 1210,
   "id": "c32dea16",
   "metadata": {},
   "outputs": [
    {
     "data": {
      "text/plain": [
       "array([1, 1, 1, 1, 1, 1, 1, 1, 1, 1, 1, 1, 1, 1, 1, 1, 1, 1, 1, 0, 0, 0,\n",
       "       1, 1, 1, 1, 1, 1, 1, 1, 1, 1, 1, 1, 1, 1, 1, 0, 1, 1, 0, 1, 1, 1,\n",
       "       1, 1, 0, 1, 0, 0, 0, 0, 0, 1, 1, 0, 1, 1, 0, 0, 0, 0, 1, 0, 1, 1,\n",
       "       0, 0, 0, 0, 1, 0, 1, 0, 0, 1, 0, 1, 1, 0, 1, 0, 1, 1, 0, 1, 0, 1,\n",
       "       0, 0, 0, 0, 0, 0, 1, 1, 0, 0, 0, 1, 1, 0, 0, 0, 0, 1, 0, 0, 1, 0,\n",
       "       0, 0, 0, 0])"
      ]
     },
     "execution_count": 1210,
     "metadata": {},
     "output_type": "execute_result"
    }
   ],
   "source": [
    "y_pred = model.predict(x_test)\n",
    "y_pred"
   ]
  },
  {
   "cell_type": "code",
   "execution_count": 1211,
   "id": "a64260cc",
   "metadata": {},
   "outputs": [
    {
     "data": {
      "text/plain": [
       "0.956140350877193"
      ]
     },
     "execution_count": 1211,
     "metadata": {},
     "output_type": "execute_result"
    }
   ],
   "source": [
    "accuracy_score(y_test, y_pred)"
   ]
  },
  {
   "cell_type": "code",
   "execution_count": null,
   "id": "72b978c6",
   "metadata": {},
   "outputs": [],
   "source": []
  },
  {
   "cell_type": "code",
   "execution_count": 1212,
   "id": "d2c0cb8f",
   "metadata": {
    "scrolled": false
   },
   "outputs": [
    {
     "name": "stdout",
     "output_type": "stream",
     "text": [
      "split5\n",
      "############## validate set ################\n",
      "Confusion Matrix\n",
      "----------------\n",
      "[[48 20]\n",
      " [ 0 23]] \n",
      "\n",
      "----------------\n",
      "Sensitivity: 100.00%\n",
      "Specificity: 70.59%\n",
      "Accuracy: 78.02%\n",
      "Precision: 53.49%\n",
      "Sensitivity: 100.00%\n",
      "Precision: 53.49%\n",
      "F1: 69.70%\n"
     ]
    },
    {
     "data": {
      "image/png": "[encoded data removed]",
      "text/plain": [
       "<Figure size 640x480 with 1 Axes>"
      ]
     },
     "metadata": {},
     "output_type": "display_data"
    },
    {
     "name": "stdout",
     "output_type": "stream",
     "text": [
      "################# test set ##################\n",
      "Confusion Matrix\n",
      "----------------\n",
      "[[45  1]\n",
      " [ 4 64]] \n",
      "\n",
      "----------------\n",
      "Sensitivity: 94.12%\n",
      "Specificity: 97.83%\n",
      "Accuracy: 95.61%\n",
      "Precision: 98.46%\n",
      "Sensitivity: 94.12%\n",
      "Precision: 98.46%\n",
      "F1: 96.24%\n"
     ]
    },
    {
     "data": {
      "image/png": "[encoded data removed]",
      "text/plain": [
       "<Figure size 640x480 with 1 Axes>"
      ]
     },
     "metadata": {},
     "output_type": "display_data"
    },
    {
     "name": "stdout",
     "output_type": "stream",
     "text": [
      "---------------------------------------\n",
      "AUC validate: 0.8529\n",
      "AUC test: 0.9597\n"
     ]
    },
    {
     "data": {
      "image/png": "[encoded data removed]",
      "text/plain": [
       "<Figure size 640x480 with 1 Axes>"
      ]
     },
     "metadata": {},
     "output_type": "display_data"
    }
   ],
   "source": [
    "print(split)\n",
    "############## validate set ################\n",
    "print(\"############## validate set ################\")\n",
    "y_pred_val = model.predict(x_val)\n",
    "\n",
    "# Confusion matrix\n",
    "cm_val = confusion_matrix(y_val, y_pred_val)\n",
    "print('Confusion Matrix')\n",
    "print('-'*16)\n",
    "print(cm_val,'\\n')\n",
    "print('-'*16)\n",
    "\n",
    "# Calculate score\n",
    "sen_val = sensitivity(cm_val)\n",
    "spec_val = specificity(cm_val)\n",
    "acc_val = accuracy(cm_val)\n",
    "pre_val = precision(cm_val)\n",
    "f1_val = f1(cm_val)\n",
    "\n",
    "# plot confusion matrix\n",
    "class_names = ['benign','malignant']\n",
    "# Normalize confusion matrix to percentage\n",
    "cm_norm_val = cm_val.astype('float') / cm_val.sum(axis=1)[:, np.newaxis]\n",
    "# Create plot\n",
    "fig, ax = plt.subplots()\n",
    "im = ax.imshow(cm_norm_val, interpolation='nearest', cmap=\"rocket_r\")\n",
    "ax.grid(False)\n",
    "# Add labels\n",
    "ax.set(xticks=np.arange(cm_norm_val.shape[1]),\n",
    "       yticks=np.arange(cm_norm_val.shape[0]),\n",
    "       xticklabels=class_names, yticklabels=class_names)\n",
    "ax.set_title(\"Validate set\", fontsize=16)\n",
    "ax.set_ylabel('Actual', fontsize=16)\n",
    "ax.set_xlabel('Predicted', fontsize=16)\n",
    "# Add percentage and count values inside plot\n",
    "thresh = cm_norm_val.max() / 2.\n",
    "for i in range(cm_norm_val.shape[0]):\n",
    "    for j in range(cm_norm_val.shape[1]):\n",
    "        ax.text(j, i, '''{}\\n({:.2f}%)'''.format(cm_val[i,j], cm_norm_val[i, j]*100),\n",
    "                ha=\"center\", va=\"center\",\n",
    "                color=\"white\" if cm_norm_val[i, j] > thresh else \"black\")\n",
    "# Show plot\n",
    "plt.show()\n",
    "################# test set ##################\n",
    "print(\"################# test set ##################\")\n",
    "y_pred_test = model.predict(x_test)\n",
    "\n",
    "\n",
    "# Confusion matrix\n",
    "cm_test = confusion_matrix(y_test, y_pred_test)\n",
    "print('Confusion Matrix')\n",
    "print('-'*16)\n",
    "print(cm_test,'\\n')\n",
    "print('-'*16)\n",
    "\n",
    "# Calculate score\n",
    "sen_test_split5 = sensitivity(cm_test)\n",
    "spec_test_split5 = specificity(cm_test)\n",
    "acc_test_split5 = accuracy(cm_test)\n",
    "pre_test_split5 = precision(cm_test)\n",
    "f1_test_split5 = f1(cm_test)\n",
    "\n",
    "# plot confusion matrix\n",
    "class_names = ['benign','malignant']\n",
    "# Normalize confusion matrix to percentage\n",
    "cm_norm_test = cm_test.astype('float') / cm_test.sum(axis=1)[:, np.newaxis]\n",
    "# Create plot\n",
    "fig, ax = plt.subplots()\n",
    "im = ax.imshow(cm_norm_test, interpolation='nearest', cmap=\"rocket_r\")\n",
    "ax.grid(False)\n",
    "# Add labels\n",
    "ax.set(xticks=np.arange(cm_norm_test.shape[1]),\n",
    "       yticks=np.arange(cm_norm_test.shape[0]),\n",
    "       xticklabels=class_names, yticklabels=class_names)\n",
    "ax.set_title(\"Test set\", fontsize=16)\n",
    "ax.set_ylabel('Actual', fontsize=16)\n",
    "ax.set_xlabel('Predicted', fontsize=16)\n",
    "# Add percentage and count values inside plot\n",
    "thresh = cm_norm_test.max() / 2.\n",
    "for i in range(cm_norm_test.shape[0]):\n",
    "    for j in range(cm_norm_test.shape[1]):\n",
    "        ax.text(j, i, '''{}\\n({:.2f}%)'''.format(cm_test[i,j], cm_norm_test[i, j]*100),\n",
    "                ha=\"center\", va=\"center\",\n",
    "                color=\"white\" if cm_norm_test[i, j] > thresh else \"black\")\n",
    "# Show plot\n",
    "plt.show()\n",
    "\n",
    "################## plot ROC curve ########################\n",
    "fpr1, tpr1, thr1 = roc_curve(y_val, y_pred_val)\n",
    "auc_val = roc_auc_score(y_val, y_pred_val)\n",
    "fpr2, tpr2, thr2 = roc_curve(y_test, y_pred_test)\n",
    "auc_test_split5 = roc_auc_score(y_test, y_pred_test)\n",
    "\n",
    "print(\"---------------------------------------\")\n",
    "print(\"AUC validate: %.4f\" % auc_val)\n",
    "print(\"AUC test: %.4f\" % auc_test_split5)\n",
    "\n",
    "# plt.plot(fpr,tpr,label=\"data 1, auc=\"+str(auc),color='red')\n",
    "plt.plot(fpr1,tpr1,label=\"ROC valid, auc=\"+str(\"%.4f\" % auc_val))\n",
    "plt.plot(fpr2,tpr2,label=\"ROC test, auc=\"+str(\"%.4f\" % auc_test_split5))\n",
    "plt.plot([0, 1], [0, 1], linestyle=\"--\", lw=2, color=\"r\", label=\"Chance\", alpha=0.8)\n",
    "plt.legend(loc=4)\n",
    "plt.show()\n",
    "##########################################################"
   ]
  },
  {
   "cell_type": "markdown",
   "id": "c35e6707",
   "metadata": {},
   "source": [
    "# Compare"
   ]
  },
  {
   "cell_type": "code",
   "execution_count": 1213,
   "id": "8ff29489",
   "metadata": {},
   "outputs": [],
   "source": [
    "test_split1 = np.array([[44, 2], [3, 65]])\n",
    "test_split2 = np.array([[45, 1], [4, 64]])\n",
    "test_split3 = np.array([[45, 1], [5, 63]])\n",
    "test_split4 = np.array([[45, 1], [4, 64]])\n",
    "test_split5 = np.array([[45, 1], [6, 62]])"
   ]
  },
  {
   "cell_type": "code",
   "execution_count": 1214,
   "id": "d05dc717",
   "metadata": {},
   "outputs": [],
   "source": [
    "# test_split5"
   ]
  },
  {
   "cell_type": "code",
   "execution_count": 1215,
   "id": "eb3d15e3",
   "metadata": {},
   "outputs": [
    {
     "data": {
      "text/plain": [
       "array([[224,   6],\n",
       "       [ 22, 318]])"
      ]
     },
     "execution_count": 1215,
     "metadata": {},
     "output_type": "execute_result"
    }
   ],
   "source": [
    "overall_test = test_split1 + test_split2 + test_split3 + test_split4 + test_split5\n",
    "overall_test"
   ]
  },
  {
   "cell_type": "code",
   "execution_count": 1216,
   "id": "e5cc57d5",
   "metadata": {},
   "outputs": [],
   "source": [
    "# overall_cm_test = cm_test_split1 + cm_test_split2 + cm_test_split3 + cm_test_split4 + cm_test_split5\n",
    "# overall_cm_test"
   ]
  },
  {
   "cell_type": "code",
   "execution_count": 1218,
   "id": "a26b6434",
   "metadata": {
    "scrolled": false
   },
   "outputs": [
    {
     "data": {
      "image/png": "[encoded data removed]",
      "text/plain": [
       "<Figure size 600x600 with 2 Axes>"
      ]
     },
     "metadata": {},
     "output_type": "display_data"
    },
    {
     "data": {
      "image/png": "[encoded data removed]",
      "text/plain": [
       "<Figure size 640x480 with 1 Axes>"
      ]
     },
     "metadata": {},
     "output_type": "display_data"
    }
   ],
   "source": [
    "label = ['benign','malignant']\n",
    "plt.figure(figsize=(6, 6))\n",
    "# ax = sns.heatmap(cmn, cmap=\"rocket_r\", fmt=\".4f\",annot_kws={'size':16}, annot=True, square=True, xticklabels=label, yticklabels=label)\n",
    "ax = sns.heatmap(overall_test, cmap=\"rocket_r\", fmt=\".01f\",annot_kws={'size':16}, annot=True, square=True, xticklabels=label, yticklabels=label)\n",
    "ax.set_ylabel('Actual', fontsize=20)\n",
    "ax.set_xlabel('Predicted', fontsize=20)\n",
    "# Show plot\n",
    "plt.show()\n",
    "\n",
    "# plot confusion matrix\n",
    "class_names = ['benign','malignant']\n",
    "# Normalize confusion matrix to percentage\n",
    "overall_norm_test = overall_test.astype('float') / overall_test.sum(axis=1)[:, np.newaxis]\n",
    "# Create plot\n",
    "fig, ax = plt.subplots()\n",
    "im = ax.imshow(overall_norm_test, interpolation='nearest', cmap=\"rocket_r\")\n",
    "ax.grid(False)\n",
    "# Add labels\n",
    "ax.set(xticks=np.arange(overall_norm_test.shape[1]),\n",
    "       yticks=np.arange(overall_norm_test.shape[0]),\n",
    "       xticklabels=class_names, yticklabels=class_names)\n",
    "ax.set_title(\"Test set\", fontsize=16)\n",
    "ax.set_ylabel('Actual', fontsize=16)\n",
    "ax.set_xlabel('Predicted', fontsize=16)\n",
    "# Add percentage and count values inside plot\n",
    "thresh = overall_norm_test.max() / 2.\n",
    "for i in range(overall_norm_test.shape[0]):\n",
    "    for j in range(overall_norm_test.shape[1]):\n",
    "        ax.text(j, i, '''{}\\n({:.2f}%)'''.format(overall_test[i,j], overall_norm_test[i, j]*100),\n",
    "                ha=\"center\", va=\"center\",\n",
    "                color=\"white\" if overall_norm_test[i, j] > thresh else \"black\")\n",
    "# Show plot\n",
    "plt.show()"
   ]
  },
  {
   "cell_type": "code",
   "execution_count": 1219,
   "id": "6da6dfe2",
   "metadata": {},
   "outputs": [
    {
     "name": "stdout",
     "output_type": "stream",
     "text": [
      "[95.58823529411765, 94.11764705882352, 92.64705882352942, 94.11764705882352, 94.11764705882352]\n",
      "Mean Sensitivity: 94.11764705882352\n",
      "Sensitivity Standard Deviation: 1.0398629135096276\n",
      "Mean Sensitivity: 94.12 ± 1.04%\n"
     ]
    }
   ],
   "source": [
    "sensitivity_values = []\n",
    "\n",
    "sensitivity_values.append(sen_test_split1)\n",
    "sensitivity_values.append(sen_test_split2)\n",
    "sensitivity_values.append(sen_test_split3)\n",
    "sensitivity_values.append(sen_test_split4)\n",
    "sensitivity_values.append(sen_test_split5)\n",
    "\n",
    "print(sensitivity_values)\n",
    "\n",
    "# calculating the mean of sample set\n",
    "mean_sensitivity = statistics.mean(sensitivity_values)\n",
    "# Calculate standard deviation of sensitivity\n",
    "sensitivity_sd = statistics.stdev(sensitivity_values)\n",
    "\n",
    "print(\"Mean Sensitivity:\", mean_sensitivity)\n",
    "print(\"Sensitivity Standard Deviation:\", sensitivity_sd)\n",
    "\n",
    "# Print mean sensitivity with standard deviation\n",
    "print(\"Mean Sensitivity: %.2f ± %.2f%%\" % (mean_sensitivity, sensitivity_sd))"
   ]
  },
  {
   "cell_type": "code",
   "execution_count": 1220,
   "id": "9e749dbb",
   "metadata": {},
   "outputs": [
    {
     "name": "stdout",
     "output_type": "stream",
     "text": [
      "[95.65217391304348, 97.82608695652173, 97.82608695652173, 97.82608695652173, 97.82608695652173]\n",
      "Mean Specificity: 97.39130434782608\n",
      "Specificity Standard Deviation: 0.9722034684781651\n",
      "Overall Specificity: 97.39 ± 0.97%\n"
     ]
    }
   ],
   "source": [
    "specificity_values = []\n",
    "\n",
    "specificity_values.append(spec_test_split1)\n",
    "specificity_values.append(spec_test_split2)\n",
    "specificity_values.append(spec_test_split3)\n",
    "specificity_values.append(spec_test_split4)\n",
    "specificity_values.append(spec_test_split5)\n",
    "    \n",
    "print(specificity_values)\n",
    "\n",
    "# calculating the mean of sample set\n",
    "mean_specificity = statistics.mean(specificity_values)\n",
    "# Calculate standard deviation of sensitivity\n",
    "specificity_sd = statistics.stdev(specificity_values)\n",
    "\n",
    "print(\"Mean Specificity:\", mean_specificity)\n",
    "print(\"Specificity Standard Deviation:\", specificity_sd)\n",
    "\n",
    "# Print mean specificity with standard deviation\n",
    "print(\"Overall Specificity: %.2f ± %.2f%%\" % (mean_specificity, specificity_sd))"
   ]
  },
  {
   "cell_type": "code",
   "execution_count": 1221,
   "id": "f2939094",
   "metadata": {},
   "outputs": [
    {
     "name": "stdout",
     "output_type": "stream",
     "text": [
      "[95.6140350877193, 95.6140350877193, 94.73684210526315, 95.6140350877193, 95.6140350877193]\n",
      "Mean accuracy: 95.43859649122807\n",
      "accuracy Standard Deviation: 0.3922926276315469\n",
      "Overall accuracy: 95.44 ± 0.39%\n"
     ]
    }
   ],
   "source": [
    "accuracy_values = []\n",
    "\n",
    "accuracy_values.append(acc_test_split1)\n",
    "accuracy_values.append(acc_test_split2)\n",
    "accuracy_values.append(acc_test_split3)\n",
    "accuracy_values.append(acc_test_split4)\n",
    "accuracy_values.append(acc_test_split5)\n",
    "\n",
    "print(accuracy_values)\n",
    "\n",
    "# calculating the mean of sample set\n",
    "mean_accuracy = statistics.mean(accuracy_values)\n",
    "# Calculate standard deviation of sensitivity\n",
    "accuracy_sd = statistics.stdev(accuracy_values)\n",
    "\n",
    "print(\"Mean accuracy:\", mean_accuracy)\n",
    "print(\"accuracy Standard Deviation:\", accuracy_sd)\n",
    "\n",
    "# Print mean accuracy with standard deviation\n",
    "print(\"Overall accuracy: %.2f ± %.2f%%\" % (mean_accuracy, accuracy_sd))"
   ]
  },
  {
   "cell_type": "code",
   "execution_count": 1222,
   "id": "f21ea63b",
   "metadata": {},
   "outputs": [
    {
     "name": "stdout",
     "output_type": "stream",
     "text": [
      "[96.2962962962963, 96.2406015037594, 95.45454545454545, 96.2406015037594, 96.2406015037594]\n",
      "Mean f1: 96.09452925242398\n",
      "f1 Standard Deviation: 0.3585737404532671\n",
      "Overall f1: 96.09 ± 0.36%\n"
     ]
    }
   ],
   "source": [
    "f1_values = []\n",
    "\n",
    "f1_values.append(f1_test_split1)\n",
    "f1_values.append(f1_test_split2)\n",
    "f1_values.append(f1_test_split3)\n",
    "f1_values.append(f1_test_split4)\n",
    "f1_values.append(f1_test_split5)\n",
    "    \n",
    "print(f1_values)\n",
    "\n",
    "# calculating the mean of sample set\n",
    "mean_f1 = statistics.mean(f1_values)\n",
    "# Calculate standard deviation of sensitivity\n",
    "f1_sd = statistics.stdev(f1_values)\n",
    "\n",
    "print(\"Mean f1:\", mean_f1)\n",
    "print(\"f1 Standard Deviation:\", f1_sd)\n",
    "\n",
    "# Print mean specificity with standard deviation\n",
    "print(\"Overall f1: %.2f ± %.2f%%\" % (mean_f1, f1_sd))"
   ]
  },
  {
   "cell_type": "code",
   "execution_count": 1223,
   "id": "af2b6e6c",
   "metadata": {},
   "outputs": [
    {
     "name": "stdout",
     "output_type": "stream",
     "text": [
      "[0.9562020460358057, 0.9597186700767263, 0.9523657289002558, 0.9597186700767263, 0.9597186700767263]\n",
      "Mean auc: 0.957544757033248\n",
      "auc Standard Deviation: 0.003271196225648648\n",
      "Overall auc: 0.96 ± 0.00%\n"
     ]
    }
   ],
   "source": [
    "auc_values = []\n",
    "\n",
    "auc_values.append(auc_test_split1)\n",
    "auc_values.append(auc_test_split2)\n",
    "auc_values.append(auc_test_split3)\n",
    "auc_values.append(auc_test_split4)\n",
    "auc_values.append(auc_test_split5)\n",
    "    \n",
    "print(auc_values)\n",
    "\n",
    "# calculating the mean of sample set\n",
    "mean_auc = statistics.mean(auc_values)\n",
    "# Calculate standard deviation of sensitivity\n",
    "auc_sd = statistics.stdev(auc_values)\n",
    "\n",
    "print(\"Mean auc:\", mean_auc)\n",
    "print(\"auc Standard Deviation:\", auc_sd)\n",
    "\n",
    "# Print mean auc with standard deviation\n",
    "print(\"Overall auc: %.2f ± %.2f%%\" % (mean_auc, auc_sd))"
   ]
  },
  {
   "cell_type": "code",
   "execution_count": 1224,
   "id": "899b6ea4",
   "metadata": {},
   "outputs": [
    {
     "name": "stdout",
     "output_type": "stream",
     "text": [
      "[97.01492537313433, 98.46153846153847, 98.4375, 98.46153846153847, 98.46153846153847]\n",
      "Mean precision: 98.16740815154995\n",
      "precision Standard Deviation: 0.6443415396560992\n",
      "Overall precision: 98.17 ± 0.64%\n"
     ]
    }
   ],
   "source": [
    "precision_values = []\n",
    "\n",
    "precision_values.append(pre_test_split1)\n",
    "precision_values.append(pre_test_split2)\n",
    "precision_values.append(pre_test_split3)\n",
    "precision_values.append(pre_test_split4)\n",
    "precision_values.append(pre_test_split5)\n",
    "    \n",
    "print(precision_values)\n",
    "\n",
    "# calculating the mean of sample set\n",
    "mean_precision = statistics.mean(precision_values)\n",
    "# Calculate standard deviation of sensitivity\n",
    "precision_sd = statistics.stdev(precision_values)\n",
    "\n",
    "print(\"Mean precision:\", mean_precision)\n",
    "print(\"precision Standard Deviation:\", precision_sd)\n",
    "\n",
    "# Print mean specificity with standard deviation\n",
    "print(\"Overall precision: %.2f ± %.2f%%\" % (mean_precision, precision_sd))"
   ]
  },
  {
   "cell_type": "code",
   "execution_count": null,
   "id": "d2d92a93",
   "metadata": {},
   "outputs": [],
   "source": []
  }
 ],
 "metadata": {
  "kernelspec": {
   "display_name": "Python 3 (ipykernel)",
   "language": "python",
   "name": "python3"
  },
  "language_info": {
   "codemirror_mode": {
    "name": "ipython",
    "version": 3
   },
   "file_extension": ".py",
   "mimetype": "text/x-python",
   "name": "python",
   "nbconvert_exporter": "python",
   "pygments_lexer": "ipython3",
   "version": "3.9.6"
  }
 },
 "nbformat": 4,
 "nbformat_minor": 5
}
