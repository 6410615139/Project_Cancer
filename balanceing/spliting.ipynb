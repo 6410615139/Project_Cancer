{
 "cells": [
  {
   "cell_type": "code",
   "execution_count": 1,
   "id": "790d3ca1-faa6-40e6-8e25-ebdc92795549",
   "metadata": {},
   "outputs": [],
   "source": [
    "import pandas as pd"
   ]
  },
  {
   "cell_type": "code",
   "execution_count": 2,
   "id": "afc902a2-790e-4df4-83f5-46ee11400c23",
   "metadata": {},
   "outputs": [],
   "source": [
    "# read fold for check\n",
    "f1 = pd.read_csv(\"balance_data/fold1.csv\")\n",
    "f2 = pd.read_csv(\"balance_data/fold2.csv\")\n",
    "f3 = pd.read_csv(\"balance_data/fold3.csv\")\n",
    "f4 = pd.read_csv(\"balance_data/fold4.csv\")\n",
    "f5 = pd.read_csv(\"balance_data/fold5.csv\")"
   ]
  },
  {
   "cell_type": "code",
   "execution_count": 20,
   "id": "4c269f3e-4ff4-441b-b622-b39c2bc8f8f2",
   "metadata": {},
   "outputs": [],
   "source": [
    "# set up path \n",
    "data_path = \"balance_data/\"\n",
    "split = \"split5\"\n",
    "train_path = \"{}/{}/train/\".format(data_path,split)\n",
    "val_path = \"{}/{}/val/\".format(data_path,split)"
   ]
  },
  {
   "cell_type": "code",
   "execution_count": 21,
   "id": "7ff8118c-615d-4ebb-96c7-7b0980ab5d82",
   "metadata": {},
   "outputs": [],
   "source": [
    "# create val \n",
    "val_set_split1 = f5\n",
    "val_set_split1.to_csv(val_path+\"val_\"+split+\".csv\", index=False)"
   ]
  },
  {
   "cell_type": "code",
   "execution_count": 22,
   "id": "24244910-b03b-4c87-bcdf-a7c2dfa704bc",
   "metadata": {},
   "outputs": [],
   "source": [
    "# create train set\n",
    "train_set_split1 = pd.concat([f1,f2,f3,f4])\n",
    "train_set_split1.to_csv(train_path+\"train_\"+split+\".csv\", index=False)"
   ]
  },
  {
   "cell_type": "code",
   "execution_count": null,
   "id": "06516153-83e0-49ef-a00f-73e8340737f3",
   "metadata": {},
   "outputs": [],
   "source": []
  }
 ],
 "metadata": {
  "kernelspec": {
   "display_name": "Python 3 (ipykernel)",
   "language": "python",
   "name": "python3"
  },
  "language_info": {
   "codemirror_mode": {
    "name": "ipython",
    "version": 3
   },
   "file_extension": ".py",
   "mimetype": "text/x-python",
   "name": "python",
   "nbconvert_exporter": "python",
   "pygments_lexer": "ipython3",
   "version": "3.9.13"
  }
 },
 "nbformat": 4,
 "nbformat_minor": 5
}
