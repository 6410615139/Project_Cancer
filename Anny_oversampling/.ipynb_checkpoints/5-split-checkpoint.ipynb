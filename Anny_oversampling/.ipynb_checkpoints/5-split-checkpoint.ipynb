{
 "cells": [
  {
   "cell_type": "code",
   "execution_count": 61,
   "id": "86904273-7612-4403-aae9-a2a29756d4ef",
   "metadata": {
    "tags": []
   },
   "outputs": [],
   "source": [
    "import pandas as pd"
   ]
  },
  {
   "cell_type": "code",
   "execution_count": 62,
   "id": "6d68f81a-2e86-4c38-9c59-e8d116e30209",
   "metadata": {
    "tags": []
   },
   "outputs": [],
   "source": [
    "# Read the two CSV files into separate DataFrames\n",
    "f1 = pd.read_csv(\"fold1.csv\")\n",
    "f2 = pd.read_csv(\"fold2.csv\")\n",
    "f3 = pd.read_csv(\"fold3.csv\")\n",
    "f4 = pd.read_csv(\"fold4.csv\")\n",
    "f5 = pd.read_csv(\"fold5.csv\")"
   ]
  },
  {
   "cell_type": "markdown",
   "id": "e8f1d250-0ac4-41b3-bd99-be3ed72cd53e",
   "metadata": {},
   "source": [
    "# Split1"
   ]
  },
  {
   "cell_type": "code",
   "execution_count": 63,
   "id": "dd0ab25f-6e4a-478e-8441-6d0c2f7d1165",
   "metadata": {
    "tags": []
   },
   "outputs": [],
   "source": [
    "# set up path \n",
    "data_path = \"../5-fold_new/DATA/\"\n",
    "split = \"split1\"\n",
    "train_path = \"{}/{}/train/\".format(data_path,split)\n",
    "val_path = \"{}/{}/val/\".format(data_path,split)"
   ]
  },
  {
   "cell_type": "code",
   "execution_count": 64,
   "id": "54c5f2d9-ae09-414b-9324-b8318026aa7b",
   "metadata": {
    "tags": []
   },
   "outputs": [],
   "source": [
    "# create val \n",
    "val_set_split1 = f1\n",
    "val_set_split1.to_csv(val_path+\"val_\"+split+\".csv\", index=False)"
   ]
  },
  {
   "cell_type": "code",
   "execution_count": 65,
   "id": "d2adaa33-d589-4fcd-be6b-c98d321edb6e",
   "metadata": {
    "tags": []
   },
   "outputs": [],
   "source": [
    "# create train set\n",
    "train_set_split1 = pd.concat([f2,f3,f4,f5])\n",
    "train_set_split1.to_csv(train_path+\"train_\"+split+\".csv\", index=False)"
   ]
  },
  {
   "cell_type": "markdown",
   "id": "2701685d-0686-475d-9d8e-615228354736",
   "metadata": {
    "tags": []
   },
   "source": [
    "# Split2"
   ]
  },
  {
   "cell_type": "code",
   "execution_count": 66,
   "id": "02c5539f-e0eb-4f7f-8ea9-c430be436e9b",
   "metadata": {
    "tags": []
   },
   "outputs": [],
   "source": [
    "# set up path \n",
    "data_path = \"../5-fold_new/DATA/\"\n",
    "split = \"split2\"\n",
    "train_path = \"{}/{}/train/\".format(data_path,split)\n",
    "val_path = \"{}/{}/val/\".format(data_path,split)"
   ]
  },
  {
   "cell_type": "code",
   "execution_count": 67,
   "id": "fe944245-e3e0-4d65-8aba-25e416b0c9a3",
   "metadata": {
    "tags": []
   },
   "outputs": [],
   "source": [
    "# create val \n",
    "val_set_split2 = f2\n",
    "val_set_split2.to_csv(val_path+\"val_\"+split+\".csv\", index=False)"
   ]
  },
  {
   "cell_type": "code",
   "execution_count": 68,
   "id": "56350efc-19c2-4dfd-b748-200e271dd1b4",
   "metadata": {
    "tags": []
   },
   "outputs": [],
   "source": [
    "# create train set\n",
    "train_set_split2 = pd.concat([f1,f3,f4,f5])\n",
    "train_set_split2.to_csv(train_path+\"train_\"+split+\".csv\", index=False)"
   ]
  },
  {
   "cell_type": "markdown",
   "id": "65cdb486-cc4f-4db1-99a5-32eabe987f5d",
   "metadata": {
    "tags": []
   },
   "source": [
    "# Spilt3"
   ]
  },
  {
   "cell_type": "code",
   "execution_count": 69,
   "id": "bf4aa432-c62c-471d-8997-8dd6e186e701",
   "metadata": {
    "tags": []
   },
   "outputs": [],
   "source": [
    "# set up path \n",
    "data_path = \"../5-fold_new/DATA/\"\n",
    "split = \"split3\"\n",
    "train_path = \"{}/{}/train/\".format(data_path,split)\n",
    "val_path = \"{}/{}/val/\".format(data_path,split)"
   ]
  },
  {
   "cell_type": "code",
   "execution_count": 70,
   "id": "9d3ec419-2e91-4722-94f1-6e6a6233f4dd",
   "metadata": {
    "tags": []
   },
   "outputs": [],
   "source": [
    "# create val \n",
    "val_set_split3 = f3\n",
    "val_set_split3.to_csv(val_path+\"val_\"+split+\".csv\", index=False)"
   ]
  },
  {
   "cell_type": "code",
   "execution_count": 71,
   "id": "ca92a129-085c-4ba3-8b7c-4b5ef26bcdca",
   "metadata": {
    "tags": []
   },
   "outputs": [],
   "source": [
    "# create train set\n",
    "train_set_split3 = pd.concat([f1,f2,f4,f5])\n",
    "train_set_split3.to_csv(train_path+\"train_\"+split+\".csv\", index=False)"
   ]
  },
  {
   "cell_type": "markdown",
   "id": "9ceda16a-bf0d-46b1-b90a-4c0ce5a5c0e3",
   "metadata": {
    "tags": []
   },
   "source": [
    "# Spilt4"
   ]
  },
  {
   "cell_type": "code",
   "execution_count": 72,
   "id": "94549fba-ca6e-4a80-aada-3eefac17dc69",
   "metadata": {
    "tags": []
   },
   "outputs": [],
   "source": [
    "# set up path \n",
    "data_path = \"../5-fold_new/DATA/\"\n",
    "split = \"split4\"\n",
    "train_path = \"{}/{}/train/\".format(data_path,split)\n",
    "val_path = \"{}/{}/val/\".format(data_path,split)"
   ]
  },
  {
   "cell_type": "code",
   "execution_count": 73,
   "id": "45a03341-7bcb-4151-ad27-ff3bade4668a",
   "metadata": {
    "tags": []
   },
   "outputs": [],
   "source": [
    "# create val \n",
    "val_set_split4 = f4\n",
    "val_set_split4.to_csv(val_path+\"val_\"+split+\".csv\", index=False)"
   ]
  },
  {
   "cell_type": "code",
   "execution_count": 74,
   "id": "20339f83-2aa5-4b84-a738-f42c14cbf337",
   "metadata": {
    "tags": []
   },
   "outputs": [],
   "source": [
    "# create train set\n",
    "train_set_split4 = pd.concat([f1,f2,f3,f5])\n",
    "train_set_split4.to_csv(train_path+\"train_\"+split+\".csv\", index=False)"
   ]
  },
  {
   "cell_type": "markdown",
   "id": "af7ec168-2a20-4c44-bea5-50ed3b586515",
   "metadata": {
    "tags": []
   },
   "source": [
    "# Spilt5"
   ]
  },
  {
   "cell_type": "code",
   "execution_count": 75,
   "id": "313ecff2-fac9-4916-8b5c-a1813f118dac",
   "metadata": {
    "tags": []
   },
   "outputs": [],
   "source": [
    "# set up path \n",
    "data_path = \"../5-fold_new/DATA/\"\n",
    "split = \"split5\"\n",
    "train_path = \"{}/{}/train/\".format(data_path,split)\n",
    "val_path = \"{}/{}/val/\".format(data_path,split)"
   ]
  },
  {
   "cell_type": "code",
   "execution_count": 76,
   "id": "64f944e4-a445-4466-b089-16a672e4c7f7",
   "metadata": {
    "tags": []
   },
   "outputs": [],
   "source": [
    "# create val \n",
    "val_set_split5 = f5\n",
    "val_set_split5.to_csv(val_path+\"val_\"+split+\".csv\", index=False)"
   ]
  },
  {
   "cell_type": "code",
   "execution_count": 77,
   "id": "d880cef3-5648-4cac-adc4-cd01d39bdeb7",
   "metadata": {
    "tags": []
   },
   "outputs": [],
   "source": [
    "# create train set\n",
    "train_set_split5 = pd.concat([f1,f2,f3,f4])\n",
    "train_set_split5.to_csv(train_path+\"train_\"+split+\".csv\", index=False)"
   ]
  }
 ],
 "metadata": {
  "kernelspec": {
   "display_name": "Python 3 (ipykernel)",
   "language": "python",
   "name": "python3"
  },
  "language_info": {
   "codemirror_mode": {
    "name": "ipython",
    "version": 3
   },
   "file_extension": ".py",
   "mimetype": "text/x-python",
   "name": "python",
   "nbconvert_exporter": "python",
   "pygments_lexer": "ipython3",
   "version": "3.11.2"
  }
 },
 "nbformat": 4,
 "nbformat_minor": 5
}
