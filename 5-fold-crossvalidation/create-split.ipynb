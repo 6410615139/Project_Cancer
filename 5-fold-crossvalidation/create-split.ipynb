{
 "cells": [
  {
   "cell_type": "code",
   "execution_count": 35,
   "id": "19e9bc7c-55d4-40b9-9be0-33cbc21fd881",
   "metadata": {},
   "outputs": [],
   "source": [
    "import pandas as pd"
   ]
  },
  {
   "cell_type": "code",
   "execution_count": 2,
   "id": "d322a8d3-eceb-489f-b38a-8f3d64ab5838",
   "metadata": {},
   "outputs": [],
   "source": [
    "# Read the two CSV files into separate DataFrames\n",
    "f1 = pd.read_csv(\"fold1.csv\")\n",
    "f2 = pd.read_csv(\"fold2.csv\")\n",
    "f3 = pd.read_csv(\"fold3.csv\")\n",
    "f4 = pd.read_csv(\"fold4.csv\")\n",
    "f5 = pd.read_csv(\"fold5.csv\")"
   ]
  },
  {
   "cell_type": "markdown",
   "id": "b96c1a56-33bc-478c-9ab2-eb5d474ed5de",
   "metadata": {},
   "source": [
    "## create path"
   ]
  },
  {
   "cell_type": "code",
   "execution_count": 55,
   "id": "2da54a76-5dd0-4bf8-a333-7fbddd8c047d",
   "metadata": {},
   "outputs": [],
   "source": [
    "# set up path \n",
    "data_path = \"../DATA/\"\n",
    "split = \"split2\"\n",
    "train_path = \"{}/{}/train/\".format(data_path,split)\n",
    "test_path = \"{}/{}/test/\".format(data_path,split)\n",
    "val_path = \"{}/{}/val/\".format(data_path,split)"
   ]
  },
  {
   "cell_type": "code",
   "execution_count": 56,
   "id": "627a4769-7271-44da-8b7c-2e15d9e8878a",
   "metadata": {},
   "outputs": [
    {
     "name": "stdout",
     "output_type": "stream",
     "text": [
      "../DATA//split2/train/\n",
      "../DATA//split2/test/\n",
      "../DATA//split2/val/\n"
     ]
    }
   ],
   "source": [
    "print(train_path)\n",
    "print(test_path)\n",
    "print(val_path)"
   ]
  },
  {
   "cell_type": "markdown",
   "id": "dd1a9d34-c322-472d-b4ef-f42fc4fb13e0",
   "metadata": {
    "tags": []
   },
   "source": [
    "# split1"
   ]
  },
  {
   "cell_type": "code",
   "execution_count": 69,
   "id": "f9c27038-a5ed-4620-9f13-d853da916e4c",
   "metadata": {},
   "outputs": [],
   "source": [
    "# set up path \n",
    "data_path = \"../DATA/\"\n",
    "split = \"split1\"\n",
    "train_path = \"{}/{}/train/\".format(data_path,split)\n",
    "test_path = \"{}/{}/test/\".format(data_path,split)\n",
    "val_path = \"{}/{}/val/\".format(data_path,split)"
   ]
  },
  {
   "cell_type": "code",
   "execution_count": 32,
   "id": "9dd952f2-d76f-43fd-bfb4-90d9f44e0fcb",
   "metadata": {},
   "outputs": [],
   "source": [
    "# create test set\n",
    "f1.to_csv(test_path+\"test_\"+split+\".csv\", index=False)"
   ]
  },
  {
   "cell_type": "code",
   "execution_count": 43,
   "id": "d5e4a700-831f-497c-8de1-72b5fd83ce0a",
   "metadata": {},
   "outputs": [],
   "source": [
    "# create val set\n",
    "val_f2 = f2[:18]\n",
    "val_f3 = f3[:18]\n",
    "val_f4 = f4[:18]\n",
    "val_f5 = f5[:18]\n",
    "val_set = pd.concat([val_f2,val_f3,val_f4,val_f5])"
   ]
  },
  {
   "cell_type": "code",
   "execution_count": 45,
   "id": "d110f5b8-21c5-480e-865b-742bfe9c8316",
   "metadata": {},
   "outputs": [],
   "source": [
    "val_set.to_csv(val_path+\"val_\"+split+\".csv\", index=False)"
   ]
  },
  {
   "cell_type": "code",
   "execution_count": 50,
   "id": "ec27c88f-1f41-45d6-a864-ae5cbd19cbbd",
   "metadata": {},
   "outputs": [],
   "source": [
    "# create train set\n",
    "train_f2 = f2[18:]\n",
    "train_f3 = f3[18:]\n",
    "train_f4 = f4[18:]\n",
    "train_f5 = f5[18:]\n",
    "train_set = pd.concat([train_f2,train_f3,train_f4,train_f5])"
   ]
  },
  {
   "cell_type": "code",
   "execution_count": 52,
   "id": "dfd55a57-e622-4db9-9382-6f6dc7fb888d",
   "metadata": {},
   "outputs": [],
   "source": [
    "train_set.to_csv(train_path+\"train_\"+split+\".csv\", index=False)"
   ]
  },
  {
   "cell_type": "markdown",
   "id": "79b9bdc2-f837-4d74-ba9b-41de771a72f3",
   "metadata": {},
   "source": [
    "# split2"
   ]
  },
  {
   "cell_type": "code",
   "execution_count": 70,
   "id": "e647ba13-94d5-4808-ac89-75dd6c2d4ee1",
   "metadata": {},
   "outputs": [],
   "source": [
    "# set up path \n",
    "data_path = \"../DATA/\"\n",
    "split = \"split2\"\n",
    "train_path = \"{}/{}/train/\".format(data_path,split)\n",
    "test_path = \"{}/{}/test/\".format(data_path,split)\n",
    "val_path = \"{}/{}/val/\".format(data_path,split)"
   ]
  },
  {
   "cell_type": "code",
   "execution_count": 71,
   "id": "0c6859fd-a7f2-4e01-8ec9-aa8cfbc5aa36",
   "metadata": {},
   "outputs": [],
   "source": [
    "# create test set\n",
    "f2.to_csv(test_path+\"test_\"+split+\".csv\", index=False)"
   ]
  },
  {
   "cell_type": "code",
   "execution_count": 72,
   "id": "28f71db3-1881-4ec4-bdf9-79fc4261a77f",
   "metadata": {},
   "outputs": [],
   "source": [
    "# create val set\n",
    "val_f1 = f1[:18]\n",
    "val_f3 = f3[:18]\n",
    "val_f4 = f4[:18]\n",
    "val_f5 = f5[:18]\n",
    "val_set_split2 = pd.concat([val_f1,val_f3,val_f4,val_f5])"
   ]
  },
  {
   "cell_type": "code",
   "execution_count": 73,
   "id": "9c9ca918-b7be-41ca-be12-6a9bc6921f7c",
   "metadata": {},
   "outputs": [],
   "source": [
    "val_set_split2.to_csv(val_path+\"val_\"+split+\".csv\", index=False)"
   ]
  },
  {
   "cell_type": "code",
   "execution_count": 74,
   "id": "82bc3ee9-2926-4091-90b7-141de4c92ceb",
   "metadata": {},
   "outputs": [],
   "source": [
    "# create train set\n",
    "train_f1 = f1[18:]\n",
    "train_f3 = f3[18:]\n",
    "train_f4 = f4[18:]\n",
    "train_f5 = f5[18:]\n",
    "train_set_split2 = pd.concat([train_f1,train_f3,train_f4,train_f5])"
   ]
  },
  {
   "cell_type": "code",
   "execution_count": 75,
   "id": "dd0b2595-2b06-4070-9c13-d4d74c0eadb3",
   "metadata": {},
   "outputs": [],
   "source": [
    "train_set_split2.to_csv(train_path+\"train_\"+split+\".csv\", index=False)"
   ]
  },
  {
   "cell_type": "markdown",
   "id": "c9954a20-b8e4-4dea-9e34-7ce75ea85edf",
   "metadata": {
    "tags": []
   },
   "source": [
    "# split3"
   ]
  },
  {
   "cell_type": "code",
   "execution_count": 103,
   "id": "bbffd008-0c06-41cb-80e1-f4550f1154ab",
   "metadata": {},
   "outputs": [],
   "source": [
    "# set up path \n",
    "data_path = \"../DATA/\"\n",
    "split = \"split3\"\n",
    "train_path = \"{}/{}/train/\".format(data_path,split)\n",
    "test_path = \"{}/{}/test/\".format(data_path,split)\n",
    "val_path = \"{}/{}/val/\".format(data_path,split)"
   ]
  },
  {
   "cell_type": "code",
   "execution_count": 104,
   "id": "2af22b03-643f-4be2-b57e-e9ec636f80d5",
   "metadata": {},
   "outputs": [],
   "source": [
    "# create test set\n",
    "f3.to_csv(test_path+\"test_\"+split+\".csv\", index=False) "
   ]
  },
  {
   "cell_type": "code",
   "execution_count": 105,
   "id": "2878eeba-9519-48b9-84d6-7fe2d1ed898d",
   "metadata": {},
   "outputs": [],
   "source": [
    "# create val set\n",
    "val_f1 = f1[:18]\n",
    "val_f2 = f2[:18]\n",
    "val_f4 = f4[:18]\n",
    "val_f5 = f5[:18]\n",
    "val_set_split3 = pd.concat([val_f1,val_f2,val_f4,val_f5])"
   ]
  },
  {
   "cell_type": "code",
   "execution_count": 106,
   "id": "cfbb988f-0a17-4ba6-a198-8535d4caac1f",
   "metadata": {},
   "outputs": [],
   "source": [
    "val_set_split3.to_csv(val_path+\"val_\"+split+\".csv\", index=False)"
   ]
  },
  {
   "cell_type": "code",
   "execution_count": 107,
   "id": "535203f7-2a50-4e6e-b094-48cb45863f7d",
   "metadata": {},
   "outputs": [],
   "source": [
    "# create train set\n",
    "train_f1 = f1[18:]\n",
    "train_f2 = f2[18:]\n",
    "train_f4 = f4[18:]\n",
    "train_f5 = f5[18:]\n",
    "train_set_split3 = pd.concat([train_f1,train_f2,train_f4,train_f5])"
   ]
  },
  {
   "cell_type": "code",
   "execution_count": 108,
   "id": "02f59c69-0c32-453c-85d0-2bbeb11bcc30",
   "metadata": {},
   "outputs": [],
   "source": [
    "train_set_split3.to_csv(train_path+\"train_\"+split+\".csv\", index=False)"
   ]
  },
  {
   "cell_type": "markdown",
   "id": "c29145e0-e22e-434c-a28e-c120c232e5a2",
   "metadata": {},
   "source": [
    "# split4"
   ]
  },
  {
   "cell_type": "code",
   "execution_count": 109,
   "id": "edf621b0-302d-4dba-a2ce-942a0c22b8c4",
   "metadata": {},
   "outputs": [],
   "source": [
    "# set up path \n",
    "data_path = \"../DATA/\"\n",
    "split = \"split4\"\n",
    "train_path = \"{}/{}/train/\".format(data_path,split)\n",
    "test_path = \"{}/{}/test/\".format(data_path,split)\n",
    "val_path = \"{}/{}/val/\".format(data_path,split)"
   ]
  },
  {
   "cell_type": "code",
   "execution_count": 110,
   "id": "1e4e8d2e-5581-4644-a37f-6af452f776c3",
   "metadata": {},
   "outputs": [],
   "source": [
    "# create test set\n",
    "f4.to_csv(test_path+\"test_\"+split+\".csv\", index=False) "
   ]
  },
  {
   "cell_type": "code",
   "execution_count": 111,
   "id": "afd367c3-0baf-445d-a5bb-4964b3f07036",
   "metadata": {},
   "outputs": [],
   "source": [
    "# create val set\n",
    "val_f1 = f1[:18]\n",
    "val_f2 = f2[:18]\n",
    "val_f3 = f3[:18]\n",
    "val_f5 = f5[:18]\n",
    "val_set_split4 = pd.concat([val_f1,val_f2,val_f3,val_f5])"
   ]
  },
  {
   "cell_type": "code",
   "execution_count": 112,
   "id": "43f58529-972b-4942-b3c1-bd327e03ae16",
   "metadata": {},
   "outputs": [],
   "source": [
    "val_set_split4.to_csv(val_path+\"val_\"+split+\".csv\", index=False)"
   ]
  },
  {
   "cell_type": "code",
   "execution_count": 113,
   "id": "33e82969-a209-44de-8580-944456b4a9cb",
   "metadata": {},
   "outputs": [],
   "source": [
    "# create train set\n",
    "train_f1 = f1[18:]\n",
    "train_f2 = f2[18:]\n",
    "train_f3 = f3[18:]\n",
    "train_f5 = f5[18:]\n",
    "train_set_split4 = pd.concat([train_f1,train_f2,train_f3,train_f5])"
   ]
  },
  {
   "cell_type": "code",
   "execution_count": 114,
   "id": "e2443a2e-67bf-4200-b961-7e0fb47d0b43",
   "metadata": {},
   "outputs": [],
   "source": [
    "train_set_split4.to_csv(train_path+\"train_\"+split+\".csv\", index=False)"
   ]
  },
  {
   "cell_type": "markdown",
   "id": "d0db5c40-b45b-4401-b242-f276fd69863d",
   "metadata": {},
   "source": [
    "# split5"
   ]
  },
  {
   "cell_type": "code",
   "execution_count": 115,
   "id": "46df5e33-c8a4-4879-a1b4-112b2664bfdd",
   "metadata": {},
   "outputs": [],
   "source": [
    "# set up path \n",
    "data_path = \"../DATA/\"\n",
    "split = \"split5\"\n",
    "train_path = \"{}/{}/train/\".format(data_path,split)\n",
    "test_path = \"{}/{}/test/\".format(data_path,split)\n",
    "val_path = \"{}/{}/val/\".format(data_path,split)"
   ]
  },
  {
   "cell_type": "code",
   "execution_count": 116,
   "id": "f7f842e6-e79f-4bf3-8218-25fd97dcbe0e",
   "metadata": {},
   "outputs": [],
   "source": [
    "# create test set\n",
    "f5.to_csv(test_path+\"test_\"+split+\".csv\", index=False) "
   ]
  },
  {
   "cell_type": "code",
   "execution_count": 117,
   "id": "8d72d44e-6f6a-40e5-98e3-5db1f60af056",
   "metadata": {},
   "outputs": [],
   "source": [
    "# create val set\n",
    "val_f1 = f1[:18]\n",
    "val_f2 = f2[:18]\n",
    "val_f3 = f3[:18]\n",
    "val_f4 = f4[:18]\n",
    "val_set_split5 = pd.concat([val_f1,val_f2,val_f3,val_f4])"
   ]
  },
  {
   "cell_type": "code",
   "execution_count": 118,
   "id": "73cd4dbd-7a89-4874-ac91-6f731b73f3c8",
   "metadata": {},
   "outputs": [],
   "source": [
    "val_set_split5.to_csv(val_path+\"val_\"+split+\".csv\", index=False)"
   ]
  },
  {
   "cell_type": "code",
   "execution_count": 119,
   "id": "21d68c2e-3d09-4293-a7fb-b58648733371",
   "metadata": {},
   "outputs": [],
   "source": [
    "# create train set\n",
    "train_f1 = f1[18:]\n",
    "train_f2 = f2[18:]\n",
    "train_f3 = f3[18:]\n",
    "train_f4 = f4[18:]\n",
    "train_set_split5 = pd.concat([train_f1,train_f2,train_f3,train_f4])"
   ]
  },
  {
   "cell_type": "code",
   "execution_count": 120,
   "id": "111eaff9-2e2c-405b-9420-10cf1eabe4ba",
   "metadata": {},
   "outputs": [],
   "source": [
    "train_set_split5.to_csv(train_path+\"train_\"+split+\".csv\", index=False)"
   ]
  },
  {
   "cell_type": "code",
   "execution_count": null,
   "id": "15f9a031-67d4-4b84-ae71-9b22ea9f00d5",
   "metadata": {},
   "outputs": [],
   "source": []
  }
 ],
 "metadata": {
  "kernelspec": {
   "display_name": "Python 3 (ipykernel)",
   "language": "python",
   "name": "python3"
  },
  "language_info": {
   "codemirror_mode": {
    "name": "ipython",
    "version": 3
   },
   "file_extension": ".py",
   "mimetype": "text/x-python",
   "name": "python",
   "nbconvert_exporter": "python",
   "pygments_lexer": "ipython3",
   "version": "3.9.13"
  }
 },
 "nbformat": 4,
 "nbformat_minor": 5
}
