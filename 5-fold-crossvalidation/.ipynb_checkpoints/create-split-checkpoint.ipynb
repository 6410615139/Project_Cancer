{
 "cells": [
  {
   "cell_type": "code",
   "execution_count": 35,
   "id": "19e9bc7c-55d4-40b9-9be0-33cbc21fd881",
   "metadata": {},
   "outputs": [],
   "source": [
    "import pandas as pd"
   ]
  },
  {
   "cell_type": "code",
   "execution_count": 2,
   "id": "d322a8d3-eceb-489f-b38a-8f3d64ab5838",
   "metadata": {},
   "outputs": [],
   "source": [
    "# Read the two CSV files into separate DataFrames\n",
    "f1 = pd.read_csv(\"fold1.csv\")\n",
    "f2 = pd.read_csv(\"fold2.csv\")\n",
    "f3 = pd.read_csv(\"fold3.csv\")\n",
    "f4 = pd.read_csv(\"fold4.csv\")\n",
    "f5 = pd.read_csv(\"fold5.csv\")"
   ]
  },
  {
   "cell_type": "markdown",
   "id": "b96c1a56-33bc-478c-9ab2-eb5d474ed5de",
   "metadata": {},
   "source": [
    "## create path"
   ]
  },
  {
   "cell_type": "code",
   "execution_count": 20,
   "id": "2da54a76-5dd0-4bf8-a333-7fbddd8c047d",
   "metadata": {},
   "outputs": [],
   "source": [
    "data_path = \"../DATA/\""
   ]
  },
  {
   "cell_type": "markdown",
   "id": "dd1a9d34-c322-472d-b4ef-f42fc4fb13e0",
   "metadata": {},
   "source": [
    "# split1"
   ]
  },
  {
   "cell_type": "code",
   "execution_count": 31,
   "id": "72710351-86e9-4915-9c1c-4abdc049b864",
   "metadata": {},
   "outputs": [],
   "source": [
    "# set up path \n",
    "split = \"split1\"\n",
    "train_path = \"{}/{}/train/\".format(data_path,split)\n",
    "test_path = \"{}/{}/test/\".format(data_path,split)\n",
    "val_path = \"{}/{}/val/\".format(data_path,split)"
   ]
  },
  {
   "cell_type": "code",
   "execution_count": 32,
   "id": "9dd952f2-d76f-43fd-bfb4-90d9f44e0fcb",
   "metadata": {},
   "outputs": [],
   "source": [
    "# create test set\n",
    "f1.to_csv(test_path+\"test_\"+split+\".csv\", index=False)"
   ]
  },
  {
   "cell_type": "code",
   "execution_count": 43,
   "id": "d5e4a700-831f-497c-8de1-72b5fd83ce0a",
   "metadata": {},
   "outputs": [],
   "source": [
    "# create val set\n",
    "val_f2 = f2[:18]\n",
    "val_f3 = f3[:18]\n",
    "val_f4 = f4[:18]\n",
    "val_f5 = f5[:18]\n",
    "val_set = pd.concat([val_f2,val_f3,val_f4,val_f5])"
   ]
  },
  {
   "cell_type": "code",
   "execution_count": 45,
   "id": "d110f5b8-21c5-480e-865b-742bfe9c8316",
   "metadata": {},
   "outputs": [],
   "source": [
    "val_set.to_csv(val_path+\"val_\"+split+\".csv\", index=False)"
   ]
  },
  {
   "cell_type": "code",
   "execution_count": 50,
   "id": "ec27c88f-1f41-45d6-a864-ae5cbd19cbbd",
   "metadata": {},
   "outputs": [],
   "source": [
    "# create train set\n",
    "train_f2 = f2[18:]\n",
    "train_f3 = f3[18:]\n",
    "train_f4 = f4[18:]\n",
    "train_f5 = f5[18:]\n",
    "train_set = pd.concat([train_f2,train_f3,train_f4,train_f5])"
   ]
  },
  {
   "cell_type": "code",
   "execution_count": 52,
   "id": "dfd55a57-e622-4db9-9382-6f6dc7fb888d",
   "metadata": {},
   "outputs": [],
   "source": [
    "train_set.to_csv(train_path+\"train_\"+split+\".csv\", index=False)"
   ]
  },
  {
   "cell_type": "code",
   "execution_count": null,
   "id": "0c6859fd-a7f2-4e01-8ec9-aa8cfbc5aa36",
   "metadata": {},
   "outputs": [],
   "source": []
  }
 ],
 "metadata": {
  "kernelspec": {
   "display_name": "Python 3 (ipykernel)",
   "language": "python",
   "name": "python3"
  },
  "language_info": {
   "codemirror_mode": {
    "name": "ipython",
    "version": 3
   },
   "file_extension": ".py",
   "mimetype": "text/x-python",
   "name": "python",
   "nbconvert_exporter": "python",
   "pygments_lexer": "ipython3",
   "version": "3.9.13"
  }
 },
 "nbformat": 4,
 "nbformat_minor": 5
}
