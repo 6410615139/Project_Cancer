{
 "cells": [
  {
   "cell_type": "code",
   "execution_count": 20,
   "id": "e68430e0-276d-4325-ab2a-9d88dd11153e",
   "metadata": {
    "tags": []
   },
   "outputs": [],
   "source": [
    "import pandas as pd"
   ]
  },
  {
   "cell_type": "code",
   "execution_count": 71,
   "id": "ca27627d-5b75-4a09-8271-02d23bb7a1ae",
   "metadata": {
    "tags": []
   },
   "outputs": [],
   "source": [
    "def false_predict(false_indices):\n",
    "    for i in range(len(false_indices)):\n",
    "        # pd.set_option('display.max_columns', None)\n",
    "        # print(val_data.loc[false_indices])\n",
    "        return val_data.loc[false_indices]\n",
    "        \n",
    "        # df = pd.DataFrame({'Variable':x_train.columns,'Coef':coef_abs})"
   ]
  },
  {
   "cell_type": "markdown",
   "id": "4f549e91-e4f5-4f30-a2cf-8f3964deb82b",
   "metadata": {
    "toc-hr-collapsed": true
   },
   "source": [
    "# Split 1"
   ]
  },
  {
   "cell_type": "code",
   "execution_count": 65,
   "id": "814407cd-19ad-4ba2-9e5a-4cd73b958f01",
   "metadata": {
    "tags": []
   },
   "outputs": [],
   "source": [
    "val_data = pd.read_csv(\"../kitt/DATA_progress3/split1/val/val.csv\")"
   ]
  },
  {
   "cell_type": "markdown",
   "id": "8db39922-d961-4d1e-aae8-13495c1ecafe",
   "metadata": {},
   "source": [
    "## param1"
   ]
  },
  {
   "cell_type": "code",
   "execution_count": 72,
   "id": "ddbd0bb9-dace-4cb4-ab55-8e299c673e0c",
   "metadata": {
    "tags": []
   },
   "outputs": [
    {
     "data": {
      "text/html": [
       "<div>\n",
       "<style scoped>\n",
       "    .dataframe tbody tr th:only-of-type {\n",
       "        vertical-align: middle;\n",
       "    }\n",
       "\n",
       "    .dataframe tbody tr th {\n",
       "        vertical-align: top;\n",
       "    }\n",
       "\n",
       "    .dataframe thead th {\n",
       "        text-align: right;\n",
       "    }\n",
       "</style>\n",
       "<table border=\"1\" class=\"dataframe\">\n",
       "  <thead>\n",
       "    <tr style=\"text-align: right;\">\n",
       "      <th></th>\n",
       "      <th>id</th>\n",
       "      <th>diagnosis</th>\n",
       "      <th>texture_mean</th>\n",
       "      <th>area_mean</th>\n",
       "      <th>smoothness_mean</th>\n",
       "      <th>concavity_mean</th>\n",
       "      <th>symmetry_mean</th>\n",
       "      <th>fractal_dimension_mean</th>\n",
       "      <th>texture_se</th>\n",
       "      <th>area_se</th>\n",
       "      <th>smoothness_se</th>\n",
       "      <th>concavity_se</th>\n",
       "      <th>symmetry_se</th>\n",
       "      <th>fractal_dimension_se</th>\n",
       "      <th>smoothness_worst</th>\n",
       "      <th>concavity_worst</th>\n",
       "      <th>symmetry_worst</th>\n",
       "      <th>fractal_dimension_worst</th>\n",
       "    </tr>\n",
       "  </thead>\n",
       "  <tbody>\n",
       "    <tr>\n",
       "      <th>20</th>\n",
       "      <td>91813701</td>\n",
       "      <td>B</td>\n",
       "      <td>18.75</td>\n",
       "      <td>551.1</td>\n",
       "      <td>0.1075</td>\n",
       "      <td>0.04201</td>\n",
       "      <td>0.1723</td>\n",
       "      <td>0.06317</td>\n",
       "      <td>0.6068</td>\n",
       "      <td>16.07</td>\n",
       "      <td>0.004413</td>\n",
       "      <td>0.01509</td>\n",
       "      <td>0.01354</td>\n",
       "      <td>0.001787</td>\n",
       "      <td>0.1624</td>\n",
       "      <td>0.2654</td>\n",
       "      <td>0.3518</td>\n",
       "      <td>0.08665</td>\n",
       "    </tr>\n",
       "  </tbody>\n",
       "</table>\n",
       "</div>"
      ],
      "text/plain": [
       "          id diagnosis  texture_mean  area_mean  smoothness_mean  \\\n",
       "20  91813701         B         18.75      551.1           0.1075   \n",
       "\n",
       "    concavity_mean  symmetry_mean  fractal_dimension_mean  texture_se  \\\n",
       "20         0.04201         0.1723                 0.06317      0.6068   \n",
       "\n",
       "    area_se  smoothness_se  concavity_se  symmetry_se  fractal_dimension_se  \\\n",
       "20    16.07       0.004413       0.01509      0.01354              0.001787   \n",
       "\n",
       "    smoothness_worst  concavity_worst  symmetry_worst  fractal_dimension_worst  \n",
       "20            0.1624           0.2654          0.3518                  0.08665  "
      ]
     },
     "execution_count": 72,
     "metadata": {},
     "output_type": "execute_result"
    }
   ],
   "source": [
    "false_predict([20])"
   ]
  },
  {
   "cell_type": "markdown",
   "id": "04c0d6e4-d9e3-440b-95f2-547eb5dcd117",
   "metadata": {
    "tags": []
   },
   "source": [
    "## param2"
   ]
  },
  {
   "cell_type": "code",
   "execution_count": 61,
   "id": "7ed93499-b13c-4709-aa35-1e93a436ad19",
   "metadata": {
    "tags": []
   },
   "outputs": [
    {
     "name": "stdout",
     "output_type": "stream",
     "text": [
      "20    91813701\n",
      "Name: id, dtype: int64\n"
     ]
    }
   ],
   "source": [
    "false_predict([20])"
   ]
  },
  {
   "cell_type": "markdown",
   "id": "a86a0748-b642-464a-b43c-14ec4abbdb0c",
   "metadata": {},
   "source": [
    "## param3"
   ]
  },
  {
   "cell_type": "code",
   "execution_count": 25,
   "id": "89e9318b-2057-4bac-a5fb-4d09fa7fea1a",
   "metadata": {
    "tags": []
   },
   "outputs": [
    {
     "name": "stdout",
     "output_type": "stream",
     "text": [
      "          id diagnosis  texture_mean  area_mean  smoothness_mean  \\\n",
      "20  91813701         B         18.75      551.1          0.10750   \n",
      "21    921644         B         25.42      668.6          0.08275   \n",
      "88    861799         M         22.76      728.2          0.09200   \n",
      "\n",
      "    concavity_mean  symmetry_mean  fractal_dimension_mean  texture_se  \\\n",
      "20         0.04201         0.1723                 0.06317      0.6068   \n",
      "21         0.04105         0.1840                 0.05680      1.3850   \n",
      "88         0.11220         0.1717                 0.06097      0.8413   \n",
      "\n",
      "    area_se  smoothness_se  concavity_se  symmetry_se  fractal_dimension_se  \\\n",
      "20    16.07       0.004413       0.01509      0.01354              0.001787   \n",
      "21    27.41       0.004775       0.01947      0.01870              0.002626   \n",
      "88    29.44       0.009882       0.04531      0.02471              0.002142   \n",
      "\n",
      "    smoothness_worst  concavity_worst  symmetry_worst  fractal_dimension_worst  \n",
      "20            0.1624           0.2654          0.3518                  0.08665  \n",
      "21            0.1060           0.1611          0.2722                  0.06956  \n",
      "88            0.1257           0.2846          0.2556                  0.06828  \n",
      "          id diagnosis  texture_mean  area_mean  smoothness_mean  \\\n",
      "20  91813701         B         18.75      551.1          0.10750   \n",
      "21    921644         B         25.42      668.6          0.08275   \n",
      "88    861799         M         22.76      728.2          0.09200   \n",
      "\n",
      "    concavity_mean  symmetry_mean  fractal_dimension_mean  texture_se  \\\n",
      "20         0.04201         0.1723                 0.06317      0.6068   \n",
      "21         0.04105         0.1840                 0.05680      1.3850   \n",
      "88         0.11220         0.1717                 0.06097      0.8413   \n",
      "\n",
      "    area_se  smoothness_se  concavity_se  symmetry_se  fractal_dimension_se  \\\n",
      "20    16.07       0.004413       0.01509      0.01354              0.001787   \n",
      "21    27.41       0.004775       0.01947      0.01870              0.002626   \n",
      "88    29.44       0.009882       0.04531      0.02471              0.002142   \n",
      "\n",
      "    smoothness_worst  concavity_worst  symmetry_worst  fractal_dimension_worst  \n",
      "20            0.1624           0.2654          0.3518                  0.08665  \n",
      "21            0.1060           0.1611          0.2722                  0.06956  \n",
      "88            0.1257           0.2846          0.2556                  0.06828  \n",
      "          id diagnosis  texture_mean  area_mean  smoothness_mean  \\\n",
      "20  91813701         B         18.75      551.1          0.10750   \n",
      "21    921644         B         25.42      668.6          0.08275   \n",
      "88    861799         M         22.76      728.2          0.09200   \n",
      "\n",
      "    concavity_mean  symmetry_mean  fractal_dimension_mean  texture_se  \\\n",
      "20         0.04201         0.1723                 0.06317      0.6068   \n",
      "21         0.04105         0.1840                 0.05680      1.3850   \n",
      "88         0.11220         0.1717                 0.06097      0.8413   \n",
      "\n",
      "    area_se  smoothness_se  concavity_se  symmetry_se  fractal_dimension_se  \\\n",
      "20    16.07       0.004413       0.01509      0.01354              0.001787   \n",
      "21    27.41       0.004775       0.01947      0.01870              0.002626   \n",
      "88    29.44       0.009882       0.04531      0.02471              0.002142   \n",
      "\n",
      "    smoothness_worst  concavity_worst  symmetry_worst  fractal_dimension_worst  \n",
      "20            0.1624           0.2654          0.3518                  0.08665  \n",
      "21            0.1060           0.1611          0.2722                  0.06956  \n",
      "88            0.1257           0.2846          0.2556                  0.06828  \n"
     ]
    }
   ],
   "source": [
    "# false_predict([20, 21, 88])\n",
    "val_data.loc[false_indices]"
   ]
  },
  {
   "cell_type": "markdown",
   "id": "03f12b50-926b-41ac-8b7c-ce4397dfea75",
   "metadata": {
    "tags": []
   },
   "source": [
    "## param4"
   ]
  },
  {
   "cell_type": "code",
   "execution_count": 26,
   "id": "a6662ccb-0b74-490b-8df2-20573d5b2687",
   "metadata": {
    "tags": []
   },
   "outputs": [
    {
     "name": "stdout",
     "output_type": "stream",
     "text": [
      "         id diagnosis  texture_mean  area_mean  smoothness_mean  \\\n",
      "65  8810987         M         16.93      578.9           0.1026   \n",
      "\n",
      "    concavity_mean  symmetry_mean  fractal_dimension_mean  texture_se  \\\n",
      "65         0.09901         0.2106                 0.06916       1.194   \n",
      "\n",
      "    area_se  smoothness_se  concavity_se  symmetry_se  fractal_dimension_se  \\\n",
      "65    22.69        0.00596       0.03909      0.01939               0.00456   \n",
      "\n",
      "    smoothness_worst  concavity_worst  symmetry_worst  fractal_dimension_worst  \n",
      "65             0.146           0.4636           0.363                   0.1059  \n"
     ]
    }
   ],
   "source": [
    "false_predict([65])"
   ]
  },
  {
   "cell_type": "markdown",
   "id": "9dbe835d-1c0b-4b43-9103-4b18e3ff1eeb",
   "metadata": {
    "tags": []
   },
   "source": [
    "## param5"
   ]
  },
  {
   "cell_type": "code",
   "execution_count": 27,
   "id": "2f85fbcf-3a6b-4966-b15c-86f0c09451a7",
   "metadata": {
    "tags": []
   },
   "outputs": [
    {
     "name": "stdout",
     "output_type": "stream",
     "text": [
      "          id diagnosis  texture_mean  area_mean  smoothness_mean  \\\n",
      "20  91813701         B         18.75      551.1           0.1075   \n",
      "\n",
      "    concavity_mean  symmetry_mean  fractal_dimension_mean  texture_se  \\\n",
      "20         0.04201         0.1723                 0.06317      0.6068   \n",
      "\n",
      "    area_se  smoothness_se  concavity_se  symmetry_se  fractal_dimension_se  \\\n",
      "20    16.07       0.004413       0.01509      0.01354              0.001787   \n",
      "\n",
      "    smoothness_worst  concavity_worst  symmetry_worst  fractal_dimension_worst  \n",
      "20            0.1624           0.2654          0.3518                  0.08665  \n"
     ]
    }
   ],
   "source": [
    "false_predict([20])"
   ]
  },
  {
   "cell_type": "markdown",
   "id": "dfaedbe7-3e61-46d7-a442-4536509cebee",
   "metadata": {
    "tags": [],
    "toc-hr-collapsed": true
   },
   "source": [
    "#  Split 2"
   ]
  },
  {
   "cell_type": "code",
   "execution_count": 28,
   "id": "72f59e5a-5227-4db2-92c7-0bfc1e5d4219",
   "metadata": {
    "tags": []
   },
   "outputs": [],
   "source": [
    "val_data = pd.read_csv(\"../kitt/DATA_progress3/split2/val/val.csv\")"
   ]
  },
  {
   "cell_type": "markdown",
   "id": "4139854c-d026-4bf0-a4d7-275444b1dfeb",
   "metadata": {
    "tags": []
   },
   "source": [
    "## param1"
   ]
  },
  {
   "cell_type": "code",
   "execution_count": 29,
   "id": "f5448250-10fb-4286-8068-234ba7bab4e3",
   "metadata": {
    "tags": []
   },
   "outputs": [
    {
     "name": "stdout",
     "output_type": "stream",
     "text": [
      "        id diagnosis  texture_mean  area_mean  smoothness_mean  \\\n",
      "62  855167         M         21.58      563.0          0.08162   \n",
      "\n",
      "    concavity_mean  symmetry_mean  fractal_dimension_mean  texture_se  \\\n",
      "62          0.0311         0.1784                 0.05587      0.8265   \n",
      "\n",
      "    area_se  smoothness_se  concavity_se  symmetry_se  fractal_dimension_se  \\\n",
      "62    20.53        0.00328        0.0139       0.0138              0.001286   \n",
      "\n",
      "    smoothness_worst  concavity_worst  symmetry_worst  fractal_dimension_worst  \n",
      "62            0.1094           0.2085          0.2994                  0.07146  \n"
     ]
    }
   ],
   "source": [
    "false_predict([62])"
   ]
  },
  {
   "cell_type": "markdown",
   "id": "1575ad01-6297-40bb-a44f-eeddcc6a3955",
   "metadata": {
    "tags": []
   },
   "source": [
    "## param2"
   ]
  },
  {
   "cell_type": "code",
   "execution_count": 30,
   "id": "53910e73-1e20-4759-b0c5-97350540ce07",
   "metadata": {
    "tags": []
   },
   "outputs": [
    {
     "name": "stdout",
     "output_type": "stream",
     "text": [
      "          id diagnosis  texture_mean  area_mean  smoothness_mean  \\\n",
      "5     925291         B         23.93      403.5          0.09261   \n",
      "62    855167         M         21.58      563.0          0.08162   \n",
      "63  91594602         M         19.07      701.9          0.09215   \n",
      "\n",
      "    concavity_mean  symmetry_mean  fractal_dimension_mean  texture_se  \\\n",
      "5          0.11120         0.1388                 0.06570      2.9040   \n",
      "62         0.03110         0.1784                 0.05587      0.8265   \n",
      "63         0.07486         0.1561                 0.05915      1.1980   \n",
      "\n",
      "    area_se  smoothness_se  concavity_se  symmetry_se  fractal_dimension_se  \\\n",
      "5     16.97       0.008200       0.05738      0.01488              0.004738   \n",
      "62    20.53       0.003280       0.01390      0.01380              0.001286   \n",
      "63    38.49       0.004952       0.02967      0.01152              0.001718   \n",
      "\n",
      "    smoothness_worst  concavity_worst  symmetry_worst  fractal_dimension_worst  \n",
      "5             0.1298           0.3630          0.2112                  0.08732  \n",
      "62            0.1094           0.2085          0.2994                  0.07146  \n",
      "63            0.1246           0.2866          0.2282                  0.06954  \n",
      "          id diagnosis  texture_mean  area_mean  smoothness_mean  \\\n",
      "5     925291         B         23.93      403.5          0.09261   \n",
      "62    855167         M         21.58      563.0          0.08162   \n",
      "63  91594602         M         19.07      701.9          0.09215   \n",
      "\n",
      "    concavity_mean  symmetry_mean  fractal_dimension_mean  texture_se  \\\n",
      "5          0.11120         0.1388                 0.06570      2.9040   \n",
      "62         0.03110         0.1784                 0.05587      0.8265   \n",
      "63         0.07486         0.1561                 0.05915      1.1980   \n",
      "\n",
      "    area_se  smoothness_se  concavity_se  symmetry_se  fractal_dimension_se  \\\n",
      "5     16.97       0.008200       0.05738      0.01488              0.004738   \n",
      "62    20.53       0.003280       0.01390      0.01380              0.001286   \n",
      "63    38.49       0.004952       0.02967      0.01152              0.001718   \n",
      "\n",
      "    smoothness_worst  concavity_worst  symmetry_worst  fractal_dimension_worst  \n",
      "5             0.1298           0.3630          0.2112                  0.08732  \n",
      "62            0.1094           0.2085          0.2994                  0.07146  \n",
      "63            0.1246           0.2866          0.2282                  0.06954  \n",
      "          id diagnosis  texture_mean  area_mean  smoothness_mean  \\\n",
      "5     925291         B         23.93      403.5          0.09261   \n",
      "62    855167         M         21.58      563.0          0.08162   \n",
      "63  91594602         M         19.07      701.9          0.09215   \n",
      "\n",
      "    concavity_mean  symmetry_mean  fractal_dimension_mean  texture_se  \\\n",
      "5          0.11120         0.1388                 0.06570      2.9040   \n",
      "62         0.03110         0.1784                 0.05587      0.8265   \n",
      "63         0.07486         0.1561                 0.05915      1.1980   \n",
      "\n",
      "    area_se  smoothness_se  concavity_se  symmetry_se  fractal_dimension_se  \\\n",
      "5     16.97       0.008200       0.05738      0.01488              0.004738   \n",
      "62    20.53       0.003280       0.01390      0.01380              0.001286   \n",
      "63    38.49       0.004952       0.02967      0.01152              0.001718   \n",
      "\n",
      "    smoothness_worst  concavity_worst  symmetry_worst  fractal_dimension_worst  \n",
      "5             0.1298           0.3630          0.2112                  0.08732  \n",
      "62            0.1094           0.2085          0.2994                  0.07146  \n",
      "63            0.1246           0.2866          0.2282                  0.06954  \n"
     ]
    }
   ],
   "source": [
    "false_predict([5, 62, 63])"
   ]
  },
  {
   "cell_type": "markdown",
   "id": "106667c0-e9df-4104-b7de-3ce06e500683",
   "metadata": {},
   "source": [
    "## param3"
   ]
  },
  {
   "cell_type": "code",
   "execution_count": 31,
   "id": "254ec18b-9b22-4678-811c-dc78c80ecda9",
   "metadata": {
    "tags": []
   },
   "outputs": [
    {
     "name": "stdout",
     "output_type": "stream",
     "text": [
      "        id diagnosis  texture_mean  area_mean  smoothness_mean  \\\n",
      "62  855167         M         21.58      563.0          0.08162   \n",
      "\n",
      "    concavity_mean  symmetry_mean  fractal_dimension_mean  texture_se  \\\n",
      "62          0.0311         0.1784                 0.05587      0.8265   \n",
      "\n",
      "    area_se  smoothness_se  concavity_se  symmetry_se  fractal_dimension_se  \\\n",
      "62    20.53        0.00328        0.0139       0.0138              0.001286   \n",
      "\n",
      "    smoothness_worst  concavity_worst  symmetry_worst  fractal_dimension_worst  \n",
      "62            0.1094           0.2085          0.2994                  0.07146  \n"
     ]
    }
   ],
   "source": [
    "false_predict([62])"
   ]
  },
  {
   "cell_type": "markdown",
   "id": "047f1177-ccc9-4670-bf5f-9a73800b95b8",
   "metadata": {
    "tags": []
   },
   "source": [
    "## param4"
   ]
  },
  {
   "cell_type": "code",
   "execution_count": 32,
   "id": "4a05d9f5-32f0-4f3e-a92c-273bf2551adc",
   "metadata": {
    "tags": []
   },
   "outputs": [
    {
     "name": "stdout",
     "output_type": "stream",
     "text": [
      "        id diagnosis  texture_mean  area_mean  smoothness_mean  \\\n",
      "62  855167         M         21.58      563.0          0.08162   \n",
      "\n",
      "    concavity_mean  symmetry_mean  fractal_dimension_mean  texture_se  \\\n",
      "62          0.0311         0.1784                 0.05587      0.8265   \n",
      "\n",
      "    area_se  smoothness_se  concavity_se  symmetry_se  fractal_dimension_se  \\\n",
      "62    20.53        0.00328        0.0139       0.0138              0.001286   \n",
      "\n",
      "    smoothness_worst  concavity_worst  symmetry_worst  fractal_dimension_worst  \n",
      "62            0.1094           0.2085          0.2994                  0.07146  \n"
     ]
    }
   ],
   "source": [
    "false_predict([62])"
   ]
  },
  {
   "cell_type": "markdown",
   "id": "28368ac6-0366-4ebc-a3d2-12c10a4d5050",
   "metadata": {
    "tags": []
   },
   "source": [
    "## param5"
   ]
  },
  {
   "cell_type": "code",
   "execution_count": 33,
   "id": "890cc1c5-8cd1-4327-8314-78f7203395cf",
   "metadata": {
    "tags": []
   },
   "outputs": [
    {
     "name": "stdout",
     "output_type": "stream",
     "text": [
      "        id diagnosis  texture_mean  area_mean  smoothness_mean  \\\n",
      "62  855167         M         21.58      563.0          0.08162   \n",
      "\n",
      "    concavity_mean  symmetry_mean  fractal_dimension_mean  texture_se  \\\n",
      "62          0.0311         0.1784                 0.05587      0.8265   \n",
      "\n",
      "    area_se  smoothness_se  concavity_se  symmetry_se  fractal_dimension_se  \\\n",
      "62    20.53        0.00328        0.0139       0.0138              0.001286   \n",
      "\n",
      "    smoothness_worst  concavity_worst  symmetry_worst  fractal_dimension_worst  \n",
      "62            0.1094           0.2085          0.2994                  0.07146  \n"
     ]
    }
   ],
   "source": [
    "false_predict([62])"
   ]
  },
  {
   "cell_type": "markdown",
   "id": "bbe4d546-69cb-48db-8c00-eb0183930bfd",
   "metadata": {
    "tags": [],
    "toc-hr-collapsed": true
   },
   "source": [
    "#  Split 3"
   ]
  },
  {
   "cell_type": "code",
   "execution_count": 34,
   "id": "fd9f0d3b-b6b0-410c-89b5-f609cbc130ab",
   "metadata": {
    "tags": []
   },
   "outputs": [],
   "source": [
    "val_data = pd.read_csv(\"../kitt/DATA_progress3/split3/val/val.csv\")"
   ]
  },
  {
   "cell_type": "markdown",
   "id": "fcee0909-d085-4301-b0a0-f113709a5459",
   "metadata": {
    "tags": []
   },
   "source": [
    "## param1"
   ]
  },
  {
   "cell_type": "code",
   "execution_count": 35,
   "id": "d36d13db-772d-43aa-beb7-1bc490d5062a",
   "metadata": {
    "tags": []
   },
   "outputs": [
    {
     "name": "stdout",
     "output_type": "stream",
     "text": [
      "        id diagnosis  texture_mean  area_mean  smoothness_mean  \\\n",
      "57  868202         M         22.47      506.3          0.09055   \n",
      "\n",
      "    concavity_mean  symmetry_mean  fractal_dimension_mean  texture_se  \\\n",
      "57         0.04711         0.1585                 0.06065        1.38   \n",
      "\n",
      "    area_se  smoothness_se  concavity_se  symmetry_se  fractal_dimension_se  \\\n",
      "57    19.87       0.007499       0.02332      0.01647              0.002629   \n",
      "\n",
      "    smoothness_worst  concavity_worst  symmetry_worst  fractal_dimension_worst  \n",
      "57            0.1419           0.2177          0.2829                  0.08067  \n"
     ]
    }
   ],
   "source": [
    "false_predict([57])"
   ]
  },
  {
   "cell_type": "markdown",
   "id": "555c573e-3e21-410f-a7c6-2a0ea7b71c40",
   "metadata": {
    "tags": []
   },
   "source": [
    "## param2"
   ]
  },
  {
   "cell_type": "code",
   "execution_count": 36,
   "id": "f77528ac-62bf-417c-9adf-087c11791bff",
   "metadata": {
    "tags": []
   },
   "outputs": [
    {
     "name": "stdout",
     "output_type": "stream",
     "text": [
      "         id diagnosis  texture_mean  area_mean  smoothness_mean  \\\n",
      "14  9112366         B         29.29      415.1          0.09357   \n",
      "57   868202         M         22.47      506.3          0.09055   \n",
      "\n",
      "    concavity_mean  symmetry_mean  fractal_dimension_mean  texture_se  \\\n",
      "14         0.07160         0.1799                 0.06166       2.426   \n",
      "57         0.04711         0.1585                 0.06065       1.380   \n",
      "\n",
      "    area_se  smoothness_se  concavity_se  symmetry_se  fractal_dimension_se  \\\n",
      "14    23.13       0.009861       0.04275      0.02475              0.002128   \n",
      "57    19.87       0.007499       0.02332      0.01647              0.002629   \n",
      "\n",
      "    smoothness_worst  concavity_worst  symmetry_worst  fractal_dimension_worst  \n",
      "14            0.1406           0.2923          0.2884                  0.07220  \n",
      "57            0.1419           0.2177          0.2829                  0.08067  \n",
      "         id diagnosis  texture_mean  area_mean  smoothness_mean  \\\n",
      "14  9112366         B         29.29      415.1          0.09357   \n",
      "57   868202         M         22.47      506.3          0.09055   \n",
      "\n",
      "    concavity_mean  symmetry_mean  fractal_dimension_mean  texture_se  \\\n",
      "14         0.07160         0.1799                 0.06166       2.426   \n",
      "57         0.04711         0.1585                 0.06065       1.380   \n",
      "\n",
      "    area_se  smoothness_se  concavity_se  symmetry_se  fractal_dimension_se  \\\n",
      "14    23.13       0.009861       0.04275      0.02475              0.002128   \n",
      "57    19.87       0.007499       0.02332      0.01647              0.002629   \n",
      "\n",
      "    smoothness_worst  concavity_worst  symmetry_worst  fractal_dimension_worst  \n",
      "14            0.1406           0.2923          0.2884                  0.07220  \n",
      "57            0.1419           0.2177          0.2829                  0.08067  \n"
     ]
    }
   ],
   "source": [
    "false_predict([14, 57])"
   ]
  },
  {
   "cell_type": "markdown",
   "id": "32451961-7fa2-4fb0-84cb-2d770b791916",
   "metadata": {
    "tags": []
   },
   "source": [
    "## param3"
   ]
  },
  {
   "cell_type": "code",
   "execution_count": 37,
   "id": "d73d224d-7d39-460b-b792-44872641fca8",
   "metadata": {
    "tags": []
   },
   "outputs": [
    {
     "name": "stdout",
     "output_type": "stream",
     "text": [
      "         id diagnosis  texture_mean  area_mean  smoothness_mean  \\\n",
      "14  9112366         B         29.29      415.1          0.09357   \n",
      "57   868202         M         22.47      506.3          0.09055   \n",
      "\n",
      "    concavity_mean  symmetry_mean  fractal_dimension_mean  texture_se  \\\n",
      "14         0.07160         0.1799                 0.06166       2.426   \n",
      "57         0.04711         0.1585                 0.06065       1.380   \n",
      "\n",
      "    area_se  smoothness_se  concavity_se  symmetry_se  fractal_dimension_se  \\\n",
      "14    23.13       0.009861       0.04275      0.02475              0.002128   \n",
      "57    19.87       0.007499       0.02332      0.01647              0.002629   \n",
      "\n",
      "    smoothness_worst  concavity_worst  symmetry_worst  fractal_dimension_worst  \n",
      "14            0.1406           0.2923          0.2884                  0.07220  \n",
      "57            0.1419           0.2177          0.2829                  0.08067  \n",
      "         id diagnosis  texture_mean  area_mean  smoothness_mean  \\\n",
      "14  9112366         B         29.29      415.1          0.09357   \n",
      "57   868202         M         22.47      506.3          0.09055   \n",
      "\n",
      "    concavity_mean  symmetry_mean  fractal_dimension_mean  texture_se  \\\n",
      "14         0.07160         0.1799                 0.06166       2.426   \n",
      "57         0.04711         0.1585                 0.06065       1.380   \n",
      "\n",
      "    area_se  smoothness_se  concavity_se  symmetry_se  fractal_dimension_se  \\\n",
      "14    23.13       0.009861       0.04275      0.02475              0.002128   \n",
      "57    19.87       0.007499       0.02332      0.01647              0.002629   \n",
      "\n",
      "    smoothness_worst  concavity_worst  symmetry_worst  fractal_dimension_worst  \n",
      "14            0.1406           0.2923          0.2884                  0.07220  \n",
      "57            0.1419           0.2177          0.2829                  0.08067  \n"
     ]
    }
   ],
   "source": [
    "false_predict([14, 57])"
   ]
  },
  {
   "cell_type": "markdown",
   "id": "00a9d2b5-eae7-4273-b97c-62ff3e0ebf69",
   "metadata": {
    "tags": []
   },
   "source": [
    "## param4"
   ]
  },
  {
   "cell_type": "code",
   "execution_count": 38,
   "id": "4b56282f-ce4b-444a-8988-daec6cf96b17",
   "metadata": {
    "tags": []
   },
   "outputs": [
    {
     "name": "stdout",
     "output_type": "stream",
     "text": [
      "          id diagnosis  texture_mean  area_mean  smoothness_mean  \\\n",
      "0   91376702         B         13.23      992.1          0.07838   \n",
      "13     86409         B         19.65      629.9          0.07837   \n",
      "32    924632         B         28.92      514.3          0.08123   \n",
      "57    868202         M         22.47      506.3          0.09055   \n",
      "\n",
      "    concavity_mean  symmetry_mean  fractal_dimension_mean  texture_se  \\\n",
      "0          0.04445         0.1220                 0.05243       1.046   \n",
      "13         0.30030         0.1704                 0.07769       1.490   \n",
      "32         0.06195         0.1566                 0.05708       1.360   \n",
      "57         0.04711         0.1585                 0.06065       1.380   \n",
      "\n",
      "    area_se  smoothness_se  concavity_se  symmetry_se  fractal_dimension_se  \\\n",
      "0     50.95       0.004369       0.01153      0.01302              0.001309   \n",
      "13    29.25       0.005298       0.14350      0.02566              0.012980   \n",
      "32    16.83       0.008412       0.03898      0.01695              0.002801   \n",
      "57    19.87       0.007499       0.02332      0.01647              0.002629   \n",
      "\n",
      "    smoothness_worst  concavity_worst  symmetry_worst  fractal_dimension_worst  \n",
      "0            0.09862           0.1048          0.1783                  0.05871  \n",
      "13           0.08949           0.6783          0.2398                  0.10820  \n",
      "32           0.12270           0.2439          0.2372                  0.07242  \n",
      "57           0.14190           0.2177          0.2829                  0.08067  \n",
      "          id diagnosis  texture_mean  area_mean  smoothness_mean  \\\n",
      "0   91376702         B         13.23      992.1          0.07838   \n",
      "13     86409         B         19.65      629.9          0.07837   \n",
      "32    924632         B         28.92      514.3          0.08123   \n",
      "57    868202         M         22.47      506.3          0.09055   \n",
      "\n",
      "    concavity_mean  symmetry_mean  fractal_dimension_mean  texture_se  \\\n",
      "0          0.04445         0.1220                 0.05243       1.046   \n",
      "13         0.30030         0.1704                 0.07769       1.490   \n",
      "32         0.06195         0.1566                 0.05708       1.360   \n",
      "57         0.04711         0.1585                 0.06065       1.380   \n",
      "\n",
      "    area_se  smoothness_se  concavity_se  symmetry_se  fractal_dimension_se  \\\n",
      "0     50.95       0.004369       0.01153      0.01302              0.001309   \n",
      "13    29.25       0.005298       0.14350      0.02566              0.012980   \n",
      "32    16.83       0.008412       0.03898      0.01695              0.002801   \n",
      "57    19.87       0.007499       0.02332      0.01647              0.002629   \n",
      "\n",
      "    smoothness_worst  concavity_worst  symmetry_worst  fractal_dimension_worst  \n",
      "0            0.09862           0.1048          0.1783                  0.05871  \n",
      "13           0.08949           0.6783          0.2398                  0.10820  \n",
      "32           0.12270           0.2439          0.2372                  0.07242  \n",
      "57           0.14190           0.2177          0.2829                  0.08067  \n",
      "          id diagnosis  texture_mean  area_mean  smoothness_mean  \\\n",
      "0   91376702         B         13.23      992.1          0.07838   \n",
      "13     86409         B         19.65      629.9          0.07837   \n",
      "32    924632         B         28.92      514.3          0.08123   \n",
      "57    868202         M         22.47      506.3          0.09055   \n",
      "\n",
      "    concavity_mean  symmetry_mean  fractal_dimension_mean  texture_se  \\\n",
      "0          0.04445         0.1220                 0.05243       1.046   \n",
      "13         0.30030         0.1704                 0.07769       1.490   \n",
      "32         0.06195         0.1566                 0.05708       1.360   \n",
      "57         0.04711         0.1585                 0.06065       1.380   \n",
      "\n",
      "    area_se  smoothness_se  concavity_se  symmetry_se  fractal_dimension_se  \\\n",
      "0     50.95       0.004369       0.01153      0.01302              0.001309   \n",
      "13    29.25       0.005298       0.14350      0.02566              0.012980   \n",
      "32    16.83       0.008412       0.03898      0.01695              0.002801   \n",
      "57    19.87       0.007499       0.02332      0.01647              0.002629   \n",
      "\n",
      "    smoothness_worst  concavity_worst  symmetry_worst  fractal_dimension_worst  \n",
      "0            0.09862           0.1048          0.1783                  0.05871  \n",
      "13           0.08949           0.6783          0.2398                  0.10820  \n",
      "32           0.12270           0.2439          0.2372                  0.07242  \n",
      "57           0.14190           0.2177          0.2829                  0.08067  \n",
      "          id diagnosis  texture_mean  area_mean  smoothness_mean  \\\n",
      "0   91376702         B         13.23      992.1          0.07838   \n",
      "13     86409         B         19.65      629.9          0.07837   \n",
      "32    924632         B         28.92      514.3          0.08123   \n",
      "57    868202         M         22.47      506.3          0.09055   \n",
      "\n",
      "    concavity_mean  symmetry_mean  fractal_dimension_mean  texture_se  \\\n",
      "0          0.04445         0.1220                 0.05243       1.046   \n",
      "13         0.30030         0.1704                 0.07769       1.490   \n",
      "32         0.06195         0.1566                 0.05708       1.360   \n",
      "57         0.04711         0.1585                 0.06065       1.380   \n",
      "\n",
      "    area_se  smoothness_se  concavity_se  symmetry_se  fractal_dimension_se  \\\n",
      "0     50.95       0.004369       0.01153      0.01302              0.001309   \n",
      "13    29.25       0.005298       0.14350      0.02566              0.012980   \n",
      "32    16.83       0.008412       0.03898      0.01695              0.002801   \n",
      "57    19.87       0.007499       0.02332      0.01647              0.002629   \n",
      "\n",
      "    smoothness_worst  concavity_worst  symmetry_worst  fractal_dimension_worst  \n",
      "0            0.09862           0.1048          0.1783                  0.05871  \n",
      "13           0.08949           0.6783          0.2398                  0.10820  \n",
      "32           0.12270           0.2439          0.2372                  0.07242  \n",
      "57           0.14190           0.2177          0.2829                  0.08067  \n"
     ]
    }
   ],
   "source": [
    "false_predict([0, 13, 32, 57])"
   ]
  },
  {
   "cell_type": "markdown",
   "id": "ab70864c-211d-4fe1-848a-4a1dd8c66f1a",
   "metadata": {
    "tags": []
   },
   "source": [
    "## param5"
   ]
  },
  {
   "cell_type": "code",
   "execution_count": 39,
   "id": "a733c562-627e-430e-be58-1944ac1b0dd5",
   "metadata": {
    "tags": []
   },
   "outputs": [
    {
     "name": "stdout",
     "output_type": "stream",
     "text": [
      "         id diagnosis  texture_mean  area_mean  smoothness_mean  \\\n",
      "14  9112366         B         29.29      415.1          0.09357   \n",
      "57   868202         M         22.47      506.3          0.09055   \n",
      "\n",
      "    concavity_mean  symmetry_mean  fractal_dimension_mean  texture_se  \\\n",
      "14         0.07160         0.1799                 0.06166       2.426   \n",
      "57         0.04711         0.1585                 0.06065       1.380   \n",
      "\n",
      "    area_se  smoothness_se  concavity_se  symmetry_se  fractal_dimension_se  \\\n",
      "14    23.13       0.009861       0.04275      0.02475              0.002128   \n",
      "57    19.87       0.007499       0.02332      0.01647              0.002629   \n",
      "\n",
      "    smoothness_worst  concavity_worst  symmetry_worst  fractal_dimension_worst  \n",
      "14            0.1406           0.2923          0.2884                  0.07220  \n",
      "57            0.1419           0.2177          0.2829                  0.08067  \n",
      "         id diagnosis  texture_mean  area_mean  smoothness_mean  \\\n",
      "14  9112366         B         29.29      415.1          0.09357   \n",
      "57   868202         M         22.47      506.3          0.09055   \n",
      "\n",
      "    concavity_mean  symmetry_mean  fractal_dimension_mean  texture_se  \\\n",
      "14         0.07160         0.1799                 0.06166       2.426   \n",
      "57         0.04711         0.1585                 0.06065       1.380   \n",
      "\n",
      "    area_se  smoothness_se  concavity_se  symmetry_se  fractal_dimension_se  \\\n",
      "14    23.13       0.009861       0.04275      0.02475              0.002128   \n",
      "57    19.87       0.007499       0.02332      0.01647              0.002629   \n",
      "\n",
      "    smoothness_worst  concavity_worst  symmetry_worst  fractal_dimension_worst  \n",
      "14            0.1406           0.2923          0.2884                  0.07220  \n",
      "57            0.1419           0.2177          0.2829                  0.08067  \n"
     ]
    }
   ],
   "source": [
    "false_predict([14, 57])"
   ]
  },
  {
   "cell_type": "markdown",
   "id": "289c4872-4492-4884-8439-90c9c7c8112e",
   "metadata": {
    "tags": [],
    "toc-hr-collapsed": true
   },
   "source": [
    "#  Split 4"
   ]
  },
  {
   "cell_type": "code",
   "execution_count": 40,
   "id": "687a67b1-74e7-48ce-b300-00851a29a5b8",
   "metadata": {
    "tags": []
   },
   "outputs": [],
   "source": [
    "val_data = pd.read_csv(\"../kitt/DATA_progress3/split4/val/val.csv\")"
   ]
  },
  {
   "cell_type": "markdown",
   "id": "f951c036-871e-4063-ba2a-a77245d1bb3b",
   "metadata": {
    "tags": []
   },
   "source": [
    "## param1"
   ]
  },
  {
   "cell_type": "code",
   "execution_count": 41,
   "id": "42898b94-5738-4f28-9a62-0355e204772f",
   "metadata": {
    "tags": []
   },
   "outputs": [
    {
     "name": "stdout",
     "output_type": "stream",
     "text": [
      "        id diagnosis  texture_mean  area_mean  smoothness_mean  \\\n",
      "3  8810158         B         22.54      529.4           0.1002   \n",
      "\n",
      "   concavity_mean  symmetry_mean  fractal_dimension_mean  texture_se  area_se  \\\n",
      "3         0.08705          0.185                  0.0731      0.9223    15.09   \n",
      "\n",
      "   smoothness_se  concavity_se  symmetry_se  fractal_dimension_se  \\\n",
      "3       0.005251       0.02526      0.02514              0.004198   \n",
      "\n",
      "   smoothness_worst  concavity_worst  symmetry_worst  fractal_dimension_worst  \n",
      "3            0.1349           0.3162          0.4128                   0.1076  \n"
     ]
    }
   ],
   "source": [
    "false_predict([3])"
   ]
  },
  {
   "cell_type": "markdown",
   "id": "fe944310-8299-4043-ac9d-7e9419bb6202",
   "metadata": {
    "tags": []
   },
   "source": [
    "## param2"
   ]
  },
  {
   "cell_type": "code",
   "execution_count": 42,
   "id": "f81844ad-c08d-45e9-aa98-4146f65f4d0f",
   "metadata": {
    "tags": []
   },
   "outputs": [
    {
     "name": "stdout",
     "output_type": "stream",
     "text": [
      "         id diagnosis  texture_mean  area_mean  smoothness_mean  \\\n",
      "3   8810158         B         22.54      529.4          0.10020   \n",
      "25    89813         B         16.54      641.2          0.09751   \n",
      "\n",
      "    concavity_mean  symmetry_mean  fractal_dimension_mean  texture_se  \\\n",
      "3          0.08705         0.1850                 0.07310      0.9223   \n",
      "25         0.08007         0.1912                 0.06412      0.7706   \n",
      "\n",
      "    area_se  smoothness_se  concavity_se  symmetry_se  fractal_dimension_se  \\\n",
      "3     15.09       0.005251       0.02526      0.02514              0.004198   \n",
      "25    32.14       0.004577       0.03840      0.01873              0.003373   \n",
      "\n",
      "    smoothness_worst  concavity_worst  symmetry_worst  fractal_dimension_worst  \n",
      "3             0.1349           0.3162          0.4128                  0.10760  \n",
      "25            0.1294           0.3755          0.3053                  0.08764  \n",
      "         id diagnosis  texture_mean  area_mean  smoothness_mean  \\\n",
      "3   8810158         B         22.54      529.4          0.10020   \n",
      "25    89813         B         16.54      641.2          0.09751   \n",
      "\n",
      "    concavity_mean  symmetry_mean  fractal_dimension_mean  texture_se  \\\n",
      "3          0.08705         0.1850                 0.07310      0.9223   \n",
      "25         0.08007         0.1912                 0.06412      0.7706   \n",
      "\n",
      "    area_se  smoothness_se  concavity_se  symmetry_se  fractal_dimension_se  \\\n",
      "3     15.09       0.005251       0.02526      0.02514              0.004198   \n",
      "25    32.14       0.004577       0.03840      0.01873              0.003373   \n",
      "\n",
      "    smoothness_worst  concavity_worst  symmetry_worst  fractal_dimension_worst  \n",
      "3             0.1349           0.3162          0.4128                  0.10760  \n",
      "25            0.1294           0.3755          0.3053                  0.08764  \n"
     ]
    }
   ],
   "source": [
    "false_predict([3, 25])"
   ]
  },
  {
   "cell_type": "markdown",
   "id": "dc6c3fcd-bb7c-4706-b3b6-767e900868fd",
   "metadata": {
    "tags": []
   },
   "source": [
    "## param3"
   ]
  },
  {
   "cell_type": "code",
   "execution_count": 43,
   "id": "a665c55c-4e31-402e-868d-d004fc6bdd9d",
   "metadata": {
    "tags": []
   },
   "outputs": [
    {
     "name": "stdout",
     "output_type": "stream",
     "text": [
      "         id diagnosis  texture_mean  area_mean  smoothness_mean  \\\n",
      "3   8810158         B         22.54      529.4           0.1002   \n",
      "29   914366         B         18.17      485.6           0.1076   \n",
      "\n",
      "    concavity_mean  symmetry_mean  fractal_dimension_mean  texture_se  \\\n",
      "3          0.08705         0.1850                 0.07310      0.9223   \n",
      "29         0.08017         0.1641                 0.06854      0.6332   \n",
      "\n",
      "    area_se  smoothness_se  concavity_se  symmetry_se  fractal_dimension_se  \\\n",
      "3     15.09       0.005251       0.02526      0.02514              0.004198   \n",
      "29    18.40       0.005704       0.02636      0.01759              0.003563   \n",
      "\n",
      "    smoothness_worst  concavity_worst  symmetry_worst  fractal_dimension_worst  \n",
      "3             0.1349           0.3162          0.4128                   0.1076  \n",
      "29            0.1533           0.3582          0.3230                   0.1033  \n",
      "         id diagnosis  texture_mean  area_mean  smoothness_mean  \\\n",
      "3   8810158         B         22.54      529.4           0.1002   \n",
      "29   914366         B         18.17      485.6           0.1076   \n",
      "\n",
      "    concavity_mean  symmetry_mean  fractal_dimension_mean  texture_se  \\\n",
      "3          0.08705         0.1850                 0.07310      0.9223   \n",
      "29         0.08017         0.1641                 0.06854      0.6332   \n",
      "\n",
      "    area_se  smoothness_se  concavity_se  symmetry_se  fractal_dimension_se  \\\n",
      "3     15.09       0.005251       0.02526      0.02514              0.004198   \n",
      "29    18.40       0.005704       0.02636      0.01759              0.003563   \n",
      "\n",
      "    smoothness_worst  concavity_worst  symmetry_worst  fractal_dimension_worst  \n",
      "3             0.1349           0.3162          0.4128                   0.1076  \n",
      "29            0.1533           0.3582          0.3230                   0.1033  \n"
     ]
    }
   ],
   "source": [
    "false_predict([3, 29])"
   ]
  },
  {
   "cell_type": "markdown",
   "id": "834b2f4c-7bc1-46b6-93d3-c55eca4c62a7",
   "metadata": {
    "tags": []
   },
   "source": [
    "## param4"
   ]
  },
  {
   "cell_type": "code",
   "execution_count": 44,
   "id": "2d1d88d8-d6b8-4c13-8002-651599330ca8",
   "metadata": {
    "tags": []
   },
   "outputs": [
    {
     "name": "stdout",
     "output_type": "stream",
     "text": [
      "        id diagnosis  texture_mean  area_mean  smoothness_mean  \\\n",
      "3  8810158         B         22.54      529.4           0.1002   \n",
      "\n",
      "   concavity_mean  symmetry_mean  fractal_dimension_mean  texture_se  area_se  \\\n",
      "3         0.08705          0.185                  0.0731      0.9223    15.09   \n",
      "\n",
      "   smoothness_se  concavity_se  symmetry_se  fractal_dimension_se  \\\n",
      "3       0.005251       0.02526      0.02514              0.004198   \n",
      "\n",
      "   smoothness_worst  concavity_worst  symmetry_worst  fractal_dimension_worst  \n",
      "3            0.1349           0.3162          0.4128                   0.1076  \n"
     ]
    }
   ],
   "source": [
    "false_predict([3])"
   ]
  },
  {
   "cell_type": "markdown",
   "id": "60589b0d-20af-4a27-8431-0ec8101c9987",
   "metadata": {
    "tags": []
   },
   "source": [
    "## param5"
   ]
  },
  {
   "cell_type": "code",
   "execution_count": 45,
   "id": "f2de8ef1-975a-4eff-9b59-38126a13f28d",
   "metadata": {
    "tags": []
   },
   "outputs": [
    {
     "name": "stdout",
     "output_type": "stream",
     "text": [
      "        id diagnosis  texture_mean  area_mean  smoothness_mean  \\\n",
      "3  8810158         B         22.54      529.4           0.1002   \n",
      "\n",
      "   concavity_mean  symmetry_mean  fractal_dimension_mean  texture_se  area_se  \\\n",
      "3         0.08705          0.185                  0.0731      0.9223    15.09   \n",
      "\n",
      "   smoothness_se  concavity_se  symmetry_se  fractal_dimension_se  \\\n",
      "3       0.005251       0.02526      0.02514              0.004198   \n",
      "\n",
      "   smoothness_worst  concavity_worst  symmetry_worst  fractal_dimension_worst  \n",
      "3            0.1349           0.3162          0.4128                   0.1076  \n"
     ]
    }
   ],
   "source": [
    "false_predict([3])"
   ]
  },
  {
   "cell_type": "markdown",
   "id": "92005c8a-52bb-41e9-9d06-d2ccbd42cc56",
   "metadata": {
    "tags": [],
    "toc-hr-collapsed": true
   },
   "source": [
    "#  Split 5"
   ]
  },
  {
   "cell_type": "code",
   "execution_count": 46,
   "id": "91a272f8-69ce-4668-8f27-835560a8d5c3",
   "metadata": {
    "tags": []
   },
   "outputs": [],
   "source": [
    "val_data = pd.read_csv(\"../kitt/DATA_progress3/split5/val/val.csv\")"
   ]
  },
  {
   "cell_type": "markdown",
   "id": "b144debc-8488-4c18-a4c9-fb5c2bfef63b",
   "metadata": {
    "tags": []
   },
   "source": [
    "## param1"
   ]
  },
  {
   "cell_type": "code",
   "execution_count": 47,
   "id": "70aa475f-79c9-4ee8-ae54-e4f776ac415b",
   "metadata": {
    "tags": []
   },
   "outputs": [
    {
     "name": "stdout",
     "output_type": "stream",
     "text": [
      "         id diagnosis  texture_mean  area_mean  smoothness_mean  \\\n",
      "35  9113455         B         20.74      536.9          0.08675   \n",
      "79   868202         M         22.47      506.3          0.09055   \n",
      "\n",
      "    concavity_mean  symmetry_mean  fractal_dimension_mean  texture_se  \\\n",
      "35         0.10850         0.1562                 0.06020      0.7884   \n",
      "79         0.04711         0.1585                 0.06065      1.3800   \n",
      "\n",
      "    area_se  smoothness_se  concavity_se  symmetry_se  fractal_dimension_se  \\\n",
      "35    27.40       0.007295       0.04615      0.01561              0.003230   \n",
      "79    19.87       0.007499       0.02332      0.01647              0.002629   \n",
      "\n",
      "    smoothness_worst  concavity_worst  symmetry_worst  fractal_dimension_worst  \n",
      "35            0.1351           0.4504          0.2563                  0.08174  \n",
      "79            0.1419           0.2177          0.2829                  0.08067  \n",
      "         id diagnosis  texture_mean  area_mean  smoothness_mean  \\\n",
      "35  9113455         B         20.74      536.9          0.08675   \n",
      "79   868202         M         22.47      506.3          0.09055   \n",
      "\n",
      "    concavity_mean  symmetry_mean  fractal_dimension_mean  texture_se  \\\n",
      "35         0.10850         0.1562                 0.06020      0.7884   \n",
      "79         0.04711         0.1585                 0.06065      1.3800   \n",
      "\n",
      "    area_se  smoothness_se  concavity_se  symmetry_se  fractal_dimension_se  \\\n",
      "35    27.40       0.007295       0.04615      0.01561              0.003230   \n",
      "79    19.87       0.007499       0.02332      0.01647              0.002629   \n",
      "\n",
      "    smoothness_worst  concavity_worst  symmetry_worst  fractal_dimension_worst  \n",
      "35            0.1351           0.4504          0.2563                  0.08174  \n",
      "79            0.1419           0.2177          0.2829                  0.08067  \n"
     ]
    }
   ],
   "source": [
    "false_predict([35, 79])"
   ]
  },
  {
   "cell_type": "markdown",
   "id": "66922a69-d33d-45f7-9349-cb292a5950fa",
   "metadata": {
    "tags": []
   },
   "source": [
    "## param2"
   ]
  },
  {
   "cell_type": "code",
   "execution_count": 48,
   "id": "6fa986ac-66b0-438f-8bdf-7b3173ac7e98",
   "metadata": {
    "tags": []
   },
   "outputs": [
    {
     "name": "stdout",
     "output_type": "stream",
     "text": [
      "         id diagnosis  texture_mean  area_mean  smoothness_mean  \\\n",
      "35  9113455         B         20.74      536.9          0.08675   \n",
      "79   868202         M         22.47      506.3          0.09055   \n",
      "\n",
      "    concavity_mean  symmetry_mean  fractal_dimension_mean  texture_se  \\\n",
      "35         0.10850         0.1562                 0.06020      0.7884   \n",
      "79         0.04711         0.1585                 0.06065      1.3800   \n",
      "\n",
      "    area_se  smoothness_se  concavity_se  symmetry_se  fractal_dimension_se  \\\n",
      "35    27.40       0.007295       0.04615      0.01561              0.003230   \n",
      "79    19.87       0.007499       0.02332      0.01647              0.002629   \n",
      "\n",
      "    smoothness_worst  concavity_worst  symmetry_worst  fractal_dimension_worst  \n",
      "35            0.1351           0.4504          0.2563                  0.08174  \n",
      "79            0.1419           0.2177          0.2829                  0.08067  \n",
      "         id diagnosis  texture_mean  area_mean  smoothness_mean  \\\n",
      "35  9113455         B         20.74      536.9          0.08675   \n",
      "79   868202         M         22.47      506.3          0.09055   \n",
      "\n",
      "    concavity_mean  symmetry_mean  fractal_dimension_mean  texture_se  \\\n",
      "35         0.10850         0.1562                 0.06020      0.7884   \n",
      "79         0.04711         0.1585                 0.06065      1.3800   \n",
      "\n",
      "    area_se  smoothness_se  concavity_se  symmetry_se  fractal_dimension_se  \\\n",
      "35    27.40       0.007295       0.04615      0.01561              0.003230   \n",
      "79    19.87       0.007499       0.02332      0.01647              0.002629   \n",
      "\n",
      "    smoothness_worst  concavity_worst  symmetry_worst  fractal_dimension_worst  \n",
      "35            0.1351           0.4504          0.2563                  0.08174  \n",
      "79            0.1419           0.2177          0.2829                  0.08067  \n"
     ]
    }
   ],
   "source": [
    "false_predict([35, 79])"
   ]
  },
  {
   "cell_type": "markdown",
   "id": "ec9ee234-2e29-4992-9d41-10d1e213387a",
   "metadata": {
    "tags": []
   },
   "source": [
    "## param3"
   ]
  },
  {
   "cell_type": "code",
   "execution_count": 49,
   "id": "174292b9-2a90-484e-b1a6-d497e2641c20",
   "metadata": {
    "tags": []
   },
   "outputs": [
    {
     "name": "stdout",
     "output_type": "stream",
     "text": [
      "         id diagnosis  texture_mean  area_mean  smoothness_mean  \\\n",
      "35  9113455         B         20.74      536.9          0.08675   \n",
      "79   868202         M         22.47      506.3          0.09055   \n",
      "\n",
      "    concavity_mean  symmetry_mean  fractal_dimension_mean  texture_se  \\\n",
      "35         0.10850         0.1562                 0.06020      0.7884   \n",
      "79         0.04711         0.1585                 0.06065      1.3800   \n",
      "\n",
      "    area_se  smoothness_se  concavity_se  symmetry_se  fractal_dimension_se  \\\n",
      "35    27.40       0.007295       0.04615      0.01561              0.003230   \n",
      "79    19.87       0.007499       0.02332      0.01647              0.002629   \n",
      "\n",
      "    smoothness_worst  concavity_worst  symmetry_worst  fractal_dimension_worst  \n",
      "35            0.1351           0.4504          0.2563                  0.08174  \n",
      "79            0.1419           0.2177          0.2829                  0.08067  \n",
      "         id diagnosis  texture_mean  area_mean  smoothness_mean  \\\n",
      "35  9113455         B         20.74      536.9          0.08675   \n",
      "79   868202         M         22.47      506.3          0.09055   \n",
      "\n",
      "    concavity_mean  symmetry_mean  fractal_dimension_mean  texture_se  \\\n",
      "35         0.10850         0.1562                 0.06020      0.7884   \n",
      "79         0.04711         0.1585                 0.06065      1.3800   \n",
      "\n",
      "    area_se  smoothness_se  concavity_se  symmetry_se  fractal_dimension_se  \\\n",
      "35    27.40       0.007295       0.04615      0.01561              0.003230   \n",
      "79    19.87       0.007499       0.02332      0.01647              0.002629   \n",
      "\n",
      "    smoothness_worst  concavity_worst  symmetry_worst  fractal_dimension_worst  \n",
      "35            0.1351           0.4504          0.2563                  0.08174  \n",
      "79            0.1419           0.2177          0.2829                  0.08067  \n"
     ]
    }
   ],
   "source": [
    "false_predict([35, 79])"
   ]
  },
  {
   "cell_type": "markdown",
   "id": "b9c13c93-a604-46fd-b411-cfd6f40d3ec5",
   "metadata": {
    "tags": []
   },
   "source": [
    "## param4"
   ]
  },
  {
   "cell_type": "code",
   "execution_count": 50,
   "id": "d74e5cf1-a2c7-4037-8c3b-cbdb4d640fe4",
   "metadata": {
    "tags": []
   },
   "outputs": [
    {
     "name": "stdout",
     "output_type": "stream",
     "text": [
      "         id diagnosis  texture_mean  area_mean  smoothness_mean  \\\n",
      "62  8810987         M         16.93      578.9          0.10260   \n",
      "79   868202         M         22.47      506.3          0.09055   \n",
      "\n",
      "    concavity_mean  symmetry_mean  fractal_dimension_mean  texture_se  \\\n",
      "62         0.09901         0.2106                 0.06916       1.194   \n",
      "79         0.04711         0.1585                 0.06065       1.380   \n",
      "\n",
      "    area_se  smoothness_se  concavity_se  symmetry_se  fractal_dimension_se  \\\n",
      "62    22.69       0.005960       0.03909      0.01939              0.004560   \n",
      "79    19.87       0.007499       0.02332      0.01647              0.002629   \n",
      "\n",
      "    smoothness_worst  concavity_worst  symmetry_worst  fractal_dimension_worst  \n",
      "62            0.1460           0.4636          0.3630                  0.10590  \n",
      "79            0.1419           0.2177          0.2829                  0.08067  \n",
      "         id diagnosis  texture_mean  area_mean  smoothness_mean  \\\n",
      "62  8810987         M         16.93      578.9          0.10260   \n",
      "79   868202         M         22.47      506.3          0.09055   \n",
      "\n",
      "    concavity_mean  symmetry_mean  fractal_dimension_mean  texture_se  \\\n",
      "62         0.09901         0.2106                 0.06916       1.194   \n",
      "79         0.04711         0.1585                 0.06065       1.380   \n",
      "\n",
      "    area_se  smoothness_se  concavity_se  symmetry_se  fractal_dimension_se  \\\n",
      "62    22.69       0.005960       0.03909      0.01939              0.004560   \n",
      "79    19.87       0.007499       0.02332      0.01647              0.002629   \n",
      "\n",
      "    smoothness_worst  concavity_worst  symmetry_worst  fractal_dimension_worst  \n",
      "62            0.1460           0.4636          0.3630                  0.10590  \n",
      "79            0.1419           0.2177          0.2829                  0.08067  \n"
     ]
    }
   ],
   "source": [
    "false_predict([62, 79])"
   ]
  },
  {
   "cell_type": "markdown",
   "id": "53841d14-5e9f-4a2c-88ff-2ea61534a89e",
   "metadata": {
    "tags": []
   },
   "source": [
    "## param5"
   ]
  },
  {
   "cell_type": "code",
   "execution_count": 51,
   "id": "44808624-ca75-4e8a-85db-a078e71b7fba",
   "metadata": {
    "tags": []
   },
   "outputs": [
    {
     "name": "stdout",
     "output_type": "stream",
     "text": [
      "         id diagnosis  texture_mean  area_mean  smoothness_mean  \\\n",
      "35  9113455         B         20.74      536.9          0.08675   \n",
      "79   868202         M         22.47      506.3          0.09055   \n",
      "\n",
      "    concavity_mean  symmetry_mean  fractal_dimension_mean  texture_se  \\\n",
      "35         0.10850         0.1562                 0.06020      0.7884   \n",
      "79         0.04711         0.1585                 0.06065      1.3800   \n",
      "\n",
      "    area_se  smoothness_se  concavity_se  symmetry_se  fractal_dimension_se  \\\n",
      "35    27.40       0.007295       0.04615      0.01561              0.003230   \n",
      "79    19.87       0.007499       0.02332      0.01647              0.002629   \n",
      "\n",
      "    smoothness_worst  concavity_worst  symmetry_worst  fractal_dimension_worst  \n",
      "35            0.1351           0.4504          0.2563                  0.08174  \n",
      "79            0.1419           0.2177          0.2829                  0.08067  \n",
      "         id diagnosis  texture_mean  area_mean  smoothness_mean  \\\n",
      "35  9113455         B         20.74      536.9          0.08675   \n",
      "79   868202         M         22.47      506.3          0.09055   \n",
      "\n",
      "    concavity_mean  symmetry_mean  fractal_dimension_mean  texture_se  \\\n",
      "35         0.10850         0.1562                 0.06020      0.7884   \n",
      "79         0.04711         0.1585                 0.06065      1.3800   \n",
      "\n",
      "    area_se  smoothness_se  concavity_se  symmetry_se  fractal_dimension_se  \\\n",
      "35    27.40       0.007295       0.04615      0.01561              0.003230   \n",
      "79    19.87       0.007499       0.02332      0.01647              0.002629   \n",
      "\n",
      "    smoothness_worst  concavity_worst  symmetry_worst  fractal_dimension_worst  \n",
      "35            0.1351           0.4504          0.2563                  0.08174  \n",
      "79            0.1419           0.2177          0.2829                  0.08067  \n"
     ]
    }
   ],
   "source": [
    "false_predict([35, 79])"
   ]
  },
  {
   "cell_type": "code",
   "execution_count": null,
   "id": "8cc84ef2-d55d-4e4c-8b08-bd88315c9c7e",
   "metadata": {},
   "outputs": [],
   "source": []
  },
  {
   "cell_type": "code",
   "execution_count": null,
   "id": "e99e9dcb-6ffc-4d87-9e9f-e49f25a794da",
   "metadata": {},
   "outputs": [],
   "source": []
  },
  {
   "cell_type": "code",
   "execution_count": null,
   "id": "d83556b7-2c2d-49ce-a873-7d52ba4a8311",
   "metadata": {},
   "outputs": [],
   "source": []
  },
  {
   "cell_type": "code",
   "execution_count": null,
   "id": "326e206f-ee51-411e-a26f-5f6e77b586eb",
   "metadata": {},
   "outputs": [],
   "source": []
  }
 ],
 "metadata": {
  "kernelspec": {
   "display_name": "Python 3 (ipykernel)",
   "language": "python",
   "name": "python3"
  },
  "language_info": {
   "codemirror_mode": {
    "name": "ipython",
    "version": 3
   },
   "file_extension": ".py",
   "mimetype": "text/x-python",
   "name": "python",
   "nbconvert_exporter": "python",
   "pygments_lexer": "ipython3",
   "version": "3.11.2"
  }
 },
 "nbformat": 4,
 "nbformat_minor": 5
}
