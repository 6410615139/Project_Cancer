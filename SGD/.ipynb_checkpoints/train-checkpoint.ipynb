{
 "cells": [
  {
   "cell_type": "code",
   "execution_count": 1,
   "id": "6f7b6c7c",
   "metadata": {},
   "outputs": [],
   "source": [
    "import numpy as np \n",
    "import pandas as pd \n",
    "import matplotlib.pyplot as plt\n",
    "import seaborn as sns\n",
    "from sklearn import metrics\n",
    "from sklearn.metrics import confusion_matrix\n",
    "from sklearn.metrics import classification_report,confusion_matrix,accuracy_score,plot_confusion_matrix"
   ]
  },
  {
   "cell_type": "code",
   "execution_count": 2,
   "id": "49b355cf",
   "metadata": {},
   "outputs": [],
   "source": [
    "split1 = pd.read_csv('data/split1_train.csv')\n",
    "split1 = split1.drop('Unnamed: 0',axis=1)\n",
    "split1 = split1.drop(['smoothness_se', 'fractal_dimension_mean', 'texture_se', 'symmetry_se',\n",
    "       'fractal_dimension_se', 'concavity_se', 'compactness_se',\n",
    "       'fractal_dimension_worst', 'symmetry_mean', 'smoothness_mean',\n",
    "       'concave points_se', 'texture_mean', 'symmetry_worst',\n",
    "       'smoothness_worst', 'texture_worst', 'area_se', 'perimeter_se',\n",
    "       'radius_se'],axis=1)\n",
    "split1 = split1.replace(to_replace=['B','M'],value=[0,1])"
   ]
  },
  {
   "cell_type": "code",
   "execution_count": 3,
   "id": "88752223",
   "metadata": {},
   "outputs": [],
   "source": [
    "test = pd.read_csv('data/test.csv')\n",
    "test = test.drop('Unnamed: 0',axis=1)\n",
    "test = test.drop(['smoothness_se', 'fractal_dimension_mean', 'texture_se', 'symmetry_se',\n",
    "       'fractal_dimension_se', 'concavity_se', 'compactness_se',\n",
    "       'fractal_dimension_worst', 'symmetry_mean', 'smoothness_mean',\n",
    "       'concave points_se', 'texture_mean', 'symmetry_worst',\n",
    "       'smoothness_worst', 'texture_worst', 'area_se', 'perimeter_se',\n",
    "       'radius_se'],axis=1)\n",
    "test = test.replace(to_replace=['B','M'],value=[0,1])"
   ]
  },
  {
   "cell_type": "code",
   "execution_count": 115,
   "id": "d2779d28",
   "metadata": {},
   "outputs": [],
   "source": [
    "val = pd.read_csv('data/f5.csv')\n",
    "val = val.drop('Unnamed: 0',axis=1)\n",
    "val = val.drop(['smoothness_se', 'fractal_dimension_mean', 'texture_se', 'symmetry_se',\n",
    "       'fractal_dimension_se', 'concavity_se', 'compactness_se',\n",
    "       'fractal_dimension_worst', 'symmetry_mean', 'smoothness_mean',\n",
    "       'concave points_se', 'texture_mean', 'symmetry_worst',\n",
    "       'smoothness_worst', 'texture_worst', 'area_se', 'perimeter_se',\n",
    "       'radius_se'],axis=1)\n",
    "val = val.replace(to_replace=['B','M'],value=[0,1])"
   ]
  },
  {
   "cell_type": "code",
   "execution_count": 116,
   "id": "dd91f00a",
   "metadata": {},
   "outputs": [],
   "source": [
    "from sklearn.svm import SVC"
   ]
  },
  {
   "cell_type": "code",
   "execution_count": 117,
   "id": "fe3a616a",
   "metadata": {},
   "outputs": [],
   "source": [
    "x_train = split1.drop('diagnosis',axis=1)\n",
    "y_train = split1['diagnosis']\n",
    "x_test = val.drop('diagnosis',axis=1)\n",
    "y_test = val['diagnosis']\n",
    "x_final_test = test.drop('diagnosis',axis=1)\n",
    "y_final_test = test['diagnosis']"
   ]
  },
  {
   "cell_type": "code",
   "execution_count": 118,
   "id": "59784139",
   "metadata": {},
   "outputs": [],
   "source": [
    "from sklearn.preprocessing import StandardScaler"
   ]
  },
  {
   "cell_type": "code",
   "execution_count": 119,
   "id": "01fc8dbc",
   "metadata": {},
   "outputs": [],
   "source": [
    "scaler = StandardScaler()"
   ]
  },
  {
   "cell_type": "code",
   "execution_count": 445,
   "id": "4eaba155",
   "metadata": {},
   "outputs": [],
   "source": [
    "scaled_X_train = scaler.fit_transform(x_train) # fit  buffer mean = 10 std =\n",
    "scaled_X_test = scaler.transform(x_test)"
   ]
  },
  {
   "cell_type": "code",
   "execution_count": 410,
   "id": "2f8657a1",
   "metadata": {},
   "outputs": [],
   "source": [
    "from sklearn.model_selection import GridSearchCV\n",
    "from sklearn.ensemble import GradientBoostingClassifier\n",
    "from sklearn.neighbors import KNeighborsClassifier\n",
    "from sklearn.linear_model import LogisticRegression\n",
    "from sklearn.ensemble import AdaBoostClassifier"
   ]
  },
  {
   "cell_type": "code",
   "execution_count": 175,
   "id": "62e49cc6",
   "metadata": {},
   "outputs": [
    {
     "name": "stdout",
     "output_type": "stream",
     "text": [
      "Fitting 3 folds for each of 1 candidates, totalling 3 fits\n",
      "[CV] END .............................model__n_estimators=50; total time=   0.0s\n",
      "[CV] END .............................model__n_estimators=50; total time=   0.0s\n",
      "[CV] END .............................model__n_estimators=50; total time=   0.0s\n",
      "Best parameters:  {'model__n_estimators': 50}\n",
      "Best score:  0.9464720194647201\n"
     ]
    }
   ],
   "source": [
    "from sklearn.pipeline import Pipeline\n",
    "from sklearn.preprocessing import StandardScaler\n",
    "from sklearn.svm import SVC\n",
    "from sklearn.model_selection import GridSearchCV\n",
    "\n",
    "# Create a pipeline with the scaler and the model\n",
    "pipe = Pipeline([\n",
    "    ('scaler', StandardScaler()),\n",
    "    ('model', LogisticRegression())\n",
    "])\n",
    "\n",
    "# Define the parameter grid for GridSearchCV\n",
    "# param_grid = {\n",
    "#     'model__C': np.linspace(0.001,1,1000),\n",
    "#     'model__kernel': ['linear', 'poly', 'rbf', 'sigmoid'],\n",
    "#     'model__degree': [3, 4, 5],\n",
    "#     'model__gamma': ['scale', 'auto'],\n",
    "#     'model__class_weight': ['dict', 'balanced', None],\n",
    "#     'model__max_iter': [216000]\n",
    "# }\n",
    "# param_grid = {\n",
    "#      'model__algorithm': ['auto'],\n",
    "#      'model__leaf_size': [20],\n",
    "#      'model__n_neighbors': [4],\n",
    "#      'model__weights': ['distance']\n",
    "# }\n",
    "# param_grid = {\n",
    "#      'model__algorithm': ['auto'],\n",
    "#      'model__leaf_size': [20],\n",
    "#      'model__n_neighbors': [6],\n",
    "#      'model__weights': ['distance']\n",
    "# }\n",
    "\n",
    "# Create a GridSearchCV object\n",
    "grid = GridSearchCV(pipe, param_grid,verbose=2,cv=3)\n",
    "\n",
    "# Fit the GridSearchCV object to the training data\n",
    "\n",
    "grid.fit(x_train, y_train)\n",
    "\n",
    "# Print the best parameters and score\n",
    "print(\"Best parameters: \", grid.best_params_)\n",
    "print(\"Best score: \", grid.best_score_)"
   ]
  },
  {
   "cell_type": "code",
   "execution_count": 2,
   "id": "ceb7eb6b",
   "metadata": {},
   "outputs": [],
   "source": [
    "from joblib import dump, load"
   ]
  },
  {
   "cell_type": "code",
   "execution_count": 3,
   "id": "e2ad8c85",
   "metadata": {},
   "outputs": [],
   "source": [
    "# val = pd.read_csv('f5.csv')\n",
    "# val = val.drop('Unnamed: 0',axis=1)\n",
    "# val = val.replace(to_replace=['B','M'],value=[0,1])\n",
    "# x_test = val.drop('diagnosis',axis=1)\n",
    "# y_test = val['diagnosis']\n",
    "# x_final_test = test.drop('diagnosis',axis=1)\n",
    "# y_final_test = test['diagnosis']"
   ]
  },
  {
   "cell_type": "code",
   "execution_count": 8,
   "id": "f7c3a4d3",
   "metadata": {},
   "outputs": [],
   "source": [
    "grid = load('KNN_test/split1.joblib')\n",
    "# dump(grid, 'GBoost1/GBC-WTF1.joblib')"
   ]
  },
  {
   "cell_type": "code",
   "execution_count": 9,
   "id": "6e05c093",
   "metadata": {},
   "outputs": [
    {
     "data": {
      "text/plain": [
       "{'model__algorithm': 'auto',\n",
       " 'model__leaf_size': 20,\n",
       " 'model__n_neighbors': 4,\n",
       " 'model__weights': 'distance'}"
      ]
     },
     "execution_count": 9,
     "metadata": {},
     "output_type": "execute_result"
    }
   ],
   "source": [
    "grid.best_params_"
   ]
  },
  {
   "cell_type": "code",
   "execution_count": 124,
   "id": "0d376cbc",
   "metadata": {},
   "outputs": [],
   "source": [
    "def to_labels(pos_probs, threshold):\n",
    "    \n",
    "    return (pos_probs >= threshold).astype('int')"
   ]
  },
  {
   "cell_type": "code",
   "execution_count": 125,
   "id": "f9a1edb9",
   "metadata": {},
   "outputs": [],
   "source": [
    "pred = grid.predict(x_test)"
   ]
  },
  {
   "cell_type": "code",
   "execution_count": 126,
   "id": "fb5fe78d",
   "metadata": {},
   "outputs": [
    {
     "data": {
      "text/plain": [
       "array([[59,  5],\n",
       "       [ 4, 34]], dtype=int64)"
      ]
     },
     "execution_count": 126,
     "metadata": {},
     "output_type": "execute_result"
    }
   ],
   "source": [
    "confusion_matrix(y_test, pred)"
   ]
  },
  {
   "cell_type": "code",
   "execution_count": 127,
   "id": "0e7df6d6",
   "metadata": {},
   "outputs": [
    {
     "name": "stdout",
     "output_type": "stream",
     "text": [
      "              precision    recall  f1-score   support\n",
      "\n",
      "           0       0.94      0.92      0.93        64\n",
      "           1       0.87      0.89      0.88        38\n",
      "\n",
      "    accuracy                           0.91       102\n",
      "   macro avg       0.90      0.91      0.91       102\n",
      "weighted avg       0.91      0.91      0.91       102\n",
      "\n"
     ]
    }
   ],
   "source": [
    "print(classification_report(y_test,pred))"
   ]
  },
  {
   "cell_type": "code",
   "execution_count": 128,
   "id": "eb248ed9",
   "metadata": {},
   "outputs": [],
   "source": [
    "prob = grid.predict_proba(x_test)"
   ]
  },
  {
   "cell_type": "code",
   "execution_count": 129,
   "id": "80d1bb64",
   "metadata": {},
   "outputs": [],
   "source": [
    "fpr, tpr, thresholds = metrics.roc_curve(y_test,  prob[:,1])"
   ]
  },
  {
   "cell_type": "code",
   "execution_count": 130,
   "id": "04e75f21",
   "metadata": {},
   "outputs": [],
   "source": [
    "J = tpr - fpr\n",
    "ix = np.argmax(J)\n",
    "best_thresh = thresholds[ix]"
   ]
  },
  {
   "cell_type": "code",
   "execution_count": 131,
   "id": "707f0471",
   "metadata": {},
   "outputs": [],
   "source": [
    "pre_t = to_labels(prob[:,1],best_thresh)"
   ]
  },
  {
   "cell_type": "code",
   "execution_count": 132,
   "id": "db03fb85",
   "metadata": {},
   "outputs": [
    {
     "data": {
      "text/plain": [
       "array([[63,  1],\n",
       "       [ 5, 33]], dtype=int64)"
      ]
     },
     "execution_count": 132,
     "metadata": {},
     "output_type": "execute_result"
    }
   ],
   "source": [
    "confusion_matrix(y_test, pre_t)"
   ]
  },
  {
   "cell_type": "code",
   "execution_count": 133,
   "id": "54704b0f",
   "metadata": {},
   "outputs": [
    {
     "name": "stdout",
     "output_type": "stream",
     "text": [
      "              precision    recall  f1-score   support\n",
      "\n",
      "           0       0.93      0.98      0.95        64\n",
      "           1       0.97      0.87      0.92        38\n",
      "\n",
      "    accuracy                           0.94       102\n",
      "   macro avg       0.95      0.93      0.94       102\n",
      "weighted avg       0.94      0.94      0.94       102\n",
      "\n"
     ]
    }
   ],
   "source": [
    "print(classification_report(y_test,pre_t))"
   ]
  },
  {
   "cell_type": "code",
   "execution_count": 134,
   "id": "6f28696a",
   "metadata": {},
   "outputs": [],
   "source": [
    "auc1 = metrics.roc_auc_score(y_test,  prob[:,1])"
   ]
  },
  {
   "cell_type": "code",
   "execution_count": 135,
   "id": "82a43aca",
   "metadata": {},
   "outputs": [],
   "source": [
    "pred = grid.predict(x_final_test)\n"
   ]
  },
  {
   "cell_type": "code",
   "execution_count": 136,
   "id": "e028cb99",
   "metadata": {},
   "outputs": [
    {
     "data": {
      "text/plain": [
       "array([[35,  0],\n",
       "       [ 3, 18]], dtype=int64)"
      ]
     },
     "execution_count": 136,
     "metadata": {},
     "output_type": "execute_result"
    }
   ],
   "source": [
    "confusion_matrix(y_final_test, pred)"
   ]
  },
  {
   "cell_type": "code",
   "execution_count": 137,
   "id": "2b9bd987",
   "metadata": {},
   "outputs": [
    {
     "name": "stdout",
     "output_type": "stream",
     "text": [
      "              precision    recall  f1-score   support\n",
      "\n",
      "           0       0.92      1.00      0.96        35\n",
      "           1       1.00      0.86      0.92        21\n",
      "\n",
      "    accuracy                           0.95        56\n",
      "   macro avg       0.96      0.93      0.94        56\n",
      "weighted avg       0.95      0.95      0.95        56\n",
      "\n"
     ]
    }
   ],
   "source": [
    "print(classification_report(y_final_test,pred))"
   ]
  },
  {
   "cell_type": "code",
   "execution_count": 138,
   "id": "5df2be13",
   "metadata": {},
   "outputs": [],
   "source": [
    "prob = grid.predict_proba(x_final_test)"
   ]
  },
  {
   "cell_type": "code",
   "execution_count": 139,
   "id": "6aba3c66",
   "metadata": {},
   "outputs": [],
   "source": [
    "fpr1, tpr1, thresholds = metrics.roc_curve(y_final_test,  prob[:,1])"
   ]
  },
  {
   "cell_type": "code",
   "execution_count": 140,
   "id": "97c20806",
   "metadata": {},
   "outputs": [],
   "source": [
    "J = tpr1 - fpr1\n",
    "ix = np.argmax(J)\n",
    "best_thresh = thresholds[ix]"
   ]
  },
  {
   "cell_type": "code",
   "execution_count": 141,
   "id": "1b08c43d",
   "metadata": {},
   "outputs": [],
   "source": [
    "pre_t2 = to_labels(prob[:,1],best_thresh)"
   ]
  },
  {
   "cell_type": "code",
   "execution_count": 142,
   "id": "e8830788",
   "metadata": {},
   "outputs": [
    {
     "data": {
      "text/plain": [
       "array([[35,  0],\n",
       "       [ 0, 21]], dtype=int64)"
      ]
     },
     "execution_count": 142,
     "metadata": {},
     "output_type": "execute_result"
    }
   ],
   "source": [
    "confusion_matrix(y_final_test, pre_t2)"
   ]
  },
  {
   "cell_type": "code",
   "execution_count": 143,
   "id": "7d72a336",
   "metadata": {
    "scrolled": false
   },
   "outputs": [
    {
     "name": "stdout",
     "output_type": "stream",
     "text": [
      "              precision    recall  f1-score   support\n",
      "\n",
      "           0       1.00      1.00      1.00        35\n",
      "           1       1.00      1.00      1.00        21\n",
      "\n",
      "    accuracy                           1.00        56\n",
      "   macro avg       1.00      1.00      1.00        56\n",
      "weighted avg       1.00      1.00      1.00        56\n",
      "\n"
     ]
    }
   ],
   "source": [
    "print(classification_report(y_final_test,pre_t2))"
   ]
  },
  {
   "cell_type": "code",
   "execution_count": 144,
   "id": "ca3a0edd",
   "metadata": {},
   "outputs": [
    {
     "data": {
      "text/plain": [
       "(array([], dtype=int64),)"
      ]
     },
     "execution_count": 144,
     "metadata": {},
     "output_type": "execute_result"
    }
   ],
   "source": [
    "np.where(y_final_test != pre_t2)"
   ]
  },
  {
   "cell_type": "code",
   "execution_count": 145,
   "id": "dd2f7e71",
   "metadata": {},
   "outputs": [
    {
     "data": {
      "text/plain": [
       "1"
      ]
     },
     "execution_count": 145,
     "metadata": {},
     "output_type": "execute_result"
    }
   ],
   "source": [
    "pre_t[28]"
   ]
  },
  {
   "cell_type": "code",
   "execution_count": 146,
   "id": "76e275a4",
   "metadata": {},
   "outputs": [
    {
     "data": {
      "image/png": "[encoded data removed]",
      "text/plain": [
       "<Figure size 640x480 with 1 Axes>"
      ]
     },
     "metadata": {},
     "output_type": "display_data"
    }
   ],
   "source": [
    "auc2 = metrics.roc_auc_score(y_final_test,  prob[:,1])\n",
    "\n",
    "plt.plot(fpr,tpr,label=\"ROC valid, auc=\"+str(\"%.4f\" % auc1))\n",
    "plt.plot(fpr1,tpr1,label=\"ROC TEST, auc=\"+str(\"%.4f\" % auc2))\n",
    "plt.plot([0, 1], [0, 1], linestyle=\"--\", lw=2, color=\"r\", label=\"Chance\", alpha=0.8)\n",
    "plt.ylabel('True Positive Rate')\n",
    "plt.xlabel('Flase Positive Rate')\n",
    "plt.legend(loc=(0.55,0.025))\n",
    "plt.show()\n",
    "# plt.ylim(0.8,1)"
   ]
  },
  {
   "cell_type": "code",
   "execution_count": 503,
   "id": "ae314593",
   "metadata": {},
   "outputs": [
    {
     "data": {
      "image/png": "[encoded data removed]",
      "text/plain": [
       "<Figure size 640x480 with 1 Axes>"
      ]
     },
     "metadata": {},
     "output_type": "display_data"
    }
   ],
   "source": [
    "cm = confusion_matrix(y_final_test,pre_t2,labels=[1,0])\n",
    "tp = cm[0][0]\n",
    "tn = cm[1][1]\n",
    "fp = cm[1][0]\n",
    "fn = cm[0][1]\n",
    "cm = np.array([[tp, fn], [fp, tn]])\n",
    "\n",
    "# Define class labels\n",
    "class_names = ['Abnormal', 'Normal']\n",
    "\n",
    "# Normalize confusion matrix to percentage\n",
    "cm_norm = cm.astype('float') / cm.sum(axis=1)[:, np.newaxis]\n",
    "\n",
    "# Create plot\n",
    "fig, ax = plt.subplots(dpi = 100)\n",
    "im = ax.imshow(cm_norm, interpolation='nearest', cmap=\"rocket_r\")\n",
    "ax.grid(False)\n",
    "\n",
    "# Add labels\n",
    "ax.set(xticks=np.arange(cm_norm.shape[1]),\n",
    "       yticks=np.arange(cm_norm.shape[0]),\n",
    "       xticklabels=class_names, yticklabels=class_names,\n",
    "       ylabel='Actual',\n",
    "       xlabel='Predicted')\n",
    "\n",
    "# Add percentage and count values inside plot\n",
    "thresh = cm_norm.max() / 2.\n",
    "for i in range(cm_norm.shape[0]):\n",
    "    for j in range(cm_norm.shape[1]):\n",
    "        ax.text(j, i, '''{}\\n({:.2f}%)'''.format(cm[i,j], cm_norm[i, j]*100),\n",
    "                ha=\"center\", va=\"center\",\n",
    "                color=\"white\" if cm_norm[i, j] > thresh else \"black\")\n",
    "\n",
    "# Show plot\n",
    "plt.show()"
   ]
  },
  {
   "cell_type": "code",
   "execution_count": 504,
   "id": "677a0a0e",
   "metadata": {
    "scrolled": true
   },
   "outputs": [
    {
     "name": "stdout",
     "output_type": "stream",
     "text": [
      "accuracy_score:  0.9821\n",
      "sensitivity:  0.9524\n",
      "specificity:  1.0\n",
      "Precision:  1.0\n",
      "F1:  0.9756\n"
     ]
    }
   ],
   "source": [
    "acc = (tp + tn) / (tp + tn + fp + fn)\n",
    "sen = tp / (tp + fn) # \n",
    "spec = tn / (tn + fp) # \n",
    "precision_0 = tp/(tp + fp)\n",
    "# print(\"accuracy: \", acc)\n",
    "print('accuracy_score: ', round(acc,4))\n",
    "print(\"sensitivity: \", round(sen,4))\n",
    "print(\"specificity: \", round(spec,4))\n",
    "print(\"Precision: \", round(precision_0,4))\n",
    "print('F1: ', round(2*((precision_0*sen)/(precision_0+sen)),4))"
   ]
  },
  {
   "cell_type": "code",
   "execution_count": 505,
   "id": "bdf4f0aa",
   "metadata": {},
   "outputs": [],
   "source": [
    "# dump(grid, 'KNN_test/split5.joblib') "
   ]
  },
  {
   "cell_type": "code",
   "execution_count": 506,
   "id": "8fa3589c",
   "metadata": {},
   "outputs": [],
   "source": [
    "# model = load('SVC_split_1.joblib')"
   ]
  },
  {
   "cell_type": "code",
   "execution_count": null,
   "id": "983fbadb",
   "metadata": {},
   "outputs": [],
   "source": []
  },
  {
   "cell_type": "code",
   "execution_count": null,
   "id": "0ea2e88e",
   "metadata": {},
   "outputs": [],
   "source": []
  },
  {
   "cell_type": "code",
   "execution_count": null,
   "id": "84da9ee4",
   "metadata": {},
   "outputs": [],
   "source": []
  },
  {
   "cell_type": "code",
   "execution_count": null,
   "id": "16dd50f2",
   "metadata": {},
   "outputs": [],
   "source": []
  },
  {
   "cell_type": "code",
   "execution_count": null,
   "id": "496c9909",
   "metadata": {},
   "outputs": [],
   "source": []
  },
  {
   "cell_type": "code",
   "execution_count": null,
   "id": "4f24188b",
   "metadata": {},
   "outputs": [],
   "source": []
  },
  {
   "cell_type": "code",
   "execution_count": null,
   "id": "d688ac4a",
   "metadata": {},
   "outputs": [],
   "source": []
  },
  {
   "cell_type": "code",
   "execution_count": null,
   "id": "32dd7a7d",
   "metadata": {},
   "outputs": [],
   "source": []
  },
  {
   "cell_type": "code",
   "execution_count": null,
   "id": "19c92bbd",
   "metadata": {},
   "outputs": [],
   "source": []
  },
  {
   "cell_type": "code",
   "execution_count": null,
   "id": "dec07083",
   "metadata": {},
   "outputs": [],
   "source": []
  },
  {
   "cell_type": "code",
   "execution_count": null,
   "id": "09bd91ea",
   "metadata": {},
   "outputs": [],
   "source": []
  },
  {
   "cell_type": "code",
   "execution_count": 5,
   "id": "c0e7d37a",
   "metadata": {},
   "outputs": [],
   "source": [
    "vm1 = [0.1,0.2,0.3,0.5,1,2,3,4,5]"
   ]
  },
  {
   "cell_type": "code",
   "execution_count": 6,
   "id": "e8faf708",
   "metadata": {},
   "outputs": [],
   "source": [
    "am1 = [0.22,0.64,0.68,0.69,0.69,0.69,0.69,0.7,0.7]\n",
    "am2 = [1.31,3.16,3.42,3.46,3.46,3.46,3.47,3.49,3.49]\n",
    "am3 = [1.62,4.41,4.56,4.61,4.61,4.61,4.68,4.68,4.68]\n",
    "am4 = [1.60,5.63,6,6.05,6.05,6.07,6.07,6.08,6.09]\n",
    "am5 = [1.40,7.48,7.84,7.92,7.93,7.93,7.95,7.96,7.96]\n",
    "am6 = [3.73,9.74,10.77,10.91,10.92,10.92,10.93,10.95,10.96]"
   ]
  },
  {
   "cell_type": "code",
   "execution_count": 11,
   "id": "6a8dfd6a",
   "metadata": {},
   "outputs": [
    {
     "data": {
      "text/plain": [
       "Text(0.5, 0, 'VM')"
      ]
     },
     "execution_count": 11,
     "metadata": {},
     "output_type": "execute_result"
    },
    {
     "data": {
      "image/png": "[encoded data removed]",
      "text/plain": [
       "<Figure size 640x480 with 1 Axes>"
      ]
     },
     "metadata": {},
     "output_type": "display_data"
    }
   ],
   "source": [
    "plt.plot(vm1,am1)\n",
    "plt.plot(vm1,am2)\n",
    "plt.plot(vm1,am3)\n",
    "plt.plot(vm1,am4)\n",
    "plt.plot(vm1,am5)\n",
    "plt.plot(vm1,am6)\n",
    "plt.ylabel('AM')\n",
    "plt.xlabel(\"VM\")"
   ]
  },
  {
   "cell_type": "code",
   "execution_count": null,
   "id": "9f7d4984",
   "metadata": {},
   "outputs": [],
   "source": []
  }
 ],
 "metadata": {
  "kernelspec": {
   "display_name": "Python 3 (ipykernel)",
   "language": "python",
   "name": "python3"
  },
  "language_info": {
   "codemirror_mode": {
    "name": "ipython",
    "version": 3
   },
   "file_extension": ".py",
   "mimetype": "text/x-python",
   "name": "python",
   "nbconvert_exporter": "python",
   "pygments_lexer": "ipython3",
   "version": "3.9.13"
  }
 },
 "nbformat": 4,
 "nbformat_minor": 5
}
