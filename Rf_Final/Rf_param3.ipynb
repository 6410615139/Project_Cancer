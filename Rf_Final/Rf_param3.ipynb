{
  "nbformat": 4,
  "nbformat_minor": 0,
  "metadata": {
    "colab": {
      "provenance": [],
      "collapsed_sections": [
        "4AXHBvw2RapI",
        "B1-2dfc_Wnfo",
        "xjj72no2bdYN",
        "fEXiXB1vgEM0",
        "yiJfD4O3hymV"
      ]
    },
    "kernelspec": {
      "name": "python3",
      "display_name": "Python 3"
    },
    "language_info": {
      "name": "python"
    }
  },
  "cells": [
    {
      "cell_type": "code",
      "execution_count": null,
      "metadata": {
        "id": "1-S9O52jRHGf"
      },
      "outputs": [],
      "source": [
        "import pandas as pd\n",
        "import matplotlib.pyplot as plt\n",
        "import numpy as np\n",
        "import seaborn as sns\n",
        "import statistics\n",
        "\n",
        "# import accuracy score function\n",
        "from sklearn.metrics import accuracy_score\n",
        "from sklearn.preprocessing import LabelEncoder\n",
        "from sklearn.model_selection import train_test_split, GridSearchCV\n",
        "from sklearn.metrics import confusion_matrix, roc_curve, roc_auc_score\n",
        "from sklearn.ensemble import RandomForestClassifier\n",
        "from sklearn.model_selection import train_test_split\n",
        "from sklearn.preprocessing import StandardScaler"
      ]
    },
    {
      "cell_type": "markdown",
      "source": [
        "function"
      ],
      "metadata": {
        "id": "ipxdKfLRRKfk"
      }
    },
    {
      "cell_type": "code",
      "source": [
        "# # tn, fp, fn, tp = each_index(cm)\n",
        "def each_index(metrix):\n",
        "    TN = metrix[0][0]\n",
        "    FP = metrix[0][1]\n",
        "    FN = metrix[1][0]\n",
        "    TP = metrix[1][1]\n",
        "    return TN, FP, FN, TP"
      ],
      "metadata": {
        "id": "RILE41BzRL1h"
      },
      "execution_count": null,
      "outputs": []
    },
    {
      "cell_type": "code",
      "source": [
        "def sensitivity(metrix):\n",
        "    TN, FP, FN, TP = each_index(metrix)\n",
        "    # Calculate sensitivity\n",
        "    sensitivity = TP / (TP + FN) * 100\n",
        "    print(\"Sensitivity: %.2f%%\" % sensitivity)\n",
        "    return sensitivity"
      ],
      "metadata": {
        "id": "XaA037G-RQ9A"
      },
      "execution_count": null,
      "outputs": []
    },
    {
      "cell_type": "code",
      "source": [
        "def specificity(metrix):\n",
        "    TN, FP, FN, TP = each_index(metrix)\n",
        "    # Calculate specificity\n",
        "    specificity = TN / (TN + FP) * 100\n",
        "    print(\"Specificity: %.2f%%\" % specificity)\n",
        "    return specificity"
      ],
      "metadata": {
        "id": "WYakedxTRTEa"
      },
      "execution_count": null,
      "outputs": []
    },
    {
      "cell_type": "code",
      "source": [
        "def accuracy(metrix):\n",
        "    TN, FP, FN, TP = each_index(metrix)\n",
        "    # Calculate accuracy\n",
        "    accuracy = ((TP + TN) / (TP + TN + FP + FN)) *100\n",
        "    print(\"Accuracy: %.2f%%\" % accuracy)\n",
        "    return accuracy"
      ],
      "metadata": {
        "id": "cJ-P9XakRWBU"
      },
      "execution_count": null,
      "outputs": []
    },
    {
      "cell_type": "code",
      "source": [
        "def precision(metrix):\n",
        "    TN, FP, FN, TP = each_index(metrix)\n",
        "    # Calculate accuracy\n",
        "    precision = (TP / (TP + FP)) *100\n",
        "    print(\"Precision: %.2f%%\" % precision)\n",
        "    return precision"
      ],
      "metadata": {
        "id": "xwci8YhdRYAV"
      },
      "execution_count": null,
      "outputs": []
    },
    {
      "cell_type": "code",
      "source": [
        "def f1(metrix):\n",
        "    TN, FP, FN, TP = each_index(metrix)\n",
        "    # Calculate f1\n",
        "    recall = sensitivity(metrix)\n",
        "    pre = precision(metrix)\n",
        "    f1 = ((2*pre*recall) / (pre+recall))\n",
        "    print(\"F1: %.2f%%\" % f1)\n",
        "    return f1"
      ],
      "metadata": {
        "id": "PEt3bTTMRaCP"
      },
      "execution_count": null,
      "outputs": []
    },
    {
      "cell_type": "markdown",
      "source": [
        "## split1"
      ],
      "metadata": {
        "id": "4AXHBvw2RapI"
      }
    },
    {
      "cell_type": "markdown",
      "source": [
        "training set"
      ],
      "metadata": {
        "id": "G_YPhWHgRyLa"
      }
    },
    {
      "cell_type": "code",
      "source": [
        "train_data = pd.read_csv(\"oversampled_train_split1.csv\")\n",
        "train_data.shape"
      ],
      "metadata": {
        "colab": {
          "base_uri": "https://localhost:8080/"
        },
        "id": "KebU_vdMR1eG",
        "outputId": "a64f09f9-d719-431c-9982-4623c46315f6"
      },
      "execution_count": null,
      "outputs": [
        {
          "output_type": "execute_result",
          "data": {
            "text/plain": [
              "(518, 32)"
            ]
          },
          "metadata": {},
          "execution_count": 8
        }
      ]
    },
    {
      "cell_type": "code",
      "source": [
        "x_train = train_data[train_data.columns[2:]]\n",
        "x_train.shape"
      ],
      "metadata": {
        "colab": {
          "base_uri": "https://localhost:8080/"
        },
        "id": "uTXCSX4wR5Iz",
        "outputId": "78a1b16e-d887-418c-9746-6300043ebc82"
      },
      "execution_count": null,
      "outputs": [
        {
          "output_type": "execute_result",
          "data": {
            "text/plain": [
              "(518, 30)"
            ]
          },
          "metadata": {},
          "execution_count": 9
        }
      ]
    },
    {
      "cell_type": "code",
      "source": [
        "y_train = train_data[train_data.columns[1]]\n",
        "#y_train.shape\n",
        "le = LabelEncoder()\n",
        "y_train = np.array(le.fit_transform(y_train))\n",
        "print(le.classes_)"
      ],
      "metadata": {
        "colab": {
          "base_uri": "https://localhost:8080/"
        },
        "id": "UZDltFJ7R68u",
        "outputId": "9a5978c6-4c6c-47e0-a845-fd1c92569737"
      },
      "execution_count": null,
      "outputs": [
        {
          "output_type": "stream",
          "name": "stdout",
          "text": [
            "['B' 'M']\n"
          ]
        }
      ]
    },
    {
      "cell_type": "markdown",
      "source": [
        "Testing set"
      ],
      "metadata": {
        "id": "JXw9r2_aR-w_"
      }
    },
    {
      "cell_type": "code",
      "source": [
        "test_data = pd.read_csv(\"test.csv\")\n",
        "test_data.shape"
      ],
      "metadata": {
        "colab": {
          "base_uri": "https://localhost:8080/"
        },
        "id": "LzM7mPCaR_QW",
        "outputId": "d9c00393-e0bf-4b4b-9c3d-88c1d977d861"
      },
      "execution_count": null,
      "outputs": [
        {
          "output_type": "execute_result",
          "data": {
            "text/plain": [
              "(114, 33)"
            ]
          },
          "metadata": {},
          "execution_count": 11
        }
      ]
    },
    {
      "cell_type": "code",
      "source": [
        "x_test = test_data[test_data.columns[3:]] #5fold new use3\n",
        "x_test.shape"
      ],
      "metadata": {
        "colab": {
          "base_uri": "https://localhost:8080/"
        },
        "id": "ixoWFCWhSBwp",
        "outputId": "b6fc18b3-bea4-4f8b-b279-47c1ca7dcff0"
      },
      "execution_count": null,
      "outputs": [
        {
          "output_type": "execute_result",
          "data": {
            "text/plain": [
              "(114, 30)"
            ]
          },
          "metadata": {},
          "execution_count": 12
        }
      ]
    },
    {
      "cell_type": "code",
      "source": [
        "y_test = test_data[test_data.columns[2]] #5fold new use2\n",
        "#y_test.shape\n",
        "le = LabelEncoder()\n",
        "y_test = np.array(le.fit_transform(y_test))\n",
        "print(le.classes_)"
      ],
      "metadata": {
        "colab": {
          "base_uri": "https://localhost:8080/"
        },
        "id": "9bn7mQQ1SDWe",
        "outputId": "f49004e4-72df-4071-f4a3-e0e6e250e1d8"
      },
      "execution_count": null,
      "outputs": [
        {
          "output_type": "stream",
          "name": "stdout",
          "text": [
            "['B' 'M']\n"
          ]
        }
      ]
    },
    {
      "cell_type": "markdown",
      "source": [
        "Validation set"
      ],
      "metadata": {
        "id": "HuOgCOw2SG9R"
      }
    },
    {
      "cell_type": "code",
      "source": [
        "val_data = pd.read_csv(\"val_split1.csv\")\n",
        "val_data.shape"
      ],
      "metadata": {
        "colab": {
          "base_uri": "https://localhost:8080/"
        },
        "id": "feoEtVwESE9k",
        "outputId": "1c9d52eb-9238-4838-c230-4b2d917f55f1"
      },
      "execution_count": null,
      "outputs": [
        {
          "output_type": "execute_result",
          "data": {
            "text/plain": [
              "(91, 32)"
            ]
          },
          "metadata": {},
          "execution_count": 14
        }
      ]
    },
    {
      "cell_type": "code",
      "source": [
        "x_val = val_data[val_data.columns[2:]]\n",
        "x_val.shape"
      ],
      "metadata": {
        "colab": {
          "base_uri": "https://localhost:8080/"
        },
        "id": "Fcw2a6geSJVl",
        "outputId": "525cfce7-106b-4949-c85f-030c515adc3f"
      },
      "execution_count": null,
      "outputs": [
        {
          "output_type": "execute_result",
          "data": {
            "text/plain": [
              "(91, 30)"
            ]
          },
          "metadata": {},
          "execution_count": 15
        }
      ]
    },
    {
      "cell_type": "code",
      "source": [
        "y_val = val_data[val_data.columns[1]]\n",
        "#y_val.shape\n",
        "le = LabelEncoder()\n",
        "y_val = np.array(le.fit_transform(y_val))\n",
        "print(le.classes_)"
      ],
      "metadata": {
        "colab": {
          "base_uri": "https://localhost:8080/"
        },
        "id": "Hm17zEAbSOLd",
        "outputId": "7b9800fd-25ac-4e29-d209-01534cb24d9d"
      },
      "execution_count": null,
      "outputs": [
        {
          "output_type": "stream",
          "name": "stdout",
          "text": [
            "['B' 'M']\n"
          ]
        }
      ]
    },
    {
      "cell_type": "markdown",
      "source": [
        "step train"
      ],
      "metadata": {
        "id": "a_IbpdmsSdw7"
      }
    },
    {
      "cell_type": "code",
      "source": [
        "x_train = x_train.to_numpy()\n",
        "x_test = x_test.to_numpy()\n",
        "x_val = x_val.to_numpy()"
      ],
      "metadata": {
        "id": "VcCQfqA5SPPm"
      },
      "execution_count": null,
      "outputs": []
    },
    {
      "cell_type": "code",
      "source": [
        "from sklearn.model_selection import train_test_split\n",
        "\n",
        "print(\"Shape of training set:\", x_train.shape)\n",
        "print(\"Shape of test set:\", x_test.shape)"
      ],
      "metadata": {
        "colab": {
          "base_uri": "https://localhost:8080/"
        },
        "id": "RrVzl6SIShzK",
        "outputId": "a81dd1cb-c243-4648-e3ad-bf3bf21decb5"
      },
      "execution_count": null,
      "outputs": [
        {
          "output_type": "stream",
          "name": "stdout",
          "text": [
            "Shape of training set: (518, 30)\n",
            "Shape of test set: (114, 30)\n"
          ]
        }
      ]
    },
    {
      "cell_type": "code",
      "source": [
        "from sklearn.preprocessing import StandardScaler\n",
        "\n",
        "ss = StandardScaler()\n",
        "X_train = ss.fit_transform(x_train)\n",
        "X_test = ss.fit_transform(x_test)\n",
        "X_val = ss.fit_transform(x_val)"
      ],
      "metadata": {
        "id": "tILNoMV-SnzT"
      },
      "execution_count": null,
      "outputs": []
    },
    {
      "cell_type": "markdown",
      "source": [
        " หาparameter"
      ],
      "metadata": {
        "id": "l-1JtZrITZ-Q"
      }
    },
    {
      "cell_type": "code",
      "source": [
        "# instantiate classifier ,ยกตัวอย่างclassifier \n",
        "#rf_classifier = RandomForestClassifier(random_state=42, n_estimators=10)"
      ],
      "metadata": {
        "id": "ZQwGEQGZTa4o"
      },
      "execution_count": null,
      "outputs": []
    },
    {
      "cell_type": "code",
      "source": [
        "# give to GridSearchCV\n",
        "#param_dist = {'max_depth': [2, 3, 4],\n",
        "#             'bootstrap': [True, False],\n",
        "#              'max_features': ['auto', 'sqrt', 'log2', None],\n",
        "#              'criterion': ['gini', 'entropy']}\n",
        "\n",
        "# set up the GridSearch\n",
        "#cv_rf = GridSearchCV(rf_classifier, cv = 5,param_grid=param_dist,n_jobs = 3)\n",
        "\n",
        "# fit the GridSearch\n",
        "#cv_rf.fit(X_train, y_train)\n",
        "#cv_rf.fit(X_val, y_val) #ใช้อันนี้\n",
        "#print('Best Parameters using grid search: \\n', cv_rf.best_params_)\n",
        "\n",
        "#print('Best criterion parameter:', cv_rf.best_params_['criterion'])\n",
        "#print('Best max_depth parameter:', cv_rf.best_params_['max_depth'])\n",
        "#print('Best bootstrap parameter:', cv_rf.best_params_['bootstrap'])\n",
        "#print('Best max_features parameter:', cv_rf.best_params_['max_features'])\n",
        "#print('Best score:', cv_rf.best_score_)\n"
      ],
      "metadata": {
        "id": "G8AbFgNCTfIy"
      },
      "execution_count": null,
      "outputs": []
    },
    {
      "cell_type": "code",
      "source": [
        "# Set best parameters given by grid search \n",
        "#rf_classifier.set_params(criterion = 'entropy',\n",
        " #                 max_features = 'auto', 3\n",
        "#                max_depth = 3, \n",
        "#            )"
      ],
      "metadata": {
        "id": "eZvWERLTTq1J"
      },
      "execution_count": null,
      "outputs": []
    },
    {
      "cell_type": "markdown",
      "source": [
        "Best Parameters using grid search: \n",
        " {'bootstrap': False, 'criterion': 'entropy', 'max_depth': 3, 'max_features': 'auto'}\n",
        "Best criterion parameter: entropy\n",
        "Best max_depth parameter: 3\n",
        "Best bootstrap parameter: False\n",
        "Best max_features parameter: auto\n",
        "\n",
        "**Best score: 0.9456140350877194**"
      ],
      "metadata": {
        "id": "nJ7Kmg54YbnH"
      }
    },
    {
      "cell_type": "code",
      "source": [
        "from sklearn.ensemble import RandomForestClassifier\n",
        "\n",
        "rand_clf = RandomForestClassifier(criterion = 'gini', max_depth = 2, max_features = 'log2', min_samples_leaf = 2, min_samples_split = 3, n_estimators = 130)\n",
        "rand_clf.fit(X_train, y_train) # map"
      ],
      "metadata": {
        "colab": {
          "base_uri": "https://localhost:8080/",
          "height": 111
        },
        "id": "IiVJhZyIVEIW",
        "outputId": "daba7774-3385-41f7-a00d-3e80e0a79426"
      },
      "execution_count": null,
      "outputs": [
        {
          "output_type": "execute_result",
          "data": {
            "text/plain": [
              "RandomForestClassifier(max_depth=2, max_features='log2', min_samples_leaf=2,\n",
              "                       min_samples_split=3, n_estimators=130)"
            ],
            "text/html": [
              "<style>#sk-container-id-1 {color: black;background-color: white;}#sk-container-id-1 pre{padding: 0;}#sk-container-id-1 div.sk-toggleable {background-color: white;}#sk-container-id-1 label.sk-toggleable__label {cursor: pointer;display: block;width: 100%;margin-bottom: 0;padding: 0.3em;box-sizing: border-box;text-align: center;}#sk-container-id-1 label.sk-toggleable__label-arrow:before {content: \"▸\";float: left;margin-right: 0.25em;color: #696969;}#sk-container-id-1 label.sk-toggleable__label-arrow:hover:before {color: black;}#sk-container-id-1 div.sk-estimator:hover label.sk-toggleable__label-arrow:before {color: black;}#sk-container-id-1 div.sk-toggleable__content {max-height: 0;max-width: 0;overflow: hidden;text-align: left;background-color: #f0f8ff;}#sk-container-id-1 div.sk-toggleable__content pre {margin: 0.2em;color: black;border-radius: 0.25em;background-color: #f0f8ff;}#sk-container-id-1 input.sk-toggleable__control:checked~div.sk-toggleable__content {max-height: 200px;max-width: 100%;overflow: auto;}#sk-container-id-1 input.sk-toggleable__control:checked~label.sk-toggleable__label-arrow:before {content: \"▾\";}#sk-container-id-1 div.sk-estimator input.sk-toggleable__control:checked~label.sk-toggleable__label {background-color: #d4ebff;}#sk-container-id-1 div.sk-label input.sk-toggleable__control:checked~label.sk-toggleable__label {background-color: #d4ebff;}#sk-container-id-1 input.sk-hidden--visually {border: 0;clip: rect(1px 1px 1px 1px);clip: rect(1px, 1px, 1px, 1px);height: 1px;margin: -1px;overflow: hidden;padding: 0;position: absolute;width: 1px;}#sk-container-id-1 div.sk-estimator {font-family: monospace;background-color: #f0f8ff;border: 1px dotted black;border-radius: 0.25em;box-sizing: border-box;margin-bottom: 0.5em;}#sk-container-id-1 div.sk-estimator:hover {background-color: #d4ebff;}#sk-container-id-1 div.sk-parallel-item::after {content: \"\";width: 100%;border-bottom: 1px solid gray;flex-grow: 1;}#sk-container-id-1 div.sk-label:hover label.sk-toggleable__label {background-color: #d4ebff;}#sk-container-id-1 div.sk-serial::before {content: \"\";position: absolute;border-left: 1px solid gray;box-sizing: border-box;top: 0;bottom: 0;left: 50%;z-index: 0;}#sk-container-id-1 div.sk-serial {display: flex;flex-direction: column;align-items: center;background-color: white;padding-right: 0.2em;padding-left: 0.2em;position: relative;}#sk-container-id-1 div.sk-item {position: relative;z-index: 1;}#sk-container-id-1 div.sk-parallel {display: flex;align-items: stretch;justify-content: center;background-color: white;position: relative;}#sk-container-id-1 div.sk-item::before, #sk-container-id-1 div.sk-parallel-item::before {content: \"\";position: absolute;border-left: 1px solid gray;box-sizing: border-box;top: 0;bottom: 0;left: 50%;z-index: -1;}#sk-container-id-1 div.sk-parallel-item {display: flex;flex-direction: column;z-index: 1;position: relative;background-color: white;}#sk-container-id-1 div.sk-parallel-item:first-child::after {align-self: flex-end;width: 50%;}#sk-container-id-1 div.sk-parallel-item:last-child::after {align-self: flex-start;width: 50%;}#sk-container-id-1 div.sk-parallel-item:only-child::after {width: 0;}#sk-container-id-1 div.sk-dashed-wrapped {border: 1px dashed gray;margin: 0 0.4em 0.5em 0.4em;box-sizing: border-box;padding-bottom: 0.4em;background-color: white;}#sk-container-id-1 div.sk-label label {font-family: monospace;font-weight: bold;display: inline-block;line-height: 1.2em;}#sk-container-id-1 div.sk-label-container {text-align: center;}#sk-container-id-1 div.sk-container {/* jupyter's `normalize.less` sets `[hidden] { display: none; }` but bootstrap.min.css set `[hidden] { display: none !important; }` so we also need the `!important` here to be able to override the default hidden behavior on the sphinx rendered scikit-learn.org. See: https://github.com/scikit-learn/scikit-learn/issues/21755 */display: inline-block !important;position: relative;}#sk-container-id-1 div.sk-text-repr-fallback {display: none;}</style><div id=\"sk-container-id-1\" class=\"sk-top-container\"><div class=\"sk-text-repr-fallback\"><pre>RandomForestClassifier(max_depth=2, max_features=&#x27;log2&#x27;, min_samples_leaf=2,\n",
              "                       min_samples_split=3, n_estimators=130)</pre><b>In a Jupyter environment, please rerun this cell to show the HTML representation or trust the notebook. <br />On GitHub, the HTML representation is unable to render, please try loading this page with nbviewer.org.</b></div><div class=\"sk-container\" hidden><div class=\"sk-item\"><div class=\"sk-estimator sk-toggleable\"><input class=\"sk-toggleable__control sk-hidden--visually\" id=\"sk-estimator-id-1\" type=\"checkbox\" checked><label for=\"sk-estimator-id-1\" class=\"sk-toggleable__label sk-toggleable__label-arrow\">RandomForestClassifier</label><div class=\"sk-toggleable__content\"><pre>RandomForestClassifier(max_depth=2, max_features=&#x27;log2&#x27;, min_samples_leaf=2,\n",
              "                       min_samples_split=3, n_estimators=130)</pre></div></div></div></div></div>"
            ]
          },
          "metadata": {},
          "execution_count": 23
        }
      ]
    },
    {
      "cell_type": "code",
      "source": [
        "y_pred = rand_clf.predict(X_test) "
      ],
      "metadata": {
        "id": "zJOUIiUFVVda"
      },
      "execution_count": null,
      "outputs": []
    },
    {
      "cell_type": "code",
      "source": [
        "y_pred"
      ],
      "metadata": {
        "colab": {
          "base_uri": "https://localhost:8080/"
        },
        "id": "KQf26nuPVbAB",
        "outputId": "3d93112b-bf17-4943-f36f-ca417fd503e3"
      },
      "execution_count": null,
      "outputs": [
        {
          "output_type": "execute_result",
          "data": {
            "text/plain": [
              "array([1, 1, 1, 1, 1, 1, 1, 1, 1, 1, 1, 1, 1, 1, 1, 1, 1, 1, 1, 0, 0, 0,\n",
              "       1, 1, 1, 1, 1, 1, 1, 1, 1, 1, 1, 1, 1, 1, 0, 0, 0, 0, 0, 0, 1, 1,\n",
              "       0, 1, 0, 1, 0, 0, 0, 0, 0, 1, 1, 0, 1, 1, 0, 0, 0, 0, 1, 0, 1, 1,\n",
              "       0, 0, 0, 0, 1, 0, 1, 0, 0, 1, 0, 1, 1, 0, 0, 0, 1, 1, 0, 1, 0, 1,\n",
              "       0, 1, 0, 1, 0, 0, 1, 1, 0, 0, 0, 1, 0, 0, 0, 0, 0, 1, 0, 0, 1, 0,\n",
              "       0, 0, 1, 0])"
            ]
          },
          "metadata": {},
          "execution_count": 25
        }
      ]
    },
    {
      "cell_type": "code",
      "source": [
        "# accuracy score\n",
        "\n",
        "print(accuracy_score(y_train, rand_clf.predict(X_train)))\n",
        "\n",
        "ran_clf_acc = accuracy_score(y_test, y_pred)\n",
        "print(ran_clf_acc)"
      ],
      "metadata": {
        "colab": {
          "base_uri": "https://localhost:8080/"
        },
        "id": "RhYwID5SVb9J",
        "outputId": "727c6d98-4f74-4970-cf01-6d490f06d210"
      },
      "execution_count": null,
      "outputs": [
        {
          "output_type": "stream",
          "name": "stdout",
          "text": [
            "0.9652509652509652\n",
            "0.9035087719298246\n"
          ]
        }
      ]
    },
    {
      "cell_type": "code",
      "source": [
        "from sklearn.metrics import confusion_matrix\n",
        "# confusion matrix\n",
        "\n",
        "print(confusion_matrix(y_test, y_pred))"
      ],
      "metadata": {
        "colab": {
          "base_uri": "https://localhost:8080/"
        },
        "id": "4UDSnhYfVh-y",
        "outputId": "b0e776f2-ceb9-4d5d-fed5-5ead81ff7253"
      },
      "execution_count": null,
      "outputs": [
        {
          "output_type": "stream",
          "name": "stdout",
          "text": [
            "[[44  2]\n",
            " [ 9 59]]\n"
          ]
        }
      ]
    },
    {
      "cell_type": "code",
      "source": [
        "from sklearn.metrics import classification_report\n",
        "# classification report\n",
        "\n",
        "print(classification_report(y_test, y_pred))"
      ],
      "metadata": {
        "colab": {
          "base_uri": "https://localhost:8080/"
        },
        "id": "1tj-XN7HVlUg",
        "outputId": "85c58f88-029a-4a3f-f95e-a1075dbb121e"
      },
      "execution_count": null,
      "outputs": [
        {
          "output_type": "stream",
          "name": "stdout",
          "text": [
            "              precision    recall  f1-score   support\n",
            "\n",
            "           0       0.83      0.96      0.89        46\n",
            "           1       0.97      0.87      0.91        68\n",
            "\n",
            "    accuracy                           0.90       114\n",
            "   macro avg       0.90      0.91      0.90       114\n",
            "weighted avg       0.91      0.90      0.90       114\n",
            "\n"
          ]
        }
      ]
    },
    {
      "cell_type": "markdown",
      "source": [
        "validate set"
      ],
      "metadata": {
        "id": "P9oqnBWfVxWl"
      }
    },
    {
      "cell_type": "code",
      "source": [
        "y_pred_val = rand_clf.predict(X_val)\n",
        "cm_val = confusion_matrix(y_val, y_pred_val)\n",
        "print('Confusion Matrix')\n",
        "print('-'*16)\n",
        "print(cm_val,'\\n')\n",
        "print('-'*16)"
      ],
      "metadata": {
        "colab": {
          "base_uri": "https://localhost:8080/"
        },
        "id": "7WTSrovJV3M7",
        "outputId": "a93db3b2-0636-4d90-f75a-369311a735b8"
      },
      "execution_count": null,
      "outputs": [
        {
          "output_type": "stream",
          "name": "stdout",
          "text": [
            "Confusion Matrix\n",
            "----------------\n",
            "[[45  7]\n",
            " [ 1 38]] \n",
            "\n",
            "----------------\n"
          ]
        }
      ]
    },
    {
      "cell_type": "code",
      "source": [
        "# Calculate score\n",
        "sen_val = sensitivity(cm_val)\n",
        "spec_val = specificity(cm_val)\n",
        "acc_val = accuracy(cm_val)\n",
        "pre_val = precision(cm_val)\n",
        "f1_val = f1(cm_val)"
      ],
      "metadata": {
        "colab": {
          "base_uri": "https://localhost:8080/"
        },
        "id": "mOkGgAFmV5Vk",
        "outputId": "8fde3e47-8aee-415f-e305-948888d3ae55"
      },
      "execution_count": null,
      "outputs": [
        {
          "output_type": "stream",
          "name": "stdout",
          "text": [
            "Sensitivity: 97.44%\n",
            "Specificity: 86.54%\n",
            "Accuracy: 91.21%\n",
            "Precision: 84.44%\n",
            "Sensitivity: 97.44%\n",
            "Precision: 84.44%\n",
            "F1: 90.48%\n"
          ]
        }
      ]
    },
    {
      "cell_type": "code",
      "source": [
        "class_names = ['benign','malignant']\n",
        "# Normalize confusion matrix to percentage\n",
        "cm_norm_val = cm_val.astype('float') / cm_val.sum(axis=1)[:, np.newaxis]\n",
        "# Create plot\n",
        "fig, ax = plt.subplots()\n",
        "im = ax.imshow(cm_norm_val, interpolation='nearest', cmap=\"rocket_r\")\n",
        "ax.grid(False)\n",
        "# Add labels\n",
        "ax.set(xticks=np.arange(cm_norm_val.shape[1]),\n",
        "       yticks=np.arange(cm_norm_val.shape[0]),\n",
        "       xticklabels=class_names, yticklabels=class_names)\n",
        "ax.set_title(\"Validate set\", fontsize=16)\n",
        "ax.set_ylabel('Actual', fontsize=16)\n",
        "ax.set_xlabel('Predicted', fontsize=16)\n",
        "# Add percentage and count values inside plot\n",
        "thresh = cm_norm_val.max() / 2.\n",
        "for i in range(cm_norm_val.shape[0]):\n",
        "    for j in range(cm_norm_val.shape[1]):\n",
        "        ax.text(j, i, '''{}\\n({:.2f}%)'''.format(cm_val[i,j], cm_norm_val[i, j]*100),\n",
        "                ha=\"center\", va=\"center\",\n",
        "                color=\"white\" if cm_norm_val[i, j] > thresh else \"black\")\n",
        "# Show plot\n",
        "plt.show()"
      ],
      "metadata": {
        "colab": {
          "base_uri": "https://localhost:8080/",
          "height": 54
        },
        "id": "cLtIU5wvWARq",
        "outputId": "1454934f-256d-45cd-b791-c4913164e785"
      },
      "execution_count": null,
      "outputs": [
        {
          "output_type": "display_data",
          "data": {
            "text/plain": [
              "<Figure size 640x480 with 1 Axes>"
            ],
            "image/png": "[encoded data removed]"
          },
          "metadata": {}
        }
      ]
    },
    {
      "cell_type": "markdown",
      "source": [
        "test set"
      ],
      "metadata": {
        "id": "sZBLTfIoWESS"
      }
    },
    {
      "cell_type": "code",
      "source": [
        "y_pred_test = rand_clf.predict(X_test)\n",
        "# Confusion matrix\n",
        "cm_test_split1 = confusion_matrix(y_test, y_pred_test)\n",
        "print('Confusion Matrix')\n",
        "print('-'*16)\n",
        "print(cm_test_split1,'\\n')\n",
        "print('-'*16)"
      ],
      "metadata": {
        "colab": {
          "base_uri": "https://localhost:8080/"
        },
        "id": "_wj7pLO1WFJO",
        "outputId": "a6a93135-9ab6-405b-9f6f-7fc737b36a0d"
      },
      "execution_count": null,
      "outputs": [
        {
          "output_type": "stream",
          "name": "stdout",
          "text": [
            "Confusion Matrix\n",
            "----------------\n",
            "[[44  2]\n",
            " [ 9 59]] \n",
            "\n",
            "----------------\n"
          ]
        }
      ]
    },
    {
      "cell_type": "code",
      "source": [
        "# Calculate score\n",
        "sen_test_split1 = sensitivity(cm_test_split1)\n",
        "spec_test_split1 = specificity(cm_test_split1)\n",
        "acc_test_split1 = accuracy(cm_test_split1)\n",
        "pre_test_split1 = precision(cm_test_split1)\n",
        "f1_test_split1 = f1(cm_test_split1)"
      ],
      "metadata": {
        "colab": {
          "base_uri": "https://localhost:8080/"
        },
        "id": "o1u15_HxWHgi",
        "outputId": "07d6f0af-1b51-4b74-aaf9-264dd9cfe9a5"
      },
      "execution_count": null,
      "outputs": [
        {
          "output_type": "stream",
          "name": "stdout",
          "text": [
            "Sensitivity: 86.76%\n",
            "Specificity: 95.65%\n",
            "Accuracy: 90.35%\n",
            "Precision: 96.72%\n",
            "Sensitivity: 86.76%\n",
            "Precision: 96.72%\n",
            "F1: 91.47%\n"
          ]
        }
      ]
    },
    {
      "cell_type": "code",
      "source": [
        "# plot confusion matrix\n",
        "class_names = ['benign','malignant']\n",
        "# Normalize confusion matrix to percentage\n",
        "cm_norm_test = cm_test_split1.astype('float') / cm_test_split1.sum(axis=1)[:, np.newaxis]\n",
        "# Create plot\n",
        "fig, ax = plt.subplots()\n",
        "im = ax.imshow(cm_norm_test, interpolation='nearest', cmap=\"rocket_r\")\n",
        "ax.grid(False)\n",
        "# Add labels\n",
        "ax.set(xticks=np.arange(cm_norm_test.shape[1]),\n",
        "       yticks=np.arange(cm_norm_test.shape[0]),\n",
        "       xticklabels=class_names, yticklabels=class_names)\n",
        "ax.set_title(\"Test set\", fontsize=16)\n",
        "ax.set_ylabel('Actual', fontsize=16)\n",
        "ax.set_xlabel('Predicted', fontsize=16)\n",
        "# Add percentage and count values inside plot\n",
        "thresh = cm_norm_test.max() / 2.\n",
        "for i in range(cm_norm_test.shape[0]):\n",
        "    for j in range(cm_norm_test.shape[1]):\n",
        "        ax.text(j, i, '''{}\\n({:.2f}%)'''.format(cm_test_split1[i,j], cm_norm_test[i, j]*100),\n",
        "                ha=\"center\", va=\"center\",\n",
        "                color=\"white\" if cm_norm_test[i, j] > thresh else \"black\")\n",
        "# Show plot\n",
        "plt.show()"
      ],
      "metadata": {
        "colab": {
          "base_uri": "https://localhost:8080/",
          "height": 54
        },
        "id": "lYT40TrCWLEY",
        "outputId": "2fcfcb93-e173-4235-c63f-4b9d1ec44b85"
      },
      "execution_count": null,
      "outputs": [
        {
          "output_type": "display_data",
          "data": {
            "text/plain": [
              "<Figure size 640x480 with 1 Axes>"
            ],
            "image/png": "[encoded data removed]"
          },
          "metadata": {}
        }
      ]
    },
    {
      "cell_type": "markdown",
      "source": [
        "plot ROC curve"
      ],
      "metadata": {
        "id": "dOZEEo1TWOgO"
      }
    },
    {
      "cell_type": "code",
      "source": [
        "fpr1, tpr1, thr1 = roc_curve(y_val, y_pred_val)\n",
        "auc_val = roc_auc_score(y_val, y_pred_val)\n",
        "fpr2, tpr2, thr2 = roc_curve(y_test, y_pred_test)\n",
        "auc_test_split1 = roc_auc_score(y_test, y_pred_test)\n",
        "\n",
        "print(\"---------------------------------------\")\n",
        "print(\"AUC validate: %.4f\" % auc_val)\n",
        "print(\"AUC test: %.4f\" % auc_test_split1)"
      ],
      "metadata": {
        "colab": {
          "base_uri": "https://localhost:8080/"
        },
        "id": "rfjmsloeWPDH",
        "outputId": "43f35c89-cd5d-4071-be24-17d5720db99a"
      },
      "execution_count": null,
      "outputs": [
        {
          "output_type": "stream",
          "name": "stdout",
          "text": [
            "---------------------------------------\n",
            "AUC validate: 0.9199\n",
            "AUC test: 0.9121\n"
          ]
        }
      ]
    },
    {
      "cell_type": "code",
      "source": [
        "# plt.plot(fpr,tpr,label=\"data 1, auc=\"+str(auc),color='red')\n",
        "plt.plot(fpr1,tpr1,label=\"ROC valid, auc=\"+str(\"%.4f\" % auc_val))\n",
        "plt.plot(fpr2,tpr2,label=\"ROC test, auc=\"+str(\"%.4f\" % auc_test_split1))\n",
        "plt.plot([0, 1], [0, 1], linestyle=\"--\", lw=2, color=\"r\", label=\"Chance\", alpha=0.8)\n",
        "plt.legend(loc=4)\n",
        "plt.show()"
      ],
      "metadata": {
        "colab": {
          "base_uri": "https://localhost:8080/",
          "height": 54
        },
        "id": "zMGLZHpvWdqQ",
        "outputId": "fac2dbfd-3630-46eb-f5a7-f4ee8d758002"
      },
      "execution_count": null,
      "outputs": [
        {
          "output_type": "display_data",
          "data": {
            "text/plain": [
              "<Figure size 640x480 with 1 Axes>"
            ],
            "image/png": "[encoded data removed]"
          },
          "metadata": {}
        }
      ]
    },
    {
      "cell_type": "markdown",
      "source": [
        "## Split2"
      ],
      "metadata": {
        "id": "B1-2dfc_Wnfo"
      }
    },
    {
      "cell_type": "markdown",
      "source": [
        "Training set"
      ],
      "metadata": {
        "id": "Csv3STqXWuqz"
      }
    },
    {
      "cell_type": "code",
      "source": [
        "train_data = pd.read_csv(\"oversampled_train_split2.csv\")\n",
        "train_data.shape"
      ],
      "metadata": {
        "colab": {
          "base_uri": "https://localhost:8080/"
        },
        "id": "DV7tMTVVWt5B",
        "outputId": "2f1f4733-f71c-4a82-fb7a-a527c7f83863"
      },
      "execution_count": null,
      "outputs": [
        {
          "output_type": "execute_result",
          "data": {
            "text/plain": [
              "(516, 32)"
            ]
          },
          "metadata": {},
          "execution_count": 37
        }
      ]
    },
    {
      "cell_type": "code",
      "source": [
        "x_train = train_data[train_data.columns[2:]]\n",
        "x_train.shape"
      ],
      "metadata": {
        "colab": {
          "base_uri": "https://localhost:8080/"
        },
        "id": "Bi1JBWgOWw_F",
        "outputId": "e60f3959-35b2-4491-de40-d0d401dd94c8"
      },
      "execution_count": null,
      "outputs": [
        {
          "output_type": "execute_result",
          "data": {
            "text/plain": [
              "(516, 30)"
            ]
          },
          "metadata": {},
          "execution_count": 38
        }
      ]
    },
    {
      "cell_type": "code",
      "source": [
        "y_train = train_data[train_data.columns[1]]\n",
        "#y_train.shape\n",
        "le = LabelEncoder()\n",
        "y_train = np.array(le.fit_transform(y_train))\n",
        "print(le.classes_)"
      ],
      "metadata": {
        "colab": {
          "base_uri": "https://localhost:8080/"
        },
        "id": "U4lvbpQ7Wzat",
        "outputId": "aa9a5a32-3f5d-4271-83e4-8dbbf2a9c2f5"
      },
      "execution_count": null,
      "outputs": [
        {
          "output_type": "stream",
          "name": "stdout",
          "text": [
            "['B' 'M']\n"
          ]
        }
      ]
    },
    {
      "cell_type": "markdown",
      "source": [
        "Testing set"
      ],
      "metadata": {
        "id": "6pN4kAcvW2uI"
      }
    },
    {
      "cell_type": "code",
      "source": [
        "test_data = pd.read_csv(\"test.csv\")\n",
        "test_data.shape"
      ],
      "metadata": {
        "colab": {
          "base_uri": "https://localhost:8080/"
        },
        "id": "kg8f6rrXW3Ij",
        "outputId": "18987540-4651-4e50-8877-16411c7bb77e"
      },
      "execution_count": null,
      "outputs": [
        {
          "output_type": "execute_result",
          "data": {
            "text/plain": [
              "(114, 33)"
            ]
          },
          "metadata": {},
          "execution_count": 40
        }
      ]
    },
    {
      "cell_type": "code",
      "source": [
        "x_test = test_data[test_data.columns[3:]]\n",
        "x_test.shape"
      ],
      "metadata": {
        "colab": {
          "base_uri": "https://localhost:8080/"
        },
        "id": "dVflK433W4-v",
        "outputId": "90f7a9a0-1337-4e67-91cb-cd2dba5c7de1"
      },
      "execution_count": null,
      "outputs": [
        {
          "output_type": "execute_result",
          "data": {
            "text/plain": [
              "(114, 30)"
            ]
          },
          "metadata": {},
          "execution_count": 41
        }
      ]
    },
    {
      "cell_type": "code",
      "source": [
        "y_test = test_data[test_data.columns[2]]\n",
        "#y_test.shape\n",
        "le = LabelEncoder()\n",
        "y_test = np.array(le.fit_transform(y_test))\n",
        "print(le.classes_)"
      ],
      "metadata": {
        "colab": {
          "base_uri": "https://localhost:8080/"
        },
        "id": "fg0NpWcwW6eb",
        "outputId": "39a9b154-a92f-4f86-ad3d-6af85a367afd"
      },
      "execution_count": null,
      "outputs": [
        {
          "output_type": "stream",
          "name": "stdout",
          "text": [
            "['B' 'M']\n"
          ]
        }
      ]
    },
    {
      "cell_type": "markdown",
      "source": [
        "Validation set"
      ],
      "metadata": {
        "id": "s5XkviGXW9ua"
      }
    },
    {
      "cell_type": "code",
      "source": [
        "val_data = pd.read_csv(\"val_split2.csv\")\n",
        "val_data.shape"
      ],
      "metadata": {
        "colab": {
          "base_uri": "https://localhost:8080/"
        },
        "id": "ZgLtuzKzW-Sm",
        "outputId": "f5b6f045-b07f-4e36-c999-217682221c5e"
      },
      "execution_count": null,
      "outputs": [
        {
          "output_type": "execute_result",
          "data": {
            "text/plain": [
              "(91, 32)"
            ]
          },
          "metadata": {},
          "execution_count": 43
        }
      ]
    },
    {
      "cell_type": "code",
      "source": [
        "x_val = val_data[val_data.columns[2:]]\n",
        "x_val.shape"
      ],
      "metadata": {
        "colab": {
          "base_uri": "https://localhost:8080/"
        },
        "id": "HoL5opHgW_vC",
        "outputId": "ad78ca86-6ee6-4710-8018-e638123adf53"
      },
      "execution_count": null,
      "outputs": [
        {
          "output_type": "execute_result",
          "data": {
            "text/plain": [
              "(91, 30)"
            ]
          },
          "metadata": {},
          "execution_count": 44
        }
      ]
    },
    {
      "cell_type": "code",
      "source": [
        "y_val = val_data[val_data.columns[1]]\n",
        "#y_val.shape\n",
        "le = LabelEncoder()\n",
        "y_val = np.array(le.fit_transform(y_val))\n",
        "print(le.classes_)"
      ],
      "metadata": {
        "colab": {
          "base_uri": "https://localhost:8080/"
        },
        "id": "UB_MWiyZXB7z",
        "outputId": "0403530a-edac-42c1-9c5d-1b4e4f693302"
      },
      "execution_count": null,
      "outputs": [
        {
          "output_type": "stream",
          "name": "stdout",
          "text": [
            "['B' 'M']\n"
          ]
        }
      ]
    },
    {
      "cell_type": "markdown",
      "source": [
        "step train -split2"
      ],
      "metadata": {
        "id": "cvXQChCRXGFW"
      }
    },
    {
      "cell_type": "code",
      "source": [
        "x_train = x_train.to_numpy()\n",
        "x_test = x_test.to_numpy()\n",
        "x_val = x_val.to_numpy() "
      ],
      "metadata": {
        "id": "1BK-22fmXGsu"
      },
      "execution_count": null,
      "outputs": []
    },
    {
      "cell_type": "code",
      "source": [
        "from sklearn.model_selection import train_test_split\n",
        "\n",
        "print(\"Shape of training set:\", x_train.shape)\n",
        "print(\"Shape of test set:\", x_test.shape)"
      ],
      "metadata": {
        "colab": {
          "base_uri": "https://localhost:8080/"
        },
        "id": "I2YcIeTPXSX4",
        "outputId": "b7ac84f0-07cc-4f4a-bf41-f8bc16cb79d0"
      },
      "execution_count": null,
      "outputs": [
        {
          "output_type": "stream",
          "name": "stdout",
          "text": [
            "Shape of training set: (516, 30)\n",
            "Shape of test set: (114, 30)\n"
          ]
        }
      ]
    },
    {
      "cell_type": "code",
      "source": [
        "from sklearn.preprocessing import StandardScaler\n",
        "\n",
        "ss = StandardScaler()\n",
        "X_train = ss.fit_transform(x_train)\n",
        "X_test = ss.fit_transform(x_test)\n",
        "X_val = ss.fit_transform(x_val) "
      ],
      "metadata": {
        "id": "9_v512r1XUJD"
      },
      "execution_count": null,
      "outputs": []
    },
    {
      "cell_type": "markdown",
      "source": [
        "หาparameter"
      ],
      "metadata": {
        "id": "vmx-634nXd7z"
      }
    },
    {
      "cell_type": "code",
      "source": [
        "# instantiate classifier ,ยกตัวอย่างclassifier \n",
        "#rf_classifier = RandomForestClassifier(random_state=42, n_estimators=10)"
      ],
      "metadata": {
        "id": "AheC3us7Xe4v"
      },
      "execution_count": null,
      "outputs": []
    },
    {
      "cell_type": "code",
      "source": [
        "# give to GridSearchCV\n",
        "#param_dist = {'max_depth': [2, 3, 4],\n",
        "#             'bootstrap': [True, False],\n",
        "#              'max_features': ['auto', 'sqrt', 'log2', None],\n",
        "#              'criterion': ['gini', 'entropy']}\n",
        "\n",
        "# set up the GridSearch\n",
        "#cv_rf = GridSearchCV(rf_classifier, cv = 5,param_grid=param_dist,n_jobs = 3)\n",
        "\n",
        "# fit the GridSearch\n",
        "#cv_rf.fit(X_train, y_train)\n",
        "#cv_rf.fit(X_val, y_val) #ใช้อันนี้\n",
        "#print('Best Parameters using grid search: \\n', cv_rf.best_params_)\n",
        "\n",
        "#print('Best criterion parameter:', cv_rf.best_params_['criterion'])\n",
        "#print('Best max_depth parameter:', cv_rf.best_params_['max_depth'])\n",
        "#print('Best bootstrap parameter:', cv_rf.best_params_['bootstrap'])\n",
        "#print('Best max_features parameter:', cv_rf.best_params_['max_features'])\n",
        "#print('Best score:', cv_rf.best_score_)"
      ],
      "metadata": {
        "id": "_4EJF5ZyXnFe"
      },
      "execution_count": null,
      "outputs": []
    },
    {
      "cell_type": "markdown",
      "source": [
        "Best Parameters using grid search: \n",
        " {'bootstrap': False, 'criterion': 'entropy', 'max_depth': 4, 'max_features': 'log2'}\n",
        "Best criterion parameter: entropy\n",
        "Best max_depth parameter: 4\n",
        "Best bootstrap parameter: False\n",
        "Best max_features parameter: log2\n",
        "\n",
        "**Best score: 0.9783625730994151**"
      ],
      "metadata": {
        "id": "f5h2Tf8vZUJk"
      }
    },
    {
      "cell_type": "code",
      "source": [
        "from sklearn.ensemble import RandomForestClassifier\n",
        "\n",
        "rand_clf = RandomForestClassifier(criterion = 'gini', max_depth = 2, max_features = 'log2', min_samples_leaf = 2, min_samples_split = 3, n_estimators = 130)\n",
        "rand_clf.fit(X_train, y_train) # map"
      ],
      "metadata": {
        "colab": {
          "base_uri": "https://localhost:8080/",
          "height": 111
        },
        "id": "5Wzs0B8KX6Hk",
        "outputId": "ce76c27d-552b-4652-c8f7-3a84ea148f18"
      },
      "execution_count": null,
      "outputs": [
        {
          "output_type": "execute_result",
          "data": {
            "text/plain": [
              "RandomForestClassifier(max_depth=2, max_features='log2', min_samples_leaf=2,\n",
              "                       min_samples_split=3, n_estimators=130)"
            ],
            "text/html": [
              "<style>#sk-container-id-2 {color: black;background-color: white;}#sk-container-id-2 pre{padding: 0;}#sk-container-id-2 div.sk-toggleable {background-color: white;}#sk-container-id-2 label.sk-toggleable__label {cursor: pointer;display: block;width: 100%;margin-bottom: 0;padding: 0.3em;box-sizing: border-box;text-align: center;}#sk-container-id-2 label.sk-toggleable__label-arrow:before {content: \"▸\";float: left;margin-right: 0.25em;color: #696969;}#sk-container-id-2 label.sk-toggleable__label-arrow:hover:before {color: black;}#sk-container-id-2 div.sk-estimator:hover label.sk-toggleable__label-arrow:before {color: black;}#sk-container-id-2 div.sk-toggleable__content {max-height: 0;max-width: 0;overflow: hidden;text-align: left;background-color: #f0f8ff;}#sk-container-id-2 div.sk-toggleable__content pre {margin: 0.2em;color: black;border-radius: 0.25em;background-color: #f0f8ff;}#sk-container-id-2 input.sk-toggleable__control:checked~div.sk-toggleable__content {max-height: 200px;max-width: 100%;overflow: auto;}#sk-container-id-2 input.sk-toggleable__control:checked~label.sk-toggleable__label-arrow:before {content: \"▾\";}#sk-container-id-2 div.sk-estimator input.sk-toggleable__control:checked~label.sk-toggleable__label {background-color: #d4ebff;}#sk-container-id-2 div.sk-label input.sk-toggleable__control:checked~label.sk-toggleable__label {background-color: #d4ebff;}#sk-container-id-2 input.sk-hidden--visually {border: 0;clip: rect(1px 1px 1px 1px);clip: rect(1px, 1px, 1px, 1px);height: 1px;margin: -1px;overflow: hidden;padding: 0;position: absolute;width: 1px;}#sk-container-id-2 div.sk-estimator {font-family: monospace;background-color: #f0f8ff;border: 1px dotted black;border-radius: 0.25em;box-sizing: border-box;margin-bottom: 0.5em;}#sk-container-id-2 div.sk-estimator:hover {background-color: #d4ebff;}#sk-container-id-2 div.sk-parallel-item::after {content: \"\";width: 100%;border-bottom: 1px solid gray;flex-grow: 1;}#sk-container-id-2 div.sk-label:hover label.sk-toggleable__label {background-color: #d4ebff;}#sk-container-id-2 div.sk-serial::before {content: \"\";position: absolute;border-left: 1px solid gray;box-sizing: border-box;top: 0;bottom: 0;left: 50%;z-index: 0;}#sk-container-id-2 div.sk-serial {display: flex;flex-direction: column;align-items: center;background-color: white;padding-right: 0.2em;padding-left: 0.2em;position: relative;}#sk-container-id-2 div.sk-item {position: relative;z-index: 1;}#sk-container-id-2 div.sk-parallel {display: flex;align-items: stretch;justify-content: center;background-color: white;position: relative;}#sk-container-id-2 div.sk-item::before, #sk-container-id-2 div.sk-parallel-item::before {content: \"\";position: absolute;border-left: 1px solid gray;box-sizing: border-box;top: 0;bottom: 0;left: 50%;z-index: -1;}#sk-container-id-2 div.sk-parallel-item {display: flex;flex-direction: column;z-index: 1;position: relative;background-color: white;}#sk-container-id-2 div.sk-parallel-item:first-child::after {align-self: flex-end;width: 50%;}#sk-container-id-2 div.sk-parallel-item:last-child::after {align-self: flex-start;width: 50%;}#sk-container-id-2 div.sk-parallel-item:only-child::after {width: 0;}#sk-container-id-2 div.sk-dashed-wrapped {border: 1px dashed gray;margin: 0 0.4em 0.5em 0.4em;box-sizing: border-box;padding-bottom: 0.4em;background-color: white;}#sk-container-id-2 div.sk-label label {font-family: monospace;font-weight: bold;display: inline-block;line-height: 1.2em;}#sk-container-id-2 div.sk-label-container {text-align: center;}#sk-container-id-2 div.sk-container {/* jupyter's `normalize.less` sets `[hidden] { display: none; }` but bootstrap.min.css set `[hidden] { display: none !important; }` so we also need the `!important` here to be able to override the default hidden behavior on the sphinx rendered scikit-learn.org. See: https://github.com/scikit-learn/scikit-learn/issues/21755 */display: inline-block !important;position: relative;}#sk-container-id-2 div.sk-text-repr-fallback {display: none;}</style><div id=\"sk-container-id-2\" class=\"sk-top-container\"><div class=\"sk-text-repr-fallback\"><pre>RandomForestClassifier(max_depth=2, max_features=&#x27;log2&#x27;, min_samples_leaf=2,\n",
              "                       min_samples_split=3, n_estimators=130)</pre><b>In a Jupyter environment, please rerun this cell to show the HTML representation or trust the notebook. <br />On GitHub, the HTML representation is unable to render, please try loading this page with nbviewer.org.</b></div><div class=\"sk-container\" hidden><div class=\"sk-item\"><div class=\"sk-estimator sk-toggleable\"><input class=\"sk-toggleable__control sk-hidden--visually\" id=\"sk-estimator-id-2\" type=\"checkbox\" checked><label for=\"sk-estimator-id-2\" class=\"sk-toggleable__label sk-toggleable__label-arrow\">RandomForestClassifier</label><div class=\"sk-toggleable__content\"><pre>RandomForestClassifier(max_depth=2, max_features=&#x27;log2&#x27;, min_samples_leaf=2,\n",
              "                       min_samples_split=3, n_estimators=130)</pre></div></div></div></div></div>"
            ]
          },
          "metadata": {},
          "execution_count": 51
        }
      ]
    },
    {
      "cell_type": "code",
      "source": [
        "y_pred = rand_clf.predict(X_test)"
      ],
      "metadata": {
        "id": "G-n-_3LqZduC"
      },
      "execution_count": null,
      "outputs": []
    },
    {
      "cell_type": "code",
      "source": [
        "y_pred"
      ],
      "metadata": {
        "colab": {
          "base_uri": "https://localhost:8080/"
        },
        "id": "tPKF2B2oZ9FI",
        "outputId": "6e9e9e99-01ec-4caa-b6ba-e558843e220b"
      },
      "execution_count": null,
      "outputs": [
        {
          "output_type": "execute_result",
          "data": {
            "text/plain": [
              "array([1, 1, 1, 0, 1, 0, 1, 1, 1, 0, 1, 1, 1, 0, 1, 1, 1, 1, 1, 0, 0, 0,\n",
              "       1, 1, 1, 1, 1, 1, 1, 1, 1, 1, 1, 1, 1, 1, 1, 0, 0, 0, 0, 0, 1, 1,\n",
              "       0, 1, 0, 1, 0, 0, 0, 0, 0, 1, 1, 0, 1, 1, 0, 0, 0, 0, 1, 0, 1, 1,\n",
              "       0, 0, 0, 0, 1, 0, 1, 0, 0, 1, 0, 1, 1, 0, 0, 0, 1, 1, 0, 1, 0, 1,\n",
              "       0, 1, 0, 1, 0, 0, 1, 1, 0, 0, 0, 1, 1, 0, 0, 0, 0, 1, 0, 0, 1, 0,\n",
              "       0, 0, 0, 0])"
            ]
          },
          "metadata": {},
          "execution_count": 53
        }
      ]
    },
    {
      "cell_type": "code",
      "source": [
        "# accuracy score\n",
        "\n",
        "print(accuracy_score(y_train, rand_clf.predict(X_train)))\n",
        "\n",
        "ran_clf_acc = accuracy_score(y_test, y_pred)\n",
        "print(ran_clf_acc)"
      ],
      "metadata": {
        "colab": {
          "base_uri": "https://localhost:8080/"
        },
        "id": "HpSmNOdcZ_Ek",
        "outputId": "3751e27b-17ff-4d2f-a97f-2f92fa59ffc3"
      },
      "execution_count": null,
      "outputs": [
        {
          "output_type": "stream",
          "name": "stdout",
          "text": [
            "0.9593023255813954\n",
            "0.8947368421052632\n"
          ]
        }
      ]
    },
    {
      "cell_type": "code",
      "source": [
        "# confusion matrix\n",
        "\n",
        "print(confusion_matrix(y_test, y_pred))"
      ],
      "metadata": {
        "colab": {
          "base_uri": "https://localhost:8080/"
        },
        "id": "-CFtnBcZaDy4",
        "outputId": "272406eb-1596-4614-d530-16c074d072a1"
      },
      "execution_count": null,
      "outputs": [
        {
          "output_type": "stream",
          "name": "stdout",
          "text": [
            "[[45  1]\n",
            " [11 57]]\n"
          ]
        }
      ]
    },
    {
      "cell_type": "code",
      "source": [
        "# classification report\n",
        "\n",
        "print(classification_report(y_test, y_pred))"
      ],
      "metadata": {
        "colab": {
          "base_uri": "https://localhost:8080/"
        },
        "id": "eVwIHfnYaGPV",
        "outputId": "7bb99cb6-fa42-4c17-d9cc-2923eaee8957"
      },
      "execution_count": null,
      "outputs": [
        {
          "output_type": "stream",
          "name": "stdout",
          "text": [
            "              precision    recall  f1-score   support\n",
            "\n",
            "           0       0.80      0.98      0.88        46\n",
            "           1       0.98      0.84      0.90        68\n",
            "\n",
            "    accuracy                           0.89       114\n",
            "   macro avg       0.89      0.91      0.89       114\n",
            "weighted avg       0.91      0.89      0.90       114\n",
            "\n"
          ]
        }
      ]
    },
    {
      "cell_type": "markdown",
      "source": [
        "validate set"
      ],
      "metadata": {
        "id": "SJg6RvVRaKx3"
      }
    },
    {
      "cell_type": "code",
      "source": [
        "y_pred_val = rand_clf.predict(X_val)\n",
        "cm_val = confusion_matrix(y_val, y_pred_val)\n",
        "print('Confusion Matrix')\n",
        "print('-'*16)\n",
        "print(cm_val,'\\n')\n",
        "print('-'*16)"
      ],
      "metadata": {
        "colab": {
          "base_uri": "https://localhost:8080/"
        },
        "id": "VV47-IwDaLPj",
        "outputId": "cf6f3aa4-62e4-4ade-d8bd-08172802b3f8"
      },
      "execution_count": null,
      "outputs": [
        {
          "output_type": "stream",
          "name": "stdout",
          "text": [
            "Confusion Matrix\n",
            "----------------\n",
            "[[50  3]\n",
            " [ 1 37]] \n",
            "\n",
            "----------------\n"
          ]
        }
      ]
    },
    {
      "cell_type": "code",
      "source": [
        " # Calculate score\n",
        "sen_val = sensitivity(cm_val)\n",
        "spec_val = specificity(cm_val)\n",
        "acc_val = accuracy(cm_val)\n",
        "pre_val = precision(cm_val)\n",
        "f1_val = f1(cm_val)"
      ],
      "metadata": {
        "colab": {
          "base_uri": "https://localhost:8080/"
        },
        "id": "M9AlqxoFaOk2",
        "outputId": "7933d5a8-bc40-44ac-88e9-54a07250ad57"
      },
      "execution_count": null,
      "outputs": [
        {
          "output_type": "stream",
          "name": "stdout",
          "text": [
            "Sensitivity: 97.37%\n",
            "Specificity: 94.34%\n",
            "Accuracy: 95.60%\n",
            "Precision: 92.50%\n",
            "Sensitivity: 97.37%\n",
            "Precision: 92.50%\n",
            "F1: 94.87%\n"
          ]
        }
      ]
    },
    {
      "cell_type": "code",
      "source": [
        "class_names = ['benign','malignant']\n",
        "# Normalize confusion matrix to percentage\n",
        "cm_norm_val = cm_val.astype('float') / cm_val.sum(axis=1)[:, np.newaxis]\n",
        "# Create plot\n",
        "fig, ax = plt.subplots()\n",
        "im = ax.imshow(cm_norm_val, interpolation='nearest', cmap=\"rocket_r\")\n",
        "ax.grid(False)\n",
        "# Add labels\n",
        "ax.set(xticks=np.arange(cm_norm_val.shape[1]),\n",
        "       yticks=np.arange(cm_norm_val.shape[0]),\n",
        "       xticklabels=class_names, yticklabels=class_names)\n",
        "ax.set_title(\"Validate set\", fontsize=16)\n",
        "ax.set_ylabel('Actual', fontsize=16)\n",
        "ax.set_xlabel('Predicted', fontsize=16)\n",
        "# Add percentage and count values inside plot\n",
        "thresh = cm_norm_val.max() / 2.\n",
        "for i in range(cm_norm_val.shape[0]):\n",
        "    for j in range(cm_norm_val.shape[1]):\n",
        "        ax.text(j, i, '''{}\\n({:.2f}%)'''.format(cm_val[i,j], cm_norm_val[i, j]*100),\n",
        "                ha=\"center\", va=\"center\",\n",
        "                color=\"white\" if cm_norm_val[i, j] > thresh else \"black\")\n",
        "# Show plot\n",
        "plt.show()"
      ],
      "metadata": {
        "colab": {
          "base_uri": "https://localhost:8080/",
          "height": 54
        },
        "id": "fTkjUJjxaS1h",
        "outputId": "2433b892-6825-4c97-a186-dbf9fb7f3bdb"
      },
      "execution_count": null,
      "outputs": [
        {
          "output_type": "display_data",
          "data": {
            "text/plain": [
              "<Figure size 640x480 with 1 Axes>"
            ],
            "image/png": "[encoded data removed]"
          },
          "metadata": {}
        }
      ]
    },
    {
      "cell_type": "markdown",
      "source": [
        "test set"
      ],
      "metadata": {
        "id": "yDzgx8fdaVw-"
      }
    },
    {
      "cell_type": "code",
      "source": [
        "y_pred_test = rand_clf.predict(X_test)\n",
        "# Confusion matrix\n",
        "cm_test_split2 = confusion_matrix(y_test, y_pred_test)\n",
        "print('Confusion Matrix')\n",
        "print('-'*16)\n",
        "print(cm_test_split2,'\\n')\n",
        "print('-'*16)"
      ],
      "metadata": {
        "colab": {
          "base_uri": "https://localhost:8080/"
        },
        "id": "gS-bTpHoaWKQ",
        "outputId": "25531b74-9027-4a07-d4f5-0bf8a5dd36b3"
      },
      "execution_count": null,
      "outputs": [
        {
          "output_type": "stream",
          "name": "stdout",
          "text": [
            "Confusion Matrix\n",
            "----------------\n",
            "[[45  1]\n",
            " [11 57]] \n",
            "\n",
            "----------------\n"
          ]
        }
      ]
    },
    {
      "cell_type": "code",
      "source": [
        "# Calculate score\n",
        "sen_test_split2 = sensitivity(cm_test_split2)\n",
        "spec_test_split2 = specificity(cm_test_split2)\n",
        "acc_test_split2 = accuracy(cm_test_split2)\n",
        "pre_test_split2 = precision(cm_test_split2)\n",
        "f1_test_split2 = f1(cm_test_split2)"
      ],
      "metadata": {
        "colab": {
          "base_uri": "https://localhost:8080/"
        },
        "id": "Mr4Kepc4aXls",
        "outputId": "1ae2dacf-205c-4c67-ba39-f9d0a5cde7be"
      },
      "execution_count": null,
      "outputs": [
        {
          "output_type": "stream",
          "name": "stdout",
          "text": [
            "Sensitivity: 83.82%\n",
            "Specificity: 97.83%\n",
            "Accuracy: 89.47%\n",
            "Precision: 98.28%\n",
            "Sensitivity: 83.82%\n",
            "Precision: 98.28%\n",
            "F1: 90.48%\n"
          ]
        }
      ]
    },
    {
      "cell_type": "code",
      "source": [
        "# plot confusion matrix\n",
        "class_names = ['benign','malignant']\n",
        "# Normalize confusion matrix to percentage\n",
        "cm_norm_test = cm_test_split2.astype('float') / cm_test_split2.sum(axis=1)[:, np.newaxis]\n",
        "# Create plot\n",
        "fig, ax = plt.subplots()\n",
        "im = ax.imshow(cm_norm_test, interpolation='nearest', cmap=\"rocket_r\")\n",
        "ax.grid(False)\n",
        "# Add labels\n",
        "ax.set(xticks=np.arange(cm_norm_test.shape[1]),\n",
        "       yticks=np.arange(cm_norm_test.shape[0]),\n",
        "       xticklabels=class_names, yticklabels=class_names)\n",
        "ax.set_title(\"Test set\", fontsize=16)\n",
        "ax.set_ylabel('Actual', fontsize=16)\n",
        "ax.set_xlabel('Predicted', fontsize=16)\n",
        "# Add percentage and count values inside plot\n",
        "thresh = cm_norm_test.max() / 2.\n",
        "for i in range(cm_norm_test.shape[0]):\n",
        "    for j in range(cm_norm_test.shape[1]):\n",
        "        ax.text(j, i, '''{}\\n({:.2f}%)'''.format(cm_test_split2[i,j], cm_norm_test[i, j]*100),\n",
        "                ha=\"center\", va=\"center\",\n",
        "                color=\"white\" if cm_norm_test[i, j] > thresh else \"black\")\n",
        "# Show plot\n",
        "plt.show()"
      ],
      "metadata": {
        "colab": {
          "base_uri": "https://localhost:8080/",
          "height": 54
        },
        "id": "4VyjfQrUagYo",
        "outputId": "792db6e3-24f3-4395-83da-2d5bec926f08"
      },
      "execution_count": null,
      "outputs": [
        {
          "output_type": "display_data",
          "data": {
            "text/plain": [
              "<Figure size 640x480 with 1 Axes>"
            ],
            "image/png": "[encoded data removed]"
          },
          "metadata": {}
        }
      ]
    },
    {
      "cell_type": "markdown",
      "source": [
        "plot ROC curve"
      ],
      "metadata": {
        "id": "Vf0Nez-JajDd"
      }
    },
    {
      "cell_type": "code",
      "source": [
        "fpr1, tpr1, thr1 = roc_curve(y_val, y_pred_val)\n",
        "auc_val = roc_auc_score(y_val, y_pred_val)\n",
        "fpr2, tpr2, thr2 = roc_curve(y_test, y_pred_test)\n",
        "auc_test_split2 = roc_auc_score(y_test, y_pred_test)\n",
        "\n",
        "print(\"---------------------------------------\")\n",
        "print(\"AUC validate: %.4f\" % auc_val)\n",
        "print(\"AUC test: %.4f\" % auc_test_split2)"
      ],
      "metadata": {
        "colab": {
          "base_uri": "https://localhost:8080/"
        },
        "id": "mua28avBajho",
        "outputId": "c8de32d4-d7f8-494b-ee2a-bc725516c3a3"
      },
      "execution_count": null,
      "outputs": [
        {
          "output_type": "stream",
          "name": "stdout",
          "text": [
            "---------------------------------------\n",
            "AUC validate: 0.9585\n",
            "AUC test: 0.9082\n"
          ]
        }
      ]
    },
    {
      "cell_type": "code",
      "source": [
        "# plt.plot(fpr,tpr,label=\"data 1, auc=\"+str(auc),color='red')\n",
        "plt.plot(fpr1,tpr1,label=\"ROC valid, auc=\"+str(\"%.4f\" % auc_val))\n",
        "plt.plot(fpr2,tpr2,label=\"ROC test, auc=\"+str(\"%.4f\" % auc_test_split2))\n",
        "plt.plot([0, 1], [0, 1], linestyle=\"--\", lw=2, color=\"r\", label=\"Chance\", alpha=0.8)\n",
        "plt.legend(loc=4)\n",
        "plt.show()"
      ],
      "metadata": {
        "colab": {
          "base_uri": "https://localhost:8080/",
          "height": 54
        },
        "id": "3iRjXo1_anwe",
        "outputId": "8dfcca53-adcc-46c2-8b77-cb806b5eb365"
      },
      "execution_count": null,
      "outputs": [
        {
          "output_type": "display_data",
          "data": {
            "text/plain": [
              "<Figure size 640x480 with 1 Axes>"
            ],
            "image/png": "[encoded data removed]"
          },
          "metadata": {}
        }
      ]
    },
    {
      "cell_type": "markdown",
      "source": [
        "## split3"
      ],
      "metadata": {
        "id": "xjj72no2bdYN"
      }
    },
    {
      "cell_type": "markdown",
      "source": [
        "Training set"
      ],
      "metadata": {
        "id": "PT9thF6lbmWF"
      }
    },
    {
      "cell_type": "code",
      "source": [
        "train_data = pd.read_csv(\"oversampled_train_split3.csv\")\n",
        "train_data.shape"
      ],
      "metadata": {
        "colab": {
          "base_uri": "https://localhost:8080/"
        },
        "id": "5ozKS-13bo_r",
        "outputId": "61580b93-cbbd-48a7-aeac-31989bafc273"
      },
      "execution_count": null,
      "outputs": [
        {
          "output_type": "execute_result",
          "data": {
            "text/plain": [
              "(490, 32)"
            ]
          },
          "metadata": {},
          "execution_count": 65
        }
      ]
    },
    {
      "cell_type": "code",
      "source": [
        "x_train = train_data[train_data.columns[2:]]\n",
        "x_train.shape"
      ],
      "metadata": {
        "colab": {
          "base_uri": "https://localhost:8080/"
        },
        "id": "IONA4QfFbpS_",
        "outputId": "819d5e84-7a97-4465-ff1f-35f2ba081087"
      },
      "execution_count": null,
      "outputs": [
        {
          "output_type": "execute_result",
          "data": {
            "text/plain": [
              "(490, 30)"
            ]
          },
          "metadata": {},
          "execution_count": 66
        }
      ]
    },
    {
      "cell_type": "code",
      "source": [
        "y_train = train_data[train_data.columns[1]]\n",
        "#y_train.shape\n",
        "le = LabelEncoder()\n",
        "y_train = np.array(le.fit_transform(y_train))\n",
        "print(le.classes_)"
      ],
      "metadata": {
        "colab": {
          "base_uri": "https://localhost:8080/"
        },
        "id": "mfSvNACObpa-",
        "outputId": "b0e89e0b-e0de-4729-f2e6-899e3e908738"
      },
      "execution_count": null,
      "outputs": [
        {
          "output_type": "stream",
          "name": "stdout",
          "text": [
            "['B' 'M']\n"
          ]
        }
      ]
    },
    {
      "cell_type": "markdown",
      "source": [
        "Testing set"
      ],
      "metadata": {
        "id": "LMMNurHfbvVt"
      }
    },
    {
      "cell_type": "code",
      "source": [
        "test_data = pd.read_csv(\"test.csv\")\n",
        "test_data.shape"
      ],
      "metadata": {
        "colab": {
          "base_uri": "https://localhost:8080/"
        },
        "id": "fJZJC5Nhbv2N",
        "outputId": "2a072a87-f330-47a4-ec3c-e0d2358a286b"
      },
      "execution_count": null,
      "outputs": [
        {
          "output_type": "execute_result",
          "data": {
            "text/plain": [
              "(114, 33)"
            ]
          },
          "metadata": {},
          "execution_count": 68
        }
      ]
    },
    {
      "cell_type": "code",
      "source": [
        "x_test = test_data[test_data.columns[3:]]\n",
        "x_test.shape"
      ],
      "metadata": {
        "colab": {
          "base_uri": "https://localhost:8080/"
        },
        "id": "xQeryCMlbwCs",
        "outputId": "7879715e-464c-496b-e051-4998cf3663bc"
      },
      "execution_count": null,
      "outputs": [
        {
          "output_type": "execute_result",
          "data": {
            "text/plain": [
              "(114, 30)"
            ]
          },
          "metadata": {},
          "execution_count": 69
        }
      ]
    },
    {
      "cell_type": "code",
      "source": [
        "y_test = test_data[test_data.columns[2]]\n",
        "#y_test.shape\n",
        "le = LabelEncoder()\n",
        "y_test = np.array(le.fit_transform(y_test))\n",
        "print(le.classes_)"
      ],
      "metadata": {
        "colab": {
          "base_uri": "https://localhost:8080/"
        },
        "id": "MnKuOh8FbwLC",
        "outputId": "86ae396c-7f5f-43e6-eb97-fdff411a3833"
      },
      "execution_count": null,
      "outputs": [
        {
          "output_type": "stream",
          "name": "stdout",
          "text": [
            "['B' 'M']\n"
          ]
        }
      ]
    },
    {
      "cell_type": "markdown",
      "source": [
        "Validation set"
      ],
      "metadata": {
        "id": "0cqNFrl-b3RP"
      }
    },
    {
      "cell_type": "code",
      "source": [
        "val_data = pd.read_csv(\"val_split3.csv\")\n",
        "val_data.shape"
      ],
      "metadata": {
        "colab": {
          "base_uri": "https://localhost:8080/"
        },
        "id": "h8cbPCBnb3t8",
        "outputId": "f046ba53-3a82-42d9-c48a-c156cffda155"
      },
      "execution_count": null,
      "outputs": [
        {
          "output_type": "execute_result",
          "data": {
            "text/plain": [
              "(91, 32)"
            ]
          },
          "metadata": {},
          "execution_count": 71
        }
      ]
    },
    {
      "cell_type": "code",
      "source": [
        "x_val = val_data[val_data.columns[2:]]\n",
        "x_val.shape"
      ],
      "metadata": {
        "colab": {
          "base_uri": "https://localhost:8080/"
        },
        "id": "E5ofbrdlb3xf",
        "outputId": "be33afca-92cb-4e35-b257-d1d17e963064"
      },
      "execution_count": null,
      "outputs": [
        {
          "output_type": "execute_result",
          "data": {
            "text/plain": [
              "(91, 30)"
            ]
          },
          "metadata": {},
          "execution_count": 72
        }
      ]
    },
    {
      "cell_type": "code",
      "source": [
        "y_val = val_data[val_data.columns[1]]\n",
        "#y_val.shape\n",
        "le = LabelEncoder()\n",
        "y_val = np.array(le.fit_transform(y_val))\n",
        "print(le.classes_)"
      ],
      "metadata": {
        "colab": {
          "base_uri": "https://localhost:8080/"
        },
        "id": "8GWq3eVMb32u",
        "outputId": "6bab464a-f2f6-4456-f728-80788906b8ef"
      },
      "execution_count": null,
      "outputs": [
        {
          "output_type": "stream",
          "name": "stdout",
          "text": [
            "['B' 'M']\n"
          ]
        }
      ]
    },
    {
      "cell_type": "markdown",
      "source": [
        "step train- split3"
      ],
      "metadata": {
        "id": "Xpqp0dzQb8D_"
      }
    },
    {
      "cell_type": "code",
      "source": [
        "x_train = x_train.to_numpy()\n",
        "x_test = x_test.to_numpy()\n",
        "x_val = x_val.to_numpy()  # เพิ่ม"
      ],
      "metadata": {
        "id": "GnsEO9n7cACZ"
      },
      "execution_count": null,
      "outputs": []
    },
    {
      "cell_type": "code",
      "source": [
        "from sklearn.model_selection import train_test_split\n",
        "\n",
        "print(\"Shape of training set:\", x_train.shape)\n",
        "print(\"Shape of test set:\", x_test.shape)"
      ],
      "metadata": {
        "colab": {
          "base_uri": "https://localhost:8080/"
        },
        "id": "b8ra2SOlcCCB",
        "outputId": "b3ec8daf-4e36-4988-9d25-b268e024ff49"
      },
      "execution_count": null,
      "outputs": [
        {
          "output_type": "stream",
          "name": "stdout",
          "text": [
            "Shape of training set: (490, 30)\n",
            "Shape of test set: (114, 30)\n"
          ]
        }
      ]
    },
    {
      "cell_type": "code",
      "source": [
        "from sklearn.preprocessing import StandardScaler\n",
        "\n",
        "ss = StandardScaler()\n",
        "X_train = ss.fit_transform(x_train)\n",
        "X_test = ss.fit_transform(x_test)\n",
        "X_val = ss.fit_transform(x_val)   # เพิ่ม"
      ],
      "metadata": {
        "id": "54SqLUZOcDv3"
      },
      "execution_count": null,
      "outputs": []
    },
    {
      "cell_type": "markdown",
      "source": [
        "param"
      ],
      "metadata": {
        "id": "AVvDvlqBe3fw"
      }
    },
    {
      "cell_type": "code",
      "source": [
        "# instantiate classifier ,ยกตัวอย่างclassifier \n",
        "#rf_classifier = RandomForestClassifier(random_state=42, n_estimators=10)"
      ],
      "metadata": {
        "id": "3p18Rjfae65Y"
      },
      "execution_count": null,
      "outputs": []
    },
    {
      "cell_type": "code",
      "source": [
        "# give to GridSearchCV\n",
        "#param_dist = {'max_depth': [2, 3, 4],\n",
        "#             'bootstrap': [True, False],\n",
        "#              'max_features': ['auto', 'sqrt', 'log2', None],\n",
        "#              'criterion': ['gini', 'entropy']}\n",
        "\n",
        "# set up the GridSearch\n",
        "#cv_rf = GridSearchCV(rf_classifier, cv = 5,param_grid=param_dist,n_jobs = 3)\n",
        "\n",
        "# fit the GridSearch\n",
        "#cv_rf.fit(X_train, y_train)\n",
        "#cv_rf.fit(X_val, y_val) #ใช้อันนี้\n",
        "#print('Best Parameters using grid search: \\n', cv_rf.best_params_)\n",
        "\n",
        "#print('Best criterion parameter:', cv_rf.best_params_['criterion'])\n",
        "#print('Best max_depth parameter:', cv_rf.best_params_['max_depth'])\n",
        "#print('Best bootstrap parameter:', cv_rf.best_params_['bootstrap'])\n",
        "#print('Best max_features parameter:', cv_rf.best_params_['max_features'])\n",
        "#print('Best score:', cv_rf.best_score_)"
      ],
      "metadata": {
        "id": "Yycl5b9dfAZP"
      },
      "execution_count": null,
      "outputs": []
    },
    {
      "cell_type": "markdown",
      "source": [
        "Best Parameters using grid search: \n",
        " {'bootstrap': True, 'criterion': 'gini', 'max_depth': 2, 'max_features': 'log2'}\n",
        "Best criterion parameter: gini\n",
        "Best max_depth parameter: 2\n",
        "Best bootstrap parameter: True\n",
        "Best max_features parameter: log2\n",
        "\n",
        "**Best score: 0.967251461988304**"
      ],
      "metadata": {
        "id": "v8fZNGLRfGC_"
      }
    },
    {
      "cell_type": "code",
      "source": [
        "from sklearn.ensemble import RandomForestClassifier\n",
        "\n",
        "rand_clf = RandomForestClassifier(criterion = 'gini', max_depth = 2, max_features = 'log2', min_samples_leaf = 2, min_samples_split = 3, n_estimators = 130)\n",
        "rand_clf.fit(X_train, y_train) # map"
      ],
      "metadata": {
        "colab": {
          "base_uri": "https://localhost:8080/",
          "height": 111
        },
        "id": "2Of4UO27fGN3",
        "outputId": "879107d5-b3ab-4078-8e06-5d80fdbd3557"
      },
      "execution_count": null,
      "outputs": [
        {
          "output_type": "execute_result",
          "data": {
            "text/plain": [
              "RandomForestClassifier(max_depth=2, max_features='log2', min_samples_leaf=2,\n",
              "                       min_samples_split=3, n_estimators=130)"
            ],
            "text/html": [
              "<style>#sk-container-id-3 {color: black;background-color: white;}#sk-container-id-3 pre{padding: 0;}#sk-container-id-3 div.sk-toggleable {background-color: white;}#sk-container-id-3 label.sk-toggleable__label {cursor: pointer;display: block;width: 100%;margin-bottom: 0;padding: 0.3em;box-sizing: border-box;text-align: center;}#sk-container-id-3 label.sk-toggleable__label-arrow:before {content: \"▸\";float: left;margin-right: 0.25em;color: #696969;}#sk-container-id-3 label.sk-toggleable__label-arrow:hover:before {color: black;}#sk-container-id-3 div.sk-estimator:hover label.sk-toggleable__label-arrow:before {color: black;}#sk-container-id-3 div.sk-toggleable__content {max-height: 0;max-width: 0;overflow: hidden;text-align: left;background-color: #f0f8ff;}#sk-container-id-3 div.sk-toggleable__content pre {margin: 0.2em;color: black;border-radius: 0.25em;background-color: #f0f8ff;}#sk-container-id-3 input.sk-toggleable__control:checked~div.sk-toggleable__content {max-height: 200px;max-width: 100%;overflow: auto;}#sk-container-id-3 input.sk-toggleable__control:checked~label.sk-toggleable__label-arrow:before {content: \"▾\";}#sk-container-id-3 div.sk-estimator input.sk-toggleable__control:checked~label.sk-toggleable__label {background-color: #d4ebff;}#sk-container-id-3 div.sk-label input.sk-toggleable__control:checked~label.sk-toggleable__label {background-color: #d4ebff;}#sk-container-id-3 input.sk-hidden--visually {border: 0;clip: rect(1px 1px 1px 1px);clip: rect(1px, 1px, 1px, 1px);height: 1px;margin: -1px;overflow: hidden;padding: 0;position: absolute;width: 1px;}#sk-container-id-3 div.sk-estimator {font-family: monospace;background-color: #f0f8ff;border: 1px dotted black;border-radius: 0.25em;box-sizing: border-box;margin-bottom: 0.5em;}#sk-container-id-3 div.sk-estimator:hover {background-color: #d4ebff;}#sk-container-id-3 div.sk-parallel-item::after {content: \"\";width: 100%;border-bottom: 1px solid gray;flex-grow: 1;}#sk-container-id-3 div.sk-label:hover label.sk-toggleable__label {background-color: #d4ebff;}#sk-container-id-3 div.sk-serial::before {content: \"\";position: absolute;border-left: 1px solid gray;box-sizing: border-box;top: 0;bottom: 0;left: 50%;z-index: 0;}#sk-container-id-3 div.sk-serial {display: flex;flex-direction: column;align-items: center;background-color: white;padding-right: 0.2em;padding-left: 0.2em;position: relative;}#sk-container-id-3 div.sk-item {position: relative;z-index: 1;}#sk-container-id-3 div.sk-parallel {display: flex;align-items: stretch;justify-content: center;background-color: white;position: relative;}#sk-container-id-3 div.sk-item::before, #sk-container-id-3 div.sk-parallel-item::before {content: \"\";position: absolute;border-left: 1px solid gray;box-sizing: border-box;top: 0;bottom: 0;left: 50%;z-index: -1;}#sk-container-id-3 div.sk-parallel-item {display: flex;flex-direction: column;z-index: 1;position: relative;background-color: white;}#sk-container-id-3 div.sk-parallel-item:first-child::after {align-self: flex-end;width: 50%;}#sk-container-id-3 div.sk-parallel-item:last-child::after {align-self: flex-start;width: 50%;}#sk-container-id-3 div.sk-parallel-item:only-child::after {width: 0;}#sk-container-id-3 div.sk-dashed-wrapped {border: 1px dashed gray;margin: 0 0.4em 0.5em 0.4em;box-sizing: border-box;padding-bottom: 0.4em;background-color: white;}#sk-container-id-3 div.sk-label label {font-family: monospace;font-weight: bold;display: inline-block;line-height: 1.2em;}#sk-container-id-3 div.sk-label-container {text-align: center;}#sk-container-id-3 div.sk-container {/* jupyter's `normalize.less` sets `[hidden] { display: none; }` but bootstrap.min.css set `[hidden] { display: none !important; }` so we also need the `!important` here to be able to override the default hidden behavior on the sphinx rendered scikit-learn.org. See: https://github.com/scikit-learn/scikit-learn/issues/21755 */display: inline-block !important;position: relative;}#sk-container-id-3 div.sk-text-repr-fallback {display: none;}</style><div id=\"sk-container-id-3\" class=\"sk-top-container\"><div class=\"sk-text-repr-fallback\"><pre>RandomForestClassifier(max_depth=2, max_features=&#x27;log2&#x27;, min_samples_leaf=2,\n",
              "                       min_samples_split=3, n_estimators=130)</pre><b>In a Jupyter environment, please rerun this cell to show the HTML representation or trust the notebook. <br />On GitHub, the HTML representation is unable to render, please try loading this page with nbviewer.org.</b></div><div class=\"sk-container\" hidden><div class=\"sk-item\"><div class=\"sk-estimator sk-toggleable\"><input class=\"sk-toggleable__control sk-hidden--visually\" id=\"sk-estimator-id-3\" type=\"checkbox\" checked><label for=\"sk-estimator-id-3\" class=\"sk-toggleable__label sk-toggleable__label-arrow\">RandomForestClassifier</label><div class=\"sk-toggleable__content\"><pre>RandomForestClassifier(max_depth=2, max_features=&#x27;log2&#x27;, min_samples_leaf=2,\n",
              "                       min_samples_split=3, n_estimators=130)</pre></div></div></div></div></div>"
            ]
          },
          "metadata": {},
          "execution_count": 79
        }
      ]
    },
    {
      "cell_type": "code",
      "source": [
        "y_pred = rand_clf.predict(X_test)"
      ],
      "metadata": {
        "id": "lkOXiZddfJfx"
      },
      "execution_count": null,
      "outputs": []
    },
    {
      "cell_type": "code",
      "source": [
        "y_pred"
      ],
      "metadata": {
        "colab": {
          "base_uri": "https://localhost:8080/"
        },
        "id": "g9STmmrBfRmR",
        "outputId": "08a0fcae-eca9-40b9-865a-0e404c4e42ef"
      },
      "execution_count": null,
      "outputs": [
        {
          "output_type": "execute_result",
          "data": {
            "text/plain": [
              "array([1, 1, 1, 1, 1, 1, 1, 1, 1, 1, 1, 1, 1, 1, 1, 1, 1, 1, 1, 0, 0, 0,\n",
              "       1, 1, 1, 1, 1, 1, 1, 1, 1, 1, 1, 1, 1, 1, 1, 0, 0, 0, 0, 0, 1, 1,\n",
              "       0, 1, 0, 1, 0, 0, 0, 0, 0, 1, 1, 0, 1, 1, 0, 0, 0, 0, 1, 0, 1, 1,\n",
              "       0, 0, 0, 0, 1, 0, 1, 0, 0, 1, 0, 1, 1, 0, 0, 0, 1, 1, 0, 1, 0, 1,\n",
              "       0, 1, 0, 1, 0, 0, 1, 1, 0, 0, 0, 1, 0, 0, 0, 0, 0, 1, 0, 0, 1, 0,\n",
              "       0, 0, 1, 0])"
            ]
          },
          "metadata": {},
          "execution_count": 81
        }
      ]
    },
    {
      "cell_type": "code",
      "source": [
        "# accuracy score\n",
        "\n",
        "print(accuracy_score(y_train, rand_clf.predict(X_train)))\n",
        "\n",
        "ran_clf_acc = accuracy_score(y_test, y_pred)\n",
        "print(ran_clf_acc)"
      ],
      "metadata": {
        "colab": {
          "base_uri": "https://localhost:8080/"
        },
        "id": "FbM7p2IGfXfC",
        "outputId": "663cceca-0bd5-465c-9f7a-0b4e9572123e"
      },
      "execution_count": null,
      "outputs": [
        {
          "output_type": "stream",
          "name": "stdout",
          "text": [
            "0.9693877551020408\n",
            "0.9122807017543859\n"
          ]
        }
      ]
    },
    {
      "cell_type": "code",
      "source": [
        "# confusion matrix\n",
        "\n",
        "print(confusion_matrix(y_test, y_pred))\n"
      ],
      "metadata": {
        "colab": {
          "base_uri": "https://localhost:8080/"
        },
        "id": "l2fJm7Wpfa_l",
        "outputId": "facf4ce4-4d9a-49bf-b2d3-56f0424ff0ed"
      },
      "execution_count": null,
      "outputs": [
        {
          "output_type": "stream",
          "name": "stdout",
          "text": [
            "[[44  2]\n",
            " [ 8 60]]\n"
          ]
        }
      ]
    },
    {
      "cell_type": "code",
      "source": [
        "# classification report\n",
        "\n",
        "print(classification_report(y_test, y_pred))"
      ],
      "metadata": {
        "colab": {
          "base_uri": "https://localhost:8080/"
        },
        "id": "TB37oIeRfeMO",
        "outputId": "4020c02f-cbb7-4fae-a817-d907b203d9f7"
      },
      "execution_count": null,
      "outputs": [
        {
          "output_type": "stream",
          "name": "stdout",
          "text": [
            "              precision    recall  f1-score   support\n",
            "\n",
            "           0       0.85      0.96      0.90        46\n",
            "           1       0.97      0.88      0.92        68\n",
            "\n",
            "    accuracy                           0.91       114\n",
            "   macro avg       0.91      0.92      0.91       114\n",
            "weighted avg       0.92      0.91      0.91       114\n",
            "\n"
          ]
        }
      ]
    },
    {
      "cell_type": "markdown",
      "source": [
        "validate set"
      ],
      "metadata": {
        "id": "s5HUdpFlfhEE"
      }
    },
    {
      "cell_type": "code",
      "source": [
        "y_pred_val = rand_clf.predict(X_val)\n",
        "cm_val = confusion_matrix(y_val, y_pred_val)\n",
        "print('Confusion Matrix')\n",
        "print('-'*16)\n",
        "print(cm_val,'\\n')\n",
        "print('-'*16)\n"
      ],
      "metadata": {
        "colab": {
          "base_uri": "https://localhost:8080/"
        },
        "id": "KD-W5RAzfhYj",
        "outputId": "3b1e0965-9132-45c4-c847-41858afa8d91"
      },
      "execution_count": null,
      "outputs": [
        {
          "output_type": "stream",
          "name": "stdout",
          "text": [
            "Confusion Matrix\n",
            "----------------\n",
            "[[58  8]\n",
            " [ 1 24]] \n",
            "\n",
            "----------------\n"
          ]
        }
      ]
    },
    {
      "cell_type": "code",
      "source": [
        " # Calculate score\n",
        "sen_val = sensitivity(cm_val)\n",
        "spec_val = specificity(cm_val)\n",
        "acc_val = accuracy(cm_val)\n",
        "pre_val = precision(cm_val)\n",
        "f1_val = f1(cm_val)"
      ],
      "metadata": {
        "colab": {
          "base_uri": "https://localhost:8080/"
        },
        "id": "NWH08WFXfi_B",
        "outputId": "0001dd68-0a8d-481c-aae0-a11c4ccb0d4d"
      },
      "execution_count": null,
      "outputs": [
        {
          "output_type": "stream",
          "name": "stdout",
          "text": [
            "Sensitivity: 96.00%\n",
            "Specificity: 87.88%\n",
            "Accuracy: 90.11%\n",
            "Precision: 75.00%\n",
            "Sensitivity: 96.00%\n",
            "Precision: 75.00%\n",
            "F1: 84.21%\n"
          ]
        }
      ]
    },
    {
      "cell_type": "code",
      "source": [
        "class_names = ['benign','malignant']\n",
        "# Normalize confusion matrix to percentage\n",
        "cm_norm_val = cm_val.astype('float') / cm_val.sum(axis=1)[:, np.newaxis]\n",
        "# Create plot\n",
        "fig, ax = plt.subplots()\n",
        "im = ax.imshow(cm_norm_val, interpolation='nearest', cmap=\"rocket_r\")\n",
        "ax.grid(False)\n",
        "# Add labels\n",
        "ax.set(xticks=np.arange(cm_norm_val.shape[1]),\n",
        "       yticks=np.arange(cm_norm_val.shape[0]),\n",
        "       xticklabels=class_names, yticklabels=class_names)\n",
        "ax.set_title(\"Validate set\", fontsize=16)\n",
        "ax.set_ylabel('Actual', fontsize=16)\n",
        "ax.set_xlabel('Predicted', fontsize=16)\n",
        "# Add percentage and count values inside plot\n",
        "thresh = cm_norm_val.max() / 2.\n",
        "for i in range(cm_norm_val.shape[0]):\n",
        "    for j in range(cm_norm_val.shape[1]):\n",
        "        ax.text(j, i, '''{}\\n({:.2f}%)'''.format(cm_val[i,j], cm_norm_val[i, j]*100),\n",
        "                ha=\"center\", va=\"center\",\n",
        "                color=\"white\" if cm_norm_val[i, j] > thresh else \"black\")\n",
        "# Show plot\n",
        "plt.show()"
      ],
      "metadata": {
        "colab": {
          "base_uri": "https://localhost:8080/",
          "height": 54
        },
        "id": "bnK3hrjZfll7",
        "outputId": "6cd69f53-d41d-40d7-9370-be0e06371297"
      },
      "execution_count": null,
      "outputs": [
        {
          "output_type": "display_data",
          "data": {
            "text/plain": [
              "<Figure size 640x480 with 1 Axes>"
            ],
            "image/png": "[encoded data removed]"
          },
          "metadata": {}
        }
      ]
    },
    {
      "cell_type": "markdown",
      "source": [
        "test set"
      ],
      "metadata": {
        "id": "RXPwiiJPfpzS"
      }
    },
    {
      "cell_type": "code",
      "source": [
        "y_pred_test = rand_clf.predict(X_test)\n",
        "# Confusion matrix\n",
        "cm_test_split3 = confusion_matrix(y_test, y_pred_test)\n",
        "print('Confusion Matrix')\n",
        "print('-'*16)\n",
        "print(cm_test_split3,'\\n')\n",
        "print('-'*16)"
      ],
      "metadata": {
        "colab": {
          "base_uri": "https://localhost:8080/"
        },
        "id": "3dF2XouSfqH0",
        "outputId": "d1e19943-0cd5-4061-af73-26475636bd0a"
      },
      "execution_count": null,
      "outputs": [
        {
          "output_type": "stream",
          "name": "stdout",
          "text": [
            "Confusion Matrix\n",
            "----------------\n",
            "[[44  2]\n",
            " [ 8 60]] \n",
            "\n",
            "----------------\n"
          ]
        }
      ]
    },
    {
      "cell_type": "code",
      "source": [
        "# Calculate score\n",
        "sen_test_split3 = sensitivity(cm_test_split3)\n",
        "spec_test_split3 = specificity(cm_test_split3)\n",
        "acc_test_split3 = accuracy(cm_test_split3)\n",
        "pre_test_split3 = precision(cm_test_split3)\n",
        "f1_test_split3 = f1(cm_test_split3)"
      ],
      "metadata": {
        "colab": {
          "base_uri": "https://localhost:8080/"
        },
        "id": "Sx3xLvKqftjC",
        "outputId": "cc3b3168-f679-4a9f-9993-2718ebe35b67"
      },
      "execution_count": null,
      "outputs": [
        {
          "output_type": "stream",
          "name": "stdout",
          "text": [
            "Sensitivity: 88.24%\n",
            "Specificity: 95.65%\n",
            "Accuracy: 91.23%\n",
            "Precision: 96.77%\n",
            "Sensitivity: 88.24%\n",
            "Precision: 96.77%\n",
            "F1: 92.31%\n"
          ]
        }
      ]
    },
    {
      "cell_type": "code",
      "source": [
        "# plot confusion matrix\n",
        "class_names = ['benign','malignant']\n",
        "# Normalize confusion matrix to percentage\n",
        "cm_norm_test = cm_test_split3.astype('float') / cm_test_split3.sum(axis=1)[:, np.newaxis]\n",
        "# Create plot\n",
        "fig, ax = plt.subplots()\n",
        "im = ax.imshow(cm_norm_test, interpolation='nearest', cmap=\"rocket_r\")\n",
        "ax.grid(False)\n",
        "# Add labels\n",
        "ax.set(xticks=np.arange(cm_norm_test.shape[1]),\n",
        "       yticks=np.arange(cm_norm_test.shape[0]),\n",
        "       xticklabels=class_names, yticklabels=class_names)\n",
        "ax.set_title(\"Test set\", fontsize=16)\n",
        "ax.set_ylabel('Actual', fontsize=16)\n",
        "ax.set_xlabel('Predicted', fontsize=16)\n",
        "# Add percentage and count values inside plot\n",
        "thresh = cm_norm_test.max() / 2.\n",
        "for i in range(cm_norm_test.shape[0]):\n",
        "    for j in range(cm_norm_test.shape[1]):\n",
        "        ax.text(j, i, '''{}\\n({:.2f}%)'''.format(cm_test_split3[i,j], cm_norm_test[i, j]*100),\n",
        "                ha=\"center\", va=\"center\",\n",
        "                color=\"white\" if cm_norm_test[i, j] > thresh else \"black\")\n",
        "# Show plot\n",
        "plt.show()"
      ],
      "metadata": {
        "colab": {
          "base_uri": "https://localhost:8080/",
          "height": 54
        },
        "id": "u30t_Vn_fz63",
        "outputId": "3b5c5b6d-58d2-4a43-ec49-4fb9698fb9d4"
      },
      "execution_count": null,
      "outputs": [
        {
          "output_type": "display_data",
          "data": {
            "text/plain": [
              "<Figure size 640x480 with 1 Axes>"
            ],
            "image/png": "[encoded data removed]"
          },
          "metadata": {}
        }
      ]
    },
    {
      "cell_type": "markdown",
      "source": [
        "plot ROC curve"
      ],
      "metadata": {
        "id": "cjaZAWhwf2gv"
      }
    },
    {
      "cell_type": "code",
      "source": [
        "fpr1, tpr1, thr1 = roc_curve(y_val, y_pred_val)\n",
        "auc_val = roc_auc_score(y_val, y_pred_val)\n",
        "fpr2, tpr2, thr2 = roc_curve(y_test, y_pred_test)\n",
        "auc_test_split3 = roc_auc_score(y_test, y_pred_test)\n",
        "\n",
        "print(\"---------------------------------------\")\n",
        "print(\"AUC validate: %.4f\" % auc_val)\n",
        "print(\"AUC test: %.4f\" % auc_test_split3)"
      ],
      "metadata": {
        "colab": {
          "base_uri": "https://localhost:8080/"
        },
        "id": "jDx_66Ktf28I",
        "outputId": "661ff1b1-d57d-4694-8027-7e41ad4c5a96"
      },
      "execution_count": null,
      "outputs": [
        {
          "output_type": "stream",
          "name": "stdout",
          "text": [
            "---------------------------------------\n",
            "AUC validate: 0.9194\n",
            "AUC test: 0.9194\n"
          ]
        }
      ]
    },
    {
      "cell_type": "code",
      "source": [
        "# plt.plot(fpr,tpr,label=\"data 1, auc=\"+str(auc),color='red')\n",
        "plt.plot(fpr1,tpr1,label=\"ROC valid, auc=\"+str(\"%.4f\" % auc_val))\n",
        "plt.plot(fpr2,tpr2,label=\"ROC test, auc=\"+str(\"%.4f\" % auc_test_split3))\n",
        "plt.plot([0, 1], [0, 1], linestyle=\"--\", lw=2, color=\"r\", label=\"Chance\", alpha=0.8)\n",
        "plt.legend(loc=4)\n",
        "plt.show()"
      ],
      "metadata": {
        "colab": {
          "base_uri": "https://localhost:8080/",
          "height": 54
        },
        "id": "snVg4axyf6cU",
        "outputId": "ca5b0630-8ffd-4d9a-8ea3-48aec645e616"
      },
      "execution_count": null,
      "outputs": [
        {
          "output_type": "display_data",
          "data": {
            "text/plain": [
              "<Figure size 640x480 with 1 Axes>"
            ],
            "image/png": "[encoded data removed]"
          },
          "metadata": {}
        }
      ]
    },
    {
      "cell_type": "markdown",
      "source": [
        "## split4"
      ],
      "metadata": {
        "id": "fEXiXB1vgEM0"
      }
    },
    {
      "cell_type": "markdown",
      "source": [
        "Training set"
      ],
      "metadata": {
        "id": "8P34uplCgIwL"
      }
    },
    {
      "cell_type": "code",
      "source": [
        "train_data = pd.read_csv(\"oversampled_train_split4.csv\")\n",
        "train_data.shape"
      ],
      "metadata": {
        "colab": {
          "base_uri": "https://localhost:8080/"
        },
        "id": "7oJL0OsfgJDv",
        "outputId": "8bd05293-1446-4caa-c0da-cc03dfb77d23"
      },
      "execution_count": null,
      "outputs": [
        {
          "output_type": "execute_result",
          "data": {
            "text/plain": [
              "(478, 32)"
            ]
          },
          "metadata": {},
          "execution_count": 93
        }
      ]
    },
    {
      "cell_type": "code",
      "source": [
        "x_train = train_data[train_data.columns[2:]]\n",
        "x_train.shape"
      ],
      "metadata": {
        "colab": {
          "base_uri": "https://localhost:8080/"
        },
        "id": "Oh_m66wPgJG4",
        "outputId": "f65a1ad0-a3b0-415b-d8bc-598edd54fd9e"
      },
      "execution_count": null,
      "outputs": [
        {
          "output_type": "execute_result",
          "data": {
            "text/plain": [
              "(478, 30)"
            ]
          },
          "metadata": {},
          "execution_count": 94
        }
      ]
    },
    {
      "cell_type": "code",
      "source": [
        "y_train = train_data[train_data.columns[1]]\n",
        "#y_train.shape\n",
        "le = LabelEncoder()\n",
        "y_train = np.array(le.fit_transform(y_train))\n",
        "print(le.classes_)"
      ],
      "metadata": {
        "colab": {
          "base_uri": "https://localhost:8080/"
        },
        "id": "R6Wj_RmBgJTn",
        "outputId": "63fa7916-da48-4147-c9b9-4b3cffb7f694"
      },
      "execution_count": null,
      "outputs": [
        {
          "output_type": "stream",
          "name": "stdout",
          "text": [
            "['B' 'M']\n"
          ]
        }
      ]
    },
    {
      "cell_type": "markdown",
      "source": [
        "Testing set\n",
        "\n"
      ],
      "metadata": {
        "id": "AtL4dgPegJki"
      }
    },
    {
      "cell_type": "code",
      "source": [
        "test_data = pd.read_csv(\"test.csv\")\n",
        "test_data.shape"
      ],
      "metadata": {
        "colab": {
          "base_uri": "https://localhost:8080/"
        },
        "id": "jKM59UDggJt6",
        "outputId": "61f94c12-28a1-41ce-a2d6-9e8085069dcd"
      },
      "execution_count": null,
      "outputs": [
        {
          "output_type": "execute_result",
          "data": {
            "text/plain": [
              "(114, 33)"
            ]
          },
          "metadata": {},
          "execution_count": 96
        }
      ]
    },
    {
      "cell_type": "code",
      "source": [
        "x_test = test_data[test_data.columns[3:]]\n",
        "x_test.shape"
      ],
      "metadata": {
        "colab": {
          "base_uri": "https://localhost:8080/"
        },
        "id": "ijdjHVUPgJxE",
        "outputId": "7428a302-73d6-4bca-e76e-8f505f409fa0"
      },
      "execution_count": null,
      "outputs": [
        {
          "output_type": "execute_result",
          "data": {
            "text/plain": [
              "(114, 30)"
            ]
          },
          "metadata": {},
          "execution_count": 97
        }
      ]
    },
    {
      "cell_type": "code",
      "source": [
        "y_test = test_data[test_data.columns[2]]\n",
        "#y_test.shape\n",
        "le = LabelEncoder()\n",
        "y_test = np.array(le.fit_transform(y_test))\n",
        "print(le.classes_)"
      ],
      "metadata": {
        "colab": {
          "base_uri": "https://localhost:8080/"
        },
        "id": "IVeTdE5pgJ0d",
        "outputId": "a0926b86-b235-47e5-d095-649f4707834a"
      },
      "execution_count": null,
      "outputs": [
        {
          "output_type": "stream",
          "name": "stdout",
          "text": [
            "['B' 'M']\n"
          ]
        }
      ]
    },
    {
      "cell_type": "markdown",
      "source": [
        "Validation set"
      ],
      "metadata": {
        "id": "d5TkLyCSgKCQ"
      }
    },
    {
      "cell_type": "code",
      "source": [
        "val_data = pd.read_csv(\"val_split4.csv\")\n",
        "val_data.shape"
      ],
      "metadata": {
        "colab": {
          "base_uri": "https://localhost:8080/"
        },
        "id": "Mmm2K-bzgKMr",
        "outputId": "95f1dbd5-097a-40f1-9164-54798bce1376"
      },
      "execution_count": null,
      "outputs": [
        {
          "output_type": "execute_result",
          "data": {
            "text/plain": [
              "(91, 32)"
            ]
          },
          "metadata": {},
          "execution_count": 99
        }
      ]
    },
    {
      "cell_type": "code",
      "source": [
        "x_val = val_data[val_data.columns[2:]]\n",
        "x_val.shape"
      ],
      "metadata": {
        "colab": {
          "base_uri": "https://localhost:8080/"
        },
        "id": "8C5M90QRgKQn",
        "outputId": "7540eca0-b580-418e-8f95-1f5b6297e1b4"
      },
      "execution_count": null,
      "outputs": [
        {
          "output_type": "execute_result",
          "data": {
            "text/plain": [
              "(91, 30)"
            ]
          },
          "metadata": {},
          "execution_count": 100
        }
      ]
    },
    {
      "cell_type": "code",
      "source": [
        "y_val = val_data[val_data.columns[1]]\n",
        "#y_val.shape\n",
        "le = LabelEncoder()\n",
        "y_val = np.array(le.fit_transform(y_val))\n",
        "print(le.classes_)"
      ],
      "metadata": {
        "colab": {
          "base_uri": "https://localhost:8080/"
        },
        "id": "pkROrURfgKTg",
        "outputId": "26d78e85-baa9-4a27-cb6e-f2c38c4a291f"
      },
      "execution_count": null,
      "outputs": [
        {
          "output_type": "stream",
          "name": "stdout",
          "text": [
            "['B' 'M']\n"
          ]
        }
      ]
    },
    {
      "cell_type": "markdown",
      "source": [
        "step train - split4"
      ],
      "metadata": {
        "id": "CdeiUT_wgm0i"
      }
    },
    {
      "cell_type": "code",
      "source": [
        "x_train = x_train.to_numpy()\n",
        "x_test = x_test.to_numpy()\n",
        "x_val = x_val.to_numpy()"
      ],
      "metadata": {
        "id": "sT394_XRgm-3"
      },
      "execution_count": null,
      "outputs": []
    },
    {
      "cell_type": "code",
      "source": [
        "from sklearn.model_selection import train_test_split\n",
        "\n",
        "print(\"Shape of training set:\", x_train.shape)\n",
        "print(\"Shape of test set:\", x_test.shape)"
      ],
      "metadata": {
        "colab": {
          "base_uri": "https://localhost:8080/"
        },
        "id": "VfcZL51CgqvS",
        "outputId": "7d9440e7-5731-4677-8d25-043bb7008f89"
      },
      "execution_count": null,
      "outputs": [
        {
          "output_type": "stream",
          "name": "stdout",
          "text": [
            "Shape of training set: (478, 30)\n",
            "Shape of test set: (114, 30)\n"
          ]
        }
      ]
    },
    {
      "cell_type": "code",
      "source": [
        "from sklearn.preprocessing import StandardScaler\n",
        "\n",
        "ss = StandardScaler()\n",
        "X_train = ss.fit_transform(x_train)\n",
        "X_test = ss.fit_transform(x_test)\n",
        "X_val = ss.fit_transform(x_val)"
      ],
      "metadata": {
        "id": "gozlP2pygsfN"
      },
      "execution_count": null,
      "outputs": []
    },
    {
      "cell_type": "markdown",
      "source": [
        "param"
      ],
      "metadata": {
        "id": "Y2IG9VsKguZF"
      }
    },
    {
      "cell_type": "code",
      "source": [
        "# instantiate classifier ,ยกตัวอย่างclassifier \n",
        "#rf_classifier = RandomForestClassifier(random_state=42, n_estimators=10)"
      ],
      "metadata": {
        "id": "R39lSfGkgwQF"
      },
      "execution_count": null,
      "outputs": []
    },
    {
      "cell_type": "code",
      "source": [
        "# give to GridSearchCV\n",
        "#param_dist = {'max_depth': [2, 3, 4],\n",
        "#             'bootstrap': [True, False],\n",
        "#              'max_features': ['auto', 'sqrt', 'log2', None],\n",
        "#              'criterion': ['gini', 'entropy']}\n",
        "\n",
        "# set up the GridSearch\n",
        "#cv_rf = GridSearchCV(rf_classifier, cv = 5,param_grid=param_dist,n_jobs = 3)\n",
        "\n",
        "# fit the GridSearch\n",
        "#cv_rf.fit(X_train, y_train)\n",
        "#cv_rf.fit(X_val, y_val) #ใช้อันนี้\n",
        "#print('Best Parameters using grid search: \\n', cv_rf.best_params_)\n",
        "\n",
        "#print('Best criterion parameter:', cv_rf.best_params_['criterion'])\n",
        "#print('Best max_depth parameter:', cv_rf.best_params_['max_depth'])\n",
        "#print('Best bootstrap parameter:', cv_rf.best_params_['bootstrap'])\n",
        "#print('Best max_features parameter:', cv_rf.best_params_['max_features'])\n",
        "#print('Best score:', cv_rf.best_score_)"
      ],
      "metadata": {
        "id": "MKHue7F7g4cD"
      },
      "execution_count": null,
      "outputs": []
    },
    {
      "cell_type": "markdown",
      "source": [
        "Best Parameters using grid search: \n",
        " {'bootstrap': True, 'criterion': 'gini', 'max_depth': 2, 'max_features': 'auto'}\n",
        "Best criterion parameter: gini\n",
        "Best max_depth parameter: 2\n",
        "Best bootstrap parameter: True\n",
        "Best max_features parameter: auto\n",
        "\n",
        "**Best score: 0.9666666666666666**"
      ],
      "metadata": {
        "id": "ZQF0ImCbg4xp"
      }
    },
    {
      "cell_type": "code",
      "source": [
        "from sklearn.ensemble import RandomForestClassifier\n",
        "\n",
        "rand_clf = RandomForestClassifier(criterion = 'gini', max_depth = 2, max_features = 'log2', min_samples_leaf = 2, min_samples_split = 3, n_estimators = 130)\n",
        "rand_clf.fit(X_train, y_train) # map"
      ],
      "metadata": {
        "colab": {
          "base_uri": "https://localhost:8080/",
          "height": 111
        },
        "id": "hZQ0fLH3g49I",
        "outputId": "98f5fcca-83e4-4847-8530-ec0c6cff9ba7"
      },
      "execution_count": null,
      "outputs": [
        {
          "output_type": "execute_result",
          "data": {
            "text/plain": [
              "RandomForestClassifier(max_depth=2, max_features='log2', min_samples_leaf=2,\n",
              "                       min_samples_split=3, n_estimators=130)"
            ],
            "text/html": [
              "<style>#sk-container-id-4 {color: black;background-color: white;}#sk-container-id-4 pre{padding: 0;}#sk-container-id-4 div.sk-toggleable {background-color: white;}#sk-container-id-4 label.sk-toggleable__label {cursor: pointer;display: block;width: 100%;margin-bottom: 0;padding: 0.3em;box-sizing: border-box;text-align: center;}#sk-container-id-4 label.sk-toggleable__label-arrow:before {content: \"▸\";float: left;margin-right: 0.25em;color: #696969;}#sk-container-id-4 label.sk-toggleable__label-arrow:hover:before {color: black;}#sk-container-id-4 div.sk-estimator:hover label.sk-toggleable__label-arrow:before {color: black;}#sk-container-id-4 div.sk-toggleable__content {max-height: 0;max-width: 0;overflow: hidden;text-align: left;background-color: #f0f8ff;}#sk-container-id-4 div.sk-toggleable__content pre {margin: 0.2em;color: black;border-radius: 0.25em;background-color: #f0f8ff;}#sk-container-id-4 input.sk-toggleable__control:checked~div.sk-toggleable__content {max-height: 200px;max-width: 100%;overflow: auto;}#sk-container-id-4 input.sk-toggleable__control:checked~label.sk-toggleable__label-arrow:before {content: \"▾\";}#sk-container-id-4 div.sk-estimator input.sk-toggleable__control:checked~label.sk-toggleable__label {background-color: #d4ebff;}#sk-container-id-4 div.sk-label input.sk-toggleable__control:checked~label.sk-toggleable__label {background-color: #d4ebff;}#sk-container-id-4 input.sk-hidden--visually {border: 0;clip: rect(1px 1px 1px 1px);clip: rect(1px, 1px, 1px, 1px);height: 1px;margin: -1px;overflow: hidden;padding: 0;position: absolute;width: 1px;}#sk-container-id-4 div.sk-estimator {font-family: monospace;background-color: #f0f8ff;border: 1px dotted black;border-radius: 0.25em;box-sizing: border-box;margin-bottom: 0.5em;}#sk-container-id-4 div.sk-estimator:hover {background-color: #d4ebff;}#sk-container-id-4 div.sk-parallel-item::after {content: \"\";width: 100%;border-bottom: 1px solid gray;flex-grow: 1;}#sk-container-id-4 div.sk-label:hover label.sk-toggleable__label {background-color: #d4ebff;}#sk-container-id-4 div.sk-serial::before {content: \"\";position: absolute;border-left: 1px solid gray;box-sizing: border-box;top: 0;bottom: 0;left: 50%;z-index: 0;}#sk-container-id-4 div.sk-serial {display: flex;flex-direction: column;align-items: center;background-color: white;padding-right: 0.2em;padding-left: 0.2em;position: relative;}#sk-container-id-4 div.sk-item {position: relative;z-index: 1;}#sk-container-id-4 div.sk-parallel {display: flex;align-items: stretch;justify-content: center;background-color: white;position: relative;}#sk-container-id-4 div.sk-item::before, #sk-container-id-4 div.sk-parallel-item::before {content: \"\";position: absolute;border-left: 1px solid gray;box-sizing: border-box;top: 0;bottom: 0;left: 50%;z-index: -1;}#sk-container-id-4 div.sk-parallel-item {display: flex;flex-direction: column;z-index: 1;position: relative;background-color: white;}#sk-container-id-4 div.sk-parallel-item:first-child::after {align-self: flex-end;width: 50%;}#sk-container-id-4 div.sk-parallel-item:last-child::after {align-self: flex-start;width: 50%;}#sk-container-id-4 div.sk-parallel-item:only-child::after {width: 0;}#sk-container-id-4 div.sk-dashed-wrapped {border: 1px dashed gray;margin: 0 0.4em 0.5em 0.4em;box-sizing: border-box;padding-bottom: 0.4em;background-color: white;}#sk-container-id-4 div.sk-label label {font-family: monospace;font-weight: bold;display: inline-block;line-height: 1.2em;}#sk-container-id-4 div.sk-label-container {text-align: center;}#sk-container-id-4 div.sk-container {/* jupyter's `normalize.less` sets `[hidden] { display: none; }` but bootstrap.min.css set `[hidden] { display: none !important; }` so we also need the `!important` here to be able to override the default hidden behavior on the sphinx rendered scikit-learn.org. See: https://github.com/scikit-learn/scikit-learn/issues/21755 */display: inline-block !important;position: relative;}#sk-container-id-4 div.sk-text-repr-fallback {display: none;}</style><div id=\"sk-container-id-4\" class=\"sk-top-container\"><div class=\"sk-text-repr-fallback\"><pre>RandomForestClassifier(max_depth=2, max_features=&#x27;log2&#x27;, min_samples_leaf=2,\n",
              "                       min_samples_split=3, n_estimators=130)</pre><b>In a Jupyter environment, please rerun this cell to show the HTML representation or trust the notebook. <br />On GitHub, the HTML representation is unable to render, please try loading this page with nbviewer.org.</b></div><div class=\"sk-container\" hidden><div class=\"sk-item\"><div class=\"sk-estimator sk-toggleable\"><input class=\"sk-toggleable__control sk-hidden--visually\" id=\"sk-estimator-id-4\" type=\"checkbox\" checked><label for=\"sk-estimator-id-4\" class=\"sk-toggleable__label sk-toggleable__label-arrow\">RandomForestClassifier</label><div class=\"sk-toggleable__content\"><pre>RandomForestClassifier(max_depth=2, max_features=&#x27;log2&#x27;, min_samples_leaf=2,\n",
              "                       min_samples_split=3, n_estimators=130)</pre></div></div></div></div></div>"
            ]
          },
          "metadata": {},
          "execution_count": 107
        }
      ]
    },
    {
      "cell_type": "code",
      "source": [
        "y_pred = rand_clf.predict(X_test)"
      ],
      "metadata": {
        "id": "_4i3KhRYhMSW"
      },
      "execution_count": null,
      "outputs": []
    },
    {
      "cell_type": "code",
      "source": [
        "y_pred"
      ],
      "metadata": {
        "colab": {
          "base_uri": "https://localhost:8080/"
        },
        "id": "BLaCagt8hMif",
        "outputId": "d584335a-f8f6-47bd-d9bd-e9538216faab"
      },
      "execution_count": null,
      "outputs": [
        {
          "output_type": "execute_result",
          "data": {
            "text/plain": [
              "array([1, 1, 1, 1, 1, 1, 1, 1, 1, 1, 1, 1, 1, 1, 1, 1, 1, 1, 1, 0, 0, 0,\n",
              "       1, 1, 1, 1, 1, 1, 1, 1, 1, 1, 1, 1, 1, 1, 1, 0, 0, 0, 0, 0, 1, 1,\n",
              "       0, 1, 0, 1, 0, 0, 0, 0, 0, 1, 1, 0, 1, 1, 0, 0, 0, 0, 1, 0, 1, 1,\n",
              "       0, 0, 0, 0, 1, 0, 1, 0, 0, 1, 0, 1, 1, 0, 0, 0, 1, 1, 0, 1, 1, 1,\n",
              "       0, 1, 0, 1, 0, 0, 1, 1, 0, 0, 0, 1, 0, 0, 0, 0, 0, 1, 0, 0, 1, 0,\n",
              "       0, 0, 1, 0])"
            ]
          },
          "metadata": {},
          "execution_count": 109
        }
      ]
    },
    {
      "cell_type": "code",
      "source": [
        "# accuracy score\n",
        "\n",
        "print(accuracy_score(y_train, rand_clf.predict(X_train)))\n",
        "\n",
        "ran_clf_acc = accuracy_score(y_test, y_pred)\n",
        "print(ran_clf_acc)"
      ],
      "metadata": {
        "colab": {
          "base_uri": "https://localhost:8080/"
        },
        "id": "dfjguKd-hMlG",
        "outputId": "9fa1c7f5-fb06-4d00-a0fd-0475fd72b601"
      },
      "execution_count": null,
      "outputs": [
        {
          "output_type": "stream",
          "name": "stdout",
          "text": [
            "0.9707112970711297\n",
            "0.9210526315789473\n"
          ]
        }
      ]
    },
    {
      "cell_type": "code",
      "source": [
        "# confusion matrix\n",
        "\n",
        "print(confusion_matrix(y_test, y_pred))"
      ],
      "metadata": {
        "colab": {
          "base_uri": "https://localhost:8080/"
        },
        "id": "Ve-e-VVVhMsH",
        "outputId": "a50e5648-80f7-4743-c9ce-ed61141f3ed9"
      },
      "execution_count": null,
      "outputs": [
        {
          "output_type": "stream",
          "name": "stdout",
          "text": [
            "[[44  2]\n",
            " [ 7 61]]\n"
          ]
        }
      ]
    },
    {
      "cell_type": "code",
      "source": [
        "# classification report\n",
        "\n",
        "print(classification_report(y_test, y_pred))"
      ],
      "metadata": {
        "colab": {
          "base_uri": "https://localhost:8080/"
        },
        "id": "xHDqa48hhWG9",
        "outputId": "ad422924-9d9d-4486-ab96-2c0313100a64"
      },
      "execution_count": null,
      "outputs": [
        {
          "output_type": "stream",
          "name": "stdout",
          "text": [
            "              precision    recall  f1-score   support\n",
            "\n",
            "           0       0.86      0.96      0.91        46\n",
            "           1       0.97      0.90      0.93        68\n",
            "\n",
            "    accuracy                           0.92       114\n",
            "   macro avg       0.92      0.93      0.92       114\n",
            "weighted avg       0.93      0.92      0.92       114\n",
            "\n"
          ]
        }
      ]
    },
    {
      "cell_type": "markdown",
      "source": [
        "validate set"
      ],
      "metadata": {
        "id": "BCvxatU-hX0Z"
      }
    },
    {
      "cell_type": "code",
      "source": [
        "y_pred_val = rand_clf.predict(X_val)\n",
        "cm_val = confusion_matrix(y_val, y_pred_val)\n",
        "print('Confusion Matrix')\n",
        "print('-'*16)\n",
        "print(cm_val,'\\n')\n",
        "print('-'*16)"
      ],
      "metadata": {
        "colab": {
          "base_uri": "https://localhost:8080/"
        },
        "id": "FvAdqpg_hauZ",
        "outputId": "f459d46b-3d29-4330-c208-698c77adbb4e"
      },
      "execution_count": null,
      "outputs": [
        {
          "output_type": "stream",
          "name": "stdout",
          "text": [
            "Confusion Matrix\n",
            "----------------\n",
            "[[53 19]\n",
            " [ 0 19]] \n",
            "\n",
            "----------------\n"
          ]
        }
      ]
    },
    {
      "cell_type": "code",
      "source": [
        "# Calculate score\n",
        "sen_val = sensitivity(cm_val)\n",
        "spec_val = specificity(cm_val)\n",
        "acc_val = accuracy(cm_val)\n",
        "pre_val = precision(cm_val)\n",
        "f1_val = f1(cm_val)"
      ],
      "metadata": {
        "colab": {
          "base_uri": "https://localhost:8080/"
        },
        "id": "cA_9acW6hcVw",
        "outputId": "33e122cb-17fa-43e8-8af8-d901a7c721fe"
      },
      "execution_count": null,
      "outputs": [
        {
          "output_type": "stream",
          "name": "stdout",
          "text": [
            "Sensitivity: 100.00%\n",
            "Specificity: 73.61%\n",
            "Accuracy: 79.12%\n",
            "Precision: 50.00%\n",
            "Sensitivity: 100.00%\n",
            "Precision: 50.00%\n",
            "F1: 66.67%\n"
          ]
        }
      ]
    },
    {
      "cell_type": "code",
      "source": [
        "class_names = ['benign','malignant']\n",
        "# Normalize confusion matrix to percentage\n",
        "cm_norm_val = cm_val.astype('float') / cm_val.sum(axis=1)[:, np.newaxis]\n",
        "# Create plot\n",
        "fig, ax = plt.subplots()\n",
        "im = ax.imshow(cm_norm_val, interpolation='nearest', cmap=\"rocket_r\")\n",
        "ax.grid(False)\n",
        "# Add labels\n",
        "ax.set(xticks=np.arange(cm_norm_val.shape[1]),\n",
        "       yticks=np.arange(cm_norm_val.shape[0]),\n",
        "       xticklabels=class_names, yticklabels=class_names)\n",
        "ax.set_title(\"Validate set\", fontsize=16)\n",
        "ax.set_ylabel('Actual', fontsize=16)\n",
        "ax.set_xlabel('Predicted', fontsize=16)\n",
        "# Add percentage and count values inside plot\n",
        "thresh = cm_norm_val.max() / 2.\n",
        "for i in range(cm_norm_val.shape[0]):\n",
        "    for j in range(cm_norm_val.shape[1]):\n",
        "        ax.text(j, i, '''{}\\n({:.2f}%)'''.format(cm_val[i,j], cm_norm_val[i, j]*100),\n",
        "                ha=\"center\", va=\"center\",\n",
        "                color=\"white\" if cm_norm_val[i, j] > thresh else \"black\")\n",
        "# Show plot\n",
        "plt.show()"
      ],
      "metadata": {
        "colab": {
          "base_uri": "https://localhost:8080/",
          "height": 54
        },
        "id": "KJ2N5wF5heTX",
        "outputId": "76c413ec-b89c-4d02-c62e-92509ce55b40"
      },
      "execution_count": null,
      "outputs": [
        {
          "output_type": "display_data",
          "data": {
            "text/plain": [
              "<Figure size 640x480 with 1 Axes>"
            ],
            "image/png": "[encoded data removed]"
          },
          "metadata": {}
        }
      ]
    },
    {
      "cell_type": "markdown",
      "source": [
        "test set"
      ],
      "metadata": {
        "id": "S7LAc_Oihf0M"
      }
    },
    {
      "cell_type": "code",
      "source": [
        "y_pred_test = rand_clf.predict(X_test)\n",
        "# Confusion matrix\n",
        "cm_test_split4 = confusion_matrix(y_test, y_pred_test)\n",
        "print('Confusion Matrix')\n",
        "print('-'*16)\n",
        "print(cm_test_split4,'\\n')\n",
        "print('-'*16)"
      ],
      "metadata": {
        "colab": {
          "base_uri": "https://localhost:8080/"
        },
        "id": "ZLKvKqVOhhV3",
        "outputId": "c51a1ef2-c336-4fe1-83c6-10272e5b157c"
      },
      "execution_count": null,
      "outputs": [
        {
          "output_type": "stream",
          "name": "stdout",
          "text": [
            "Confusion Matrix\n",
            "----------------\n",
            "[[44  2]\n",
            " [ 7 61]] \n",
            "\n",
            "----------------\n"
          ]
        }
      ]
    },
    {
      "cell_type": "code",
      "source": [
        "# Calculate score\n",
        "sen_test_split4 = sensitivity(cm_test_split4)\n",
        "spec_test_split4 = specificity(cm_test_split4)\n",
        "acc_test_split4 = accuracy(cm_test_split4)\n",
        "pre_test_split4 = precision(cm_test_split4)\n",
        "f1_test_split4 = f1(cm_test_split4)"
      ],
      "metadata": {
        "colab": {
          "base_uri": "https://localhost:8080/"
        },
        "id": "Y3tX7dUghkR4",
        "outputId": "cbedcab0-7413-42bc-e199-59aa73c353bc"
      },
      "execution_count": null,
      "outputs": [
        {
          "output_type": "stream",
          "name": "stdout",
          "text": [
            "Sensitivity: 89.71%\n",
            "Specificity: 95.65%\n",
            "Accuracy: 92.11%\n",
            "Precision: 96.83%\n",
            "Sensitivity: 89.71%\n",
            "Precision: 96.83%\n",
            "F1: 93.13%\n"
          ]
        }
      ]
    },
    {
      "cell_type": "code",
      "source": [
        "# plot confusion matrix\n",
        "class_names = ['benign','malignant']\n",
        "# Normalize confusion matrix to percentage\n",
        "cm_norm_test = cm_test_split4.astype('float') / cm_test_split4.sum(axis=1)[:, np.newaxis]\n",
        "# Create plot\n",
        "fig, ax = plt.subplots()\n",
        "im = ax.imshow(cm_norm_test, interpolation='nearest', cmap=\"rocket_r\")\n",
        "ax.grid(False)\n",
        "# Add labels\n",
        "ax.set(xticks=np.arange(cm_norm_test.shape[1]),\n",
        "       yticks=np.arange(cm_norm_test.shape[0]),\n",
        "       xticklabels=class_names, yticklabels=class_names)\n",
        "ax.set_title(\"Test set\", fontsize=16)\n",
        "ax.set_ylabel('Actual', fontsize=16)\n",
        "ax.set_xlabel('Predicted', fontsize=16)\n",
        "# Add percentage and count values inside plot\n",
        "thresh = cm_norm_test.max() / 2.\n",
        "for i in range(cm_norm_test.shape[0]):\n",
        "    for j in range(cm_norm_test.shape[1]):\n",
        "        ax.text(j, i, '''{}\\n({:.2f}%)'''.format(cm_test_split4[i,j], cm_norm_test[i, j]*100),\n",
        "                ha=\"center\", va=\"center\",\n",
        "                color=\"white\" if cm_norm_test[i, j] > thresh else \"black\")\n",
        "# Show plot\n",
        "plt.show()"
      ],
      "metadata": {
        "colab": {
          "base_uri": "https://localhost:8080/",
          "height": 54
        },
        "id": "71CTH5mAhq4j",
        "outputId": "1cc61f8d-8129-40c8-c8a9-36a2c9bee730"
      },
      "execution_count": null,
      "outputs": [
        {
          "output_type": "display_data",
          "data": {
            "text/plain": [
              "<Figure size 640x480 with 1 Axes>"
            ],
            "image/png": "[encoded data removed]"
          },
          "metadata": {}
        }
      ]
    },
    {
      "cell_type": "markdown",
      "source": [
        "plot ROC curve"
      ],
      "metadata": {
        "id": "xoMoG99fhsQV"
      }
    },
    {
      "cell_type": "code",
      "source": [
        "fpr1, tpr1, thr1 = roc_curve(y_val, y_pred_val)\n",
        "auc_val = roc_auc_score(y_val, y_pred_val)\n",
        "fpr2, tpr2, thr2 = roc_curve(y_test, y_pred_test)\n",
        "auc_test_split4 = roc_auc_score(y_test, y_pred_test)\n",
        "\n",
        "print(\"---------------------------------------\")\n",
        "print(\"AUC validate: %.4f\" % auc_val)\n",
        "print(\"AUC test: %.4f\" % auc_test_split4)"
      ],
      "metadata": {
        "colab": {
          "base_uri": "https://localhost:8080/"
        },
        "id": "ppsTNRM5hucs",
        "outputId": "9a51ed3a-3611-4c26-b27c-ccdffaead6f2"
      },
      "execution_count": null,
      "outputs": [
        {
          "output_type": "stream",
          "name": "stdout",
          "text": [
            "---------------------------------------\n",
            "AUC validate: 0.8681\n",
            "AUC test: 0.9268\n"
          ]
        }
      ]
    },
    {
      "cell_type": "code",
      "source": [
        "# plt.plot(fpr,tpr,label=\"data 1, auc=\"+str(auc),color='red')\n",
        "plt.plot(fpr1,tpr1,label=\"ROC valid, auc=\"+str(\"%.4f\" % auc_val))\n",
        "plt.plot(fpr2,tpr2,label=\"ROC test, auc=\"+str(\"%.4f\" % auc_test_split4))\n",
        "plt.plot([0, 1], [0, 1], linestyle=\"--\", lw=2, color=\"r\", label=\"Chance\", alpha=0.8)\n",
        "plt.legend(loc=4)\n",
        "plt.show()"
      ],
      "metadata": {
        "colab": {
          "base_uri": "https://localhost:8080/",
          "height": 54
        },
        "id": "Gq_yAxvrhxmC",
        "outputId": "1f10b2f0-8887-4e91-c352-ccfc405f3459"
      },
      "execution_count": null,
      "outputs": [
        {
          "output_type": "display_data",
          "data": {
            "text/plain": [
              "<Figure size 640x480 with 1 Axes>"
            ],
            "image/png": "[encoded data removed]"
          },
          "metadata": {}
        }
      ]
    },
    {
      "cell_type": "markdown",
      "source": [
        "## split5"
      ],
      "metadata": {
        "id": "yiJfD4O3hymV"
      }
    },
    {
      "cell_type": "markdown",
      "source": [
        "Training set"
      ],
      "metadata": {
        "id": "F2XE8SCDiMDg"
      }
    },
    {
      "cell_type": "code",
      "source": [
        "train_data = pd.read_csv(\"oversampled_train_split5.csv\")\n",
        "train_data.shape"
      ],
      "metadata": {
        "colab": {
          "base_uri": "https://localhost:8080/"
        },
        "id": "WR6SF_ZRiOxt",
        "outputId": "53b18162-cf57-4758-89fd-ccf8c12a547f"
      },
      "execution_count": null,
      "outputs": [
        {
          "output_type": "execute_result",
          "data": {
            "text/plain": [
              "(486, 32)"
            ]
          },
          "metadata": {},
          "execution_count": 121
        }
      ]
    },
    {
      "cell_type": "code",
      "source": [
        "x_train = train_data[train_data.columns[2:]]\n",
        "x_train.shape"
      ],
      "metadata": {
        "colab": {
          "base_uri": "https://localhost:8080/"
        },
        "id": "5ynWutq-iO01",
        "outputId": "17c823d8-143f-4d6c-d67a-573a69a12d54"
      },
      "execution_count": null,
      "outputs": [
        {
          "output_type": "execute_result",
          "data": {
            "text/plain": [
              "(486, 30)"
            ]
          },
          "metadata": {},
          "execution_count": 122
        }
      ]
    },
    {
      "cell_type": "code",
      "source": [
        "y_train = train_data[train_data.columns[1]]\n",
        "#y_train.shape\n",
        "le = LabelEncoder()\n",
        "y_train = np.array(le.fit_transform(y_train))\n",
        "print(le.classes_)"
      ],
      "metadata": {
        "colab": {
          "base_uri": "https://localhost:8080/"
        },
        "id": "huXG-s_FiO4m",
        "outputId": "70ed9e9e-1e4c-4a91-e342-e75d1dde9367"
      },
      "execution_count": null,
      "outputs": [
        {
          "output_type": "stream",
          "name": "stdout",
          "text": [
            "['B' 'M']\n"
          ]
        }
      ]
    },
    {
      "cell_type": "markdown",
      "source": [
        "Testing set"
      ],
      "metadata": {
        "id": "-8_9lkYIiPMB"
      }
    },
    {
      "cell_type": "code",
      "source": [
        "test_data = pd.read_csv(\"test.csv\")\n",
        "test_data.shape"
      ],
      "metadata": {
        "colab": {
          "base_uri": "https://localhost:8080/"
        },
        "id": "I0Yf_8aTiYOJ",
        "outputId": "4717c0aa-7979-49e3-8424-e24ef7e9ba55"
      },
      "execution_count": null,
      "outputs": [
        {
          "output_type": "execute_result",
          "data": {
            "text/plain": [
              "(114, 33)"
            ]
          },
          "metadata": {},
          "execution_count": 124
        }
      ]
    },
    {
      "cell_type": "code",
      "source": [
        "x_test = test_data[test_data.columns[3:]]\n",
        "x_test.shape"
      ],
      "metadata": {
        "colab": {
          "base_uri": "https://localhost:8080/"
        },
        "id": "ZqkKVkGciYRQ",
        "outputId": "06f29bad-9a5d-430a-9e00-619108df8b26"
      },
      "execution_count": null,
      "outputs": [
        {
          "output_type": "execute_result",
          "data": {
            "text/plain": [
              "(114, 30)"
            ]
          },
          "metadata": {},
          "execution_count": 125
        }
      ]
    },
    {
      "cell_type": "code",
      "source": [
        "y_test = test_data[test_data.columns[2]]\n",
        "#y_test.shape\n",
        "le = LabelEncoder()\n",
        "y_test = np.array(le.fit_transform(y_test))\n",
        "print(le.classes_)"
      ],
      "metadata": {
        "colab": {
          "base_uri": "https://localhost:8080/"
        },
        "id": "vtTGrGA8iYV9",
        "outputId": "e202fa73-f0ac-4bb2-9c44-0c3623eb531e"
      },
      "execution_count": null,
      "outputs": [
        {
          "output_type": "stream",
          "name": "stdout",
          "text": [
            "['B' 'M']\n"
          ]
        }
      ]
    },
    {
      "cell_type": "markdown",
      "source": [
        "Validation set"
      ],
      "metadata": {
        "id": "A3fPHUbcigjA"
      }
    },
    {
      "cell_type": "code",
      "source": [
        "val_data = pd.read_csv(\"val_split5.csv\")\n",
        "val_data.shape"
      ],
      "metadata": {
        "colab": {
          "base_uri": "https://localhost:8080/"
        },
        "id": "AO-Y9ZcAihGp",
        "outputId": "e82c03b1-f29f-4cfc-fe71-ba681fef462f"
      },
      "execution_count": null,
      "outputs": [
        {
          "output_type": "execute_result",
          "data": {
            "text/plain": [
              "(91, 32)"
            ]
          },
          "metadata": {},
          "execution_count": 127
        }
      ]
    },
    {
      "cell_type": "code",
      "source": [
        "x_val = val_data[val_data.columns[2:]]\n",
        "x_val.shape"
      ],
      "metadata": {
        "colab": {
          "base_uri": "https://localhost:8080/"
        },
        "id": "tAWhzgJgihJw",
        "outputId": "00290195-7382-4841-90b0-287cf47fff2b"
      },
      "execution_count": null,
      "outputs": [
        {
          "output_type": "execute_result",
          "data": {
            "text/plain": [
              "(91, 30)"
            ]
          },
          "metadata": {},
          "execution_count": 128
        }
      ]
    },
    {
      "cell_type": "code",
      "source": [
        "y_val = val_data[val_data.columns[1]]\n",
        "#y_val.shape\n",
        "le = LabelEncoder()\n",
        "y_val = np.array(le.fit_transform(y_val))\n",
        "print(le.classes_)"
      ],
      "metadata": {
        "colab": {
          "base_uri": "https://localhost:8080/"
        },
        "id": "kGWHtZScihP_",
        "outputId": "d6a141ea-5292-420e-e591-70926200e620"
      },
      "execution_count": null,
      "outputs": [
        {
          "output_type": "stream",
          "name": "stdout",
          "text": [
            "['B' 'M']\n"
          ]
        }
      ]
    },
    {
      "cell_type": "markdown",
      "source": [
        "step train -split5"
      ],
      "metadata": {
        "id": "UwZRIetqimp8"
      }
    },
    {
      "cell_type": "code",
      "source": [
        "x_train = x_train.to_numpy()\n",
        "x_test = x_test.to_numpy()\n",
        "x_val = x_val.to_numpy()"
      ],
      "metadata": {
        "id": "TWKxnLR5ip8I"
      },
      "execution_count": null,
      "outputs": []
    },
    {
      "cell_type": "code",
      "source": [
        "from sklearn.model_selection import train_test_split\n",
        "\n",
        "print(\"Shape of training set:\", x_train.shape)\n",
        "print(\"Shape of test set:\", x_test.shape)"
      ],
      "metadata": {
        "colab": {
          "base_uri": "https://localhost:8080/"
        },
        "id": "ntmnZREnis52",
        "outputId": "207085c4-8b1f-45ed-e0b1-3d5cad5ef3b6"
      },
      "execution_count": null,
      "outputs": [
        {
          "output_type": "stream",
          "name": "stdout",
          "text": [
            "Shape of training set: (486, 30)\n",
            "Shape of test set: (114, 30)\n"
          ]
        }
      ]
    },
    {
      "cell_type": "code",
      "source": [
        "from sklearn.preprocessing import StandardScaler\n",
        "\n",
        "ss = StandardScaler()\n",
        "X_train = ss.fit_transform(x_train)\n",
        "X_test = ss.fit_transform(x_test)\n",
        "X_val = ss.fit_transform(x_val)"
      ],
      "metadata": {
        "id": "rAD3JW_qiuiR"
      },
      "execution_count": null,
      "outputs": []
    },
    {
      "cell_type": "markdown",
      "source": [
        "param"
      ],
      "metadata": {
        "id": "Rspytc23ivj4"
      }
    },
    {
      "cell_type": "code",
      "source": [
        "# instantiate classifier ,ยกตัวอย่างclassifier \n",
        "\n",
        "#rf_classifier = RandomForestClassifier(random_state=42, n_estimators=10)"
      ],
      "metadata": {
        "id": "vl5F27YSiwtS"
      },
      "execution_count": null,
      "outputs": []
    },
    {
      "cell_type": "code",
      "source": [
        "# give to GridSearchCV\n",
        "#param_dist = {'max_depth': [2, 3, 4],\n",
        "#             'bootstrap': [True, False],\n",
        "#              'max_features': ['auto', 'sqrt', 'log2', None],\n",
        "#              'criterion': ['gini', 'entropy']}\n",
        "\n",
        "# set up the GridSearch\n",
        "#cv_rf = GridSearchCV(rf_classifier, cv = 5,param_grid=param_dist,n_jobs = 3)\n",
        "\n",
        "# fit the GridSearch\n",
        "#cv_rf.fit(X_train, y_train)\n",
        "#cv_rf.fit(X_val, y_val) #ใช้อันนี้\n",
        "#print('Best Parameters using grid search: \\n', cv_rf.best_params_)\n",
        "\n",
        "#print('Best criterion parameter:', cv_rf.best_params_['criterion'])\n",
        "#print('Best max_depth parameter:', cv_rf.best_params_['max_depth'])\n",
        "#print('Best bootstrap parameter:', cv_rf.best_params_['bootstrap'])\n",
        "#print('Best max_features parameter:', cv_rf.best_params_['max_features'])\n",
        "#print('Best score:', cv_rf.best_score_)"
      ],
      "metadata": {
        "id": "xff8VVeAi66P"
      },
      "execution_count": null,
      "outputs": []
    },
    {
      "cell_type": "markdown",
      "source": [
        "Best Parameters using grid search: \n",
        " {'bootstrap': False, 'criterion': 'gini', 'max_depth': 4, 'max_features': 'log2'}\n",
        "Best criterion parameter: gini\n",
        "Best max_depth parameter: 4\n",
        "Best bootstrap parameter: False\n",
        "Best max_features parameter: log2\n",
        "\n",
        "**Best score: 0.967251461988304** "
      ],
      "metadata": {
        "id": "iLrojivji7IA"
      }
    },
    {
      "cell_type": "code",
      "source": [
        "from sklearn.ensemble import RandomForestClassifier\n",
        "\n",
        "rand_clf = RandomForestClassifier(criterion = 'gini', max_depth = 2, max_features = 'log2', min_samples_leaf = 2, min_samples_split = 3, n_estimators = 130)\n",
        "rand_clf.fit(X_train, y_train) # map"
      ],
      "metadata": {
        "colab": {
          "base_uri": "https://localhost:8080/",
          "height": 111
        },
        "id": "GgaKiBPei7TM",
        "outputId": "f0ecfaf7-4062-4a10-ab04-68c91beaec83"
      },
      "execution_count": null,
      "outputs": [
        {
          "output_type": "execute_result",
          "data": {
            "text/plain": [
              "RandomForestClassifier(max_depth=2, max_features='log2', min_samples_leaf=2,\n",
              "                       min_samples_split=3, n_estimators=130)"
            ],
            "text/html": [
              "<style>#sk-container-id-5 {color: black;background-color: white;}#sk-container-id-5 pre{padding: 0;}#sk-container-id-5 div.sk-toggleable {background-color: white;}#sk-container-id-5 label.sk-toggleable__label {cursor: pointer;display: block;width: 100%;margin-bottom: 0;padding: 0.3em;box-sizing: border-box;text-align: center;}#sk-container-id-5 label.sk-toggleable__label-arrow:before {content: \"▸\";float: left;margin-right: 0.25em;color: #696969;}#sk-container-id-5 label.sk-toggleable__label-arrow:hover:before {color: black;}#sk-container-id-5 div.sk-estimator:hover label.sk-toggleable__label-arrow:before {color: black;}#sk-container-id-5 div.sk-toggleable__content {max-height: 0;max-width: 0;overflow: hidden;text-align: left;background-color: #f0f8ff;}#sk-container-id-5 div.sk-toggleable__content pre {margin: 0.2em;color: black;border-radius: 0.25em;background-color: #f0f8ff;}#sk-container-id-5 input.sk-toggleable__control:checked~div.sk-toggleable__content {max-height: 200px;max-width: 100%;overflow: auto;}#sk-container-id-5 input.sk-toggleable__control:checked~label.sk-toggleable__label-arrow:before {content: \"▾\";}#sk-container-id-5 div.sk-estimator input.sk-toggleable__control:checked~label.sk-toggleable__label {background-color: #d4ebff;}#sk-container-id-5 div.sk-label input.sk-toggleable__control:checked~label.sk-toggleable__label {background-color: #d4ebff;}#sk-container-id-5 input.sk-hidden--visually {border: 0;clip: rect(1px 1px 1px 1px);clip: rect(1px, 1px, 1px, 1px);height: 1px;margin: -1px;overflow: hidden;padding: 0;position: absolute;width: 1px;}#sk-container-id-5 div.sk-estimator {font-family: monospace;background-color: #f0f8ff;border: 1px dotted black;border-radius: 0.25em;box-sizing: border-box;margin-bottom: 0.5em;}#sk-container-id-5 div.sk-estimator:hover {background-color: #d4ebff;}#sk-container-id-5 div.sk-parallel-item::after {content: \"\";width: 100%;border-bottom: 1px solid gray;flex-grow: 1;}#sk-container-id-5 div.sk-label:hover label.sk-toggleable__label {background-color: #d4ebff;}#sk-container-id-5 div.sk-serial::before {content: \"\";position: absolute;border-left: 1px solid gray;box-sizing: border-box;top: 0;bottom: 0;left: 50%;z-index: 0;}#sk-container-id-5 div.sk-serial {display: flex;flex-direction: column;align-items: center;background-color: white;padding-right: 0.2em;padding-left: 0.2em;position: relative;}#sk-container-id-5 div.sk-item {position: relative;z-index: 1;}#sk-container-id-5 div.sk-parallel {display: flex;align-items: stretch;justify-content: center;background-color: white;position: relative;}#sk-container-id-5 div.sk-item::before, #sk-container-id-5 div.sk-parallel-item::before {content: \"\";position: absolute;border-left: 1px solid gray;box-sizing: border-box;top: 0;bottom: 0;left: 50%;z-index: -1;}#sk-container-id-5 div.sk-parallel-item {display: flex;flex-direction: column;z-index: 1;position: relative;background-color: white;}#sk-container-id-5 div.sk-parallel-item:first-child::after {align-self: flex-end;width: 50%;}#sk-container-id-5 div.sk-parallel-item:last-child::after {align-self: flex-start;width: 50%;}#sk-container-id-5 div.sk-parallel-item:only-child::after {width: 0;}#sk-container-id-5 div.sk-dashed-wrapped {border: 1px dashed gray;margin: 0 0.4em 0.5em 0.4em;box-sizing: border-box;padding-bottom: 0.4em;background-color: white;}#sk-container-id-5 div.sk-label label {font-family: monospace;font-weight: bold;display: inline-block;line-height: 1.2em;}#sk-container-id-5 div.sk-label-container {text-align: center;}#sk-container-id-5 div.sk-container {/* jupyter's `normalize.less` sets `[hidden] { display: none; }` but bootstrap.min.css set `[hidden] { display: none !important; }` so we also need the `!important` here to be able to override the default hidden behavior on the sphinx rendered scikit-learn.org. See: https://github.com/scikit-learn/scikit-learn/issues/21755 */display: inline-block !important;position: relative;}#sk-container-id-5 div.sk-text-repr-fallback {display: none;}</style><div id=\"sk-container-id-5\" class=\"sk-top-container\"><div class=\"sk-text-repr-fallback\"><pre>RandomForestClassifier(max_depth=2, max_features=&#x27;log2&#x27;, min_samples_leaf=2,\n",
              "                       min_samples_split=3, n_estimators=130)</pre><b>In a Jupyter environment, please rerun this cell to show the HTML representation or trust the notebook. <br />On GitHub, the HTML representation is unable to render, please try loading this page with nbviewer.org.</b></div><div class=\"sk-container\" hidden><div class=\"sk-item\"><div class=\"sk-estimator sk-toggleable\"><input class=\"sk-toggleable__control sk-hidden--visually\" id=\"sk-estimator-id-5\" type=\"checkbox\" checked><label for=\"sk-estimator-id-5\" class=\"sk-toggleable__label sk-toggleable__label-arrow\">RandomForestClassifier</label><div class=\"sk-toggleable__content\"><pre>RandomForestClassifier(max_depth=2, max_features=&#x27;log2&#x27;, min_samples_leaf=2,\n",
              "                       min_samples_split=3, n_estimators=130)</pre></div></div></div></div></div>"
            ]
          },
          "metadata": {},
          "execution_count": 135
        }
      ]
    },
    {
      "cell_type": "code",
      "source": [
        "y_pred = rand_clf.predict(X_test)"
      ],
      "metadata": {
        "id": "N6bWId-JjEMP"
      },
      "execution_count": null,
      "outputs": []
    },
    {
      "cell_type": "code",
      "source": [
        "y_pred"
      ],
      "metadata": {
        "colab": {
          "base_uri": "https://localhost:8080/"
        },
        "id": "aJLOf3AVjGT5",
        "outputId": "b5cab12c-d663-423b-ab5f-87699a70f5a9"
      },
      "execution_count": null,
      "outputs": [
        {
          "output_type": "execute_result",
          "data": {
            "text/plain": [
              "array([1, 1, 1, 1, 1, 1, 1, 1, 1, 1, 1, 1, 1, 1, 1, 1, 1, 1, 1, 0, 0, 0,\n",
              "       1, 1, 1, 1, 1, 1, 1, 1, 1, 1, 1, 1, 1, 1, 0, 0, 0, 0, 0, 0, 1, 1,\n",
              "       0, 1, 0, 1, 0, 0, 0, 0, 0, 1, 1, 0, 1, 1, 0, 0, 0, 0, 1, 0, 1, 1,\n",
              "       0, 0, 0, 0, 1, 0, 1, 0, 0, 1, 0, 1, 1, 0, 0, 0, 1, 1, 0, 1, 0, 1,\n",
              "       0, 1, 0, 0, 0, 0, 1, 1, 0, 0, 0, 0, 0, 0, 0, 0, 0, 1, 0, 0, 1, 0,\n",
              "       0, 0, 1, 0])"
            ]
          },
          "metadata": {},
          "execution_count": 137
        }
      ]
    },
    {
      "cell_type": "code",
      "source": [
        "# accuracy score\n",
        "\n",
        "print(accuracy_score(y_train, rand_clf.predict(X_train)))\n",
        "\n",
        "ran_clf_acc = accuracy_score(y_test, y_pred)\n",
        "print(ran_clf_acc)"
      ],
      "metadata": {
        "colab": {
          "base_uri": "https://localhost:8080/"
        },
        "id": "Ttv6XbrbjJZB",
        "outputId": "1d669b42-a822-4889-fb2f-6dc7bfabefd4"
      },
      "execution_count": null,
      "outputs": [
        {
          "output_type": "stream",
          "name": "stdout",
          "text": [
            "0.9609053497942387\n",
            "0.8859649122807017\n"
          ]
        }
      ]
    },
    {
      "cell_type": "code",
      "source": [
        "# confusion matrix\n",
        "\n",
        "print(confusion_matrix(y_test, y_pred))"
      ],
      "metadata": {
        "colab": {
          "base_uri": "https://localhost:8080/"
        },
        "id": "kZ2NlBeEjKHn",
        "outputId": "849981fb-122a-48ae-bee4-d2c0dac44744"
      },
      "execution_count": null,
      "outputs": [
        {
          "output_type": "stream",
          "name": "stdout",
          "text": [
            "[[44  2]\n",
            " [11 57]]\n"
          ]
        }
      ]
    },
    {
      "cell_type": "code",
      "source": [
        "# classification report\n",
        "\n",
        "print(classification_report(y_test, y_pred))"
      ],
      "metadata": {
        "colab": {
          "base_uri": "https://localhost:8080/"
        },
        "id": "qA2mKRZZjKPK",
        "outputId": "80df966c-50f1-4a49-c8c3-d1f37a6aac6c"
      },
      "execution_count": null,
      "outputs": [
        {
          "output_type": "stream",
          "name": "stdout",
          "text": [
            "              precision    recall  f1-score   support\n",
            "\n",
            "           0       0.80      0.96      0.87        46\n",
            "           1       0.97      0.84      0.90        68\n",
            "\n",
            "    accuracy                           0.89       114\n",
            "   macro avg       0.88      0.90      0.88       114\n",
            "weighted avg       0.90      0.89      0.89       114\n",
            "\n"
          ]
        }
      ]
    },
    {
      "cell_type": "markdown",
      "source": [
        "validate set"
      ],
      "metadata": {
        "id": "zdYPaqUMjO8P"
      }
    },
    {
      "cell_type": "code",
      "source": [
        "y_pred_val = rand_clf.predict(X_val)\n",
        "cm_val = confusion_matrix(y_val, y_pred_val)\n",
        "print('Confusion Matrix')\n",
        "print('-'*16)\n",
        "print(cm_val,'\\n')\n",
        "print('-'*16)"
      ],
      "metadata": {
        "colab": {
          "base_uri": "https://localhost:8080/"
        },
        "id": "LK4qwAKDjRVG",
        "outputId": "70f31de9-ce57-4fc0-8f3c-238296ccc2ac"
      },
      "execution_count": null,
      "outputs": [
        {
          "output_type": "stream",
          "name": "stdout",
          "text": [
            "Confusion Matrix\n",
            "----------------\n",
            "[[52 16]\n",
            " [ 0 23]] \n",
            "\n",
            "----------------\n"
          ]
        }
      ]
    },
    {
      "cell_type": "code",
      "source": [
        " # Calculate score\n",
        "sen_val = sensitivity(cm_val)\n",
        "spec_val = specificity(cm_val)\n",
        "acc_val = accuracy(cm_val)\n",
        "pre_val = precision(cm_val)\n",
        "f1_val = f1(cm_val)"
      ],
      "metadata": {
        "colab": {
          "base_uri": "https://localhost:8080/"
        },
        "id": "kj82GfU-jT1P",
        "outputId": "b99b1122-cc78-4cf6-dde6-851ad71f186a"
      },
      "execution_count": null,
      "outputs": [
        {
          "output_type": "stream",
          "name": "stdout",
          "text": [
            "Sensitivity: 100.00%\n",
            "Specificity: 76.47%\n",
            "Accuracy: 82.42%\n",
            "Precision: 58.97%\n",
            "Sensitivity: 100.00%\n",
            "Precision: 58.97%\n",
            "F1: 74.19%\n"
          ]
        }
      ]
    },
    {
      "cell_type": "code",
      "source": [
        "class_names = ['benign','malignant']\n",
        "# Normalize confusion matrix to percentage\n",
        "cm_norm_val = cm_val.astype('float') / cm_val.sum(axis=1)[:, np.newaxis]\n",
        "# Create plot\n",
        "fig, ax = plt.subplots()\n",
        "im = ax.imshow(cm_norm_val, interpolation='nearest', cmap=\"rocket_r\")\n",
        "ax.grid(False)\n",
        "# Add labels\n",
        "ax.set(xticks=np.arange(cm_norm_val.shape[1]),\n",
        "       yticks=np.arange(cm_norm_val.shape[0]),\n",
        "       xticklabels=class_names, yticklabels=class_names)\n",
        "ax.set_title(\"Validate set\", fontsize=16)\n",
        "ax.set_ylabel('Actual', fontsize=16)\n",
        "ax.set_xlabel('Predicted', fontsize=16)\n",
        "# Add percentage and count values inside plot\n",
        "thresh = cm_norm_val.max() / 2.\n",
        "for i in range(cm_norm_val.shape[0]):\n",
        "    for j in range(cm_norm_val.shape[1]):\n",
        "        ax.text(j, i, '''{}\\n({:.2f}%)'''.format(cm_val[i,j], cm_norm_val[i, j]*100),\n",
        "                ha=\"center\", va=\"center\",\n",
        "                color=\"white\" if cm_norm_val[i, j] > thresh else \"black\")\n",
        "# Show plot\n",
        "plt.show()"
      ],
      "metadata": {
        "colab": {
          "base_uri": "https://localhost:8080/",
          "height": 54
        },
        "id": "yK64CHXJjXK4",
        "outputId": "03fd9985-fbcb-4c3d-d788-a2cf5aeed762"
      },
      "execution_count": null,
      "outputs": [
        {
          "output_type": "display_data",
          "data": {
            "text/plain": [
              "<Figure size 640x480 with 1 Axes>"
            ],
            "image/png": "[encoded data removed]"
          },
          "metadata": {}
        }
      ]
    },
    {
      "cell_type": "markdown",
      "source": [
        "test set"
      ],
      "metadata": {
        "id": "IFL_Im7ZjYwH"
      }
    },
    {
      "cell_type": "code",
      "source": [
        "y_pred_test = rand_clf.predict(X_test)\n",
        "# Confusion matrix\n",
        "cm_test_split5 = confusion_matrix(y_test, y_pred_test)\n",
        "print('Confusion Matrix')\n",
        "print('-'*16)\n",
        "print(cm_test_split5,'\\n')\n",
        "print('-'*16)"
      ],
      "metadata": {
        "colab": {
          "base_uri": "https://localhost:8080/"
        },
        "id": "GheLm6k7jaz4",
        "outputId": "54db2f82-ea77-4725-847f-84d80acc7fcd"
      },
      "execution_count": null,
      "outputs": [
        {
          "output_type": "stream",
          "name": "stdout",
          "text": [
            "Confusion Matrix\n",
            "----------------\n",
            "[[44  2]\n",
            " [11 57]] \n",
            "\n",
            "----------------\n"
          ]
        }
      ]
    },
    {
      "cell_type": "code",
      "source": [
        "# Calculate score\n",
        "sen_test_split5 = sensitivity(cm_test_split5)\n",
        "spec_test_split5 = specificity(cm_test_split5)\n",
        "acc_test_split5 = accuracy(cm_test_split5)\n",
        "pre_test_split5 = precision(cm_test_split5)\n",
        "f1_test_split5 = f1(cm_test_split5)"
      ],
      "metadata": {
        "colab": {
          "base_uri": "https://localhost:8080/"
        },
        "id": "BgbT180hjiKr",
        "outputId": "8e4c5711-9bbd-451c-cd82-296cb88198b8"
      },
      "execution_count": null,
      "outputs": [
        {
          "output_type": "stream",
          "name": "stdout",
          "text": [
            "Sensitivity: 83.82%\n",
            "Specificity: 95.65%\n",
            "Accuracy: 88.60%\n",
            "Precision: 96.61%\n",
            "Sensitivity: 83.82%\n",
            "Precision: 96.61%\n",
            "F1: 89.76%\n"
          ]
        }
      ]
    },
    {
      "cell_type": "code",
      "source": [
        "# plot confusion matrix\n",
        "class_names = ['benign','malignant']\n",
        "# Normalize confusion matrix to percentage\n",
        "cm_norm_test = cm_test_split5.astype('float') / cm_test_split5.sum(axis=1)[:, np.newaxis]\n",
        "# Create plot\n",
        "fig, ax = plt.subplots()\n",
        "im = ax.imshow(cm_norm_test, interpolation='nearest', cmap=\"rocket_r\")\n",
        "ax.grid(False)\n",
        "# Add labels\n",
        "ax.set(xticks=np.arange(cm_norm_test.shape[1]),\n",
        "       yticks=np.arange(cm_norm_test.shape[0]),\n",
        "       xticklabels=class_names, yticklabels=class_names)\n",
        "ax.set_title(\"Test set\", fontsize=16)\n",
        "ax.set_ylabel('Actual', fontsize=16)\n",
        "ax.set_xlabel('Predicted', fontsize=16)\n",
        "# Add percentage and count values inside plot\n",
        "thresh = cm_norm_test.max() / 2.\n",
        "for i in range(cm_norm_test.shape[0]):\n",
        "    for j in range(cm_norm_test.shape[1]):\n",
        "        ax.text(j, i, '''{}\\n({:.2f}%)'''.format(cm_test_split5[i,j], cm_norm_test[i, j]*100),\n",
        "                ha=\"center\", va=\"center\",\n",
        "                color=\"white\" if cm_norm_test[i, j] > thresh else \"black\")\n",
        "# Show plot\n",
        "plt.show()"
      ],
      "metadata": {
        "colab": {
          "base_uri": "https://localhost:8080/",
          "height": 54
        },
        "id": "y4PqVyAljoNq",
        "outputId": "2d1e5347-4a2a-461b-90d5-5ee366e2ec19"
      },
      "execution_count": null,
      "outputs": [
        {
          "output_type": "display_data",
          "data": {
            "text/plain": [
              "<Figure size 640x480 with 1 Axes>"
            ],
            "image/png": "[encoded data removed]"
          },
          "metadata": {}
        }
      ]
    },
    {
      "cell_type": "markdown",
      "source": [
        "plot ROC curve"
      ],
      "metadata": {
        "id": "iOfbBAemjpkq"
      }
    },
    {
      "cell_type": "code",
      "source": [
        "fpr1, tpr1, thr1 = roc_curve(y_val, y_pred_val)\n",
        "auc_val = roc_auc_score(y_val, y_pred_val)\n",
        "fpr2, tpr2, thr2 = roc_curve(y_test, y_pred_test)\n",
        "auc_test_split5 = roc_auc_score(y_test, y_pred_test)\n",
        "\n",
        "print(\"---------------------------------------\")\n",
        "print(\"AUC validate: %.4f\" % auc_val)\n",
        "print(\"AUC test: %.4f\" % auc_test_split5)"
      ],
      "metadata": {
        "colab": {
          "base_uri": "https://localhost:8080/"
        },
        "id": "vxxygDlIjuGw",
        "outputId": "93555c76-0c94-42e5-c6f8-e187c351f905"
      },
      "execution_count": null,
      "outputs": [
        {
          "output_type": "stream",
          "name": "stdout",
          "text": [
            "---------------------------------------\n",
            "AUC validate: 0.8824\n",
            "AUC test: 0.8974\n"
          ]
        }
      ]
    },
    {
      "cell_type": "code",
      "source": [
        "# plt.plot(fpr,tpr,label=\"data 1, auc=\"+str(auc),color='red')\n",
        "plt.plot(fpr1,tpr1,label=\"ROC valid, auc=\"+str(\"%.4f\" % auc_val))\n",
        "plt.plot(fpr2,tpr2,label=\"ROC test, auc=\"+str(\"%.4f\" % auc_test_split5))\n",
        "plt.plot([0, 1], [0, 1], linestyle=\"--\", lw=2, color=\"r\", label=\"Chance\", alpha=0.8)\n",
        "plt.legend(loc=4)\n",
        "plt.show()"
      ],
      "metadata": {
        "colab": {
          "base_uri": "https://localhost:8080/",
          "height": 54
        },
        "id": "beEm9NWbjweD",
        "outputId": "61d4d2f9-4f11-497d-85e8-2583e6837a13"
      },
      "execution_count": null,
      "outputs": [
        {
          "output_type": "display_data",
          "data": {
            "text/plain": [
              "<Figure size 640x480 with 1 Axes>"
            ],
            "image/png": "[encoded data removed]"
          },
          "metadata": {}
        }
      ]
    },
    {
      "cell_type": "markdown",
      "source": [
        "# Compare"
      ],
      "metadata": {
        "id": "B5WZc3NUj25x"
      }
    },
    {
      "cell_type": "code",
      "source": [
        "test_split1 = np.array([[45, 1], [14, 54]])\n",
        "test_split2 = np.array([[46, 0], [15, 53]])\n",
        "test_split3 = np.array([[45, 1], [17, 51]])\n",
        "test_split4 = np.array([[46, 0], [16, 52]])\n",
        "test_split5 = np.array([[45, 1], [13, 55]])"
      ],
      "metadata": {
        "id": "NW9xypPQj5W1"
      },
      "execution_count": null,
      "outputs": []
    },
    {
      "cell_type": "code",
      "source": [
        "# test_split5"
      ],
      "metadata": {
        "id": "HHEG7HP1j75E"
      },
      "execution_count": null,
      "outputs": []
    },
    {
      "cell_type": "code",
      "source": [
        "overall_test = test_split1 + test_split2 + test_split3 + test_split4 + test_split5\n",
        "overall_test"
      ],
      "metadata": {
        "colab": {
          "base_uri": "https://localhost:8080/"
        },
        "id": "JYcisrsOj-52",
        "outputId": "1547b900-7a83-4eb0-be6d-b3197bde87d3"
      },
      "execution_count": null,
      "outputs": [
        {
          "output_type": "execute_result",
          "data": {
            "text/plain": [
              "array([[227,   3],\n",
              "       [ 75, 265]])"
            ]
          },
          "metadata": {},
          "execution_count": 151
        }
      ]
    },
    {
      "cell_type": "code",
      "source": [
        " overall_cm_test = cm_test_split1 + cm_test_split2 + cm_test_split3 + cm_test_split4 + cm_test_split5\n",
        " overall_cm_test"
      ],
      "metadata": {
        "colab": {
          "base_uri": "https://localhost:8080/"
        },
        "id": "Y_zWp7-DkBOG",
        "outputId": "48e4a375-fa04-4c84-ff72-cee3591d6f1f"
      },
      "execution_count": null,
      "outputs": [
        {
          "output_type": "execute_result",
          "data": {
            "text/plain": [
              "array([[221,   9],\n",
              "       [ 46, 294]])"
            ]
          },
          "metadata": {},
          "execution_count": 152
        }
      ]
    },
    {
      "cell_type": "code",
      "source": [
        "label = ['benign','malignant']\n",
        "plt.figure(figsize=(6, 6))\n",
        "# ax = sns.heatmap(cmn, cmap=\"rocket_r\", fmt=\".4f\",annot_kws={'size':16}, annot=True, square=True, xticklabels=label, yticklabels=label)\n",
        "ax = sns.heatmap(overall_test, cmap=\"rocket_r\", fmt=\".01f\",annot_kws={'size':16}, annot=True, square=True, xticklabels=label, yticklabels=label)\n",
        "ax.set_ylabel('Actual', fontsize=20)\n",
        "ax.set_xlabel('Predicted', fontsize=20)\n",
        "# Show plot\n",
        "plt.show()\n",
        "\n",
        "# # plot confusion matrix\n",
        "# class_names = ['benign','malignant']\n",
        "# # Normalize confusion matrix to percentage\n",
        "# overall_test_val = overall_test.astype('float') / overall_test.sum(axis=1)[:, np.newaxis]\n",
        "# # Create plot\n",
        "# fig, ax = plt.subplots()\n",
        "# im = ax.imshow(overall_test_val, interpolation='nearest', cmap=\"rocket_r\")\n",
        "# ax.grid(False)\n",
        "# # Add labels\n",
        "# ax.set(xticks=np.arange(overall_test_val.shape[1]),\n",
        "#        yticks=np.arange(overall_test_val.shape[0]),\n",
        "#        xticklabels=class_names, yticklabels=class_names)\n",
        "# ax.set_title(\"Validate set\", fontsize=16)\n",
        "# ax.set_ylabel('Actual', fontsize=16)\n",
        "# ax.set_xlabel('Predicted', fontsize=16)\n",
        "# # Add percentage and count values inside plot\n",
        "# thresh = overall_test_val.max() / 2.\n",
        "# for i in range(overall_test_val.shape[0]):\n",
        "#     for j in range(overall_test_val.shape[1]):\n",
        "#         ax.text(j, i, '''{}\\n({:.2f}%)'''.format(cm_val[i,j], overall_test_val[i, j]*100),\n",
        "#                 ha=\"center\", va=\"center\",\n",
        "#                 color=\"white\" if overall_test_val[i, j] > thresh else \"black\")\n",
        "# # Show plot\n",
        "# plt.show()"
      ],
      "metadata": {
        "colab": {
          "base_uri": "https://localhost:8080/",
          "height": 511
        },
        "id": "16yiI-NGk4va",
        "outputId": "e373cfc0-efdd-4870-cb99-380b19956983"
      },
      "execution_count": null,
      "outputs": [
        {
          "output_type": "display_data",
          "data": {
            "text/plain": [
              "<Figure size 600x600 with 2 Axes>"
            ],
            "image/png": "[encoded data removed]"
          },
          "metadata": {}
        }
      ]
    },
    {
      "cell_type": "code",
      "source": [
        " sen_split1 = sensitivity(cm_test_split1)\n",
        " sen_split2 = sensitivity(cm_test_split2)\n",
        " sen_split3 = sensitivity(cm_test_split3)\n",
        " sen_split4 = sensitivity(cm_test_split4)\n",
        " sen_split5 = sensitivity(cm_test_split5)\n",
        " sen_overall = sensitivity(overall_cm_test)"
      ],
      "metadata": {
        "colab": {
          "base_uri": "https://localhost:8080/"
        },
        "id": "Tewx2X-fk6an",
        "outputId": "51e355a3-6935-4c59-bf30-aa264bc13e39"
      },
      "execution_count": null,
      "outputs": [
        {
          "output_type": "stream",
          "name": "stdout",
          "text": [
            "Sensitivity: 86.76%\n",
            "Sensitivity: 83.82%\n",
            "Sensitivity: 88.24%\n",
            "Sensitivity: 89.71%\n",
            "Sensitivity: 83.82%\n",
            "Sensitivity: 86.47%\n"
          ]
        }
      ]
    },
    {
      "cell_type": "code",
      "source": [
        " spec_split1 = specificity(cm_test_split1)\n",
        " spec_split2 = specificity(cm_test_split2)\n",
        " spec_split3 = specificity(cm_test_split3)\n",
        " spec_split4 = specificity(cm_test_split4)\n",
        " spec_split5 = specificity(cm_test_split5)\n",
        " spec_overall = specificity(overall_cm_test)"
      ],
      "metadata": {
        "colab": {
          "base_uri": "https://localhost:8080/"
        },
        "id": "FpI5xV3wlBMQ",
        "outputId": "555bfed7-9417-47f1-b2d5-3d41d57be128"
      },
      "execution_count": null,
      "outputs": [
        {
          "output_type": "stream",
          "name": "stdout",
          "text": [
            "Specificity: 95.65%\n",
            "Specificity: 97.83%\n",
            "Specificity: 95.65%\n",
            "Specificity: 95.65%\n",
            "Specificity: 95.65%\n",
            "Specificity: 96.09%\n"
          ]
        }
      ]
    },
    {
      "cell_type": "code",
      "source": [
        " acc_split1 = accuracy(cm_test_split1)\n",
        " acc_split2 = accuracy(cm_test_split2)\n",
        " acc_split3 = accuracy(cm_test_split3)\n",
        " acc_split4 = accuracy(cm_test_split4)\n",
        " acc_split5 = accuracy(cm_test_split5)\n",
        " acc_overall = accuracy(overall_cm_test)"
      ],
      "metadata": {
        "colab": {
          "base_uri": "https://localhost:8080/"
        },
        "id": "1QHTsmo0lBNs",
        "outputId": "b1b87fbc-9cca-42c8-d676-9d64e783aea3"
      },
      "execution_count": null,
      "outputs": [
        {
          "output_type": "stream",
          "name": "stdout",
          "text": [
            "Accuracy: 90.35%\n",
            "Accuracy: 89.47%\n",
            "Accuracy: 91.23%\n",
            "Accuracy: 92.11%\n",
            "Accuracy: 88.60%\n",
            "Accuracy: 90.35%\n"
          ]
        }
      ]
    },
    {
      "cell_type": "code",
      "source": [
        " pre_split1 = precision(cm_test_split1)\n",
        " pre_split2 = precision(cm_test_split2)\n",
        " pre_split3 = precision(cm_test_split3)\n",
        " pre_split4 = precision(cm_test_split4)\n",
        " pre_split5 = precision(cm_test_split5)\n",
        " pre_overall = precision(overall_cm_test)"
      ],
      "metadata": {
        "colab": {
          "base_uri": "https://localhost:8080/"
        },
        "id": "dUVLYdg3lTZ5",
        "outputId": "74f1d47a-6807-4011-e003-955d25aaf6ea"
      },
      "execution_count": null,
      "outputs": [
        {
          "output_type": "stream",
          "name": "stdout",
          "text": [
            "Precision: 96.72%\n",
            "Precision: 98.28%\n",
            "Precision: 96.77%\n",
            "Precision: 96.83%\n",
            "Precision: 96.61%\n",
            "Precision: 97.03%\n"
          ]
        }
      ]
    },
    {
      "cell_type": "code",
      "source": [
        " f1_split1 = f1(cm_test_split1)\n",
        " f1_split2 = f1(cm_test_split2)\n",
        " f1_split3 = f1(cm_test_split3)\n",
        " f1_split4 = f1(cm_test_split4)\n",
        " f1_split5 = f1(cm_test_split5)\n",
        " f1_overall = f1(overall_cm_test)"
      ],
      "metadata": {
        "colab": {
          "base_uri": "https://localhost:8080/"
        },
        "id": "diCqOdUGlVWb",
        "outputId": "670ac621-4cb2-41c5-e66a-ce177f3485f1"
      },
      "execution_count": null,
      "outputs": [
        {
          "output_type": "stream",
          "name": "stdout",
          "text": [
            "Sensitivity: 86.76%\n",
            "Precision: 96.72%\n",
            "F1: 91.47%\n",
            "Sensitivity: 83.82%\n",
            "Precision: 98.28%\n",
            "F1: 90.48%\n",
            "Sensitivity: 88.24%\n",
            "Precision: 96.77%\n",
            "F1: 92.31%\n",
            "Sensitivity: 89.71%\n",
            "Precision: 96.83%\n",
            "F1: 93.13%\n",
            "Sensitivity: 83.82%\n",
            "Precision: 96.61%\n",
            "F1: 89.76%\n",
            "Sensitivity: 86.47%\n",
            "Precision: 97.03%\n",
            "F1: 91.45%\n"
          ]
        }
      ]
    },
    {
      "cell_type": "code",
      "source": [
        "sensitivity_values = []\n",
        "\n",
        "sensitivity_values.append(sen_test_split1)\n",
        "sensitivity_values.append(sen_test_split2)\n",
        "sensitivity_values.append(sen_test_split3)\n",
        "sensitivity_values.append(sen_test_split4)\n",
        "sensitivity_values.append(sen_test_split5)\n",
        "\n",
        "print(sensitivity_values)\n",
        "\n",
        "# calculating the mean of sample set\n",
        "mean_sensitivity = statistics.mean(sensitivity_values)\n",
        "# Calculate standard deviation of sensitivity\n",
        "sensitivity_sd = statistics.stdev(sensitivity_values)\n",
        "\n",
        "print(\"Mean Sensitivity:\", mean_sensitivity)\n",
        "print(\"Sensitivity Standard Deviation:\", sensitivity_sd)\n",
        "\n",
        "# Print mean sensitivity with standard deviation\n",
        "print(\"Mean Sensitivity: %.2f ± %.2f%%\" % (mean_sensitivity, sensitivity_sd))\n"
      ],
      "metadata": {
        "colab": {
          "base_uri": "https://localhost:8080/"
        },
        "id": "8vaIyEOglZGN",
        "outputId": "ee23cba5-4f23-4fee-dcb9-fee4b160f337"
      },
      "execution_count": null,
      "outputs": [
        {
          "output_type": "stream",
          "name": "stdout",
          "text": [
            "[86.76470588235294, 83.82352941176471, 88.23529411764706, 89.70588235294117, 83.82352941176471]\n",
            "Mean Sensitivity: 86.47058823529412\n",
            "Sensitivity Standard Deviation: 2.630668208823279\n",
            "Mean Sensitivity: 86.47 ± 2.63%\n"
          ]
        }
      ]
    },
    {
      "cell_type": "code",
      "source": [
        "specificity_values = []\n",
        "\n",
        "specificity_values.append(spec_test_split1)\n",
        "specificity_values.append(spec_test_split2)\n",
        "specificity_values.append(spec_test_split3)\n",
        "specificity_values.append(spec_test_split4)\n",
        "specificity_values.append(spec_test_split5)\n",
        "    \n",
        "print(specificity_values)\n",
        "\n",
        "# calculating the mean of sample set\n",
        "mean_specificity = statistics.mean(specificity_values)\n",
        "# Calculate standard deviation of sensitivity\n",
        "specificity_sd = statistics.stdev(specificity_values)\n",
        "\n",
        "print(\"Mean Specificity:\", mean_specificity)\n",
        "print(\"Specificity Standard Deviation:\", specificity_sd)\n",
        "\n",
        "# Print mean specificity with standard deviation\n",
        "print(\"Overall Specificity: %.2f ± %.2f%%\" % (mean_specificity, specificity_sd))"
      ],
      "metadata": {
        "colab": {
          "base_uri": "https://localhost:8080/"
        },
        "id": "VEn7HaYolezW",
        "outputId": "f24e669d-295a-4213-ebd8-4f9e853f69bc"
      },
      "execution_count": null,
      "outputs": [
        {
          "output_type": "stream",
          "name": "stdout",
          "text": [
            "[95.65217391304348, 97.82608695652173, 95.65217391304348, 95.65217391304348, 95.65217391304348]\n",
            "Mean Specificity: 96.08695652173914\n",
            "Specificity Standard Deviation: 0.9722034684781651\n",
            "Overall Specificity: 96.09 ± 0.97%\n"
          ]
        }
      ]
    },
    {
      "cell_type": "code",
      "source": [
        "accuracy_values = []\n",
        "\n",
        "accuracy_values.append(acc_test_split1)\n",
        "accuracy_values.append(acc_test_split2)\n",
        "accuracy_values.append(acc_test_split3)\n",
        "accuracy_values.append(acc_test_split4)\n",
        "accuracy_values.append(acc_test_split5)\n",
        "\n",
        "print(accuracy_values)\n",
        "\n",
        "# calculating the mean of sample set\n",
        "mean_accuracy = statistics.mean(accuracy_values)\n",
        "# Calculate standard deviation of sensitivity\n",
        "accuracy_sd = statistics.stdev(accuracy_values)\n",
        "\n",
        "print(\"Mean accuracy:\", mean_accuracy)\n",
        "print(\"accuracy Standard Deviation:\", accuracy_sd)\n",
        "\n",
        "# Print mean accuracy with standard deviation\n",
        "print(\"Overall accuracy: %.2f ± %.2f%%\" % (mean_accuracy, accuracy_sd))"
      ],
      "metadata": {
        "colab": {
          "base_uri": "https://localhost:8080/"
        },
        "id": "U9UJgIuMlh6D",
        "outputId": "5cb2044f-74d1-46fb-b19e-b68ec65284e5"
      },
      "execution_count": null,
      "outputs": [
        {
          "output_type": "stream",
          "name": "stdout",
          "text": [
            "[90.35087719298247, 89.47368421052632, 91.22807017543859, 92.10526315789474, 88.59649122807018]\n",
            "Mean accuracy: 90.35087719298245\n",
            "accuracy Standard Deviation: 1.3869638860387619\n",
            "Overall accuracy: 90.35 ± 1.39%\n"
          ]
        }
      ]
    },
    {
      "cell_type": "code",
      "source": [
        "pre_values = []\n",
        "\n",
        "pre_values.append(pre_split1)\n",
        "pre_values.append(pre_split2)\n",
        "pre_values.append(pre_split3)\n",
        "pre_values.append(pre_split4)\n",
        "pre_values.append(pre_split5)\n",
        "    \n",
        "print(pre_values)\n",
        "\n",
        "# calculating the mean of sample set\n",
        "mean_pre = statistics.mean(pre_values)\n",
        "# Calculate standard deviation of sensitivity\n",
        "pre_sd = statistics.stdev(pre_values)\n",
        "\n",
        "print(\"Mean precision:\", mean_pre)\n",
        "print(\" Precision Standard Deviation:\", pre_sd)\n",
        "\n",
        "# Print mean specificity with standard deviation\n",
        "print(\"Overall Precision: %.2f ± %.2f%%\" % (mean_pre, pre_sd))"
      ],
      "metadata": {
        "colab": {
          "base_uri": "https://localhost:8080/"
        },
        "id": "2mRtLgsi1DsR",
        "outputId": "87c00427-653e-4954-b167-2e1284ccd7e5"
      },
      "execution_count": null,
      "outputs": [
        {
          "output_type": "stream",
          "name": "stdout",
          "text": [
            "[96.72131147540983, 98.27586206896551, 96.7741935483871, 96.82539682539682, 96.61016949152543]\n",
            "Mean precision: 97.04138668193694\n",
            " Precision Standard Deviation: 0.6946887204107149\n",
            "Overall Precision: 97.04 ± 0.69%\n"
          ]
        }
      ]
    },
    {
      "cell_type": "code",
      "source": [
        "f1_values = []\n",
        "\n",
        "f1_values.append(f1_test_split1)\n",
        "f1_values.append(f1_test_split2)\n",
        "f1_values.append(f1_test_split3)\n",
        "f1_values.append(f1_test_split4)\n",
        "f1_values.append(f1_test_split5)\n",
        "    \n",
        "print(f1_values)\n",
        "\n",
        "# calculating the mean of sample set\n",
        "mean_f1 = statistics.mean(f1_values)\n",
        "# Calculate standard deviation of sensitivity\n",
        "f1_sd = statistics.stdev(f1_values)\n",
        "\n",
        "print(\"Mean f1:\", mean_f1)\n",
        "print(\"f1 Standard Deviation:\", f1_sd)\n",
        "\n",
        "# Print mean specificity with standard deviation\n",
        "print(\"Overall f1: %.2f ± %.2f%%\" % (mean_f1, f1_sd))"
      ],
      "metadata": {
        "colab": {
          "base_uri": "https://localhost:8080/"
        },
        "id": "HqNp-T9PlkCf",
        "outputId": "10799a56-5ce7-4f08-c2db-f10bfc3db23b"
      },
      "execution_count": null,
      "outputs": [
        {
          "output_type": "stream",
          "name": "stdout",
          "text": [
            "[91.47286821705427, 90.47619047619047, 92.30769230769232, 93.1297709923664, 89.76377952755907]\n",
            "Mean f1: 91.4300603041725\n",
            "f1 Standard Deviation: 1.3553086502540703\n",
            "Overall f1: 91.43 ± 1.36%\n"
          ]
        }
      ]
    },
    {
      "cell_type": "code",
      "source": [
        "auc_values = []\n",
        "\n",
        "auc_values.append(auc_test_split1)\n",
        "auc_values.append(auc_test_split2)\n",
        "auc_values.append(auc_test_split3)\n",
        "auc_values.append(auc_test_split4)\n",
        "auc_values.append(auc_test_split5)\n",
        "    \n",
        "print(auc_values)\n",
        "\n",
        "# calculating the mean of sample set\n",
        "mean_auc = statistics.mean(auc_values)\n",
        "# Calculate standard deviation of sensitivity\n",
        "auc_sd = statistics.stdev(auc_values)\n",
        "\n",
        "print(\"Mean auc:\", mean_auc)\n",
        "print(\"auc Standard Deviation:\", auc_sd)\n",
        "\n",
        "# Print mean auc with standard deviation\n",
        "print(\"Overall auc: %.2f ± %.2f%%\" % (mean_auc, auc_sd))"
      ],
      "metadata": {
        "colab": {
          "base_uri": "https://localhost:8080/"
        },
        "id": "JOOnbuKDlmUD",
        "outputId": "06c4a72f-a41a-4849-c11d-e53d45e15796"
      },
      "execution_count": null,
      "outputs": [
        {
          "output_type": "stream",
          "name": "stdout",
          "text": [
            "[0.9120843989769821, 0.9082480818414324, 0.9194373401534528, 0.9267902813299232, 0.897378516624041]\n",
            "Mean auc: 0.9127877237851663\n",
            "auc Standard Deviation: 0.011167314983213338\n",
            "Overall auc: 0.91 ± 0.01%\n"
          ]
        }
      ]
    },
    {
      "cell_type": "markdown",
      "source": [
        "อันล่างไม่เกี่ยว"
      ],
      "metadata": {
        "id": "uY0CgYzW25Da"
      }
    },
    {
      "cell_type": "code",
      "source": [
        "auc_values = []\n",
        "\n",
        "auc_values.append(71.79)\n",
        "auc_values.append(28.57)\n",
        "auc_values.append(68.37)\n",
        "auc_values.append(73.28)\n",
        "auc_values.append(49.22)\n",
        "    \n",
        "print(auc_values)\n",
        "\n",
        "# calculating the mean of sample set\n",
        "mean_auc = statistics.mean(auc_values)\n",
        "# Calculate standard deviation of sensitivity\n",
        "auc_sd = statistics.stdev(auc_values)\n",
        "\n",
        "print(\"Mean Specificity:\", mean_auc)\n",
        "print(\"auc Standard Deviation:\", auc_sd)\n",
        "\n",
        "# Print mean auc with standard deviation\n",
        "print(\"Mean auc: %.2f ± %.2f%%\" % (mean_auc, auc_sd))"
      ],
      "metadata": {
        "colab": {
          "base_uri": "https://localhost:8080/"
        },
        "id": "a2ALEqClloij",
        "outputId": "6eee0748-04f4-4102-ccef-0d8787b90e8b"
      },
      "execution_count": null,
      "outputs": [
        {
          "output_type": "stream",
          "name": "stdout",
          "text": [
            "[71.79, 28.57, 68.37, 73.28, 49.22]\n",
            "Mean Specificity: 58.246\n",
            "auc Standard Deviation: 19.196940641675173\n",
            "Mean auc: 58.25 ± 19.20%\n"
          ]
        }
      ]
    }
  ]
}