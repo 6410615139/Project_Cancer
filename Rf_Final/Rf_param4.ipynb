{
  "nbformat": 4,
  "nbformat_minor": 0,
  "metadata": {
    "colab": {
      "provenance": [],
      "collapsed_sections": [
        "4AXHBvw2RapI",
        "B1-2dfc_Wnfo",
        "xjj72no2bdYN",
        "fEXiXB1vgEM0",
        "yiJfD4O3hymV"
      ]
    },
    "kernelspec": {
      "name": "python3",
      "display_name": "Python 3"
    },
    "language_info": {
      "name": "python"
    }
  },
  "cells": [
    {
      "cell_type": "code",
      "execution_count": null,
      "metadata": {
        "id": "1-S9O52jRHGf"
      },
      "outputs": [],
      "source": [
        "import pandas as pd\n",
        "import matplotlib.pyplot as plt\n",
        "import numpy as np\n",
        "import seaborn as sns\n",
        "import statistics\n",
        "\n",
        "# import accuracy score function\n",
        "from sklearn.metrics import accuracy_score\n",
        "from sklearn.preprocessing import LabelEncoder\n",
        "from sklearn.model_selection import train_test_split, GridSearchCV\n",
        "from sklearn.metrics import confusion_matrix, roc_curve, roc_auc_score\n",
        "from sklearn.ensemble import RandomForestClassifier\n",
        "from sklearn.model_selection import train_test_split\n",
        "from sklearn.preprocessing import StandardScaler"
      ]
    },
    {
      "cell_type": "markdown",
      "source": [
        "function"
      ],
      "metadata": {
        "id": "ipxdKfLRRKfk"
      }
    },
    {
      "cell_type": "code",
      "source": [
        "# # tn, fp, fn, tp = each_index(cm)\n",
        "def each_index(metrix):\n",
        "    TN = metrix[0][0]\n",
        "    FP = metrix[0][1]\n",
        "    FN = metrix[1][0]\n",
        "    TP = metrix[1][1]\n",
        "    return TN, FP, FN, TP"
      ],
      "metadata": {
        "id": "RILE41BzRL1h"
      },
      "execution_count": null,
      "outputs": []
    },
    {
      "cell_type": "code",
      "source": [
        "def sensitivity(metrix):\n",
        "    TN, FP, FN, TP = each_index(metrix)\n",
        "    # Calculate sensitivity\n",
        "    sensitivity = TP / (TP + FN) * 100\n",
        "    print(\"Sensitivity: %.2f%%\" % sensitivity)\n",
        "    return sensitivity"
      ],
      "metadata": {
        "id": "XaA037G-RQ9A"
      },
      "execution_count": null,
      "outputs": []
    },
    {
      "cell_type": "code",
      "source": [
        "def specificity(metrix):\n",
        "    TN, FP, FN, TP = each_index(metrix)\n",
        "    # Calculate specificity\n",
        "    specificity = TN / (TN + FP) * 100\n",
        "    print(\"Specificity: %.2f%%\" % specificity)\n",
        "    return specificity"
      ],
      "metadata": {
        "id": "WYakedxTRTEa"
      },
      "execution_count": null,
      "outputs": []
    },
    {
      "cell_type": "code",
      "source": [
        "def accuracy(metrix):\n",
        "    TN, FP, FN, TP = each_index(metrix)\n",
        "    # Calculate accuracy\n",
        "    accuracy = ((TP + TN) / (TP + TN + FP + FN)) *100\n",
        "    print(\"Accuracy: %.2f%%\" % accuracy)\n",
        "    return accuracy"
      ],
      "metadata": {
        "id": "cJ-P9XakRWBU"
      },
      "execution_count": null,
      "outputs": []
    },
    {
      "cell_type": "code",
      "source": [
        "def precision(metrix):\n",
        "    TN, FP, FN, TP = each_index(metrix)\n",
        "    # Calculate accuracy\n",
        "    precision = (TP / (TP + FP)) *100\n",
        "    print(\"Precision: %.2f%%\" % precision)\n",
        "    return precision"
      ],
      "metadata": {
        "id": "xwci8YhdRYAV"
      },
      "execution_count": null,
      "outputs": []
    },
    {
      "cell_type": "code",
      "source": [
        "def f1(metrix):\n",
        "    TN, FP, FN, TP = each_index(metrix)\n",
        "    # Calculate f1\n",
        "    recall = sensitivity(metrix)\n",
        "    pre = precision(metrix)\n",
        "    f1 = ((2*pre*recall) / (pre+recall))\n",
        "    print(\"F1: %.2f%%\" % f1)\n",
        "    return f1"
      ],
      "metadata": {
        "id": "PEt3bTTMRaCP"
      },
      "execution_count": null,
      "outputs": []
    },
    {
      "cell_type": "markdown",
      "source": [
        "## split1"
      ],
      "metadata": {
        "id": "4AXHBvw2RapI"
      }
    },
    {
      "cell_type": "markdown",
      "source": [
        "training set"
      ],
      "metadata": {
        "id": "G_YPhWHgRyLa"
      }
    },
    {
      "cell_type": "code",
      "source": [
        "train_data = pd.read_csv(\"oversampled_train_split1.csv\")\n",
        "train_data.shape"
      ],
      "metadata": {
        "colab": {
          "base_uri": "https://localhost:8080/"
        },
        "id": "KebU_vdMR1eG",
        "outputId": "4434a8a4-8c1b-47ad-b1a2-9f22bf2c58ac"
      },
      "execution_count": null,
      "outputs": [
        {
          "output_type": "execute_result",
          "data": {
            "text/plain": [
              "(518, 32)"
            ]
          },
          "metadata": {},
          "execution_count": 8
        }
      ]
    },
    {
      "cell_type": "code",
      "source": [
        "x_train = train_data[train_data.columns[2:]]\n",
        "x_train.shape"
      ],
      "metadata": {
        "colab": {
          "base_uri": "https://localhost:8080/"
        },
        "id": "uTXCSX4wR5Iz",
        "outputId": "991b99ab-c893-4420-8e83-f90fb2636cb2"
      },
      "execution_count": null,
      "outputs": [
        {
          "output_type": "execute_result",
          "data": {
            "text/plain": [
              "(518, 30)"
            ]
          },
          "metadata": {},
          "execution_count": 9
        }
      ]
    },
    {
      "cell_type": "code",
      "source": [
        "y_train = train_data[train_data.columns[1]]\n",
        "#y_train.shape\n",
        "le = LabelEncoder()\n",
        "y_train = np.array(le.fit_transform(y_train))\n",
        "print(le.classes_)"
      ],
      "metadata": {
        "colab": {
          "base_uri": "https://localhost:8080/"
        },
        "id": "UZDltFJ7R68u",
        "outputId": "f6cd6002-f71e-44fc-cabf-7b227435e771"
      },
      "execution_count": null,
      "outputs": [
        {
          "output_type": "stream",
          "name": "stdout",
          "text": [
            "['B' 'M']\n"
          ]
        }
      ]
    },
    {
      "cell_type": "markdown",
      "source": [
        "Testing set"
      ],
      "metadata": {
        "id": "JXw9r2_aR-w_"
      }
    },
    {
      "cell_type": "code",
      "source": [
        "test_data = pd.read_csv(\"test.csv\")\n",
        "test_data.shape"
      ],
      "metadata": {
        "colab": {
          "base_uri": "https://localhost:8080/"
        },
        "id": "LzM7mPCaR_QW",
        "outputId": "e15b4962-ce04-436a-c74a-4106a2565d3a"
      },
      "execution_count": null,
      "outputs": [
        {
          "output_type": "execute_result",
          "data": {
            "text/plain": [
              "(114, 33)"
            ]
          },
          "metadata": {},
          "execution_count": 11
        }
      ]
    },
    {
      "cell_type": "code",
      "source": [
        "x_test = test_data[test_data.columns[3:]] #5fold new use3\n",
        "x_test.shape"
      ],
      "metadata": {
        "colab": {
          "base_uri": "https://localhost:8080/"
        },
        "id": "ixoWFCWhSBwp",
        "outputId": "96817ee2-fe7c-4790-c46f-653c2817ce58"
      },
      "execution_count": null,
      "outputs": [
        {
          "output_type": "execute_result",
          "data": {
            "text/plain": [
              "(114, 30)"
            ]
          },
          "metadata": {},
          "execution_count": 12
        }
      ]
    },
    {
      "cell_type": "code",
      "source": [
        "y_test = test_data[test_data.columns[2]] #5fold new use2\n",
        "#y_test.shape\n",
        "le = LabelEncoder()\n",
        "y_test = np.array(le.fit_transform(y_test))\n",
        "print(le.classes_)"
      ],
      "metadata": {
        "colab": {
          "base_uri": "https://localhost:8080/"
        },
        "id": "9bn7mQQ1SDWe",
        "outputId": "01846560-7615-4ed0-d002-b978634f7859"
      },
      "execution_count": null,
      "outputs": [
        {
          "output_type": "stream",
          "name": "stdout",
          "text": [
            "['B' 'M']\n"
          ]
        }
      ]
    },
    {
      "cell_type": "markdown",
      "source": [
        "Validation set"
      ],
      "metadata": {
        "id": "HuOgCOw2SG9R"
      }
    },
    {
      "cell_type": "code",
      "source": [
        "val_data = pd.read_csv(\"val_split1.csv\")\n",
        "val_data.shape"
      ],
      "metadata": {
        "colab": {
          "base_uri": "https://localhost:8080/"
        },
        "id": "feoEtVwESE9k",
        "outputId": "ca4a2912-4c77-484d-b1cf-2145cd417160"
      },
      "execution_count": null,
      "outputs": [
        {
          "output_type": "execute_result",
          "data": {
            "text/plain": [
              "(91, 32)"
            ]
          },
          "metadata": {},
          "execution_count": 14
        }
      ]
    },
    {
      "cell_type": "code",
      "source": [
        "x_val = val_data[val_data.columns[2:]]\n",
        "x_val.shape"
      ],
      "metadata": {
        "colab": {
          "base_uri": "https://localhost:8080/"
        },
        "id": "Fcw2a6geSJVl",
        "outputId": "7794ea15-3da9-4197-8fab-c1f8022621fc"
      },
      "execution_count": null,
      "outputs": [
        {
          "output_type": "execute_result",
          "data": {
            "text/plain": [
              "(91, 30)"
            ]
          },
          "metadata": {},
          "execution_count": 15
        }
      ]
    },
    {
      "cell_type": "code",
      "source": [
        "y_val = val_data[val_data.columns[1]]\n",
        "#y_val.shape\n",
        "le = LabelEncoder()\n",
        "y_val = np.array(le.fit_transform(y_val))\n",
        "print(le.classes_)"
      ],
      "metadata": {
        "colab": {
          "base_uri": "https://localhost:8080/"
        },
        "id": "Hm17zEAbSOLd",
        "outputId": "20175394-c5e8-4e81-96f3-02353c11708c"
      },
      "execution_count": null,
      "outputs": [
        {
          "output_type": "stream",
          "name": "stdout",
          "text": [
            "['B' 'M']\n"
          ]
        }
      ]
    },
    {
      "cell_type": "markdown",
      "source": [
        "step train"
      ],
      "metadata": {
        "id": "a_IbpdmsSdw7"
      }
    },
    {
      "cell_type": "code",
      "source": [
        "x_train = x_train.to_numpy()\n",
        "x_test = x_test.to_numpy()\n",
        "x_val = x_val.to_numpy()"
      ],
      "metadata": {
        "id": "VcCQfqA5SPPm"
      },
      "execution_count": null,
      "outputs": []
    },
    {
      "cell_type": "code",
      "source": [
        "from sklearn.model_selection import train_test_split\n",
        "\n",
        "print(\"Shape of training set:\", x_train.shape)\n",
        "print(\"Shape of test set:\", x_test.shape)"
      ],
      "metadata": {
        "colab": {
          "base_uri": "https://localhost:8080/"
        },
        "id": "RrVzl6SIShzK",
        "outputId": "dcdd4707-6a27-48e6-f036-a6f499f04fbd"
      },
      "execution_count": null,
      "outputs": [
        {
          "output_type": "stream",
          "name": "stdout",
          "text": [
            "Shape of training set: (518, 30)\n",
            "Shape of test set: (114, 30)\n"
          ]
        }
      ]
    },
    {
      "cell_type": "code",
      "source": [
        "from sklearn.preprocessing import StandardScaler\n",
        "\n",
        "ss = StandardScaler()\n",
        "X_train = ss.fit_transform(x_train)\n",
        "X_test = ss.fit_transform(x_test)\n",
        "X_val = ss.fit_transform(x_val)"
      ],
      "metadata": {
        "id": "tILNoMV-SnzT"
      },
      "execution_count": null,
      "outputs": []
    },
    {
      "cell_type": "markdown",
      "source": [
        " หาparameter"
      ],
      "metadata": {
        "id": "l-1JtZrITZ-Q"
      }
    },
    {
      "cell_type": "code",
      "source": [
        "# instantiate classifier ,ยกตัวอย่างclassifier \n",
        "#rf_classifier = RandomForestClassifier(random_state=42, n_estimators=10)"
      ],
      "metadata": {
        "id": "ZQwGEQGZTa4o"
      },
      "execution_count": null,
      "outputs": []
    },
    {
      "cell_type": "code",
      "source": [
        "# give to GridSearchCV\n",
        "#param_dist = {'max_depth': [2, 3, 4],\n",
        "#             'bootstrap': [True, False],\n",
        "#              'max_features': ['auto', 'sqrt', 'log2', None],\n",
        "#              'criterion': ['gini', 'entropy']}\n",
        "\n",
        "# set up the GridSearch\n",
        "#cv_rf = GridSearchCV(rf_classifier, cv = 5,param_grid=param_dist,n_jobs = 3)\n",
        "\n",
        "# fit the GridSearch\n",
        "#cv_rf.fit(X_train, y_train)\n",
        "#cv_rf.fit(X_val, y_val) #ใช้อันนี้\n",
        "#print('Best Parameters using grid search: \\n', cv_rf.best_params_)\n",
        "\n",
        "#print('Best criterion parameter:', cv_rf.best_params_['criterion'])\n",
        "#print('Best max_depth parameter:', cv_rf.best_params_['max_depth'])\n",
        "#print('Best bootstrap parameter:', cv_rf.best_params_['bootstrap'])\n",
        "#print('Best max_features parameter:', cv_rf.best_params_['max_features'])\n",
        "#print('Best score:', cv_rf.best_score_)\n"
      ],
      "metadata": {
        "id": "G8AbFgNCTfIy"
      },
      "execution_count": null,
      "outputs": []
    },
    {
      "cell_type": "code",
      "source": [
        "# Set best parameters given by grid search \n",
        "#rf_classifier.set_params(criterion = 'entropy',\n",
        " #                 max_features = 'auto', 3\n",
        "#                max_depth = 3, \n",
        "#            )"
      ],
      "metadata": {
        "id": "eZvWERLTTq1J"
      },
      "execution_count": null,
      "outputs": []
    },
    {
      "cell_type": "markdown",
      "source": [
        "Best Parameters using grid search: \n",
        " {'bootstrap': False, 'criterion': 'entropy', 'max_depth': 3, 'max_features': 'auto'}\n",
        "Best criterion parameter: entropy\n",
        "Best max_depth parameter: 3\n",
        "Best bootstrap parameter: False\n",
        "Best max_features parameter: auto\n",
        "\n",
        "**Best score: 0.9456140350877194**"
      ],
      "metadata": {
        "id": "nJ7Kmg54YbnH"
      }
    },
    {
      "cell_type": "code",
      "source": [
        "from sklearn.ensemble import RandomForestClassifier\n",
        "\n",
        "rand_clf = RandomForestClassifier(criterion = 'gini', max_depth = 2, max_features = 'auto', min_samples_leaf = 2, min_samples_split = 3, n_estimators = 130)\n",
        "rand_clf.fit(X_train, y_train) # map"
      ],
      "metadata": {
        "colab": {
          "base_uri": "https://localhost:8080/",
          "height": 145
        },
        "id": "IiVJhZyIVEIW",
        "outputId": "3c1f54c2-097a-479b-c17b-054c5215b6fe"
      },
      "execution_count": null,
      "outputs": [
        {
          "output_type": "stream",
          "name": "stderr",
          "text": [
            "/usr/local/lib/python3.9/dist-packages/sklearn/ensemble/_forest.py:424: FutureWarning: `max_features='auto'` has been deprecated in 1.1 and will be removed in 1.3. To keep the past behaviour, explicitly set `max_features='sqrt'` or remove this parameter as it is also the default value for RandomForestClassifiers and ExtraTreesClassifiers.\n",
            "  warn(\n"
          ]
        },
        {
          "output_type": "execute_result",
          "data": {
            "text/plain": [
              "RandomForestClassifier(max_depth=2, max_features='auto', min_samples_leaf=2,\n",
              "                       min_samples_split=3, n_estimators=130)"
            ],
            "text/html": [
              "<style>#sk-container-id-1 {color: black;background-color: white;}#sk-container-id-1 pre{padding: 0;}#sk-container-id-1 div.sk-toggleable {background-color: white;}#sk-container-id-1 label.sk-toggleable__label {cursor: pointer;display: block;width: 100%;margin-bottom: 0;padding: 0.3em;box-sizing: border-box;text-align: center;}#sk-container-id-1 label.sk-toggleable__label-arrow:before {content: \"▸\";float: left;margin-right: 0.25em;color: #696969;}#sk-container-id-1 label.sk-toggleable__label-arrow:hover:before {color: black;}#sk-container-id-1 div.sk-estimator:hover label.sk-toggleable__label-arrow:before {color: black;}#sk-container-id-1 div.sk-toggleable__content {max-height: 0;max-width: 0;overflow: hidden;text-align: left;background-color: #f0f8ff;}#sk-container-id-1 div.sk-toggleable__content pre {margin: 0.2em;color: black;border-radius: 0.25em;background-color: #f0f8ff;}#sk-container-id-1 input.sk-toggleable__control:checked~div.sk-toggleable__content {max-height: 200px;max-width: 100%;overflow: auto;}#sk-container-id-1 input.sk-toggleable__control:checked~label.sk-toggleable__label-arrow:before {content: \"▾\";}#sk-container-id-1 div.sk-estimator input.sk-toggleable__control:checked~label.sk-toggleable__label {background-color: #d4ebff;}#sk-container-id-1 div.sk-label input.sk-toggleable__control:checked~label.sk-toggleable__label {background-color: #d4ebff;}#sk-container-id-1 input.sk-hidden--visually {border: 0;clip: rect(1px 1px 1px 1px);clip: rect(1px, 1px, 1px, 1px);height: 1px;margin: -1px;overflow: hidden;padding: 0;position: absolute;width: 1px;}#sk-container-id-1 div.sk-estimator {font-family: monospace;background-color: #f0f8ff;border: 1px dotted black;border-radius: 0.25em;box-sizing: border-box;margin-bottom: 0.5em;}#sk-container-id-1 div.sk-estimator:hover {background-color: #d4ebff;}#sk-container-id-1 div.sk-parallel-item::after {content: \"\";width: 100%;border-bottom: 1px solid gray;flex-grow: 1;}#sk-container-id-1 div.sk-label:hover label.sk-toggleable__label {background-color: #d4ebff;}#sk-container-id-1 div.sk-serial::before {content: \"\";position: absolute;border-left: 1px solid gray;box-sizing: border-box;top: 0;bottom: 0;left: 50%;z-index: 0;}#sk-container-id-1 div.sk-serial {display: flex;flex-direction: column;align-items: center;background-color: white;padding-right: 0.2em;padding-left: 0.2em;position: relative;}#sk-container-id-1 div.sk-item {position: relative;z-index: 1;}#sk-container-id-1 div.sk-parallel {display: flex;align-items: stretch;justify-content: center;background-color: white;position: relative;}#sk-container-id-1 div.sk-item::before, #sk-container-id-1 div.sk-parallel-item::before {content: \"\";position: absolute;border-left: 1px solid gray;box-sizing: border-box;top: 0;bottom: 0;left: 50%;z-index: -1;}#sk-container-id-1 div.sk-parallel-item {display: flex;flex-direction: column;z-index: 1;position: relative;background-color: white;}#sk-container-id-1 div.sk-parallel-item:first-child::after {align-self: flex-end;width: 50%;}#sk-container-id-1 div.sk-parallel-item:last-child::after {align-self: flex-start;width: 50%;}#sk-container-id-1 div.sk-parallel-item:only-child::after {width: 0;}#sk-container-id-1 div.sk-dashed-wrapped {border: 1px dashed gray;margin: 0 0.4em 0.5em 0.4em;box-sizing: border-box;padding-bottom: 0.4em;background-color: white;}#sk-container-id-1 div.sk-label label {font-family: monospace;font-weight: bold;display: inline-block;line-height: 1.2em;}#sk-container-id-1 div.sk-label-container {text-align: center;}#sk-container-id-1 div.sk-container {/* jupyter's `normalize.less` sets `[hidden] { display: none; }` but bootstrap.min.css set `[hidden] { display: none !important; }` so we also need the `!important` here to be able to override the default hidden behavior on the sphinx rendered scikit-learn.org. See: https://github.com/scikit-learn/scikit-learn/issues/21755 */display: inline-block !important;position: relative;}#sk-container-id-1 div.sk-text-repr-fallback {display: none;}</style><div id=\"sk-container-id-1\" class=\"sk-top-container\"><div class=\"sk-text-repr-fallback\"><pre>RandomForestClassifier(max_depth=2, max_features=&#x27;auto&#x27;, min_samples_leaf=2,\n",
              "                       min_samples_split=3, n_estimators=130)</pre><b>In a Jupyter environment, please rerun this cell to show the HTML representation or trust the notebook. <br />On GitHub, the HTML representation is unable to render, please try loading this page with nbviewer.org.</b></div><div class=\"sk-container\" hidden><div class=\"sk-item\"><div class=\"sk-estimator sk-toggleable\"><input class=\"sk-toggleable__control sk-hidden--visually\" id=\"sk-estimator-id-1\" type=\"checkbox\" checked><label for=\"sk-estimator-id-1\" class=\"sk-toggleable__label sk-toggleable__label-arrow\">RandomForestClassifier</label><div class=\"sk-toggleable__content\"><pre>RandomForestClassifier(max_depth=2, max_features=&#x27;auto&#x27;, min_samples_leaf=2,\n",
              "                       min_samples_split=3, n_estimators=130)</pre></div></div></div></div></div>"
            ]
          },
          "metadata": {},
          "execution_count": 23
        }
      ]
    },
    {
      "cell_type": "code",
      "source": [
        "y_pred = rand_clf.predict(X_test) "
      ],
      "metadata": {
        "id": "zJOUIiUFVVda"
      },
      "execution_count": null,
      "outputs": []
    },
    {
      "cell_type": "code",
      "source": [
        "y_pred"
      ],
      "metadata": {
        "colab": {
          "base_uri": "https://localhost:8080/"
        },
        "id": "KQf26nuPVbAB",
        "outputId": "ff4c6633-7404-4dd7-cf55-a78330477b6c"
      },
      "execution_count": null,
      "outputs": [
        {
          "output_type": "execute_result",
          "data": {
            "text/plain": [
              "array([1, 1, 1, 1, 1, 1, 1, 1, 1, 1, 1, 1, 1, 1, 1, 1, 1, 1, 1, 0, 0, 0,\n",
              "       1, 1, 1, 1, 1, 1, 1, 1, 1, 1, 1, 1, 1, 1, 0, 0, 0, 0, 0, 0, 1, 1,\n",
              "       0, 1, 0, 1, 0, 0, 0, 0, 0, 1, 1, 0, 1, 1, 0, 0, 0, 0, 1, 0, 1, 1,\n",
              "       0, 0, 0, 0, 1, 0, 1, 0, 0, 1, 0, 1, 1, 0, 0, 0, 1, 1, 0, 1, 0, 1,\n",
              "       0, 0, 0, 1, 0, 0, 1, 1, 0, 0, 0, 1, 0, 0, 0, 0, 0, 1, 0, 0, 1, 0,\n",
              "       0, 0, 1, 0])"
            ]
          },
          "metadata": {},
          "execution_count": 25
        }
      ]
    },
    {
      "cell_type": "code",
      "source": [
        "# accuracy score\n",
        "\n",
        "print(accuracy_score(y_train, rand_clf.predict(X_train)))\n",
        "\n",
        "ran_clf_acc = accuracy_score(y_test, y_pred)\n",
        "print(ran_clf_acc)"
      ],
      "metadata": {
        "colab": {
          "base_uri": "https://localhost:8080/"
        },
        "id": "RhYwID5SVb9J",
        "outputId": "565c78ff-ca90-4801-899a-6cad4a896a2f"
      },
      "execution_count": null,
      "outputs": [
        {
          "output_type": "stream",
          "name": "stdout",
          "text": [
            "0.971042471042471\n",
            "0.9122807017543859\n"
          ]
        }
      ]
    },
    {
      "cell_type": "code",
      "source": [
        "from sklearn.metrics import confusion_matrix\n",
        "# confusion matrix\n",
        "\n",
        "print(confusion_matrix(y_test, y_pred))"
      ],
      "metadata": {
        "colab": {
          "base_uri": "https://localhost:8080/"
        },
        "id": "4UDSnhYfVh-y",
        "outputId": "3ac5d705-78fb-4b30-8385-bcd4e353c7ae"
      },
      "execution_count": null,
      "outputs": [
        {
          "output_type": "stream",
          "name": "stdout",
          "text": [
            "[[45  1]\n",
            " [ 9 59]]\n"
          ]
        }
      ]
    },
    {
      "cell_type": "code",
      "source": [
        "from sklearn.metrics import classification_report\n",
        "# classification report\n",
        "\n",
        "print(classification_report(y_test, y_pred))"
      ],
      "metadata": {
        "colab": {
          "base_uri": "https://localhost:8080/"
        },
        "id": "1tj-XN7HVlUg",
        "outputId": "67ac5c53-ea06-4011-be43-b6f6405b75e2"
      },
      "execution_count": null,
      "outputs": [
        {
          "output_type": "stream",
          "name": "stdout",
          "text": [
            "              precision    recall  f1-score   support\n",
            "\n",
            "           0       0.83      0.98      0.90        46\n",
            "           1       0.98      0.87      0.92        68\n",
            "\n",
            "    accuracy                           0.91       114\n",
            "   macro avg       0.91      0.92      0.91       114\n",
            "weighted avg       0.92      0.91      0.91       114\n",
            "\n"
          ]
        }
      ]
    },
    {
      "cell_type": "markdown",
      "source": [
        "validate set"
      ],
      "metadata": {
        "id": "P9oqnBWfVxWl"
      }
    },
    {
      "cell_type": "code",
      "source": [
        "y_pred_val = rand_clf.predict(X_val)\n",
        "cm_val = confusion_matrix(y_val, y_pred_val)\n",
        "print('Confusion Matrix')\n",
        "print('-'*16)\n",
        "print(cm_val,'\\n')\n",
        "print('-'*16)"
      ],
      "metadata": {
        "colab": {
          "base_uri": "https://localhost:8080/"
        },
        "id": "7WTSrovJV3M7",
        "outputId": "def3085f-0e3a-4e78-ff94-98cc713e3936"
      },
      "execution_count": null,
      "outputs": [
        {
          "output_type": "stream",
          "name": "stdout",
          "text": [
            "Confusion Matrix\n",
            "----------------\n",
            "[[46  6]\n",
            " [ 1 38]] \n",
            "\n",
            "----------------\n"
          ]
        }
      ]
    },
    {
      "cell_type": "code",
      "source": [
        "# Calculate score\n",
        "sen_val = sensitivity(cm_val)\n",
        "spec_val = specificity(cm_val)\n",
        "acc_val = accuracy(cm_val)\n",
        "pre_val = precision(cm_val)\n",
        "f1_val = f1(cm_val)"
      ],
      "metadata": {
        "colab": {
          "base_uri": "https://localhost:8080/"
        },
        "id": "mOkGgAFmV5Vk",
        "outputId": "8fd34656-70f9-43ba-a47a-12e9f5041f6a"
      },
      "execution_count": null,
      "outputs": [
        {
          "output_type": "stream",
          "name": "stdout",
          "text": [
            "Sensitivity: 97.44%\n",
            "Specificity: 88.46%\n",
            "Accuracy: 92.31%\n",
            "Precision: 86.36%\n",
            "Sensitivity: 97.44%\n",
            "Precision: 86.36%\n",
            "F1: 91.57%\n"
          ]
        }
      ]
    },
    {
      "cell_type": "code",
      "source": [
        "class_names = ['benign','malignant']\n",
        "# Normalize confusion matrix to percentage\n",
        "cm_norm_val = cm_val.astype('float') / cm_val.sum(axis=1)[:, np.newaxis]\n",
        "# Create plot\n",
        "fig, ax = plt.subplots()\n",
        "im = ax.imshow(cm_norm_val, interpolation='nearest', cmap=\"rocket_r\")\n",
        "ax.grid(False)\n",
        "# Add labels\n",
        "ax.set(xticks=np.arange(cm_norm_val.shape[1]),\n",
        "       yticks=np.arange(cm_norm_val.shape[0]),\n",
        "       xticklabels=class_names, yticklabels=class_names)\n",
        "ax.set_title(\"Validate set\", fontsize=16)\n",
        "ax.set_ylabel('Actual', fontsize=16)\n",
        "ax.set_xlabel('Predicted', fontsize=16)\n",
        "# Add percentage and count values inside plot\n",
        "thresh = cm_norm_val.max() / 2.\n",
        "for i in range(cm_norm_val.shape[0]):\n",
        "    for j in range(cm_norm_val.shape[1]):\n",
        "        ax.text(j, i, '''{}\\n({:.2f}%)'''.format(cm_val[i,j], cm_norm_val[i, j]*100),\n",
        "                ha=\"center\", va=\"center\",\n",
        "                color=\"white\" if cm_norm_val[i, j] > thresh else \"black\")\n",
        "# Show plot\n",
        "plt.show()"
      ],
      "metadata": {
        "colab": {
          "base_uri": "https://localhost:8080/",
          "height": 54
        },
        "id": "cLtIU5wvWARq",
        "outputId": "b326f45a-cffa-4c2e-c1cd-17e3874126aa"
      },
      "execution_count": null,
      "outputs": [
        {
          "output_type": "display_data",
          "data": {
            "text/plain": [
              "<Figure size 640x480 with 1 Axes>"
            ],
            "image/png": "[encoded data removed]"
          },
          "metadata": {}
        }
      ]
    },
    {
      "cell_type": "markdown",
      "source": [
        "test set"
      ],
      "metadata": {
        "id": "sZBLTfIoWESS"
      }
    },
    {
      "cell_type": "code",
      "source": [
        "y_pred_test = rand_clf.predict(X_test)\n",
        "# Confusion matrix\n",
        "cm_test_split1 = confusion_matrix(y_test, y_pred_test)\n",
        "print('Confusion Matrix')\n",
        "print('-'*16)\n",
        "print(cm_test_split1,'\\n')\n",
        "print('-'*16)"
      ],
      "metadata": {
        "colab": {
          "base_uri": "https://localhost:8080/"
        },
        "id": "_wj7pLO1WFJO",
        "outputId": "51a6505b-b87f-4e17-b271-364d830cda8c"
      },
      "execution_count": null,
      "outputs": [
        {
          "output_type": "stream",
          "name": "stdout",
          "text": [
            "Confusion Matrix\n",
            "----------------\n",
            "[[45  1]\n",
            " [ 9 59]] \n",
            "\n",
            "----------------\n"
          ]
        }
      ]
    },
    {
      "cell_type": "code",
      "source": [
        "# Calculate score\n",
        "sen_test_split1 = sensitivity(cm_test_split1)\n",
        "spec_test_split1 = specificity(cm_test_split1)\n",
        "acc_test_split1 = accuracy(cm_test_split1)\n",
        "pre_test_split1 = precision(cm_test_split1)\n",
        "f1_test_split1 = f1(cm_test_split1)"
      ],
      "metadata": {
        "colab": {
          "base_uri": "https://localhost:8080/"
        },
        "id": "o1u15_HxWHgi",
        "outputId": "c5e4f543-0fd0-49bc-acf1-d7565616cee9"
      },
      "execution_count": null,
      "outputs": [
        {
          "output_type": "stream",
          "name": "stdout",
          "text": [
            "Sensitivity: 86.76%\n",
            "Specificity: 97.83%\n",
            "Accuracy: 91.23%\n",
            "Precision: 98.33%\n",
            "Sensitivity: 86.76%\n",
            "Precision: 98.33%\n",
            "F1: 92.19%\n"
          ]
        }
      ]
    },
    {
      "cell_type": "code",
      "source": [
        "# plot confusion matrix\n",
        "class_names = ['benign','malignant']\n",
        "# Normalize confusion matrix to percentage\n",
        "cm_norm_test = cm_test_split1.astype('float') / cm_test_split1.sum(axis=1)[:, np.newaxis]\n",
        "# Create plot\n",
        "fig, ax = plt.subplots()\n",
        "im = ax.imshow(cm_norm_test, interpolation='nearest', cmap=\"rocket_r\")\n",
        "ax.grid(False)\n",
        "# Add labels\n",
        "ax.set(xticks=np.arange(cm_norm_test.shape[1]),\n",
        "       yticks=np.arange(cm_norm_test.shape[0]),\n",
        "       xticklabels=class_names, yticklabels=class_names)\n",
        "ax.set_title(\"Test set\", fontsize=16)\n",
        "ax.set_ylabel('Actual', fontsize=16)\n",
        "ax.set_xlabel('Predicted', fontsize=16)\n",
        "# Add percentage and count values inside plot\n",
        "thresh = cm_norm_test.max() / 2.\n",
        "for i in range(cm_norm_test.shape[0]):\n",
        "    for j in range(cm_norm_test.shape[1]):\n",
        "        ax.text(j, i, '''{}\\n({:.2f}%)'''.format(cm_test_split1[i,j], cm_norm_test[i, j]*100),\n",
        "                ha=\"center\", va=\"center\",\n",
        "                color=\"white\" if cm_norm_test[i, j] > thresh else \"black\")\n",
        "# Show plot\n",
        "plt.show()"
      ],
      "metadata": {
        "colab": {
          "base_uri": "https://localhost:8080/",
          "height": 54
        },
        "id": "lYT40TrCWLEY",
        "outputId": "0f5be668-3dfd-4e8f-e3bf-a5bce6191c00"
      },
      "execution_count": null,
      "outputs": [
        {
          "output_type": "display_data",
          "data": {
            "text/plain": [
              "<Figure size 640x480 with 1 Axes>"
            ],
            "image/png": "[encoded data removed]"
          },
          "metadata": {}
        }
      ]
    },
    {
      "cell_type": "markdown",
      "source": [
        "plot ROC curve"
      ],
      "metadata": {
        "id": "dOZEEo1TWOgO"
      }
    },
    {
      "cell_type": "code",
      "source": [
        "fpr1, tpr1, thr1 = roc_curve(y_val, y_pred_val)\n",
        "auc_val = roc_auc_score(y_val, y_pred_val)\n",
        "fpr2, tpr2, thr2 = roc_curve(y_test, y_pred_test)\n",
        "auc_test_split1 = roc_auc_score(y_test, y_pred_test)\n",
        "\n",
        "print(\"---------------------------------------\")\n",
        "print(\"AUC validate: %.4f\" % auc_val)\n",
        "print(\"AUC test: %.4f\" % auc_test_split1)"
      ],
      "metadata": {
        "colab": {
          "base_uri": "https://localhost:8080/"
        },
        "id": "rfjmsloeWPDH",
        "outputId": "6634a07a-edaf-4009-9a75-d56d571eb8de"
      },
      "execution_count": null,
      "outputs": [
        {
          "output_type": "stream",
          "name": "stdout",
          "text": [
            "---------------------------------------\n",
            "AUC validate: 0.9295\n",
            "AUC test: 0.9230\n"
          ]
        }
      ]
    },
    {
      "cell_type": "code",
      "source": [
        "# plt.plot(fpr,tpr,label=\"data 1, auc=\"+str(auc),color='red')\n",
        "plt.plot(fpr1,tpr1,label=\"ROC valid, auc=\"+str(\"%.4f\" % auc_val))\n",
        "plt.plot(fpr2,tpr2,label=\"ROC test, auc=\"+str(\"%.4f\" % auc_test_split1))\n",
        "plt.plot([0, 1], [0, 1], linestyle=\"--\", lw=2, color=\"r\", label=\"Chance\", alpha=0.8)\n",
        "plt.legend(loc=4)\n",
        "plt.show()"
      ],
      "metadata": {
        "colab": {
          "base_uri": "https://localhost:8080/",
          "height": 54
        },
        "id": "zMGLZHpvWdqQ",
        "outputId": "199cf94a-3ff1-4a77-df36-3cd435dfc8f0"
      },
      "execution_count": null,
      "outputs": [
        {
          "output_type": "display_data",
          "data": {
            "text/plain": [
              "<Figure size 640x480 with 1 Axes>"
            ],
            "image/png": "[encoded data removed]"
          },
          "metadata": {}
        }
      ]
    },
    {
      "cell_type": "markdown",
      "source": [
        "## Split2"
      ],
      "metadata": {
        "id": "B1-2dfc_Wnfo"
      }
    },
    {
      "cell_type": "markdown",
      "source": [
        "Training set"
      ],
      "metadata": {
        "id": "Csv3STqXWuqz"
      }
    },
    {
      "cell_type": "code",
      "source": [
        "train_data = pd.read_csv(\"oversampled_train_split2.csv\")\n",
        "train_data.shape"
      ],
      "metadata": {
        "colab": {
          "base_uri": "https://localhost:8080/"
        },
        "id": "DV7tMTVVWt5B",
        "outputId": "38589574-19d0-4a34-9a2c-d8ca4c71417a"
      },
      "execution_count": null,
      "outputs": [
        {
          "output_type": "execute_result",
          "data": {
            "text/plain": [
              "(516, 32)"
            ]
          },
          "metadata": {},
          "execution_count": 37
        }
      ]
    },
    {
      "cell_type": "code",
      "source": [
        "x_train = train_data[train_data.columns[2:]]\n",
        "x_train.shape"
      ],
      "metadata": {
        "colab": {
          "base_uri": "https://localhost:8080/"
        },
        "id": "Bi1JBWgOWw_F",
        "outputId": "0fdb2bdf-912d-40e8-8350-b04d2f3fd2ca"
      },
      "execution_count": null,
      "outputs": [
        {
          "output_type": "execute_result",
          "data": {
            "text/plain": [
              "(516, 30)"
            ]
          },
          "metadata": {},
          "execution_count": 38
        }
      ]
    },
    {
      "cell_type": "code",
      "source": [
        "y_train = train_data[train_data.columns[1]]\n",
        "#y_train.shape\n",
        "le = LabelEncoder()\n",
        "y_train = np.array(le.fit_transform(y_train))\n",
        "print(le.classes_)"
      ],
      "metadata": {
        "colab": {
          "base_uri": "https://localhost:8080/"
        },
        "id": "U4lvbpQ7Wzat",
        "outputId": "d9416d2c-bf95-41dd-9891-061d74d78bcd"
      },
      "execution_count": null,
      "outputs": [
        {
          "output_type": "stream",
          "name": "stdout",
          "text": [
            "['B' 'M']\n"
          ]
        }
      ]
    },
    {
      "cell_type": "markdown",
      "source": [
        "Testing set"
      ],
      "metadata": {
        "id": "6pN4kAcvW2uI"
      }
    },
    {
      "cell_type": "code",
      "source": [
        "test_data = pd.read_csv(\"test.csv\")\n",
        "test_data.shape"
      ],
      "metadata": {
        "colab": {
          "base_uri": "https://localhost:8080/"
        },
        "id": "kg8f6rrXW3Ij",
        "outputId": "e5c77a23-d8db-47a2-d96b-33e25090af7c"
      },
      "execution_count": null,
      "outputs": [
        {
          "output_type": "execute_result",
          "data": {
            "text/plain": [
              "(114, 33)"
            ]
          },
          "metadata": {},
          "execution_count": 40
        }
      ]
    },
    {
      "cell_type": "code",
      "source": [
        "x_test = test_data[test_data.columns[3:]]\n",
        "x_test.shape"
      ],
      "metadata": {
        "colab": {
          "base_uri": "https://localhost:8080/"
        },
        "id": "dVflK433W4-v",
        "outputId": "1b3a79e5-a47f-4ac3-a5e7-d2bd1c129248"
      },
      "execution_count": null,
      "outputs": [
        {
          "output_type": "execute_result",
          "data": {
            "text/plain": [
              "(114, 30)"
            ]
          },
          "metadata": {},
          "execution_count": 41
        }
      ]
    },
    {
      "cell_type": "code",
      "source": [
        "y_test = test_data[test_data.columns[2]]\n",
        "#y_test.shape\n",
        "le = LabelEncoder()\n",
        "y_test = np.array(le.fit_transform(y_test))\n",
        "print(le.classes_)"
      ],
      "metadata": {
        "colab": {
          "base_uri": "https://localhost:8080/"
        },
        "id": "fg0NpWcwW6eb",
        "outputId": "c724ab47-af1a-402b-b68a-8982fa70fe54"
      },
      "execution_count": null,
      "outputs": [
        {
          "output_type": "stream",
          "name": "stdout",
          "text": [
            "['B' 'M']\n"
          ]
        }
      ]
    },
    {
      "cell_type": "markdown",
      "source": [
        "Validation set"
      ],
      "metadata": {
        "id": "s5XkviGXW9ua"
      }
    },
    {
      "cell_type": "code",
      "source": [
        "val_data = pd.read_csv(\"val_split2.csv\")\n",
        "val_data.shape"
      ],
      "metadata": {
        "colab": {
          "base_uri": "https://localhost:8080/"
        },
        "id": "ZgLtuzKzW-Sm",
        "outputId": "b3248b0c-374c-481f-cff1-ec87a0cda193"
      },
      "execution_count": null,
      "outputs": [
        {
          "output_type": "execute_result",
          "data": {
            "text/plain": [
              "(91, 32)"
            ]
          },
          "metadata": {},
          "execution_count": 43
        }
      ]
    },
    {
      "cell_type": "code",
      "source": [
        "x_val = val_data[val_data.columns[2:]]\n",
        "x_val.shape"
      ],
      "metadata": {
        "colab": {
          "base_uri": "https://localhost:8080/"
        },
        "id": "HoL5opHgW_vC",
        "outputId": "d220ec3f-f7ba-46dd-e2e1-3ad301f8dd22"
      },
      "execution_count": null,
      "outputs": [
        {
          "output_type": "execute_result",
          "data": {
            "text/plain": [
              "(91, 30)"
            ]
          },
          "metadata": {},
          "execution_count": 44
        }
      ]
    },
    {
      "cell_type": "code",
      "source": [
        "y_val = val_data[val_data.columns[1]]\n",
        "#y_val.shape\n",
        "le = LabelEncoder()\n",
        "y_val = np.array(le.fit_transform(y_val))\n",
        "print(le.classes_)"
      ],
      "metadata": {
        "colab": {
          "base_uri": "https://localhost:8080/"
        },
        "id": "UB_MWiyZXB7z",
        "outputId": "3f875e81-6db1-45b6-8dbe-43f54317fb7e"
      },
      "execution_count": null,
      "outputs": [
        {
          "output_type": "stream",
          "name": "stdout",
          "text": [
            "['B' 'M']\n"
          ]
        }
      ]
    },
    {
      "cell_type": "markdown",
      "source": [
        "step train -split2"
      ],
      "metadata": {
        "id": "cvXQChCRXGFW"
      }
    },
    {
      "cell_type": "code",
      "source": [
        "x_train = x_train.to_numpy()\n",
        "x_test = x_test.to_numpy()\n",
        "x_val = x_val.to_numpy() "
      ],
      "metadata": {
        "id": "1BK-22fmXGsu"
      },
      "execution_count": null,
      "outputs": []
    },
    {
      "cell_type": "code",
      "source": [
        "from sklearn.model_selection import train_test_split\n",
        "\n",
        "print(\"Shape of training set:\", x_train.shape)\n",
        "print(\"Shape of test set:\", x_test.shape)"
      ],
      "metadata": {
        "colab": {
          "base_uri": "https://localhost:8080/"
        },
        "id": "I2YcIeTPXSX4",
        "outputId": "beae431d-6685-443c-d88e-8add5ad6c76a"
      },
      "execution_count": null,
      "outputs": [
        {
          "output_type": "stream",
          "name": "stdout",
          "text": [
            "Shape of training set: (516, 30)\n",
            "Shape of test set: (114, 30)\n"
          ]
        }
      ]
    },
    {
      "cell_type": "code",
      "source": [
        "from sklearn.preprocessing import StandardScaler\n",
        "\n",
        "ss = StandardScaler()\n",
        "X_train = ss.fit_transform(x_train)\n",
        "X_test = ss.fit_transform(x_test)\n",
        "X_val = ss.fit_transform(x_val) "
      ],
      "metadata": {
        "id": "9_v512r1XUJD"
      },
      "execution_count": null,
      "outputs": []
    },
    {
      "cell_type": "markdown",
      "source": [
        "หาparameter"
      ],
      "metadata": {
        "id": "vmx-634nXd7z"
      }
    },
    {
      "cell_type": "code",
      "source": [
        "# instantiate classifier ,ยกตัวอย่างclassifier \n",
        "#rf_classifier = RandomForestClassifier(random_state=42, n_estimators=10)"
      ],
      "metadata": {
        "id": "AheC3us7Xe4v"
      },
      "execution_count": null,
      "outputs": []
    },
    {
      "cell_type": "code",
      "source": [
        "# give to GridSearchCV\n",
        "#param_dist = {'max_depth': [2, 3, 4],\n",
        "#             'bootstrap': [True, False],\n",
        "#              'max_features': ['auto', 'sqrt', 'log2', None],\n",
        "#              'criterion': ['gini', 'entropy']}\n",
        "\n",
        "# set up the GridSearch\n",
        "#cv_rf = GridSearchCV(rf_classifier, cv = 5,param_grid=param_dist,n_jobs = 3)\n",
        "\n",
        "# fit the GridSearch\n",
        "#cv_rf.fit(X_train, y_train)\n",
        "#cv_rf.fit(X_val, y_val) #ใช้อันนี้\n",
        "#print('Best Parameters using grid search: \\n', cv_rf.best_params_)\n",
        "\n",
        "#print('Best criterion parameter:', cv_rf.best_params_['criterion'])\n",
        "#print('Best max_depth parameter:', cv_rf.best_params_['max_depth'])\n",
        "#print('Best bootstrap parameter:', cv_rf.best_params_['bootstrap'])\n",
        "#print('Best max_features parameter:', cv_rf.best_params_['max_features'])\n",
        "#print('Best score:', cv_rf.best_score_)"
      ],
      "metadata": {
        "id": "_4EJF5ZyXnFe"
      },
      "execution_count": null,
      "outputs": []
    },
    {
      "cell_type": "markdown",
      "source": [
        "Best Parameters using grid search: \n",
        " {'bootstrap': False, 'criterion': 'entropy', 'max_depth': 4, 'max_features': 'log2'}\n",
        "Best criterion parameter: entropy\n",
        "Best max_depth parameter: 4\n",
        "Best bootstrap parameter: False\n",
        "Best max_features parameter: log2\n",
        "\n",
        "**Best score: 0.9783625730994151**"
      ],
      "metadata": {
        "id": "f5h2Tf8vZUJk"
      }
    },
    {
      "cell_type": "code",
      "source": [
        "from sklearn.ensemble import RandomForestClassifier\n",
        "\n",
        "rand_clf = RandomForestClassifier(criterion = 'gini', max_depth = 2, max_features = 'auto', min_samples_leaf = 2, min_samples_split = 3, n_estimators = 130)\n",
        "rand_clf.fit(X_train, y_train) # map"
      ],
      "metadata": {
        "colab": {
          "base_uri": "https://localhost:8080/",
          "height": 145
        },
        "id": "5Wzs0B8KX6Hk",
        "outputId": "51e93a59-5cfe-46d1-f20f-3e8cf2d75de0"
      },
      "execution_count": null,
      "outputs": [
        {
          "output_type": "stream",
          "name": "stderr",
          "text": [
            "/usr/local/lib/python3.9/dist-packages/sklearn/ensemble/_forest.py:424: FutureWarning: `max_features='auto'` has been deprecated in 1.1 and will be removed in 1.3. To keep the past behaviour, explicitly set `max_features='sqrt'` or remove this parameter as it is also the default value for RandomForestClassifiers and ExtraTreesClassifiers.\n",
            "  warn(\n"
          ]
        },
        {
          "output_type": "execute_result",
          "data": {
            "text/plain": [
              "RandomForestClassifier(max_depth=2, max_features='auto', min_samples_leaf=2,\n",
              "                       min_samples_split=3, n_estimators=130)"
            ],
            "text/html": [
              "<style>#sk-container-id-2 {color: black;background-color: white;}#sk-container-id-2 pre{padding: 0;}#sk-container-id-2 div.sk-toggleable {background-color: white;}#sk-container-id-2 label.sk-toggleable__label {cursor: pointer;display: block;width: 100%;margin-bottom: 0;padding: 0.3em;box-sizing: border-box;text-align: center;}#sk-container-id-2 label.sk-toggleable__label-arrow:before {content: \"▸\";float: left;margin-right: 0.25em;color: #696969;}#sk-container-id-2 label.sk-toggleable__label-arrow:hover:before {color: black;}#sk-container-id-2 div.sk-estimator:hover label.sk-toggleable__label-arrow:before {color: black;}#sk-container-id-2 div.sk-toggleable__content {max-height: 0;max-width: 0;overflow: hidden;text-align: left;background-color: #f0f8ff;}#sk-container-id-2 div.sk-toggleable__content pre {margin: 0.2em;color: black;border-radius: 0.25em;background-color: #f0f8ff;}#sk-container-id-2 input.sk-toggleable__control:checked~div.sk-toggleable__content {max-height: 200px;max-width: 100%;overflow: auto;}#sk-container-id-2 input.sk-toggleable__control:checked~label.sk-toggleable__label-arrow:before {content: \"▾\";}#sk-container-id-2 div.sk-estimator input.sk-toggleable__control:checked~label.sk-toggleable__label {background-color: #d4ebff;}#sk-container-id-2 div.sk-label input.sk-toggleable__control:checked~label.sk-toggleable__label {background-color: #d4ebff;}#sk-container-id-2 input.sk-hidden--visually {border: 0;clip: rect(1px 1px 1px 1px);clip: rect(1px, 1px, 1px, 1px);height: 1px;margin: -1px;overflow: hidden;padding: 0;position: absolute;width: 1px;}#sk-container-id-2 div.sk-estimator {font-family: monospace;background-color: #f0f8ff;border: 1px dotted black;border-radius: 0.25em;box-sizing: border-box;margin-bottom: 0.5em;}#sk-container-id-2 div.sk-estimator:hover {background-color: #d4ebff;}#sk-container-id-2 div.sk-parallel-item::after {content: \"\";width: 100%;border-bottom: 1px solid gray;flex-grow: 1;}#sk-container-id-2 div.sk-label:hover label.sk-toggleable__label {background-color: #d4ebff;}#sk-container-id-2 div.sk-serial::before {content: \"\";position: absolute;border-left: 1px solid gray;box-sizing: border-box;top: 0;bottom: 0;left: 50%;z-index: 0;}#sk-container-id-2 div.sk-serial {display: flex;flex-direction: column;align-items: center;background-color: white;padding-right: 0.2em;padding-left: 0.2em;position: relative;}#sk-container-id-2 div.sk-item {position: relative;z-index: 1;}#sk-container-id-2 div.sk-parallel {display: flex;align-items: stretch;justify-content: center;background-color: white;position: relative;}#sk-container-id-2 div.sk-item::before, #sk-container-id-2 div.sk-parallel-item::before {content: \"\";position: absolute;border-left: 1px solid gray;box-sizing: border-box;top: 0;bottom: 0;left: 50%;z-index: -1;}#sk-container-id-2 div.sk-parallel-item {display: flex;flex-direction: column;z-index: 1;position: relative;background-color: white;}#sk-container-id-2 div.sk-parallel-item:first-child::after {align-self: flex-end;width: 50%;}#sk-container-id-2 div.sk-parallel-item:last-child::after {align-self: flex-start;width: 50%;}#sk-container-id-2 div.sk-parallel-item:only-child::after {width: 0;}#sk-container-id-2 div.sk-dashed-wrapped {border: 1px dashed gray;margin: 0 0.4em 0.5em 0.4em;box-sizing: border-box;padding-bottom: 0.4em;background-color: white;}#sk-container-id-2 div.sk-label label {font-family: monospace;font-weight: bold;display: inline-block;line-height: 1.2em;}#sk-container-id-2 div.sk-label-container {text-align: center;}#sk-container-id-2 div.sk-container {/* jupyter's `normalize.less` sets `[hidden] { display: none; }` but bootstrap.min.css set `[hidden] { display: none !important; }` so we also need the `!important` here to be able to override the default hidden behavior on the sphinx rendered scikit-learn.org. See: https://github.com/scikit-learn/scikit-learn/issues/21755 */display: inline-block !important;position: relative;}#sk-container-id-2 div.sk-text-repr-fallback {display: none;}</style><div id=\"sk-container-id-2\" class=\"sk-top-container\"><div class=\"sk-text-repr-fallback\"><pre>RandomForestClassifier(max_depth=2, max_features=&#x27;auto&#x27;, min_samples_leaf=2,\n",
              "                       min_samples_split=3, n_estimators=130)</pre><b>In a Jupyter environment, please rerun this cell to show the HTML representation or trust the notebook. <br />On GitHub, the HTML representation is unable to render, please try loading this page with nbviewer.org.</b></div><div class=\"sk-container\" hidden><div class=\"sk-item\"><div class=\"sk-estimator sk-toggleable\"><input class=\"sk-toggleable__control sk-hidden--visually\" id=\"sk-estimator-id-2\" type=\"checkbox\" checked><label for=\"sk-estimator-id-2\" class=\"sk-toggleable__label sk-toggleable__label-arrow\">RandomForestClassifier</label><div class=\"sk-toggleable__content\"><pre>RandomForestClassifier(max_depth=2, max_features=&#x27;auto&#x27;, min_samples_leaf=2,\n",
              "                       min_samples_split=3, n_estimators=130)</pre></div></div></div></div></div>"
            ]
          },
          "metadata": {},
          "execution_count": 51
        }
      ]
    },
    {
      "cell_type": "code",
      "source": [
        "y_pred = rand_clf.predict(X_test)"
      ],
      "metadata": {
        "id": "G-n-_3LqZduC"
      },
      "execution_count": null,
      "outputs": []
    },
    {
      "cell_type": "code",
      "source": [
        "y_pred"
      ],
      "metadata": {
        "colab": {
          "base_uri": "https://localhost:8080/"
        },
        "id": "tPKF2B2oZ9FI",
        "outputId": "703c5192-f930-4d90-82ad-682fe439f033"
      },
      "execution_count": null,
      "outputs": [
        {
          "output_type": "execute_result",
          "data": {
            "text/plain": [
              "array([1, 1, 1, 0, 1, 0, 1, 1, 1, 0, 1, 1, 1, 1, 1, 1, 1, 1, 1, 0, 0, 0,\n",
              "       1, 1, 1, 1, 1, 1, 1, 1, 1, 1, 1, 1, 1, 1, 1, 0, 0, 0, 0, 0, 1, 1,\n",
              "       0, 1, 0, 1, 0, 0, 0, 0, 0, 1, 1, 0, 1, 1, 0, 0, 0, 0, 1, 0, 1, 1,\n",
              "       0, 0, 0, 0, 1, 0, 1, 0, 0, 1, 0, 1, 1, 0, 0, 0, 1, 1, 0, 1, 0, 1,\n",
              "       0, 1, 0, 1, 0, 0, 1, 1, 0, 0, 0, 1, 1, 0, 0, 0, 0, 1, 0, 0, 1, 0,\n",
              "       0, 0, 0, 0])"
            ]
          },
          "metadata": {},
          "execution_count": 53
        }
      ]
    },
    {
      "cell_type": "code",
      "source": [
        "# accuracy score\n",
        "\n",
        "print(accuracy_score(y_train, rand_clf.predict(X_train)))\n",
        "\n",
        "ran_clf_acc = accuracy_score(y_test, y_pred)\n",
        "print(ran_clf_acc)"
      ],
      "metadata": {
        "colab": {
          "base_uri": "https://localhost:8080/"
        },
        "id": "HpSmNOdcZ_Ek",
        "outputId": "b085f5db-948f-44ed-94bd-cafc602c15fb"
      },
      "execution_count": null,
      "outputs": [
        {
          "output_type": "stream",
          "name": "stdout",
          "text": [
            "0.9631782945736435\n",
            "0.9035087719298246\n"
          ]
        }
      ]
    },
    {
      "cell_type": "code",
      "source": [
        "# confusion matrix\n",
        "\n",
        "print(confusion_matrix(y_test, y_pred))"
      ],
      "metadata": {
        "colab": {
          "base_uri": "https://localhost:8080/"
        },
        "id": "-CFtnBcZaDy4",
        "outputId": "c11bfb79-8555-4937-9acc-1e79266e1f69"
      },
      "execution_count": null,
      "outputs": [
        {
          "output_type": "stream",
          "name": "stdout",
          "text": [
            "[[45  1]\n",
            " [10 58]]\n"
          ]
        }
      ]
    },
    {
      "cell_type": "code",
      "source": [
        "# classification report\n",
        "\n",
        "print(classification_report(y_test, y_pred))"
      ],
      "metadata": {
        "colab": {
          "base_uri": "https://localhost:8080/"
        },
        "id": "eVwIHfnYaGPV",
        "outputId": "60450104-5329-4975-d0fc-5a779ce43723"
      },
      "execution_count": null,
      "outputs": [
        {
          "output_type": "stream",
          "name": "stdout",
          "text": [
            "              precision    recall  f1-score   support\n",
            "\n",
            "           0       0.82      0.98      0.89        46\n",
            "           1       0.98      0.85      0.91        68\n",
            "\n",
            "    accuracy                           0.90       114\n",
            "   macro avg       0.90      0.92      0.90       114\n",
            "weighted avg       0.92      0.90      0.90       114\n",
            "\n"
          ]
        }
      ]
    },
    {
      "cell_type": "markdown",
      "source": [
        "validate set"
      ],
      "metadata": {
        "id": "SJg6RvVRaKx3"
      }
    },
    {
      "cell_type": "code",
      "source": [
        "y_pred_val = rand_clf.predict(X_val)\n",
        "cm_val = confusion_matrix(y_val, y_pred_val)\n",
        "print('Confusion Matrix')\n",
        "print('-'*16)\n",
        "print(cm_val,'\\n')\n",
        "print('-'*16)"
      ],
      "metadata": {
        "colab": {
          "base_uri": "https://localhost:8080/"
        },
        "id": "VV47-IwDaLPj",
        "outputId": "b8ff4c6e-8a0e-4cd5-84c2-44e0869369d3"
      },
      "execution_count": null,
      "outputs": [
        {
          "output_type": "stream",
          "name": "stdout",
          "text": [
            "Confusion Matrix\n",
            "----------------\n",
            "[[50  3]\n",
            " [ 1 37]] \n",
            "\n",
            "----------------\n"
          ]
        }
      ]
    },
    {
      "cell_type": "code",
      "source": [
        " # Calculate score\n",
        "sen_val = sensitivity(cm_val)\n",
        "spec_val = specificity(cm_val)\n",
        "acc_val = accuracy(cm_val)\n",
        "pre_val = precision(cm_val)\n",
        "f1_val = f1(cm_val)"
      ],
      "metadata": {
        "colab": {
          "base_uri": "https://localhost:8080/"
        },
        "id": "M9AlqxoFaOk2",
        "outputId": "eae30132-6c32-4c7f-83b6-98706286af48"
      },
      "execution_count": null,
      "outputs": [
        {
          "output_type": "stream",
          "name": "stdout",
          "text": [
            "Sensitivity: 97.37%\n",
            "Specificity: 94.34%\n",
            "Accuracy: 95.60%\n",
            "Precision: 92.50%\n",
            "Sensitivity: 97.37%\n",
            "Precision: 92.50%\n",
            "F1: 94.87%\n"
          ]
        }
      ]
    },
    {
      "cell_type": "code",
      "source": [
        "class_names = ['benign','malignant']\n",
        "# Normalize confusion matrix to percentage\n",
        "cm_norm_val = cm_val.astype('float') / cm_val.sum(axis=1)[:, np.newaxis]\n",
        "# Create plot\n",
        "fig, ax = plt.subplots()\n",
        "im = ax.imshow(cm_norm_val, interpolation='nearest', cmap=\"rocket_r\")\n",
        "ax.grid(False)\n",
        "# Add labels\n",
        "ax.set(xticks=np.arange(cm_norm_val.shape[1]),\n",
        "       yticks=np.arange(cm_norm_val.shape[0]),\n",
        "       xticklabels=class_names, yticklabels=class_names)\n",
        "ax.set_title(\"Validate set\", fontsize=16)\n",
        "ax.set_ylabel('Actual', fontsize=16)\n",
        "ax.set_xlabel('Predicted', fontsize=16)\n",
        "# Add percentage and count values inside plot\n",
        "thresh = cm_norm_val.max() / 2.\n",
        "for i in range(cm_norm_val.shape[0]):\n",
        "    for j in range(cm_norm_val.shape[1]):\n",
        "        ax.text(j, i, '''{}\\n({:.2f}%)'''.format(cm_val[i,j], cm_norm_val[i, j]*100),\n",
        "                ha=\"center\", va=\"center\",\n",
        "                color=\"white\" if cm_norm_val[i, j] > thresh else \"black\")\n",
        "# Show plot\n",
        "plt.show()"
      ],
      "metadata": {
        "colab": {
          "base_uri": "https://localhost:8080/",
          "height": 54
        },
        "id": "fTkjUJjxaS1h",
        "outputId": "ae274f20-9baa-4792-de9a-2ef81f48839d"
      },
      "execution_count": null,
      "outputs": [
        {
          "output_type": "display_data",
          "data": {
            "text/plain": [
              "<Figure size 640x480 with 1 Axes>"
            ],
            "image/png": "[encoded data removed]"
          },
          "metadata": {}
        }
      ]
    },
    {
      "cell_type": "markdown",
      "source": [
        "test set"
      ],
      "metadata": {
        "id": "yDzgx8fdaVw-"
      }
    },
    {
      "cell_type": "code",
      "source": [
        "y_pred_test = rand_clf.predict(X_test)\n",
        "# Confusion matrix\n",
        "cm_test_split2 = confusion_matrix(y_test, y_pred_test)\n",
        "print('Confusion Matrix')\n",
        "print('-'*16)\n",
        "print(cm_test_split2,'\\n')\n",
        "print('-'*16)"
      ],
      "metadata": {
        "colab": {
          "base_uri": "https://localhost:8080/"
        },
        "id": "gS-bTpHoaWKQ",
        "outputId": "5ade0022-0e36-48c0-9e48-a9e1c78de6d9"
      },
      "execution_count": null,
      "outputs": [
        {
          "output_type": "stream",
          "name": "stdout",
          "text": [
            "Confusion Matrix\n",
            "----------------\n",
            "[[45  1]\n",
            " [10 58]] \n",
            "\n",
            "----------------\n"
          ]
        }
      ]
    },
    {
      "cell_type": "code",
      "source": [
        "# Calculate score\n",
        "sen_test_split2 = sensitivity(cm_test_split2)\n",
        "spec_test_split2 = specificity(cm_test_split2)\n",
        "acc_test_split2 = accuracy(cm_test_split2)\n",
        "pre_test_split2 = precision(cm_test_split2)\n",
        "f1_test_split2 = f1(cm_test_split2)"
      ],
      "metadata": {
        "colab": {
          "base_uri": "https://localhost:8080/"
        },
        "id": "Mr4Kepc4aXls",
        "outputId": "6401e19c-bcc1-46c6-b758-ee226e45a5e6"
      },
      "execution_count": null,
      "outputs": [
        {
          "output_type": "stream",
          "name": "stdout",
          "text": [
            "Sensitivity: 85.29%\n",
            "Specificity: 97.83%\n",
            "Accuracy: 90.35%\n",
            "Precision: 98.31%\n",
            "Sensitivity: 85.29%\n",
            "Precision: 98.31%\n",
            "F1: 91.34%\n"
          ]
        }
      ]
    },
    {
      "cell_type": "code",
      "source": [
        "# plot confusion matrix\n",
        "class_names = ['benign','malignant']\n",
        "# Normalize confusion matrix to percentage\n",
        "cm_norm_test = cm_test_split2.astype('float') / cm_test_split2.sum(axis=1)[:, np.newaxis]\n",
        "# Create plot\n",
        "fig, ax = plt.subplots()\n",
        "im = ax.imshow(cm_norm_test, interpolation='nearest', cmap=\"rocket_r\")\n",
        "ax.grid(False)\n",
        "# Add labels\n",
        "ax.set(xticks=np.arange(cm_norm_test.shape[1]),\n",
        "       yticks=np.arange(cm_norm_test.shape[0]),\n",
        "       xticklabels=class_names, yticklabels=class_names)\n",
        "ax.set_title(\"Test set\", fontsize=16)\n",
        "ax.set_ylabel('Actual', fontsize=16)\n",
        "ax.set_xlabel('Predicted', fontsize=16)\n",
        "# Add percentage and count values inside plot\n",
        "thresh = cm_norm_test.max() / 2.\n",
        "for i in range(cm_norm_test.shape[0]):\n",
        "    for j in range(cm_norm_test.shape[1]):\n",
        "        ax.text(j, i, '''{}\\n({:.2f}%)'''.format(cm_test_split2[i,j], cm_norm_test[i, j]*100),\n",
        "                ha=\"center\", va=\"center\",\n",
        "                color=\"white\" if cm_norm_test[i, j] > thresh else \"black\")\n",
        "# Show plot\n",
        "plt.show()"
      ],
      "metadata": {
        "colab": {
          "base_uri": "https://localhost:8080/",
          "height": 54
        },
        "id": "4VyjfQrUagYo",
        "outputId": "7b4abd99-09f8-4316-8dcc-ec3ab525fd58"
      },
      "execution_count": null,
      "outputs": [
        {
          "output_type": "display_data",
          "data": {
            "text/plain": [
              "<Figure size 640x480 with 1 Axes>"
            ],
            "image/png": "[encoded data removed]"
          },
          "metadata": {}
        }
      ]
    },
    {
      "cell_type": "markdown",
      "source": [
        "plot ROC curve"
      ],
      "metadata": {
        "id": "Vf0Nez-JajDd"
      }
    },
    {
      "cell_type": "code",
      "source": [
        "fpr1, tpr1, thr1 = roc_curve(y_val, y_pred_val)\n",
        "auc_val = roc_auc_score(y_val, y_pred_val)\n",
        "fpr2, tpr2, thr2 = roc_curve(y_test, y_pred_test)\n",
        "auc_test_split2 = roc_auc_score(y_test, y_pred_test)\n",
        "\n",
        "print(\"---------------------------------------\")\n",
        "print(\"AUC validate: %.4f\" % auc_val)\n",
        "print(\"AUC test: %.4f\" % auc_test_split2)"
      ],
      "metadata": {
        "colab": {
          "base_uri": "https://localhost:8080/"
        },
        "id": "mua28avBajho",
        "outputId": "d53a1d11-ff58-4efd-d088-ef9c7a9d86dc"
      },
      "execution_count": null,
      "outputs": [
        {
          "output_type": "stream",
          "name": "stdout",
          "text": [
            "---------------------------------------\n",
            "AUC validate: 0.9585\n",
            "AUC test: 0.9156\n"
          ]
        }
      ]
    },
    {
      "cell_type": "code",
      "source": [
        "# plt.plot(fpr,tpr,label=\"data 1, auc=\"+str(auc),color='red')\n",
        "plt.plot(fpr1,tpr1,label=\"ROC valid, auc=\"+str(\"%.4f\" % auc_val))\n",
        "plt.plot(fpr2,tpr2,label=\"ROC test, auc=\"+str(\"%.4f\" % auc_test_split2))\n",
        "plt.plot([0, 1], [0, 1], linestyle=\"--\", lw=2, color=\"r\", label=\"Chance\", alpha=0.8)\n",
        "plt.legend(loc=4)\n",
        "plt.show()"
      ],
      "metadata": {
        "colab": {
          "base_uri": "https://localhost:8080/",
          "height": 54
        },
        "id": "3iRjXo1_anwe",
        "outputId": "58a3c155-dcd7-4dac-a215-7d55d6fc8a29"
      },
      "execution_count": null,
      "outputs": [
        {
          "output_type": "display_data",
          "data": {
            "text/plain": [
              "<Figure size 640x480 with 1 Axes>"
            ],
            "image/png": "[encoded data removed]"
          },
          "metadata": {}
        }
      ]
    },
    {
      "cell_type": "markdown",
      "source": [
        "## split3"
      ],
      "metadata": {
        "id": "xjj72no2bdYN"
      }
    },
    {
      "cell_type": "markdown",
      "source": [
        "Training set"
      ],
      "metadata": {
        "id": "PT9thF6lbmWF"
      }
    },
    {
      "cell_type": "code",
      "source": [
        "train_data = pd.read_csv(\"oversampled_train_split3.csv\")\n",
        "train_data.shape"
      ],
      "metadata": {
        "colab": {
          "base_uri": "https://localhost:8080/"
        },
        "id": "5ozKS-13bo_r",
        "outputId": "34d80c96-d7d4-4958-93ed-fe53bb32e91f"
      },
      "execution_count": null,
      "outputs": [
        {
          "output_type": "execute_result",
          "data": {
            "text/plain": [
              "(490, 32)"
            ]
          },
          "metadata": {},
          "execution_count": 65
        }
      ]
    },
    {
      "cell_type": "code",
      "source": [
        "x_train = train_data[train_data.columns[2:]]\n",
        "x_train.shape"
      ],
      "metadata": {
        "colab": {
          "base_uri": "https://localhost:8080/"
        },
        "id": "IONA4QfFbpS_",
        "outputId": "a5e621b5-56b3-46ce-b5e3-ff23e60fbea7"
      },
      "execution_count": null,
      "outputs": [
        {
          "output_type": "execute_result",
          "data": {
            "text/plain": [
              "(490, 30)"
            ]
          },
          "metadata": {},
          "execution_count": 66
        }
      ]
    },
    {
      "cell_type": "code",
      "source": [
        "y_train = train_data[train_data.columns[1]]\n",
        "#y_train.shape\n",
        "le = LabelEncoder()\n",
        "y_train = np.array(le.fit_transform(y_train))\n",
        "print(le.classes_)"
      ],
      "metadata": {
        "colab": {
          "base_uri": "https://localhost:8080/"
        },
        "id": "mfSvNACObpa-",
        "outputId": "5ca6bd5c-d08e-42a1-aec1-6f0137cc4985"
      },
      "execution_count": null,
      "outputs": [
        {
          "output_type": "stream",
          "name": "stdout",
          "text": [
            "['B' 'M']\n"
          ]
        }
      ]
    },
    {
      "cell_type": "markdown",
      "source": [
        "Testing set"
      ],
      "metadata": {
        "id": "LMMNurHfbvVt"
      }
    },
    {
      "cell_type": "code",
      "source": [
        "test_data = pd.read_csv(\"test.csv\")\n",
        "test_data.shape"
      ],
      "metadata": {
        "colab": {
          "base_uri": "https://localhost:8080/"
        },
        "id": "fJZJC5Nhbv2N",
        "outputId": "4dd81061-0803-44de-ae8e-2de5400bbb06"
      },
      "execution_count": null,
      "outputs": [
        {
          "output_type": "execute_result",
          "data": {
            "text/plain": [
              "(114, 33)"
            ]
          },
          "metadata": {},
          "execution_count": 68
        }
      ]
    },
    {
      "cell_type": "code",
      "source": [
        "x_test = test_data[test_data.columns[3:]]\n",
        "x_test.shape"
      ],
      "metadata": {
        "colab": {
          "base_uri": "https://localhost:8080/"
        },
        "id": "xQeryCMlbwCs",
        "outputId": "82c386e9-5ff8-4da7-e710-25413d971903"
      },
      "execution_count": null,
      "outputs": [
        {
          "output_type": "execute_result",
          "data": {
            "text/plain": [
              "(114, 30)"
            ]
          },
          "metadata": {},
          "execution_count": 69
        }
      ]
    },
    {
      "cell_type": "code",
      "source": [
        "y_test = test_data[test_data.columns[2]]\n",
        "#y_test.shape\n",
        "le = LabelEncoder()\n",
        "y_test = np.array(le.fit_transform(y_test))\n",
        "print(le.classes_)"
      ],
      "metadata": {
        "colab": {
          "base_uri": "https://localhost:8080/"
        },
        "id": "MnKuOh8FbwLC",
        "outputId": "d2edb7b4-933b-4573-d635-c1e300374c2a"
      },
      "execution_count": null,
      "outputs": [
        {
          "output_type": "stream",
          "name": "stdout",
          "text": [
            "['B' 'M']\n"
          ]
        }
      ]
    },
    {
      "cell_type": "markdown",
      "source": [
        "Validation set"
      ],
      "metadata": {
        "id": "0cqNFrl-b3RP"
      }
    },
    {
      "cell_type": "code",
      "source": [
        "val_data = pd.read_csv(\"val_split3.csv\")\n",
        "val_data.shape"
      ],
      "metadata": {
        "colab": {
          "base_uri": "https://localhost:8080/"
        },
        "id": "h8cbPCBnb3t8",
        "outputId": "fd7af783-41ea-4644-b2b1-45968b3f01f0"
      },
      "execution_count": null,
      "outputs": [
        {
          "output_type": "execute_result",
          "data": {
            "text/plain": [
              "(91, 32)"
            ]
          },
          "metadata": {},
          "execution_count": 71
        }
      ]
    },
    {
      "cell_type": "code",
      "source": [
        "x_val = val_data[val_data.columns[2:]]\n",
        "x_val.shape"
      ],
      "metadata": {
        "colab": {
          "base_uri": "https://localhost:8080/"
        },
        "id": "E5ofbrdlb3xf",
        "outputId": "5bece790-b173-4914-be69-367d78324a06"
      },
      "execution_count": null,
      "outputs": [
        {
          "output_type": "execute_result",
          "data": {
            "text/plain": [
              "(91, 30)"
            ]
          },
          "metadata": {},
          "execution_count": 72
        }
      ]
    },
    {
      "cell_type": "code",
      "source": [
        "y_val = val_data[val_data.columns[1]]\n",
        "#y_val.shape\n",
        "le = LabelEncoder()\n",
        "y_val = np.array(le.fit_transform(y_val))\n",
        "print(le.classes_)"
      ],
      "metadata": {
        "colab": {
          "base_uri": "https://localhost:8080/"
        },
        "id": "8GWq3eVMb32u",
        "outputId": "11d860d9-3b69-43b5-a4f9-7dee1d4d954f"
      },
      "execution_count": null,
      "outputs": [
        {
          "output_type": "stream",
          "name": "stdout",
          "text": [
            "['B' 'M']\n"
          ]
        }
      ]
    },
    {
      "cell_type": "markdown",
      "source": [
        "step train- split3"
      ],
      "metadata": {
        "id": "Xpqp0dzQb8D_"
      }
    },
    {
      "cell_type": "code",
      "source": [
        "x_train = x_train.to_numpy()\n",
        "x_test = x_test.to_numpy()\n",
        "x_val = x_val.to_numpy()  # เพิ่ม"
      ],
      "metadata": {
        "id": "GnsEO9n7cACZ"
      },
      "execution_count": null,
      "outputs": []
    },
    {
      "cell_type": "code",
      "source": [
        "from sklearn.model_selection import train_test_split\n",
        "\n",
        "print(\"Shape of training set:\", x_train.shape)\n",
        "print(\"Shape of test set:\", x_test.shape)"
      ],
      "metadata": {
        "colab": {
          "base_uri": "https://localhost:8080/"
        },
        "id": "b8ra2SOlcCCB",
        "outputId": "ad7c17be-ec0e-42f3-8e1c-510d2840986b"
      },
      "execution_count": null,
      "outputs": [
        {
          "output_type": "stream",
          "name": "stdout",
          "text": [
            "Shape of training set: (490, 30)\n",
            "Shape of test set: (114, 30)\n"
          ]
        }
      ]
    },
    {
      "cell_type": "code",
      "source": [
        "from sklearn.preprocessing import StandardScaler\n",
        "\n",
        "ss = StandardScaler()\n",
        "X_train = ss.fit_transform(x_train)\n",
        "X_test = ss.fit_transform(x_test)\n",
        "X_val = ss.fit_transform(x_val)   # เพิ่ม"
      ],
      "metadata": {
        "id": "54SqLUZOcDv3"
      },
      "execution_count": null,
      "outputs": []
    },
    {
      "cell_type": "markdown",
      "source": [
        "param"
      ],
      "metadata": {
        "id": "AVvDvlqBe3fw"
      }
    },
    {
      "cell_type": "code",
      "source": [
        "# instantiate classifier ,ยกตัวอย่างclassifier \n",
        "#rf_classifier = RandomForestClassifier(random_state=42, n_estimators=10)"
      ],
      "metadata": {
        "id": "3p18Rjfae65Y"
      },
      "execution_count": null,
      "outputs": []
    },
    {
      "cell_type": "code",
      "source": [
        "# give to GridSearchCV\n",
        "#param_dist = {'max_depth': [2, 3, 4],\n",
        "#             'bootstrap': [True, False],\n",
        "#              'max_features': ['auto', 'sqrt', 'log2', None],\n",
        "#              'criterion': ['gini', 'entropy']}\n",
        "\n",
        "# set up the GridSearch\n",
        "#cv_rf = GridSearchCV(rf_classifier, cv = 5,param_grid=param_dist,n_jobs = 3)\n",
        "\n",
        "# fit the GridSearch\n",
        "#cv_rf.fit(X_train, y_train)\n",
        "#cv_rf.fit(X_val, y_val) #ใช้อันนี้\n",
        "#print('Best Parameters using grid search: \\n', cv_rf.best_params_)\n",
        "\n",
        "#print('Best criterion parameter:', cv_rf.best_params_['criterion'])\n",
        "#print('Best max_depth parameter:', cv_rf.best_params_['max_depth'])\n",
        "#print('Best bootstrap parameter:', cv_rf.best_params_['bootstrap'])\n",
        "#print('Best max_features parameter:', cv_rf.best_params_['max_features'])\n",
        "#print('Best score:', cv_rf.best_score_)"
      ],
      "metadata": {
        "id": "Yycl5b9dfAZP"
      },
      "execution_count": null,
      "outputs": []
    },
    {
      "cell_type": "markdown",
      "source": [
        "Best Parameters using grid search: \n",
        " {'bootstrap': True, 'criterion': 'gini', 'max_depth': 2, 'max_features': 'log2'}\n",
        "Best criterion parameter: gini\n",
        "Best max_depth parameter: 2\n",
        "Best bootstrap parameter: True\n",
        "Best max_features parameter: log2\n",
        "\n",
        "**Best score: 0.967251461988304**"
      ],
      "metadata": {
        "id": "v8fZNGLRfGC_"
      }
    },
    {
      "cell_type": "code",
      "source": [
        "from sklearn.ensemble import RandomForestClassifier\n",
        "\n",
        "rand_clf = RandomForestClassifier(criterion = 'gini', max_depth = 2, max_features = 'auto', min_samples_leaf = 2, min_samples_split = 3, n_estimators = 130)\n",
        "rand_clf.fit(X_train, y_train) # map"
      ],
      "metadata": {
        "colab": {
          "base_uri": "https://localhost:8080/",
          "height": 145
        },
        "id": "2Of4UO27fGN3",
        "outputId": "b596efb7-202f-48bb-f798-af871bd3a2d5"
      },
      "execution_count": null,
      "outputs": [
        {
          "output_type": "stream",
          "name": "stderr",
          "text": [
            "/usr/local/lib/python3.9/dist-packages/sklearn/ensemble/_forest.py:424: FutureWarning: `max_features='auto'` has been deprecated in 1.1 and will be removed in 1.3. To keep the past behaviour, explicitly set `max_features='sqrt'` or remove this parameter as it is also the default value for RandomForestClassifiers and ExtraTreesClassifiers.\n",
            "  warn(\n"
          ]
        },
        {
          "output_type": "execute_result",
          "data": {
            "text/plain": [
              "RandomForestClassifier(max_depth=2, max_features='auto', min_samples_leaf=2,\n",
              "                       min_samples_split=3, n_estimators=130)"
            ],
            "text/html": [
              "<style>#sk-container-id-3 {color: black;background-color: white;}#sk-container-id-3 pre{padding: 0;}#sk-container-id-3 div.sk-toggleable {background-color: white;}#sk-container-id-3 label.sk-toggleable__label {cursor: pointer;display: block;width: 100%;margin-bottom: 0;padding: 0.3em;box-sizing: border-box;text-align: center;}#sk-container-id-3 label.sk-toggleable__label-arrow:before {content: \"▸\";float: left;margin-right: 0.25em;color: #696969;}#sk-container-id-3 label.sk-toggleable__label-arrow:hover:before {color: black;}#sk-container-id-3 div.sk-estimator:hover label.sk-toggleable__label-arrow:before {color: black;}#sk-container-id-3 div.sk-toggleable__content {max-height: 0;max-width: 0;overflow: hidden;text-align: left;background-color: #f0f8ff;}#sk-container-id-3 div.sk-toggleable__content pre {margin: 0.2em;color: black;border-radius: 0.25em;background-color: #f0f8ff;}#sk-container-id-3 input.sk-toggleable__control:checked~div.sk-toggleable__content {max-height: 200px;max-width: 100%;overflow: auto;}#sk-container-id-3 input.sk-toggleable__control:checked~label.sk-toggleable__label-arrow:before {content: \"▾\";}#sk-container-id-3 div.sk-estimator input.sk-toggleable__control:checked~label.sk-toggleable__label {background-color: #d4ebff;}#sk-container-id-3 div.sk-label input.sk-toggleable__control:checked~label.sk-toggleable__label {background-color: #d4ebff;}#sk-container-id-3 input.sk-hidden--visually {border: 0;clip: rect(1px 1px 1px 1px);clip: rect(1px, 1px, 1px, 1px);height: 1px;margin: -1px;overflow: hidden;padding: 0;position: absolute;width: 1px;}#sk-container-id-3 div.sk-estimator {font-family: monospace;background-color: #f0f8ff;border: 1px dotted black;border-radius: 0.25em;box-sizing: border-box;margin-bottom: 0.5em;}#sk-container-id-3 div.sk-estimator:hover {background-color: #d4ebff;}#sk-container-id-3 div.sk-parallel-item::after {content: \"\";width: 100%;border-bottom: 1px solid gray;flex-grow: 1;}#sk-container-id-3 div.sk-label:hover label.sk-toggleable__label {background-color: #d4ebff;}#sk-container-id-3 div.sk-serial::before {content: \"\";position: absolute;border-left: 1px solid gray;box-sizing: border-box;top: 0;bottom: 0;left: 50%;z-index: 0;}#sk-container-id-3 div.sk-serial {display: flex;flex-direction: column;align-items: center;background-color: white;padding-right: 0.2em;padding-left: 0.2em;position: relative;}#sk-container-id-3 div.sk-item {position: relative;z-index: 1;}#sk-container-id-3 div.sk-parallel {display: flex;align-items: stretch;justify-content: center;background-color: white;position: relative;}#sk-container-id-3 div.sk-item::before, #sk-container-id-3 div.sk-parallel-item::before {content: \"\";position: absolute;border-left: 1px solid gray;box-sizing: border-box;top: 0;bottom: 0;left: 50%;z-index: -1;}#sk-container-id-3 div.sk-parallel-item {display: flex;flex-direction: column;z-index: 1;position: relative;background-color: white;}#sk-container-id-3 div.sk-parallel-item:first-child::after {align-self: flex-end;width: 50%;}#sk-container-id-3 div.sk-parallel-item:last-child::after {align-self: flex-start;width: 50%;}#sk-container-id-3 div.sk-parallel-item:only-child::after {width: 0;}#sk-container-id-3 div.sk-dashed-wrapped {border: 1px dashed gray;margin: 0 0.4em 0.5em 0.4em;box-sizing: border-box;padding-bottom: 0.4em;background-color: white;}#sk-container-id-3 div.sk-label label {font-family: monospace;font-weight: bold;display: inline-block;line-height: 1.2em;}#sk-container-id-3 div.sk-label-container {text-align: center;}#sk-container-id-3 div.sk-container {/* jupyter's `normalize.less` sets `[hidden] { display: none; }` but bootstrap.min.css set `[hidden] { display: none !important; }` so we also need the `!important` here to be able to override the default hidden behavior on the sphinx rendered scikit-learn.org. See: https://github.com/scikit-learn/scikit-learn/issues/21755 */display: inline-block !important;position: relative;}#sk-container-id-3 div.sk-text-repr-fallback {display: none;}</style><div id=\"sk-container-id-3\" class=\"sk-top-container\"><div class=\"sk-text-repr-fallback\"><pre>RandomForestClassifier(max_depth=2, max_features=&#x27;auto&#x27;, min_samples_leaf=2,\n",
              "                       min_samples_split=3, n_estimators=130)</pre><b>In a Jupyter environment, please rerun this cell to show the HTML representation or trust the notebook. <br />On GitHub, the HTML representation is unable to render, please try loading this page with nbviewer.org.</b></div><div class=\"sk-container\" hidden><div class=\"sk-item\"><div class=\"sk-estimator sk-toggleable\"><input class=\"sk-toggleable__control sk-hidden--visually\" id=\"sk-estimator-id-3\" type=\"checkbox\" checked><label for=\"sk-estimator-id-3\" class=\"sk-toggleable__label sk-toggleable__label-arrow\">RandomForestClassifier</label><div class=\"sk-toggleable__content\"><pre>RandomForestClassifier(max_depth=2, max_features=&#x27;auto&#x27;, min_samples_leaf=2,\n",
              "                       min_samples_split=3, n_estimators=130)</pre></div></div></div></div></div>"
            ]
          },
          "metadata": {},
          "execution_count": 79
        }
      ]
    },
    {
      "cell_type": "code",
      "source": [
        "y_pred = rand_clf.predict(X_test)"
      ],
      "metadata": {
        "id": "lkOXiZddfJfx"
      },
      "execution_count": null,
      "outputs": []
    },
    {
      "cell_type": "code",
      "source": [
        "y_pred"
      ],
      "metadata": {
        "colab": {
          "base_uri": "https://localhost:8080/"
        },
        "id": "g9STmmrBfRmR",
        "outputId": "407e0060-9769-4ca0-b597-039527fe115e"
      },
      "execution_count": null,
      "outputs": [
        {
          "output_type": "execute_result",
          "data": {
            "text/plain": [
              "array([1, 1, 1, 1, 1, 1, 1, 1, 1, 1, 1, 1, 1, 1, 1, 1, 1, 1, 1, 0, 0, 0,\n",
              "       1, 1, 1, 1, 1, 1, 1, 1, 1, 1, 1, 1, 1, 1, 1, 0, 0, 0, 0, 0, 1, 1,\n",
              "       0, 1, 0, 1, 0, 0, 0, 0, 0, 1, 1, 0, 1, 1, 0, 0, 0, 0, 1, 0, 1, 1,\n",
              "       0, 0, 0, 0, 1, 0, 1, 0, 0, 1, 0, 1, 1, 0, 0, 0, 1, 1, 0, 1, 0, 1,\n",
              "       0, 1, 0, 1, 0, 0, 1, 1, 0, 0, 0, 0, 0, 0, 0, 0, 0, 1, 0, 0, 1, 0,\n",
              "       0, 0, 1, 0])"
            ]
          },
          "metadata": {},
          "execution_count": 81
        }
      ]
    },
    {
      "cell_type": "code",
      "source": [
        "# accuracy score\n",
        "\n",
        "print(accuracy_score(y_train, rand_clf.predict(X_train)))\n",
        "\n",
        "ran_clf_acc = accuracy_score(y_test, y_pred)\n",
        "print(ran_clf_acc)"
      ],
      "metadata": {
        "colab": {
          "base_uri": "https://localhost:8080/"
        },
        "id": "FbM7p2IGfXfC",
        "outputId": "f8b41d59-8132-42b9-8941-142f8ebbc49f"
      },
      "execution_count": null,
      "outputs": [
        {
          "output_type": "stream",
          "name": "stdout",
          "text": [
            "0.9775510204081632\n",
            "0.9035087719298246\n"
          ]
        }
      ]
    },
    {
      "cell_type": "code",
      "source": [
        "# confusion matrix\n",
        "\n",
        "print(confusion_matrix(y_test, y_pred))\n"
      ],
      "metadata": {
        "colab": {
          "base_uri": "https://localhost:8080/"
        },
        "id": "l2fJm7Wpfa_l",
        "outputId": "a3708eef-5902-413b-eeee-214884ff765c"
      },
      "execution_count": null,
      "outputs": [
        {
          "output_type": "stream",
          "name": "stdout",
          "text": [
            "[[44  2]\n",
            " [ 9 59]]\n"
          ]
        }
      ]
    },
    {
      "cell_type": "code",
      "source": [
        "# classification report\n",
        "\n",
        "print(classification_report(y_test, y_pred))"
      ],
      "metadata": {
        "colab": {
          "base_uri": "https://localhost:8080/"
        },
        "id": "TB37oIeRfeMO",
        "outputId": "1a1a3154-85b2-47c7-e3e1-b6de86d22bf1"
      },
      "execution_count": null,
      "outputs": [
        {
          "output_type": "stream",
          "name": "stdout",
          "text": [
            "              precision    recall  f1-score   support\n",
            "\n",
            "           0       0.83      0.96      0.89        46\n",
            "           1       0.97      0.87      0.91        68\n",
            "\n",
            "    accuracy                           0.90       114\n",
            "   macro avg       0.90      0.91      0.90       114\n",
            "weighted avg       0.91      0.90      0.90       114\n",
            "\n"
          ]
        }
      ]
    },
    {
      "cell_type": "markdown",
      "source": [
        "validate set"
      ],
      "metadata": {
        "id": "s5HUdpFlfhEE"
      }
    },
    {
      "cell_type": "code",
      "source": [
        "y_pred_val = rand_clf.predict(X_val)\n",
        "cm_val = confusion_matrix(y_val, y_pred_val)\n",
        "print('Confusion Matrix')\n",
        "print('-'*16)\n",
        "print(cm_val,'\\n')\n",
        "print('-'*16)\n"
      ],
      "metadata": {
        "colab": {
          "base_uri": "https://localhost:8080/"
        },
        "id": "KD-W5RAzfhYj",
        "outputId": "d7fddfc7-7a57-4739-a382-87eadce30899"
      },
      "execution_count": null,
      "outputs": [
        {
          "output_type": "stream",
          "name": "stdout",
          "text": [
            "Confusion Matrix\n",
            "----------------\n",
            "[[58  8]\n",
            " [ 1 24]] \n",
            "\n",
            "----------------\n"
          ]
        }
      ]
    },
    {
      "cell_type": "code",
      "source": [
        " # Calculate score\n",
        "sen_val = sensitivity(cm_val)\n",
        "spec_val = specificity(cm_val)\n",
        "acc_val = accuracy(cm_val)\n",
        "pre_val = precision(cm_val)\n",
        "f1_val = f1(cm_val)"
      ],
      "metadata": {
        "colab": {
          "base_uri": "https://localhost:8080/"
        },
        "id": "NWH08WFXfi_B",
        "outputId": "5ca454c3-e469-42cf-b380-89cfbe1fc03e"
      },
      "execution_count": null,
      "outputs": [
        {
          "output_type": "stream",
          "name": "stdout",
          "text": [
            "Sensitivity: 96.00%\n",
            "Specificity: 87.88%\n",
            "Accuracy: 90.11%\n",
            "Precision: 75.00%\n",
            "Sensitivity: 96.00%\n",
            "Precision: 75.00%\n",
            "F1: 84.21%\n"
          ]
        }
      ]
    },
    {
      "cell_type": "code",
      "source": [
        "class_names = ['benign','malignant']\n",
        "# Normalize confusion matrix to percentage\n",
        "cm_norm_val = cm_val.astype('float') / cm_val.sum(axis=1)[:, np.newaxis]\n",
        "# Create plot\n",
        "fig, ax = plt.subplots()\n",
        "im = ax.imshow(cm_norm_val, interpolation='nearest', cmap=\"rocket_r\")\n",
        "ax.grid(False)\n",
        "# Add labels\n",
        "ax.set(xticks=np.arange(cm_norm_val.shape[1]),\n",
        "       yticks=np.arange(cm_norm_val.shape[0]),\n",
        "       xticklabels=class_names, yticklabels=class_names)\n",
        "ax.set_title(\"Validate set\", fontsize=16)\n",
        "ax.set_ylabel('Actual', fontsize=16)\n",
        "ax.set_xlabel('Predicted', fontsize=16)\n",
        "# Add percentage and count values inside plot\n",
        "thresh = cm_norm_val.max() / 2.\n",
        "for i in range(cm_norm_val.shape[0]):\n",
        "    for j in range(cm_norm_val.shape[1]):\n",
        "        ax.text(j, i, '''{}\\n({:.2f}%)'''.format(cm_val[i,j], cm_norm_val[i, j]*100),\n",
        "                ha=\"center\", va=\"center\",\n",
        "                color=\"white\" if cm_norm_val[i, j] > thresh else \"black\")\n",
        "# Show plot\n",
        "plt.show()"
      ],
      "metadata": {
        "colab": {
          "base_uri": "https://localhost:8080/",
          "height": 54
        },
        "id": "bnK3hrjZfll7",
        "outputId": "cde30c75-a434-4101-8bf6-33811db912c7"
      },
      "execution_count": null,
      "outputs": [
        {
          "output_type": "display_data",
          "data": {
            "text/plain": [
              "<Figure size 640x480 with 1 Axes>"
            ],
            "image/png": "[encoded data removed]"
          },
          "metadata": {}
        }
      ]
    },
    {
      "cell_type": "markdown",
      "source": [
        "test set"
      ],
      "metadata": {
        "id": "RXPwiiJPfpzS"
      }
    },
    {
      "cell_type": "code",
      "source": [
        "y_pred_test = rand_clf.predict(X_test)\n",
        "# Confusion matrix\n",
        "cm_test_split3 = confusion_matrix(y_test, y_pred_test)\n",
        "print('Confusion Matrix')\n",
        "print('-'*16)\n",
        "print(cm_test_split3,'\\n')\n",
        "print('-'*16)"
      ],
      "metadata": {
        "colab": {
          "base_uri": "https://localhost:8080/"
        },
        "id": "3dF2XouSfqH0",
        "outputId": "7eaf74cc-4004-4df1-b897-c6e8d708137b"
      },
      "execution_count": null,
      "outputs": [
        {
          "output_type": "stream",
          "name": "stdout",
          "text": [
            "Confusion Matrix\n",
            "----------------\n",
            "[[44  2]\n",
            " [ 9 59]] \n",
            "\n",
            "----------------\n"
          ]
        }
      ]
    },
    {
      "cell_type": "code",
      "source": [
        "# Calculate score\n",
        "sen_test_split3 = sensitivity(cm_test_split3)\n",
        "spec_test_split3 = specificity(cm_test_split3)\n",
        "acc_test_split3 = accuracy(cm_test_split3)\n",
        "pre_test_split3 = precision(cm_test_split3)\n",
        "f1_test_split3 = f1(cm_test_split3)"
      ],
      "metadata": {
        "colab": {
          "base_uri": "https://localhost:8080/"
        },
        "id": "Sx3xLvKqftjC",
        "outputId": "a10ccf44-b023-4b86-efc7-b368328d205d"
      },
      "execution_count": null,
      "outputs": [
        {
          "output_type": "stream",
          "name": "stdout",
          "text": [
            "Sensitivity: 86.76%\n",
            "Specificity: 95.65%\n",
            "Accuracy: 90.35%\n",
            "Precision: 96.72%\n",
            "Sensitivity: 86.76%\n",
            "Precision: 96.72%\n",
            "F1: 91.47%\n"
          ]
        }
      ]
    },
    {
      "cell_type": "code",
      "source": [
        "# plot confusion matrix\n",
        "class_names = ['benign','malignant']\n",
        "# Normalize confusion matrix to percentage\n",
        "cm_norm_test = cm_test_split3.astype('float') / cm_test_split3.sum(axis=1)[:, np.newaxis]\n",
        "# Create plot\n",
        "fig, ax = plt.subplots()\n",
        "im = ax.imshow(cm_norm_test, interpolation='nearest', cmap=\"rocket_r\")\n",
        "ax.grid(False)\n",
        "# Add labels\n",
        "ax.set(xticks=np.arange(cm_norm_test.shape[1]),\n",
        "       yticks=np.arange(cm_norm_test.shape[0]),\n",
        "       xticklabels=class_names, yticklabels=class_names)\n",
        "ax.set_title(\"Test set\", fontsize=16)\n",
        "ax.set_ylabel('Actual', fontsize=16)\n",
        "ax.set_xlabel('Predicted', fontsize=16)\n",
        "# Add percentage and count values inside plot\n",
        "thresh = cm_norm_test.max() / 2.\n",
        "for i in range(cm_norm_test.shape[0]):\n",
        "    for j in range(cm_norm_test.shape[1]):\n",
        "        ax.text(j, i, '''{}\\n({:.2f}%)'''.format(cm_test_split3[i,j], cm_norm_test[i, j]*100),\n",
        "                ha=\"center\", va=\"center\",\n",
        "                color=\"white\" if cm_norm_test[i, j] > thresh else \"black\")\n",
        "# Show plot\n",
        "plt.show()"
      ],
      "metadata": {
        "colab": {
          "base_uri": "https://localhost:8080/",
          "height": 54
        },
        "id": "u30t_Vn_fz63",
        "outputId": "eb613517-4e6c-4a10-851e-3b92cf859f46"
      },
      "execution_count": null,
      "outputs": [
        {
          "output_type": "display_data",
          "data": {
            "text/plain": [
              "<Figure size 640x480 with 1 Axes>"
            ],
            "image/png": "[encoded data removed]"
          },
          "metadata": {}
        }
      ]
    },
    {
      "cell_type": "markdown",
      "source": [
        "plot ROC curve"
      ],
      "metadata": {
        "id": "cjaZAWhwf2gv"
      }
    },
    {
      "cell_type": "code",
      "source": [
        "fpr1, tpr1, thr1 = roc_curve(y_val, y_pred_val)\n",
        "auc_val = roc_auc_score(y_val, y_pred_val)\n",
        "fpr2, tpr2, thr2 = roc_curve(y_test, y_pred_test)\n",
        "auc_test_split3 = roc_auc_score(y_test, y_pred_test)\n",
        "\n",
        "print(\"---------------------------------------\")\n",
        "print(\"AUC validate: %.4f\" % auc_val)\n",
        "print(\"AUC test: %.4f\" % auc_test_split3)"
      ],
      "metadata": {
        "colab": {
          "base_uri": "https://localhost:8080/"
        },
        "id": "jDx_66Ktf28I",
        "outputId": "6721b0f4-59f5-420a-db72-896d52082944"
      },
      "execution_count": null,
      "outputs": [
        {
          "output_type": "stream",
          "name": "stdout",
          "text": [
            "---------------------------------------\n",
            "AUC validate: 0.9194\n",
            "AUC test: 0.9121\n"
          ]
        }
      ]
    },
    {
      "cell_type": "code",
      "source": [
        "# plt.plot(fpr,tpr,label=\"data 1, auc=\"+str(auc),color='red')\n",
        "plt.plot(fpr1,tpr1,label=\"ROC valid, auc=\"+str(\"%.4f\" % auc_val))\n",
        "plt.plot(fpr2,tpr2,label=\"ROC test, auc=\"+str(\"%.4f\" % auc_test_split3))\n",
        "plt.plot([0, 1], [0, 1], linestyle=\"--\", lw=2, color=\"r\", label=\"Chance\", alpha=0.8)\n",
        "plt.legend(loc=4)\n",
        "plt.show()"
      ],
      "metadata": {
        "colab": {
          "base_uri": "https://localhost:8080/",
          "height": 54
        },
        "id": "snVg4axyf6cU",
        "outputId": "548b3894-2979-445a-f804-ee4723cb45ab"
      },
      "execution_count": null,
      "outputs": [
        {
          "output_type": "display_data",
          "data": {
            "text/plain": [
              "<Figure size 640x480 with 1 Axes>"
            ],
            "image/png": "[encoded data removed]"
          },
          "metadata": {}
        }
      ]
    },
    {
      "cell_type": "markdown",
      "source": [
        "## split4"
      ],
      "metadata": {
        "id": "fEXiXB1vgEM0"
      }
    },
    {
      "cell_type": "markdown",
      "source": [
        "Training set"
      ],
      "metadata": {
        "id": "8P34uplCgIwL"
      }
    },
    {
      "cell_type": "code",
      "source": [
        "train_data = pd.read_csv(\"oversampled_train_split4.csv\")\n",
        "train_data.shape"
      ],
      "metadata": {
        "colab": {
          "base_uri": "https://localhost:8080/"
        },
        "id": "7oJL0OsfgJDv",
        "outputId": "d827d0d3-7d79-4709-8484-9ee851e49188"
      },
      "execution_count": null,
      "outputs": [
        {
          "output_type": "execute_result",
          "data": {
            "text/plain": [
              "(478, 32)"
            ]
          },
          "metadata": {},
          "execution_count": 93
        }
      ]
    },
    {
      "cell_type": "code",
      "source": [
        "x_train = train_data[train_data.columns[2:]]\n",
        "x_train.shape"
      ],
      "metadata": {
        "colab": {
          "base_uri": "https://localhost:8080/"
        },
        "id": "Oh_m66wPgJG4",
        "outputId": "e586fd1d-92ee-4ef4-de19-aef4bf6128da"
      },
      "execution_count": null,
      "outputs": [
        {
          "output_type": "execute_result",
          "data": {
            "text/plain": [
              "(478, 30)"
            ]
          },
          "metadata": {},
          "execution_count": 94
        }
      ]
    },
    {
      "cell_type": "code",
      "source": [
        "y_train = train_data[train_data.columns[1]]\n",
        "#y_train.shape\n",
        "le = LabelEncoder()\n",
        "y_train = np.array(le.fit_transform(y_train))\n",
        "print(le.classes_)"
      ],
      "metadata": {
        "colab": {
          "base_uri": "https://localhost:8080/"
        },
        "id": "R6Wj_RmBgJTn",
        "outputId": "ea7bc1d3-2c4f-46a2-d45b-b0f95e3d69bd"
      },
      "execution_count": null,
      "outputs": [
        {
          "output_type": "stream",
          "name": "stdout",
          "text": [
            "['B' 'M']\n"
          ]
        }
      ]
    },
    {
      "cell_type": "markdown",
      "source": [
        "Testing set\n",
        "\n"
      ],
      "metadata": {
        "id": "AtL4dgPegJki"
      }
    },
    {
      "cell_type": "code",
      "source": [
        "test_data = pd.read_csv(\"test.csv\")\n",
        "test_data.shape"
      ],
      "metadata": {
        "colab": {
          "base_uri": "https://localhost:8080/"
        },
        "id": "jKM59UDggJt6",
        "outputId": "1a17c042-8c9b-41cf-acca-19f216d2b8a6"
      },
      "execution_count": null,
      "outputs": [
        {
          "output_type": "execute_result",
          "data": {
            "text/plain": [
              "(114, 33)"
            ]
          },
          "metadata": {},
          "execution_count": 96
        }
      ]
    },
    {
      "cell_type": "code",
      "source": [
        "x_test = test_data[test_data.columns[3:]]\n",
        "x_test.shape"
      ],
      "metadata": {
        "colab": {
          "base_uri": "https://localhost:8080/"
        },
        "id": "ijdjHVUPgJxE",
        "outputId": "22d52616-c448-458d-ab68-232c9c8fbc1b"
      },
      "execution_count": null,
      "outputs": [
        {
          "output_type": "execute_result",
          "data": {
            "text/plain": [
              "(114, 30)"
            ]
          },
          "metadata": {},
          "execution_count": 97
        }
      ]
    },
    {
      "cell_type": "code",
      "source": [
        "y_test = test_data[test_data.columns[2]]\n",
        "#y_test.shape\n",
        "le = LabelEncoder()\n",
        "y_test = np.array(le.fit_transform(y_test))\n",
        "print(le.classes_)"
      ],
      "metadata": {
        "colab": {
          "base_uri": "https://localhost:8080/"
        },
        "id": "IVeTdE5pgJ0d",
        "outputId": "8d9232f0-00bf-4162-bf80-78f43a2e36f1"
      },
      "execution_count": null,
      "outputs": [
        {
          "output_type": "stream",
          "name": "stdout",
          "text": [
            "['B' 'M']\n"
          ]
        }
      ]
    },
    {
      "cell_type": "markdown",
      "source": [
        "Validation set"
      ],
      "metadata": {
        "id": "d5TkLyCSgKCQ"
      }
    },
    {
      "cell_type": "code",
      "source": [
        "val_data = pd.read_csv(\"val_split4.csv\")\n",
        "val_data.shape"
      ],
      "metadata": {
        "colab": {
          "base_uri": "https://localhost:8080/"
        },
        "id": "Mmm2K-bzgKMr",
        "outputId": "5a35d30f-b4c2-4788-b71b-7750ff17d884"
      },
      "execution_count": null,
      "outputs": [
        {
          "output_type": "execute_result",
          "data": {
            "text/plain": [
              "(91, 32)"
            ]
          },
          "metadata": {},
          "execution_count": 99
        }
      ]
    },
    {
      "cell_type": "code",
      "source": [
        "x_val = val_data[val_data.columns[2:]]\n",
        "x_val.shape"
      ],
      "metadata": {
        "colab": {
          "base_uri": "https://localhost:8080/"
        },
        "id": "8C5M90QRgKQn",
        "outputId": "58e0b9b0-6787-4800-85ac-4c1f736387f6"
      },
      "execution_count": null,
      "outputs": [
        {
          "output_type": "execute_result",
          "data": {
            "text/plain": [
              "(91, 30)"
            ]
          },
          "metadata": {},
          "execution_count": 100
        }
      ]
    },
    {
      "cell_type": "code",
      "source": [
        "y_val = val_data[val_data.columns[1]]\n",
        "#y_val.shape\n",
        "le = LabelEncoder()\n",
        "y_val = np.array(le.fit_transform(y_val))\n",
        "print(le.classes_)"
      ],
      "metadata": {
        "colab": {
          "base_uri": "https://localhost:8080/"
        },
        "id": "pkROrURfgKTg",
        "outputId": "a2553960-a67f-40d2-b0a9-c2a4882e01f7"
      },
      "execution_count": null,
      "outputs": [
        {
          "output_type": "stream",
          "name": "stdout",
          "text": [
            "['B' 'M']\n"
          ]
        }
      ]
    },
    {
      "cell_type": "markdown",
      "source": [
        "step train - split4"
      ],
      "metadata": {
        "id": "CdeiUT_wgm0i"
      }
    },
    {
      "cell_type": "code",
      "source": [
        "x_train = x_train.to_numpy()\n",
        "x_test = x_test.to_numpy()\n",
        "x_val = x_val.to_numpy()"
      ],
      "metadata": {
        "id": "sT394_XRgm-3"
      },
      "execution_count": null,
      "outputs": []
    },
    {
      "cell_type": "code",
      "source": [
        "from sklearn.model_selection import train_test_split\n",
        "\n",
        "print(\"Shape of training set:\", x_train.shape)\n",
        "print(\"Shape of test set:\", x_test.shape)"
      ],
      "metadata": {
        "colab": {
          "base_uri": "https://localhost:8080/"
        },
        "id": "VfcZL51CgqvS",
        "outputId": "04a6babf-a69f-4fea-936c-f7b9ae165027"
      },
      "execution_count": null,
      "outputs": [
        {
          "output_type": "stream",
          "name": "stdout",
          "text": [
            "Shape of training set: (478, 30)\n",
            "Shape of test set: (114, 30)\n"
          ]
        }
      ]
    },
    {
      "cell_type": "code",
      "source": [
        "from sklearn.preprocessing import StandardScaler\n",
        "\n",
        "ss = StandardScaler()\n",
        "X_train = ss.fit_transform(x_train)\n",
        "X_test = ss.fit_transform(x_test)\n",
        "X_val = ss.fit_transform(x_val)"
      ],
      "metadata": {
        "id": "gozlP2pygsfN"
      },
      "execution_count": null,
      "outputs": []
    },
    {
      "cell_type": "markdown",
      "source": [
        "param"
      ],
      "metadata": {
        "id": "Y2IG9VsKguZF"
      }
    },
    {
      "cell_type": "code",
      "source": [
        "# instantiate classifier ,ยกตัวอย่างclassifier \n",
        "#rf_classifier = RandomForestClassifier(random_state=42, n_estimators=10)"
      ],
      "metadata": {
        "id": "R39lSfGkgwQF"
      },
      "execution_count": null,
      "outputs": []
    },
    {
      "cell_type": "code",
      "source": [
        "# give to GridSearchCV\n",
        "#param_dist = {'max_depth': [2, 3, 4],\n",
        "#             'bootstrap': [True, False],\n",
        "#              'max_features': ['auto', 'sqrt', 'log2', None],\n",
        "#              'criterion': ['gini', 'entropy']}\n",
        "\n",
        "# set up the GridSearch\n",
        "#cv_rf = GridSearchCV(rf_classifier, cv = 5,param_grid=param_dist,n_jobs = 3)\n",
        "\n",
        "# fit the GridSearch\n",
        "#cv_rf.fit(X_train, y_train)\n",
        "#cv_rf.fit(X_val, y_val) #ใช้อันนี้\n",
        "#print('Best Parameters using grid search: \\n', cv_rf.best_params_)\n",
        "\n",
        "#print('Best criterion parameter:', cv_rf.best_params_['criterion'])\n",
        "#print('Best max_depth parameter:', cv_rf.best_params_['max_depth'])\n",
        "#print('Best bootstrap parameter:', cv_rf.best_params_['bootstrap'])\n",
        "#print('Best max_features parameter:', cv_rf.best_params_['max_features'])\n",
        "#print('Best score:', cv_rf.best_score_)"
      ],
      "metadata": {
        "id": "MKHue7F7g4cD"
      },
      "execution_count": null,
      "outputs": []
    },
    {
      "cell_type": "markdown",
      "source": [
        "Best Parameters using grid search: \n",
        " {'bootstrap': True, 'criterion': 'gini', 'max_depth': 2, 'max_features': 'auto'}\n",
        "Best criterion parameter: gini\n",
        "Best max_depth parameter: 2\n",
        "Best bootstrap parameter: True\n",
        "Best max_features parameter: auto\n",
        "\n",
        "**Best score: 0.9666666666666666**"
      ],
      "metadata": {
        "id": "ZQF0ImCbg4xp"
      }
    },
    {
      "cell_type": "code",
      "source": [
        "from sklearn.ensemble import RandomForestClassifier\n",
        "\n",
        "rand_clf = RandomForestClassifier(criterion = 'gini', max_depth = 2, max_features = 'auto', min_samples_leaf = 2, min_samples_split = 3, n_estimators = 130)\n",
        "rand_clf.fit(X_train, y_train) # map"
      ],
      "metadata": {
        "colab": {
          "base_uri": "https://localhost:8080/",
          "height": 145
        },
        "id": "hZQ0fLH3g49I",
        "outputId": "472f35f2-cef5-45d7-a20e-f1e090c9b479"
      },
      "execution_count": null,
      "outputs": [
        {
          "output_type": "stream",
          "name": "stderr",
          "text": [
            "/usr/local/lib/python3.9/dist-packages/sklearn/ensemble/_forest.py:424: FutureWarning: `max_features='auto'` has been deprecated in 1.1 and will be removed in 1.3. To keep the past behaviour, explicitly set `max_features='sqrt'` or remove this parameter as it is also the default value for RandomForestClassifiers and ExtraTreesClassifiers.\n",
            "  warn(\n"
          ]
        },
        {
          "output_type": "execute_result",
          "data": {
            "text/plain": [
              "RandomForestClassifier(max_depth=2, max_features='auto', min_samples_leaf=2,\n",
              "                       min_samples_split=3, n_estimators=130)"
            ],
            "text/html": [
              "<style>#sk-container-id-4 {color: black;background-color: white;}#sk-container-id-4 pre{padding: 0;}#sk-container-id-4 div.sk-toggleable {background-color: white;}#sk-container-id-4 label.sk-toggleable__label {cursor: pointer;display: block;width: 100%;margin-bottom: 0;padding: 0.3em;box-sizing: border-box;text-align: center;}#sk-container-id-4 label.sk-toggleable__label-arrow:before {content: \"▸\";float: left;margin-right: 0.25em;color: #696969;}#sk-container-id-4 label.sk-toggleable__label-arrow:hover:before {color: black;}#sk-container-id-4 div.sk-estimator:hover label.sk-toggleable__label-arrow:before {color: black;}#sk-container-id-4 div.sk-toggleable__content {max-height: 0;max-width: 0;overflow: hidden;text-align: left;background-color: #f0f8ff;}#sk-container-id-4 div.sk-toggleable__content pre {margin: 0.2em;color: black;border-radius: 0.25em;background-color: #f0f8ff;}#sk-container-id-4 input.sk-toggleable__control:checked~div.sk-toggleable__content {max-height: 200px;max-width: 100%;overflow: auto;}#sk-container-id-4 input.sk-toggleable__control:checked~label.sk-toggleable__label-arrow:before {content: \"▾\";}#sk-container-id-4 div.sk-estimator input.sk-toggleable__control:checked~label.sk-toggleable__label {background-color: #d4ebff;}#sk-container-id-4 div.sk-label input.sk-toggleable__control:checked~label.sk-toggleable__label {background-color: #d4ebff;}#sk-container-id-4 input.sk-hidden--visually {border: 0;clip: rect(1px 1px 1px 1px);clip: rect(1px, 1px, 1px, 1px);height: 1px;margin: -1px;overflow: hidden;padding: 0;position: absolute;width: 1px;}#sk-container-id-4 div.sk-estimator {font-family: monospace;background-color: #f0f8ff;border: 1px dotted black;border-radius: 0.25em;box-sizing: border-box;margin-bottom: 0.5em;}#sk-container-id-4 div.sk-estimator:hover {background-color: #d4ebff;}#sk-container-id-4 div.sk-parallel-item::after {content: \"\";width: 100%;border-bottom: 1px solid gray;flex-grow: 1;}#sk-container-id-4 div.sk-label:hover label.sk-toggleable__label {background-color: #d4ebff;}#sk-container-id-4 div.sk-serial::before {content: \"\";position: absolute;border-left: 1px solid gray;box-sizing: border-box;top: 0;bottom: 0;left: 50%;z-index: 0;}#sk-container-id-4 div.sk-serial {display: flex;flex-direction: column;align-items: center;background-color: white;padding-right: 0.2em;padding-left: 0.2em;position: relative;}#sk-container-id-4 div.sk-item {position: relative;z-index: 1;}#sk-container-id-4 div.sk-parallel {display: flex;align-items: stretch;justify-content: center;background-color: white;position: relative;}#sk-container-id-4 div.sk-item::before, #sk-container-id-4 div.sk-parallel-item::before {content: \"\";position: absolute;border-left: 1px solid gray;box-sizing: border-box;top: 0;bottom: 0;left: 50%;z-index: -1;}#sk-container-id-4 div.sk-parallel-item {display: flex;flex-direction: column;z-index: 1;position: relative;background-color: white;}#sk-container-id-4 div.sk-parallel-item:first-child::after {align-self: flex-end;width: 50%;}#sk-container-id-4 div.sk-parallel-item:last-child::after {align-self: flex-start;width: 50%;}#sk-container-id-4 div.sk-parallel-item:only-child::after {width: 0;}#sk-container-id-4 div.sk-dashed-wrapped {border: 1px dashed gray;margin: 0 0.4em 0.5em 0.4em;box-sizing: border-box;padding-bottom: 0.4em;background-color: white;}#sk-container-id-4 div.sk-label label {font-family: monospace;font-weight: bold;display: inline-block;line-height: 1.2em;}#sk-container-id-4 div.sk-label-container {text-align: center;}#sk-container-id-4 div.sk-container {/* jupyter's `normalize.less` sets `[hidden] { display: none; }` but bootstrap.min.css set `[hidden] { display: none !important; }` so we also need the `!important` here to be able to override the default hidden behavior on the sphinx rendered scikit-learn.org. See: https://github.com/scikit-learn/scikit-learn/issues/21755 */display: inline-block !important;position: relative;}#sk-container-id-4 div.sk-text-repr-fallback {display: none;}</style><div id=\"sk-container-id-4\" class=\"sk-top-container\"><div class=\"sk-text-repr-fallback\"><pre>RandomForestClassifier(max_depth=2, max_features=&#x27;auto&#x27;, min_samples_leaf=2,\n",
              "                       min_samples_split=3, n_estimators=130)</pre><b>In a Jupyter environment, please rerun this cell to show the HTML representation or trust the notebook. <br />On GitHub, the HTML representation is unable to render, please try loading this page with nbviewer.org.</b></div><div class=\"sk-container\" hidden><div class=\"sk-item\"><div class=\"sk-estimator sk-toggleable\"><input class=\"sk-toggleable__control sk-hidden--visually\" id=\"sk-estimator-id-4\" type=\"checkbox\" checked><label for=\"sk-estimator-id-4\" class=\"sk-toggleable__label sk-toggleable__label-arrow\">RandomForestClassifier</label><div class=\"sk-toggleable__content\"><pre>RandomForestClassifier(max_depth=2, max_features=&#x27;auto&#x27;, min_samples_leaf=2,\n",
              "                       min_samples_split=3, n_estimators=130)</pre></div></div></div></div></div>"
            ]
          },
          "metadata": {},
          "execution_count": 107
        }
      ]
    },
    {
      "cell_type": "code",
      "source": [
        "y_pred = rand_clf.predict(X_test)"
      ],
      "metadata": {
        "id": "_4i3KhRYhMSW"
      },
      "execution_count": null,
      "outputs": []
    },
    {
      "cell_type": "code",
      "source": [
        "y_pred"
      ],
      "metadata": {
        "colab": {
          "base_uri": "https://localhost:8080/"
        },
        "id": "BLaCagt8hMif",
        "outputId": "5e8a95bc-c71a-4353-d540-d52cad93a1d5"
      },
      "execution_count": null,
      "outputs": [
        {
          "output_type": "execute_result",
          "data": {
            "text/plain": [
              "array([1, 1, 1, 1, 1, 1, 1, 1, 1, 1, 1, 1, 1, 1, 1, 1, 1, 1, 1, 0, 0, 0,\n",
              "       1, 1, 1, 1, 1, 1, 1, 1, 1, 1, 1, 1, 1, 1, 1, 0, 0, 0, 0, 0, 1, 1,\n",
              "       0, 1, 0, 1, 0, 0, 0, 0, 0, 1, 1, 0, 1, 1, 0, 0, 0, 0, 1, 0, 1, 1,\n",
              "       0, 0, 0, 0, 1, 0, 1, 0, 0, 1, 0, 1, 1, 0, 0, 0, 1, 1, 0, 1, 0, 1,\n",
              "       0, 1, 0, 1, 0, 0, 1, 1, 0, 0, 0, 0, 0, 0, 0, 0, 0, 1, 0, 0, 1, 0,\n",
              "       0, 0, 1, 0])"
            ]
          },
          "metadata": {},
          "execution_count": 109
        }
      ]
    },
    {
      "cell_type": "code",
      "source": [
        "# accuracy score\n",
        "\n",
        "print(accuracy_score(y_train, rand_clf.predict(X_train)))\n",
        "\n",
        "ran_clf_acc = accuracy_score(y_test, y_pred)\n",
        "print(ran_clf_acc)"
      ],
      "metadata": {
        "colab": {
          "base_uri": "https://localhost:8080/"
        },
        "id": "dfjguKd-hMlG",
        "outputId": "1444d798-abe2-403c-bca4-8cb1957c8fa8"
      },
      "execution_count": null,
      "outputs": [
        {
          "output_type": "stream",
          "name": "stdout",
          "text": [
            "0.9707112970711297\n",
            "0.9035087719298246\n"
          ]
        }
      ]
    },
    {
      "cell_type": "code",
      "source": [
        "# confusion matrix\n",
        "\n",
        "print(confusion_matrix(y_test, y_pred))"
      ],
      "metadata": {
        "colab": {
          "base_uri": "https://localhost:8080/"
        },
        "id": "Ve-e-VVVhMsH",
        "outputId": "7b78b1a4-9b1a-4e52-fca0-eb55674996cd"
      },
      "execution_count": null,
      "outputs": [
        {
          "output_type": "stream",
          "name": "stdout",
          "text": [
            "[[44  2]\n",
            " [ 9 59]]\n"
          ]
        }
      ]
    },
    {
      "cell_type": "code",
      "source": [
        "# classification report\n",
        "\n",
        "print(classification_report(y_test, y_pred))"
      ],
      "metadata": {
        "colab": {
          "base_uri": "https://localhost:8080/"
        },
        "id": "xHDqa48hhWG9",
        "outputId": "2558ce6a-24d2-4635-9491-a3dd6dc8f505"
      },
      "execution_count": null,
      "outputs": [
        {
          "output_type": "stream",
          "name": "stdout",
          "text": [
            "              precision    recall  f1-score   support\n",
            "\n",
            "           0       0.83      0.96      0.89        46\n",
            "           1       0.97      0.87      0.91        68\n",
            "\n",
            "    accuracy                           0.90       114\n",
            "   macro avg       0.90      0.91      0.90       114\n",
            "weighted avg       0.91      0.90      0.90       114\n",
            "\n"
          ]
        }
      ]
    },
    {
      "cell_type": "markdown",
      "source": [
        "validate set"
      ],
      "metadata": {
        "id": "BCvxatU-hX0Z"
      }
    },
    {
      "cell_type": "code",
      "source": [
        "y_pred_val = rand_clf.predict(X_val)\n",
        "cm_val = confusion_matrix(y_val, y_pred_val)\n",
        "print('Confusion Matrix')\n",
        "print('-'*16)\n",
        "print(cm_val,'\\n')\n",
        "print('-'*16)"
      ],
      "metadata": {
        "colab": {
          "base_uri": "https://localhost:8080/"
        },
        "id": "FvAdqpg_hauZ",
        "outputId": "25c89ab6-44be-43a7-e49a-e25253e21256"
      },
      "execution_count": null,
      "outputs": [
        {
          "output_type": "stream",
          "name": "stdout",
          "text": [
            "Confusion Matrix\n",
            "----------------\n",
            "[[54 18]\n",
            " [ 0 19]] \n",
            "\n",
            "----------------\n"
          ]
        }
      ]
    },
    {
      "cell_type": "code",
      "source": [
        "# Calculate score\n",
        "sen_val = sensitivity(cm_val)\n",
        "spec_val = specificity(cm_val)\n",
        "acc_val = accuracy(cm_val)\n",
        "pre_val = precision(cm_val)\n",
        "f1_val = f1(cm_val)"
      ],
      "metadata": {
        "colab": {
          "base_uri": "https://localhost:8080/"
        },
        "id": "cA_9acW6hcVw",
        "outputId": "80b7f0d3-0c0e-4b8f-d80b-aecc1dad570d"
      },
      "execution_count": null,
      "outputs": [
        {
          "output_type": "stream",
          "name": "stdout",
          "text": [
            "Sensitivity: 100.00%\n",
            "Specificity: 75.00%\n",
            "Accuracy: 80.22%\n",
            "Precision: 51.35%\n",
            "Sensitivity: 100.00%\n",
            "Precision: 51.35%\n",
            "F1: 67.86%\n"
          ]
        }
      ]
    },
    {
      "cell_type": "code",
      "source": [
        "class_names = ['benign','malignant']\n",
        "# Normalize confusion matrix to percentage\n",
        "cm_norm_val = cm_val.astype('float') / cm_val.sum(axis=1)[:, np.newaxis]\n",
        "# Create plot\n",
        "fig, ax = plt.subplots()\n",
        "im = ax.imshow(cm_norm_val, interpolation='nearest', cmap=\"rocket_r\")\n",
        "ax.grid(False)\n",
        "# Add labels\n",
        "ax.set(xticks=np.arange(cm_norm_val.shape[1]),\n",
        "       yticks=np.arange(cm_norm_val.shape[0]),\n",
        "       xticklabels=class_names, yticklabels=class_names)\n",
        "ax.set_title(\"Validate set\", fontsize=16)\n",
        "ax.set_ylabel('Actual', fontsize=16)\n",
        "ax.set_xlabel('Predicted', fontsize=16)\n",
        "# Add percentage and count values inside plot\n",
        "thresh = cm_norm_val.max() / 2.\n",
        "for i in range(cm_norm_val.shape[0]):\n",
        "    for j in range(cm_norm_val.shape[1]):\n",
        "        ax.text(j, i, '''{}\\n({:.2f}%)'''.format(cm_val[i,j], cm_norm_val[i, j]*100),\n",
        "                ha=\"center\", va=\"center\",\n",
        "                color=\"white\" if cm_norm_val[i, j] > thresh else \"black\")\n",
        "# Show plot\n",
        "plt.show()"
      ],
      "metadata": {
        "colab": {
          "base_uri": "https://localhost:8080/",
          "height": 54
        },
        "id": "KJ2N5wF5heTX",
        "outputId": "f19a8e35-dc1f-46e4-aacf-17f12678ea64"
      },
      "execution_count": null,
      "outputs": [
        {
          "output_type": "display_data",
          "data": {
            "text/plain": [
              "<Figure size 640x480 with 1 Axes>"
            ],
            "image/png": "[encoded data removed]"
          },
          "metadata": {}
        }
      ]
    },
    {
      "cell_type": "markdown",
      "source": [
        "test set"
      ],
      "metadata": {
        "id": "S7LAc_Oihf0M"
      }
    },
    {
      "cell_type": "code",
      "source": [
        "y_pred_test = rand_clf.predict(X_test)\n",
        "# Confusion matrix\n",
        "cm_test_split4 = confusion_matrix(y_test, y_pred_test)\n",
        "print('Confusion Matrix')\n",
        "print('-'*16)\n",
        "print(cm_test_split4,'\\n')\n",
        "print('-'*16)"
      ],
      "metadata": {
        "colab": {
          "base_uri": "https://localhost:8080/"
        },
        "id": "ZLKvKqVOhhV3",
        "outputId": "1271072d-74f1-456e-942a-85f4831d6ecb"
      },
      "execution_count": null,
      "outputs": [
        {
          "output_type": "stream",
          "name": "stdout",
          "text": [
            "Confusion Matrix\n",
            "----------------\n",
            "[[44  2]\n",
            " [ 9 59]] \n",
            "\n",
            "----------------\n"
          ]
        }
      ]
    },
    {
      "cell_type": "code",
      "source": [
        "# Calculate score\n",
        "sen_test_split4 = sensitivity(cm_test_split4)\n",
        "spec_test_split4 = specificity(cm_test_split4)\n",
        "acc_test_split4 = accuracy(cm_test_split4)\n",
        "pre_test_split4 = precision(cm_test_split4)\n",
        "f1_test_split4 = f1(cm_test_split4)"
      ],
      "metadata": {
        "colab": {
          "base_uri": "https://localhost:8080/"
        },
        "id": "Y3tX7dUghkR4",
        "outputId": "91ab20b7-509a-4f50-e75b-1dc77b9d9639"
      },
      "execution_count": null,
      "outputs": [
        {
          "output_type": "stream",
          "name": "stdout",
          "text": [
            "Sensitivity: 86.76%\n",
            "Specificity: 95.65%\n",
            "Accuracy: 90.35%\n",
            "Precision: 96.72%\n",
            "Sensitivity: 86.76%\n",
            "Precision: 96.72%\n",
            "F1: 91.47%\n"
          ]
        }
      ]
    },
    {
      "cell_type": "code",
      "source": [
        "# plot confusion matrix\n",
        "class_names = ['benign','malignant']\n",
        "# Normalize confusion matrix to percentage\n",
        "cm_norm_test = cm_test_split4.astype('float') / cm_test_split4.sum(axis=1)[:, np.newaxis]\n",
        "# Create plot\n",
        "fig, ax = plt.subplots()\n",
        "im = ax.imshow(cm_norm_test, interpolation='nearest', cmap=\"rocket_r\")\n",
        "ax.grid(False)\n",
        "# Add labels\n",
        "ax.set(xticks=np.arange(cm_norm_test.shape[1]),\n",
        "       yticks=np.arange(cm_norm_test.shape[0]),\n",
        "       xticklabels=class_names, yticklabels=class_names)\n",
        "ax.set_title(\"Test set\", fontsize=16)\n",
        "ax.set_ylabel('Actual', fontsize=16)\n",
        "ax.set_xlabel('Predicted', fontsize=16)\n",
        "# Add percentage and count values inside plot\n",
        "thresh = cm_norm_test.max() / 2.\n",
        "for i in range(cm_norm_test.shape[0]):\n",
        "    for j in range(cm_norm_test.shape[1]):\n",
        "        ax.text(j, i, '''{}\\n({:.2f}%)'''.format(cm_test_split4[i,j], cm_norm_test[i, j]*100),\n",
        "                ha=\"center\", va=\"center\",\n",
        "                color=\"white\" if cm_norm_test[i, j] > thresh else \"black\")\n",
        "# Show plot\n",
        "plt.show()"
      ],
      "metadata": {
        "colab": {
          "base_uri": "https://localhost:8080/",
          "height": 54
        },
        "id": "71CTH5mAhq4j",
        "outputId": "ac066383-6e22-4efb-e264-a78b0e7fddfb"
      },
      "execution_count": null,
      "outputs": [
        {
          "output_type": "display_data",
          "data": {
            "text/plain": [
              "<Figure size 640x480 with 1 Axes>"
            ],
            "image/png": "[encoded data removed]"
          },
          "metadata": {}
        }
      ]
    },
    {
      "cell_type": "markdown",
      "source": [
        "plot ROC curve"
      ],
      "metadata": {
        "id": "xoMoG99fhsQV"
      }
    },
    {
      "cell_type": "code",
      "source": [
        "fpr1, tpr1, thr1 = roc_curve(y_val, y_pred_val)\n",
        "auc_val = roc_auc_score(y_val, y_pred_val)\n",
        "fpr2, tpr2, thr2 = roc_curve(y_test, y_pred_test)\n",
        "auc_test_split4 = roc_auc_score(y_test, y_pred_test)\n",
        "\n",
        "print(\"---------------------------------------\")\n",
        "print(\"AUC validate: %.4f\" % auc_val)\n",
        "print(\"AUC test: %.4f\" % auc_test_split4)"
      ],
      "metadata": {
        "colab": {
          "base_uri": "https://localhost:8080/"
        },
        "id": "ppsTNRM5hucs",
        "outputId": "a2b08661-dc00-43d5-f464-e84dba4614c1"
      },
      "execution_count": null,
      "outputs": [
        {
          "output_type": "stream",
          "name": "stdout",
          "text": [
            "---------------------------------------\n",
            "AUC validate: 0.8750\n",
            "AUC test: 0.9121\n"
          ]
        }
      ]
    },
    {
      "cell_type": "code",
      "source": [
        "# plt.plot(fpr,tpr,label=\"data 1, auc=\"+str(auc),color='red')\n",
        "plt.plot(fpr1,tpr1,label=\"ROC valid, auc=\"+str(\"%.4f\" % auc_val))\n",
        "plt.plot(fpr2,tpr2,label=\"ROC test, auc=\"+str(\"%.4f\" % auc_test_split4))\n",
        "plt.plot([0, 1], [0, 1], linestyle=\"--\", lw=2, color=\"r\", label=\"Chance\", alpha=0.8)\n",
        "plt.legend(loc=4)\n",
        "plt.show()"
      ],
      "metadata": {
        "colab": {
          "base_uri": "https://localhost:8080/",
          "height": 54
        },
        "id": "Gq_yAxvrhxmC",
        "outputId": "8e55a26e-50d3-4536-a52b-6fc429020cd3"
      },
      "execution_count": null,
      "outputs": [
        {
          "output_type": "display_data",
          "data": {
            "text/plain": [
              "<Figure size 640x480 with 1 Axes>"
            ],
            "image/png": "[encoded data removed]"
          },
          "metadata": {}
        }
      ]
    },
    {
      "cell_type": "markdown",
      "source": [
        "## split5"
      ],
      "metadata": {
        "id": "yiJfD4O3hymV"
      }
    },
    {
      "cell_type": "markdown",
      "source": [
        "Training set"
      ],
      "metadata": {
        "id": "F2XE8SCDiMDg"
      }
    },
    {
      "cell_type": "code",
      "source": [
        "train_data = pd.read_csv(\"oversampled_train_split5.csv\")\n",
        "train_data.shape"
      ],
      "metadata": {
        "colab": {
          "base_uri": "https://localhost:8080/"
        },
        "id": "WR6SF_ZRiOxt",
        "outputId": "3bd34822-605a-4b0c-fec9-77bf767e3320"
      },
      "execution_count": null,
      "outputs": [
        {
          "output_type": "execute_result",
          "data": {
            "text/plain": [
              "(486, 32)"
            ]
          },
          "metadata": {},
          "execution_count": 121
        }
      ]
    },
    {
      "cell_type": "code",
      "source": [
        "x_train = train_data[train_data.columns[2:]]\n",
        "x_train.shape"
      ],
      "metadata": {
        "colab": {
          "base_uri": "https://localhost:8080/"
        },
        "id": "5ynWutq-iO01",
        "outputId": "fd1a9aea-dc93-40dd-942e-30b35d6780cc"
      },
      "execution_count": null,
      "outputs": [
        {
          "output_type": "execute_result",
          "data": {
            "text/plain": [
              "(486, 30)"
            ]
          },
          "metadata": {},
          "execution_count": 122
        }
      ]
    },
    {
      "cell_type": "code",
      "source": [
        "y_train = train_data[train_data.columns[1]]\n",
        "#y_train.shape\n",
        "le = LabelEncoder()\n",
        "y_train = np.array(le.fit_transform(y_train))\n",
        "print(le.classes_)"
      ],
      "metadata": {
        "colab": {
          "base_uri": "https://localhost:8080/"
        },
        "id": "huXG-s_FiO4m",
        "outputId": "1f804632-9917-432c-ab58-e662d1d8ee67"
      },
      "execution_count": null,
      "outputs": [
        {
          "output_type": "stream",
          "name": "stdout",
          "text": [
            "['B' 'M']\n"
          ]
        }
      ]
    },
    {
      "cell_type": "markdown",
      "source": [
        "Testing set"
      ],
      "metadata": {
        "id": "-8_9lkYIiPMB"
      }
    },
    {
      "cell_type": "code",
      "source": [
        "test_data = pd.read_csv(\"test.csv\")\n",
        "test_data.shape"
      ],
      "metadata": {
        "colab": {
          "base_uri": "https://localhost:8080/"
        },
        "id": "I0Yf_8aTiYOJ",
        "outputId": "7691ef7a-e62b-415f-de4d-78be0c5406d9"
      },
      "execution_count": null,
      "outputs": [
        {
          "output_type": "execute_result",
          "data": {
            "text/plain": [
              "(114, 33)"
            ]
          },
          "metadata": {},
          "execution_count": 124
        }
      ]
    },
    {
      "cell_type": "code",
      "source": [
        "x_test = test_data[test_data.columns[3:]]\n",
        "x_test.shape"
      ],
      "metadata": {
        "colab": {
          "base_uri": "https://localhost:8080/"
        },
        "id": "ZqkKVkGciYRQ",
        "outputId": "1b4a3259-f284-4356-c0b0-d7515cd674b8"
      },
      "execution_count": null,
      "outputs": [
        {
          "output_type": "execute_result",
          "data": {
            "text/plain": [
              "(114, 30)"
            ]
          },
          "metadata": {},
          "execution_count": 125
        }
      ]
    },
    {
      "cell_type": "code",
      "source": [
        "y_test = test_data[test_data.columns[2]]\n",
        "#y_test.shape\n",
        "le = LabelEncoder()\n",
        "y_test = np.array(le.fit_transform(y_test))\n",
        "print(le.classes_)"
      ],
      "metadata": {
        "colab": {
          "base_uri": "https://localhost:8080/"
        },
        "id": "vtTGrGA8iYV9",
        "outputId": "ff79a269-a6b5-46bb-ba37-de7c806848ef"
      },
      "execution_count": null,
      "outputs": [
        {
          "output_type": "stream",
          "name": "stdout",
          "text": [
            "['B' 'M']\n"
          ]
        }
      ]
    },
    {
      "cell_type": "markdown",
      "source": [
        "Validation set"
      ],
      "metadata": {
        "id": "A3fPHUbcigjA"
      }
    },
    {
      "cell_type": "code",
      "source": [
        "val_data = pd.read_csv(\"val_split5.csv\")\n",
        "val_data.shape"
      ],
      "metadata": {
        "colab": {
          "base_uri": "https://localhost:8080/"
        },
        "id": "AO-Y9ZcAihGp",
        "outputId": "dfa146da-8f49-4c3c-cb2b-db209e237b66"
      },
      "execution_count": null,
      "outputs": [
        {
          "output_type": "execute_result",
          "data": {
            "text/plain": [
              "(91, 32)"
            ]
          },
          "metadata": {},
          "execution_count": 127
        }
      ]
    },
    {
      "cell_type": "code",
      "source": [
        "x_val = val_data[val_data.columns[2:]]\n",
        "x_val.shape"
      ],
      "metadata": {
        "colab": {
          "base_uri": "https://localhost:8080/"
        },
        "id": "tAWhzgJgihJw",
        "outputId": "99179800-cbb5-4de3-8f28-91e3c25a81c6"
      },
      "execution_count": null,
      "outputs": [
        {
          "output_type": "execute_result",
          "data": {
            "text/plain": [
              "(91, 30)"
            ]
          },
          "metadata": {},
          "execution_count": 128
        }
      ]
    },
    {
      "cell_type": "code",
      "source": [
        "y_val = val_data[val_data.columns[1]]\n",
        "#y_val.shape\n",
        "le = LabelEncoder()\n",
        "y_val = np.array(le.fit_transform(y_val))\n",
        "print(le.classes_)"
      ],
      "metadata": {
        "colab": {
          "base_uri": "https://localhost:8080/"
        },
        "id": "kGWHtZScihP_",
        "outputId": "5c0efcd4-bc38-4a43-9647-cf9cc13428c8"
      },
      "execution_count": null,
      "outputs": [
        {
          "output_type": "stream",
          "name": "stdout",
          "text": [
            "['B' 'M']\n"
          ]
        }
      ]
    },
    {
      "cell_type": "markdown",
      "source": [
        "step train -split5"
      ],
      "metadata": {
        "id": "UwZRIetqimp8"
      }
    },
    {
      "cell_type": "code",
      "source": [
        "x_train = x_train.to_numpy()\n",
        "x_test = x_test.to_numpy()\n",
        "x_val = x_val.to_numpy()"
      ],
      "metadata": {
        "id": "TWKxnLR5ip8I"
      },
      "execution_count": null,
      "outputs": []
    },
    {
      "cell_type": "code",
      "source": [
        "from sklearn.model_selection import train_test_split\n",
        "\n",
        "print(\"Shape of training set:\", x_train.shape)\n",
        "print(\"Shape of test set:\", x_test.shape)"
      ],
      "metadata": {
        "colab": {
          "base_uri": "https://localhost:8080/"
        },
        "id": "ntmnZREnis52",
        "outputId": "67d763a9-0dbf-40fe-a888-73e8a5b3a684"
      },
      "execution_count": null,
      "outputs": [
        {
          "output_type": "stream",
          "name": "stdout",
          "text": [
            "Shape of training set: (486, 30)\n",
            "Shape of test set: (114, 30)\n"
          ]
        }
      ]
    },
    {
      "cell_type": "code",
      "source": [
        "from sklearn.preprocessing import StandardScaler\n",
        "\n",
        "ss = StandardScaler()\n",
        "X_train = ss.fit_transform(x_train)\n",
        "X_test = ss.fit_transform(x_test)\n",
        "X_val = ss.fit_transform(x_val)"
      ],
      "metadata": {
        "id": "rAD3JW_qiuiR"
      },
      "execution_count": null,
      "outputs": []
    },
    {
      "cell_type": "markdown",
      "source": [
        "param"
      ],
      "metadata": {
        "id": "Rspytc23ivj4"
      }
    },
    {
      "cell_type": "code",
      "source": [
        "# instantiate classifier ,ยกตัวอย่างclassifier \n",
        "\n",
        "#rf_classifier = RandomForestClassifier(random_state=42, n_estimators=10)"
      ],
      "metadata": {
        "id": "vl5F27YSiwtS"
      },
      "execution_count": null,
      "outputs": []
    },
    {
      "cell_type": "code",
      "source": [
        "# give to GridSearchCV\n",
        "#param_dist = {'max_depth': [2, 3, 4],\n",
        "#             'bootstrap': [True, False],\n",
        "#              'max_features': ['auto', 'sqrt', 'log2', None],\n",
        "#              'criterion': ['gini', 'entropy']}\n",
        "\n",
        "# set up the GridSearch\n",
        "#cv_rf = GridSearchCV(rf_classifier, cv = 5,param_grid=param_dist,n_jobs = 3)\n",
        "\n",
        "# fit the GridSearch\n",
        "#cv_rf.fit(X_train, y_train)\n",
        "#cv_rf.fit(X_val, y_val) #ใช้อันนี้\n",
        "#print('Best Parameters using grid search: \\n', cv_rf.best_params_)\n",
        "\n",
        "#print('Best criterion parameter:', cv_rf.best_params_['criterion'])\n",
        "#print('Best max_depth parameter:', cv_rf.best_params_['max_depth'])\n",
        "#print('Best bootstrap parameter:', cv_rf.best_params_['bootstrap'])\n",
        "#print('Best max_features parameter:', cv_rf.best_params_['max_features'])\n",
        "#print('Best score:', cv_rf.best_score_)"
      ],
      "metadata": {
        "id": "xff8VVeAi66P"
      },
      "execution_count": null,
      "outputs": []
    },
    {
      "cell_type": "markdown",
      "source": [
        "Best Parameters using grid search: \n",
        " {'bootstrap': False, 'criterion': 'gini', 'max_depth': 4, 'max_features': 'log2'}\n",
        "Best criterion parameter: gini\n",
        "Best max_depth parameter: 4\n",
        "Best bootstrap parameter: False\n",
        "Best max_features parameter: log2\n",
        "\n",
        "**Best score: 0.967251461988304** "
      ],
      "metadata": {
        "id": "iLrojivji7IA"
      }
    },
    {
      "cell_type": "code",
      "source": [
        "from sklearn.ensemble import RandomForestClassifier\n",
        "\n",
        "rand_clf = RandomForestClassifier(criterion = 'gini', max_depth = 2, max_features = 'auto', min_samples_leaf = 2, min_samples_split = 3, n_estimators = 130)\n",
        "rand_clf.fit(X_train, y_train) # map"
      ],
      "metadata": {
        "colab": {
          "base_uri": "https://localhost:8080/",
          "height": 145
        },
        "id": "GgaKiBPei7TM",
        "outputId": "4fb45bb4-c50f-4b25-96bf-5c69a282c8fd"
      },
      "execution_count": null,
      "outputs": [
        {
          "output_type": "stream",
          "name": "stderr",
          "text": [
            "/usr/local/lib/python3.9/dist-packages/sklearn/ensemble/_forest.py:424: FutureWarning: `max_features='auto'` has been deprecated in 1.1 and will be removed in 1.3. To keep the past behaviour, explicitly set `max_features='sqrt'` or remove this parameter as it is also the default value for RandomForestClassifiers and ExtraTreesClassifiers.\n",
            "  warn(\n"
          ]
        },
        {
          "output_type": "execute_result",
          "data": {
            "text/plain": [
              "RandomForestClassifier(max_depth=2, max_features='auto', min_samples_leaf=2,\n",
              "                       min_samples_split=3, n_estimators=130)"
            ],
            "text/html": [
              "<style>#sk-container-id-5 {color: black;background-color: white;}#sk-container-id-5 pre{padding: 0;}#sk-container-id-5 div.sk-toggleable {background-color: white;}#sk-container-id-5 label.sk-toggleable__label {cursor: pointer;display: block;width: 100%;margin-bottom: 0;padding: 0.3em;box-sizing: border-box;text-align: center;}#sk-container-id-5 label.sk-toggleable__label-arrow:before {content: \"▸\";float: left;margin-right: 0.25em;color: #696969;}#sk-container-id-5 label.sk-toggleable__label-arrow:hover:before {color: black;}#sk-container-id-5 div.sk-estimator:hover label.sk-toggleable__label-arrow:before {color: black;}#sk-container-id-5 div.sk-toggleable__content {max-height: 0;max-width: 0;overflow: hidden;text-align: left;background-color: #f0f8ff;}#sk-container-id-5 div.sk-toggleable__content pre {margin: 0.2em;color: black;border-radius: 0.25em;background-color: #f0f8ff;}#sk-container-id-5 input.sk-toggleable__control:checked~div.sk-toggleable__content {max-height: 200px;max-width: 100%;overflow: auto;}#sk-container-id-5 input.sk-toggleable__control:checked~label.sk-toggleable__label-arrow:before {content: \"▾\";}#sk-container-id-5 div.sk-estimator input.sk-toggleable__control:checked~label.sk-toggleable__label {background-color: #d4ebff;}#sk-container-id-5 div.sk-label input.sk-toggleable__control:checked~label.sk-toggleable__label {background-color: #d4ebff;}#sk-container-id-5 input.sk-hidden--visually {border: 0;clip: rect(1px 1px 1px 1px);clip: rect(1px, 1px, 1px, 1px);height: 1px;margin: -1px;overflow: hidden;padding: 0;position: absolute;width: 1px;}#sk-container-id-5 div.sk-estimator {font-family: monospace;background-color: #f0f8ff;border: 1px dotted black;border-radius: 0.25em;box-sizing: border-box;margin-bottom: 0.5em;}#sk-container-id-5 div.sk-estimator:hover {background-color: #d4ebff;}#sk-container-id-5 div.sk-parallel-item::after {content: \"\";width: 100%;border-bottom: 1px solid gray;flex-grow: 1;}#sk-container-id-5 div.sk-label:hover label.sk-toggleable__label {background-color: #d4ebff;}#sk-container-id-5 div.sk-serial::before {content: \"\";position: absolute;border-left: 1px solid gray;box-sizing: border-box;top: 0;bottom: 0;left: 50%;z-index: 0;}#sk-container-id-5 div.sk-serial {display: flex;flex-direction: column;align-items: center;background-color: white;padding-right: 0.2em;padding-left: 0.2em;position: relative;}#sk-container-id-5 div.sk-item {position: relative;z-index: 1;}#sk-container-id-5 div.sk-parallel {display: flex;align-items: stretch;justify-content: center;background-color: white;position: relative;}#sk-container-id-5 div.sk-item::before, #sk-container-id-5 div.sk-parallel-item::before {content: \"\";position: absolute;border-left: 1px solid gray;box-sizing: border-box;top: 0;bottom: 0;left: 50%;z-index: -1;}#sk-container-id-5 div.sk-parallel-item {display: flex;flex-direction: column;z-index: 1;position: relative;background-color: white;}#sk-container-id-5 div.sk-parallel-item:first-child::after {align-self: flex-end;width: 50%;}#sk-container-id-5 div.sk-parallel-item:last-child::after {align-self: flex-start;width: 50%;}#sk-container-id-5 div.sk-parallel-item:only-child::after {width: 0;}#sk-container-id-5 div.sk-dashed-wrapped {border: 1px dashed gray;margin: 0 0.4em 0.5em 0.4em;box-sizing: border-box;padding-bottom: 0.4em;background-color: white;}#sk-container-id-5 div.sk-label label {font-family: monospace;font-weight: bold;display: inline-block;line-height: 1.2em;}#sk-container-id-5 div.sk-label-container {text-align: center;}#sk-container-id-5 div.sk-container {/* jupyter's `normalize.less` sets `[hidden] { display: none; }` but bootstrap.min.css set `[hidden] { display: none !important; }` so we also need the `!important` here to be able to override the default hidden behavior on the sphinx rendered scikit-learn.org. See: https://github.com/scikit-learn/scikit-learn/issues/21755 */display: inline-block !important;position: relative;}#sk-container-id-5 div.sk-text-repr-fallback {display: none;}</style><div id=\"sk-container-id-5\" class=\"sk-top-container\"><div class=\"sk-text-repr-fallback\"><pre>RandomForestClassifier(max_depth=2, max_features=&#x27;auto&#x27;, min_samples_leaf=2,\n",
              "                       min_samples_split=3, n_estimators=130)</pre><b>In a Jupyter environment, please rerun this cell to show the HTML representation or trust the notebook. <br />On GitHub, the HTML representation is unable to render, please try loading this page with nbviewer.org.</b></div><div class=\"sk-container\" hidden><div class=\"sk-item\"><div class=\"sk-estimator sk-toggleable\"><input class=\"sk-toggleable__control sk-hidden--visually\" id=\"sk-estimator-id-5\" type=\"checkbox\" checked><label for=\"sk-estimator-id-5\" class=\"sk-toggleable__label sk-toggleable__label-arrow\">RandomForestClassifier</label><div class=\"sk-toggleable__content\"><pre>RandomForestClassifier(max_depth=2, max_features=&#x27;auto&#x27;, min_samples_leaf=2,\n",
              "                       min_samples_split=3, n_estimators=130)</pre></div></div></div></div></div>"
            ]
          },
          "metadata": {},
          "execution_count": 135
        }
      ]
    },
    {
      "cell_type": "code",
      "source": [
        "y_pred = rand_clf.predict(X_test)"
      ],
      "metadata": {
        "id": "N6bWId-JjEMP"
      },
      "execution_count": null,
      "outputs": []
    },
    {
      "cell_type": "code",
      "source": [
        "y_pred"
      ],
      "metadata": {
        "colab": {
          "base_uri": "https://localhost:8080/"
        },
        "id": "aJLOf3AVjGT5",
        "outputId": "8288ca66-9e09-4cbf-e53e-f4baca32a7c5"
      },
      "execution_count": null,
      "outputs": [
        {
          "output_type": "execute_result",
          "data": {
            "text/plain": [
              "array([1, 1, 1, 1, 1, 1, 1, 0, 1, 1, 1, 1, 1, 1, 1, 1, 1, 1, 1, 0, 0, 0,\n",
              "       1, 1, 1, 1, 1, 1, 1, 1, 1, 1, 1, 1, 1, 1, 0, 0, 0, 0, 0, 0, 1, 1,\n",
              "       0, 1, 0, 1, 0, 0, 0, 0, 0, 1, 1, 0, 1, 1, 0, 0, 0, 0, 1, 0, 1, 1,\n",
              "       0, 0, 0, 0, 1, 0, 1, 0, 0, 1, 0, 1, 1, 0, 0, 0, 1, 1, 0, 1, 0, 1,\n",
              "       0, 0, 0, 1, 0, 0, 1, 1, 0, 0, 0, 0, 0, 0, 0, 0, 0, 1, 0, 0, 1, 0,\n",
              "       0, 0, 0, 0])"
            ]
          },
          "metadata": {},
          "execution_count": 137
        }
      ]
    },
    {
      "cell_type": "code",
      "source": [
        "# accuracy score\n",
        "\n",
        "print(accuracy_score(y_train, rand_clf.predict(X_train)))\n",
        "\n",
        "ran_clf_acc = accuracy_score(y_test, y_pred)\n",
        "print(ran_clf_acc)"
      ],
      "metadata": {
        "colab": {
          "base_uri": "https://localhost:8080/"
        },
        "id": "Ttv6XbrbjJZB",
        "outputId": "ef5dc284-874d-4c2c-ad22-4b10e4a0121e"
      },
      "execution_count": null,
      "outputs": [
        {
          "output_type": "stream",
          "name": "stdout",
          "text": [
            "0.9629629629629629\n",
            "0.9035087719298246\n"
          ]
        }
      ]
    },
    {
      "cell_type": "code",
      "source": [
        "# confusion matrix\n",
        "\n",
        "print(confusion_matrix(y_test, y_pred))"
      ],
      "metadata": {
        "colab": {
          "base_uri": "https://localhost:8080/"
        },
        "id": "kZ2NlBeEjKHn",
        "outputId": "849feaa7-4869-49a7-cc1b-4e0b189ada1c"
      },
      "execution_count": null,
      "outputs": [
        {
          "output_type": "stream",
          "name": "stdout",
          "text": [
            "[[46  0]\n",
            " [11 57]]\n"
          ]
        }
      ]
    },
    {
      "cell_type": "code",
      "source": [
        "# classification report\n",
        "\n",
        "print(classification_report(y_test, y_pred))"
      ],
      "metadata": {
        "colab": {
          "base_uri": "https://localhost:8080/"
        },
        "id": "qA2mKRZZjKPK",
        "outputId": "089ea478-7986-4e01-c5af-9651202d2db5"
      },
      "execution_count": null,
      "outputs": [
        {
          "output_type": "stream",
          "name": "stdout",
          "text": [
            "              precision    recall  f1-score   support\n",
            "\n",
            "           0       0.81      1.00      0.89        46\n",
            "           1       1.00      0.84      0.91        68\n",
            "\n",
            "    accuracy                           0.90       114\n",
            "   macro avg       0.90      0.92      0.90       114\n",
            "weighted avg       0.92      0.90      0.90       114\n",
            "\n"
          ]
        }
      ]
    },
    {
      "cell_type": "markdown",
      "source": [
        "validate set"
      ],
      "metadata": {
        "id": "zdYPaqUMjO8P"
      }
    },
    {
      "cell_type": "code",
      "source": [
        "y_pred_val = rand_clf.predict(X_val)\n",
        "cm_val = confusion_matrix(y_val, y_pred_val)\n",
        "print('Confusion Matrix')\n",
        "print('-'*16)\n",
        "print(cm_val,'\\n')\n",
        "print('-'*16)"
      ],
      "metadata": {
        "colab": {
          "base_uri": "https://localhost:8080/"
        },
        "id": "LK4qwAKDjRVG",
        "outputId": "c992b73d-14c1-404e-90d0-341c90c610ac"
      },
      "execution_count": null,
      "outputs": [
        {
          "output_type": "stream",
          "name": "stdout",
          "text": [
            "Confusion Matrix\n",
            "----------------\n",
            "[[52 16]\n",
            " [ 0 23]] \n",
            "\n",
            "----------------\n"
          ]
        }
      ]
    },
    {
      "cell_type": "code",
      "source": [
        " # Calculate score\n",
        "sen_val = sensitivity(cm_val)\n",
        "spec_val = specificity(cm_val)\n",
        "acc_val = accuracy(cm_val)\n",
        "pre_val = precision(cm_val)\n",
        "f1_val = f1(cm_val)"
      ],
      "metadata": {
        "colab": {
          "base_uri": "https://localhost:8080/"
        },
        "id": "kj82GfU-jT1P",
        "outputId": "ba8212b2-6718-4015-e624-272c0f400ce2"
      },
      "execution_count": null,
      "outputs": [
        {
          "output_type": "stream",
          "name": "stdout",
          "text": [
            "Sensitivity: 100.00%\n",
            "Specificity: 76.47%\n",
            "Accuracy: 82.42%\n",
            "Precision: 58.97%\n",
            "Sensitivity: 100.00%\n",
            "Precision: 58.97%\n",
            "F1: 74.19%\n"
          ]
        }
      ]
    },
    {
      "cell_type": "code",
      "source": [
        "class_names = ['benign','malignant']\n",
        "# Normalize confusion matrix to percentage\n",
        "cm_norm_val = cm_val.astype('float') / cm_val.sum(axis=1)[:, np.newaxis]\n",
        "# Create plot\n",
        "fig, ax = plt.subplots()\n",
        "im = ax.imshow(cm_norm_val, interpolation='nearest', cmap=\"rocket_r\")\n",
        "ax.grid(False)\n",
        "# Add labels\n",
        "ax.set(xticks=np.arange(cm_norm_val.shape[1]),\n",
        "       yticks=np.arange(cm_norm_val.shape[0]),\n",
        "       xticklabels=class_names, yticklabels=class_names)\n",
        "ax.set_title(\"Validate set\", fontsize=16)\n",
        "ax.set_ylabel('Actual', fontsize=16)\n",
        "ax.set_xlabel('Predicted', fontsize=16)\n",
        "# Add percentage and count values inside plot\n",
        "thresh = cm_norm_val.max() / 2.\n",
        "for i in range(cm_norm_val.shape[0]):\n",
        "    for j in range(cm_norm_val.shape[1]):\n",
        "        ax.text(j, i, '''{}\\n({:.2f}%)'''.format(cm_val[i,j], cm_norm_val[i, j]*100),\n",
        "                ha=\"center\", va=\"center\",\n",
        "                color=\"white\" if cm_norm_val[i, j] > thresh else \"black\")\n",
        "# Show plot\n",
        "plt.show()"
      ],
      "metadata": {
        "colab": {
          "base_uri": "https://localhost:8080/",
          "height": 54
        },
        "id": "yK64CHXJjXK4",
        "outputId": "4b28247e-6d5a-4cef-baee-85f936034c92"
      },
      "execution_count": null,
      "outputs": [
        {
          "output_type": "display_data",
          "data": {
            "text/plain": [
              "<Figure size 640x480 with 1 Axes>"
            ],
            "image/png": "[encoded data removed]"
          },
          "metadata": {}
        }
      ]
    },
    {
      "cell_type": "markdown",
      "source": [
        "test set"
      ],
      "metadata": {
        "id": "IFL_Im7ZjYwH"
      }
    },
    {
      "cell_type": "code",
      "source": [
        "y_pred_test = rand_clf.predict(X_test)\n",
        "# Confusion matrix\n",
        "cm_test_split5 = confusion_matrix(y_test, y_pred_test)\n",
        "print('Confusion Matrix')\n",
        "print('-'*16)\n",
        "print(cm_test_split5,'\\n')\n",
        "print('-'*16)"
      ],
      "metadata": {
        "colab": {
          "base_uri": "https://localhost:8080/"
        },
        "id": "GheLm6k7jaz4",
        "outputId": "8e27fde6-93c3-44f5-810e-2f7b64fd2ae8"
      },
      "execution_count": null,
      "outputs": [
        {
          "output_type": "stream",
          "name": "stdout",
          "text": [
            "Confusion Matrix\n",
            "----------------\n",
            "[[46  0]\n",
            " [11 57]] \n",
            "\n",
            "----------------\n"
          ]
        }
      ]
    },
    {
      "cell_type": "code",
      "source": [
        "# Calculate score\n",
        "sen_test_split5 = sensitivity(cm_test_split5)\n",
        "spec_test_split5 = specificity(cm_test_split5)\n",
        "acc_test_split5 = accuracy(cm_test_split5)\n",
        "pre_test_split5 = precision(cm_test_split5)\n",
        "f1_test_split5 = f1(cm_test_split5)"
      ],
      "metadata": {
        "colab": {
          "base_uri": "https://localhost:8080/"
        },
        "id": "BgbT180hjiKr",
        "outputId": "f1413cb1-c651-4a57-8a2e-e80eb466ba41"
      },
      "execution_count": null,
      "outputs": [
        {
          "output_type": "stream",
          "name": "stdout",
          "text": [
            "Sensitivity: 83.82%\n",
            "Specificity: 100.00%\n",
            "Accuracy: 90.35%\n",
            "Precision: 100.00%\n",
            "Sensitivity: 83.82%\n",
            "Precision: 100.00%\n",
            "F1: 91.20%\n"
          ]
        }
      ]
    },
    {
      "cell_type": "code",
      "source": [
        "# plot confusion matrix\n",
        "class_names = ['benign','malignant']\n",
        "# Normalize confusion matrix to percentage\n",
        "cm_norm_test = cm_test_split5.astype('float') / cm_test_split5.sum(axis=1)[:, np.newaxis]\n",
        "# Create plot\n",
        "fig, ax = plt.subplots()\n",
        "im = ax.imshow(cm_norm_test, interpolation='nearest', cmap=\"rocket_r\")\n",
        "ax.grid(False)\n",
        "# Add labels\n",
        "ax.set(xticks=np.arange(cm_norm_test.shape[1]),\n",
        "       yticks=np.arange(cm_norm_test.shape[0]),\n",
        "       xticklabels=class_names, yticklabels=class_names)\n",
        "ax.set_title(\"Test set\", fontsize=16)\n",
        "ax.set_ylabel('Actual', fontsize=16)\n",
        "ax.set_xlabel('Predicted', fontsize=16)\n",
        "# Add percentage and count values inside plot\n",
        "thresh = cm_norm_test.max() / 2.\n",
        "for i in range(cm_norm_test.shape[0]):\n",
        "    for j in range(cm_norm_test.shape[1]):\n",
        "        ax.text(j, i, '''{}\\n({:.2f}%)'''.format(cm_test_split5[i,j], cm_norm_test[i, j]*100),\n",
        "                ha=\"center\", va=\"center\",\n",
        "                color=\"white\" if cm_norm_test[i, j] > thresh else \"black\")\n",
        "# Show plot\n",
        "plt.show()"
      ],
      "metadata": {
        "colab": {
          "base_uri": "https://localhost:8080/",
          "height": 54
        },
        "id": "y4PqVyAljoNq",
        "outputId": "603f590a-e913-4952-9092-242615623479"
      },
      "execution_count": null,
      "outputs": [
        {
          "output_type": "display_data",
          "data": {
            "text/plain": [
              "<Figure size 640x480 with 1 Axes>"
            ],
            "image/png": "[encoded data removed]"
          },
          "metadata": {}
        }
      ]
    },
    {
      "cell_type": "markdown",
      "source": [
        "plot ROC curve"
      ],
      "metadata": {
        "id": "iOfbBAemjpkq"
      }
    },
    {
      "cell_type": "code",
      "source": [
        "fpr1, tpr1, thr1 = roc_curve(y_val, y_pred_val)\n",
        "auc_val = roc_auc_score(y_val, y_pred_val)\n",
        "fpr2, tpr2, thr2 = roc_curve(y_test, y_pred_test)\n",
        "auc_test_split5 = roc_auc_score(y_test, y_pred_test)\n",
        "\n",
        "print(\"---------------------------------------\")\n",
        "print(\"AUC validate: %.4f\" % auc_val)\n",
        "print(\"AUC test: %.4f\" % auc_test_split5)"
      ],
      "metadata": {
        "colab": {
          "base_uri": "https://localhost:8080/"
        },
        "id": "vxxygDlIjuGw",
        "outputId": "b7efc1e6-f9e0-4c1c-db13-bf52dc1d47c3"
      },
      "execution_count": null,
      "outputs": [
        {
          "output_type": "stream",
          "name": "stdout",
          "text": [
            "---------------------------------------\n",
            "AUC validate: 0.8824\n",
            "AUC test: 0.9191\n"
          ]
        }
      ]
    },
    {
      "cell_type": "code",
      "source": [
        "# plt.plot(fpr,tpr,label=\"data 1, auc=\"+str(auc),color='red')\n",
        "plt.plot(fpr1,tpr1,label=\"ROC valid, auc=\"+str(\"%.4f\" % auc_val))\n",
        "plt.plot(fpr2,tpr2,label=\"ROC test, auc=\"+str(\"%.4f\" % auc_test_split5))\n",
        "plt.plot([0, 1], [0, 1], linestyle=\"--\", lw=2, color=\"r\", label=\"Chance\", alpha=0.8)\n",
        "plt.legend(loc=4)\n",
        "plt.show()"
      ],
      "metadata": {
        "colab": {
          "base_uri": "https://localhost:8080/",
          "height": 54
        },
        "id": "beEm9NWbjweD",
        "outputId": "e58d75cc-393c-46ff-a237-adacb17fe501"
      },
      "execution_count": null,
      "outputs": [
        {
          "output_type": "display_data",
          "data": {
            "text/plain": [
              "<Figure size 640x480 with 1 Axes>"
            ],
            "image/png": "[encoded data removed]"
          },
          "metadata": {}
        }
      ]
    },
    {
      "cell_type": "markdown",
      "source": [
        "# Compare"
      ],
      "metadata": {
        "id": "B5WZc3NUj25x"
      }
    },
    {
      "cell_type": "code",
      "source": [
        "test_split1 = np.array([[45, 1], [14, 54]])\n",
        "test_split2 = np.array([[46, 0], [15, 53]])\n",
        "test_split3 = np.array([[45, 1], [17, 51]])\n",
        "test_split4 = np.array([[46, 0], [16, 52]])\n",
        "test_split5 = np.array([[45, 1], [13, 55]])"
      ],
      "metadata": {
        "id": "NW9xypPQj5W1"
      },
      "execution_count": null,
      "outputs": []
    },
    {
      "cell_type": "code",
      "source": [
        "# test_split5"
      ],
      "metadata": {
        "id": "HHEG7HP1j75E"
      },
      "execution_count": null,
      "outputs": []
    },
    {
      "cell_type": "code",
      "source": [
        "overall_test = test_split1 + test_split2 + test_split3 + test_split4 + test_split5\n",
        "overall_test"
      ],
      "metadata": {
        "colab": {
          "base_uri": "https://localhost:8080/"
        },
        "id": "JYcisrsOj-52",
        "outputId": "2c96060b-9b16-46a3-e86c-4b52269a7d5d"
      },
      "execution_count": null,
      "outputs": [
        {
          "output_type": "execute_result",
          "data": {
            "text/plain": [
              "array([[227,   3],\n",
              "       [ 75, 265]])"
            ]
          },
          "metadata": {},
          "execution_count": 151
        }
      ]
    },
    {
      "cell_type": "code",
      "source": [
        " overall_cm_test = cm_test_split1 + cm_test_split2 + cm_test_split3 + cm_test_split4 + cm_test_split5\n",
        " overall_cm_test"
      ],
      "metadata": {
        "colab": {
          "base_uri": "https://localhost:8080/"
        },
        "id": "Y_zWp7-DkBOG",
        "outputId": "1bcd6c2f-6abf-4514-fcf7-70a80dfbe043"
      },
      "execution_count": null,
      "outputs": [
        {
          "output_type": "execute_result",
          "data": {
            "text/plain": [
              "array([[224,   6],\n",
              "       [ 48, 292]])"
            ]
          },
          "metadata": {},
          "execution_count": 152
        }
      ]
    },
    {
      "cell_type": "code",
      "source": [
        "label = ['benign','malignant']\n",
        "plt.figure(figsize=(6, 6))\n",
        "# ax = sns.heatmap(cmn, cmap=\"rocket_r\", fmt=\".4f\",annot_kws={'size':16}, annot=True, square=True, xticklabels=label, yticklabels=label)\n",
        "ax = sns.heatmap(overall_test, cmap=\"rocket_r\", fmt=\".01f\",annot_kws={'size':16}, annot=True, square=True, xticklabels=label, yticklabels=label)\n",
        "ax.set_ylabel('Actual', fontsize=20)\n",
        "ax.set_xlabel('Predicted', fontsize=20)\n",
        "# Show plot\n",
        "plt.show()\n",
        "\n",
        "# # plot confusion matrix\n",
        "# class_names = ['benign','malignant']\n",
        "# # Normalize confusion matrix to percentage\n",
        "# overall_test_val = overall_test.astype('float') / overall_test.sum(axis=1)[:, np.newaxis]\n",
        "# # Create plot\n",
        "# fig, ax = plt.subplots()\n",
        "# im = ax.imshow(overall_test_val, interpolation='nearest', cmap=\"rocket_r\")\n",
        "# ax.grid(False)\n",
        "# # Add labels\n",
        "# ax.set(xticks=np.arange(overall_test_val.shape[1]),\n",
        "#        yticks=np.arange(overall_test_val.shape[0]),\n",
        "#        xticklabels=class_names, yticklabels=class_names)\n",
        "# ax.set_title(\"Validate set\", fontsize=16)\n",
        "# ax.set_ylabel('Actual', fontsize=16)\n",
        "# ax.set_xlabel('Predicted', fontsize=16)\n",
        "# # Add percentage and count values inside plot\n",
        "# thresh = overall_test_val.max() / 2.\n",
        "# for i in range(overall_test_val.shape[0]):\n",
        "#     for j in range(overall_test_val.shape[1]):\n",
        "#         ax.text(j, i, '''{}\\n({:.2f}%)'''.format(cm_val[i,j], overall_test_val[i, j]*100),\n",
        "#                 ha=\"center\", va=\"center\",\n",
        "#                 color=\"white\" if overall_test_val[i, j] > thresh else \"black\")\n",
        "# # Show plot\n",
        "# plt.show()"
      ],
      "metadata": {
        "colab": {
          "base_uri": "https://localhost:8080/",
          "height": 511
        },
        "id": "16yiI-NGk4va",
        "outputId": "cc3232f5-d2ce-470b-8adc-243e430619b8"
      },
      "execution_count": null,
      "outputs": [
        {
          "output_type": "display_data",
          "data": {
            "text/plain": [
              "<Figure size 600x600 with 2 Axes>"
            ],
            "image/png": "[encoded data removed]"
          },
          "metadata": {}
        }
      ]
    },
    {
      "cell_type": "code",
      "source": [
        " sen_split1 = sensitivity(cm_test_split1)\n",
        " sen_split2 = sensitivity(cm_test_split2)\n",
        " sen_split3 = sensitivity(cm_test_split3)\n",
        " sen_split4 = sensitivity(cm_test_split4)\n",
        " sen_split5 = sensitivity(cm_test_split5)\n",
        " sen_overall = sensitivity(overall_cm_test)"
      ],
      "metadata": {
        "colab": {
          "base_uri": "https://localhost:8080/"
        },
        "id": "Tewx2X-fk6an",
        "outputId": "33978804-f7ce-4547-c60e-fe68c15bd127"
      },
      "execution_count": null,
      "outputs": [
        {
          "output_type": "stream",
          "name": "stdout",
          "text": [
            "Sensitivity: 86.76%\n",
            "Sensitivity: 85.29%\n",
            "Sensitivity: 86.76%\n",
            "Sensitivity: 86.76%\n",
            "Sensitivity: 83.82%\n",
            "Sensitivity: 85.88%\n"
          ]
        }
      ]
    },
    {
      "cell_type": "code",
      "source": [
        " spec_split1 = specificity(cm_test_split1)\n",
        " spec_split2 = specificity(cm_test_split2)\n",
        " spec_split3 = specificity(cm_test_split3)\n",
        " spec_split4 = specificity(cm_test_split4)\n",
        " spec_split5 = specificity(cm_test_split5)\n",
        " spec_overall = specificity(overall_cm_test)"
      ],
      "metadata": {
        "colab": {
          "base_uri": "https://localhost:8080/"
        },
        "id": "FpI5xV3wlBMQ",
        "outputId": "85fb0393-c0a8-4319-e3ba-ef5ddde45ed3"
      },
      "execution_count": null,
      "outputs": [
        {
          "output_type": "stream",
          "name": "stdout",
          "text": [
            "Specificity: 97.83%\n",
            "Specificity: 97.83%\n",
            "Specificity: 95.65%\n",
            "Specificity: 95.65%\n",
            "Specificity: 100.00%\n",
            "Specificity: 97.39%\n"
          ]
        }
      ]
    },
    {
      "cell_type": "code",
      "source": [
        " acc_split1 = accuracy(cm_test_split1)\n",
        " acc_split2 = accuracy(cm_test_split2)\n",
        " acc_split3 = accuracy(cm_test_split3)\n",
        " acc_split4 = accuracy(cm_test_split4)\n",
        " acc_split5 = accuracy(cm_test_split5)\n",
        " acc_overall = accuracy(overall_cm_test)"
      ],
      "metadata": {
        "colab": {
          "base_uri": "https://localhost:8080/"
        },
        "id": "1QHTsmo0lBNs",
        "outputId": "fb688a1f-cf67-4135-edc2-18a1c2f2ee8b"
      },
      "execution_count": null,
      "outputs": [
        {
          "output_type": "stream",
          "name": "stdout",
          "text": [
            "Accuracy: 91.23%\n",
            "Accuracy: 90.35%\n",
            "Accuracy: 90.35%\n",
            "Accuracy: 90.35%\n",
            "Accuracy: 90.35%\n",
            "Accuracy: 90.53%\n"
          ]
        }
      ]
    },
    {
      "cell_type": "code",
      "source": [
        " pre_split1 = precision(cm_test_split1)\n",
        " pre_split2 = precision(cm_test_split2)\n",
        " pre_split3 = precision(cm_test_split3)\n",
        " pre_split4 = precision(cm_test_split4)\n",
        " pre_split5 = precision(cm_test_split5)\n",
        " pre_overall = precision(overall_cm_test)"
      ],
      "metadata": {
        "colab": {
          "base_uri": "https://localhost:8080/"
        },
        "id": "dUVLYdg3lTZ5",
        "outputId": "81355899-9110-4d35-ae92-41923fb2448c"
      },
      "execution_count": null,
      "outputs": [
        {
          "output_type": "stream",
          "name": "stdout",
          "text": [
            "Precision: 98.33%\n",
            "Precision: 98.31%\n",
            "Precision: 96.72%\n",
            "Precision: 96.72%\n",
            "Precision: 100.00%\n",
            "Precision: 97.99%\n"
          ]
        }
      ]
    },
    {
      "cell_type": "code",
      "source": [
        " f1_split1 = f1(cm_test_split1)\n",
        " f1_split2 = f1(cm_test_split2)\n",
        " f1_split3 = f1(cm_test_split3)\n",
        " f1_split4 = f1(cm_test_split4)\n",
        " f1_split5 = f1(cm_test_split5)\n",
        " f1_overall = f1(overall_cm_test)"
      ],
      "metadata": {
        "colab": {
          "base_uri": "https://localhost:8080/"
        },
        "id": "diCqOdUGlVWb",
        "outputId": "75fb2490-6def-463e-80af-5e69ee67d2a6"
      },
      "execution_count": null,
      "outputs": [
        {
          "output_type": "stream",
          "name": "stdout",
          "text": [
            "Sensitivity: 86.76%\n",
            "Precision: 98.33%\n",
            "F1: 92.19%\n",
            "Sensitivity: 85.29%\n",
            "Precision: 98.31%\n",
            "F1: 91.34%\n",
            "Sensitivity: 86.76%\n",
            "Precision: 96.72%\n",
            "F1: 91.47%\n",
            "Sensitivity: 86.76%\n",
            "Precision: 96.72%\n",
            "F1: 91.47%\n",
            "Sensitivity: 83.82%\n",
            "Precision: 100.00%\n",
            "F1: 91.20%\n",
            "Sensitivity: 85.88%\n",
            "Precision: 97.99%\n",
            "F1: 91.54%\n"
          ]
        }
      ]
    },
    {
      "cell_type": "code",
      "source": [
        "sensitivity_values = []\n",
        "\n",
        "sensitivity_values.append(sen_test_split1)\n",
        "sensitivity_values.append(sen_test_split2)\n",
        "sensitivity_values.append(sen_test_split3)\n",
        "sensitivity_values.append(sen_test_split4)\n",
        "sensitivity_values.append(sen_test_split5)\n",
        "\n",
        "print(sensitivity_values)\n",
        "\n",
        "# calculating the mean of sample set\n",
        "mean_sensitivity = statistics.mean(sensitivity_values)\n",
        "# Calculate standard deviation of sensitivity\n",
        "sensitivity_sd = statistics.stdev(sensitivity_values)\n",
        "\n",
        "print(\"Mean Sensitivity:\", mean_sensitivity)\n",
        "print(\"Sensitivity Standard Deviation:\", sensitivity_sd)\n",
        "\n",
        "# Print mean sensitivity with standard deviation\n",
        "print(\"Mean Sensitivity: %.2f ± %.2f%%\" % (mean_sensitivity, sensitivity_sd))\n"
      ],
      "metadata": {
        "colab": {
          "base_uri": "https://localhost:8080/"
        },
        "id": "8vaIyEOglZGN",
        "outputId": "fbac3ce9-0766-4507-c0e1-83f5c52004f5"
      },
      "execution_count": null,
      "outputs": [
        {
          "output_type": "stream",
          "name": "stdout",
          "text": [
            "[86.76470588235294, 85.29411764705883, 86.76470588235294, 86.76470588235294, 83.82352941176471]\n",
            "Mean Sensitivity: 85.88235294117648\n",
            "Sensitivity Standard Deviation: 1.3153341044116396\n",
            "Mean Sensitivity: 85.88 ± 1.32%\n"
          ]
        }
      ]
    },
    {
      "cell_type": "code",
      "source": [
        "specificity_values = []\n",
        "\n",
        "specificity_values.append(spec_test_split1)\n",
        "specificity_values.append(spec_test_split2)\n",
        "specificity_values.append(spec_test_split3)\n",
        "specificity_values.append(spec_test_split4)\n",
        "specificity_values.append(spec_test_split5)\n",
        "    \n",
        "print(specificity_values)\n",
        "\n",
        "# calculating the mean of sample set\n",
        "mean_specificity = statistics.mean(specificity_values)\n",
        "# Calculate standard deviation of sensitivity\n",
        "specificity_sd = statistics.stdev(specificity_values)\n",
        "\n",
        "print(\"Mean Specificity:\", mean_specificity)\n",
        "print(\"Specificity Standard Deviation:\", specificity_sd)\n",
        "\n",
        "# Print mean specificity with standard deviation\n",
        "print(\"Overall Specificity: %.2f ± %.2f%%\" % (mean_specificity, specificity_sd))"
      ],
      "metadata": {
        "colab": {
          "base_uri": "https://localhost:8080/"
        },
        "id": "VEn7HaYolezW",
        "outputId": "787841b7-ecf1-4552-d282-89eca6aed810"
      },
      "execution_count": null,
      "outputs": [
        {
          "output_type": "stream",
          "name": "stdout",
          "text": [
            "[97.82608695652173, 97.82608695652173, 95.65217391304348, 95.65217391304348, 100.0]\n",
            "Mean Specificity: 97.3913043478261\n",
            "Specificity Standard Deviation: 1.8188261446392915\n",
            "Overall Specificity: 97.39 ± 1.82%\n"
          ]
        }
      ]
    },
    {
      "cell_type": "code",
      "source": [
        "accuracy_values = []\n",
        "\n",
        "accuracy_values.append(acc_test_split1)\n",
        "accuracy_values.append(acc_test_split2)\n",
        "accuracy_values.append(acc_test_split3)\n",
        "accuracy_values.append(acc_test_split4)\n",
        "accuracy_values.append(acc_test_split5)\n",
        "\n",
        "print(accuracy_values)\n",
        "\n",
        "# calculating the mean of sample set\n",
        "mean_accuracy = statistics.mean(accuracy_values)\n",
        "# Calculate standard deviation of sensitivity\n",
        "accuracy_sd = statistics.stdev(accuracy_values)\n",
        "\n",
        "print(\"Mean accuracy:\", mean_accuracy)\n",
        "print(\"accuracy Standard Deviation:\", accuracy_sd)\n",
        "\n",
        "# Print mean accuracy with standard deviation\n",
        "print(\"Overall accuracy: %.2f ± %.2f%%\" % (mean_accuracy, accuracy_sd))"
      ],
      "metadata": {
        "colab": {
          "base_uri": "https://localhost:8080/"
        },
        "id": "U9UJgIuMlh6D",
        "outputId": "a4045fee-9183-4938-aff1-f9052c6b5961"
      },
      "execution_count": null,
      "outputs": [
        {
          "output_type": "stream",
          "name": "stdout",
          "text": [
            "[91.22807017543859, 90.35087719298247, 90.35087719298247, 90.35087719298247, 90.35087719298247]\n",
            "Mean accuracy: 90.52631578947368\n",
            "accuracy Standard Deviation: 0.3922926276315341\n",
            "Overall accuracy: 90.53 ± 0.39%\n"
          ]
        }
      ]
    },
    {
      "cell_type": "code",
      "source": [
        "pre_values = []\n",
        "\n",
        "pre_values.append(pre_split1)\n",
        "pre_values.append(pre_split2)\n",
        "pre_values.append(pre_split3)\n",
        "pre_values.append(pre_split4)\n",
        "pre_values.append(pre_split5)\n",
        "    \n",
        "print(pre_values)\n",
        "\n",
        "# calculating the mean of sample set\n",
        "mean_pre = statistics.mean(pre_values)\n",
        "# Calculate standard deviation of sensitivity\n",
        "pre_sd = statistics.stdev(pre_values)\n",
        "\n",
        "print(\"Mean precision:\", mean_pre)\n",
        "print(\" Precision Standard Deviation:\", pre_sd)\n",
        "\n",
        "# Print mean specificity with standard deviation\n",
        "print(\"Overall Precision: %.2f ± %.2f%%\" % (mean_pre, pre_sd))"
      ],
      "metadata": {
        "colab": {
          "base_uri": "https://localhost:8080/"
        },
        "id": "2mRtLgsi1DsR",
        "outputId": "d554d6e0-c934-48a3-b4b2-d9df7009d087"
      },
      "execution_count": null,
      "outputs": [
        {
          "output_type": "stream",
          "name": "stdout",
          "text": [
            "[98.33333333333333, 98.30508474576271, 96.72131147540983, 96.72131147540983, 100.0]\n",
            "Mean precision: 98.01620820598315\n",
            " Precision Standard Deviation: 1.3668360334490928\n",
            "Overall Precision: 98.02 ± 1.37%\n"
          ]
        }
      ]
    },
    {
      "cell_type": "code",
      "source": [
        "f1_values = []\n",
        "\n",
        "f1_values.append(f1_test_split1)\n",
        "f1_values.append(f1_test_split2)\n",
        "f1_values.append(f1_test_split3)\n",
        "f1_values.append(f1_test_split4)\n",
        "f1_values.append(f1_test_split5)\n",
        "    \n",
        "print(f1_values)\n",
        "\n",
        "# calculating the mean of sample set\n",
        "mean_f1 = statistics.mean(f1_values)\n",
        "# Calculate standard deviation of sensitivity\n",
        "f1_sd = statistics.stdev(f1_values)\n",
        "\n",
        "print(\"Mean f1:\", mean_f1)\n",
        "print(\"f1 Standard Deviation:\", f1_sd)\n",
        "\n",
        "# Print mean specificity with standard deviation\n",
        "print(\"Overall f1: %.2f ± %.2f%%\" % (mean_f1, f1_sd))"
      ],
      "metadata": {
        "colab": {
          "base_uri": "https://localhost:8080/"
        },
        "id": "HqNp-T9PlkCf",
        "outputId": "74403d0c-8657-4b8c-899e-d79a214c8bea"
      },
      "execution_count": null,
      "outputs": [
        {
          "output_type": "stream",
          "name": "stdout",
          "text": [
            "[92.1875, 91.33858267716533, 91.47286821705427, 91.47286821705427, 91.2]\n",
            "Mean f1: 91.53436382225478\n",
            "f1 Standard Deviation: 0.3821909561995641\n",
            "Overall f1: 91.53 ± 0.38%\n"
          ]
        }
      ]
    },
    {
      "cell_type": "code",
      "source": [
        "auc_values = []\n",
        "\n",
        "auc_values.append(auc_test_split1)\n",
        "auc_values.append(auc_test_split2)\n",
        "auc_values.append(auc_test_split3)\n",
        "auc_values.append(auc_test_split4)\n",
        "auc_values.append(auc_test_split5)\n",
        "    \n",
        "print(auc_values)\n",
        "\n",
        "# calculating the mean of sample set\n",
        "mean_auc = statistics.mean(auc_values)\n",
        "# Calculate standard deviation of sensitivity\n",
        "auc_sd = statistics.stdev(auc_values)\n",
        "\n",
        "print(\"Mean auc:\", mean_auc)\n",
        "print(\"auc Standard Deviation:\", auc_sd)\n",
        "\n",
        "# Print mean auc with standard deviation\n",
        "print(\"Overall auc: %.2f ± %.2f%%\" % (mean_auc, auc_sd))"
      ],
      "metadata": {
        "colab": {
          "base_uri": "https://localhost:8080/"
        },
        "id": "JOOnbuKDlmUD",
        "outputId": "11f9c3fd-4649-4ef5-fd1f-754d659fd5e3"
      },
      "execution_count": null,
      "outputs": [
        {
          "output_type": "stream",
          "name": "stdout",
          "text": [
            "[0.9229539641943734, 0.9156010230179029, 0.9120843989769821, 0.9120843989769821, 0.9191176470588236]\n",
            "Mean auc: 0.9163682864450128\n",
            "auc Standard Deviation: 0.004696333997047002\n",
            "Overall auc: 0.92 ± 0.00%\n"
          ]
        }
      ]
    },
    {
      "cell_type": "markdown",
      "source": [
        "อันล่างไม่เกี่ยว"
      ],
      "metadata": {
        "id": "uY0CgYzW25Da"
      }
    },
    {
      "cell_type": "code",
      "source": [
        "auc_values = []\n",
        "\n",
        "auc_values.append(71.79)\n",
        "auc_values.append(28.57)\n",
        "auc_values.append(68.37)\n",
        "auc_values.append(73.28)\n",
        "auc_values.append(49.22)\n",
        "    \n",
        "print(auc_values)\n",
        "\n",
        "# calculating the mean of sample set\n",
        "mean_auc = statistics.mean(auc_values)\n",
        "# Calculate standard deviation of sensitivity\n",
        "auc_sd = statistics.stdev(auc_values)\n",
        "\n",
        "print(\"Mean Specificity:\", mean_auc)\n",
        "print(\"auc Standard Deviation:\", auc_sd)\n",
        "\n",
        "# Print mean auc with standard deviation\n",
        "print(\"Mean auc: %.2f ± %.2f%%\" % (mean_auc, auc_sd))"
      ],
      "metadata": {
        "colab": {
          "base_uri": "https://localhost:8080/"
        },
        "id": "a2ALEqClloij",
        "outputId": "c34dc524-e52c-4d40-bb02-913ecf65a4db"
      },
      "execution_count": null,
      "outputs": [
        {
          "output_type": "stream",
          "name": "stdout",
          "text": [
            "[71.79, 28.57, 68.37, 73.28, 49.22]\n",
            "Mean Specificity: 58.246\n",
            "auc Standard Deviation: 19.196940641675173\n",
            "Mean auc: 58.25 ± 19.20%\n"
          ]
        }
      ]
    }
  ]
}