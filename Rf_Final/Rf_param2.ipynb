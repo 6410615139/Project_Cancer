{
  "nbformat": 4,
  "nbformat_minor": 0,
  "metadata": {
    "colab": {
      "provenance": [],
      "collapsed_sections": [
        "B1-2dfc_Wnfo",
        "xjj72no2bdYN",
        "fEXiXB1vgEM0",
        "yiJfD4O3hymV",
        "B5WZc3NUj25x"
      ]
    },
    "kernelspec": {
      "name": "python3",
      "display_name": "Python 3"
    },
    "language_info": {
      "name": "python"
    }
  },
  "cells": [
    {
      "cell_type": "code",
      "execution_count": null,
      "metadata": {
        "id": "1-S9O52jRHGf"
      },
      "outputs": [],
      "source": [
        "import pandas as pd\n",
        "import matplotlib.pyplot as plt\n",
        "import numpy as np\n",
        "import seaborn as sns\n",
        "import statistics\n",
        "\n",
        "# import accuracy score function\n",
        "from sklearn.metrics import accuracy_score\n",
        "from sklearn.preprocessing import LabelEncoder\n",
        "from sklearn.model_selection import train_test_split, GridSearchCV\n",
        "from sklearn.metrics import confusion_matrix, roc_curve, roc_auc_score\n",
        "from sklearn.ensemble import RandomForestClassifier\n",
        "from sklearn.model_selection import train_test_split\n",
        "from sklearn.preprocessing import StandardScaler"
      ]
    },
    {
      "cell_type": "markdown",
      "source": [
        "function"
      ],
      "metadata": {
        "id": "ipxdKfLRRKfk"
      }
    },
    {
      "cell_type": "code",
      "source": [
        "# # tn, fp, fn, tp = each_index(cm)\n",
        "def each_index(metrix):\n",
        "    TN = metrix[0][0]\n",
        "    FP = metrix[0][1]\n",
        "    FN = metrix[1][0]\n",
        "    TP = metrix[1][1]\n",
        "    return TN, FP, FN, TP"
      ],
      "metadata": {
        "id": "RILE41BzRL1h"
      },
      "execution_count": null,
      "outputs": []
    },
    {
      "cell_type": "code",
      "source": [
        "def sensitivity(metrix):\n",
        "    TN, FP, FN, TP = each_index(metrix)\n",
        "    # Calculate sensitivity\n",
        "    sensitivity = TP / (TP + FN) * 100\n",
        "    print(\"Sensitivity: %.2f%%\" % sensitivity)\n",
        "    return sensitivity"
      ],
      "metadata": {
        "id": "XaA037G-RQ9A"
      },
      "execution_count": null,
      "outputs": []
    },
    {
      "cell_type": "code",
      "source": [
        "def specificity(metrix):\n",
        "    TN, FP, FN, TP = each_index(metrix)\n",
        "    # Calculate specificity\n",
        "    specificity = TN / (TN + FP) * 100\n",
        "    print(\"Specificity: %.2f%%\" % specificity)\n",
        "    return specificity"
      ],
      "metadata": {
        "id": "WYakedxTRTEa"
      },
      "execution_count": null,
      "outputs": []
    },
    {
      "cell_type": "code",
      "source": [
        "def accuracy(metrix):\n",
        "    TN, FP, FN, TP = each_index(metrix)\n",
        "    # Calculate accuracy\n",
        "    accuracy = ((TP + TN) / (TP + TN + FP + FN)) *100\n",
        "    print(\"Accuracy: %.2f%%\" % accuracy)\n",
        "    return accuracy"
      ],
      "metadata": {
        "id": "cJ-P9XakRWBU"
      },
      "execution_count": null,
      "outputs": []
    },
    {
      "cell_type": "code",
      "source": [
        "def precision(metrix):\n",
        "    TN, FP, FN, TP = each_index(metrix)\n",
        "    # Calculate accuracy\n",
        "    precision = (TP / (TP + FP)) *100\n",
        "    print(\"Precision: %.2f%%\" % precision)\n",
        "    return precision"
      ],
      "metadata": {
        "id": "xwci8YhdRYAV"
      },
      "execution_count": null,
      "outputs": []
    },
    {
      "cell_type": "code",
      "source": [
        "def f1(metrix):\n",
        "    TN, FP, FN, TP = each_index(metrix)\n",
        "    # Calculate f1\n",
        "    recall = sensitivity(metrix)\n",
        "    pre = precision(metrix)\n",
        "    f1 = ((2*pre*recall) / (pre+recall))\n",
        "    print(\"F1: %.2f%%\" % f1)\n",
        "    return f1"
      ],
      "metadata": {
        "id": "PEt3bTTMRaCP"
      },
      "execution_count": null,
      "outputs": []
    },
    {
      "cell_type": "markdown",
      "source": [
        "## split1"
      ],
      "metadata": {
        "id": "4AXHBvw2RapI"
      }
    },
    {
      "cell_type": "markdown",
      "source": [
        "training set"
      ],
      "metadata": {
        "id": "G_YPhWHgRyLa"
      }
    },
    {
      "cell_type": "code",
      "source": [
        "train_data = pd.read_csv(\"oversampled_train_split1.csv\")\n",
        "train_data.shape"
      ],
      "metadata": {
        "colab": {
          "base_uri": "https://localhost:8080/"
        },
        "id": "KebU_vdMR1eG",
        "outputId": "992a808f-4270-432c-8a84-54b19c63165a"
      },
      "execution_count": null,
      "outputs": [
        {
          "output_type": "execute_result",
          "data": {
            "text/plain": [
              "(518, 32)"
            ]
          },
          "metadata": {},
          "execution_count": 16
        }
      ]
    },
    {
      "cell_type": "code",
      "source": [
        "x_train = train_data[train_data.columns[2:]]\n",
        "x_train.shape"
      ],
      "metadata": {
        "colab": {
          "base_uri": "https://localhost:8080/"
        },
        "id": "uTXCSX4wR5Iz",
        "outputId": "549315b1-331f-4f1e-8d23-f2499c351c94"
      },
      "execution_count": null,
      "outputs": [
        {
          "output_type": "execute_result",
          "data": {
            "text/plain": [
              "(518, 30)"
            ]
          },
          "metadata": {},
          "execution_count": 17
        }
      ]
    },
    {
      "cell_type": "code",
      "source": [
        "y_train = train_data[train_data.columns[1]]\n",
        "#y_train.shape\n",
        "le = LabelEncoder()\n",
        "y_train = np.array(le.fit_transform(y_train))\n",
        "print(le.classes_)"
      ],
      "metadata": {
        "colab": {
          "base_uri": "https://localhost:8080/"
        },
        "id": "UZDltFJ7R68u",
        "outputId": "afb45043-675f-4f5c-b8cb-273de064c8ba"
      },
      "execution_count": null,
      "outputs": [
        {
          "output_type": "stream",
          "name": "stdout",
          "text": [
            "['B' 'M']\n"
          ]
        }
      ]
    },
    {
      "cell_type": "markdown",
      "source": [
        "Testing set"
      ],
      "metadata": {
        "id": "JXw9r2_aR-w_"
      }
    },
    {
      "cell_type": "code",
      "source": [
        "test_data = pd.read_csv(\"test.csv\")\n",
        "test_data.shape"
      ],
      "metadata": {
        "colab": {
          "base_uri": "https://localhost:8080/"
        },
        "id": "LzM7mPCaR_QW",
        "outputId": "875e513b-f524-4391-8f23-9073e0d44fca"
      },
      "execution_count": null,
      "outputs": [
        {
          "output_type": "execute_result",
          "data": {
            "text/plain": [
              "(114, 33)"
            ]
          },
          "metadata": {},
          "execution_count": 19
        }
      ]
    },
    {
      "cell_type": "code",
      "source": [
        "x_test = test_data[test_data.columns[3:]] #5fold new use3\n",
        "x_test.shape"
      ],
      "metadata": {
        "colab": {
          "base_uri": "https://localhost:8080/"
        },
        "id": "ixoWFCWhSBwp",
        "outputId": "1975c4f2-bb02-4073-c97e-6d3ac386dbce"
      },
      "execution_count": null,
      "outputs": [
        {
          "output_type": "execute_result",
          "data": {
            "text/plain": [
              "(114, 30)"
            ]
          },
          "metadata": {},
          "execution_count": 20
        }
      ]
    },
    {
      "cell_type": "code",
      "source": [
        "y_test = test_data[test_data.columns[2]] #5fold new use2\n",
        "#y_test.shape\n",
        "le = LabelEncoder()\n",
        "y_test = np.array(le.fit_transform(y_test))\n",
        "print(le.classes_)"
      ],
      "metadata": {
        "colab": {
          "base_uri": "https://localhost:8080/"
        },
        "id": "9bn7mQQ1SDWe",
        "outputId": "23ffecbe-25ef-420b-a731-793a2ab5b453"
      },
      "execution_count": null,
      "outputs": [
        {
          "output_type": "stream",
          "name": "stdout",
          "text": [
            "['B' 'M']\n"
          ]
        }
      ]
    },
    {
      "cell_type": "markdown",
      "source": [
        "Validation set"
      ],
      "metadata": {
        "id": "HuOgCOw2SG9R"
      }
    },
    {
      "cell_type": "code",
      "source": [
        "val_data = pd.read_csv(\"val_split1.csv\")\n",
        "val_data.shape"
      ],
      "metadata": {
        "colab": {
          "base_uri": "https://localhost:8080/"
        },
        "id": "feoEtVwESE9k",
        "outputId": "1547c12d-3eba-4aa4-8f76-95287da4405a"
      },
      "execution_count": null,
      "outputs": [
        {
          "output_type": "execute_result",
          "data": {
            "text/plain": [
              "(91, 32)"
            ]
          },
          "metadata": {},
          "execution_count": 22
        }
      ]
    },
    {
      "cell_type": "code",
      "source": [
        "x_val = val_data[val_data.columns[2:]]\n",
        "x_val.shape"
      ],
      "metadata": {
        "colab": {
          "base_uri": "https://localhost:8080/"
        },
        "id": "Fcw2a6geSJVl",
        "outputId": "908a94eb-e623-44c4-daa4-f835a9448912"
      },
      "execution_count": null,
      "outputs": [
        {
          "output_type": "execute_result",
          "data": {
            "text/plain": [
              "(91, 30)"
            ]
          },
          "metadata": {},
          "execution_count": 23
        }
      ]
    },
    {
      "cell_type": "code",
      "source": [
        "y_val = val_data[val_data.columns[1]]\n",
        "#y_val.shape\n",
        "le = LabelEncoder()\n",
        "y_val = np.array(le.fit_transform(y_val))\n",
        "print(le.classes_)"
      ],
      "metadata": {
        "colab": {
          "base_uri": "https://localhost:8080/"
        },
        "id": "Hm17zEAbSOLd",
        "outputId": "838c6e52-167b-4d36-b936-9ce17361bf8e"
      },
      "execution_count": null,
      "outputs": [
        {
          "output_type": "stream",
          "name": "stdout",
          "text": [
            "['B' 'M']\n"
          ]
        }
      ]
    },
    {
      "cell_type": "markdown",
      "source": [
        "step train"
      ],
      "metadata": {
        "id": "a_IbpdmsSdw7"
      }
    },
    {
      "cell_type": "code",
      "source": [
        "x_train = x_train.to_numpy()\n",
        "x_test = x_test.to_numpy()\n",
        "x_val = x_val.to_numpy()"
      ],
      "metadata": {
        "id": "VcCQfqA5SPPm"
      },
      "execution_count": null,
      "outputs": []
    },
    {
      "cell_type": "code",
      "source": [
        "from sklearn.model_selection import train_test_split\n",
        "\n",
        "print(\"Shape of training set:\", x_train.shape)\n",
        "print(\"Shape of test set:\", x_test.shape)"
      ],
      "metadata": {
        "colab": {
          "base_uri": "https://localhost:8080/"
        },
        "id": "RrVzl6SIShzK",
        "outputId": "0dd1327f-0937-43e2-8eeb-620167098b6f"
      },
      "execution_count": null,
      "outputs": [
        {
          "output_type": "stream",
          "name": "stdout",
          "text": [
            "Shape of training set: (518, 30)\n",
            "Shape of test set: (114, 30)\n"
          ]
        }
      ]
    },
    {
      "cell_type": "code",
      "source": [
        "from sklearn.preprocessing import StandardScaler\n",
        "\n",
        "ss = StandardScaler()\n",
        "X_train = ss.fit_transform(x_train)\n",
        "X_test = ss.fit_transform(x_test)\n",
        "X_val = ss.fit_transform(x_val)"
      ],
      "metadata": {
        "id": "tILNoMV-SnzT"
      },
      "execution_count": null,
      "outputs": []
    },
    {
      "cell_type": "markdown",
      "source": [
        " หาparameter"
      ],
      "metadata": {
        "id": "l-1JtZrITZ-Q"
      }
    },
    {
      "cell_type": "code",
      "source": [
        "# instantiate classifier ,ยกตัวอย่างclassifier \n",
        "#rf_classifier = RandomForestClassifier(random_state=42, n_estimators=10)"
      ],
      "metadata": {
        "id": "ZQwGEQGZTa4o"
      },
      "execution_count": null,
      "outputs": []
    },
    {
      "cell_type": "code",
      "source": [
        "# give to GridSearchCV\n",
        "#param_dist = {'max_depth': [2, 3, 4],\n",
        "#             'bootstrap': [True, False],\n",
        "#              'max_features': ['auto', 'sqrt', 'log2', None],\n",
        "#              'criterion': ['gini', 'entropy']}\n",
        "\n",
        "# set up the GridSearch\n",
        "#cv_rf = GridSearchCV(rf_classifier, cv = 5,param_grid=param_dist,n_jobs = 3)\n",
        "\n",
        "# fit the GridSearch\n",
        "#cv_rf.fit(X_train, y_train)\n",
        "#cv_rf.fit(X_val, y_val) #ใช้อันนี้\n",
        "#print('Best Parameters using grid search: \\n', cv_rf.best_params_)\n",
        "\n",
        "#print('Best criterion parameter:', cv_rf.best_params_['criterion'])\n",
        "#print('Best max_depth parameter:', cv_rf.best_params_['max_depth'])\n",
        "#print('Best bootstrap parameter:', cv_rf.best_params_['bootstrap'])\n",
        "#print('Best max_features parameter:', cv_rf.best_params_['max_features'])\n",
        "#print('Best score:', cv_rf.best_score_)\n"
      ],
      "metadata": {
        "id": "G8AbFgNCTfIy"
      },
      "execution_count": null,
      "outputs": []
    },
    {
      "cell_type": "code",
      "source": [
        "# Set best parameters given by grid search \n",
        "#rf_classifier.set_params(criterion = 'entropy',\n",
        " #                 max_features = 'auto', 3\n",
        "#                max_depth = 3, \n",
        "#            )"
      ],
      "metadata": {
        "id": "eZvWERLTTq1J"
      },
      "execution_count": null,
      "outputs": []
    },
    {
      "cell_type": "markdown",
      "source": [
        "Best Parameters using grid search: \n",
        " {'bootstrap': False, 'criterion': 'entropy', 'max_depth': 3, 'max_features': 'auto'}\n",
        "Best criterion parameter: entropy\n",
        "Best max_depth parameter: 3\n",
        "Best bootstrap parameter: False\n",
        "Best max_features parameter: auto\n",
        "\n",
        "**Best score: 0.9456140350877194**"
      ],
      "metadata": {
        "id": "nJ7Kmg54YbnH"
      }
    },
    {
      "cell_type": "code",
      "source": [
        "from sklearn.ensemble import RandomForestClassifier\n",
        "\n",
        "rand_clf = RandomForestClassifier(criterion = 'entropy', max_depth = 4, max_features = 'log2', min_samples_leaf = 2, min_samples_split = 3, n_estimators = 130)\n",
        "rand_clf.fit(X_train, y_train) # map"
      ],
      "metadata": {
        "colab": {
          "base_uri": "https://localhost:8080/",
          "height": 108
        },
        "id": "IiVJhZyIVEIW",
        "outputId": "044e3e91-f9db-44c0-aa29-c52e25daad9c"
      },
      "execution_count": null,
      "outputs": [
        {
          "output_type": "execute_result",
          "data": {
            "text/plain": [
              "RandomForestClassifier(criterion='entropy', max_depth=4, max_features='log2',\n",
              "                       min_samples_leaf=2, min_samples_split=3,\n",
              "                       n_estimators=130)"
            ],
            "text/html": [
              "<style>#sk-container-id-1 {color: black;background-color: white;}#sk-container-id-1 pre{padding: 0;}#sk-container-id-1 div.sk-toggleable {background-color: white;}#sk-container-id-1 label.sk-toggleable__label {cursor: pointer;display: block;width: 100%;margin-bottom: 0;padding: 0.3em;box-sizing: border-box;text-align: center;}#sk-container-id-1 label.sk-toggleable__label-arrow:before {content: \"▸\";float: left;margin-right: 0.25em;color: #696969;}#sk-container-id-1 label.sk-toggleable__label-arrow:hover:before {color: black;}#sk-container-id-1 div.sk-estimator:hover label.sk-toggleable__label-arrow:before {color: black;}#sk-container-id-1 div.sk-toggleable__content {max-height: 0;max-width: 0;overflow: hidden;text-align: left;background-color: #f0f8ff;}#sk-container-id-1 div.sk-toggleable__content pre {margin: 0.2em;color: black;border-radius: 0.25em;background-color: #f0f8ff;}#sk-container-id-1 input.sk-toggleable__control:checked~div.sk-toggleable__content {max-height: 200px;max-width: 100%;overflow: auto;}#sk-container-id-1 input.sk-toggleable__control:checked~label.sk-toggleable__label-arrow:before {content: \"▾\";}#sk-container-id-1 div.sk-estimator input.sk-toggleable__control:checked~label.sk-toggleable__label {background-color: #d4ebff;}#sk-container-id-1 div.sk-label input.sk-toggleable__control:checked~label.sk-toggleable__label {background-color: #d4ebff;}#sk-container-id-1 input.sk-hidden--visually {border: 0;clip: rect(1px 1px 1px 1px);clip: rect(1px, 1px, 1px, 1px);height: 1px;margin: -1px;overflow: hidden;padding: 0;position: absolute;width: 1px;}#sk-container-id-1 div.sk-estimator {font-family: monospace;background-color: #f0f8ff;border: 1px dotted black;border-radius: 0.25em;box-sizing: border-box;margin-bottom: 0.5em;}#sk-container-id-1 div.sk-estimator:hover {background-color: #d4ebff;}#sk-container-id-1 div.sk-parallel-item::after {content: \"\";width: 100%;border-bottom: 1px solid gray;flex-grow: 1;}#sk-container-id-1 div.sk-label:hover label.sk-toggleable__label {background-color: #d4ebff;}#sk-container-id-1 div.sk-serial::before {content: \"\";position: absolute;border-left: 1px solid gray;box-sizing: border-box;top: 0;bottom: 0;left: 50%;z-index: 0;}#sk-container-id-1 div.sk-serial {display: flex;flex-direction: column;align-items: center;background-color: white;padding-right: 0.2em;padding-left: 0.2em;position: relative;}#sk-container-id-1 div.sk-item {position: relative;z-index: 1;}#sk-container-id-1 div.sk-parallel {display: flex;align-items: stretch;justify-content: center;background-color: white;position: relative;}#sk-container-id-1 div.sk-item::before, #sk-container-id-1 div.sk-parallel-item::before {content: \"\";position: absolute;border-left: 1px solid gray;box-sizing: border-box;top: 0;bottom: 0;left: 50%;z-index: -1;}#sk-container-id-1 div.sk-parallel-item {display: flex;flex-direction: column;z-index: 1;position: relative;background-color: white;}#sk-container-id-1 div.sk-parallel-item:first-child::after {align-self: flex-end;width: 50%;}#sk-container-id-1 div.sk-parallel-item:last-child::after {align-self: flex-start;width: 50%;}#sk-container-id-1 div.sk-parallel-item:only-child::after {width: 0;}#sk-container-id-1 div.sk-dashed-wrapped {border: 1px dashed gray;margin: 0 0.4em 0.5em 0.4em;box-sizing: border-box;padding-bottom: 0.4em;background-color: white;}#sk-container-id-1 div.sk-label label {font-family: monospace;font-weight: bold;display: inline-block;line-height: 1.2em;}#sk-container-id-1 div.sk-label-container {text-align: center;}#sk-container-id-1 div.sk-container {/* jupyter's `normalize.less` sets `[hidden] { display: none; }` but bootstrap.min.css set `[hidden] { display: none !important; }` so we also need the `!important` here to be able to override the default hidden behavior on the sphinx rendered scikit-learn.org. See: https://github.com/scikit-learn/scikit-learn/issues/21755 */display: inline-block !important;position: relative;}#sk-container-id-1 div.sk-text-repr-fallback {display: none;}</style><div id=\"sk-container-id-1\" class=\"sk-top-container\"><div class=\"sk-text-repr-fallback\"><pre>RandomForestClassifier(criterion=&#x27;entropy&#x27;, max_depth=4, max_features=&#x27;log2&#x27;,\n",
              "                       min_samples_leaf=2, min_samples_split=3,\n",
              "                       n_estimators=130)</pre><b>In a Jupyter environment, please rerun this cell to show the HTML representation or trust the notebook. <br />On GitHub, the HTML representation is unable to render, please try loading this page with nbviewer.org.</b></div><div class=\"sk-container\" hidden><div class=\"sk-item\"><div class=\"sk-estimator sk-toggleable\"><input class=\"sk-toggleable__control sk-hidden--visually\" id=\"sk-estimator-id-1\" type=\"checkbox\" checked><label for=\"sk-estimator-id-1\" class=\"sk-toggleable__label sk-toggleable__label-arrow\">RandomForestClassifier</label><div class=\"sk-toggleable__content\"><pre>RandomForestClassifier(criterion=&#x27;entropy&#x27;, max_depth=4, max_features=&#x27;log2&#x27;,\n",
              "                       min_samples_leaf=2, min_samples_split=3,\n",
              "                       n_estimators=130)</pre></div></div></div></div></div>"
            ]
          },
          "metadata": {},
          "execution_count": 31
        }
      ]
    },
    {
      "cell_type": "code",
      "source": [
        "y_pred = rand_clf.predict(X_test) "
      ],
      "metadata": {
        "id": "zJOUIiUFVVda"
      },
      "execution_count": null,
      "outputs": []
    },
    {
      "cell_type": "code",
      "source": [
        "y_pred"
      ],
      "metadata": {
        "colab": {
          "base_uri": "https://localhost:8080/"
        },
        "id": "KQf26nuPVbAB",
        "outputId": "689a0703-6281-424b-ef49-6f9d4abf6f61"
      },
      "execution_count": null,
      "outputs": [
        {
          "output_type": "execute_result",
          "data": {
            "text/plain": [
              "array([1, 1, 1, 1, 1, 1, 1, 1, 1, 1, 1, 1, 1, 1, 1, 1, 1, 1, 1, 0, 0, 0,\n",
              "       1, 1, 1, 1, 1, 1, 1, 1, 1, 1, 1, 1, 1, 1, 0, 0, 1, 0, 0, 0, 1, 1,\n",
              "       0, 1, 0, 1, 0, 0, 0, 0, 0, 1, 1, 0, 1, 1, 0, 0, 0, 0, 1, 0, 1, 1,\n",
              "       0, 0, 0, 0, 1, 0, 1, 0, 0, 1, 0, 1, 1, 0, 0, 0, 1, 1, 0, 1, 1, 1,\n",
              "       0, 0, 0, 1, 0, 0, 1, 1, 0, 0, 0, 0, 0, 0, 0, 0, 0, 1, 0, 0, 1, 0,\n",
              "       0, 0, 0, 0])"
            ]
          },
          "metadata": {},
          "execution_count": 33
        }
      ]
    },
    {
      "cell_type": "code",
      "source": [
        "# accuracy score\n",
        "\n",
        "print(accuracy_score(y_train, rand_clf.predict(X_train)))\n",
        "\n",
        "ran_clf_acc = accuracy_score(y_test, y_pred)\n",
        "print(ran_clf_acc)"
      ],
      "metadata": {
        "colab": {
          "base_uri": "https://localhost:8080/"
        },
        "id": "RhYwID5SVb9J",
        "outputId": "9cbc6b94-6afb-4455-d608-1d00ea7678a1"
      },
      "execution_count": null,
      "outputs": [
        {
          "output_type": "stream",
          "name": "stdout",
          "text": [
            "0.9942084942084942\n",
            "0.9298245614035088\n"
          ]
        }
      ]
    },
    {
      "cell_type": "code",
      "source": [
        "from sklearn.metrics import confusion_matrix\n",
        "# confusion matrix\n",
        "\n",
        "print(confusion_matrix(y_test, y_pred))"
      ],
      "metadata": {
        "colab": {
          "base_uri": "https://localhost:8080/"
        },
        "id": "4UDSnhYfVh-y",
        "outputId": "0f6ad3b8-cf12-4685-9143-614045d4159e"
      },
      "execution_count": null,
      "outputs": [
        {
          "output_type": "stream",
          "name": "stdout",
          "text": [
            "[[46  0]\n",
            " [ 8 60]]\n"
          ]
        }
      ]
    },
    {
      "cell_type": "code",
      "source": [
        "from sklearn.metrics import classification_report\n",
        "# classification report\n",
        "\n",
        "print(classification_report(y_test, y_pred))"
      ],
      "metadata": {
        "colab": {
          "base_uri": "https://localhost:8080/"
        },
        "id": "1tj-XN7HVlUg",
        "outputId": "cf50642f-b069-4f3a-fc2a-9503c43c4823"
      },
      "execution_count": null,
      "outputs": [
        {
          "output_type": "stream",
          "name": "stdout",
          "text": [
            "              precision    recall  f1-score   support\n",
            "\n",
            "           0       0.85      1.00      0.92        46\n",
            "           1       1.00      0.88      0.94        68\n",
            "\n",
            "    accuracy                           0.93       114\n",
            "   macro avg       0.93      0.94      0.93       114\n",
            "weighted avg       0.94      0.93      0.93       114\n",
            "\n"
          ]
        }
      ]
    },
    {
      "cell_type": "markdown",
      "source": [
        "validate set"
      ],
      "metadata": {
        "id": "P9oqnBWfVxWl"
      }
    },
    {
      "cell_type": "code",
      "source": [
        "y_pred_val = rand_clf.predict(X_val)\n",
        "cm_val = confusion_matrix(y_val, y_pred_val)\n",
        "print('Confusion Matrix')\n",
        "print('-'*16)\n",
        "print(cm_val,'\\n')\n",
        "print('-'*16)"
      ],
      "metadata": {
        "colab": {
          "base_uri": "https://localhost:8080/"
        },
        "id": "7WTSrovJV3M7",
        "outputId": "2b72020f-29fc-439f-ac30-d61017c28671"
      },
      "execution_count": null,
      "outputs": [
        {
          "output_type": "stream",
          "name": "stdout",
          "text": [
            "Confusion Matrix\n",
            "----------------\n",
            "[[47  5]\n",
            " [ 1 38]] \n",
            "\n",
            "----------------\n"
          ]
        }
      ]
    },
    {
      "cell_type": "code",
      "source": [
        "# Calculate score\n",
        "sen_val = sensitivity(cm_val)\n",
        "spec_val = specificity(cm_val)\n",
        "acc_val = accuracy(cm_val)\n",
        "pre_val = precision(cm_val)\n",
        "f1_val = f1(cm_val)"
      ],
      "metadata": {
        "colab": {
          "base_uri": "https://localhost:8080/"
        },
        "id": "mOkGgAFmV5Vk",
        "outputId": "73d1a260-9873-4a4e-c845-aa12bc9130cf"
      },
      "execution_count": null,
      "outputs": [
        {
          "output_type": "stream",
          "name": "stdout",
          "text": [
            "Sensitivity: 97.44%\n",
            "Specificity: 90.38%\n",
            "Accuracy: 93.41%\n",
            "Precision: 88.37%\n",
            "Sensitivity: 97.44%\n",
            "Precision: 88.37%\n",
            "F1: 92.68%\n"
          ]
        }
      ]
    },
    {
      "cell_type": "code",
      "source": [
        "class_names = ['benign','malignant']\n",
        "# Normalize confusion matrix to percentage\n",
        "cm_norm_val = cm_val.astype('float') / cm_val.sum(axis=1)[:, np.newaxis]\n",
        "# Create plot\n",
        "fig, ax = plt.subplots()\n",
        "im = ax.imshow(cm_norm_val, interpolation='nearest', cmap=\"rocket_r\")\n",
        "ax.grid(False)\n",
        "# Add labels\n",
        "ax.set(xticks=np.arange(cm_norm_val.shape[1]),\n",
        "       yticks=np.arange(cm_norm_val.shape[0]),\n",
        "       xticklabels=class_names, yticklabels=class_names)\n",
        "ax.set_title(\"Validate set\", fontsize=16)\n",
        "ax.set_ylabel('Actual', fontsize=16)\n",
        "ax.set_xlabel('Predicted', fontsize=16)\n",
        "# Add percentage and count values inside plot\n",
        "thresh = cm_norm_val.max() / 2.\n",
        "for i in range(cm_norm_val.shape[0]):\n",
        "    for j in range(cm_norm_val.shape[1]):\n",
        "        ax.text(j, i, '''{}\\n({:.2f}%)'''.format(cm_val[i,j], cm_norm_val[i, j]*100),\n",
        "                ha=\"center\", va=\"center\",\n",
        "                color=\"white\" if cm_norm_val[i, j] > thresh else \"black\")\n",
        "# Show plot\n",
        "plt.show()"
      ],
      "metadata": {
        "colab": {
          "base_uri": "https://localhost:8080/",
          "height": 480
        },
        "id": "cLtIU5wvWARq",
        "outputId": "81b051e4-b916-4e6a-bab2-7a00d766ab17"
      },
      "execution_count": null,
      "outputs": [
        {
          "output_type": "display_data",
          "data": {
            "text/plain": [
              "<Figure size 640x480 with 1 Axes>"
            ],
            "image/png": "[encoded data removed]"
          },
          "metadata": {}
        }
      ]
    },
    {
      "cell_type": "markdown",
      "source": [
        "test set"
      ],
      "metadata": {
        "id": "sZBLTfIoWESS"
      }
    },
    {
      "cell_type": "code",
      "source": [
        "y_pred_test = rand_clf.predict(X_test)\n",
        "# Confusion matrix\n",
        "cm_test_split1 = confusion_matrix(y_test, y_pred_test)\n",
        "print('Confusion Matrix')\n",
        "print('-'*16)\n",
        "print(cm_test_split1,'\\n')\n",
        "print('-'*16)"
      ],
      "metadata": {
        "colab": {
          "base_uri": "https://localhost:8080/"
        },
        "id": "_wj7pLO1WFJO",
        "outputId": "c9d1e115-8f12-4a04-dbd2-1e5097eb343d"
      },
      "execution_count": null,
      "outputs": [
        {
          "output_type": "stream",
          "name": "stdout",
          "text": [
            "Confusion Matrix\n",
            "----------------\n",
            "[[46  0]\n",
            " [ 8 60]] \n",
            "\n",
            "----------------\n"
          ]
        }
      ]
    },
    {
      "cell_type": "code",
      "source": [
        "# Calculate score\n",
        "sen_test_split1 = sensitivity(cm_test_split1)\n",
        "spec_test_split1 = specificity(cm_test_split1)\n",
        "acc_test_split1 = accuracy(cm_test_split1)\n",
        "pre_test_split1 = precision(cm_test_split1)\n",
        "f1_test_split1 = f1(cm_test_split1)"
      ],
      "metadata": {
        "colab": {
          "base_uri": "https://localhost:8080/"
        },
        "id": "o1u15_HxWHgi",
        "outputId": "65091ade-1ed0-474b-bca7-9625b053dd36"
      },
      "execution_count": null,
      "outputs": [
        {
          "output_type": "stream",
          "name": "stdout",
          "text": [
            "Sensitivity: 88.24%\n",
            "Specificity: 100.00%\n",
            "Accuracy: 92.98%\n",
            "Precision: 100.00%\n",
            "Sensitivity: 88.24%\n",
            "Precision: 100.00%\n",
            "F1: 93.75%\n"
          ]
        }
      ]
    },
    {
      "cell_type": "code",
      "source": [
        "# plot confusion matrix\n",
        "class_names = ['benign','malignant']\n",
        "# Normalize confusion matrix to percentage\n",
        "cm_norm_test = cm_test_split1.astype('float') / cm_test_split1.sum(axis=1)[:, np.newaxis]\n",
        "# Create plot\n",
        "fig, ax = plt.subplots()\n",
        "im = ax.imshow(cm_norm_test, interpolation='nearest', cmap=\"rocket_r\")\n",
        "ax.grid(False)\n",
        "# Add labels\n",
        "ax.set(xticks=np.arange(cm_norm_test.shape[1]),\n",
        "       yticks=np.arange(cm_norm_test.shape[0]),\n",
        "       xticklabels=class_names, yticklabels=class_names)\n",
        "ax.set_title(\"Test set\", fontsize=16)\n",
        "ax.set_ylabel('Actual', fontsize=16)\n",
        "ax.set_xlabel('Predicted', fontsize=16)\n",
        "# Add percentage and count values inside plot\n",
        "thresh = cm_norm_test.max() / 2.\n",
        "for i in range(cm_norm_test.shape[0]):\n",
        "    for j in range(cm_norm_test.shape[1]):\n",
        "        ax.text(j, i, '''{}\\n({:.2f}%)'''.format(cm_test_split1[i,j], cm_norm_test[i, j]*100),\n",
        "                ha=\"center\", va=\"center\",\n",
        "                color=\"white\" if cm_norm_test[i, j] > thresh else \"black\")\n",
        "# Show plot\n",
        "plt.show()"
      ],
      "metadata": {
        "colab": {
          "base_uri": "https://localhost:8080/",
          "height": 480
        },
        "id": "lYT40TrCWLEY",
        "outputId": "6f85e40d-0066-4376-a055-55dfc114b724"
      },
      "execution_count": null,
      "outputs": [
        {
          "output_type": "display_data",
          "data": {
            "text/plain": [
              "<Figure size 640x480 with 1 Axes>"
            ],
            "image/png": "[encoded data removed]"
          },
          "metadata": {}
        }
      ]
    },
    {
      "cell_type": "markdown",
      "source": [
        "plot ROC curve"
      ],
      "metadata": {
        "id": "dOZEEo1TWOgO"
      }
    },
    {
      "cell_type": "code",
      "source": [
        "fpr1, tpr1, thr1 = roc_curve(y_val, y_pred_val)\n",
        "auc_val = roc_auc_score(y_val, y_pred_val)\n",
        "fpr2, tpr2, thr2 = roc_curve(y_test, y_pred_test)\n",
        "auc_test_split1 = roc_auc_score(y_test, y_pred_test)\n",
        "\n",
        "print(\"---------------------------------------\")\n",
        "print(\"AUC validate: %.4f\" % auc_val)\n",
        "print(\"AUC test: %.4f\" % auc_test_split1)"
      ],
      "metadata": {
        "colab": {
          "base_uri": "https://localhost:8080/"
        },
        "id": "rfjmsloeWPDH",
        "outputId": "5ffd884e-426c-45c9-902b-c0590ddba41b"
      },
      "execution_count": null,
      "outputs": [
        {
          "output_type": "stream",
          "name": "stdout",
          "text": [
            "---------------------------------------\n",
            "AUC validate: 0.9391\n",
            "AUC test: 0.9412\n"
          ]
        }
      ]
    },
    {
      "cell_type": "code",
      "source": [
        "# plt.plot(fpr,tpr,label=\"data 1, auc=\"+str(auc),color='red')\n",
        "plt.plot(fpr1,tpr1,label=\"ROC valid, auc=\"+str(\"%.4f\" % auc_val))\n",
        "plt.plot(fpr2,tpr2,label=\"ROC test, auc=\"+str(\"%.4f\" % auc_test_split1))\n",
        "plt.plot([0, 1], [0, 1], linestyle=\"--\", lw=2, color=\"r\", label=\"Chance\", alpha=0.8)\n",
        "plt.legend(loc=4)\n",
        "plt.show()"
      ],
      "metadata": {
        "colab": {
          "base_uri": "https://localhost:8080/",
          "height": 430
        },
        "id": "zMGLZHpvWdqQ",
        "outputId": "cc662c47-68f6-4440-cfbc-9cb96a6a1d70"
      },
      "execution_count": null,
      "outputs": [
        {
          "output_type": "display_data",
          "data": {
            "text/plain": [
              "<Figure size 640x480 with 1 Axes>"
            ],
            "image/png": "[encoded data removed]"
          },
          "metadata": {}
        }
      ]
    },
    {
      "cell_type": "markdown",
      "source": [
        "## Split2"
      ],
      "metadata": {
        "id": "B1-2dfc_Wnfo"
      }
    },
    {
      "cell_type": "markdown",
      "source": [
        "Training set"
      ],
      "metadata": {
        "id": "Csv3STqXWuqz"
      }
    },
    {
      "cell_type": "code",
      "source": [
        "train_data = pd.read_csv(\"oversampled_train_split2.csv\")\n",
        "train_data.shape"
      ],
      "metadata": {
        "colab": {
          "base_uri": "https://localhost:8080/"
        },
        "id": "DV7tMTVVWt5B",
        "outputId": "82672a4f-ff82-46c9-b3e6-95fb4c0c1bdf"
      },
      "execution_count": null,
      "outputs": [
        {
          "output_type": "execute_result",
          "data": {
            "text/plain": [
              "(516, 32)"
            ]
          },
          "metadata": {},
          "execution_count": 45
        }
      ]
    },
    {
      "cell_type": "code",
      "source": [
        "x_train = train_data[train_data.columns[2:]]\n",
        "x_train.shape"
      ],
      "metadata": {
        "colab": {
          "base_uri": "https://localhost:8080/"
        },
        "id": "Bi1JBWgOWw_F",
        "outputId": "257482d7-7fc5-47c3-d63f-d1520a6af1ac"
      },
      "execution_count": null,
      "outputs": [
        {
          "output_type": "execute_result",
          "data": {
            "text/plain": [
              "(516, 30)"
            ]
          },
          "metadata": {},
          "execution_count": 46
        }
      ]
    },
    {
      "cell_type": "code",
      "source": [
        "y_train = train_data[train_data.columns[1]]\n",
        "#y_train.shape\n",
        "le = LabelEncoder()\n",
        "y_train = np.array(le.fit_transform(y_train))\n",
        "print(le.classes_)"
      ],
      "metadata": {
        "colab": {
          "base_uri": "https://localhost:8080/"
        },
        "id": "U4lvbpQ7Wzat",
        "outputId": "219feb97-cd63-4fc5-c07c-e80d54290c99"
      },
      "execution_count": null,
      "outputs": [
        {
          "output_type": "stream",
          "name": "stdout",
          "text": [
            "['B' 'M']\n"
          ]
        }
      ]
    },
    {
      "cell_type": "markdown",
      "source": [
        "Testing set"
      ],
      "metadata": {
        "id": "6pN4kAcvW2uI"
      }
    },
    {
      "cell_type": "code",
      "source": [
        "test_data = pd.read_csv(\"test.csv\")\n",
        "test_data.shape"
      ],
      "metadata": {
        "colab": {
          "base_uri": "https://localhost:8080/"
        },
        "id": "kg8f6rrXW3Ij",
        "outputId": "9a73f676-2356-47fe-d816-5bc0bed9073f"
      },
      "execution_count": null,
      "outputs": [
        {
          "output_type": "execute_result",
          "data": {
            "text/plain": [
              "(114, 33)"
            ]
          },
          "metadata": {},
          "execution_count": 48
        }
      ]
    },
    {
      "cell_type": "code",
      "source": [
        "x_test = test_data[test_data.columns[3:]]\n",
        "x_test.shape"
      ],
      "metadata": {
        "colab": {
          "base_uri": "https://localhost:8080/"
        },
        "id": "dVflK433W4-v",
        "outputId": "2871ab14-dbb0-474e-e341-8a2c4e42b2ee"
      },
      "execution_count": null,
      "outputs": [
        {
          "output_type": "execute_result",
          "data": {
            "text/plain": [
              "(114, 30)"
            ]
          },
          "metadata": {},
          "execution_count": 49
        }
      ]
    },
    {
      "cell_type": "code",
      "source": [
        "y_test = test_data[test_data.columns[2]]\n",
        "#y_test.shape\n",
        "le = LabelEncoder()\n",
        "y_test = np.array(le.fit_transform(y_test))\n",
        "print(le.classes_)"
      ],
      "metadata": {
        "colab": {
          "base_uri": "https://localhost:8080/"
        },
        "id": "fg0NpWcwW6eb",
        "outputId": "6777214d-2dc7-41ef-b61d-9487ec2f2316"
      },
      "execution_count": null,
      "outputs": [
        {
          "output_type": "stream",
          "name": "stdout",
          "text": [
            "['B' 'M']\n"
          ]
        }
      ]
    },
    {
      "cell_type": "markdown",
      "source": [
        "Validation set"
      ],
      "metadata": {
        "id": "s5XkviGXW9ua"
      }
    },
    {
      "cell_type": "code",
      "source": [
        "val_data = pd.read_csv(\"val_split2.csv\")\n",
        "val_data.shape"
      ],
      "metadata": {
        "colab": {
          "base_uri": "https://localhost:8080/"
        },
        "id": "ZgLtuzKzW-Sm",
        "outputId": "315cca8e-15c0-4dd1-fc76-2afdeeb13e2e"
      },
      "execution_count": null,
      "outputs": [
        {
          "output_type": "execute_result",
          "data": {
            "text/plain": [
              "(91, 32)"
            ]
          },
          "metadata": {},
          "execution_count": 51
        }
      ]
    },
    {
      "cell_type": "code",
      "source": [
        "x_val = val_data[val_data.columns[2:]]\n",
        "x_val.shape"
      ],
      "metadata": {
        "colab": {
          "base_uri": "https://localhost:8080/"
        },
        "id": "HoL5opHgW_vC",
        "outputId": "cda43285-b1c0-465a-abed-2b3537df723c"
      },
      "execution_count": null,
      "outputs": [
        {
          "output_type": "execute_result",
          "data": {
            "text/plain": [
              "(91, 30)"
            ]
          },
          "metadata": {},
          "execution_count": 52
        }
      ]
    },
    {
      "cell_type": "code",
      "source": [
        "y_val = val_data[val_data.columns[1]]\n",
        "#y_val.shape\n",
        "le = LabelEncoder()\n",
        "y_val = np.array(le.fit_transform(y_val))\n",
        "print(le.classes_)"
      ],
      "metadata": {
        "colab": {
          "base_uri": "https://localhost:8080/"
        },
        "id": "UB_MWiyZXB7z",
        "outputId": "964feb81-fd10-44b9-8376-392aa1a8266b"
      },
      "execution_count": null,
      "outputs": [
        {
          "output_type": "stream",
          "name": "stdout",
          "text": [
            "['B' 'M']\n"
          ]
        }
      ]
    },
    {
      "cell_type": "markdown",
      "source": [
        "step train -split2"
      ],
      "metadata": {
        "id": "cvXQChCRXGFW"
      }
    },
    {
      "cell_type": "code",
      "source": [
        "x_train = x_train.to_numpy()\n",
        "x_test = x_test.to_numpy()\n",
        "x_val = x_val.to_numpy() "
      ],
      "metadata": {
        "id": "1BK-22fmXGsu"
      },
      "execution_count": null,
      "outputs": []
    },
    {
      "cell_type": "code",
      "source": [
        "from sklearn.model_selection import train_test_split\n",
        "\n",
        "print(\"Shape of training set:\", x_train.shape)\n",
        "print(\"Shape of test set:\", x_test.shape)"
      ],
      "metadata": {
        "colab": {
          "base_uri": "https://localhost:8080/"
        },
        "id": "I2YcIeTPXSX4",
        "outputId": "e348dda2-0e24-4d7e-c7c5-a90f94b89959"
      },
      "execution_count": null,
      "outputs": [
        {
          "output_type": "stream",
          "name": "stdout",
          "text": [
            "Shape of training set: (516, 30)\n",
            "Shape of test set: (114, 30)\n"
          ]
        }
      ]
    },
    {
      "cell_type": "code",
      "source": [
        "from sklearn.preprocessing import StandardScaler\n",
        "\n",
        "ss = StandardScaler()\n",
        "X_train = ss.fit_transform(x_train)\n",
        "X_test = ss.fit_transform(x_test)\n",
        "X_val = ss.fit_transform(x_val) "
      ],
      "metadata": {
        "id": "9_v512r1XUJD"
      },
      "execution_count": null,
      "outputs": []
    },
    {
      "cell_type": "markdown",
      "source": [
        "หาparameter"
      ],
      "metadata": {
        "id": "vmx-634nXd7z"
      }
    },
    {
      "cell_type": "code",
      "source": [
        "# instantiate classifier ,ยกตัวอย่างclassifier \n",
        "#rf_classifier = RandomForestClassifier(random_state=42, n_estimators=10)"
      ],
      "metadata": {
        "id": "AheC3us7Xe4v"
      },
      "execution_count": null,
      "outputs": []
    },
    {
      "cell_type": "code",
      "source": [
        "# give to GridSearchCV\n",
        "#param_dist = {'max_depth': [2, 3, 4],\n",
        "#             'bootstrap': [True, False],\n",
        "#              'max_features': ['auto', 'sqrt', 'log2', None],\n",
        "#              'criterion': ['gini', 'entropy']}\n",
        "\n",
        "# set up the GridSearch\n",
        "#cv_rf = GridSearchCV(rf_classifier, cv = 5,param_grid=param_dist,n_jobs = 3)\n",
        "\n",
        "# fit the GridSearch\n",
        "#cv_rf.fit(X_train, y_train)\n",
        "#cv_rf.fit(X_val, y_val) #ใช้อันนี้\n",
        "#print('Best Parameters using grid search: \\n', cv_rf.best_params_)\n",
        "\n",
        "#print('Best criterion parameter:', cv_rf.best_params_['criterion'])\n",
        "#print('Best max_depth parameter:', cv_rf.best_params_['max_depth'])\n",
        "#print('Best bootstrap parameter:', cv_rf.best_params_['bootstrap'])\n",
        "#print('Best max_features parameter:', cv_rf.best_params_['max_features'])\n",
        "#print('Best score:', cv_rf.best_score_)"
      ],
      "metadata": {
        "id": "_4EJF5ZyXnFe"
      },
      "execution_count": null,
      "outputs": []
    },
    {
      "cell_type": "markdown",
      "source": [
        "Best Parameters using grid search: \n",
        " {'bootstrap': False, 'criterion': 'entropy', 'max_depth': 4, 'max_features': 'log2'}\n",
        "Best criterion parameter: entropy\n",
        "Best max_depth parameter: 4\n",
        "Best bootstrap parameter: False\n",
        "Best max_features parameter: log2\n",
        "\n",
        "**Best score: 0.9783625730994151**"
      ],
      "metadata": {
        "id": "f5h2Tf8vZUJk"
      }
    },
    {
      "cell_type": "code",
      "source": [
        "from sklearn.ensemble import RandomForestClassifier\n",
        "\n",
        "rand_clf = RandomForestClassifier(criterion = 'entropy', max_depth = 4, max_features = 'log2', min_samples_leaf = 2, min_samples_split = 3, n_estimators = 130)\n",
        "rand_clf.fit(X_train, y_train) # map"
      ],
      "metadata": {
        "colab": {
          "base_uri": "https://localhost:8080/",
          "height": 108
        },
        "id": "5Wzs0B8KX6Hk",
        "outputId": "3a874cbd-876f-4065-c675-30f41ea0d3d3"
      },
      "execution_count": null,
      "outputs": [
        {
          "output_type": "execute_result",
          "data": {
            "text/plain": [
              "RandomForestClassifier(criterion='entropy', max_depth=4, max_features='log2',\n",
              "                       min_samples_leaf=2, min_samples_split=3,\n",
              "                       n_estimators=130)"
            ],
            "text/html": [
              "<style>#sk-container-id-2 {color: black;background-color: white;}#sk-container-id-2 pre{padding: 0;}#sk-container-id-2 div.sk-toggleable {background-color: white;}#sk-container-id-2 label.sk-toggleable__label {cursor: pointer;display: block;width: 100%;margin-bottom: 0;padding: 0.3em;box-sizing: border-box;text-align: center;}#sk-container-id-2 label.sk-toggleable__label-arrow:before {content: \"▸\";float: left;margin-right: 0.25em;color: #696969;}#sk-container-id-2 label.sk-toggleable__label-arrow:hover:before {color: black;}#sk-container-id-2 div.sk-estimator:hover label.sk-toggleable__label-arrow:before {color: black;}#sk-container-id-2 div.sk-toggleable__content {max-height: 0;max-width: 0;overflow: hidden;text-align: left;background-color: #f0f8ff;}#sk-container-id-2 div.sk-toggleable__content pre {margin: 0.2em;color: black;border-radius: 0.25em;background-color: #f0f8ff;}#sk-container-id-2 input.sk-toggleable__control:checked~div.sk-toggleable__content {max-height: 200px;max-width: 100%;overflow: auto;}#sk-container-id-2 input.sk-toggleable__control:checked~label.sk-toggleable__label-arrow:before {content: \"▾\";}#sk-container-id-2 div.sk-estimator input.sk-toggleable__control:checked~label.sk-toggleable__label {background-color: #d4ebff;}#sk-container-id-2 div.sk-label input.sk-toggleable__control:checked~label.sk-toggleable__label {background-color: #d4ebff;}#sk-container-id-2 input.sk-hidden--visually {border: 0;clip: rect(1px 1px 1px 1px);clip: rect(1px, 1px, 1px, 1px);height: 1px;margin: -1px;overflow: hidden;padding: 0;position: absolute;width: 1px;}#sk-container-id-2 div.sk-estimator {font-family: monospace;background-color: #f0f8ff;border: 1px dotted black;border-radius: 0.25em;box-sizing: border-box;margin-bottom: 0.5em;}#sk-container-id-2 div.sk-estimator:hover {background-color: #d4ebff;}#sk-container-id-2 div.sk-parallel-item::after {content: \"\";width: 100%;border-bottom: 1px solid gray;flex-grow: 1;}#sk-container-id-2 div.sk-label:hover label.sk-toggleable__label {background-color: #d4ebff;}#sk-container-id-2 div.sk-serial::before {content: \"\";position: absolute;border-left: 1px solid gray;box-sizing: border-box;top: 0;bottom: 0;left: 50%;z-index: 0;}#sk-container-id-2 div.sk-serial {display: flex;flex-direction: column;align-items: center;background-color: white;padding-right: 0.2em;padding-left: 0.2em;position: relative;}#sk-container-id-2 div.sk-item {position: relative;z-index: 1;}#sk-container-id-2 div.sk-parallel {display: flex;align-items: stretch;justify-content: center;background-color: white;position: relative;}#sk-container-id-2 div.sk-item::before, #sk-container-id-2 div.sk-parallel-item::before {content: \"\";position: absolute;border-left: 1px solid gray;box-sizing: border-box;top: 0;bottom: 0;left: 50%;z-index: -1;}#sk-container-id-2 div.sk-parallel-item {display: flex;flex-direction: column;z-index: 1;position: relative;background-color: white;}#sk-container-id-2 div.sk-parallel-item:first-child::after {align-self: flex-end;width: 50%;}#sk-container-id-2 div.sk-parallel-item:last-child::after {align-self: flex-start;width: 50%;}#sk-container-id-2 div.sk-parallel-item:only-child::after {width: 0;}#sk-container-id-2 div.sk-dashed-wrapped {border: 1px dashed gray;margin: 0 0.4em 0.5em 0.4em;box-sizing: border-box;padding-bottom: 0.4em;background-color: white;}#sk-container-id-2 div.sk-label label {font-family: monospace;font-weight: bold;display: inline-block;line-height: 1.2em;}#sk-container-id-2 div.sk-label-container {text-align: center;}#sk-container-id-2 div.sk-container {/* jupyter's `normalize.less` sets `[hidden] { display: none; }` but bootstrap.min.css set `[hidden] { display: none !important; }` so we also need the `!important` here to be able to override the default hidden behavior on the sphinx rendered scikit-learn.org. See: https://github.com/scikit-learn/scikit-learn/issues/21755 */display: inline-block !important;position: relative;}#sk-container-id-2 div.sk-text-repr-fallback {display: none;}</style><div id=\"sk-container-id-2\" class=\"sk-top-container\"><div class=\"sk-text-repr-fallback\"><pre>RandomForestClassifier(criterion=&#x27;entropy&#x27;, max_depth=4, max_features=&#x27;log2&#x27;,\n",
              "                       min_samples_leaf=2, min_samples_split=3,\n",
              "                       n_estimators=130)</pre><b>In a Jupyter environment, please rerun this cell to show the HTML representation or trust the notebook. <br />On GitHub, the HTML representation is unable to render, please try loading this page with nbviewer.org.</b></div><div class=\"sk-container\" hidden><div class=\"sk-item\"><div class=\"sk-estimator sk-toggleable\"><input class=\"sk-toggleable__control sk-hidden--visually\" id=\"sk-estimator-id-2\" type=\"checkbox\" checked><label for=\"sk-estimator-id-2\" class=\"sk-toggleable__label sk-toggleable__label-arrow\">RandomForestClassifier</label><div class=\"sk-toggleable__content\"><pre>RandomForestClassifier(criterion=&#x27;entropy&#x27;, max_depth=4, max_features=&#x27;log2&#x27;,\n",
              "                       min_samples_leaf=2, min_samples_split=3,\n",
              "                       n_estimators=130)</pre></div></div></div></div></div>"
            ]
          },
          "metadata": {},
          "execution_count": 59
        }
      ]
    },
    {
      "cell_type": "code",
      "source": [
        "y_pred = rand_clf.predict(X_test)"
      ],
      "metadata": {
        "id": "G-n-_3LqZduC"
      },
      "execution_count": null,
      "outputs": []
    },
    {
      "cell_type": "code",
      "source": [
        "y_pred"
      ],
      "metadata": {
        "colab": {
          "base_uri": "https://localhost:8080/"
        },
        "id": "tPKF2B2oZ9FI",
        "outputId": "e36a9250-3bc6-4238-bc36-b1ef22953779"
      },
      "execution_count": null,
      "outputs": [
        {
          "output_type": "execute_result",
          "data": {
            "text/plain": [
              "array([1, 1, 1, 1, 1, 1, 1, 1, 1, 1, 1, 1, 1, 0, 1, 1, 1, 1, 1, 0, 0, 0,\n",
              "       1, 1, 1, 1, 1, 1, 1, 1, 1, 1, 1, 1, 1, 1, 0, 0, 0, 0, 0, 0, 1, 1,\n",
              "       0, 1, 0, 1, 0, 0, 0, 0, 0, 1, 1, 0, 1, 1, 0, 0, 0, 0, 1, 0, 1, 1,\n",
              "       0, 0, 0, 0, 1, 0, 1, 0, 0, 1, 0, 1, 1, 0, 0, 0, 1, 1, 0, 1, 0, 1,\n",
              "       0, 0, 0, 0, 0, 0, 1, 1, 0, 0, 0, 0, 1, 0, 0, 0, 0, 1, 0, 0, 1, 0,\n",
              "       0, 0, 0, 0])"
            ]
          },
          "metadata": {},
          "execution_count": 61
        }
      ]
    },
    {
      "cell_type": "code",
      "source": [
        "# accuracy score\n",
        "\n",
        "print(accuracy_score(y_train, rand_clf.predict(X_train)))\n",
        "\n",
        "ran_clf_acc = accuracy_score(y_test, y_pred)\n",
        "print(ran_clf_acc)"
      ],
      "metadata": {
        "colab": {
          "base_uri": "https://localhost:8080/"
        },
        "id": "HpSmNOdcZ_Ek",
        "outputId": "5322f1ad-825f-4224-d468-4dfce8b551ce"
      },
      "execution_count": null,
      "outputs": [
        {
          "output_type": "stream",
          "name": "stdout",
          "text": [
            "0.9961240310077519\n",
            "0.9035087719298246\n"
          ]
        }
      ]
    },
    {
      "cell_type": "code",
      "source": [
        "# confusion matrix\n",
        "\n",
        "print(confusion_matrix(y_test, y_pred))"
      ],
      "metadata": {
        "colab": {
          "base_uri": "https://localhost:8080/"
        },
        "id": "-CFtnBcZaDy4",
        "outputId": "716a1122-c9a0-4edd-8449-78963ada246e"
      },
      "execution_count": null,
      "outputs": [
        {
          "output_type": "stream",
          "name": "stdout",
          "text": [
            "[[46  0]\n",
            " [11 57]]\n"
          ]
        }
      ]
    },
    {
      "cell_type": "code",
      "source": [
        "# classification report\n",
        "\n",
        "print(classification_report(y_test, y_pred))"
      ],
      "metadata": {
        "colab": {
          "base_uri": "https://localhost:8080/"
        },
        "id": "eVwIHfnYaGPV",
        "outputId": "f2f26ae9-a2a7-49fa-ad3b-f7d28a0bcf80"
      },
      "execution_count": null,
      "outputs": [
        {
          "output_type": "stream",
          "name": "stdout",
          "text": [
            "              precision    recall  f1-score   support\n",
            "\n",
            "           0       0.81      1.00      0.89        46\n",
            "           1       1.00      0.84      0.91        68\n",
            "\n",
            "    accuracy                           0.90       114\n",
            "   macro avg       0.90      0.92      0.90       114\n",
            "weighted avg       0.92      0.90      0.90       114\n",
            "\n"
          ]
        }
      ]
    },
    {
      "cell_type": "markdown",
      "source": [
        "validate set"
      ],
      "metadata": {
        "id": "SJg6RvVRaKx3"
      }
    },
    {
      "cell_type": "code",
      "source": [
        "y_pred_val = rand_clf.predict(X_val)\n",
        "cm_val = confusion_matrix(y_val, y_pred_val)\n",
        "print('Confusion Matrix')\n",
        "print('-'*16)\n",
        "print(cm_val,'\\n')\n",
        "print('-'*16)"
      ],
      "metadata": {
        "colab": {
          "base_uri": "https://localhost:8080/"
        },
        "id": "VV47-IwDaLPj",
        "outputId": "b22b2796-a976-4ba3-9c79-2d815d280460"
      },
      "execution_count": null,
      "outputs": [
        {
          "output_type": "stream",
          "name": "stdout",
          "text": [
            "Confusion Matrix\n",
            "----------------\n",
            "[[53  0]\n",
            " [ 0 38]] \n",
            "\n",
            "----------------\n"
          ]
        }
      ]
    },
    {
      "cell_type": "code",
      "source": [
        " # Calculate score\n",
        "sen_val = sensitivity(cm_val)\n",
        "spec_val = specificity(cm_val)\n",
        "acc_val = accuracy(cm_val)\n",
        "pre_val = precision(cm_val)\n",
        "f1_val = f1(cm_val)"
      ],
      "metadata": {
        "colab": {
          "base_uri": "https://localhost:8080/"
        },
        "id": "M9AlqxoFaOk2",
        "outputId": "338bb8b6-2c59-48c9-dd46-821005122a59"
      },
      "execution_count": null,
      "outputs": [
        {
          "output_type": "stream",
          "name": "stdout",
          "text": [
            "Sensitivity: 100.00%\n",
            "Specificity: 100.00%\n",
            "Accuracy: 100.00%\n",
            "Precision: 100.00%\n",
            "Sensitivity: 100.00%\n",
            "Precision: 100.00%\n",
            "F1: 100.00%\n"
          ]
        }
      ]
    },
    {
      "cell_type": "code",
      "source": [
        "class_names = ['benign','malignant']\n",
        "# Normalize confusion matrix to percentage\n",
        "cm_norm_val = cm_val.astype('float') / cm_val.sum(axis=1)[:, np.newaxis]\n",
        "# Create plot\n",
        "fig, ax = plt.subplots()\n",
        "im = ax.imshow(cm_norm_val, interpolation='nearest', cmap=\"rocket_r\")\n",
        "ax.grid(False)\n",
        "# Add labels\n",
        "ax.set(xticks=np.arange(cm_norm_val.shape[1]),\n",
        "       yticks=np.arange(cm_norm_val.shape[0]),\n",
        "       xticklabels=class_names, yticklabels=class_names)\n",
        "ax.set_title(\"Validate set\", fontsize=16)\n",
        "ax.set_ylabel('Actual', fontsize=16)\n",
        "ax.set_xlabel('Predicted', fontsize=16)\n",
        "# Add percentage and count values inside plot\n",
        "thresh = cm_norm_val.max() / 2.\n",
        "for i in range(cm_norm_val.shape[0]):\n",
        "    for j in range(cm_norm_val.shape[1]):\n",
        "        ax.text(j, i, '''{}\\n({:.2f}%)'''.format(cm_val[i,j], cm_norm_val[i, j]*100),\n",
        "                ha=\"center\", va=\"center\",\n",
        "                color=\"white\" if cm_norm_val[i, j] > thresh else \"black\")\n",
        "# Show plot\n",
        "plt.show()"
      ],
      "metadata": {
        "colab": {
          "base_uri": "https://localhost:8080/",
          "height": 480
        },
        "id": "fTkjUJjxaS1h",
        "outputId": "c17790b0-137f-4ef1-b825-cecdd928b9d8"
      },
      "execution_count": null,
      "outputs": [
        {
          "output_type": "display_data",
          "data": {
            "text/plain": [
              "<Figure size 640x480 with 1 Axes>"
            ],
            "image/png": "[encoded data removed]"
          },
          "metadata": {}
        }
      ]
    },
    {
      "cell_type": "markdown",
      "source": [
        "test set"
      ],
      "metadata": {
        "id": "yDzgx8fdaVw-"
      }
    },
    {
      "cell_type": "code",
      "source": [
        "y_pred_test = rand_clf.predict(X_test)\n",
        "# Confusion matrix\n",
        "cm_test_split2 = confusion_matrix(y_test, y_pred_test)\n",
        "print('Confusion Matrix')\n",
        "print('-'*16)\n",
        "print(cm_test_split2,'\\n')\n",
        "print('-'*16)"
      ],
      "metadata": {
        "colab": {
          "base_uri": "https://localhost:8080/"
        },
        "id": "gS-bTpHoaWKQ",
        "outputId": "7a6e794f-d63a-47f8-eed7-2b1d00fdcf95"
      },
      "execution_count": null,
      "outputs": [
        {
          "output_type": "stream",
          "name": "stdout",
          "text": [
            "Confusion Matrix\n",
            "----------------\n",
            "[[46  0]\n",
            " [11 57]] \n",
            "\n",
            "----------------\n"
          ]
        }
      ]
    },
    {
      "cell_type": "code",
      "source": [
        "# Calculate score\n",
        "sen_test_split2 = sensitivity(cm_test_split2)\n",
        "spec_test_split2 = specificity(cm_test_split2)\n",
        "acc_test_split2 = accuracy(cm_test_split2)\n",
        "pre_test_split2 = precision(cm_test_split2)\n",
        "f1_test_split2 = f1(cm_test_split2)"
      ],
      "metadata": {
        "colab": {
          "base_uri": "https://localhost:8080/"
        },
        "id": "Mr4Kepc4aXls",
        "outputId": "cdb277b3-f6f2-4a98-ed0a-0af3c0e8fc07"
      },
      "execution_count": null,
      "outputs": [
        {
          "output_type": "stream",
          "name": "stdout",
          "text": [
            "Sensitivity: 83.82%\n",
            "Specificity: 100.00%\n",
            "Accuracy: 90.35%\n",
            "Precision: 100.00%\n",
            "Sensitivity: 83.82%\n",
            "Precision: 100.00%\n",
            "F1: 91.20%\n"
          ]
        }
      ]
    },
    {
      "cell_type": "code",
      "source": [
        "# plot confusion matrix\n",
        "class_names = ['benign','malignant']\n",
        "# Normalize confusion matrix to percentage\n",
        "cm_norm_test = cm_test_split2.astype('float') / cm_test_split2.sum(axis=1)[:, np.newaxis]\n",
        "# Create plot\n",
        "fig, ax = plt.subplots()\n",
        "im = ax.imshow(cm_norm_test, interpolation='nearest', cmap=\"rocket_r\")\n",
        "ax.grid(False)\n",
        "# Add labels\n",
        "ax.set(xticks=np.arange(cm_norm_test.shape[1]),\n",
        "       yticks=np.arange(cm_norm_test.shape[0]),\n",
        "       xticklabels=class_names, yticklabels=class_names)\n",
        "ax.set_title(\"Test set\", fontsize=16)\n",
        "ax.set_ylabel('Actual', fontsize=16)\n",
        "ax.set_xlabel('Predicted', fontsize=16)\n",
        "# Add percentage and count values inside plot\n",
        "thresh = cm_norm_test.max() / 2.\n",
        "for i in range(cm_norm_test.shape[0]):\n",
        "    for j in range(cm_norm_test.shape[1]):\n",
        "        ax.text(j, i, '''{}\\n({:.2f}%)'''.format(cm_test_split2[i,j], cm_norm_test[i, j]*100),\n",
        "                ha=\"center\", va=\"center\",\n",
        "                color=\"white\" if cm_norm_test[i, j] > thresh else \"black\")\n",
        "# Show plot\n",
        "plt.show()"
      ],
      "metadata": {
        "colab": {
          "base_uri": "https://localhost:8080/",
          "height": 480
        },
        "id": "4VyjfQrUagYo",
        "outputId": "fcd6c683-09ef-418d-c92c-df975828e62c"
      },
      "execution_count": null,
      "outputs": [
        {
          "output_type": "display_data",
          "data": {
            "text/plain": [
              "<Figure size 640x480 with 1 Axes>"
            ],
            "image/png": "[encoded data removed]"
          },
          "metadata": {}
        }
      ]
    },
    {
      "cell_type": "markdown",
      "source": [
        "plot ROC curve"
      ],
      "metadata": {
        "id": "Vf0Nez-JajDd"
      }
    },
    {
      "cell_type": "code",
      "source": [
        "fpr1, tpr1, thr1 = roc_curve(y_val, y_pred_val)\n",
        "auc_val = roc_auc_score(y_val, y_pred_val)\n",
        "fpr2, tpr2, thr2 = roc_curve(y_test, y_pred_test)\n",
        "auc_test_split2 = roc_auc_score(y_test, y_pred_test)\n",
        "\n",
        "print(\"---------------------------------------\")\n",
        "print(\"AUC validate: %.4f\" % auc_val)\n",
        "print(\"AUC test: %.4f\" % auc_test_split2)"
      ],
      "metadata": {
        "colab": {
          "base_uri": "https://localhost:8080/"
        },
        "id": "mua28avBajho",
        "outputId": "7a37c8fe-a6ac-4fda-8bab-23f740e0b410"
      },
      "execution_count": null,
      "outputs": [
        {
          "output_type": "stream",
          "name": "stdout",
          "text": [
            "---------------------------------------\n",
            "AUC validate: 1.0000\n",
            "AUC test: 0.9191\n"
          ]
        }
      ]
    },
    {
      "cell_type": "code",
      "source": [
        "# plt.plot(fpr,tpr,label=\"data 1, auc=\"+str(auc),color='red')\n",
        "plt.plot(fpr1,tpr1,label=\"ROC valid, auc=\"+str(\"%.4f\" % auc_val))\n",
        "plt.plot(fpr2,tpr2,label=\"ROC test, auc=\"+str(\"%.4f\" % auc_test_split2))\n",
        "plt.plot([0, 1], [0, 1], linestyle=\"--\", lw=2, color=\"r\", label=\"Chance\", alpha=0.8)\n",
        "plt.legend(loc=4)\n",
        "plt.show()"
      ],
      "metadata": {
        "colab": {
          "base_uri": "https://localhost:8080/",
          "height": 430
        },
        "id": "3iRjXo1_anwe",
        "outputId": "25ffab78-e2a4-43b4-8578-660a0136aa35"
      },
      "execution_count": null,
      "outputs": [
        {
          "output_type": "display_data",
          "data": {
            "text/plain": [
              "<Figure size 640x480 with 1 Axes>"
            ],
            "image/png": "[encoded data removed]"
          },
          "metadata": {}
        }
      ]
    },
    {
      "cell_type": "markdown",
      "source": [
        "## split3"
      ],
      "metadata": {
        "id": "xjj72no2bdYN"
      }
    },
    {
      "cell_type": "markdown",
      "source": [
        "Training set"
      ],
      "metadata": {
        "id": "PT9thF6lbmWF"
      }
    },
    {
      "cell_type": "code",
      "source": [
        "train_data = pd.read_csv(\"oversampled_train_split3.csv\")\n",
        "train_data.shape"
      ],
      "metadata": {
        "colab": {
          "base_uri": "https://localhost:8080/"
        },
        "id": "5ozKS-13bo_r",
        "outputId": "9274068a-d761-4ac5-e958-f4acefbe98f5"
      },
      "execution_count": null,
      "outputs": [
        {
          "output_type": "execute_result",
          "data": {
            "text/plain": [
              "(490, 32)"
            ]
          },
          "metadata": {},
          "execution_count": 73
        }
      ]
    },
    {
      "cell_type": "code",
      "source": [
        "x_train = train_data[train_data.columns[2:]]\n",
        "x_train.shape"
      ],
      "metadata": {
        "colab": {
          "base_uri": "https://localhost:8080/"
        },
        "id": "IONA4QfFbpS_",
        "outputId": "0b6283f8-9dd2-43c6-e01d-919e76ee701b"
      },
      "execution_count": null,
      "outputs": [
        {
          "output_type": "execute_result",
          "data": {
            "text/plain": [
              "(490, 30)"
            ]
          },
          "metadata": {},
          "execution_count": 74
        }
      ]
    },
    {
      "cell_type": "code",
      "source": [
        "y_train = train_data[train_data.columns[1]]\n",
        "#y_train.shape\n",
        "le = LabelEncoder()\n",
        "y_train = np.array(le.fit_transform(y_train))\n",
        "print(le.classes_)"
      ],
      "metadata": {
        "colab": {
          "base_uri": "https://localhost:8080/"
        },
        "id": "mfSvNACObpa-",
        "outputId": "29dabc13-806c-43c1-d5a5-c91beda84ee9"
      },
      "execution_count": null,
      "outputs": [
        {
          "output_type": "stream",
          "name": "stdout",
          "text": [
            "['B' 'M']\n"
          ]
        }
      ]
    },
    {
      "cell_type": "markdown",
      "source": [
        "Testing set"
      ],
      "metadata": {
        "id": "LMMNurHfbvVt"
      }
    },
    {
      "cell_type": "code",
      "source": [
        "test_data = pd.read_csv(\"test.csv\")\n",
        "test_data.shape"
      ],
      "metadata": {
        "colab": {
          "base_uri": "https://localhost:8080/"
        },
        "id": "fJZJC5Nhbv2N",
        "outputId": "0c1bde92-1558-4847-a538-c9b19a3d87a4"
      },
      "execution_count": null,
      "outputs": [
        {
          "output_type": "execute_result",
          "data": {
            "text/plain": [
              "(114, 33)"
            ]
          },
          "metadata": {},
          "execution_count": 76
        }
      ]
    },
    {
      "cell_type": "code",
      "source": [
        "x_test = test_data[test_data.columns[3:]]\n",
        "x_test.shape"
      ],
      "metadata": {
        "colab": {
          "base_uri": "https://localhost:8080/"
        },
        "id": "xQeryCMlbwCs",
        "outputId": "66dc4a11-6fd8-40ea-a2c6-faa15a513e33"
      },
      "execution_count": null,
      "outputs": [
        {
          "output_type": "execute_result",
          "data": {
            "text/plain": [
              "(114, 30)"
            ]
          },
          "metadata": {},
          "execution_count": 77
        }
      ]
    },
    {
      "cell_type": "code",
      "source": [
        "y_test = test_data[test_data.columns[2]]\n",
        "#y_test.shape\n",
        "le = LabelEncoder()\n",
        "y_test = np.array(le.fit_transform(y_test))\n",
        "print(le.classes_)"
      ],
      "metadata": {
        "colab": {
          "base_uri": "https://localhost:8080/"
        },
        "id": "MnKuOh8FbwLC",
        "outputId": "ac6e8612-504c-4d12-de04-4652eb4e5324"
      },
      "execution_count": null,
      "outputs": [
        {
          "output_type": "stream",
          "name": "stdout",
          "text": [
            "['B' 'M']\n"
          ]
        }
      ]
    },
    {
      "cell_type": "markdown",
      "source": [
        "Validation set"
      ],
      "metadata": {
        "id": "0cqNFrl-b3RP"
      }
    },
    {
      "cell_type": "code",
      "source": [
        "val_data = pd.read_csv(\"val_split3.csv\")\n",
        "val_data.shape"
      ],
      "metadata": {
        "colab": {
          "base_uri": "https://localhost:8080/"
        },
        "id": "h8cbPCBnb3t8",
        "outputId": "30db84c1-85a9-40b8-9967-5bac1bd8f459"
      },
      "execution_count": null,
      "outputs": [
        {
          "output_type": "execute_result",
          "data": {
            "text/plain": [
              "(91, 32)"
            ]
          },
          "metadata": {},
          "execution_count": 79
        }
      ]
    },
    {
      "cell_type": "code",
      "source": [
        "x_val = val_data[val_data.columns[2:]]\n",
        "x_val.shape"
      ],
      "metadata": {
        "colab": {
          "base_uri": "https://localhost:8080/"
        },
        "id": "E5ofbrdlb3xf",
        "outputId": "653f74c5-426f-402d-aeac-437927874369"
      },
      "execution_count": null,
      "outputs": [
        {
          "output_type": "execute_result",
          "data": {
            "text/plain": [
              "(91, 30)"
            ]
          },
          "metadata": {},
          "execution_count": 80
        }
      ]
    },
    {
      "cell_type": "code",
      "source": [
        "y_val = val_data[val_data.columns[1]]\n",
        "#y_val.shape\n",
        "le = LabelEncoder()\n",
        "y_val = np.array(le.fit_transform(y_val))\n",
        "print(le.classes_)"
      ],
      "metadata": {
        "colab": {
          "base_uri": "https://localhost:8080/"
        },
        "id": "8GWq3eVMb32u",
        "outputId": "776b27cb-62da-4554-a802-95ad72fe3382"
      },
      "execution_count": null,
      "outputs": [
        {
          "output_type": "stream",
          "name": "stdout",
          "text": [
            "['B' 'M']\n"
          ]
        }
      ]
    },
    {
      "cell_type": "markdown",
      "source": [
        "step train- split3"
      ],
      "metadata": {
        "id": "Xpqp0dzQb8D_"
      }
    },
    {
      "cell_type": "code",
      "source": [
        "x_train = x_train.to_numpy()\n",
        "x_test = x_test.to_numpy()\n",
        "x_val = x_val.to_numpy()  # เพิ่ม"
      ],
      "metadata": {
        "id": "GnsEO9n7cACZ"
      },
      "execution_count": null,
      "outputs": []
    },
    {
      "cell_type": "code",
      "source": [
        "from sklearn.model_selection import train_test_split\n",
        "\n",
        "print(\"Shape of training set:\", x_train.shape)\n",
        "print(\"Shape of test set:\", x_test.shape)"
      ],
      "metadata": {
        "colab": {
          "base_uri": "https://localhost:8080/"
        },
        "id": "b8ra2SOlcCCB",
        "outputId": "a3ade704-ab68-45a9-8d0c-84f44cd17c0e"
      },
      "execution_count": null,
      "outputs": [
        {
          "output_type": "stream",
          "name": "stdout",
          "text": [
            "Shape of training set: (490, 30)\n",
            "Shape of test set: (114, 30)\n"
          ]
        }
      ]
    },
    {
      "cell_type": "code",
      "source": [
        "from sklearn.preprocessing import StandardScaler\n",
        "\n",
        "ss = StandardScaler()\n",
        "X_train = ss.fit_transform(x_train)\n",
        "X_test = ss.fit_transform(x_test)\n",
        "X_val = ss.fit_transform(x_val)   # เพิ่ม"
      ],
      "metadata": {
        "id": "54SqLUZOcDv3"
      },
      "execution_count": null,
      "outputs": []
    },
    {
      "cell_type": "markdown",
      "source": [
        "param"
      ],
      "metadata": {
        "id": "AVvDvlqBe3fw"
      }
    },
    {
      "cell_type": "code",
      "source": [
        "# instantiate classifier ,ยกตัวอย่างclassifier \n",
        "#rf_classifier = RandomForestClassifier(random_state=42, n_estimators=10)"
      ],
      "metadata": {
        "id": "3p18Rjfae65Y"
      },
      "execution_count": null,
      "outputs": []
    },
    {
      "cell_type": "code",
      "source": [
        "# give to GridSearchCV\n",
        "#param_dist = {'max_depth': [2, 3, 4],\n",
        "#             'bootstrap': [True, False],\n",
        "#              'max_features': ['auto', 'sqrt', 'log2', None],\n",
        "#              'criterion': ['gini', 'entropy']}\n",
        "\n",
        "# set up the GridSearch\n",
        "#cv_rf = GridSearchCV(rf_classifier, cv = 5,param_grid=param_dist,n_jobs = 3)\n",
        "\n",
        "# fit the GridSearch\n",
        "#cv_rf.fit(X_train, y_train)\n",
        "#cv_rf.fit(X_val, y_val) #ใช้อันนี้\n",
        "#print('Best Parameters using grid search: \\n', cv_rf.best_params_)\n",
        "\n",
        "#print('Best criterion parameter:', cv_rf.best_params_['criterion'])\n",
        "#print('Best max_depth parameter:', cv_rf.best_params_['max_depth'])\n",
        "#print('Best bootstrap parameter:', cv_rf.best_params_['bootstrap'])\n",
        "#print('Best max_features parameter:', cv_rf.best_params_['max_features'])\n",
        "#print('Best score:', cv_rf.best_score_)"
      ],
      "metadata": {
        "id": "Yycl5b9dfAZP"
      },
      "execution_count": null,
      "outputs": []
    },
    {
      "cell_type": "markdown",
      "source": [
        "Best Parameters using grid search: \n",
        " {'bootstrap': True, 'criterion': 'gini', 'max_depth': 2, 'max_features': 'log2'}\n",
        "Best criterion parameter: gini\n",
        "Best max_depth parameter: 2\n",
        "Best bootstrap parameter: True\n",
        "Best max_features parameter: log2\n",
        "\n",
        "**Best score: 0.967251461988304**"
      ],
      "metadata": {
        "id": "v8fZNGLRfGC_"
      }
    },
    {
      "cell_type": "code",
      "source": [
        "from sklearn.ensemble import RandomForestClassifier\n",
        "\n",
        "rand_clf = RandomForestClassifier(criterion = 'entropy', max_depth = 4, max_features = 'log2', min_samples_leaf = 2, min_samples_split = 3, n_estimators = 130)\n",
        "rand_clf.fit(X_train, y_train) # map"
      ],
      "metadata": {
        "colab": {
          "base_uri": "https://localhost:8080/",
          "height": 108
        },
        "id": "2Of4UO27fGN3",
        "outputId": "1627c3f1-e8ae-4c03-9597-4ca4a963f7b0"
      },
      "execution_count": null,
      "outputs": [
        {
          "output_type": "execute_result",
          "data": {
            "text/plain": [
              "RandomForestClassifier(criterion='entropy', max_depth=4, max_features='log2',\n",
              "                       min_samples_leaf=2, min_samples_split=3,\n",
              "                       n_estimators=130)"
            ],
            "text/html": [
              "<style>#sk-container-id-3 {color: black;background-color: white;}#sk-container-id-3 pre{padding: 0;}#sk-container-id-3 div.sk-toggleable {background-color: white;}#sk-container-id-3 label.sk-toggleable__label {cursor: pointer;display: block;width: 100%;margin-bottom: 0;padding: 0.3em;box-sizing: border-box;text-align: center;}#sk-container-id-3 label.sk-toggleable__label-arrow:before {content: \"▸\";float: left;margin-right: 0.25em;color: #696969;}#sk-container-id-3 label.sk-toggleable__label-arrow:hover:before {color: black;}#sk-container-id-3 div.sk-estimator:hover label.sk-toggleable__label-arrow:before {color: black;}#sk-container-id-3 div.sk-toggleable__content {max-height: 0;max-width: 0;overflow: hidden;text-align: left;background-color: #f0f8ff;}#sk-container-id-3 div.sk-toggleable__content pre {margin: 0.2em;color: black;border-radius: 0.25em;background-color: #f0f8ff;}#sk-container-id-3 input.sk-toggleable__control:checked~div.sk-toggleable__content {max-height: 200px;max-width: 100%;overflow: auto;}#sk-container-id-3 input.sk-toggleable__control:checked~label.sk-toggleable__label-arrow:before {content: \"▾\";}#sk-container-id-3 div.sk-estimator input.sk-toggleable__control:checked~label.sk-toggleable__label {background-color: #d4ebff;}#sk-container-id-3 div.sk-label input.sk-toggleable__control:checked~label.sk-toggleable__label {background-color: #d4ebff;}#sk-container-id-3 input.sk-hidden--visually {border: 0;clip: rect(1px 1px 1px 1px);clip: rect(1px, 1px, 1px, 1px);height: 1px;margin: -1px;overflow: hidden;padding: 0;position: absolute;width: 1px;}#sk-container-id-3 div.sk-estimator {font-family: monospace;background-color: #f0f8ff;border: 1px dotted black;border-radius: 0.25em;box-sizing: border-box;margin-bottom: 0.5em;}#sk-container-id-3 div.sk-estimator:hover {background-color: #d4ebff;}#sk-container-id-3 div.sk-parallel-item::after {content: \"\";width: 100%;border-bottom: 1px solid gray;flex-grow: 1;}#sk-container-id-3 div.sk-label:hover label.sk-toggleable__label {background-color: #d4ebff;}#sk-container-id-3 div.sk-serial::before {content: \"\";position: absolute;border-left: 1px solid gray;box-sizing: border-box;top: 0;bottom: 0;left: 50%;z-index: 0;}#sk-container-id-3 div.sk-serial {display: flex;flex-direction: column;align-items: center;background-color: white;padding-right: 0.2em;padding-left: 0.2em;position: relative;}#sk-container-id-3 div.sk-item {position: relative;z-index: 1;}#sk-container-id-3 div.sk-parallel {display: flex;align-items: stretch;justify-content: center;background-color: white;position: relative;}#sk-container-id-3 div.sk-item::before, #sk-container-id-3 div.sk-parallel-item::before {content: \"\";position: absolute;border-left: 1px solid gray;box-sizing: border-box;top: 0;bottom: 0;left: 50%;z-index: -1;}#sk-container-id-3 div.sk-parallel-item {display: flex;flex-direction: column;z-index: 1;position: relative;background-color: white;}#sk-container-id-3 div.sk-parallel-item:first-child::after {align-self: flex-end;width: 50%;}#sk-container-id-3 div.sk-parallel-item:last-child::after {align-self: flex-start;width: 50%;}#sk-container-id-3 div.sk-parallel-item:only-child::after {width: 0;}#sk-container-id-3 div.sk-dashed-wrapped {border: 1px dashed gray;margin: 0 0.4em 0.5em 0.4em;box-sizing: border-box;padding-bottom: 0.4em;background-color: white;}#sk-container-id-3 div.sk-label label {font-family: monospace;font-weight: bold;display: inline-block;line-height: 1.2em;}#sk-container-id-3 div.sk-label-container {text-align: center;}#sk-container-id-3 div.sk-container {/* jupyter's `normalize.less` sets `[hidden] { display: none; }` but bootstrap.min.css set `[hidden] { display: none !important; }` so we also need the `!important` here to be able to override the default hidden behavior on the sphinx rendered scikit-learn.org. See: https://github.com/scikit-learn/scikit-learn/issues/21755 */display: inline-block !important;position: relative;}#sk-container-id-3 div.sk-text-repr-fallback {display: none;}</style><div id=\"sk-container-id-3\" class=\"sk-top-container\"><div class=\"sk-text-repr-fallback\"><pre>RandomForestClassifier(criterion=&#x27;entropy&#x27;, max_depth=4, max_features=&#x27;log2&#x27;,\n",
              "                       min_samples_leaf=2, min_samples_split=3,\n",
              "                       n_estimators=130)</pre><b>In a Jupyter environment, please rerun this cell to show the HTML representation or trust the notebook. <br />On GitHub, the HTML representation is unable to render, please try loading this page with nbviewer.org.</b></div><div class=\"sk-container\" hidden><div class=\"sk-item\"><div class=\"sk-estimator sk-toggleable\"><input class=\"sk-toggleable__control sk-hidden--visually\" id=\"sk-estimator-id-3\" type=\"checkbox\" checked><label for=\"sk-estimator-id-3\" class=\"sk-toggleable__label sk-toggleable__label-arrow\">RandomForestClassifier</label><div class=\"sk-toggleable__content\"><pre>RandomForestClassifier(criterion=&#x27;entropy&#x27;, max_depth=4, max_features=&#x27;log2&#x27;,\n",
              "                       min_samples_leaf=2, min_samples_split=3,\n",
              "                       n_estimators=130)</pre></div></div></div></div></div>"
            ]
          },
          "metadata": {},
          "execution_count": 87
        }
      ]
    },
    {
      "cell_type": "code",
      "source": [
        "y_pred = rand_clf.predict(X_test)"
      ],
      "metadata": {
        "id": "lkOXiZddfJfx"
      },
      "execution_count": null,
      "outputs": []
    },
    {
      "cell_type": "code",
      "source": [
        "y_pred"
      ],
      "metadata": {
        "colab": {
          "base_uri": "https://localhost:8080/"
        },
        "id": "g9STmmrBfRmR",
        "outputId": "82763951-29fb-4e7d-e94b-ac5002c53d33"
      },
      "execution_count": null,
      "outputs": [
        {
          "output_type": "execute_result",
          "data": {
            "text/plain": [
              "array([1, 1, 1, 1, 1, 1, 1, 1, 1, 1, 1, 1, 1, 1, 1, 1, 1, 1, 1, 0, 0, 0,\n",
              "       1, 1, 1, 1, 1, 1, 1, 1, 1, 1, 1, 1, 1, 1, 1, 0, 0, 0, 0, 0, 1, 1,\n",
              "       0, 1, 0, 1, 0, 0, 0, 0, 0, 1, 1, 0, 1, 1, 0, 0, 0, 0, 1, 0, 1, 1,\n",
              "       0, 0, 0, 0, 1, 0, 1, 0, 0, 1, 0, 1, 1, 0, 0, 0, 1, 1, 0, 1, 0, 1,\n",
              "       0, 0, 0, 0, 0, 0, 1, 1, 0, 0, 0, 0, 0, 0, 0, 0, 0, 1, 0, 0, 1, 0,\n",
              "       0, 0, 0, 0])"
            ]
          },
          "metadata": {},
          "execution_count": 89
        }
      ]
    },
    {
      "cell_type": "code",
      "source": [
        "# accuracy score\n",
        "\n",
        "print(accuracy_score(y_train, rand_clf.predict(X_train)))\n",
        "\n",
        "ran_clf_acc = accuracy_score(y_test, y_pred)\n",
        "print(ran_clf_acc)"
      ],
      "metadata": {
        "colab": {
          "base_uri": "https://localhost:8080/"
        },
        "id": "FbM7p2IGfXfC",
        "outputId": "6959ff55-8462-4eeb-83ab-708aff39bd25"
      },
      "execution_count": null,
      "outputs": [
        {
          "output_type": "stream",
          "name": "stdout",
          "text": [
            "0.9918367346938776\n",
            "0.9122807017543859\n"
          ]
        }
      ]
    },
    {
      "cell_type": "code",
      "source": [
        "# confusion matrix\n",
        "\n",
        "print(confusion_matrix(y_test, y_pred))\n"
      ],
      "metadata": {
        "colab": {
          "base_uri": "https://localhost:8080/"
        },
        "id": "l2fJm7Wpfa_l",
        "outputId": "7553b16b-4644-47e4-a965-d030aadf57ba"
      },
      "execution_count": null,
      "outputs": [
        {
          "output_type": "stream",
          "name": "stdout",
          "text": [
            "[[46  0]\n",
            " [10 58]]\n"
          ]
        }
      ]
    },
    {
      "cell_type": "code",
      "source": [
        "# classification report\n",
        "\n",
        "print(classification_report(y_test, y_pred))"
      ],
      "metadata": {
        "colab": {
          "base_uri": "https://localhost:8080/"
        },
        "id": "TB37oIeRfeMO",
        "outputId": "a12eb887-36ae-4c2f-b181-9205ec370977"
      },
      "execution_count": null,
      "outputs": [
        {
          "output_type": "stream",
          "name": "stdout",
          "text": [
            "              precision    recall  f1-score   support\n",
            "\n",
            "           0       0.82      1.00      0.90        46\n",
            "           1       1.00      0.85      0.92        68\n",
            "\n",
            "    accuracy                           0.91       114\n",
            "   macro avg       0.91      0.93      0.91       114\n",
            "weighted avg       0.93      0.91      0.91       114\n",
            "\n"
          ]
        }
      ]
    },
    {
      "cell_type": "markdown",
      "source": [
        "validate set"
      ],
      "metadata": {
        "id": "s5HUdpFlfhEE"
      }
    },
    {
      "cell_type": "code",
      "source": [
        "y_pred_val = rand_clf.predict(X_val)\n",
        "cm_val = confusion_matrix(y_val, y_pred_val)\n",
        "print('Confusion Matrix')\n",
        "print('-'*16)\n",
        "print(cm_val,'\\n')\n",
        "print('-'*16)\n"
      ],
      "metadata": {
        "colab": {
          "base_uri": "https://localhost:8080/"
        },
        "id": "KD-W5RAzfhYj",
        "outputId": "ce50382b-72c9-4876-a03d-5187c154ca44"
      },
      "execution_count": null,
      "outputs": [
        {
          "output_type": "stream",
          "name": "stdout",
          "text": [
            "Confusion Matrix\n",
            "----------------\n",
            "[[58  8]\n",
            " [ 1 24]] \n",
            "\n",
            "----------------\n"
          ]
        }
      ]
    },
    {
      "cell_type": "code",
      "source": [
        " # Calculate score\n",
        "sen_val = sensitivity(cm_val)\n",
        "spec_val = specificity(cm_val)\n",
        "acc_val = accuracy(cm_val)\n",
        "pre_val = precision(cm_val)\n",
        "f1_val = f1(cm_val)"
      ],
      "metadata": {
        "colab": {
          "base_uri": "https://localhost:8080/"
        },
        "id": "NWH08WFXfi_B",
        "outputId": "f90cbe48-0aed-444e-801c-1a623a323e22"
      },
      "execution_count": null,
      "outputs": [
        {
          "output_type": "stream",
          "name": "stdout",
          "text": [
            "Sensitivity: 96.00%\n",
            "Specificity: 87.88%\n",
            "Accuracy: 90.11%\n",
            "Precision: 75.00%\n",
            "Sensitivity: 96.00%\n",
            "Precision: 75.00%\n",
            "F1: 84.21%\n"
          ]
        }
      ]
    },
    {
      "cell_type": "code",
      "source": [
        "class_names = ['benign','malignant']\n",
        "# Normalize confusion matrix to percentage\n",
        "cm_norm_val = cm_val.astype('float') / cm_val.sum(axis=1)[:, np.newaxis]\n",
        "# Create plot\n",
        "fig, ax = plt.subplots()\n",
        "im = ax.imshow(cm_norm_val, interpolation='nearest', cmap=\"rocket_r\")\n",
        "ax.grid(False)\n",
        "# Add labels\n",
        "ax.set(xticks=np.arange(cm_norm_val.shape[1]),\n",
        "       yticks=np.arange(cm_norm_val.shape[0]),\n",
        "       xticklabels=class_names, yticklabels=class_names)\n",
        "ax.set_title(\"Validate set\", fontsize=16)\n",
        "ax.set_ylabel('Actual', fontsize=16)\n",
        "ax.set_xlabel('Predicted', fontsize=16)\n",
        "# Add percentage and count values inside plot\n",
        "thresh = cm_norm_val.max() / 2.\n",
        "for i in range(cm_norm_val.shape[0]):\n",
        "    for j in range(cm_norm_val.shape[1]):\n",
        "        ax.text(j, i, '''{}\\n({:.2f}%)'''.format(cm_val[i,j], cm_norm_val[i, j]*100),\n",
        "                ha=\"center\", va=\"center\",\n",
        "                color=\"white\" if cm_norm_val[i, j] > thresh else \"black\")\n",
        "# Show plot\n",
        "plt.show()"
      ],
      "metadata": {
        "colab": {
          "base_uri": "https://localhost:8080/",
          "height": 480
        },
        "id": "bnK3hrjZfll7",
        "outputId": "0affd8ac-0032-4135-c403-b5b6121738dd"
      },
      "execution_count": null,
      "outputs": [
        {
          "output_type": "display_data",
          "data": {
            "text/plain": [
              "<Figure size 640x480 with 1 Axes>"
            ],
            "image/png": "[encoded data removed]"
          },
          "metadata": {}
        }
      ]
    },
    {
      "cell_type": "markdown",
      "source": [
        "test set"
      ],
      "metadata": {
        "id": "RXPwiiJPfpzS"
      }
    },
    {
      "cell_type": "code",
      "source": [
        "y_pred_test = rand_clf.predict(X_test)\n",
        "# Confusion matrix\n",
        "cm_test_split3 = confusion_matrix(y_test, y_pred_test)\n",
        "print('Confusion Matrix')\n",
        "print('-'*16)\n",
        "print(cm_test_split3,'\\n')\n",
        "print('-'*16)"
      ],
      "metadata": {
        "colab": {
          "base_uri": "https://localhost:8080/"
        },
        "id": "3dF2XouSfqH0",
        "outputId": "51194ccc-d320-49a0-d0f0-41c8a01a8b39"
      },
      "execution_count": null,
      "outputs": [
        {
          "output_type": "stream",
          "name": "stdout",
          "text": [
            "Confusion Matrix\n",
            "----------------\n",
            "[[46  0]\n",
            " [10 58]] \n",
            "\n",
            "----------------\n"
          ]
        }
      ]
    },
    {
      "cell_type": "code",
      "source": [
        "# Calculate score\n",
        "sen_test_split3 = sensitivity(cm_test_split3)\n",
        "spec_test_split3 = specificity(cm_test_split3)\n",
        "acc_test_split3 = accuracy(cm_test_split3)\n",
        "pre_test_split3 = precision(cm_test_split3)\n",
        "f1_test_split3 = f1(cm_test_split3)"
      ],
      "metadata": {
        "colab": {
          "base_uri": "https://localhost:8080/"
        },
        "id": "Sx3xLvKqftjC",
        "outputId": "94e5ffa6-c7c3-478e-bb66-5c46a1d07d7d"
      },
      "execution_count": null,
      "outputs": [
        {
          "output_type": "stream",
          "name": "stdout",
          "text": [
            "Sensitivity: 85.29%\n",
            "Specificity: 100.00%\n",
            "Accuracy: 91.23%\n",
            "Precision: 100.00%\n",
            "Sensitivity: 85.29%\n",
            "Precision: 100.00%\n",
            "F1: 92.06%\n"
          ]
        }
      ]
    },
    {
      "cell_type": "code",
      "source": [
        "# plot confusion matrix\n",
        "class_names = ['benign','malignant']\n",
        "# Normalize confusion matrix to percentage\n",
        "cm_norm_test = cm_test_split3.astype('float') / cm_test_split3.sum(axis=1)[:, np.newaxis]\n",
        "# Create plot\n",
        "fig, ax = plt.subplots()\n",
        "im = ax.imshow(cm_norm_test, interpolation='nearest', cmap=\"rocket_r\")\n",
        "ax.grid(False)\n",
        "# Add labels\n",
        "ax.set(xticks=np.arange(cm_norm_test.shape[1]),\n",
        "       yticks=np.arange(cm_norm_test.shape[0]),\n",
        "       xticklabels=class_names, yticklabels=class_names)\n",
        "ax.set_title(\"Test set\", fontsize=16)\n",
        "ax.set_ylabel('Actual', fontsize=16)\n",
        "ax.set_xlabel('Predicted', fontsize=16)\n",
        "# Add percentage and count values inside plot\n",
        "thresh = cm_norm_test.max() / 2.\n",
        "for i in range(cm_norm_test.shape[0]):\n",
        "    for j in range(cm_norm_test.shape[1]):\n",
        "        ax.text(j, i, '''{}\\n({:.2f}%)'''.format(cm_test_split3[i,j], cm_norm_test[i, j]*100),\n",
        "                ha=\"center\", va=\"center\",\n",
        "                color=\"white\" if cm_norm_test[i, j] > thresh else \"black\")\n",
        "# Show plot\n",
        "plt.show()"
      ],
      "metadata": {
        "colab": {
          "base_uri": "https://localhost:8080/",
          "height": 480
        },
        "id": "u30t_Vn_fz63",
        "outputId": "7bde9f78-5906-4e48-b97c-15b069c09eef"
      },
      "execution_count": null,
      "outputs": [
        {
          "output_type": "display_data",
          "data": {
            "text/plain": [
              "<Figure size 640x480 with 1 Axes>"
            ],
            "image/png": "[encoded data removed]"
          },
          "metadata": {}
        }
      ]
    },
    {
      "cell_type": "markdown",
      "source": [
        "plot ROC curve"
      ],
      "metadata": {
        "id": "cjaZAWhwf2gv"
      }
    },
    {
      "cell_type": "code",
      "source": [
        "fpr1, tpr1, thr1 = roc_curve(y_val, y_pred_val)\n",
        "auc_val = roc_auc_score(y_val, y_pred_val)\n",
        "fpr2, tpr2, thr2 = roc_curve(y_test, y_pred_test)\n",
        "auc_test_split3 = roc_auc_score(y_test, y_pred_test)\n",
        "\n",
        "print(\"---------------------------------------\")\n",
        "print(\"AUC validate: %.4f\" % auc_val)\n",
        "print(\"AUC test: %.4f\" % auc_test_split3)"
      ],
      "metadata": {
        "colab": {
          "base_uri": "https://localhost:8080/"
        },
        "id": "jDx_66Ktf28I",
        "outputId": "91209ffa-a17f-4eab-897b-ce24860a5681"
      },
      "execution_count": null,
      "outputs": [
        {
          "output_type": "stream",
          "name": "stdout",
          "text": [
            "---------------------------------------\n",
            "AUC validate: 0.9194\n",
            "AUC test: 0.9265\n"
          ]
        }
      ]
    },
    {
      "cell_type": "code",
      "source": [
        "# plt.plot(fpr,tpr,label=\"data 1, auc=\"+str(auc),color='red')\n",
        "plt.plot(fpr1,tpr1,label=\"ROC valid, auc=\"+str(\"%.4f\" % auc_val))\n",
        "plt.plot(fpr2,tpr2,label=\"ROC test, auc=\"+str(\"%.4f\" % auc_test_split3))\n",
        "plt.plot([0, 1], [0, 1], linestyle=\"--\", lw=2, color=\"r\", label=\"Chance\", alpha=0.8)\n",
        "plt.legend(loc=4)\n",
        "plt.show()"
      ],
      "metadata": {
        "colab": {
          "base_uri": "https://localhost:8080/",
          "height": 430
        },
        "id": "snVg4axyf6cU",
        "outputId": "912a0e29-7587-40fd-fc42-cbc41c863297"
      },
      "execution_count": null,
      "outputs": [
        {
          "output_type": "display_data",
          "data": {
            "text/plain": [
              "<Figure size 640x480 with 1 Axes>"
            ],
            "image/png": "[encoded data removed]"
          },
          "metadata": {}
        }
      ]
    },
    {
      "cell_type": "markdown",
      "source": [
        "## split4"
      ],
      "metadata": {
        "id": "fEXiXB1vgEM0"
      }
    },
    {
      "cell_type": "markdown",
      "source": [
        "Training set"
      ],
      "metadata": {
        "id": "8P34uplCgIwL"
      }
    },
    {
      "cell_type": "code",
      "source": [
        "train_data = pd.read_csv(\"oversampled_train_split4.csv\")\n",
        "train_data.shape"
      ],
      "metadata": {
        "colab": {
          "base_uri": "https://localhost:8080/"
        },
        "id": "7oJL0OsfgJDv",
        "outputId": "6929a4dd-262a-4860-ae2e-6f100f2f75b3"
      },
      "execution_count": null,
      "outputs": [
        {
          "output_type": "execute_result",
          "data": {
            "text/plain": [
              "(478, 32)"
            ]
          },
          "metadata": {},
          "execution_count": 101
        }
      ]
    },
    {
      "cell_type": "code",
      "source": [
        "x_train = train_data[train_data.columns[2:]]\n",
        "x_train.shape"
      ],
      "metadata": {
        "colab": {
          "base_uri": "https://localhost:8080/"
        },
        "id": "Oh_m66wPgJG4",
        "outputId": "7da67743-a8cf-4fd2-97ba-3de082a9cdaf"
      },
      "execution_count": null,
      "outputs": [
        {
          "output_type": "execute_result",
          "data": {
            "text/plain": [
              "(478, 30)"
            ]
          },
          "metadata": {},
          "execution_count": 102
        }
      ]
    },
    {
      "cell_type": "code",
      "source": [
        "y_train = train_data[train_data.columns[1]]\n",
        "#y_train.shape\n",
        "le = LabelEncoder()\n",
        "y_train = np.array(le.fit_transform(y_train))\n",
        "print(le.classes_)"
      ],
      "metadata": {
        "colab": {
          "base_uri": "https://localhost:8080/"
        },
        "id": "R6Wj_RmBgJTn",
        "outputId": "33a78d55-d73c-4411-e82c-0949bf33807c"
      },
      "execution_count": null,
      "outputs": [
        {
          "output_type": "stream",
          "name": "stdout",
          "text": [
            "['B' 'M']\n"
          ]
        }
      ]
    },
    {
      "cell_type": "markdown",
      "source": [
        "Testing set\n",
        "\n"
      ],
      "metadata": {
        "id": "AtL4dgPegJki"
      }
    },
    {
      "cell_type": "code",
      "source": [
        "test_data = pd.read_csv(\"test.csv\")\n",
        "test_data.shape"
      ],
      "metadata": {
        "colab": {
          "base_uri": "https://localhost:8080/"
        },
        "id": "jKM59UDggJt6",
        "outputId": "c5636ae1-ab94-4280-81b2-ae7fc160b233"
      },
      "execution_count": null,
      "outputs": [
        {
          "output_type": "execute_result",
          "data": {
            "text/plain": [
              "(114, 33)"
            ]
          },
          "metadata": {},
          "execution_count": 104
        }
      ]
    },
    {
      "cell_type": "code",
      "source": [
        "x_test = test_data[test_data.columns[3:]]\n",
        "x_test.shape"
      ],
      "metadata": {
        "colab": {
          "base_uri": "https://localhost:8080/"
        },
        "id": "ijdjHVUPgJxE",
        "outputId": "be2895dc-8f7e-4c18-91bb-f3b78e04eaaf"
      },
      "execution_count": null,
      "outputs": [
        {
          "output_type": "execute_result",
          "data": {
            "text/plain": [
              "(114, 30)"
            ]
          },
          "metadata": {},
          "execution_count": 105
        }
      ]
    },
    {
      "cell_type": "code",
      "source": [
        "y_test = test_data[test_data.columns[2]]\n",
        "#y_test.shape\n",
        "le = LabelEncoder()\n",
        "y_test = np.array(le.fit_transform(y_test))\n",
        "print(le.classes_)"
      ],
      "metadata": {
        "colab": {
          "base_uri": "https://localhost:8080/"
        },
        "id": "IVeTdE5pgJ0d",
        "outputId": "4eafcfe8-eda1-436b-c6f7-2ee34706b3a9"
      },
      "execution_count": null,
      "outputs": [
        {
          "output_type": "stream",
          "name": "stdout",
          "text": [
            "['B' 'M']\n"
          ]
        }
      ]
    },
    {
      "cell_type": "markdown",
      "source": [
        "Validation set"
      ],
      "metadata": {
        "id": "d5TkLyCSgKCQ"
      }
    },
    {
      "cell_type": "code",
      "source": [
        "val_data = pd.read_csv(\"val_split4.csv\")\n",
        "val_data.shape"
      ],
      "metadata": {
        "colab": {
          "base_uri": "https://localhost:8080/"
        },
        "id": "Mmm2K-bzgKMr",
        "outputId": "ad28e26c-7e68-4485-bae5-ed207819d061"
      },
      "execution_count": null,
      "outputs": [
        {
          "output_type": "execute_result",
          "data": {
            "text/plain": [
              "(91, 32)"
            ]
          },
          "metadata": {},
          "execution_count": 107
        }
      ]
    },
    {
      "cell_type": "code",
      "source": [
        "x_val = val_data[val_data.columns[2:]]\n",
        "x_val.shape"
      ],
      "metadata": {
        "colab": {
          "base_uri": "https://localhost:8080/"
        },
        "id": "8C5M90QRgKQn",
        "outputId": "638dfdbb-b670-4e65-9e4e-4c7f7fd9407c"
      },
      "execution_count": null,
      "outputs": [
        {
          "output_type": "execute_result",
          "data": {
            "text/plain": [
              "(91, 30)"
            ]
          },
          "metadata": {},
          "execution_count": 108
        }
      ]
    },
    {
      "cell_type": "code",
      "source": [
        "y_val = val_data[val_data.columns[1]]\n",
        "#y_val.shape\n",
        "le = LabelEncoder()\n",
        "y_val = np.array(le.fit_transform(y_val))\n",
        "print(le.classes_)"
      ],
      "metadata": {
        "colab": {
          "base_uri": "https://localhost:8080/"
        },
        "id": "pkROrURfgKTg",
        "outputId": "cdeeaec0-e90e-4786-9d0e-f647eb757538"
      },
      "execution_count": null,
      "outputs": [
        {
          "output_type": "stream",
          "name": "stdout",
          "text": [
            "['B' 'M']\n"
          ]
        }
      ]
    },
    {
      "cell_type": "markdown",
      "source": [
        "step train - split4"
      ],
      "metadata": {
        "id": "CdeiUT_wgm0i"
      }
    },
    {
      "cell_type": "code",
      "source": [
        "x_train = x_train.to_numpy()\n",
        "x_test = x_test.to_numpy()\n",
        "x_val = x_val.to_numpy()"
      ],
      "metadata": {
        "id": "sT394_XRgm-3"
      },
      "execution_count": null,
      "outputs": []
    },
    {
      "cell_type": "code",
      "source": [
        "from sklearn.model_selection import train_test_split\n",
        "\n",
        "print(\"Shape of training set:\", x_train.shape)\n",
        "print(\"Shape of test set:\", x_test.shape)"
      ],
      "metadata": {
        "colab": {
          "base_uri": "https://localhost:8080/"
        },
        "id": "VfcZL51CgqvS",
        "outputId": "a18d9fa4-9ed3-40bb-c195-2903b1240b44"
      },
      "execution_count": null,
      "outputs": [
        {
          "output_type": "stream",
          "name": "stdout",
          "text": [
            "Shape of training set: (478, 30)\n",
            "Shape of test set: (114, 30)\n"
          ]
        }
      ]
    },
    {
      "cell_type": "code",
      "source": [
        "from sklearn.preprocessing import StandardScaler\n",
        "\n",
        "ss = StandardScaler()\n",
        "X_train = ss.fit_transform(x_train)\n",
        "X_test = ss.fit_transform(x_test)\n",
        "X_val = ss.fit_transform(x_val)"
      ],
      "metadata": {
        "id": "gozlP2pygsfN"
      },
      "execution_count": null,
      "outputs": []
    },
    {
      "cell_type": "markdown",
      "source": [
        "param"
      ],
      "metadata": {
        "id": "Y2IG9VsKguZF"
      }
    },
    {
      "cell_type": "code",
      "source": [
        "# instantiate classifier ,ยกตัวอย่างclassifier \n",
        "#rf_classifier = RandomForestClassifier(random_state=42, n_estimators=10)"
      ],
      "metadata": {
        "id": "R39lSfGkgwQF"
      },
      "execution_count": null,
      "outputs": []
    },
    {
      "cell_type": "code",
      "source": [
        "# give to GridSearchCV\n",
        "#param_dist = {'max_depth': [2, 3, 4],\n",
        "#             'bootstrap': [True, False],\n",
        "#              'max_features': ['auto', 'sqrt', 'log2', None],\n",
        "#              'criterion': ['gini', 'entropy']}\n",
        "\n",
        "# set up the GridSearch\n",
        "#cv_rf = GridSearchCV(rf_classifier, cv = 5,param_grid=param_dist,n_jobs = 3)\n",
        "\n",
        "# fit the GridSearch\n",
        "#cv_rf.fit(X_train, y_train)\n",
        "#cv_rf.fit(X_val, y_val) #ใช้อันนี้\n",
        "#print('Best Parameters using grid search: \\n', cv_rf.best_params_)\n",
        "\n",
        "#print('Best criterion parameter:', cv_rf.best_params_['criterion'])\n",
        "#print('Best max_depth parameter:', cv_rf.best_params_['max_depth'])\n",
        "#print('Best bootstrap parameter:', cv_rf.best_params_['bootstrap'])\n",
        "#print('Best max_features parameter:', cv_rf.best_params_['max_features'])\n",
        "#print('Best score:', cv_rf.best_score_)"
      ],
      "metadata": {
        "id": "MKHue7F7g4cD"
      },
      "execution_count": null,
      "outputs": []
    },
    {
      "cell_type": "markdown",
      "source": [
        "Best Parameters using grid search: \n",
        " {'bootstrap': True, 'criterion': 'gini', 'max_depth': 2, 'max_features': 'auto'}\n",
        "Best criterion parameter: gini\n",
        "Best max_depth parameter: 2\n",
        "Best bootstrap parameter: True\n",
        "Best max_features parameter: auto\n",
        "\n",
        "**Best score: 0.9666666666666666**"
      ],
      "metadata": {
        "id": "ZQF0ImCbg4xp"
      }
    },
    {
      "cell_type": "code",
      "source": [
        "from sklearn.ensemble import RandomForestClassifier\n",
        "\n",
        "rand_clf = RandomForestClassifier(criterion = 'entropy', max_depth = 4, max_features = 'log2', min_samples_leaf = 2, min_samples_split = 3, n_estimators = 130)\n",
        "rand_clf.fit(X_train, y_train) # map"
      ],
      "metadata": {
        "colab": {
          "base_uri": "https://localhost:8080/",
          "height": 108
        },
        "id": "hZQ0fLH3g49I",
        "outputId": "da491e16-4d31-410a-dedd-838cd0eda278"
      },
      "execution_count": null,
      "outputs": [
        {
          "output_type": "execute_result",
          "data": {
            "text/plain": [
              "RandomForestClassifier(criterion='entropy', max_depth=4, max_features='log2',\n",
              "                       min_samples_leaf=2, min_samples_split=3,\n",
              "                       n_estimators=130)"
            ],
            "text/html": [
              "<style>#sk-container-id-4 {color: black;background-color: white;}#sk-container-id-4 pre{padding: 0;}#sk-container-id-4 div.sk-toggleable {background-color: white;}#sk-container-id-4 label.sk-toggleable__label {cursor: pointer;display: block;width: 100%;margin-bottom: 0;padding: 0.3em;box-sizing: border-box;text-align: center;}#sk-container-id-4 label.sk-toggleable__label-arrow:before {content: \"▸\";float: left;margin-right: 0.25em;color: #696969;}#sk-container-id-4 label.sk-toggleable__label-arrow:hover:before {color: black;}#sk-container-id-4 div.sk-estimator:hover label.sk-toggleable__label-arrow:before {color: black;}#sk-container-id-4 div.sk-toggleable__content {max-height: 0;max-width: 0;overflow: hidden;text-align: left;background-color: #f0f8ff;}#sk-container-id-4 div.sk-toggleable__content pre {margin: 0.2em;color: black;border-radius: 0.25em;background-color: #f0f8ff;}#sk-container-id-4 input.sk-toggleable__control:checked~div.sk-toggleable__content {max-height: 200px;max-width: 100%;overflow: auto;}#sk-container-id-4 input.sk-toggleable__control:checked~label.sk-toggleable__label-arrow:before {content: \"▾\";}#sk-container-id-4 div.sk-estimator input.sk-toggleable__control:checked~label.sk-toggleable__label {background-color: #d4ebff;}#sk-container-id-4 div.sk-label input.sk-toggleable__control:checked~label.sk-toggleable__label {background-color: #d4ebff;}#sk-container-id-4 input.sk-hidden--visually {border: 0;clip: rect(1px 1px 1px 1px);clip: rect(1px, 1px, 1px, 1px);height: 1px;margin: -1px;overflow: hidden;padding: 0;position: absolute;width: 1px;}#sk-container-id-4 div.sk-estimator {font-family: monospace;background-color: #f0f8ff;border: 1px dotted black;border-radius: 0.25em;box-sizing: border-box;margin-bottom: 0.5em;}#sk-container-id-4 div.sk-estimator:hover {background-color: #d4ebff;}#sk-container-id-4 div.sk-parallel-item::after {content: \"\";width: 100%;border-bottom: 1px solid gray;flex-grow: 1;}#sk-container-id-4 div.sk-label:hover label.sk-toggleable__label {background-color: #d4ebff;}#sk-container-id-4 div.sk-serial::before {content: \"\";position: absolute;border-left: 1px solid gray;box-sizing: border-box;top: 0;bottom: 0;left: 50%;z-index: 0;}#sk-container-id-4 div.sk-serial {display: flex;flex-direction: column;align-items: center;background-color: white;padding-right: 0.2em;padding-left: 0.2em;position: relative;}#sk-container-id-4 div.sk-item {position: relative;z-index: 1;}#sk-container-id-4 div.sk-parallel {display: flex;align-items: stretch;justify-content: center;background-color: white;position: relative;}#sk-container-id-4 div.sk-item::before, #sk-container-id-4 div.sk-parallel-item::before {content: \"\";position: absolute;border-left: 1px solid gray;box-sizing: border-box;top: 0;bottom: 0;left: 50%;z-index: -1;}#sk-container-id-4 div.sk-parallel-item {display: flex;flex-direction: column;z-index: 1;position: relative;background-color: white;}#sk-container-id-4 div.sk-parallel-item:first-child::after {align-self: flex-end;width: 50%;}#sk-container-id-4 div.sk-parallel-item:last-child::after {align-self: flex-start;width: 50%;}#sk-container-id-4 div.sk-parallel-item:only-child::after {width: 0;}#sk-container-id-4 div.sk-dashed-wrapped {border: 1px dashed gray;margin: 0 0.4em 0.5em 0.4em;box-sizing: border-box;padding-bottom: 0.4em;background-color: white;}#sk-container-id-4 div.sk-label label {font-family: monospace;font-weight: bold;display: inline-block;line-height: 1.2em;}#sk-container-id-4 div.sk-label-container {text-align: center;}#sk-container-id-4 div.sk-container {/* jupyter's `normalize.less` sets `[hidden] { display: none; }` but bootstrap.min.css set `[hidden] { display: none !important; }` so we also need the `!important` here to be able to override the default hidden behavior on the sphinx rendered scikit-learn.org. See: https://github.com/scikit-learn/scikit-learn/issues/21755 */display: inline-block !important;position: relative;}#sk-container-id-4 div.sk-text-repr-fallback {display: none;}</style><div id=\"sk-container-id-4\" class=\"sk-top-container\"><div class=\"sk-text-repr-fallback\"><pre>RandomForestClassifier(criterion=&#x27;entropy&#x27;, max_depth=4, max_features=&#x27;log2&#x27;,\n",
              "                       min_samples_leaf=2, min_samples_split=3,\n",
              "                       n_estimators=130)</pre><b>In a Jupyter environment, please rerun this cell to show the HTML representation or trust the notebook. <br />On GitHub, the HTML representation is unable to render, please try loading this page with nbviewer.org.</b></div><div class=\"sk-container\" hidden><div class=\"sk-item\"><div class=\"sk-estimator sk-toggleable\"><input class=\"sk-toggleable__control sk-hidden--visually\" id=\"sk-estimator-id-4\" type=\"checkbox\" checked><label for=\"sk-estimator-id-4\" class=\"sk-toggleable__label sk-toggleable__label-arrow\">RandomForestClassifier</label><div class=\"sk-toggleable__content\"><pre>RandomForestClassifier(criterion=&#x27;entropy&#x27;, max_depth=4, max_features=&#x27;log2&#x27;,\n",
              "                       min_samples_leaf=2, min_samples_split=3,\n",
              "                       n_estimators=130)</pre></div></div></div></div></div>"
            ]
          },
          "metadata": {},
          "execution_count": 115
        }
      ]
    },
    {
      "cell_type": "code",
      "source": [
        "y_pred = rand_clf.predict(X_test)"
      ],
      "metadata": {
        "id": "_4i3KhRYhMSW"
      },
      "execution_count": null,
      "outputs": []
    },
    {
      "cell_type": "code",
      "source": [
        "y_pred"
      ],
      "metadata": {
        "colab": {
          "base_uri": "https://localhost:8080/"
        },
        "id": "BLaCagt8hMif",
        "outputId": "d5f79f05-42fb-4164-bf7f-40a021190d48"
      },
      "execution_count": null,
      "outputs": [
        {
          "output_type": "execute_result",
          "data": {
            "text/plain": [
              "array([1, 1, 1, 1, 1, 1, 1, 1, 1, 1, 1, 1, 1, 1, 1, 1, 1, 1, 1, 0, 0, 0,\n",
              "       1, 1, 1, 1, 1, 1, 1, 1, 1, 1, 1, 1, 1, 1, 1, 0, 0, 0, 0, 0, 1, 1,\n",
              "       0, 1, 0, 1, 0, 0, 0, 0, 0, 1, 1, 0, 1, 1, 0, 0, 0, 0, 1, 0, 1, 1,\n",
              "       0, 0, 0, 0, 1, 0, 1, 0, 0, 1, 0, 1, 1, 0, 0, 0, 1, 1, 0, 1, 1, 1,\n",
              "       0, 0, 0, 1, 0, 0, 1, 1, 0, 0, 0, 1, 0, 0, 0, 0, 0, 1, 0, 0, 1, 0,\n",
              "       0, 0, 0, 0])"
            ]
          },
          "metadata": {},
          "execution_count": 117
        }
      ]
    },
    {
      "cell_type": "code",
      "source": [
        "# accuracy score\n",
        "\n",
        "print(accuracy_score(y_train, rand_clf.predict(X_train)))\n",
        "\n",
        "ran_clf_acc = accuracy_score(y_test, y_pred)\n",
        "print(ran_clf_acc)"
      ],
      "metadata": {
        "colab": {
          "base_uri": "https://localhost:8080/"
        },
        "id": "dfjguKd-hMlG",
        "outputId": "de28b84d-cb23-45aa-9a93-32f0c6e7f450"
      },
      "execution_count": null,
      "outputs": [
        {
          "output_type": "stream",
          "name": "stdout",
          "text": [
            "0.9916317991631799\n",
            "0.9385964912280702\n"
          ]
        }
      ]
    },
    {
      "cell_type": "code",
      "source": [
        "# confusion matrix\n",
        "\n",
        "print(confusion_matrix(y_test, y_pred))"
      ],
      "metadata": {
        "colab": {
          "base_uri": "https://localhost:8080/"
        },
        "id": "Ve-e-VVVhMsH",
        "outputId": "6bac8aca-aa9f-46e4-f0f5-cb51f0678ae2"
      },
      "execution_count": null,
      "outputs": [
        {
          "output_type": "stream",
          "name": "stdout",
          "text": [
            "[[46  0]\n",
            " [ 7 61]]\n"
          ]
        }
      ]
    },
    {
      "cell_type": "code",
      "source": [
        "# classification report\n",
        "\n",
        "print(classification_report(y_test, y_pred))"
      ],
      "metadata": {
        "colab": {
          "base_uri": "https://localhost:8080/"
        },
        "id": "xHDqa48hhWG9",
        "outputId": "bb93e18a-80e4-4d92-bc83-fb5972487499"
      },
      "execution_count": null,
      "outputs": [
        {
          "output_type": "stream",
          "name": "stdout",
          "text": [
            "              precision    recall  f1-score   support\n",
            "\n",
            "           0       0.87      1.00      0.93        46\n",
            "           1       1.00      0.90      0.95        68\n",
            "\n",
            "    accuracy                           0.94       114\n",
            "   macro avg       0.93      0.95      0.94       114\n",
            "weighted avg       0.95      0.94      0.94       114\n",
            "\n"
          ]
        }
      ]
    },
    {
      "cell_type": "markdown",
      "source": [
        "validate set"
      ],
      "metadata": {
        "id": "BCvxatU-hX0Z"
      }
    },
    {
      "cell_type": "code",
      "source": [
        "y_pred_val = rand_clf.predict(X_val)\n",
        "cm_val = confusion_matrix(y_val, y_pred_val)\n",
        "print('Confusion Matrix')\n",
        "print('-'*16)\n",
        "print(cm_val,'\\n')\n",
        "print('-'*16)"
      ],
      "metadata": {
        "colab": {
          "base_uri": "https://localhost:8080/"
        },
        "id": "FvAdqpg_hauZ",
        "outputId": "aa453a61-978e-4f99-8335-e1ac7df8cd54"
      },
      "execution_count": null,
      "outputs": [
        {
          "output_type": "stream",
          "name": "stdout",
          "text": [
            "Confusion Matrix\n",
            "----------------\n",
            "[[58 14]\n",
            " [ 0 19]] \n",
            "\n",
            "----------------\n"
          ]
        }
      ]
    },
    {
      "cell_type": "code",
      "source": [
        "# Calculate score\n",
        "sen_val = sensitivity(cm_val)\n",
        "spec_val = specificity(cm_val)\n",
        "acc_val = accuracy(cm_val)\n",
        "pre_val = precision(cm_val)\n",
        "f1_val = f1(cm_val)"
      ],
      "metadata": {
        "colab": {
          "base_uri": "https://localhost:8080/"
        },
        "id": "cA_9acW6hcVw",
        "outputId": "3c13b03e-2997-4dcf-9b40-d636d61c87a5"
      },
      "execution_count": null,
      "outputs": [
        {
          "output_type": "stream",
          "name": "stdout",
          "text": [
            "Sensitivity: 100.00%\n",
            "Specificity: 80.56%\n",
            "Accuracy: 84.62%\n",
            "Precision: 57.58%\n",
            "Sensitivity: 100.00%\n",
            "Precision: 57.58%\n",
            "F1: 73.08%\n"
          ]
        }
      ]
    },
    {
      "cell_type": "code",
      "source": [
        "class_names = ['benign','malignant']\n",
        "# Normalize confusion matrix to percentage\n",
        "cm_norm_val = cm_val.astype('float') / cm_val.sum(axis=1)[:, np.newaxis]\n",
        "# Create plot\n",
        "fig, ax = plt.subplots()\n",
        "im = ax.imshow(cm_norm_val, interpolation='nearest', cmap=\"rocket_r\")\n",
        "ax.grid(False)\n",
        "# Add labels\n",
        "ax.set(xticks=np.arange(cm_norm_val.shape[1]),\n",
        "       yticks=np.arange(cm_norm_val.shape[0]),\n",
        "       xticklabels=class_names, yticklabels=class_names)\n",
        "ax.set_title(\"Validate set\", fontsize=16)\n",
        "ax.set_ylabel('Actual', fontsize=16)\n",
        "ax.set_xlabel('Predicted', fontsize=16)\n",
        "# Add percentage and count values inside plot\n",
        "thresh = cm_norm_val.max() / 2.\n",
        "for i in range(cm_norm_val.shape[0]):\n",
        "    for j in range(cm_norm_val.shape[1]):\n",
        "        ax.text(j, i, '''{}\\n({:.2f}%)'''.format(cm_val[i,j], cm_norm_val[i, j]*100),\n",
        "                ha=\"center\", va=\"center\",\n",
        "                color=\"white\" if cm_norm_val[i, j] > thresh else \"black\")\n",
        "# Show plot\n",
        "plt.show()"
      ],
      "metadata": {
        "colab": {
          "base_uri": "https://localhost:8080/",
          "height": 480
        },
        "id": "KJ2N5wF5heTX",
        "outputId": "9ceb6042-2cee-4d51-dd59-a762afd66cf5"
      },
      "execution_count": null,
      "outputs": [
        {
          "output_type": "display_data",
          "data": {
            "text/plain": [
              "<Figure size 640x480 with 1 Axes>"
            ],
            "image/png": "[encoded data removed]"
          },
          "metadata": {}
        }
      ]
    },
    {
      "cell_type": "markdown",
      "source": [
        "test set"
      ],
      "metadata": {
        "id": "S7LAc_Oihf0M"
      }
    },
    {
      "cell_type": "code",
      "source": [
        "y_pred_test = rand_clf.predict(X_test)\n",
        "# Confusion matrix\n",
        "cm_test_split4 = confusion_matrix(y_test, y_pred_test)\n",
        "print('Confusion Matrix')\n",
        "print('-'*16)\n",
        "print(cm_test_split4,'\\n')\n",
        "print('-'*16)"
      ],
      "metadata": {
        "colab": {
          "base_uri": "https://localhost:8080/"
        },
        "id": "ZLKvKqVOhhV3",
        "outputId": "da71f26a-b1fa-4c70-b9ce-0259f4ffc331"
      },
      "execution_count": null,
      "outputs": [
        {
          "output_type": "stream",
          "name": "stdout",
          "text": [
            "Confusion Matrix\n",
            "----------------\n",
            "[[46  0]\n",
            " [ 7 61]] \n",
            "\n",
            "----------------\n"
          ]
        }
      ]
    },
    {
      "cell_type": "code",
      "source": [
        "# Calculate score\n",
        "sen_test_split4 = sensitivity(cm_test_split4)\n",
        "spec_test_split4 = specificity(cm_test_split4)\n",
        "acc_test_split4 = accuracy(cm_test_split4)\n",
        "pre_test_split4 = precision(cm_test_split4)\n",
        "f1_test_split4 = f1(cm_test_split4)"
      ],
      "metadata": {
        "colab": {
          "base_uri": "https://localhost:8080/"
        },
        "id": "Y3tX7dUghkR4",
        "outputId": "4df448d7-846e-44ec-c1a5-ef10ff82fbdb"
      },
      "execution_count": null,
      "outputs": [
        {
          "output_type": "stream",
          "name": "stdout",
          "text": [
            "Sensitivity: 89.71%\n",
            "Specificity: 100.00%\n",
            "Accuracy: 93.86%\n",
            "Precision: 100.00%\n",
            "Sensitivity: 89.71%\n",
            "Precision: 100.00%\n",
            "F1: 94.57%\n"
          ]
        }
      ]
    },
    {
      "cell_type": "code",
      "source": [
        "# plot confusion matrix\n",
        "class_names = ['benign','malignant']\n",
        "# Normalize confusion matrix to percentage\n",
        "cm_norm_test = cm_test_split4.astype('float') / cm_test_split4.sum(axis=1)[:, np.newaxis]\n",
        "# Create plot\n",
        "fig, ax = plt.subplots()\n",
        "im = ax.imshow(cm_norm_test, interpolation='nearest', cmap=\"rocket_r\")\n",
        "ax.grid(False)\n",
        "# Add labels\n",
        "ax.set(xticks=np.arange(cm_norm_test.shape[1]),\n",
        "       yticks=np.arange(cm_norm_test.shape[0]),\n",
        "       xticklabels=class_names, yticklabels=class_names)\n",
        "ax.set_title(\"Test set\", fontsize=16)\n",
        "ax.set_ylabel('Actual', fontsize=16)\n",
        "ax.set_xlabel('Predicted', fontsize=16)\n",
        "# Add percentage and count values inside plot\n",
        "thresh = cm_norm_test.max() / 2.\n",
        "for i in range(cm_norm_test.shape[0]):\n",
        "    for j in range(cm_norm_test.shape[1]):\n",
        "        ax.text(j, i, '''{}\\n({:.2f}%)'''.format(cm_test_split4[i,j], cm_norm_test[i, j]*100),\n",
        "                ha=\"center\", va=\"center\",\n",
        "                color=\"white\" if cm_norm_test[i, j] > thresh else \"black\")\n",
        "# Show plot\n",
        "plt.show()"
      ],
      "metadata": {
        "colab": {
          "base_uri": "https://localhost:8080/",
          "height": 480
        },
        "id": "71CTH5mAhq4j",
        "outputId": "b7956c4c-0b3f-4806-9729-b41bc0801ac0"
      },
      "execution_count": null,
      "outputs": [
        {
          "output_type": "display_data",
          "data": {
            "text/plain": [
              "<Figure size 640x480 with 1 Axes>"
            ],
            "image/png": "[encoded data removed]"
          },
          "metadata": {}
        }
      ]
    },
    {
      "cell_type": "markdown",
      "source": [
        "plot ROC curve"
      ],
      "metadata": {
        "id": "xoMoG99fhsQV"
      }
    },
    {
      "cell_type": "code",
      "source": [
        "fpr1, tpr1, thr1 = roc_curve(y_val, y_pred_val)\n",
        "auc_val = roc_auc_score(y_val, y_pred_val)\n",
        "fpr2, tpr2, thr2 = roc_curve(y_test, y_pred_test)\n",
        "auc_test_split4 = roc_auc_score(y_test, y_pred_test)\n",
        "\n",
        "print(\"---------------------------------------\")\n",
        "print(\"AUC validate: %.4f\" % auc_val)\n",
        "print(\"AUC test: %.4f\" % auc_test_split4)"
      ],
      "metadata": {
        "colab": {
          "base_uri": "https://localhost:8080/"
        },
        "id": "ppsTNRM5hucs",
        "outputId": "8ac42aab-7767-4485-dc41-25efea49ea94"
      },
      "execution_count": null,
      "outputs": [
        {
          "output_type": "stream",
          "name": "stdout",
          "text": [
            "---------------------------------------\n",
            "AUC validate: 0.9028\n",
            "AUC test: 0.9485\n"
          ]
        }
      ]
    },
    {
      "cell_type": "code",
      "source": [
        "# plt.plot(fpr,tpr,label=\"data 1, auc=\"+str(auc),color='red')\n",
        "plt.plot(fpr1,tpr1,label=\"ROC valid, auc=\"+str(\"%.4f\" % auc_val))\n",
        "plt.plot(fpr2,tpr2,label=\"ROC test, auc=\"+str(\"%.4f\" % auc_test_split4))\n",
        "plt.plot([0, 1], [0, 1], linestyle=\"--\", lw=2, color=\"r\", label=\"Chance\", alpha=0.8)\n",
        "plt.legend(loc=4)\n",
        "plt.show()"
      ],
      "metadata": {
        "colab": {
          "base_uri": "https://localhost:8080/",
          "height": 430
        },
        "id": "Gq_yAxvrhxmC",
        "outputId": "7485ad09-b8fe-4ce6-f132-87321f827353"
      },
      "execution_count": null,
      "outputs": [
        {
          "output_type": "display_data",
          "data": {
            "text/plain": [
              "<Figure size 640x480 with 1 Axes>"
            ],
            "image/png": "[encoded data removed]"
          },
          "metadata": {}
        }
      ]
    },
    {
      "cell_type": "markdown",
      "source": [
        "## split5"
      ],
      "metadata": {
        "id": "yiJfD4O3hymV"
      }
    },
    {
      "cell_type": "markdown",
      "source": [
        "Training set"
      ],
      "metadata": {
        "id": "F2XE8SCDiMDg"
      }
    },
    {
      "cell_type": "code",
      "source": [
        "train_data = pd.read_csv(\"oversampled_train_split5.csv\")\n",
        "train_data.shape"
      ],
      "metadata": {
        "colab": {
          "base_uri": "https://localhost:8080/"
        },
        "id": "WR6SF_ZRiOxt",
        "outputId": "c7570ff4-a9a1-4228-afcc-c6e2bfdf8801"
      },
      "execution_count": null,
      "outputs": [
        {
          "output_type": "execute_result",
          "data": {
            "text/plain": [
              "(486, 32)"
            ]
          },
          "metadata": {},
          "execution_count": 129
        }
      ]
    },
    {
      "cell_type": "code",
      "source": [
        "x_train = train_data[train_data.columns[2:]]\n",
        "x_train.shape"
      ],
      "metadata": {
        "colab": {
          "base_uri": "https://localhost:8080/"
        },
        "id": "5ynWutq-iO01",
        "outputId": "d82d49d9-a817-4564-857a-c0b7ff4a71e3"
      },
      "execution_count": null,
      "outputs": [
        {
          "output_type": "execute_result",
          "data": {
            "text/plain": [
              "(486, 30)"
            ]
          },
          "metadata": {},
          "execution_count": 130
        }
      ]
    },
    {
      "cell_type": "code",
      "source": [
        "y_train = train_data[train_data.columns[1]]\n",
        "#y_train.shape\n",
        "le = LabelEncoder()\n",
        "y_train = np.array(le.fit_transform(y_train))\n",
        "print(le.classes_)"
      ],
      "metadata": {
        "colab": {
          "base_uri": "https://localhost:8080/"
        },
        "id": "huXG-s_FiO4m",
        "outputId": "a9db8f18-617d-4fb6-e9ce-be629de7795c"
      },
      "execution_count": null,
      "outputs": [
        {
          "output_type": "stream",
          "name": "stdout",
          "text": [
            "['B' 'M']\n"
          ]
        }
      ]
    },
    {
      "cell_type": "markdown",
      "source": [
        "Testing set"
      ],
      "metadata": {
        "id": "-8_9lkYIiPMB"
      }
    },
    {
      "cell_type": "code",
      "source": [
        "test_data = pd.read_csv(\"test.csv\")\n",
        "test_data.shape"
      ],
      "metadata": {
        "colab": {
          "base_uri": "https://localhost:8080/"
        },
        "id": "I0Yf_8aTiYOJ",
        "outputId": "fa06d1cf-95e0-4dfd-b206-74c65115c9f4"
      },
      "execution_count": null,
      "outputs": [
        {
          "output_type": "execute_result",
          "data": {
            "text/plain": [
              "(114, 33)"
            ]
          },
          "metadata": {},
          "execution_count": 132
        }
      ]
    },
    {
      "cell_type": "code",
      "source": [
        "x_test = test_data[test_data.columns[3:]]\n",
        "x_test.shape"
      ],
      "metadata": {
        "colab": {
          "base_uri": "https://localhost:8080/"
        },
        "id": "ZqkKVkGciYRQ",
        "outputId": "f8b63986-ddd1-4b26-cc58-c92e2964a982"
      },
      "execution_count": null,
      "outputs": [
        {
          "output_type": "execute_result",
          "data": {
            "text/plain": [
              "(114, 30)"
            ]
          },
          "metadata": {},
          "execution_count": 133
        }
      ]
    },
    {
      "cell_type": "code",
      "source": [
        "y_test = test_data[test_data.columns[2]]\n",
        "#y_test.shape\n",
        "le = LabelEncoder()\n",
        "y_test = np.array(le.fit_transform(y_test))\n",
        "print(le.classes_)"
      ],
      "metadata": {
        "colab": {
          "base_uri": "https://localhost:8080/"
        },
        "id": "vtTGrGA8iYV9",
        "outputId": "8177099f-290a-4b8f-e522-ee8a1e8bb364"
      },
      "execution_count": null,
      "outputs": [
        {
          "output_type": "stream",
          "name": "stdout",
          "text": [
            "['B' 'M']\n"
          ]
        }
      ]
    },
    {
      "cell_type": "markdown",
      "source": [
        "Validation set"
      ],
      "metadata": {
        "id": "A3fPHUbcigjA"
      }
    },
    {
      "cell_type": "code",
      "source": [
        "val_data = pd.read_csv(\"val_split5.csv\")\n",
        "val_data.shape"
      ],
      "metadata": {
        "colab": {
          "base_uri": "https://localhost:8080/"
        },
        "id": "AO-Y9ZcAihGp",
        "outputId": "888717bd-8f63-4219-a0e5-bb1ee4ff53ba"
      },
      "execution_count": null,
      "outputs": [
        {
          "output_type": "execute_result",
          "data": {
            "text/plain": [
              "(91, 32)"
            ]
          },
          "metadata": {},
          "execution_count": 135
        }
      ]
    },
    {
      "cell_type": "code",
      "source": [
        "x_val = val_data[val_data.columns[2:]]\n",
        "x_val.shape"
      ],
      "metadata": {
        "colab": {
          "base_uri": "https://localhost:8080/"
        },
        "id": "tAWhzgJgihJw",
        "outputId": "545561cf-b832-41c2-cd12-18595256ac1e"
      },
      "execution_count": null,
      "outputs": [
        {
          "output_type": "execute_result",
          "data": {
            "text/plain": [
              "(91, 30)"
            ]
          },
          "metadata": {},
          "execution_count": 136
        }
      ]
    },
    {
      "cell_type": "code",
      "source": [
        "y_val = val_data[val_data.columns[1]]\n",
        "#y_val.shape\n",
        "le = LabelEncoder()\n",
        "y_val = np.array(le.fit_transform(y_val))\n",
        "print(le.classes_)"
      ],
      "metadata": {
        "colab": {
          "base_uri": "https://localhost:8080/"
        },
        "id": "kGWHtZScihP_",
        "outputId": "b333bf51-a067-464e-9519-9b46f069c50a"
      },
      "execution_count": null,
      "outputs": [
        {
          "output_type": "stream",
          "name": "stdout",
          "text": [
            "['B' 'M']\n"
          ]
        }
      ]
    },
    {
      "cell_type": "markdown",
      "source": [
        "step train -split5"
      ],
      "metadata": {
        "id": "UwZRIetqimp8"
      }
    },
    {
      "cell_type": "code",
      "source": [
        "x_train = x_train.to_numpy()\n",
        "x_test = x_test.to_numpy()\n",
        "x_val = x_val.to_numpy()"
      ],
      "metadata": {
        "id": "TWKxnLR5ip8I"
      },
      "execution_count": null,
      "outputs": []
    },
    {
      "cell_type": "code",
      "source": [
        "from sklearn.model_selection import train_test_split\n",
        "\n",
        "print(\"Shape of training set:\", x_train.shape)\n",
        "print(\"Shape of test set:\", x_test.shape)"
      ],
      "metadata": {
        "colab": {
          "base_uri": "https://localhost:8080/"
        },
        "id": "ntmnZREnis52",
        "outputId": "26474ad6-77b9-481a-a4ef-260374af3a3d"
      },
      "execution_count": null,
      "outputs": [
        {
          "output_type": "stream",
          "name": "stdout",
          "text": [
            "Shape of training set: (486, 30)\n",
            "Shape of test set: (114, 30)\n"
          ]
        }
      ]
    },
    {
      "cell_type": "code",
      "source": [
        "from sklearn.preprocessing import StandardScaler\n",
        "\n",
        "ss = StandardScaler()\n",
        "X_train = ss.fit_transform(x_train)\n",
        "X_test = ss.fit_transform(x_test)\n",
        "X_val = ss.fit_transform(x_val)"
      ],
      "metadata": {
        "id": "rAD3JW_qiuiR"
      },
      "execution_count": null,
      "outputs": []
    },
    {
      "cell_type": "markdown",
      "source": [
        "param"
      ],
      "metadata": {
        "id": "Rspytc23ivj4"
      }
    },
    {
      "cell_type": "code",
      "source": [
        "# instantiate classifier ,ยกตัวอย่างclassifier \n",
        "\n",
        "#rf_classifier = RandomForestClassifier(random_state=42, n_estimators=10)"
      ],
      "metadata": {
        "id": "vl5F27YSiwtS"
      },
      "execution_count": null,
      "outputs": []
    },
    {
      "cell_type": "code",
      "source": [
        "# give to GridSearchCV\n",
        "#param_dist = {'max_depth': [2, 3, 4],\n",
        "#             'bootstrap': [True, False],\n",
        "#              'max_features': ['auto', 'sqrt', 'log2', None],\n",
        "#              'criterion': ['gini', 'entropy']}\n",
        "\n",
        "# set up the GridSearch\n",
        "#cv_rf = GridSearchCV(rf_classifier, cv = 5,param_grid=param_dist,n_jobs = 3)\n",
        "\n",
        "# fit the GridSearch\n",
        "#cv_rf.fit(X_train, y_train)\n",
        "#cv_rf.fit(X_val, y_val) #ใช้อันนี้\n",
        "#print('Best Parameters using grid search: \\n', cv_rf.best_params_)\n",
        "\n",
        "#print('Best criterion parameter:', cv_rf.best_params_['criterion'])\n",
        "#print('Best max_depth parameter:', cv_rf.best_params_['max_depth'])\n",
        "#print('Best bootstrap parameter:', cv_rf.best_params_['bootstrap'])\n",
        "#print('Best max_features parameter:', cv_rf.best_params_['max_features'])\n",
        "#print('Best score:', cv_rf.best_score_)"
      ],
      "metadata": {
        "id": "xff8VVeAi66P"
      },
      "execution_count": null,
      "outputs": []
    },
    {
      "cell_type": "markdown",
      "source": [
        "Best Parameters using grid search: \n",
        " {'bootstrap': False, 'criterion': 'gini', 'max_depth': 4, 'max_features': 'log2'}\n",
        "Best criterion parameter: gini\n",
        "Best max_depth parameter: 4\n",
        "Best bootstrap parameter: False\n",
        "Best max_features parameter: log2\n",
        "\n",
        "**Best score: 0.967251461988304** "
      ],
      "metadata": {
        "id": "iLrojivji7IA"
      }
    },
    {
      "cell_type": "code",
      "source": [
        "from sklearn.ensemble import RandomForestClassifier\n",
        "\n",
        "rand_clf = RandomForestClassifier(criterion = 'entropy', max_depth = 4, max_features = 'log2', min_samples_leaf = 2, min_samples_split = 3, n_estimators = 130)\n",
        "rand_clf.fit(X_train, y_train) # map"
      ],
      "metadata": {
        "colab": {
          "base_uri": "https://localhost:8080/",
          "height": 108
        },
        "id": "GgaKiBPei7TM",
        "outputId": "85f0ee0d-bd31-4594-9291-3024ab8ea54d"
      },
      "execution_count": null,
      "outputs": [
        {
          "output_type": "execute_result",
          "data": {
            "text/plain": [
              "RandomForestClassifier(criterion='entropy', max_depth=4, max_features='log2',\n",
              "                       min_samples_leaf=2, min_samples_split=3,\n",
              "                       n_estimators=130)"
            ],
            "text/html": [
              "<style>#sk-container-id-5 {color: black;background-color: white;}#sk-container-id-5 pre{padding: 0;}#sk-container-id-5 div.sk-toggleable {background-color: white;}#sk-container-id-5 label.sk-toggleable__label {cursor: pointer;display: block;width: 100%;margin-bottom: 0;padding: 0.3em;box-sizing: border-box;text-align: center;}#sk-container-id-5 label.sk-toggleable__label-arrow:before {content: \"▸\";float: left;margin-right: 0.25em;color: #696969;}#sk-container-id-5 label.sk-toggleable__label-arrow:hover:before {color: black;}#sk-container-id-5 div.sk-estimator:hover label.sk-toggleable__label-arrow:before {color: black;}#sk-container-id-5 div.sk-toggleable__content {max-height: 0;max-width: 0;overflow: hidden;text-align: left;background-color: #f0f8ff;}#sk-container-id-5 div.sk-toggleable__content pre {margin: 0.2em;color: black;border-radius: 0.25em;background-color: #f0f8ff;}#sk-container-id-5 input.sk-toggleable__control:checked~div.sk-toggleable__content {max-height: 200px;max-width: 100%;overflow: auto;}#sk-container-id-5 input.sk-toggleable__control:checked~label.sk-toggleable__label-arrow:before {content: \"▾\";}#sk-container-id-5 div.sk-estimator input.sk-toggleable__control:checked~label.sk-toggleable__label {background-color: #d4ebff;}#sk-container-id-5 div.sk-label input.sk-toggleable__control:checked~label.sk-toggleable__label {background-color: #d4ebff;}#sk-container-id-5 input.sk-hidden--visually {border: 0;clip: rect(1px 1px 1px 1px);clip: rect(1px, 1px, 1px, 1px);height: 1px;margin: -1px;overflow: hidden;padding: 0;position: absolute;width: 1px;}#sk-container-id-5 div.sk-estimator {font-family: monospace;background-color: #f0f8ff;border: 1px dotted black;border-radius: 0.25em;box-sizing: border-box;margin-bottom: 0.5em;}#sk-container-id-5 div.sk-estimator:hover {background-color: #d4ebff;}#sk-container-id-5 div.sk-parallel-item::after {content: \"\";width: 100%;border-bottom: 1px solid gray;flex-grow: 1;}#sk-container-id-5 div.sk-label:hover label.sk-toggleable__label {background-color: #d4ebff;}#sk-container-id-5 div.sk-serial::before {content: \"\";position: absolute;border-left: 1px solid gray;box-sizing: border-box;top: 0;bottom: 0;left: 50%;z-index: 0;}#sk-container-id-5 div.sk-serial {display: flex;flex-direction: column;align-items: center;background-color: white;padding-right: 0.2em;padding-left: 0.2em;position: relative;}#sk-container-id-5 div.sk-item {position: relative;z-index: 1;}#sk-container-id-5 div.sk-parallel {display: flex;align-items: stretch;justify-content: center;background-color: white;position: relative;}#sk-container-id-5 div.sk-item::before, #sk-container-id-5 div.sk-parallel-item::before {content: \"\";position: absolute;border-left: 1px solid gray;box-sizing: border-box;top: 0;bottom: 0;left: 50%;z-index: -1;}#sk-container-id-5 div.sk-parallel-item {display: flex;flex-direction: column;z-index: 1;position: relative;background-color: white;}#sk-container-id-5 div.sk-parallel-item:first-child::after {align-self: flex-end;width: 50%;}#sk-container-id-5 div.sk-parallel-item:last-child::after {align-self: flex-start;width: 50%;}#sk-container-id-5 div.sk-parallel-item:only-child::after {width: 0;}#sk-container-id-5 div.sk-dashed-wrapped {border: 1px dashed gray;margin: 0 0.4em 0.5em 0.4em;box-sizing: border-box;padding-bottom: 0.4em;background-color: white;}#sk-container-id-5 div.sk-label label {font-family: monospace;font-weight: bold;display: inline-block;line-height: 1.2em;}#sk-container-id-5 div.sk-label-container {text-align: center;}#sk-container-id-5 div.sk-container {/* jupyter's `normalize.less` sets `[hidden] { display: none; }` but bootstrap.min.css set `[hidden] { display: none !important; }` so we also need the `!important` here to be able to override the default hidden behavior on the sphinx rendered scikit-learn.org. See: https://github.com/scikit-learn/scikit-learn/issues/21755 */display: inline-block !important;position: relative;}#sk-container-id-5 div.sk-text-repr-fallback {display: none;}</style><div id=\"sk-container-id-5\" class=\"sk-top-container\"><div class=\"sk-text-repr-fallback\"><pre>RandomForestClassifier(criterion=&#x27;entropy&#x27;, max_depth=4, max_features=&#x27;log2&#x27;,\n",
              "                       min_samples_leaf=2, min_samples_split=3,\n",
              "                       n_estimators=130)</pre><b>In a Jupyter environment, please rerun this cell to show the HTML representation or trust the notebook. <br />On GitHub, the HTML representation is unable to render, please try loading this page with nbviewer.org.</b></div><div class=\"sk-container\" hidden><div class=\"sk-item\"><div class=\"sk-estimator sk-toggleable\"><input class=\"sk-toggleable__control sk-hidden--visually\" id=\"sk-estimator-id-5\" type=\"checkbox\" checked><label for=\"sk-estimator-id-5\" class=\"sk-toggleable__label sk-toggleable__label-arrow\">RandomForestClassifier</label><div class=\"sk-toggleable__content\"><pre>RandomForestClassifier(criterion=&#x27;entropy&#x27;, max_depth=4, max_features=&#x27;log2&#x27;,\n",
              "                       min_samples_leaf=2, min_samples_split=3,\n",
              "                       n_estimators=130)</pre></div></div></div></div></div>"
            ]
          },
          "metadata": {},
          "execution_count": 143
        }
      ]
    },
    {
      "cell_type": "code",
      "source": [
        "y_pred = rand_clf.predict(X_test)"
      ],
      "metadata": {
        "id": "N6bWId-JjEMP"
      },
      "execution_count": null,
      "outputs": []
    },
    {
      "cell_type": "code",
      "source": [
        "y_pred"
      ],
      "metadata": {
        "colab": {
          "base_uri": "https://localhost:8080/"
        },
        "id": "aJLOf3AVjGT5",
        "outputId": "5cce046f-55ef-44df-8a70-443d925ad679"
      },
      "execution_count": null,
      "outputs": [
        {
          "output_type": "execute_result",
          "data": {
            "text/plain": [
              "array([1, 1, 1, 1, 1, 1, 1, 1, 1, 1, 1, 1, 1, 1, 1, 1, 1, 1, 1, 0, 0, 0,\n",
              "       1, 1, 1, 1, 1, 1, 1, 1, 1, 1, 1, 1, 1, 1, 1, 0, 0, 0, 0, 0, 1, 1,\n",
              "       0, 1, 0, 1, 0, 0, 0, 0, 0, 1, 1, 0, 1, 1, 0, 0, 0, 0, 1, 0, 1, 1,\n",
              "       0, 0, 0, 0, 1, 0, 1, 0, 0, 1, 0, 1, 1, 0, 0, 0, 1, 1, 0, 1, 0, 1,\n",
              "       0, 0, 0, 0, 0, 0, 1, 1, 0, 0, 0, 0, 0, 0, 0, 0, 0, 1, 0, 0, 1, 0,\n",
              "       0, 0, 0, 0])"
            ]
          },
          "metadata": {},
          "execution_count": 145
        }
      ]
    },
    {
      "cell_type": "code",
      "source": [
        "# accuracy score\n",
        "\n",
        "print(accuracy_score(y_train, rand_clf.predict(X_train)))\n",
        "\n",
        "ran_clf_acc = accuracy_score(y_test, y_pred)\n",
        "print(ran_clf_acc)"
      ],
      "metadata": {
        "colab": {
          "base_uri": "https://localhost:8080/"
        },
        "id": "Ttv6XbrbjJZB",
        "outputId": "dcb33db0-bc2b-44ab-be72-d1dbb71ead77"
      },
      "execution_count": null,
      "outputs": [
        {
          "output_type": "stream",
          "name": "stdout",
          "text": [
            "0.9794238683127572\n",
            "0.9122807017543859\n"
          ]
        }
      ]
    },
    {
      "cell_type": "code",
      "source": [
        "# confusion matrix\n",
        "\n",
        "print(confusion_matrix(y_test, y_pred))"
      ],
      "metadata": {
        "colab": {
          "base_uri": "https://localhost:8080/"
        },
        "id": "kZ2NlBeEjKHn",
        "outputId": "bb98ca7a-c157-4454-89c5-1f21bc79156e"
      },
      "execution_count": null,
      "outputs": [
        {
          "output_type": "stream",
          "name": "stdout",
          "text": [
            "[[46  0]\n",
            " [10 58]]\n"
          ]
        }
      ]
    },
    {
      "cell_type": "code",
      "source": [
        "# classification report\n",
        "\n",
        "print(classification_report(y_test, y_pred))"
      ],
      "metadata": {
        "colab": {
          "base_uri": "https://localhost:8080/"
        },
        "id": "qA2mKRZZjKPK",
        "outputId": "5ce6e447-bd19-4cf6-be0f-af4113919a33"
      },
      "execution_count": null,
      "outputs": [
        {
          "output_type": "stream",
          "name": "stdout",
          "text": [
            "              precision    recall  f1-score   support\n",
            "\n",
            "           0       0.82      1.00      0.90        46\n",
            "           1       1.00      0.85      0.92        68\n",
            "\n",
            "    accuracy                           0.91       114\n",
            "   macro avg       0.91      0.93      0.91       114\n",
            "weighted avg       0.93      0.91      0.91       114\n",
            "\n"
          ]
        }
      ]
    },
    {
      "cell_type": "markdown",
      "source": [
        "validate set"
      ],
      "metadata": {
        "id": "zdYPaqUMjO8P"
      }
    },
    {
      "cell_type": "code",
      "source": [
        "y_pred_val = rand_clf.predict(X_val)\n",
        "cm_val = confusion_matrix(y_val, y_pred_val)\n",
        "print('Confusion Matrix')\n",
        "print('-'*16)\n",
        "print(cm_val,'\\n')\n",
        "print('-'*16)"
      ],
      "metadata": {
        "colab": {
          "base_uri": "https://localhost:8080/"
        },
        "id": "LK4qwAKDjRVG",
        "outputId": "794f155e-d306-4a8f-f536-33972fba9b40"
      },
      "execution_count": null,
      "outputs": [
        {
          "output_type": "stream",
          "name": "stdout",
          "text": [
            "Confusion Matrix\n",
            "----------------\n",
            "[[55 13]\n",
            " [ 0 23]] \n",
            "\n",
            "----------------\n"
          ]
        }
      ]
    },
    {
      "cell_type": "code",
      "source": [
        " # Calculate score\n",
        "sen_val = sensitivity(cm_val)\n",
        "spec_val = specificity(cm_val)\n",
        "acc_val = accuracy(cm_val)\n",
        "pre_val = precision(cm_val)\n",
        "f1_val = f1(cm_val)"
      ],
      "metadata": {
        "colab": {
          "base_uri": "https://localhost:8080/"
        },
        "id": "kj82GfU-jT1P",
        "outputId": "42e9581b-72cc-4f8d-f53b-d98f70410b9e"
      },
      "execution_count": null,
      "outputs": [
        {
          "output_type": "stream",
          "name": "stdout",
          "text": [
            "Sensitivity: 100.00%\n",
            "Specificity: 80.88%\n",
            "Accuracy: 85.71%\n",
            "Precision: 63.89%\n",
            "Sensitivity: 100.00%\n",
            "Precision: 63.89%\n",
            "F1: 77.97%\n"
          ]
        }
      ]
    },
    {
      "cell_type": "code",
      "source": [
        "class_names = ['benign','malignant']\n",
        "# Normalize confusion matrix to percentage\n",
        "cm_norm_val = cm_val.astype('float') / cm_val.sum(axis=1)[:, np.newaxis]\n",
        "# Create plot\n",
        "fig, ax = plt.subplots()\n",
        "im = ax.imshow(cm_norm_val, interpolation='nearest', cmap=\"rocket_r\")\n",
        "ax.grid(False)\n",
        "# Add labels\n",
        "ax.set(xticks=np.arange(cm_norm_val.shape[1]),\n",
        "       yticks=np.arange(cm_norm_val.shape[0]),\n",
        "       xticklabels=class_names, yticklabels=class_names)\n",
        "ax.set_title(\"Validate set\", fontsize=16)\n",
        "ax.set_ylabel('Actual', fontsize=16)\n",
        "ax.set_xlabel('Predicted', fontsize=16)\n",
        "# Add percentage and count values inside plot\n",
        "thresh = cm_norm_val.max() / 2.\n",
        "for i in range(cm_norm_val.shape[0]):\n",
        "    for j in range(cm_norm_val.shape[1]):\n",
        "        ax.text(j, i, '''{}\\n({:.2f}%)'''.format(cm_val[i,j], cm_norm_val[i, j]*100),\n",
        "                ha=\"center\", va=\"center\",\n",
        "                color=\"white\" if cm_norm_val[i, j] > thresh else \"black\")\n",
        "# Show plot\n",
        "plt.show()"
      ],
      "metadata": {
        "colab": {
          "base_uri": "https://localhost:8080/",
          "height": 480
        },
        "id": "yK64CHXJjXK4",
        "outputId": "2cf737e2-2f36-432d-e989-20d51f840274"
      },
      "execution_count": null,
      "outputs": [
        {
          "output_type": "display_data",
          "data": {
            "text/plain": [
              "<Figure size 640x480 with 1 Axes>"
            ],
            "image/png": "[encoded data removed]"
          },
          "metadata": {}
        }
      ]
    },
    {
      "cell_type": "markdown",
      "source": [
        "test set"
      ],
      "metadata": {
        "id": "IFL_Im7ZjYwH"
      }
    },
    {
      "cell_type": "code",
      "source": [
        "y_pred_test = rand_clf.predict(X_test)\n",
        "# Confusion matrix\n",
        "cm_test_split5 = confusion_matrix(y_test, y_pred_test)\n",
        "print('Confusion Matrix')\n",
        "print('-'*16)\n",
        "print(cm_test_split5,'\\n')\n",
        "print('-'*16)"
      ],
      "metadata": {
        "colab": {
          "base_uri": "https://localhost:8080/"
        },
        "id": "GheLm6k7jaz4",
        "outputId": "3e9a9b6c-f5f3-4bd3-a245-ccf248d117ed"
      },
      "execution_count": null,
      "outputs": [
        {
          "output_type": "stream",
          "name": "stdout",
          "text": [
            "Confusion Matrix\n",
            "----------------\n",
            "[[46  0]\n",
            " [10 58]] \n",
            "\n",
            "----------------\n"
          ]
        }
      ]
    },
    {
      "cell_type": "code",
      "source": [
        "# Calculate score\n",
        "sen_test_split5 = sensitivity(cm_test_split5)\n",
        "spec_test_split5 = specificity(cm_test_split5)\n",
        "acc_test_split5 = accuracy(cm_test_split5)\n",
        "pre_test_split5 = precision(cm_test_split5)\n",
        "f1_test_split5 = f1(cm_test_split5)"
      ],
      "metadata": {
        "colab": {
          "base_uri": "https://localhost:8080/"
        },
        "id": "BgbT180hjiKr",
        "outputId": "aa6b7518-3660-4f37-f281-91467b7a6330"
      },
      "execution_count": null,
      "outputs": [
        {
          "output_type": "stream",
          "name": "stdout",
          "text": [
            "Sensitivity: 85.29%\n",
            "Specificity: 100.00%\n",
            "Accuracy: 91.23%\n",
            "Precision: 100.00%\n",
            "Sensitivity: 85.29%\n",
            "Precision: 100.00%\n",
            "F1: 92.06%\n"
          ]
        }
      ]
    },
    {
      "cell_type": "code",
      "source": [
        "# plot confusion matrix\n",
        "class_names = ['benign','malignant']\n",
        "# Normalize confusion matrix to percentage\n",
        "cm_norm_test = cm_test_split5.astype('float') / cm_test_split5.sum(axis=1)[:, np.newaxis]\n",
        "# Create plot\n",
        "fig, ax = plt.subplots()\n",
        "im = ax.imshow(cm_norm_test, interpolation='nearest', cmap=\"rocket_r\")\n",
        "ax.grid(False)\n",
        "# Add labels\n",
        "ax.set(xticks=np.arange(cm_norm_test.shape[1]),\n",
        "       yticks=np.arange(cm_norm_test.shape[0]),\n",
        "       xticklabels=class_names, yticklabels=class_names)\n",
        "ax.set_title(\"Test set\", fontsize=16)\n",
        "ax.set_ylabel('Actual', fontsize=16)\n",
        "ax.set_xlabel('Predicted', fontsize=16)\n",
        "# Add percentage and count values inside plot\n",
        "thresh = cm_norm_test.max() / 2.\n",
        "for i in range(cm_norm_test.shape[0]):\n",
        "    for j in range(cm_norm_test.shape[1]):\n",
        "        ax.text(j, i, '''{}\\n({:.2f}%)'''.format(cm_test_split5[i,j], cm_norm_test[i, j]*100),\n",
        "                ha=\"center\", va=\"center\",\n",
        "                color=\"white\" if cm_norm_test[i, j] > thresh else \"black\")\n",
        "# Show plot\n",
        "plt.show()"
      ],
      "metadata": {
        "colab": {
          "base_uri": "https://localhost:8080/",
          "height": 480
        },
        "id": "y4PqVyAljoNq",
        "outputId": "39ee8c69-093e-498d-eb85-ef2b7b4ac99e"
      },
      "execution_count": null,
      "outputs": [
        {
          "output_type": "display_data",
          "data": {
            "text/plain": [
              "<Figure size 640x480 with 1 Axes>"
            ],
            "image/png": "[encoded data removed]"
          },
          "metadata": {}
        }
      ]
    },
    {
      "cell_type": "markdown",
      "source": [
        "plot ROC curve"
      ],
      "metadata": {
        "id": "iOfbBAemjpkq"
      }
    },
    {
      "cell_type": "code",
      "source": [
        "fpr1, tpr1, thr1 = roc_curve(y_val, y_pred_val)\n",
        "auc_val = roc_auc_score(y_val, y_pred_val)\n",
        "fpr2, tpr2, thr2 = roc_curve(y_test, y_pred_test)\n",
        "auc_test_split5 = roc_auc_score(y_test, y_pred_test)\n",
        "\n",
        "print(\"---------------------------------------\")\n",
        "print(\"AUC validate: %.4f\" % auc_val)\n",
        "print(\"AUC test: %.4f\" % auc_test_split5)"
      ],
      "metadata": {
        "colab": {
          "base_uri": "https://localhost:8080/"
        },
        "id": "vxxygDlIjuGw",
        "outputId": "78578d7f-6f4e-4969-a993-ffdb14a342f2"
      },
      "execution_count": null,
      "outputs": [
        {
          "output_type": "stream",
          "name": "stdout",
          "text": [
            "---------------------------------------\n",
            "AUC validate: 0.9044\n",
            "AUC test: 0.9265\n"
          ]
        }
      ]
    },
    {
      "cell_type": "code",
      "source": [
        "# plt.plot(fpr,tpr,label=\"data 1, auc=\"+str(auc),color='red')\n",
        "plt.plot(fpr1,tpr1,label=\"ROC valid, auc=\"+str(\"%.4f\" % auc_val))\n",
        "plt.plot(fpr2,tpr2,label=\"ROC test, auc=\"+str(\"%.4f\" % auc_test_split5))\n",
        "plt.plot([0, 1], [0, 1], linestyle=\"--\", lw=2, color=\"r\", label=\"Chance\", alpha=0.8)\n",
        "plt.legend(loc=4)\n",
        "plt.show()"
      ],
      "metadata": {
        "colab": {
          "base_uri": "https://localhost:8080/",
          "height": 430
        },
        "id": "beEm9NWbjweD",
        "outputId": "0a47d66a-2e3a-4b18-a47d-00f0e3bc633e"
      },
      "execution_count": null,
      "outputs": [
        {
          "output_type": "display_data",
          "data": {
            "text/plain": [
              "<Figure size 640x480 with 1 Axes>"
            ],
            "image/png": "[encoded data removed]"
          },
          "metadata": {}
        }
      ]
    },
    {
      "cell_type": "markdown",
      "source": [
        "# Compare"
      ],
      "metadata": {
        "id": "B5WZc3NUj25x"
      }
    },
    {
      "cell_type": "code",
      "source": [
        "test_split1 = np.array([[45, 1], [14, 54]])\n",
        "test_split2 = np.array([[46, 0], [15, 53]])\n",
        "test_split3 = np.array([[45, 1], [17, 51]])\n",
        "test_split4 = np.array([[46, 0], [16, 52]])\n",
        "test_split5 = np.array([[45, 1], [13, 55]])"
      ],
      "metadata": {
        "id": "NW9xypPQj5W1"
      },
      "execution_count": null,
      "outputs": []
    },
    {
      "cell_type": "code",
      "source": [
        "# test_split5"
      ],
      "metadata": {
        "id": "HHEG7HP1j75E"
      },
      "execution_count": null,
      "outputs": []
    },
    {
      "cell_type": "code",
      "source": [
        "overall_test = test_split1 + test_split2 + test_split3 + test_split4 + test_split5\n",
        "overall_test"
      ],
      "metadata": {
        "colab": {
          "base_uri": "https://localhost:8080/"
        },
        "id": "JYcisrsOj-52",
        "outputId": "829941a0-15df-4286-a1f4-8663030964ac"
      },
      "execution_count": null,
      "outputs": [
        {
          "output_type": "execute_result",
          "data": {
            "text/plain": [
              "array([[227,   3],\n",
              "       [ 75, 265]])"
            ]
          },
          "metadata": {},
          "execution_count": 159
        }
      ]
    },
    {
      "cell_type": "code",
      "source": [
        " overall_cm_test = cm_test_split1 + cm_test_split2 + cm_test_split3 + cm_test_split4 + cm_test_split5\n",
        " overall_cm_test"
      ],
      "metadata": {
        "colab": {
          "base_uri": "https://localhost:8080/"
        },
        "id": "Y_zWp7-DkBOG",
        "outputId": "3315b6ff-eb2c-4e1a-8f2d-607ccd3ee927"
      },
      "execution_count": null,
      "outputs": [
        {
          "output_type": "execute_result",
          "data": {
            "text/plain": [
              "array([[230,   0],\n",
              "       [ 46, 294]])"
            ]
          },
          "metadata": {},
          "execution_count": 160
        }
      ]
    },
    {
      "cell_type": "code",
      "source": [
        "label = ['benign','malignant']\n",
        "plt.figure(figsize=(6, 6))\n",
        "# ax = sns.heatmap(cmn, cmap=\"rocket_r\", fmt=\".4f\",annot_kws={'size':16}, annot=True, square=True, xticklabels=label, yticklabels=label)\n",
        "ax = sns.heatmap(overall_test, cmap=\"rocket_r\", fmt=\".01f\",annot_kws={'size':16}, annot=True, square=True, xticklabels=label, yticklabels=label)\n",
        "ax.set_ylabel('Actual', fontsize=20)\n",
        "ax.set_xlabel('Predicted', fontsize=20)\n",
        "# Show plot\n",
        "plt.show()\n",
        "\n",
        "# # plot confusion matrix\n",
        "# class_names = ['benign','malignant']\n",
        "# # Normalize confusion matrix to percentage\n",
        "# overall_test_val = overall_test.astype('float') / overall_test.sum(axis=1)[:, np.newaxis]\n",
        "# # Create plot\n",
        "# fig, ax = plt.subplots()\n",
        "# im = ax.imshow(overall_test_val, interpolation='nearest', cmap=\"rocket_r\")\n",
        "# ax.grid(False)\n",
        "# # Add labels\n",
        "# ax.set(xticks=np.arange(overall_test_val.shape[1]),\n",
        "#        yticks=np.arange(overall_test_val.shape[0]),\n",
        "#        xticklabels=class_names, yticklabels=class_names)\n",
        "# ax.set_title(\"Validate set\", fontsize=16)\n",
        "# ax.set_ylabel('Actual', fontsize=16)\n",
        "# ax.set_xlabel('Predicted', fontsize=16)\n",
        "# # Add percentage and count values inside plot\n",
        "# thresh = overall_test_val.max() / 2.\n",
        "# for i in range(overall_test_val.shape[0]):\n",
        "#     for j in range(overall_test_val.shape[1]):\n",
        "#         ax.text(j, i, '''{}\\n({:.2f}%)'''.format(cm_val[i,j], overall_test_val[i, j]*100),\n",
        "#                 ha=\"center\", va=\"center\",\n",
        "#                 color=\"white\" if overall_test_val[i, j] > thresh else \"black\")\n",
        "# # Show plot\n",
        "# plt.show()"
      ],
      "metadata": {
        "colab": {
          "base_uri": "https://localhost:8080/",
          "height": 511
        },
        "id": "16yiI-NGk4va",
        "outputId": "bf29921d-aac4-41c2-d419-fc70f9d264e7"
      },
      "execution_count": null,
      "outputs": [
        {
          "output_type": "display_data",
          "data": {
            "text/plain": [
              "<Figure size 600x600 with 2 Axes>"
            ],
            "image/png": "[encoded data removed]"
          },
          "metadata": {}
        }
      ]
    },
    {
      "cell_type": "code",
      "source": [
        " sen_split1 = sensitivity(cm_test_split1)\n",
        " sen_split2 = sensitivity(cm_test_split2)\n",
        " sen_split3 = sensitivity(cm_test_split3)\n",
        " sen_split4 = sensitivity(cm_test_split4)\n",
        " sen_split5 = sensitivity(cm_test_split5)\n",
        " sen_overall = sensitivity(overall_cm_test)"
      ],
      "metadata": {
        "colab": {
          "base_uri": "https://localhost:8080/"
        },
        "id": "Tewx2X-fk6an",
        "outputId": "f0b123f1-9715-43bd-ffa9-376767e725ef"
      },
      "execution_count": null,
      "outputs": [
        {
          "output_type": "stream",
          "name": "stdout",
          "text": [
            "Sensitivity: 88.24%\n",
            "Sensitivity: 83.82%\n",
            "Sensitivity: 85.29%\n",
            "Sensitivity: 89.71%\n",
            "Sensitivity: 85.29%\n",
            "Sensitivity: 86.47%\n"
          ]
        }
      ]
    },
    {
      "cell_type": "code",
      "source": [
        " spec_split1 = specificity(cm_test_split1)\n",
        " spec_split2 = specificity(cm_test_split2)\n",
        " spec_split3 = specificity(cm_test_split3)\n",
        " spec_split4 = specificity(cm_test_split4)\n",
        " spec_split5 = specificity(cm_test_split5)\n",
        " spec_overall = specificity(overall_cm_test)"
      ],
      "metadata": {
        "colab": {
          "base_uri": "https://localhost:8080/"
        },
        "id": "FpI5xV3wlBMQ",
        "outputId": "956723ad-d248-4e40-8d44-2e192dc616a3"
      },
      "execution_count": null,
      "outputs": [
        {
          "output_type": "stream",
          "name": "stdout",
          "text": [
            "Specificity: 100.00%\n",
            "Specificity: 100.00%\n",
            "Specificity: 100.00%\n",
            "Specificity: 100.00%\n",
            "Specificity: 100.00%\n",
            "Specificity: 100.00%\n"
          ]
        }
      ]
    },
    {
      "cell_type": "code",
      "source": [
        " acc_split1 = accuracy(cm_test_split1)\n",
        " acc_split2 = accuracy(cm_test_split2)\n",
        " acc_split3 = accuracy(cm_test_split3)\n",
        " acc_split4 = accuracy(cm_test_split4)\n",
        " acc_split5 = accuracy(cm_test_split5)\n",
        " acc_overall = accuracy(overall_cm_test)"
      ],
      "metadata": {
        "colab": {
          "base_uri": "https://localhost:8080/"
        },
        "id": "1QHTsmo0lBNs",
        "outputId": "d578d0c9-825d-47a8-add6-84dd9f5f7064"
      },
      "execution_count": null,
      "outputs": [
        {
          "output_type": "stream",
          "name": "stdout",
          "text": [
            "Accuracy: 92.98%\n",
            "Accuracy: 90.35%\n",
            "Accuracy: 91.23%\n",
            "Accuracy: 93.86%\n",
            "Accuracy: 91.23%\n",
            "Accuracy: 91.93%\n"
          ]
        }
      ]
    },
    {
      "cell_type": "code",
      "source": [
        " pre_split1 = precision(cm_test_split1)\n",
        " pre_split2 = precision(cm_test_split2)\n",
        " pre_split3 = precision(cm_test_split3)\n",
        " pre_split4 = precision(cm_test_split4)\n",
        " pre_split5 = precision(cm_test_split5)\n",
        " pre_overall = precision(overall_cm_test)"
      ],
      "metadata": {
        "colab": {
          "base_uri": "https://localhost:8080/"
        },
        "id": "dUVLYdg3lTZ5",
        "outputId": "a979e932-2916-4283-b46d-a0576f92ebf6"
      },
      "execution_count": null,
      "outputs": [
        {
          "output_type": "stream",
          "name": "stdout",
          "text": [
            "Precision: 100.00%\n",
            "Precision: 100.00%\n",
            "Precision: 100.00%\n",
            "Precision: 100.00%\n",
            "Precision: 100.00%\n",
            "Precision: 100.00%\n"
          ]
        }
      ]
    },
    {
      "cell_type": "code",
      "source": [
        " f1_split1 = f1(cm_test_split1)\n",
        " f1_split2 = f1(cm_test_split2)\n",
        " f1_split3 = f1(cm_test_split3)\n",
        " f1_split4 = f1(cm_test_split4)\n",
        " f1_split5 = f1(cm_test_split5)\n",
        " f1_overall = f1(overall_cm_test)"
      ],
      "metadata": {
        "colab": {
          "base_uri": "https://localhost:8080/"
        },
        "id": "diCqOdUGlVWb",
        "outputId": "cb6e99cf-d739-4eff-82db-4f0f757f2da3"
      },
      "execution_count": null,
      "outputs": [
        {
          "output_type": "stream",
          "name": "stdout",
          "text": [
            "Sensitivity: 88.24%\n",
            "Precision: 100.00%\n",
            "F1: 93.75%\n",
            "Sensitivity: 83.82%\n",
            "Precision: 100.00%\n",
            "F1: 91.20%\n",
            "Sensitivity: 85.29%\n",
            "Precision: 100.00%\n",
            "F1: 92.06%\n",
            "Sensitivity: 89.71%\n",
            "Precision: 100.00%\n",
            "F1: 94.57%\n",
            "Sensitivity: 85.29%\n",
            "Precision: 100.00%\n",
            "F1: 92.06%\n",
            "Sensitivity: 86.47%\n",
            "Precision: 100.00%\n",
            "F1: 92.74%\n"
          ]
        }
      ]
    },
    {
      "cell_type": "code",
      "source": [
        "sensitivity_values = []\n",
        "\n",
        "sensitivity_values.append(sen_test_split1)\n",
        "sensitivity_values.append(sen_test_split2)\n",
        "sensitivity_values.append(sen_test_split3)\n",
        "sensitivity_values.append(sen_test_split4)\n",
        "sensitivity_values.append(sen_test_split5)\n",
        "\n",
        "print(sensitivity_values)\n",
        "\n",
        "# calculating the mean of sample set\n",
        "mean_sensitivity = statistics.mean(sensitivity_values)\n",
        "# Calculate standard deviation of sensitivity\n",
        "sensitivity_sd = statistics.stdev(sensitivity_values)\n",
        "\n",
        "print(\"Mean Sensitivity:\", mean_sensitivity)\n",
        "print(\"Sensitivity Standard Deviation:\", sensitivity_sd)\n",
        "\n",
        "# Print mean sensitivity with standard deviation\n",
        "print(\"Mean Sensitivity: %.2f ± %.2f%%\" % (mean_sensitivity, sensitivity_sd))\n"
      ],
      "metadata": {
        "colab": {
          "base_uri": "https://localhost:8080/"
        },
        "id": "8vaIyEOglZGN",
        "outputId": "2e7a6467-5580-4939-c960-e2e3dd83cd96"
      },
      "execution_count": null,
      "outputs": [
        {
          "output_type": "stream",
          "name": "stdout",
          "text": [
            "[88.23529411764706, 83.82352941176471, 85.29411764705883, 89.70588235294117, 85.29411764705883]\n",
            "Mean Sensitivity: 86.47058823529412\n",
            "Sensitivity Standard Deviation: 2.4164230478169064\n",
            "Mean Sensitivity: 86.47 ± 2.42%\n"
          ]
        }
      ]
    },
    {
      "cell_type": "code",
      "source": [
        "specificity_values = []\n",
        "\n",
        "specificity_values.append(spec_test_split1)\n",
        "specificity_values.append(spec_test_split2)\n",
        "specificity_values.append(spec_test_split3)\n",
        "specificity_values.append(spec_test_split4)\n",
        "specificity_values.append(spec_test_split5)\n",
        "    \n",
        "print(specificity_values)\n",
        "\n",
        "# calculating the mean of sample set\n",
        "mean_specificity = statistics.mean(specificity_values)\n",
        "# Calculate standard deviation of sensitivity\n",
        "specificity_sd = statistics.stdev(specificity_values)\n",
        "\n",
        "print(\"Mean Specificity:\", mean_specificity)\n",
        "print(\"Specificity Standard Deviation:\", specificity_sd)\n",
        "\n",
        "# Print mean specificity with standard deviation\n",
        "print(\"Overall Specificity: %.2f ± %.2f%%\" % (mean_specificity, specificity_sd))"
      ],
      "metadata": {
        "colab": {
          "base_uri": "https://localhost:8080/"
        },
        "id": "VEn7HaYolezW",
        "outputId": "3158c7a4-e1c4-469d-e665-e941be6c5988"
      },
      "execution_count": null,
      "outputs": [
        {
          "output_type": "stream",
          "name": "stdout",
          "text": [
            "[100.0, 100.0, 100.0, 100.0, 100.0]\n",
            "Mean Specificity: 100.0\n",
            "Specificity Standard Deviation: 0.0\n",
            "Overall Specificity: 100.00 ± 0.00%\n"
          ]
        }
      ]
    },
    {
      "cell_type": "code",
      "source": [
        "accuracy_values = []\n",
        "\n",
        "accuracy_values.append(acc_test_split1)\n",
        "accuracy_values.append(acc_test_split2)\n",
        "accuracy_values.append(acc_test_split3)\n",
        "accuracy_values.append(acc_test_split4)\n",
        "accuracy_values.append(acc_test_split5)\n",
        "\n",
        "print(accuracy_values)\n",
        "\n",
        "# calculating the mean of sample set\n",
        "mean_accuracy = statistics.mean(accuracy_values)\n",
        "# Calculate standard deviation of sensitivity\n",
        "accuracy_sd = statistics.stdev(accuracy_values)\n",
        "\n",
        "print(\"Mean accuracy:\", mean_accuracy)\n",
        "print(\"accuracy Standard Deviation:\", accuracy_sd)\n",
        "\n",
        "# Print mean accuracy with standard deviation\n",
        "print(\"Overall accuracy: %.2f ± %.2f%%\" % (mean_accuracy, accuracy_sd))"
      ],
      "metadata": {
        "colab": {
          "base_uri": "https://localhost:8080/"
        },
        "id": "U9UJgIuMlh6D",
        "outputId": "81f35ba0-12b8-4ac5-cbc9-5c781492798b"
      },
      "execution_count": null,
      "outputs": [
        {
          "output_type": "stream",
          "name": "stdout",
          "text": [
            "[92.98245614035088, 90.35087719298247, 91.22807017543859, 93.85964912280701, 91.22807017543859]\n",
            "Mean accuracy: 91.9298245614035\n",
            "accuracy Standard Deviation: 1.4413751513293822\n",
            "Overall accuracy: 91.93 ± 1.44%\n"
          ]
        }
      ]
    },
    {
      "cell_type": "code",
      "source": [
        "pre_values = []\n",
        "\n",
        "pre_values.append(pre_split1)\n",
        "pre_values.append(pre_split2)\n",
        "pre_values.append(pre_split3)\n",
        "pre_values.append(pre_split4)\n",
        "pre_values.append(pre_split5)\n",
        "    \n",
        "print(pre_values)\n",
        "\n",
        "# calculating the mean of sample set\n",
        "mean_pre = statistics.mean(pre_values)\n",
        "# Calculate standard deviation of sensitivity\n",
        "pre_sd = statistics.stdev(pre_values)\n",
        "\n",
        "print(\"Mean precision:\", mean_pre)\n",
        "print(\" Precision Standard Deviation:\", pre_sd)\n",
        "\n",
        "# Print mean specificity with standard deviation\n",
        "print(\"Overall Precision: %.2f ± %.2f%%\" % (mean_pre, pre_sd))"
      ],
      "metadata": {
        "colab": {
          "base_uri": "https://localhost:8080/"
        },
        "id": "2mRtLgsi1DsR",
        "outputId": "6a8eeb21-f591-478a-d7e2-0f3a6603f161"
      },
      "execution_count": null,
      "outputs": [
        {
          "output_type": "stream",
          "name": "stdout",
          "text": [
            "[100.0, 100.0, 100.0, 100.0, 100.0]\n",
            "Mean precision: 100.0\n",
            " Precision Standard Deviation: 0.0\n",
            "Overall Precision: 100.00 ± 0.00%\n"
          ]
        }
      ]
    },
    {
      "cell_type": "code",
      "source": [
        "f1_values = []\n",
        "\n",
        "f1_values.append(f1_test_split1)\n",
        "f1_values.append(f1_test_split2)\n",
        "f1_values.append(f1_test_split3)\n",
        "f1_values.append(f1_test_split4)\n",
        "f1_values.append(f1_test_split5)\n",
        "    \n",
        "print(f1_values)\n",
        "\n",
        "# calculating the mean of sample set\n",
        "mean_f1 = statistics.mean(f1_values)\n",
        "# Calculate standard deviation of sensitivity\n",
        "f1_sd = statistics.stdev(f1_values)\n",
        "\n",
        "print(\"Mean f1:\", mean_f1)\n",
        "print(\"f1 Standard Deviation:\", f1_sd)\n",
        "\n",
        "# Print mean specificity with standard deviation\n",
        "print(\"Overall f1: %.2f ± %.2f%%\" % (mean_f1, f1_sd))"
      ],
      "metadata": {
        "colab": {
          "base_uri": "https://localhost:8080/"
        },
        "id": "HqNp-T9PlkCf",
        "outputId": "5522ab60-8b76-4b3f-8c79-3caac49fc701"
      },
      "execution_count": null,
      "outputs": [
        {
          "output_type": "stream",
          "name": "stdout",
          "text": [
            "[93.75, 91.2, 92.06349206349206, 94.57364341085271, 92.06349206349206]\n",
            "Mean f1: 92.73012550756737\n",
            "f1 Standard Deviation: 1.3846287053282549\n",
            "Overall f1: 92.73 ± 1.38%\n"
          ]
        }
      ]
    },
    {
      "cell_type": "code",
      "source": [
        "auc_values = []\n",
        "\n",
        "auc_values.append(auc_test_split1)\n",
        "auc_values.append(auc_test_split2)\n",
        "auc_values.append(auc_test_split3)\n",
        "auc_values.append(auc_test_split4)\n",
        "auc_values.append(auc_test_split5)\n",
        "    \n",
        "print(auc_values)\n",
        "\n",
        "# calculating the mean of sample set\n",
        "mean_auc = statistics.mean(auc_values)\n",
        "# Calculate standard deviation of sensitivity\n",
        "auc_sd = statistics.stdev(auc_values)\n",
        "\n",
        "print(\"Mean auc:\", mean_auc)\n",
        "print(\"auc Standard Deviation:\", auc_sd)\n",
        "\n",
        "# Print mean auc with standard deviation\n",
        "print(\"Overall auc: %.2f ± %.2f%%\" % (mean_auc, auc_sd))"
      ],
      "metadata": {
        "colab": {
          "base_uri": "https://localhost:8080/"
        },
        "id": "JOOnbuKDlmUD",
        "outputId": "1d7c0e9c-1df2-4916-9cae-69fb90e0feb9"
      },
      "execution_count": null,
      "outputs": [
        {
          "output_type": "stream",
          "name": "stdout",
          "text": [
            "[0.9411764705882353, 0.9191176470588236, 0.9264705882352942, 0.9485294117647058, 0.9264705882352942]\n",
            "Mean auc: 0.9323529411764706\n",
            "auc Standard Deviation: 0.012082115239084503\n",
            "Overall auc: 0.93 ± 0.01%\n"
          ]
        }
      ]
    },
    {
      "cell_type": "markdown",
      "source": [
        "อันล่างไม่เกี่ยว"
      ],
      "metadata": {
        "id": "uY0CgYzW25Da"
      }
    },
    {
      "cell_type": "code",
      "source": [
        "auc_values = []\n",
        "\n",
        "auc_values.append(71.79)\n",
        "auc_values.append(28.57)\n",
        "auc_values.append(68.37)\n",
        "auc_values.append(73.28)\n",
        "auc_values.append(49.22)\n",
        "    \n",
        "print(auc_values)\n",
        "\n",
        "# calculating the mean of sample set\n",
        "mean_auc = statistics.mean(auc_values)\n",
        "# Calculate standard deviation of sensitivity\n",
        "auc_sd = statistics.stdev(auc_values)\n",
        "\n",
        "print(\"Mean Specificity:\", mean_auc)\n",
        "print(\"auc Standard Deviation:\", auc_sd)\n",
        "\n",
        "# Print mean auc with standard deviation\n",
        "print(\"Mean auc: %.2f ± %.2f%%\" % (mean_auc, auc_sd))"
      ],
      "metadata": {
        "colab": {
          "base_uri": "https://localhost:8080/"
        },
        "id": "a2ALEqClloij",
        "outputId": "54214c51-2d99-4ad2-f086-2133019efbf3"
      },
      "execution_count": null,
      "outputs": [
        {
          "output_type": "stream",
          "name": "stdout",
          "text": [
            "[71.79, 28.57, 68.37, 73.28, 49.22]\n",
            "Mean Specificity: 58.246\n",
            "auc Standard Deviation: 19.196940641675173\n",
            "Mean auc: 58.25 ± 19.20%\n"
          ]
        }
      ]
    }
  ]
}