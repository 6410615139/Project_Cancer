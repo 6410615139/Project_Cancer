{
 "cells": [
  {
   "cell_type": "code",
   "execution_count": 5,
   "id": "9c85de31-59d9-4d3f-867e-0b8ba58790e0",
   "metadata": {},
   "outputs": [],
   "source": [
    "import pandas as pd"
   ]
  },
  {
   "cell_type": "code",
   "execution_count": 6,
   "id": "23bc1aaf-3397-43e5-928d-b8ca908e1102",
   "metadata": {},
   "outputs": [],
   "source": [
    "# Read the two CSV files into separate DataFrames\n",
    "f1 = pd.read_csv(\"f1.csv\")\n",
    "f2 = pd.read_csv(\"f2.csv\")\n",
    "f3 = pd.read_csv(\"f3.csv\")\n",
    "f4 = pd.read_csv(\"f4.csv\")\n",
    "f5 = pd.read_csv(\"f5.csv\")"
   ]
  },
  {
   "cell_type": "code",
   "execution_count": 9,
   "id": "42c316bd-daf1-40c2-947b-438d69daf540",
   "metadata": {},
   "outputs": [],
   "source": [
    "def create_split(split_num):\n",
    "    split = \"split{}\".format(split_num)\n",
    "    val = pd.read_csv(\"f{}.csv\".format(split_num))\n",
    "    num_5 = list(range(1,6))\n",
    "    num_5.remove(split_num)\n",
    "    first = pd.read_csv(\"f{}.csv\".format(num_5[0]))\n",
    "    second = pd.read_csv(\"f{}.csv\".format(num_5[1]))\n",
    "    third = pd.read_csv(\"f{}.csv\".format(num_5[2]))\n",
    "    fourth = pd.read_csv(\"f{}.csv\".format(num_5[3]))\n",
    "    train = pd.concat([first, second, third, fourth])\n",
    "    return train, val"
   ]
  },
  {
   "cell_type": "code",
   "execution_count": null,
   "id": "6d979b13-65b5-4d49-a61a-ccd404a49726",
   "metadata": {},
   "outputs": [],
   "source": []
  },
  {
   "cell_type": "code",
   "execution_count": 19,
   "id": "5772f42c-92c3-49de-bc6e-17d4bcfa83ca",
   "metadata": {},
   "outputs": [],
   "source": [
    "train_1, val_1 = create_split(1)\n",
    "train_1.to_csv(\"DATA_progress3/split1/train.csv\",index=False)\n",
    "val_1.to_csv(\"DATA_progress3/split1/val.csv\",index=False)"
   ]
  },
  {
   "cell_type": "code",
   "execution_count": 20,
   "id": "cce76992-3083-42dc-beb9-5192acd7a92f",
   "metadata": {},
   "outputs": [],
   "source": [
    "train_2, val_2 = create_split(2)\n",
    "train_2.to_csv(\"DATA_progress3/split2/train.csv\",index=False)\n",
    "val_2.to_csv(\"DATA_progress3/split2/val.csv\",index=False)"
   ]
  },
  {
   "cell_type": "code",
   "execution_count": 21,
   "id": "31b5abfc-6157-4b1b-8a44-7984b1108ec9",
   "metadata": {},
   "outputs": [],
   "source": [
    "train_3, val_3 = create_split(3)\n",
    "train_3.to_csv(\"DATA_progress3/split3/train.csv\",index=False)\n",
    "val_3.to_csv(\"DATA_progress3/split3/val.csv\",index=False)"
   ]
  },
  {
   "cell_type": "code",
   "execution_count": 22,
   "id": "39663bb9-6fce-4bfc-b05c-c88401a44baf",
   "metadata": {},
   "outputs": [],
   "source": [
    "train_4, val_4 = create_split(4)\n",
    "train_4.to_csv(\"DATA_progress3/split4/train.csv\",index=False)\n",
    "val_4.to_csv(\"DATA_progress3/split4/val.csv\",index=False)"
   ]
  },
  {
   "cell_type": "code",
   "execution_count": 23,
   "id": "aeca1165-ea24-46d7-8553-bdfa424750e9",
   "metadata": {},
   "outputs": [],
   "source": [
    "train_5, val_5 = create_split(5)\n",
    "train_5.to_csv(\"DATA_progress3/split5/train.csv\",index=False)\n",
    "val_5.to_csv(\"DATA_progress3/split5/val.csv\",index=False)"
   ]
  },
  {
   "cell_type": "code",
   "execution_count": null,
   "id": "309d7ea2-30c7-4c91-8cb5-947e3d2846cc",
   "metadata": {},
   "outputs": [],
   "source": []
  },
  {
   "cell_type": "code",
   "execution_count": null,
   "id": "081cf56b-57a1-4a9a-b553-1ce0e6a8a34f",
   "metadata": {},
   "outputs": [],
   "source": []
  }
 ],
 "metadata": {
  "kernelspec": {
   "display_name": "Python 3 (ipykernel)",
   "language": "python",
   "name": "python3"
  },
  "language_info": {
   "codemirror_mode": {
    "name": "ipython",
    "version": 3
   },
   "file_extension": ".py",
   "mimetype": "text/x-python",
   "name": "python",
   "nbconvert_exporter": "python",
   "pygments_lexer": "ipython3",
   "version": "3.9.13"
  }
 },
 "nbformat": 4,
 "nbformat_minor": 5
}
