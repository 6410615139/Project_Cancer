{
 "cells": [
  {
   "cell_type": "code",
   "execution_count": 1,
   "id": "bf183949-1772-4475-8394-17deb52eee18",
   "metadata": {},
   "outputs": [],
   "source": [
    "import pandas as pd\n",
    "import numpy as np"
   ]
  },
  {
   "cell_type": "code",
   "execution_count": 2,
   "id": "8458af73-caa4-4a1b-9da5-8142b1f31988",
   "metadata": {},
   "outputs": [
    {
     "name": "stdout",
     "output_type": "stream",
     "text": [
      "569\n"
     ]
    }
   ],
   "source": [
    "df = pd.read_csv('../drop_data.csv')\n",
    "print(len(df))"
   ]
  },
  {
   "cell_type": "code",
   "execution_count": 3,
   "id": "cb44e58e-1275-43cb-a9f2-af79484da2b4",
   "metadata": {},
   "outputs": [],
   "source": [
    "B_data = df[df[\"diagnosis\"]==\"B\"]\n",
    "M_data = df[df[\"diagnosis\"]==\"M\"]"
   ]
  },
  {
   "cell_type": "code",
   "execution_count": 4,
   "id": "cf386f82-a4b9-4246-9818-6e35a559e8c1",
   "metadata": {},
   "outputs": [
    {
     "name": "stdout",
     "output_type": "stream",
     "text": [
      "357\n",
      "212\n"
     ]
    }
   ],
   "source": [
    "print(len(B_data))\n",
    "print(len(M_data))"
   ]
  },
  {
   "cell_type": "markdown",
   "id": "4f7c7120-0385-4ef1-abf2-f4eba6f1e85d",
   "metadata": {},
   "source": [
    "# Test set 114 data"
   ]
  },
  {
   "cell_type": "code",
   "execution_count": 5,
   "id": "3671d390-1228-466d-8754-a9c0be826942",
   "metadata": {},
   "outputs": [
    {
     "name": "stdout",
     "output_type": "stream",
     "text": [
      "315\n",
      "140\n"
     ]
    }
   ],
   "source": [
    "test_B = B_data.sample(42)\n",
    "test_M = M_data.sample(72)\n",
    "B_data = B_data.drop(test_B.index)\n",
    "M_data = M_data.drop(test_M.index)\n",
    "print(len(B_data))\n",
    "print(len(M_data))"
   ]
  },
  {
   "cell_type": "code",
   "execution_count": 6,
   "id": "c5cce4cc-b345-44e3-b925-ebf40c572396",
   "metadata": {},
   "outputs": [],
   "source": [
    "test = pd.concat([test_B, test_M])"
   ]
  },
  {
   "cell_type": "code",
   "execution_count": 13,
   "id": "41878b99-608b-4601-b1ea-258a49e8f05b",
   "metadata": {},
   "outputs": [],
   "source": [
    "fold_B = B_data.sample(63)\n",
    "fold_M = M_data.sample(28)\n",
    "f1 = pd.concat([fold_B, fold_M])"
   ]
  },
  {
   "cell_type": "code",
   "execution_count": 7,
   "id": "a6f4093e-ce14-4aec-b4bf-eb0a28fa9363",
   "metadata": {},
   "outputs": [],
   "source": [
    "test.to_csv(\"test.csv\", index=False)"
   ]
  },
  {
   "cell_type": "code",
   "execution_count": 17,
   "id": "d44c7a67-67b1-45ca-b199-8102cf81ece9",
   "metadata": {},
   "outputs": [],
   "source": [
    "f1.to_csv(\"f1.csv\", index=False)"
   ]
  },
  {
   "cell_type": "code",
   "execution_count": null,
   "id": "128c048b-24b4-4a46-b947-0b5694098824",
   "metadata": {},
   "outputs": [],
   "source": []
  }
 ],
 "metadata": {
  "kernelspec": {
   "display_name": "Python 3 (ipykernel)",
   "language": "python",
   "name": "python3"
  },
  "language_info": {
   "codemirror_mode": {
    "name": "ipython",
    "version": 3
   },
   "file_extension": ".py",
   "mimetype": "text/x-python",
   "name": "python",
   "nbconvert_exporter": "python",
   "pygments_lexer": "ipython3",
   "version": "3.9.13"
  }
 },
 "nbformat": 4,
 "nbformat_minor": 5
}
