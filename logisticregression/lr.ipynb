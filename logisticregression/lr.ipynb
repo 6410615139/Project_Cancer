{
 "cells": [
  {
   "cell_type": "markdown",
   "id": "d654006e",
   "metadata": {},
   "source": [
    "# import"
   ]
  },
  {
   "cell_type": "code",
   "execution_count": 95,
   "id": "bafa799c",
   "metadata": {
    "tags": []
   },
   "outputs": [],
   "source": [
    "import numpy as np\n",
    "import pandas as pd\n",
    "import seaborn as sns\n",
    "import matplotlib.pyplot as plt\n",
    "import joblib\n",
    "import statistics\n",
    "from sklearn.preprocessing import LabelEncoder, StandardScaler\n",
    "from sklearn.linear_model import LogisticRegression\n",
    "from sklearn.metrics import confusion_matrix, roc_curve, roc_auc_score\n",
    "import sklearn.metrics as metrics\n",
    "from sklearn.model_selection import GridSearchCV"
   ]
  },
  {
   "cell_type": "markdown",
   "id": "3aad2269",
   "metadata": {},
   "source": [
    "# function"
   ]
  },
  {
   "cell_type": "code",
   "execution_count": 96,
   "id": "40d7ce87",
   "metadata": {},
   "outputs": [],
   "source": [
    "def plot_scatter(split, fn, fp):\n",
    "    val_path = \"../kitt/DATA_progress3_new/{}/val/val.csv\".format(split)\n",
    "    val_data = pd.read_csv(val_path)\n",
    "    train_path = \"../kitt/DATA_progress3_new/{}/train/train_oversampling.csv\".format(split)\n",
    "    train_data = pd.read_csv(train_path)\n",
    "    \n",
    "    # false negative : truth=M predicted=B\n",
    "    \n",
    "    # col = ['texture_mean', 'area_mean', 'smoothness_mean',\n",
    "    #    'concavity_mean', 'symmetry_mean', 'fractal_dimension_mean',\n",
    "    #    'texture_se', 'area_se', 'smoothness_se', 'concavity_se', 'symmetry_se',\n",
    "    #    'fractal_dimension_se', 'smoothness_worst', 'concavity_worst',\n",
    "    #    'symmetry_worst', 'fractal_dimension_worst']\n",
    "    \n",
    "    x_col = 'area_mean'\n",
    "    y_col = 'area_se'\n",
    "    \n",
    "    # Get the false predictions data from the original data using the indices of false predictions\n",
    "    fn = val_data.iloc[fn]\n",
    "    fp = val_data.iloc[fp]\n",
    "     \n",
    "    # Get the true predictions data from the original data using the indices of true predictions\n",
    "    benign_data = train_data[229:]\n",
    "    malignant_data= train_data[:228]\n",
    "\n",
    "    # Create the scatter plot with false predictions data as red dots and true predictions data as blue dots\n",
    "    plt.scatter(benign_data[x_col], benign_data[y_col], color='blue', label='True Negative', alpha=0.5)\n",
    "    plt.scatter(malignant_data[x_col], malignant_data[y_col], color='green', label='True Positive', alpha=0.5)\n",
    "    plt.scatter(fn[x_col], fn[y_col], color='yellow', label='False Negative')\n",
    "    plt.scatter(fp[x_col], fp[y_col], color='red', label='False Positive')\n",
    "\n",
    "    # Add legend and labels\n",
    "    plt.legend()\n",
    "    plt.xlabel(x_col)\n",
    "    plt.ylabel(y_col)\n",
    "\n",
    "    # Show the plot\n",
    "    plt.show()"
   ]
  },
  {
   "cell_type": "code",
   "execution_count": 97,
   "id": "6d245ca3",
   "metadata": {
    "tags": []
   },
   "outputs": [],
   "source": [
    "# # tn, fp, fn, tp = each_index(cm)\n",
    "def each_index(metrix):\n",
    "    TN = metrix[0][0]\n",
    "    FP = metrix[0][1]\n",
    "    FN = metrix[1][0]\n",
    "    TP = metrix[1][1]\n",
    "    return TN, FP, FN, TP\n",
    "def sensitivity(metrix):\n",
    "    TN, FP, FN, TP = each_index(metrix)\n",
    "    # Calculate sensitivity\n",
    "    sensitivity = TP / (TP + FN) * 100\n",
    "    print(\"Sensitivity: %.2f%%\" % sensitivity)\n",
    "    return sensitivity\n",
    "def specificity(metrix):\n",
    "    TN, FP, FN, TP = each_index(metrix)\n",
    "    # Calculate specificity\n",
    "    specificity = TN / (TN + FP) * 100\n",
    "    print(\"Specificity: %.2f%%\" % specificity)\n",
    "    return specificity\n",
    "def accuracy(metrix):\n",
    "    TN, FP, FN, TP = each_index(metrix)\n",
    "    # Calculate accuracy\n",
    "    accuracy = ((TP + TN) / (TP + TN + FP + FN)) *100\n",
    "    print(\"Accuracy: %.2f%%\" % accuracy)\n",
    "    return accuracy\n",
    "def precision(metrix):\n",
    "    TN, FP, FN, TP = each_index(metrix)\n",
    "    # Calculate accuracy\n",
    "    precision = (TP / (TP + FP)) *100\n",
    "    print(\"Precision: %.2f%%\" % precision)\n",
    "    return precision\n",
    "def f1(metrix):\n",
    "    TN, FP, FN, TP = each_index(metrix)\n",
    "    # Calculate f1\n",
    "    recall = sensitivity(metrix)\n",
    "    pre = precision(metrix)\n",
    "    f1 = ((2*pre*recall) / (pre+recall))\n",
    "    print(\"F1: %.2f%%\" % f1)\n",
    "    return f1"
   ]
  },
  {
   "cell_type": "code",
   "execution_count": 98,
   "id": "352eb9e7",
   "metadata": {
    "tags": []
   },
   "outputs": [],
   "source": [
    "def setup(split):\n",
    "    # setting split and path\n",
    "    path = \"../kitt/DATA_progress3_new\"\n",
    "    train_path = \"{}/{}/train/train_oversampling.csv\".format(path,split)\n",
    "    test_path =  \"{}/test.csv\".format(path)\n",
    "    valid_path = \"{}/{}/val/val.csv\".format(path,split)\n",
    "\n",
    "    print(train_path)\n",
    "    # Load the train set\n",
    "    train_data = pd.read_csv(train_path)\n",
    "    print(train_data.shape)\n",
    "    x_train = train_data[train_data.columns[2:]]\n",
    "    print(x_train.shape)\n",
    "    y_train = train_data[train_data.columns[1]]\n",
    "    le = LabelEncoder()\n",
    "    y_train = np.array(le.fit_transform(y_train))\n",
    "    print(le.classes_)\n",
    "    print(test_path)\n",
    "    # Load the test set\n",
    "    test_data = pd.read_csv(test_path)\n",
    "    print(test_data.shape)\n",
    "    x_test = test_data[test_data.columns[2:]]\n",
    "    print(x_test.shape)\n",
    "    y_test = test_data[test_data.columns[1]]\n",
    "    le = LabelEncoder()\n",
    "    y_test = np.array(le.fit_transform(y_test))\n",
    "    print(le.classes_)\n",
    "\n",
    "    print(valid_path)\n",
    "    # Load the validation set\n",
    "    val_data = pd.read_csv(valid_path)\n",
    "    print(val_data.shape)\n",
    "    x_val = val_data[val_data.columns[2:]]\n",
    "    print(x_val.shape)\n",
    "    y_val = val_data[val_data.columns[1]]\n",
    "    le = LabelEncoder()\n",
    "    y_val = np.array(le.fit_transform(y_val))\n",
    "    print(le.classes_)\n",
    "\n",
    "    # StandardScaler\n",
    "    sc = StandardScaler()\n",
    "    x_train = x_train.to_numpy()\n",
    "    x_test = x_test.to_numpy()\n",
    "    x_val = x_val.to_numpy()\n",
    "    x_train = sc.fit_transform(x_train)\n",
    "    x_test = sc.transform(x_test)\n",
    "    x_val = sc.transform(x_val)\n",
    "    \n",
    "    return x_train,y_train,x_test,y_test,x_val,y_val"
   ]
  },
  {
   "cell_type": "code",
   "execution_count": 99,
   "id": "77269bd9",
   "metadata": {
    "tags": []
   },
   "outputs": [],
   "source": [
    "def cal_score_all(cm_val):\n",
    "    sen_val = sensitivity(cm_val)\n",
    "    spec_val = specificity(cm_val)\n",
    "    acc_val = accuracy(cm_val)\n",
    "    pre_val = precision(cm_val)\n",
    "    f1_score_val = f1(cm_val)"
   ]
  },
  {
   "cell_type": "code",
   "execution_count": 100,
   "id": "416bcf81",
   "metadata": {
    "tags": []
   },
   "outputs": [],
   "source": [
    "def plot_cm(cm_val, save=False,which=\"-\"):\n",
    "    class_names = ['benign','malignant']\n",
    "    # Normalize confusion matrix to percentage\n",
    "    cm_norm_val = cm_val.astype('float') / cm_val.sum(axis=1)[:, np.newaxis]\n",
    "    # Create plot\n",
    "    fig, ax = plt.subplots()\n",
    "    im = ax.imshow(cm_norm_val, interpolation='nearest', cmap=\"rocket_r\")\n",
    "    ax.grid(False)\n",
    "    # Add labels\n",
    "    ax.set(xticks=np.arange(cm_norm_val.shape[1]),\n",
    "           yticks=np.arange(cm_norm_val.shape[0]),\n",
    "           xticklabels=class_names, yticklabels=class_names)\n",
    "    ax.set_title(which, fontsize=16)\n",
    "    ax.set_ylabel('Actual', fontsize=16)\n",
    "    ax.set_xlabel('Predicted', fontsize=16)\n",
    "    # Add percentage and count values inside plot\n",
    "    thresh = cm_norm_val.max() / 2.\n",
    "    for i in range(cm_norm_val.shape[0]):\n",
    "        for j in range(cm_norm_val.shape[1]):\n",
    "            ax.text(j, i, '''{}\\n({:.2f}%)'''.format(cm_val[i,j], cm_norm_val[i, j]*100),\n",
    "                    ha=\"center\", va=\"center\",\n",
    "                    color=\"white\" if cm_norm_val[i, j] > thresh else \"black\",\n",
    "                   fontsize=20)\n",
    "    if save is not False:\n",
    "        save_path = '{}_{}.png'.format(split)\n",
    "        plt.savefig(save_path)\n",
    "        print(\"Save fig at {}\".format(save_path))\n",
    "    plt.show()"
   ]
  },
  {
   "cell_type": "code",
   "execution_count": 101,
   "id": "0fda80ce",
   "metadata": {
    "tags": []
   },
   "outputs": [],
   "source": [
    "def plot_ROC():\n",
    "    fpr1, tpr1, thr1 = metrics.roc_curve(y_val,  y_pred_val)\n",
    "    auc1 = metrics.roc_auc_score(y_val,  y_pred_val)\n",
    "    fpr2, tpr2, thr2 = metrics.roc_curve(y_test,  y_pred_test)\n",
    "    auc2 = metrics.roc_auc_score(y_test,  y_pred_test)\n",
    "    gmeans2 = np.sqrt(tpr2 * (1-fpr2))\n",
    "    ix2 = np.argmax(gmeans2)\n",
    "    print(\"---------------------------------------\")\n",
    "    print(\"AUC validate: %.4f\" % auc1)\n",
    "    print(\"AUC test: %.4f\" % auc2)\n",
    "    plt.plot(fpr1,tpr1,label=\"ROC valid, auc=\"+str(\"%.4f\" % auc1))\n",
    "    plt.plot(fpr2,tpr2,label=\"ROC test, auc=\"+str(\"%.4f\" % auc2))\n",
    "    plt.plot([0, 1], [0, 1], linestyle=\"--\", lw=2, color=\"r\", label=\"Chance\", alpha=0.8)\n",
    "\n",
    "    plt.legend(loc=4)\n",
    "    plt.show()"
   ]
  },
  {
   "cell_type": "code",
   "execution_count": 102,
   "id": "f245ce3d",
   "metadata": {
    "tags": []
   },
   "outputs": [],
   "source": [
    "def to_labels(pos_probs, threshold):\n",
    "    return (pos_probs >= threshold).astype('int')\n",
    "    \n",
    "def thresholding(y_val, y_pred_val):\n",
    "    fpr, tpr, thresholds = metrics.roc_curve(y_val,  y_pred_val[:, 1])\n",
    "    # get the best threshold\n",
    "    J = tpr - fpr\n",
    "    ix = np.argmax(J)\n",
    "    best_thresh = thresholds[ix]\n",
    "    print('Best Threshold=%f' % (best_thresh))\n",
    "    print('FPR: %.4f\\nTPR: %.4f' %(fpr[ix], tpr[ix]))\n",
    "    y_pred_val_new = to_labels(y_pred_val[:, 1], best_thresh)\n",
    "    return y_pred_val_new"
   ]
  },
  {
   "cell_type": "code",
   "execution_count": 103,
   "id": "d1cdf345",
   "metadata": {
    "tags": []
   },
   "outputs": [],
   "source": [
    "def evaluate(param,split):\n",
    "    model_path = \"../logisticregression/models/param{}/lr_model_{}.pkl\".format(param,split)\n",
    "    print(model_path)\n",
    "    loaded_model = joblib.load(model_path)\n",
    "\n",
    "    print(\"############## validate set ################\")\n",
    "    y_pred_val_raw = loaded_model.predict_proba(x_val)\n",
    "    y_pred_val = thresholding(y_val, y_pred_val_raw)\n",
    "    \n",
    "    # Confusion matrix\n",
    "    cm_val = confusion_matrix(y_val, y_pred_val)\n",
    "    print('Confusion Matrix')\n",
    "    print('-'*16)\n",
    "    print(cm_val,'\\n')\n",
    "    print('-'*16)\n",
    "\n",
    "    # Calculate score\n",
    "    print(split)\n",
    "    cal_score_all(cm_val)\n",
    "    \n",
    "    # plot confusion matrix\n",
    "    plot_cm(cm_val, which=\"Validate set\")\n",
    "    \n",
    "    # ################# test set ##################\n",
    "    label = ['benign','malignant']\n",
    "    print(\"################# test set ##################\")\n",
    "    y_pred_test_raw = loaded_model.predict_proba(x_test)\n",
    "    y_pred_test = thresholding(y_test, y_pred_test_raw)\n",
    "\n",
    "    # Confusion matrix\n",
    "    cm_test = confusion_matrix(y_test, y_pred_test)\n",
    "    print('Confusion Matrix')\n",
    "    print('-'*16)\n",
    "    print(cm_test,'\\n')\n",
    "    print('-'*16)\n",
    "\n",
    "    # Calculate score\n",
    "    print(split)\n",
    "    cal_score_all(cm_test)\n",
    "\n",
    "    # plot confusion matrix\n",
    "    plot_cm(cm_test,which=\"Test set\")\n",
    "\n",
    "    ################## plot ROC curve ########################\n",
    "    fpr1, tpr1, thr1 = metrics.roc_curve(y_val,  y_pred_val_raw[:,1])\n",
    "    auc1 = metrics.roc_auc_score(y_val,  y_pred_val_raw[:,1])*100\n",
    "    fpr2, tpr2, thr2 = metrics.roc_curve(y_test,  y_pred_test_raw[:,1])\n",
    "    auc2 = metrics.roc_auc_score(y_test,  y_pred_test_raw[:,1])*100\n",
    "    gmeans2 = np.sqrt(tpr2 * (1-fpr2))\n",
    "    ix2 = np.argmax(gmeans2)\n",
    "    print(\"---------------------------------------\")\n",
    "    print(\"AUC validate: %.2f%%\" % auc1)\n",
    "    print(\"AUC test: %.2f%%\" % auc2)\n",
    "    plt.plot(fpr1,tpr1,label=\"ROC valid, auc=\"+str(\"%.2f%%\" % auc1))\n",
    "    plt.plot(fpr2,tpr2,label=\"ROC test, auc=\"+str(\"%.2f%%\" % auc2))\n",
    "    plt.plot([0, 1], [0, 1], linestyle=\"--\", lw=2, color=\"r\", label=\"Chance\", alpha=0.8)\n",
    "\n",
    "    plt.legend(loc=4)\n",
    "    plt.show()\n",
    "    \n",
    "    coef(param,split)\n",
    "    \n",
    "    print(\"################# false predict ##################\")\n",
    "    fp = false_predict(y_val, y_pred_val, split)\n",
    "    print(fp)\n",
    "    \n",
    "    return cm_val,cm_test,auc1,auc2"
   ]
  },
  {
   "cell_type": "code",
   "execution_count": 104,
   "id": "1e3c8ddf-af61-48d9-80f2-d9f47856cd60",
   "metadata": {
    "tags": []
   },
   "outputs": [],
   "source": [
    "def Mean_SD(name,split1, split2, split3, split4, split5):\n",
    "    sensitivity_values = []\n",
    "    sensitivity_values.append(split1)\n",
    "    sensitivity_values.append(split2)\n",
    "    sensitivity_values.append(split3)\n",
    "    sensitivity_values.append(split4)\n",
    "    sensitivity_values.append(split5)\n",
    "\n",
    "    # calculating the mean of sample set\n",
    "    mean_sensitivity = statistics.mean(sensitivity_values)\n",
    "    # Calculate standard deviation of sensitivity\n",
    "    sensitivity_sd = statistics.stdev(sensitivity_values)\n",
    "    \n",
    "    # Print mean sensitivity with standard deviation\n",
    "    print(\"%s: %.2f ± %.2f%%\" % (name,mean_sensitivity, sensitivity_sd))"
   ]
  },
  {
   "cell_type": "code",
   "execution_count": 105,
   "id": "0a3853f0-e40d-40ab-a9ba-01e360877c51",
   "metadata": {
    "tags": []
   },
   "outputs": [],
   "source": [
    "def plot(split1_cm, split2_cm, split3_cm, split4_cm, split5_cm):\n",
    "    cm_val = split1_cm + split2_cm + split3_cm + split4_cm + split5_cm\n",
    "    # Calculate score\n",
    "    print(\"split1\")\n",
    "    sen_val_1 = sensitivity(split1_cm)\n",
    "    spec_val_1 = specificity(split1_cm)\n",
    "    acc_val_1 = accuracy(split1_cm)\n",
    "    pre_val_1 = precision(split1_cm)\n",
    "    f1_score_val_1 = f1(split1_cm)\n",
    "    print(\"\\nsplit2\")\n",
    "    sen_val_2 = sensitivity(split2_cm)\n",
    "    spec_val_2 = specificity(split2_cm)\n",
    "    acc_val_2 = accuracy(split2_cm)\n",
    "    pre_val_2 = precision(split2_cm)\n",
    "    f1_score_val_2 = f1(split2_cm)\n",
    "    print(\"\\nsplit3\")\n",
    "    sen_val_3 = sensitivity(split3_cm)\n",
    "    spec_val_3 = specificity(split3_cm)\n",
    "    acc_val_3 = accuracy(split3_cm)\n",
    "    pre_val_3 = precision(split3_cm)\n",
    "    f1_score_val_3 = f1(split3_cm)\n",
    "    print(\"\\nsplit4\")\n",
    "    sen_val_4 = sensitivity(split4_cm)\n",
    "    spec_val_4 = specificity(split4_cm)\n",
    "    acc_val_4 = accuracy(split4_cm)\n",
    "    pre_val_4 = precision(split4_cm)\n",
    "    f1_score_val_4 = f1(split4_cm)\n",
    "    print(\"\\nsplit5\")\n",
    "    sen_val_5 = sensitivity(split5_cm)\n",
    "    spec_val_5 = specificity(split5_cm)\n",
    "    acc_val_5 = accuracy(split5_cm)\n",
    "    pre_val_5 = precision(split5_cm)\n",
    "    f1_score_val_5 = f1(split5_cm)\n",
    "    print(\"\\noverall\")\n",
    "    Mean_SD(\"sensitivity\",sen_val_1, sen_val_2, sen_val_3, sen_val_4, sen_val_5)\n",
    "    Mean_SD(\"specificity\",spec_val_1, spec_val_2, spec_val_3, spec_val_4, spec_val_5)\n",
    "    Mean_SD(\"accuracy\",acc_val_1, acc_val_2, acc_val_3, acc_val_4, acc_val_5)\n",
    "    Mean_SD(\"precision\",pre_val_1, pre_val_2, pre_val_3, pre_val_4, pre_val_5)\n",
    "    Mean_SD(\"f1_score\",f1_score_val_1, f1_score_val_2, f1_score_val_3, f1_score_val_4, f1_score_val_5)\n",
    "    # plot confusion matrix\n",
    "    class_names = ['benign','malignant']\n",
    "    # Normalize confusion matrix to percentage\n",
    "    cm_norm_val = cm_val.astype('float') / cm_val.sum(axis=1)[:, np.newaxis]\n",
    "    # Create plot\n",
    "    fig, ax = plt.subplots()\n",
    "    im = ax.imshow(cm_norm_val, interpolation='nearest', cmap=\"rocket_r\")\n",
    "    ax.grid(False)\n",
    "    # Add labels\n",
    "    ax.set(xticks=np.arange(cm_norm_val.shape[1]),\n",
    "           yticks=np.arange(cm_norm_val.shape[0]),\n",
    "           xticklabels=class_names, yticklabels=class_names)\n",
    "    ax.set_title(\"Validate set\", fontsize=16)\n",
    "    ax.set_ylabel('Actual', fontsize=16)\n",
    "    ax.set_xlabel('Predicted', fontsize=16)\n",
    "    # Add percentage and count values inside plot\n",
    "    thresh = cm_norm_val.max() / 2.\n",
    "    for i in range(cm_norm_val.shape[0]):\n",
    "        for j in range(cm_norm_val.shape[1]):\n",
    "            ax.text(j, i, '''{}\\n({:.2f}%)'''.format(cm_val[i,j], cm_norm_val[i, j]*100),\n",
    "                    ha=\"center\", va=\"center\",\n",
    "                    color=\"white\" if cm_norm_val[i, j] > thresh else \"black\", fontsize=20)\n",
    "    # plt.savefig('rf_model/validate_cm_{}.png'.format(split))\n",
    "    # plt.savefig('rf_model/validate_cm_best_param2_{}.png'.format(split))\n",
    "    plt.show()"
   ]
  },
  {
   "cell_type": "code",
   "execution_count": 106,
   "id": "0bf995c2-d1af-4d9f-9c9f-083866789605",
   "metadata": {
    "tags": []
   },
   "outputs": [],
   "source": [
    "def false_predict(y_true, y_pred, split):\n",
    "    \"\"\"\n",
    "    Compares two arrays and returns the indices of false predictions.\n",
    "    Args:\n",
    "        y_true: true labels\n",
    "        y_pred: predicted labels\n",
    "    Returns:\n",
    "        The indices of false predictions.\n",
    "    \"\"\"\n",
    "    path = \"../kitt/DATA_progress3_new/\"\n",
    "    # test_path =  \"{}/test.csv\".format(path)\n",
    "    # test_data = pd.read_csv(test_path)\n",
    "    valid_path = \"{}/{}/val/val.csv\".format(path,split)\n",
    "    val_data = pd.read_csv(valid_path)\n",
    "    false_indices = []\n",
    "    for i in range(len(y_true)):\n",
    "        if y_true[i] != y_pred[i]:\n",
    "            false_indices.append(i)\n",
    "    print(val_data.loc[false_indices])\n",
    "    return false_indices"
   ]
  },
  {
   "cell_type": "code",
   "execution_count": 107,
   "id": "9987169e-c43b-4690-b4e4-08e0ebe6e831",
   "metadata": {
    "tags": []
   },
   "outputs": [],
   "source": [
    "def coef(param,split):\n",
    "    model_path = \"../logisticregression/models/param5/lr_model_{}.pkl\".format(param,split)\n",
    "    loaded_model = joblib.load(model_path)\n",
    "    path = \"../kitt/DATA_progress3_new/\"\n",
    "    train_path = \"{}/{}/train/train_oversampling.csv\".format(path,split)\n",
    "    train_data = pd.read_csv(train_path)\n",
    "    x_train = train_data[train_data.columns[2:]]\n",
    "    \n",
    "    feature_coef = loaded_model.coef_\n",
    "\n",
    "    # print the feature importance\n",
    "    for i, coef in enumerate(feature_coef):\n",
    "        coef_abs = np.abs(coef)\n",
    "        df = pd.DataFrame({'Variable':x_train.columns,\n",
    "              'Coef':coef_abs}).sort_values('Coef', ascending=False)\n",
    "        \n",
    "        print(df)"
   ]
  },
  {
   "cell_type": "markdown",
   "id": "d9b0c1a7-960c-4d05-a456-e2b712b83afc",
   "metadata": {},
   "source": [
    "# Set up all split"
   ]
  },
  {
   "cell_type": "code",
   "execution_count": 108,
   "id": "199f1248-5be1-4a47-9cd9-14cadd2c1918",
   "metadata": {
    "tags": []
   },
   "outputs": [],
   "source": [
    "def train_param1(split):\n",
    "    x_train,y_train,x_test,y_test,x_val,y_val = setup(split)\n",
    "    model = LogisticRegression(C=0.08685113737513521, max_iter=1000, penalty='l2', solver='lbfgs')\n",
    "    model.fit(x_train, y_train)\n",
    "    joblib.dump(model, \"../logisticregression/models/param5/lr_model_{}.pkl\".format(split))"
   ]
  },
  {
   "cell_type": "markdown",
   "id": "a01cd536",
   "metadata": {
    "tags": []
   },
   "source": [
    "# Parameter1"
   ]
  },
  {
   "cell_type": "markdown",
   "id": "a4ba78ed-d102-45c6-b3aa-e6b5994a4a5b",
   "metadata": {},
   "source": [
    "## split1"
   ]
  },
  {
   "cell_type": "code",
   "execution_count": 109,
   "id": "55930adc",
   "metadata": {
    "tags": []
   },
   "outputs": [
    {
     "name": "stdout",
     "output_type": "stream",
     "text": [
      "../kitt/DATA_progress3_new/split1/train/train_oversampling.csv\n",
      "(456, 18)\n",
      "(456, 16)\n",
      "['B' 'M']\n",
      "../kitt/DATA_progress3_new/test.csv\n",
      "(114, 18)\n",
      "(114, 16)\n",
      "['B' 'M']\n",
      "../kitt/DATA_progress3_new/split1/val/val.csv\n",
      "(91, 18)\n",
      "(91, 16)\n",
      "['B' 'M']\n"
     ]
    }
   ],
   "source": [
    "split_num = 1\n",
    "split = \"split{}\".format(split_num)\n",
    "x_train,y_train,x_test,y_test,x_val,y_val = setup(split)"
   ]
  },
  {
   "cell_type": "code",
   "execution_count": 110,
   "id": "1187b5a3-f26d-4cf8-a4d4-0058e86ad245",
   "metadata": {
    "tags": []
   },
   "outputs": [
    {
     "name": "stdout",
     "output_type": "stream",
     "text": [
      "../kitt/DATA_progress3_new/split1/train/train_oversampling.csv\n",
      "(456, 18)\n",
      "(456, 16)\n",
      "['B' 'M']\n",
      "../kitt/DATA_progress3_new/test.csv\n",
      "(114, 18)\n",
      "(114, 16)\n",
      "['B' 'M']\n",
      "../kitt/DATA_progress3_new/split1/val/val.csv\n",
      "(91, 18)\n",
      "(91, 16)\n",
      "['B' 'M']\n"
     ]
    }
   ],
   "source": [
    "train_param1(split)"
   ]
  },
  {
   "cell_type": "code",
   "execution_count": 111,
   "id": "753f273d",
   "metadata": {
    "tags": []
   },
   "outputs": [],
   "source": [
    "# hello world!\n",
    "#param = 5\n",
    "#param1_split1_cm_val, param1_split1_cm_test, param1_split1_AUC_val, param1_split1_AUC_test = evaluate(param,split)"
   ]
  },
  {
   "cell_type": "markdown",
   "id": "1791a4ef-c3d5-4639-b198-3348e8a00d86",
   "metadata": {},
   "source": [
    "## split2"
   ]
  },
  {
   "cell_type": "code",
   "execution_count": 112,
   "id": "4771b62a-eb6c-4553-aa9f-a9842c296649",
   "metadata": {
    "tags": []
   },
   "outputs": [
    {
     "name": "stdout",
     "output_type": "stream",
     "text": [
      "../kitt/DATA_progress3_new/split2/train/train_oversampling.csv\n",
      "(456, 18)\n",
      "(456, 16)\n",
      "['B' 'M']\n",
      "../kitt/DATA_progress3_new/test.csv\n",
      "(114, 18)\n",
      "(114, 16)\n",
      "['B' 'M']\n",
      "../kitt/DATA_progress3_new/split2/val/val.csv\n",
      "(91, 18)\n",
      "(91, 16)\n",
      "['B' 'M']\n"
     ]
    }
   ],
   "source": [
    "split_num = 2\n",
    "split = \"split{}\".format(split_num)\n",
    "x_train,y_train,x_test,y_test,x_val,y_val = setup(split)"
   ]
  },
  {
   "cell_type": "code",
   "execution_count": 113,
   "id": "76124242-ded0-4517-8582-357545363eb5",
   "metadata": {
    "tags": []
   },
   "outputs": [
    {
     "name": "stdout",
     "output_type": "stream",
     "text": [
      "../kitt/DATA_progress3_new/split2/train/train_oversampling.csv\n",
      "(456, 18)\n",
      "(456, 16)\n",
      "['B' 'M']\n",
      "../kitt/DATA_progress3_new/test.csv\n",
      "(114, 18)\n",
      "(114, 16)\n",
      "['B' 'M']\n",
      "../kitt/DATA_progress3_new/split2/val/val.csv\n",
      "(91, 18)\n",
      "(91, 16)\n",
      "['B' 'M']\n"
     ]
    }
   ],
   "source": [
    "train_param1(split)"
   ]
  },
  {
   "cell_type": "code",
   "execution_count": 114,
   "id": "ebe46a28",
   "metadata": {
    "tags": []
   },
   "outputs": [],
   "source": [
    "#param = 5\n",
    "#param1_split2_cm_val, param1_split2_cm_test, param1_split2_AUC_val, param1_split2_AUC_test = evaluate(param,split)"
   ]
  },
  {
   "cell_type": "markdown",
   "id": "05e45e30-4068-4683-85b0-ea2fd1e42558",
   "metadata": {},
   "source": [
    "## split3"
   ]
  },
  {
   "cell_type": "code",
   "execution_count": 115,
   "id": "81ced57e-183c-490a-b58d-50a01d79d19c",
   "metadata": {
    "tags": []
   },
   "outputs": [
    {
     "name": "stdout",
     "output_type": "stream",
     "text": [
      "../kitt/DATA_progress3_new/split3/train/train_oversampling.csv\n",
      "(456, 18)\n",
      "(456, 16)\n",
      "['B' 'M']\n",
      "../kitt/DATA_progress3_new/test.csv\n",
      "(114, 18)\n",
      "(114, 16)\n",
      "['B' 'M']\n",
      "../kitt/DATA_progress3_new/split3/val/val.csv\n",
      "(91, 18)\n",
      "(91, 16)\n",
      "['B' 'M']\n"
     ]
    }
   ],
   "source": [
    "split_num = 3\n",
    "split = \"split{}\".format(split_num)\n",
    "x_train,y_train,x_test,y_test,x_val,y_val = setup(split)"
   ]
  },
  {
   "cell_type": "code",
   "execution_count": 116,
   "id": "62a43b58-81a7-4edb-8120-464488ff4be8",
   "metadata": {
    "tags": []
   },
   "outputs": [
    {
     "name": "stdout",
     "output_type": "stream",
     "text": [
      "../kitt/DATA_progress3_new/split3/train/train_oversampling.csv\n",
      "(456, 18)\n",
      "(456, 16)\n",
      "['B' 'M']\n",
      "../kitt/DATA_progress3_new/test.csv\n",
      "(114, 18)\n",
      "(114, 16)\n",
      "['B' 'M']\n",
      "../kitt/DATA_progress3_new/split3/val/val.csv\n",
      "(91, 18)\n",
      "(91, 16)\n",
      "['B' 'M']\n"
     ]
    }
   ],
   "source": [
    "train_param1(split)"
   ]
  },
  {
   "cell_type": "code",
   "execution_count": 117,
   "id": "be11faf9",
   "metadata": {
    "tags": []
   },
   "outputs": [],
   "source": [
    "#param = 5\n",
    "#param1_split3_cm_val, param1_split3_cm_test, param1_split3_AUC_val, param1_split3_AUC_test = evaluate(param,split)"
   ]
  },
  {
   "cell_type": "markdown",
   "id": "2c2379fa-27b1-4b8e-b5b6-7a497016811f",
   "metadata": {},
   "source": [
    "## split4"
   ]
  },
  {
   "cell_type": "code",
   "execution_count": 118,
   "id": "35b364dd-1704-4726-a20d-61f71c344f78",
   "metadata": {
    "tags": []
   },
   "outputs": [
    {
     "name": "stdout",
     "output_type": "stream",
     "text": [
      "../kitt/DATA_progress3_new/split4/train/train_oversampling.csv\n",
      "(456, 18)\n",
      "(456, 16)\n",
      "['B' 'M']\n",
      "../kitt/DATA_progress3_new/test.csv\n",
      "(114, 18)\n",
      "(114, 16)\n",
      "['B' 'M']\n",
      "../kitt/DATA_progress3_new/split4/val/val.csv\n",
      "(91, 18)\n",
      "(91, 16)\n",
      "['B' 'M']\n"
     ]
    }
   ],
   "source": [
    "split_num = 4\n",
    "split = \"split{}\".format(split_num)\n",
    "x_train,y_train,x_test,y_test,x_val,y_val = setup(split)"
   ]
  },
  {
   "cell_type": "code",
   "execution_count": 119,
   "id": "f59e4561-38c9-4dcc-9680-70ed375bfb0c",
   "metadata": {
    "tags": []
   },
   "outputs": [
    {
     "name": "stdout",
     "output_type": "stream",
     "text": [
      "../kitt/DATA_progress3_new/split4/train/train_oversampling.csv\n",
      "(456, 18)\n",
      "(456, 16)\n",
      "['B' 'M']\n",
      "../kitt/DATA_progress3_new/test.csv\n",
      "(114, 18)\n",
      "(114, 16)\n",
      "['B' 'M']\n",
      "../kitt/DATA_progress3_new/split4/val/val.csv\n",
      "(91, 18)\n",
      "(91, 16)\n",
      "['B' 'M']\n"
     ]
    }
   ],
   "source": [
    "train_param1(split)"
   ]
  },
  {
   "cell_type": "code",
   "execution_count": 120,
   "id": "8922d4e2",
   "metadata": {
    "tags": []
   },
   "outputs": [],
   "source": [
    "#param = 5\n",
    "#param1_split4_cm_val, param1_split4_cm_test, param1_split4_AUC_val, param1_split4_AUC_test = evaluate(param,split)"
   ]
  },
  {
   "cell_type": "markdown",
   "id": "224c98a8-564e-49c4-b45b-51f6cba9ad4e",
   "metadata": {},
   "source": [
    "## split5"
   ]
  },
  {
   "cell_type": "code",
   "execution_count": 121,
   "id": "00994193-b810-49fd-8512-b5af9ef93e59",
   "metadata": {
    "tags": []
   },
   "outputs": [
    {
     "name": "stdout",
     "output_type": "stream",
     "text": [
      "../kitt/DATA_progress3_new/split5/train/train_oversampling.csv\n",
      "(456, 18)\n",
      "(456, 16)\n",
      "['B' 'M']\n",
      "../kitt/DATA_progress3_new/test.csv\n",
      "(114, 18)\n",
      "(114, 16)\n",
      "['B' 'M']\n",
      "../kitt/DATA_progress3_new/split5/val/val.csv\n",
      "(91, 18)\n",
      "(91, 16)\n",
      "['B' 'M']\n"
     ]
    }
   ],
   "source": [
    "split_num = 5\n",
    "split = \"split{}\".format(split_num)\n",
    "x_train,y_train,x_test,y_test,x_val,y_val = setup(split)"
   ]
  },
  {
   "cell_type": "code",
   "execution_count": 122,
   "id": "fa9db559-1b99-46f3-ab8a-e9e0c92c7dd4",
   "metadata": {
    "tags": []
   },
   "outputs": [
    {
     "name": "stdout",
     "output_type": "stream",
     "text": [
      "../kitt/DATA_progress3_new/split5/train/train_oversampling.csv\n",
      "(456, 18)\n",
      "(456, 16)\n",
      "['B' 'M']\n",
      "../kitt/DATA_progress3_new/test.csv\n",
      "(114, 18)\n",
      "(114, 16)\n",
      "['B' 'M']\n",
      "../kitt/DATA_progress3_new/split5/val/val.csv\n",
      "(91, 18)\n",
      "(91, 16)\n",
      "['B' 'M']\n"
     ]
    }
   ],
   "source": [
    "train_param1(split)"
   ]
  },
  {
   "cell_type": "code",
   "execution_count": 123,
   "id": "1ef738c7",
   "metadata": {
    "tags": []
   },
   "outputs": [],
   "source": [
    "#param = 5\n",
    "#param1_split5_cm_val, param1_split5_cm_test, param1_split5_AUC_val, param1_split5_AUC_test = evaluate(param,split)"
   ]
  },
  {
   "cell_type": "code",
   "execution_count": 124,
   "id": "3d5f8d1f",
   "metadata": {},
   "outputs": [],
   "source": [
    "train_path = \"../kitt/DATA_progress3_new/train.csv\"\n",
    "test_path = \"../kitt/DATA_progress3_new/test.csv\""
   ]
  },
  {
   "cell_type": "code",
   "execution_count": 125,
   "id": "68bf0135",
   "metadata": {},
   "outputs": [
    {
     "name": "stdout",
     "output_type": "stream",
     "text": [
      "(455, 18)\n",
      "(455, 16)\n",
      "['B' 'M']\n",
      "(114, 18)\n",
      "(114, 16)\n",
      "['B' 'M']\n"
     ]
    }
   ],
   "source": [
    "# Load the train set\n",
    "train_data = pd.read_csv(train_path)\n",
    "print(train_data.shape)\n",
    "x_train = train_data[train_data.columns[2:]]\n",
    "print(x_train.shape)\n",
    "y_train = train_data[train_data.columns[1]]\n",
    "le = LabelEncoder()\n",
    "y_train = np.array(le.fit_transform(y_train))\n",
    "print(le.classes_)\n",
    "\n",
    "# Load the test se\n",
    "test_data = pd.read_csv(test_path)\n",
    "print(test_data.shape)\n",
    "x_test = test_data[test_data.columns[2:]]\n",
    "print(x_test.shape)\n",
    "y_test = test_data[test_data.columns[1]]\n",
    "le = LabelEncoder()\n",
    "y_test = np.array(le.fit_transform(y_test))\n",
    "print(le.classes_)\n",
    "\n",
    "# StandardScaler\n",
    "sc = StandardScaler()\n",
    "x_train = x_train.to_numpy()\n",
    "x_test = x_test.to_numpy()\n",
    "x_train = sc.fit_transform(x_train)\n",
    "x_test = sc.transform(x_test)"
   ]
  },
  {
   "cell_type": "code",
   "execution_count": 126,
   "id": "70ec8974",
   "metadata": {},
   "outputs": [
    {
     "data": {
      "text/plain": [
       "['../logisticregression/models/lr_model_all.pkl']"
      ]
     },
     "execution_count": 126,
     "metadata": {},
     "output_type": "execute_result"
    }
   ],
   "source": [
    "model = LogisticRegression(C=0.08685113737513521, max_iter=1000, penalty='l2', solver='lbfgs')\n",
    "model.fit(x_train, y_train) # Save the trained model to disk\n",
    "joblib.dump(model, \"../logisticregression/models/lr_model_all.pkl\")"
   ]
  },
  {
   "cell_type": "code",
   "execution_count": 127,
   "id": "e45bd28c",
   "metadata": {},
   "outputs": [
    {
     "name": "stdout",
     "output_type": "stream",
     "text": [
      "../logisticregression/models/lr_model_all.pkl\n",
      "################# test set ##################\n",
      "Best Threshold=0.439639\n",
      "FPR: 0.0000\n",
      "TPR: 0.9524\n",
      "Confusion Matrix\n",
      "----------------\n",
      "[[72  0]\n",
      " [ 2 40]] \n",
      "\n",
      "----------------\n",
      "Sensitivity: 95.24%\n",
      "Specificity: 100.00%\n",
      "Accuracy: 98.25%\n",
      "Precision: 100.00%\n",
      "Sensitivity: 95.24%\n",
      "Precision: 100.00%\n",
      "F1: 97.56%\n"
     ]
    },
    {
     "data": {
      "image/png": "[encoded data removed]",
      "text/plain": [
       "<Figure size 640x480 with 1 Axes>"
      ]
     },
     "metadata": {},
     "output_type": "display_data"
    },
    {
     "name": "stdout",
     "output_type": "stream",
     "text": [
      "---------------------------------------\n",
      "AUC test: 99.67%\n"
     ]
    },
    {
     "data": {
      "image/png": "[encoded data removed]",
      "text/plain": [
       "<Figure size 640x480 with 1 Axes>"
      ]
     },
     "metadata": {},
     "output_type": "display_data"
    },
    {
     "name": "stdout",
     "output_type": "stream",
     "text": [
      "################# false predict ##################\n",
      "         id diagnosis  texture_mean  area_mean  smoothness_mean   \n",
      "94    87163         M         19.63      565.4          0.09048  \\\n",
      "110  889403         M         19.38      758.6          0.07840   \n",
      "\n",
      "     concavity_mean  symmetry_mean  fractal_dimension_mean  texture_se   \n",
      "94          0.05858         0.1598                 0.05671      1.1470  \\\n",
      "110         0.04209         0.1547                 0.05443      0.9988   \n",
      "\n",
      "     area_se  smoothness_se  concavity_se  symmetry_se  fractal_dimension_se   \n",
      "94     43.40       0.006003       0.02151      0.01520              0.001868  \\\n",
      "110    22.18       0.002826       0.01311      0.01013              0.001345   \n",
      "\n",
      "     smoothness_worst  concavity_worst  symmetry_worst   \n",
      "94             0.1401           0.2644          0.2884  \\\n",
      "110            0.1084           0.2260          0.2683   \n",
      "\n",
      "     fractal_dimension_worst  \n",
      "94                   0.07371  \n",
      "110                  0.06829  \n",
      "[94, 110]\n"
     ]
    }
   ],
   "source": [
    "model_path = \"../logisticregression/models/lr_model_all.pkl\"\n",
    "print(model_path)\n",
    "loaded_model = joblib.load(model_path)\n",
    "\n",
    "# ################# test set ##################\n",
    "label = ['benign','malignant']\n",
    "print(\"################# test set ##################\")\n",
    "y_pred_test_raw = loaded_model.predict_proba(x_test)\n",
    "y_pred_test = thresholding(y_test, y_pred_test_raw)\n",
    "\n",
    "# Confusion matrix\n",
    "cm_test = confusion_matrix(y_test, y_pred_test)\n",
    "print('Confusion Matrix')\n",
    "print('-'*16)\n",
    "print(cm_test,'\\n')\n",
    "print('-'*16)\n",
    "\n",
    "# Calculate score\n",
    "# print(split)\n",
    "cal_score_all(cm_test)\n",
    "\n",
    "# plot confusion matrix\n",
    "plot_cm(cm_test,which=\"Test set\")\n",
    "\n",
    "################## plot ROC curve ########################\n",
    "# fpr1, tpr1, thr1 = metrics.roc_curve(y_val,  y_pred_val_raw[:,1])\n",
    "# auc1 = metrics.roc_auc_score(y_val,  y_pred_val_raw[:,1])*100\n",
    "fpr2, tpr2, thr2 = metrics.roc_curve(y_test,  y_pred_test_raw[:,1])\n",
    "auc2 = metrics.roc_auc_score(y_test,  y_pred_test_raw[:,1])*100\n",
    "gmeans2 = np.sqrt(tpr2 * (1-fpr2))\n",
    "ix2 = np.argmax(gmeans2)\n",
    "print(\"---------------------------------------\")\n",
    "# print(\"AUC validate: %.2f%%\" % auc1)\n",
    "print(\"AUC test: %.2f%%\" % auc2)\n",
    "# plt.plot(fpr1,tpr1,label=\"ROC valid, auc=\"+str(\"%.2f%%\" % auc1))\n",
    "plt.plot(fpr2,tpr2,label=\"ROC test, auc=\"+str(\"%.2f%%\" % auc2))\n",
    "plt.plot([0, 1], [0, 1], linestyle=\"--\", lw=2, color=\"r\", label=\"Chance\", alpha=0.8)\n",
    "\n",
    "plt.legend(loc=4)\n",
    "plt.show()\n",
    "\n",
    "\n",
    "print(\"################# false predict ##################\")\n",
    "\n",
    "false_indices = []\n",
    "for i in range(len(y_test)):\n",
    "    if y_test[i] != y_pred_test[i]:\n",
    "        false_indices.append(i)\n",
    "print(test_data.loc[false_indices])\n",
    "print(false_indices)"
   ]
  },
  {
   "cell_type": "code",
   "execution_count": 128,
   "id": "ecc80389",
   "metadata": {},
   "outputs": [
    {
     "data": {
      "image/png": "[encoded data removed]",
      "text/plain": [
       "<Figure size 640x480 with 1 Axes>"
      ]
     },
     "metadata": {},
     "output_type": "display_data"
    }
   ],
   "source": [
    "test_path = \"../kitt/DATA_progress3_new/test.csv\"\n",
    "test_data = pd.read_csv(test_path)\n",
    "train_path = \"../kitt/DATA_progress3_new/train.csv\"\n",
    "train_data = pd.read_csv(train_path)\n",
    "\n",
    "# false negative : truth=M predicted=B\n",
    "\n",
    "# col = ['texture_mean', 'area_mean', 'smoothness_mean',\n",
    "#    'concavity_mean', 'symmetry_mean', 'fractal_dimension_mean',\n",
    "#    'texture_se', 'area_se', 'smoothness_se', 'concavity_se', 'symmetry_se',\n",
    "#    'fractal_dimension_se', 'smoothness_worst', 'concavity_worst',\n",
    "#    'symmetry_worst', 'fractal_dimension_worst']\n",
    "\n",
    "x_col = 'symmetry_worst'\n",
    "y_col = 'concavity_mean'\n",
    "\n",
    "fn = [94, 110]\n",
    "fp = []\n",
    "\n",
    "# Get the false predictions data from the original data using the indices of false predictions\n",
    "fn = test_data.iloc[fn]\n",
    "fp = test_data.iloc[fp]\n",
    "\n",
    "# Get the true predictions data from the original data using the indices of true predictions\n",
    "benign_data = train_data[train_data[\"diagnosis\"] == 'B']\n",
    "malignant_data= train_data[train_data[\"diagnosis\"] == 'M']\n",
    "\n",
    "\n",
    "# Create the scatter plot with false predictions data as red dots and true predictions data as blue dots\n",
    "plt.scatter(benign_data[x_col], benign_data[y_col], color='blue', label='True Negative', alpha=0.5)\n",
    "plt.scatter(malignant_data[x_col], malignant_data[y_col], color='green', label='True Positive', alpha=0.5)\n",
    "plt.scatter(fn[x_col], fn[y_col], color='yellow', label='False Negative')\n",
    "plt.scatter(fp[x_col], fp[y_col], color='red', label='False Positive')\n",
    "\n",
    "# Add legend and labels\n",
    "plt.legend()\n",
    "plt.xlabel(x_col)\n",
    "plt.ylabel(y_col)\n",
    "\n",
    "# Show the plot\n",
    "plt.show()"
   ]
  }
 ],
 "metadata": {
  "kernelspec": {
   "display_name": "Python 3 (ipykernel)",
   "language": "python",
   "name": "python3"
  },
  "language_info": {
   "codemirror_mode": {
    "name": "ipython",
    "version": 3
   },
   "file_extension": ".py",
   "mimetype": "text/x-python",
   "name": "python",
   "nbconvert_exporter": "python",
   "pygments_lexer": "ipython3",
   "version": "3.10.0"
  },
  "vscode": {
   "interpreter": {
    "hash": "23bf0724a01b6ea9814e66f76182ea78c0ee849a72ca257c0e116bf83bb4960a"
   }
  }
 },
 "nbformat": 4,
 "nbformat_minor": 5
}
