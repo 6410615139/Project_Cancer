{
 "cells": [
  {
   "cell_type": "markdown",
   "id": "bb643782",
   "metadata": {},
   "source": [
    "split1"
   ]
  },
  {
   "cell_type": "code",
   "execution_count": 194,
   "id": "f79dc333-f178-4292-9a64-bc1913124cee",
   "metadata": {},
   "outputs": [
    {
     "name": "stdout",
     "output_type": "stream",
     "text": [
      "../5-fold_new/DATA//split1/train/train_split1.csv\n",
      "../5-fold_new/DATA//test.csv\n",
      "../5-fold_new/DATA//split1/val/val_split1.csv\n"
     ]
    }
   ],
   "source": [
    "split = 'split1'\n",
    "path = \"../5-fold_new/DATA/\"\n",
    "train_path = \"{}/{}/train/train_{}.csv\".format(path,split,split)\n",
    "test_path =  \"{}/test.csv\".format(path)\n",
    "val_path = \"{}/{}/val/val_{}.csv\".format(path,split,split)\n",
    "\n",
    "print(train_path)\n",
    "print(test_path)\n",
    "print(val_path)"
   ]
  },
  {
   "cell_type": "code",
   "execution_count": 195,
   "id": "5ad2f009-2915-4442-8d24-f16f7dc05950",
   "metadata": {},
   "outputs": [
    {
     "name": "stdout",
     "output_type": "stream",
     "text": [
      "(364, 32)\n",
      "(364, 30)\n",
      "['B' 'M']\n",
      "\n",
      "\n",
      "(114, 33)\n",
      "(114, 30)\n",
      "['B' 'M']\n",
      "\n",
      "\n",
      "(91, 32)\n",
      "(91, 30)\n",
      "['B' 'M']\n",
      "\n",
      "\n",
      "Shape of training set: (364, 30)\n",
      "Shape of testing set: (114, 30)\n"
     ]
    }
   ],
   "source": [
    "import numpy as np\n",
    "import pandas as pd\n",
    "\n",
    "from sklearn.preprocessing import LabelEncoder\n",
    "from sklearn.model_selection import train_test_split\n",
    "\n",
    "# Load the training set\n",
    "train_data = pd.read_csv(train_path)\n",
    "print(train_data.shape)\n",
    "x_train = train_data[train_data.columns[2:]]\n",
    "print(x_train.shape)\n",
    "y_train = train_data[train_data.columns[1]]\n",
    "le = LabelEncoder()\n",
    "y_train = np.array(le.fit_transform(y_train))\n",
    "print(le.classes_)\n",
    "print('\\n')\n",
    "\n",
    "# Load the testing set\n",
    "test_data = pd.read_csv(test_path)\n",
    "print(test_data.shape)\n",
    "x_test = test_data[test_data.columns[3:]]\n",
    "print(x_test.shape)\n",
    "y_test = test_data[test_data.columns[2]]\n",
    "le = LabelEncoder()\n",
    "y_test = np.array(le.fit_transform(y_test))\n",
    "print(le.classes_)\n",
    "print('\\n')\n",
    "\n",
    "# Load the validation set\n",
    "val_data = pd.read_csv(val_path)\n",
    "print(val_data.shape)\n",
    "x_val = val_data[val_data.columns[2:]]\n",
    "print(x_val.shape)\n",
    "y_val = val_data[val_data.columns[1]]\n",
    "le = LabelEncoder()\n",
    "y_val = np.array(le.fit_transform(y_val))\n",
    "print(le.classes_)\n",
    "print('\\n')\n",
    "\n",
    "print(\"Shape of training set:\", x_train.shape)\n",
    "print(\"Shape of testing set:\", x_test.shape)"
   ]
  },
  {
   "cell_type": "code",
   "execution_count": 196,
   "id": "da96cee1",
   "metadata": {},
   "outputs": [
    {
     "name": "stdout",
     "output_type": "stream",
     "text": [
      "Confusion Matrix: \n",
      " [[46  0]\n",
      " [12 56]]\n",
      "\n",
      "\n",
      "              precision    recall  f1-score   support\n",
      "\n",
      "           0       0.79      1.00      0.88        46\n",
      "           1       1.00      0.82      0.90        68\n",
      "\n",
      "    accuracy                           0.89       114\n",
      "   macro avg       0.90      0.91      0.89       114\n",
      "weighted avg       0.92      0.89      0.90       114\n",
      "\n",
      "Accuracy of the Logistic Regression Model is: 89.4737\n",
      "Precision of the Logistic Regression Model is: 100.0000\n",
      "Sensitivity (Recall) of the Logistic Regression Model is: 82.3529\n",
      "Specificity of the Logistic Regression Model is: 100.0000\n",
      "F-score of the Logistic Regression Model is: 90.3226\n"
     ]
    }
   ],
   "source": [
    "from sklearn.linear_model import LogisticRegression\n",
    "from sklearn.metrics import confusion_matrix, classification_report, accuracy_score, precision_score, recall_score, f1_score\n",
    "\n",
    "model = LogisticRegression(solver='lbfgs', max_iter=3000)\n",
    "model.fit(x_train, y_train)\n",
    "predictions = model.predict(x_test)\n",
    "\n",
    "print(\"Confusion Matrix: \\n\", confusion_matrix(y_test, predictions))\n",
    "print('\\n')\n",
    "print(classification_report(y_test, predictions))\n",
    "\n",
    "acc = accuracy_score(y_test, predictions)\n",
    "print(\"Accuracy of the Logistic Regression Model is: %.4f\" % (acc * 100))\n",
    "\n",
    "pre = precision_score(y_test, predictions)\n",
    "print(\"Precision of the Logistic Regression Model is: %.4f\" % (pre * 100))\n",
    "\n",
    "sen = recall_score(y_test, predictions)\n",
    "print(\"Sensitivity (Recall) of the Logistic Regression Model is: %.4f\" % (sen * 100))\n",
    "\n",
    "spe = recall_score(y_test, predictions, pos_label=0)\n",
    "print(\"Specificity of the Logistic Regression Model is: %.4f\" % (spe * 100))\n",
    "\n",
    "f1 = f1_score(y_test, predictions)\n",
    "print(\"F-score of the Logistic Regression Model is: %.4f\" % (f1 * 100))"
   ]
  },
  {
   "cell_type": "markdown",
   "id": "49c5ec0a",
   "metadata": {},
   "source": [
    "split2"
   ]
  },
  {
   "cell_type": "code",
   "execution_count": 197,
   "id": "7476c6e6",
   "metadata": {},
   "outputs": [
    {
     "name": "stdout",
     "output_type": "stream",
     "text": [
      "(364, 32)\n",
      "(364, 30)\n",
      "['B' 'M']\n",
      "\n",
      "\n",
      "(114, 33)\n",
      "(114, 30)\n",
      "['B' 'M']\n",
      "\n",
      "\n",
      "(91, 32)\n",
      "(91, 30)\n",
      "['B' 'M']\n"
     ]
    }
   ],
   "source": [
    "split = 'split2'\n",
    "path = \"../5-fold_new/DATA/\"\n",
    "train_path = \"{}/{}/train/train_{}.csv\".format(path,split,split)\n",
    "test_path =  \"{}/test.csv\".format(path)\n",
    "val_path = \"{}/{}/val/val_{}.csv\".format(path,split,split)\n",
    "\n",
    "# Load the training set\n",
    "train_data = pd.read_csv(train_path)\n",
    "print(train_data.shape)\n",
    "x_train = train_data[train_data.columns[2:]]\n",
    "print(x_train.shape)\n",
    "y_train = train_data[train_data.columns[1]]\n",
    "le = LabelEncoder()\n",
    "y_train = np.array(le.fit_transform(y_train))\n",
    "print(le.classes_)\n",
    "print('\\n')\n",
    "\n",
    "# Load the testing set\n",
    "test_data = pd.read_csv(test_path)\n",
    "print(test_data.shape)\n",
    "x_test = test_data[test_data.columns[3:]]\n",
    "print(x_test.shape)\n",
    "y_test = test_data[test_data.columns[2]]\n",
    "le = LabelEncoder()\n",
    "y_test = np.array(le.fit_transform(y_test))\n",
    "print(le.classes_)\n",
    "print('\\n')\n",
    "\n",
    "# Load the validation set\n",
    "val_data = pd.read_csv(val_path)\n",
    "print(val_data.shape)\n",
    "x_val = val_data[val_data.columns[2:]]\n",
    "print(x_val.shape)\n",
    "y_val = val_data[val_data.columns[1]]\n",
    "le = LabelEncoder()\n",
    "y_val = np.array(le.fit_transform(y_val))\n",
    "print(le.classes_)"
   ]
  },
  {
   "cell_type": "code",
   "execution_count": 198,
   "id": "8139216d",
   "metadata": {},
   "outputs": [
    {
     "name": "stdout",
     "output_type": "stream",
     "text": [
      "Confusion Matrix: \n",
      " [[46  0]\n",
      " [ 9 59]]\n",
      "\n",
      "\n",
      "              precision    recall  f1-score   support\n",
      "\n",
      "           0       0.84      1.00      0.91        46\n",
      "           1       1.00      0.87      0.93        68\n",
      "\n",
      "    accuracy                           0.92       114\n",
      "   macro avg       0.92      0.93      0.92       114\n",
      "weighted avg       0.93      0.92      0.92       114\n",
      "\n",
      "Accuracy of the Logistic Regression Model is: 92.1053\n",
      "Precision of the Logistic Regression Model is: 100.0000\n",
      "Sensitivity (Recall) of the Logistic Regression Model is: 86.7647\n",
      "Specificity of the Logistic Regression Model is: 100.0000\n",
      "F-score of the Logistic Regression Model is: 92.9134\n"
     ]
    }
   ],
   "source": [
    "from sklearn.linear_model import LogisticRegression\n",
    "from sklearn.metrics import confusion_matrix, classification_report, accuracy_score, precision_score, recall_score, f1_score\n",
    "\n",
    "model = LogisticRegression(solver='lbfgs', max_iter=3000)\n",
    "model.fit(x_train, y_train)\n",
    "predictions = model.predict(x_test)\n",
    "\n",
    "print(\"Confusion Matrix: \\n\", confusion_matrix(y_test, predictions))\n",
    "print('\\n')\n",
    "print(classification_report(y_test, predictions))\n",
    "\n",
    "acc = accuracy_score(y_test, predictions)\n",
    "print(\"Accuracy of the Logistic Regression Model is: %.4f\" % (acc * 100))\n",
    "\n",
    "pre = precision_score(y_test, predictions)\n",
    "print(\"Precision of the Logistic Regression Model is: %.4f\" % (pre * 100))\n",
    "\n",
    "sen = recall_score(y_test, predictions)\n",
    "print(\"Sensitivity (Recall) of the Logistic Regression Model is: %.4f\" % (sen * 100))\n",
    "\n",
    "spe = recall_score(y_test, predictions, pos_label=0)\n",
    "print(\"Specificity of the Logistic Regression Model is: %.4f\" % (spe * 100))\n",
    "\n",
    "f1 = f1_score(y_test, predictions)\n",
    "print(\"F-score of the Logistic Regression Model is: %.4f\" % (f1 * 100))"
   ]
  },
  {
   "cell_type": "markdown",
   "id": "dde69e32",
   "metadata": {},
   "source": [
    "split3"
   ]
  },
  {
   "cell_type": "code",
   "execution_count": 199,
   "id": "c158fc73",
   "metadata": {},
   "outputs": [
    {
     "name": "stdout",
     "output_type": "stream",
     "text": [
      "(364, 32)\n",
      "(364, 30)\n",
      "['B' 'M']\n",
      "\n",
      "\n",
      "(114, 33)\n",
      "(114, 30)\n",
      "['B' 'M']\n",
      "\n",
      "\n",
      "(91, 32)\n",
      "(91, 30)\n",
      "['B' 'M']\n"
     ]
    }
   ],
   "source": [
    "split = 'split3'\n",
    "path = \"../5-fold_new/DATA/\"\n",
    "train_path = \"{}/{}/train/train_{}.csv\".format(path,split,split)\n",
    "test_path =  \"{}/test.csv\".format(path)\n",
    "val_path = \"{}/{}/val/val_{}.csv\".format(path,split,split)\n",
    "\n",
    "# Load the training set\n",
    "train_data = pd.read_csv(train_path)\n",
    "print(train_data.shape)\n",
    "x_train = train_data[train_data.columns[2:]]\n",
    "print(x_train.shape)\n",
    "y_train = train_data[train_data.columns[1]]\n",
    "le = LabelEncoder()\n",
    "y_train = np.array(le.fit_transform(y_train))\n",
    "print(le.classes_)\n",
    "print('\\n')\n",
    "\n",
    "# Load the testing set\n",
    "test_data = pd.read_csv(test_path)\n",
    "print(test_data.shape)\n",
    "x_test = test_data[test_data.columns[3:]]\n",
    "print(x_test.shape)\n",
    "y_test = test_data[test_data.columns[2]]\n",
    "le = LabelEncoder()\n",
    "y_test = np.array(le.fit_transform(y_test))\n",
    "print(le.classes_)\n",
    "print('\\n')\n",
    "\n",
    "# Load the validation set\n",
    "val_data = pd.read_csv(val_path)\n",
    "print(val_data.shape)\n",
    "x_val = val_data[val_data.columns[2:]]\n",
    "print(x_val.shape)\n",
    "y_val = val_data[val_data.columns[1]]\n",
    "le = LabelEncoder()\n",
    "y_val = np.array(le.fit_transform(y_val))\n",
    "print(le.classes_)"
   ]
  },
  {
   "cell_type": "code",
   "execution_count": 200,
   "id": "5ee4d2dc",
   "metadata": {},
   "outputs": [
    {
     "name": "stdout",
     "output_type": "stream",
     "text": [
      "Confusion Matrix: \n",
      " [[46  0]\n",
      " [10 58]]\n",
      "\n",
      "\n",
      "              precision    recall  f1-score   support\n",
      "\n",
      "           0       0.82      1.00      0.90        46\n",
      "           1       1.00      0.85      0.92        68\n",
      "\n",
      "    accuracy                           0.91       114\n",
      "   macro avg       0.91      0.93      0.91       114\n",
      "weighted avg       0.93      0.91      0.91       114\n",
      "\n",
      "Accuracy of the Logistic Regression Model is: 91.2281\n",
      "Precision of the Logistic Regression Model is: 100.0000\n",
      "Sensitivity (Recall) of the Logistic Regression Model is: 85.2941\n",
      "Specificity of the Logistic Regression Model is: 100.0000\n",
      "F-score of the Logistic Regression Model is: 92.0635\n"
     ]
    }
   ],
   "source": [
    "from sklearn.linear_model import LogisticRegression\n",
    "from sklearn.metrics import confusion_matrix, classification_report, accuracy_score, precision_score, recall_score, f1_score\n",
    "\n",
    "model = LogisticRegression(solver='lbfgs', max_iter=3000)\n",
    "model.fit(x_train, y_train)\n",
    "predictions = model.predict(x_test)\n",
    "\n",
    "print(\"Confusion Matrix: \\n\", confusion_matrix(y_test, predictions))\n",
    "print('\\n')\n",
    "print(classification_report(y_test, predictions))\n",
    "\n",
    "acc = accuracy_score(y_test, predictions)\n",
    "print(\"Accuracy of the Logistic Regression Model is: %.4f\" % (acc * 100))\n",
    "\n",
    "pre = precision_score(y_test, predictions)\n",
    "print(\"Precision of the Logistic Regression Model is: %.4f\" % (pre * 100))\n",
    "\n",
    "sen = recall_score(y_test, predictions)\n",
    "print(\"Sensitivity (Recall) of the Logistic Regression Model is: %.4f\" % (sen * 100))\n",
    "\n",
    "spe = recall_score(y_test, predictions, pos_label=0)\n",
    "print(\"Specificity of the Logistic Regression Model is: %.4f\" % (spe * 100))\n",
    "\n",
    "f1 = f1_score(y_test, predictions)\n",
    "print(\"F-score of the Logistic Regression Model is: %.4f\" % (f1 * 100))"
   ]
  },
  {
   "cell_type": "markdown",
   "id": "622066b5",
   "metadata": {},
   "source": [
    "split4"
   ]
  },
  {
   "cell_type": "code",
   "execution_count": 201,
   "id": "e9ada1d2",
   "metadata": {},
   "outputs": [
    {
     "name": "stdout",
     "output_type": "stream",
     "text": [
      "(364, 32)\n",
      "(364, 30)\n",
      "['B' 'M']\n",
      "\n",
      "\n",
      "(114, 33)\n",
      "(114, 30)\n",
      "['B' 'M']\n",
      "\n",
      "\n",
      "(91, 32)\n",
      "(91, 30)\n",
      "['B' 'M']\n"
     ]
    }
   ],
   "source": [
    "split = 'split4'\n",
    "path = \"../5-fold_new/DATA/\"\n",
    "train_path = \"{}/{}/train/train_{}.csv\".format(path,split,split)\n",
    "test_path =  \"{}/test.csv\".format(path)\n",
    "val_path = \"{}/{}/val/val_{}.csv\".format(path,split,split)\n",
    "\n",
    "# Load the training set\n",
    "train_data = pd.read_csv(train_path)\n",
    "print(train_data.shape)\n",
    "x_train = train_data[train_data.columns[2:]]\n",
    "print(x_train.shape)\n",
    "y_train = train_data[train_data.columns[1]]\n",
    "le = LabelEncoder()\n",
    "y_train = np.array(le.fit_transform(y_train))\n",
    "print(le.classes_)\n",
    "print('\\n')\n",
    "\n",
    "# Load the testing set\n",
    "test_data = pd.read_csv(test_path)\n",
    "print(test_data.shape)\n",
    "x_test = test_data[test_data.columns[3:]]\n",
    "print(x_test.shape)\n",
    "y_test = test_data[test_data.columns[2]]\n",
    "le = LabelEncoder()\n",
    "y_test = np.array(le.fit_transform(y_test))\n",
    "print(le.classes_)\n",
    "print('\\n')\n",
    "\n",
    "# Load the validation set\n",
    "val_data = pd.read_csv(val_path)\n",
    "print(val_data.shape)\n",
    "x_val = val_data[val_data.columns[2:]]\n",
    "print(x_val.shape)\n",
    "y_val = val_data[val_data.columns[1]]\n",
    "le = LabelEncoder()\n",
    "y_val = np.array(le.fit_transform(y_val))\n",
    "print(le.classes_)"
   ]
  },
  {
   "cell_type": "code",
   "execution_count": 202,
   "id": "c0541bd1",
   "metadata": {},
   "outputs": [
    {
     "name": "stdout",
     "output_type": "stream",
     "text": [
      "Confusion Matrix: \n",
      " [[46  0]\n",
      " [ 9 59]]\n",
      "\n",
      "\n",
      "              precision    recall  f1-score   support\n",
      "\n",
      "           0       0.84      1.00      0.91        46\n",
      "           1       1.00      0.87      0.93        68\n",
      "\n",
      "    accuracy                           0.92       114\n",
      "   macro avg       0.92      0.93      0.92       114\n",
      "weighted avg       0.93      0.92      0.92       114\n",
      "\n",
      "Accuracy of the Logistic Regression Model is: 92.1053\n",
      "Precision of the Logistic Regression Model is: 100.0000\n",
      "Sensitivity (Recall) of the Logistic Regression Model is: 86.7647\n",
      "Specificity of the Logistic Regression Model is: 100.0000\n",
      "F-score of the Logistic Regression Model is: 92.9134\n"
     ]
    }
   ],
   "source": [
    "from sklearn.linear_model import LogisticRegression\n",
    "from sklearn.metrics import confusion_matrix, classification_report, accuracy_score, precision_score, recall_score, f1_score\n",
    "\n",
    "model = LogisticRegression(solver='lbfgs', max_iter=3000)\n",
    "model.fit(x_train, y_train)\n",
    "predictions = model.predict(x_test)\n",
    "\n",
    "print(\"Confusion Matrix: \\n\", confusion_matrix(y_test, predictions))\n",
    "print('\\n')\n",
    "print(classification_report(y_test, predictions))\n",
    "\n",
    "acc = accuracy_score(y_test, predictions)\n",
    "print(\"Accuracy of the Logistic Regression Model is: %.4f\" % (acc * 100))\n",
    "\n",
    "pre = precision_score(y_test, predictions)\n",
    "print(\"Precision of the Logistic Regression Model is: %.4f\" % (pre * 100))\n",
    "\n",
    "sen = recall_score(y_test, predictions)\n",
    "print(\"Sensitivity (Recall) of the Logistic Regression Model is: %.4f\" % (sen * 100))\n",
    "\n",
    "spe = recall_score(y_test, predictions, pos_label=0)\n",
    "print(\"Specificity of the Logistic Regression Model is: %.4f\" % (spe * 100))\n",
    "\n",
    "f1 = f1_score(y_test, predictions)\n",
    "print(\"F-score of the Logistic Regression Model is: %.4f\" % (f1 * 100))"
   ]
  },
  {
   "cell_type": "markdown",
   "id": "618dcdd8",
   "metadata": {},
   "source": [
    "split5"
   ]
  },
  {
   "cell_type": "code",
   "execution_count": 203,
   "id": "e594155a",
   "metadata": {},
   "outputs": [
    {
     "name": "stdout",
     "output_type": "stream",
     "text": [
      "(364, 32)\n",
      "(364, 30)\n",
      "['B' 'M']\n",
      "\n",
      "\n",
      "(114, 33)\n",
      "(114, 30)\n",
      "['B' 'M']\n",
      "\n",
      "\n",
      "(91, 32)\n",
      "(91, 30)\n",
      "['B' 'M']\n"
     ]
    }
   ],
   "source": [
    "split = 'split5'\n",
    "path = \"../5-fold_new/DATA/\"\n",
    "train_path = \"{}/{}/train/train_{}.csv\".format(path,split,split)\n",
    "test_path =  \"{}/test.csv\".format(path)\n",
    "val_path = \"{}/{}/val/val_{}.csv\".format(path,split,split)\n",
    "\n",
    "# Load the training set\n",
    "train_data = pd.read_csv(train_path)\n",
    "print(train_data.shape)\n",
    "x_train = train_data[train_data.columns[2:]]\n",
    "print(x_train.shape)\n",
    "y_train = train_data[train_data.columns[1]]\n",
    "le = LabelEncoder()\n",
    "y_train = np.array(le.fit_transform(y_train))\n",
    "print(le.classes_)\n",
    "print('\\n')\n",
    "\n",
    "# Load the testing set\n",
    "test_data = pd.read_csv(test_path)\n",
    "print(test_data.shape)\n",
    "x_test = test_data[test_data.columns[3:]]\n",
    "print(x_test.shape)\n",
    "y_test = test_data[test_data.columns[2]]\n",
    "le = LabelEncoder()\n",
    "y_test = np.array(le.fit_transform(y_test))\n",
    "print(le.classes_)\n",
    "print('\\n')\n",
    "\n",
    "# Load the validation set\n",
    "val_data = pd.read_csv(val_path)\n",
    "print(val_data.shape)\n",
    "x_val = val_data[val_data.columns[2:]]\n",
    "print(x_val.shape)\n",
    "y_val = val_data[val_data.columns[1]]\n",
    "le = LabelEncoder()\n",
    "y_val = np.array(le.fit_transform(y_val))\n",
    "print(le.classes_)"
   ]
  },
  {
   "cell_type": "code",
   "execution_count": 204,
   "id": "125bf7a7",
   "metadata": {},
   "outputs": [
    {
     "name": "stdout",
     "output_type": "stream",
     "text": [
      "Confusion Matrix: \n",
      " [[46  0]\n",
      " [10 58]]\n",
      "\n",
      "\n",
      "              precision    recall  f1-score   support\n",
      "\n",
      "           0       0.82      1.00      0.90        46\n",
      "           1       1.00      0.85      0.92        68\n",
      "\n",
      "    accuracy                           0.91       114\n",
      "   macro avg       0.91      0.93      0.91       114\n",
      "weighted avg       0.93      0.91      0.91       114\n",
      "\n",
      "Accuracy of the Logistic Regression Model is: 91.2281\n",
      "Precision of the Logistic Regression Model is: 100.0000\n",
      "Sensitivity (Recall) of the Logistic Regression Model is: 85.2941\n",
      "Specificity of the Logistic Regression Model is: 100.0000\n",
      "F-score of the Logistic Regression Model is: 92.0635\n"
     ]
    }
   ],
   "source": [
    "from sklearn.linear_model import LogisticRegression\n",
    "from sklearn.metrics import confusion_matrix, classification_report, accuracy_score, precision_score, recall_score, f1_score\n",
    "\n",
    "model = LogisticRegression(solver='lbfgs', max_iter=3000)\n",
    "model.fit(x_train, y_train)\n",
    "predictions = model.predict(x_test)\n",
    "\n",
    "print(\"Confusion Matrix: \\n\", confusion_matrix(y_test, predictions))\n",
    "print('\\n')\n",
    "print(classification_report(y_test, predictions))\n",
    "\n",
    "acc = accuracy_score(y_test, predictions)\n",
    "print(\"Accuracy of the Logistic Regression Model is: %.4f\" % (acc * 100))\n",
    "\n",
    "pre = precision_score(y_test, predictions)\n",
    "print(\"Precision of the Logistic Regression Model is: %.4f\" % (pre * 100))\n",
    "\n",
    "sen = recall_score(y_test, predictions)\n",
    "print(\"Sensitivity (Recall) of the Logistic Regression Model is: %.4f\" % (sen * 100))\n",
    "\n",
    "spe = recall_score(y_test, predictions, pos_label=0)\n",
    "print(\"Specificity of the Logistic Regression Model is: %.4f\" % (spe * 100))\n",
    "\n",
    "f1 = f1_score(y_test, predictions)\n",
    "print(\"F-score of the Logistic Regression Model is: %.4f\" % (f1 * 100))"
   ]
  },
  {
   "cell_type": "code",
   "execution_count": 205,
   "id": "6b91a249",
   "metadata": {},
   "outputs": [
    {
     "name": "stdout",
     "output_type": "stream",
     "text": [
      "ROC AUC : 0.9948849104859334\n"
     ]
    },
    {
     "data": {
      "image/png": "[encoded data removed]",
      "text/plain": [
       "<Figure size 640x480 with 1 Axes>"
      ]
     },
     "metadata": {},
     "output_type": "display_data"
    },
    {
     "name": "stdout",
     "output_type": "stream",
     "text": [
      "ROC AUC = 0.9948849104859334\n"
     ]
    },
    {
     "data": {
      "image/png": "[encoded data removed]",
      "text/plain": [
       "<Figure size 640x480 with 1 Axes>"
      ]
     },
     "metadata": {},
     "output_type": "display_data"
    }
   ],
   "source": [
    "from sklearn.metrics import roc_curve, roc_auc_score\n",
    "import matplotlib.pyplot as plt\n",
    "\n",
    "#define metrics AUC\n",
    "predictions = model.predict_proba(x_test)[:,1]\n",
    "fpr, tpr, _ = roc_curve(y_test, predictions)\n",
    "auc = roc_auc_score(y_test, predictions)\n",
    "print(\"ROC AUC :\", auc)\n",
    "\n",
    "#create ROC curve\n",
    "plt.plot(fpr,tpr,label=\"AUC=\"+str(auc))\n",
    "plt.ylabel('True Positive Rate')\n",
    "plt.xlabel('False Positive Rate')\n",
    "plt.legend(loc=4)\n",
    "plt.show()\n",
    "\n",
    "# predict probabilities\n",
    "predictions = model.predict_proba(x_test)[:, 1]\n",
    "# calculate scores\n",
    "lr_auc = roc_auc_score(y_test, predictions)\n",
    "# summarize scores\n",
    "print('ROC AUC =', lr_auc)\n",
    "# calculate roc curves\n",
    "lr_fpr, lr_tpr, _ = roc_curve(y_test, predictions)\n",
    "# plot the roc curve for the model\n",
    "plt.plot(lr_fpr, lr_tpr, marker='.', label='Logistic')\n",
    "# axis labels\n",
    "plt.xlabel('False Positive Rate')\n",
    "plt.ylabel('True Positive Rate')\n",
    "# show the legend\n",
    "plt.legend()\n",
    "# show the plot\n",
    "plt.show()"
   ]
  },
  {
   "cell_type": "code",
   "execution_count": 206,
   "id": "a649a7f1",
   "metadata": {},
   "outputs": [
    {
     "name": "stdout",
     "output_type": "stream",
     "text": [
      "Logistic: f1=0.921 auc=0.996\n"
     ]
    },
    {
     "data": {
      "image/png": "[encoded data removed]",
      "text/plain": [
       "<Figure size 640x480 with 1 Axes>"
      ]
     },
     "metadata": {},
     "output_type": "display_data"
    }
   ],
   "source": [
    "from sklearn.metrics import precision_recall_curve, auc\n",
    "\n",
    "# precision-recall curve and f1\n",
    "\n",
    "# predict probabilities\n",
    "lr_probs = model.predict_proba(x_test)\n",
    "# keep probabilities for the positive outcome only\n",
    "lr_probs = lr_probs[:, 1]\n",
    "# predict class values\n",
    "yhat = model.predict(x_test)\n",
    "lr_precision, lr_recall, _ = precision_recall_curve(y_test, lr_probs)\n",
    "lr_f1, lr_auc = f1_score(y_test, yhat), auc(lr_recall, lr_precision)\n",
    "# summarize scores\n",
    "print('Logistic: f1=%.3f auc=%.3f' % (lr_f1, lr_auc))\n",
    "# plot the precision-recall curves\n",
    "no_skill = len(y_test[y_test==1]) / len(y_test)\n",
    "plt.plot([0, 1], [no_skill, no_skill], linestyle='--', label='No Skill')\n",
    "plt.plot(lr_recall, lr_precision, marker='.', label='Logistic')\n",
    "# axis labels\n",
    "plt.xlabel('Recall')\n",
    "plt.ylabel('Precision')\n",
    "# show the legend\n",
    "plt.legend()\n",
    "# show the plot\n",
    "plt.show()"
   ]
  },
  {
   "cell_type": "code",
   "execution_count": 207,
   "id": "cc4bc0c8",
   "metadata": {},
   "outputs": [
    {
     "name": "stdout",
     "output_type": "stream",
     "text": [
      "split5\n",
      "validate set\n",
      "Confusion Matrix\n",
      "[[66  2]\n",
      " [ 0 23]] \n",
      "\n"
     ]
    },
    {
     "data": {
      "image/png": "[encoded data removed]",
      "text/plain": [
       "<Figure size 600x600 with 2 Axes>"
      ]
     },
     "metadata": {},
     "output_type": "display_data"
    },
    {
     "name": "stdout",
     "output_type": "stream",
     "text": [
      "test set\n",
      "Confusion Matrix\n",
      "[[46  0]\n",
      " [ 9 59]] \n",
      "\n"
     ]
    },
    {
     "data": {
      "image/png": "[encoded data removed]",
      "text/plain": [
       "<Figure size 600x600 with 2 Axes>"
      ]
     },
     "metadata": {},
     "output_type": "display_data"
    },
    {
     "name": "stdout",
     "output_type": "stream",
     "text": [
      "AUC validate: 0.9853\n",
      "AUC test: 0.9338\n"
     ]
    },
    {
     "data": {
      "image/png": "[encoded data removed]",
      "text/plain": [
       "<Figure size 640x480 with 1 Axes>"
      ]
     },
     "metadata": {},
     "output_type": "display_data"
    }
   ],
   "source": [
    "import seaborn as sns\n",
    "\n",
    "print(split)\n",
    "# validate set\n",
    "print(\"validate set\")\n",
    "y_pred_val = logreg.predict(x_val)\n",
    "\n",
    "# Confusion matrix\n",
    "cm_val = confusion_matrix(y_val, y_pred_val)\n",
    "print('Confusion Matrix')\n",
    "print(cm_val,'\\n')\n",
    "\n",
    "# plot confusion matrix\n",
    "label = ['benign','malignant']\n",
    "plt.figure(figsize=(6, 6))\n",
    "plt.title(\"Validate set\", fontsize=20)\n",
    "ax = sns.heatmap(cm_val, cmap=\"rocket_r\", fmt=\".01f\",annot_kws={'size':16}, annot=True, square=True, xticklabels=label, yticklabels=label)\n",
    "ax.set_ylabel('Actual', fontsize=20)\n",
    "ax.set_xlabel('Predicted', fontsize=20)\n",
    "plt.show()\n",
    "\n",
    "# test set\n",
    "print(\"test set\")\n",
    "y_pred_test = logreg.predict(x_test)\n",
    "\n",
    "# Confusion matrix\n",
    "cm_test = confusion_matrix(y_test, y_pred_test)\n",
    "print('Confusion Matrix')\n",
    "print(cm_test,'\\n')\n",
    "\n",
    "# plot confusion matrix\n",
    "label = ['benign','malignant']\n",
    "plt.figure(figsize=(6, 6))\n",
    "plt.title(\"Test set\", fontsize=20)\n",
    "ax = sns.heatmap(cm_test, cmap=\"rocket_r\", fmt=\".01f\",annot_kws={'size':16}, annot=True, square=True, xticklabels=label, yticklabels=label)\n",
    "ax.set_ylabel('Actual', fontsize=20)\n",
    "ax.set_xlabel('Predicted', fontsize=20)\n",
    "plt.show()\n",
    "\n",
    "# plot ROC curve\n",
    "fpr1, tpr1, thr1 = roc_curve(y_val, y_pred_val)\n",
    "auc1 = roc_auc_score(y_val,  y_pred_val)\n",
    "fpr2, tpr2, thr2 = roc_curve(y_test,  y_pred_test)\n",
    "auc2 = roc_auc_score(y_test,  y_pred_test)\n",
    "#gmeans2 = np.sqrt(tpr2 * (1-fpr2))\n",
    "#ix2 = np.argmax(gmeans2)\n",
    "\n",
    "print(\"AUC validate: %.4f\" % auc1)\n",
    "print(\"AUC test: %.4f\" % auc2)\n",
    "\n",
    "plt.plot(fpr1,tpr1,label=\"ROC valid, auc=\"+str(\"%.4f\" % auc1))\n",
    "plt.plot(fpr2,tpr2,label=\"ROC test, auc=\"+str(\"%.4f\" % auc2))\n",
    "#plt.plot([0, 1], [0, 1], linestyle=\"--\", lw=2, color=\"r\", label=\"Chance\", alpha=0.8)\n",
    "plt.legend(loc=4)\n",
    "plt.show()"
   ]
  }
 ],
 "metadata": {
  "kernelspec": {
   "display_name": "Python 3 (ipykernel)",
   "language": "python",
   "name": "python3"
  },
  "language_info": {
   "codemirror_mode": {
    "name": "ipython",
    "version": 3
   },
   "file_extension": ".py",
   "mimetype": "text/x-python",
   "name": "python",
   "nbconvert_exporter": "python",
   "pygments_lexer": "ipython3",
   "version": "3.10.9"
  },
  "vscode": {
   "interpreter": {
    "hash": "23bf0724a01b6ea9814e66f76182ea78c0ee849a72ca257c0e116bf83bb4960a"
   }
  }
 },
 "nbformat": 4,
 "nbformat_minor": 5
}
