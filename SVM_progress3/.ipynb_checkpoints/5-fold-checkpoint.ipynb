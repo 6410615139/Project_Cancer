{
 "cells": [
  {
   "cell_type": "code",
   "execution_count": 1,
   "id": "bf183949-1772-4475-8394-17deb52eee18",
   "metadata": {},
   "outputs": [],
   "source": [
    "import pandas as pd\n",
    "import numpy as np"
   ]
  },
  {
   "cell_type": "code",
   "execution_count": 2,
   "id": "8458af73-caa4-4a1b-9da5-8142b1f31988",
   "metadata": {},
   "outputs": [
    {
     "name": "stdout",
     "output_type": "stream",
     "text": [
      "569\n"
     ]
    }
   ],
   "source": [
    "df = pd.read_csv('../drop_data.csv')\n",
    "print(len(df))"
   ]
  },
  {
   "cell_type": "code",
   "execution_count": 3,
   "id": "cb44e58e-1275-43cb-a9f2-af79484da2b4",
   "metadata": {},
   "outputs": [],
   "source": [
    "B_data = df[df[\"diagnosis\"]==\"B\"]\n",
    "M_data = df[df[\"diagnosis\"]==\"M\"]"
   ]
  },
  {
   "cell_type": "code",
   "execution_count": 4,
   "id": "cf386f82-a4b9-4246-9818-6e35a559e8c1",
   "metadata": {},
   "outputs": [
    {
     "name": "stdout",
     "output_type": "stream",
     "text": [
      "357\n",
      "212\n"
     ]
    }
   ],
   "source": [
    "print(len(B_data))\n",
    "print(len(M_data))"
   ]
  },
  {
   "cell_type": "code",
   "execution_count": 6,
   "id": "a17d1799-d64f-4639-b647-faf54f599eba",
   "metadata": {},
   "outputs": [
    {
     "data": {
      "text/plain": [
       "0.3684210526315789"
      ]
     },
     "execution_count": 6,
     "metadata": {},
     "output_type": "execute_result"
    }
   ],
   "source": [
    "42/114"
   ]
  },
  {
   "cell_type": "markdown",
   "id": "4f7c7120-0385-4ef1-abf2-f4eba6f1e85d",
   "metadata": {},
   "source": [
    "# Test set 114 data"
   ]
  },
  {
   "cell_type": "code",
   "execution_count": 5,
   "id": "3671d390-1228-466d-8754-a9c0be826942",
   "metadata": {},
   "outputs": [
    {
     "name": "stdout",
     "output_type": "stream",
     "text": [
      "285\n",
      "170\n"
     ]
    }
   ],
   "source": [
    "test_B = B_data.sample(72)\n",
    "test_M = M_data.sample(42)\n",
    "B_data = B_data.drop(test_B.index)\n",
    "M_data = M_data.drop(test_M.index)\n",
    "print(len(B_data))\n",
    "print(len(M_data))"
   ]
  },
  {
   "cell_type": "code",
   "execution_count": null,
   "id": "b8b409e5-7eae-4781-8763-86b26822b080",
   "metadata": {},
   "outputs": [],
   "source": []
  },
  {
   "cell_type": "code",
   "execution_count": 6,
   "id": "c5cce4cc-b345-44e3-b925-ebf40c572396",
   "metadata": {},
   "outputs": [],
   "source": [
    "test = pd.concat([test_B, test_M])"
   ]
  },
  {
   "cell_type": "code",
   "execution_count": null,
   "id": "8ebf4add-1236-464e-8338-783012ae6cce",
   "metadata": {},
   "outputs": [],
   "source": []
  },
  {
   "cell_type": "code",
   "execution_count": 15,
   "id": "41878b99-608b-4601-b1ea-258a49e8f05b",
   "metadata": {},
   "outputs": [],
   "source": [
    "fold_B = B_data.sample(57)\n",
    "fold_M = M_data.sample(34)\n",
    "B_data = B_data.drop(fold_B.index)\n",
    "M_data = M_data.drop(fold_M.index)\n",
    "f1 = pd.concat([fold_B, fold_M])"
   ]
  },
  {
   "cell_type": "code",
   "execution_count": 16,
   "id": "aa026384-46f9-41d2-be67-c3d9941c3993",
   "metadata": {},
   "outputs": [
    {
     "name": "stdout",
     "output_type": "stream",
     "text": [
      "0\n",
      "0\n"
     ]
    }
   ],
   "source": [
    "print(len(B_data))\n",
    "print(len(M_data))"
   ]
  },
  {
   "cell_type": "code",
   "execution_count": 11,
   "id": "34e2e1cd-0088-4842-a8bf-c2db7fc277fd",
   "metadata": {},
   "outputs": [
    {
     "data": {
      "text/plain": [
       "91"
      ]
     },
     "execution_count": 11,
     "metadata": {},
     "output_type": "execute_result"
    }
   ],
   "source": [
    "len(f1)"
   ]
  },
  {
   "cell_type": "code",
   "execution_count": 17,
   "id": "a6f4093e-ce14-4aec-b4bf-eb0a28fa9363",
   "metadata": {},
   "outputs": [],
   "source": [
    "test.to_csv(\"DATA_progress3_new/test.csv\", index=False)"
   ]
  },
  {
   "cell_type": "code",
   "execution_count": null,
   "id": "d44c7a67-67b1-45ca-b199-8102cf81ece9",
   "metadata": {},
   "outputs": [],
   "source": []
  },
  {
   "cell_type": "code",
   "execution_count": 18,
   "id": "128c048b-24b4-4a46-b947-0b5694098824",
   "metadata": {},
   "outputs": [],
   "source": [
    "f1.to_csv(\"DATA_progress3_new/f1.csv\", index=False)\n",
    "f2.to_csv(\"DATA_progress3_new/f2.csv\", index=False)\n",
    "f3.to_csv(\"DATA_progress3_new/f3.csv\", index=False)\n",
    "f4.to_csv(\"DATA_progress3_new/f4.csv\", index=False)\n",
    "f5.to_csv(\"DATA_progress3_new/f5.csv\", index=False)"
   ]
  },
  {
   "cell_type": "code",
   "execution_count": 19,
   "id": "7faa1f58-64b9-4eb7-a38d-fb2d15cc5aea",
   "metadata": {},
   "outputs": [],
   "source": [
    "train = pd.concat([f1, f2, f3, f4, f5])"
   ]
  },
  {
   "cell_type": "code",
   "execution_count": 20,
   "id": "a2909e21-9219-4a04-8dda-20734ddeba90",
   "metadata": {},
   "outputs": [],
   "source": [
    "train.to_csv(\"DATA_progress3_new/train.csv\", index=False)"
   ]
  },
  {
   "cell_type": "code",
   "execution_count": null,
   "id": "f731e170-fd7e-40df-a7dd-11b0d6252476",
   "metadata": {},
   "outputs": [],
   "source": []
  }
 ],
 "metadata": {
  "kernelspec": {
   "display_name": "Python 3 (ipykernel)",
   "language": "python",
   "name": "python3"
  },
  "language_info": {
   "codemirror_mode": {
    "name": "ipython",
    "version": 3
   },
   "file_extension": ".py",
   "mimetype": "text/x-python",
   "name": "python",
   "nbconvert_exporter": "python",
   "pygments_lexer": "ipython3",
   "version": "3.9.13"
  }
 },
 "nbformat": 4,
 "nbformat_minor": 5
}
