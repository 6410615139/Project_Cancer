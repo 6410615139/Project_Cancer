{
 "cells": [
  {
   "cell_type": "markdown",
   "id": "d654006e",
   "metadata": {},
   "source": [
    "# import"
   ]
  },
  {
   "cell_type": "code",
   "execution_count": 1,
   "id": "bafa799c",
   "metadata": {
    "tags": []
   },
   "outputs": [],
   "source": [
    "import pandas as pd\n",
    "\n",
    "from sklearn.preprocessing import LabelEncoder\n",
    "from sklearn.preprocessing import StandardScaler\n",
    "import numpy as np\n",
    "\n",
    "from sklearn.preprocessing import StandardScaler\n",
    "\n",
    "from sklearn.model_selection import GridSearchCV\n",
    "from sklearn.svm import SVC\n",
    "from sklearn.linear_model import LogisticRegression\n",
    "from sklearn.ensemble import VotingClassifier\n",
    "from sklearn.tree import DecisionTreeClassifier\n",
    "from sklearn.linear_model import SGDClassifier\n",
    "from sklearn.ensemble import RandomForestClassifier\n",
    "\n",
    "from sklearn.metrics import confusion_matrix\n",
    "import sklearn.metrics as metrics\n",
    "\n",
    "import matplotlib.pyplot as plt\n",
    "import seaborn as sns\n",
    "from sklearn.metrics import confusion_matrix, roc_curve, roc_auc_score\n",
    "\n",
    "import statistics\n",
    "\n",
    "import joblib\n",
    "\n",
    "# from sklearn.inspection import plot_partial_dependence"
   ]
  },
  {
   "cell_type": "markdown",
   "id": "3aad2269",
   "metadata": {},
   "source": [
    "# function"
   ]
  },
  {
   "cell_type": "code",
   "execution_count": 2,
   "id": "6d245ca3",
   "metadata": {
    "tags": []
   },
   "outputs": [],
   "source": [
    "# # tn, fp, fn, tp = each_index(cm)\n",
    "def each_index(metrix):\n",
    "    TN = metrix[0][0]\n",
    "    FP = metrix[0][1]\n",
    "    FN = metrix[1][0]\n",
    "    TP = metrix[1][1]\n",
    "    return TN, FP, FN, TP\n",
    "def sensitivity(metrix):\n",
    "    TN, FP, FN, TP = each_index(metrix)\n",
    "    # Calculate sensitivity\n",
    "    sensitivity = TP / (TP + FN) * 100\n",
    "    print(\"Sensitivity: %.2f%%\" % sensitivity)\n",
    "    return sensitivity\n",
    "def specificity(metrix):\n",
    "    TN, FP, FN, TP = each_index(metrix)\n",
    "    # Calculate specificity\n",
    "    specificity = TN / (TN + FP) * 100\n",
    "    print(\"Specificity: %.2f%%\" % specificity)\n",
    "    return specificity\n",
    "def accuracy(metrix):\n",
    "    TN, FP, FN, TP = each_index(metrix)\n",
    "    # Calculate accuracy\n",
    "    accuracy = ((TP + TN) / (TP + TN + FP + FN)) *100\n",
    "    print(\"Accuracy: %.2f%%\" % accuracy)\n",
    "    return accuracy\n",
    "def precision(metrix):\n",
    "    TN, FP, FN, TP = each_index(metrix)\n",
    "    # Calculate accuracy\n",
    "    precision = (TP / (TP + FP)) *100\n",
    "    print(\"Precision: %.2f%%\" % precision)\n",
    "    return precision\n",
    "def f1(metrix):\n",
    "    TN, FP, FN, TP = each_index(metrix)\n",
    "    # Calculate f1\n",
    "    recall = sensitivity(metrix)\n",
    "    pre = precision(metrix)\n",
    "    f1 = ((2*pre*recall) / (pre+recall))\n",
    "    print(\"F1: %.2f%%\" % f1)\n",
    "    return f1"
   ]
  },
  {
   "cell_type": "code",
   "execution_count": 3,
   "id": "352eb9e7",
   "metadata": {
    "tags": []
   },
   "outputs": [],
   "source": [
    "def setup(split):\n",
    "    # setting split and path\n",
    "    path = \"../kitt/DATA_progress3_new\"\n",
    "    train_path = \"{}/{}/train/train_oversampling.csv\".format(path,split)\n",
    "    test_path =  \"{}/test.csv\".format(path)\n",
    "    valid_path = \"{}/{}/val/val.csv\".format(path,split)\n",
    "\n",
    "    print(train_path)\n",
    "    # Load the train set\n",
    "    train_data = pd.read_csv(train_path)\n",
    "    print(train_data.shape)\n",
    "    x_train = train_data[train_data.columns[2:]]\n",
    "    print(x_train.shape)\n",
    "    y_train = train_data[train_data.columns[1]]\n",
    "    le = LabelEncoder()\n",
    "    y_train = np.array(le.fit_transform(y_train))\n",
    "    print(le.classes_)\n",
    "    print(test_path)\n",
    "    # Load the test set\n",
    "    test_data = pd.read_csv(test_path)\n",
    "    print(test_data.shape)\n",
    "    x_test = test_data[test_data.columns[2:]]\n",
    "    print(x_test.shape)\n",
    "    y_test = test_data[test_data.columns[1]]\n",
    "    le = LabelEncoder()\n",
    "    y_test = np.array(le.fit_transform(y_test))\n",
    "    print(le.classes_)\n",
    "\n",
    "    print(valid_path)\n",
    "    # Load the validation set\n",
    "    val_data = pd.read_csv(valid_path)\n",
    "    print(val_data.shape)\n",
    "    x_val = val_data[val_data.columns[2:]]\n",
    "    print(x_val.shape)\n",
    "    y_val = val_data[val_data.columns[1]]\n",
    "    le = LabelEncoder()\n",
    "    y_val = np.array(le.fit_transform(y_val))\n",
    "    print(le.classes_)\n",
    "\n",
    "    # StandardScaler\n",
    "    sc = StandardScaler()\n",
    "    x_train = x_train.to_numpy()\n",
    "    x_test = x_test.to_numpy()\n",
    "    x_val = x_val.to_numpy()\n",
    "    x_train = sc.fit_transform(x_train)\n",
    "    x_test = sc.transform(x_test)\n",
    "    x_val = sc.transform(x_val)\n",
    "    \n",
    "    return x_train,y_train,x_test,y_test,x_val,y_val"
   ]
  },
  {
   "cell_type": "code",
   "execution_count": 4,
   "id": "77269bd9",
   "metadata": {
    "tags": []
   },
   "outputs": [],
   "source": [
    "def cal_score_all(cm_val):\n",
    "    sen_val = sensitivity(cm_val)\n",
    "    spec_val = specificity(cm_val)\n",
    "    acc_val = accuracy(cm_val)\n",
    "    pre_val = precision(cm_val)\n",
    "    f1_score_val = f1(cm_val)"
   ]
  },
  {
   "cell_type": "code",
   "execution_count": 5,
   "id": "416bcf81",
   "metadata": {
    "tags": []
   },
   "outputs": [],
   "source": [
    "def plot_cm(cm_val, save=False,which=\"-\"):\n",
    "    class_names = ['benign','malignant']\n",
    "    # Normalize confusion matrix to percentage\n",
    "    cm_norm_val = cm_val.astype('float') / cm_val.sum(axis=1)[:, np.newaxis]\n",
    "    # Create plot\n",
    "    fig, ax = plt.subplots()\n",
    "    im = ax.imshow(cm_norm_val, interpolation='nearest', cmap=\"rocket_r\")\n",
    "    ax.grid(False)\n",
    "    # Add labels\n",
    "    ax.set(xticks=np.arange(cm_norm_val.shape[1]),\n",
    "           yticks=np.arange(cm_norm_val.shape[0]),\n",
    "           xticklabels=class_names, yticklabels=class_names)\n",
    "    ax.set_title(which, fontsize=16)\n",
    "    ax.set_ylabel('Actual', fontsize=16)\n",
    "    ax.set_xlabel('Predicted', fontsize=16)\n",
    "    # Add percentage and count values inside plot\n",
    "    thresh = cm_norm_val.max() / 2.\n",
    "    for i in range(cm_norm_val.shape[0]):\n",
    "        for j in range(cm_norm_val.shape[1]):\n",
    "            ax.text(j, i, '''{}\\n({:.2f}%)'''.format(cm_val[i,j], cm_norm_val[i, j]*100),\n",
    "                    ha=\"center\", va=\"center\",\n",
    "                    color=\"white\" if cm_norm_val[i, j] > thresh else \"black\",\n",
    "                   fontsize=20)\n",
    "    if save is not False:\n",
    "        save_path = '{}_{}.png'.format(split)\n",
    "        plt.savefig(save_path)\n",
    "        print(\"Save fig at {}\".format(save_path))\n",
    "    plt.show()"
   ]
  },
  {
   "cell_type": "code",
   "execution_count": 6,
   "id": "0fda80ce",
   "metadata": {
    "tags": []
   },
   "outputs": [],
   "source": [
    "def plot_ROC():\n",
    "    fpr1, tpr1, thr1 = metrics.roc_curve(y_val,  y_pred_val)\n",
    "    auc1 = metrics.roc_auc_score(y_val,  y_pred_val)\n",
    "    fpr2, tpr2, thr2 = metrics.roc_curve(y_test,  y_pred_test)\n",
    "    auc2 = metrics.roc_auc_score(y_test,  y_pred_test)\n",
    "    gmeans2 = np.sqrt(tpr2 * (1-fpr2))\n",
    "    ix2 = np.argmax(gmeans2)\n",
    "    print(\"---------------------------------------\")\n",
    "    print(\"AUC validate: %.4f\" % auc1)\n",
    "    print(\"AUC test: %.4f\" % auc2)\n",
    "    plt.plot(fpr1,tpr1,label=\"ROC valid, auc=\"+str(\"%.4f\" % auc1))\n",
    "    plt.plot(fpr2,tpr2,label=\"ROC test, auc=\"+str(\"%.4f\" % auc2))\n",
    "    plt.plot([0, 1], [0, 1], linestyle=\"--\", lw=2, color=\"r\", label=\"Chance\", alpha=0.8)\n",
    "\n",
    "    plt.legend(loc=4)\n",
    "    plt.show()"
   ]
  },
  {
   "cell_type": "code",
   "execution_count": 7,
   "id": "f245ce3d",
   "metadata": {
    "tags": []
   },
   "outputs": [],
   "source": [
    "def to_labels(pos_probs, threshold):\n",
    "    return (pos_probs >= threshold).astype('int')\n",
    "    \n",
    "def thresholding(y_val, y_pred_val):\n",
    "    fpr, tpr, thresholds = metrics.roc_curve(y_val,  y_pred_val[:, 1])\n",
    "    # get the best threshold\n",
    "    J = tpr - fpr\n",
    "    ix = np.argmax(J)\n",
    "    best_thresh = thresholds[ix]\n",
    "    print('Best Threshold=%f' % (best_thresh))\n",
    "    print('FPR: %.4f\\nTPR: %.4f' %(fpr[ix], tpr[ix]))\n",
    "    y_pred_val_new = to_labels(y_pred_val[:, 1], best_thresh)\n",
    "    return y_pred_val_new"
   ]
  },
  {
   "cell_type": "code",
   "execution_count": 8,
   "id": "d1cdf345",
   "metadata": {
    "tags": []
   },
   "outputs": [],
   "source": [
    "def false_predict_kitt(y_true, y_pred, split=\"test\"):\n",
    "    \"\"\"\n",
    "    Compares two arrays and returns the indices of false predictions.\n",
    "    Args:\n",
    "        y_true: true labels\n",
    "        y_pred: predicted labels\n",
    "    Returns:\n",
    "        The indices of false predictions.\n",
    "    \"\"\"\n",
    "    \n",
    "    path = \"../kitt/DATA_progress3/\"\n",
    "    train_path = \"{}/{}/train/train_oversampling.csv\".format(path,split)\n",
    "    train_data = pd.read_csv(train_path)\n",
    "    false_positive = []\n",
    "    false_negative = []\n",
    "    if split == \"test\":\n",
    "        test_path =  \"{}/test.csv\".format(path)\n",
    "        test_data = pd.read_csv(test_path)\n",
    "        for i in range(len(y_true)):\n",
    "            if y_true[i] != y_pred[i]:\n",
    "                if y_pred[i] == 1:\n",
    "                    false_positive.append(i)\n",
    "                if y_pred[i] == 0:\n",
    "                    false_negative.append(i)\n",
    "        false_positive_df = test_data.loc[false_positive]\n",
    "        false_negative_df = test_data.loc[false_negative]\n",
    "        M_data = train_data[train_data[\"diagnosis\"]==\"M\"]\n",
    "        B_data = train_data[train_data[\"diagnosis\"]==\"B\"]\n",
    "    elif \"split\" in split:\n",
    "        val_path =  \"{}/{}/val/val.csv\".format(path,split)\n",
    "        val_data = pd.read_csv(val_path)\n",
    "        false_indices = []\n",
    "        for i in range(len(y_true)):\n",
    "            if y_true[i] != y_pred[i]:\n",
    "                if y_pred[i] == 1:\n",
    "                    false_positive.append(i)\n",
    "                if y_pred[i] == 0:\n",
    "                    false_negative.append(i)\n",
    "        false_positive_df = val_data.loc[false_positive]\n",
    "        false_negative_df = val_data.loc[false_negative]\n",
    "        M_data = train_data[train_data[\"diagnosis\"]==\"M\"]\n",
    "        B_data = train_data[train_data[\"diagnosis\"]==\"B\"]\n",
    "    x_col, y_col = \"area_mean\", \"concavity_mean\"\n",
    "    # Create the scatter plot with false predictions data as red dots and true predictions data as blue dots\n",
    "    plt.scatter(B_data[x_col], B_data[y_col], color='blue', label='True Negative', alpha=0.5)\n",
    "    plt.scatter(M_data[x_col], M_data[y_col], color='green', label='True Positive', alpha=0.5)\n",
    "    plt.scatter(false_negative_df[x_col], false_negative_df[y_col], color='yellow', label='False Negative Predictions')\n",
    "    plt.scatter(false_positive_df[x_col], false_positive_df[y_col], color='red', label='False Positive Predictions') \n",
    "    # Add legend and labels\n",
    "    plt.legend()\n",
    "    plt.title(split)\n",
    "    plt.xlabel(x_col)\n",
    "    plt.ylabel(y_col)\n",
    "    # Show the plot\n",
    "    plt.show()\n",
    "    \n",
    "def train_param2(split):\n",
    "    x_train,y_train,x_test,y_test,x_val,y_val = setup(split)\n",
    "    model = SVC(C=100, gamma=0.001, kernel='rbf',probability=True)\n",
    "    model.fit(x_train, y_train)\n",
    "    joblib.dump(model, \"../SVM_progress3/model/param2/SVM_model_{}.pkl\".format(split))\n",
    "    \n",
    "def kernal_svm_split5(split):\n",
    "#     # import some data to play with\n",
    "#     x_train,y_train,x_test,y_test,x_val,y_val = setup(split)\n",
    "#     X = x_train[:, [0, 6]]  # we only take the first two features. We could\n",
    "#                           # avoid this ugly slicing by using a two-dim dataset\n",
    "#     y = y_train\n",
    "\n",
    "\n",
    "#     # we create an instance of SVM and fit out data. We do not scale our\n",
    "#     # data since we want to plot the support vectors\n",
    "#     C = 100.0  # SVM regularization parameter\n",
    "#     svc = svm.SVC(kernel='linear', C=C).fit(X, y)\n",
    "#     rbf_svc = svm.SVC(kernel='rbf', gamma=0.1, C=C).fit(X, y)\n",
    "#     poly_svc = svm.SVC(kernel='poly', degree=3, C=C).fit(X, y)\n",
    "#     lin_svc = svm.LinearSVC(C=C).fit(X, y)\n",
    "\n",
    "    model_path = \"../SVM/models/param2/SVM_model_{}.pkl\".format(split)\n",
    "    print(model_path)\n",
    "    loaded_model = joblib.load(model_path)\n",
    "    \n",
    "    x_train,y_train,x_test,y_test,x_val,y_val = setup(split)\n",
    "    X = x_train[:, [0, 2]]\n",
    "    y = y_train\n",
    "    \n",
    "    h = .02  # step size in the mesh\n",
    "        \n",
    "    # create a mesh to plot in\n",
    "    x_min, x_max = X[:, 0].min() - 1, X[:, 0].max() + 1\n",
    "    y_min, y_max = X[:, 1].min() - 1, X[:, 1].max() + 1\n",
    "    xx, yy = np.meshgrid(np.arange(x_min, x_max, h),\n",
    "                         np.arange(y_min, y_max, h))\n",
    "\n",
    "    # title for the plots\n",
    "    titles = ['SVC with RBF kernel']\n",
    "\n",
    "\n",
    "    for i, clf in enumerate((loaded_model)):\n",
    "        # Plot the decision boundary. For that, we will assign a color to each\n",
    "        # point in the mesh [x_min, x_max]x[y_min, y_max].\n",
    "        plt.subplot(2, 2, i + 1)\n",
    "        plt.subplots_adjust(wspace=0.4, hspace=0.4)\n",
    "\n",
    "        Z = clf.predict(np.c_[xx.ravel(), yy.ravel()])\n",
    "\n",
    "        # Put the result into a color plot\n",
    "        Z = Z.reshape(xx.shape)\n",
    "        plt.contourf(xx, yy, Z, cmap=plt.cm.coolwarm, alpha=0.8)\n",
    "\n",
    "        # Plot also the training points\n",
    "        plt.scatter(X[:, 0], X[:, 1], c=y, cmap=plt.cm.coolwarm)\n",
    "        plt.xlabel('area mean')\n",
    "        plt.ylabel('concavity mean')\n",
    "        plt.xlim(xx.min(), xx.max())\n",
    "        plt.ylim(yy.min(), yy.max())\n",
    "        plt.xticks(())\n",
    "        plt.yticks(())\n",
    "        plt.title(titles[i])\n",
    "\n",
    "    plt.show()\n",
    "    \n",
    "def evaluate(param,split):\n",
    "    model_path = \"../SVM/models/param{}/SVM_model_{}.pkl\".format(param,split)\n",
    "    print(model_path)\n",
    "    loaded_model = joblib.load(model_path)\n",
    "\n",
    "    print(\"############## validate set ################\")\n",
    "    y_pred_val_raw = loaded_model.predict_proba(x_val)\n",
    "    y_pred_val = thresholding(y_val, y_pred_val_raw)\n",
    "    \n",
    "    # Confusion matrix\n",
    "    cm_val = confusion_matrix(y_val, y_pred_val)\n",
    "    print('Confusion Matrix')\n",
    "    print('-'*16)\n",
    "    print(cm_val,'\\n')\n",
    "    print('-'*16)\n",
    "\n",
    "    # Calculate score\n",
    "    print(split)\n",
    "    cal_score_all(cm_val)\n",
    "    \n",
    "    # plot confusion matrix\n",
    "    plot_cm(cm_val, which=\"Validate set\")\n",
    "    \n",
    "    # ################# test set ##################\n",
    "    label = ['benign','malignant']\n",
    "    print(\"################# test set ##################\")\n",
    "    y_pred_test_raw = loaded_model.predict_proba(x_test)\n",
    "    y_pred_test = thresholding(y_test, y_pred_test_raw)\n",
    "\n",
    "    # Confusion matrix\n",
    "    cm_test = confusion_matrix(y_test, y_pred_test)\n",
    "    print('Confusion Matrix')\n",
    "    print('-'*16)\n",
    "    print(cm_test,'\\n')\n",
    "    print('-'*16)\n",
    "\n",
    "    # Calculate score\n",
    "    print(split)\n",
    "    cal_score_all(cm_test)\n",
    "\n",
    "    # plot confusion matrix\n",
    "    plot_cm(cm_test,which=\"Test set\")\n",
    "\n",
    "    ################## plot ROC curve ########################\n",
    "    fpr1, tpr1, thr1 = metrics.roc_curve(y_val,  y_pred_val_raw[:,1])\n",
    "    auc1 = metrics.roc_auc_score(y_val,  y_pred_val_raw[:,1])*100\n",
    "    fpr2, tpr2, thr2 = metrics.roc_curve(y_test,  y_pred_test_raw[:,1])\n",
    "    auc2 = metrics.roc_auc_score(y_test,  y_pred_test_raw[:,1])*100\n",
    "    gmeans2 = np.sqrt(tpr2 * (1-fpr2))\n",
    "    ix2 = np.argmax(gmeans2)\n",
    "    print(\"---------------------------------------\")\n",
    "    print(\"AUC validate: %.2f%%\" % auc1)\n",
    "    print(\"AUC test: %.2f%%\" % auc2)\n",
    "    plt.plot(fpr1,tpr1,label=\"ROC valid, auc=\"+str(\"%.2f%%\" % auc1))\n",
    "    plt.plot(fpr2,tpr2,label=\"ROC test, auc=\"+str(\"%.2f%%\" % auc2))\n",
    "    plt.plot([0, 1], [0, 1], linestyle=\"--\", lw=2, color=\"r\", label=\"Chance\", alpha=0.8)\n",
    "\n",
    "    plt.legend(loc=4)\n",
    "    plt.show()\n",
    "    \n",
    "    # coef(param,split)\n",
    "    \n",
    "    print(\"################# false predict ##################\")\n",
    "    fp = false_predict(y_val, y_pred_val, split)\n",
    "    print(fp)\n",
    "    false_predict_kitt(y_val, y_pred_val, split=split)\n",
    "    kernal_svm_split5(split)\n",
    "    return cm_val,cm_test,auc1,auc2"
   ]
  },
  {
   "cell_type": "code",
   "execution_count": 9,
   "id": "1e3c8ddf-af61-48d9-80f2-d9f47856cd60",
   "metadata": {
    "tags": []
   },
   "outputs": [],
   "source": [
    "def Mean_SD(name,split1, split2, split3, split4, split5):\n",
    "    sensitivity_values = []\n",
    "    sensitivity_values.append(split1)\n",
    "    sensitivity_values.append(split2)\n",
    "    sensitivity_values.append(split3)\n",
    "    sensitivity_values.append(split4)\n",
    "    sensitivity_values.append(split5)\n",
    "\n",
    "    # calculating the mean of sample set\n",
    "    mean_sensitivity = statistics.mean(sensitivity_values)\n",
    "    # Calculate standard deviation of sensitivity\n",
    "    sensitivity_sd = statistics.stdev(sensitivity_values)\n",
    "    \n",
    "    # Print mean sensitivity with standard deviation\n",
    "    print(\"%s: %.2f ± %.2f%%\" % (name,mean_sensitivity, sensitivity_sd))"
   ]
  },
  {
   "cell_type": "code",
   "execution_count": 10,
   "id": "0a3853f0-e40d-40ab-a9ba-01e360877c51",
   "metadata": {
    "tags": []
   },
   "outputs": [],
   "source": [
    "def plot(split1_cm, split2_cm, split3_cm, split4_cm, split5_cm):\n",
    "    cm_val = split1_cm + split2_cm + split3_cm + split4_cm + split5_cm\n",
    "    # Calculate score\n",
    "    print(\"split1\")\n",
    "    sen_val_1 = sensitivity(split1_cm)\n",
    "    spec_val_1 = specificity(split1_cm)\n",
    "    acc_val_1 = accuracy(split1_cm)\n",
    "    pre_val_1 = precision(split1_cm)\n",
    "    f1_score_val_1 = f1(split1_cm)\n",
    "    print(\"\\nsplit2\")\n",
    "    sen_val_2 = sensitivity(split2_cm)\n",
    "    spec_val_2 = specificity(split2_cm)\n",
    "    acc_val_2 = accuracy(split2_cm)\n",
    "    pre_val_2 = precision(split2_cm)\n",
    "    f1_score_val_2 = f1(split2_cm)\n",
    "    print(\"\\nsplit3\")\n",
    "    sen_val_3 = sensitivity(split3_cm)\n",
    "    spec_val_3 = specificity(split3_cm)\n",
    "    acc_val_3 = accuracy(split3_cm)\n",
    "    pre_val_3 = precision(split3_cm)\n",
    "    f1_score_val_3 = f1(split3_cm)\n",
    "    print(\"\\nsplit4\")\n",
    "    sen_val_4 = sensitivity(split4_cm)\n",
    "    spec_val_4 = specificity(split4_cm)\n",
    "    acc_val_4 = accuracy(split4_cm)\n",
    "    pre_val_4 = precision(split4_cm)\n",
    "    f1_score_val_4 = f1(split4_cm)\n",
    "    print(\"\\nsplit5\")\n",
    "    sen_val_5 = sensitivity(split5_cm)\n",
    "    spec_val_5 = specificity(split5_cm)\n",
    "    acc_val_5 = accuracy(split5_cm)\n",
    "    pre_val_5 = precision(split5_cm)\n",
    "    f1_score_val_5 = f1(split5_cm)\n",
    "    print(\"\\noverall\")\n",
    "    Mean_SD(\"sensitivity\",sen_val_1, sen_val_2, sen_val_3, sen_val_4, sen_val_5)\n",
    "    Mean_SD(\"specificity\",spec_val_1, spec_val_2, spec_val_3, spec_val_4, spec_val_5)\n",
    "    Mean_SD(\"accuracy\",acc_val_1, acc_val_2, acc_val_3, acc_val_4, acc_val_5)\n",
    "    Mean_SD(\"precision\",pre_val_1, pre_val_2, pre_val_3, pre_val_4, pre_val_5)\n",
    "    Mean_SD(\"f1_score\",f1_score_val_1, f1_score_val_2, f1_score_val_3, f1_score_val_4, f1_score_val_5)\n",
    "    # plot confusion matrix\n",
    "    class_names = ['benign','malignant']\n",
    "    # Normalize confusion matrix to percentage\n",
    "    cm_norm_val = cm_val.astype('float') / cm_val.sum(axis=1)[:, np.newaxis]\n",
    "    # Create plot\n",
    "    fig, ax = plt.subplots()\n",
    "    im = ax.imshow(cm_norm_val, interpolation='nearest', cmap=\"rocket_r\")\n",
    "    ax.grid(False)\n",
    "    # Add labels\n",
    "    ax.set(xticks=np.arange(cm_norm_val.shape[1]),\n",
    "           yticks=np.arange(cm_norm_val.shape[0]),\n",
    "           xticklabels=class_names, yticklabels=class_names)\n",
    "    ax.set_title(\"Validate set\", fontsize=16)\n",
    "    ax.set_ylabel('Actual', fontsize=16)\n",
    "    ax.set_xlabel('Predicted', fontsize=16)\n",
    "    # Add percentage and count values inside plot\n",
    "    thresh = cm_norm_val.max() / 2.\n",
    "    for i in range(cm_norm_val.shape[0]):\n",
    "        for j in range(cm_norm_val.shape[1]):\n",
    "            ax.text(j, i, '''{}\\n({:.2f}%)'''.format(cm_val[i,j], cm_norm_val[i, j]*100),\n",
    "                    ha=\"center\", va=\"center\",\n",
    "                    color=\"white\" if cm_norm_val[i, j] > thresh else \"black\", fontsize=20)\n",
    "    # plt.savefig('rf_model/validate_cm_{}.png'.format(split))\n",
    "    # plt.savefig('rf_model/validate_cm_best_param2_{}.png'.format(split))\n",
    "    plt.show()"
   ]
  },
  {
   "cell_type": "code",
   "execution_count": 11,
   "id": "0bf995c2-d1af-4d9f-9c9f-083866789605",
   "metadata": {
    "tags": []
   },
   "outputs": [],
   "source": [
    "def false_predict(y_true, y_pred, split):\n",
    "    \"\"\"\n",
    "    Compares two arrays and returns the indices of false predictions.\n",
    "    Args:\n",
    "        y_true: true labels\n",
    "        y_pred: predicted labels\n",
    "    Returns:\n",
    "        The indices of false predictions.\n",
    "    \"\"\"\n",
    "    path = \"../kitt/DATA_progress3_new/\"\n",
    "    # test_path =  \"{}/test.csv\".format(path)\n",
    "    # test_data = pd.read_csv(test_path)\n",
    "    valid_path = \"{}/{}/val/val.csv\".format(path,split)\n",
    "    val_data = pd.read_csv(valid_path)\n",
    "    false_indices = []\n",
    "    for i in range(len(y_true)):\n",
    "        if y_true[i] != y_pred[i]:\n",
    "            false_indices.append(i)\n",
    "    print(val_data.loc[false_indices])\n",
    "    return false_indices"
   ]
  },
  {
   "cell_type": "code",
   "execution_count": 12,
   "id": "9987169e-c43b-4690-b4e4-08e0ebe6e831",
   "metadata": {
    "tags": []
   },
   "outputs": [],
   "source": [
    "def coef(param,split):\n",
    "    model_path = \"../SVM/models/param{}/SVM_model_{}.pkl\".format(param,split)\n",
    "    loaded_model = joblib.load(model_path)\n",
    "    path = \"../kitt/DATA_progress3_new/\"\n",
    "    train_path = \"{}/{}/train/train_oversampling.csv\".format(path,split)\n",
    "    train_data = pd.read_csv(train_path)\n",
    "    x_train = train_data[train_data.columns[2:]]\n",
    "    \n",
    "    feature_coef = loaded_model.coef_\n",
    "\n",
    "    # print the feature importance\n",
    "    for i, coef in enumerate(feature_coef):\n",
    "        coef_abs = np.abs(coef)\n",
    "        df = pd.DataFrame({'Variable':x_train.columns,\n",
    "              'Coef':coef_abs}).sort_values('Coef', ascending=False)\n",
    "        \n",
    "        print(df)"
   ]
  },
  {
   "cell_type": "markdown",
   "id": "a58a3efe-1e77-422e-a967-0432917632a7",
   "metadata": {},
   "source": [
    "# find param"
   ]
  },
  {
   "cell_type": "code",
   "execution_count": 13,
   "id": "42267b68-0e2a-4f56-b910-35144b600da8",
   "metadata": {
    "tags": []
   },
   "outputs": [],
   "source": [
    "# def grid_search(x_train, y_train):\n",
    "#     # Define parameter grid\n",
    "#     param_grid = {'C': [0.1, 1, 10, 100, 1000], \n",
    "#                 'gamma': [1, 0.1, 0.01, 0.001, 0.0001],\n",
    "#                 'kernel': ['linear', 'rbf', 'poly', 'sigmoid']}\n",
    "#     # Define SGD model\n",
    "#     model = SVC()\n",
    "\n",
    "#     # Define grid search object\n",
    "#     grid_search = GridSearchCV(model, param_grid)\n",
    "\n",
    "#     # Fit grid search object to the data\n",
    "#     grid_search.fit(x_train, y_train)\n",
    "\n",
    "#     # Print best parameter and score\n",
    "#     # print('Best loss parameter:', grid_search.best_params_['loss'])\n",
    "#     # print('Best penalty parameter:', grid_search.best_params_['penalty'])\n",
    "#     # print('Best learning_rate parameter:', grid_search.best_params_['learning_rate'])\n",
    "#     # print('Best eta0 parameter:', grid_search.best_params_['eta0'])\n",
    "#     # print('Best max_iter parameter:', grid_search.best_params_['max_iter'])\n",
    "#     # print('Best alpha parameter:', grid_search.best_params_['alpha'])\n",
    "#     # print('Best score:', grid_search.best_score_)\n",
    "#     print('Best param:', grid_search.best_params_)\n",
    "#     print('Best score:', grid_search.best_score_)"
   ]
  },
  {
   "cell_type": "code",
   "execution_count": 14,
   "id": "77ef3105-a894-4fdb-8ecd-b4dd9a492172",
   "metadata": {
    "tags": []
   },
   "outputs": [],
   "source": [
    "# x_train,y_train,x_test,y_test,x_val,y_val = setup('split1')\n",
    "# grid_search(x_train, y_train)"
   ]
  },
  {
   "cell_type": "code",
   "execution_count": 15,
   "id": "3944fffd-fbdf-4559-a0b1-45f3a49de464",
   "metadata": {
    "tags": []
   },
   "outputs": [],
   "source": [
    "# x_train,y_train,x_test,y_test,x_val,y_val = setup('split2')\n",
    "# grid_search(x_train, y_train)"
   ]
  },
  {
   "cell_type": "code",
   "execution_count": 16,
   "id": "fdff0077-4758-4e79-a2d8-d9d68acf31b4",
   "metadata": {
    "tags": []
   },
   "outputs": [],
   "source": [
    "# x_train,y_train,x_test,y_test,x_val,y_val = setup('split3')\n",
    "# grid_search(x_train, y_train)"
   ]
  },
  {
   "cell_type": "code",
   "execution_count": 17,
   "id": "62d8a6e7-cf90-4a54-a0fd-279779538000",
   "metadata": {
    "tags": []
   },
   "outputs": [],
   "source": [
    "# x_train,y_train,x_test,y_test,x_val,y_val = setup('split4')\n",
    "# grid_search(x_train, y_train)"
   ]
  },
  {
   "cell_type": "code",
   "execution_count": 18,
   "id": "85b868a7-c1b0-4f66-a77b-226dcfecb14f",
   "metadata": {
    "tags": []
   },
   "outputs": [],
   "source": [
    "# x_train,y_train,x_test,y_test,x_val,y_val = setup('split5')\n",
    "# grid_search(x_train, y_train)"
   ]
  },
  {
   "cell_type": "markdown",
   "id": "d9b0c1a7-960c-4d05-a456-e2b712b83afc",
   "metadata": {},
   "source": [
    "# Set up all split"
   ]
  },
  {
   "cell_type": "code",
   "execution_count": 19,
   "id": "199f1248-5be1-4a47-9cd9-14cadd2c1918",
   "metadata": {
    "tags": []
   },
   "outputs": [],
   "source": [
    "# def train_param1(split):\n",
    "#     x_train,y_train,x_test,y_test,x_val,y_val = setup(split)\n",
    "#     model = SVC(C=10, gamma=0.1, kernel='rbf',probability=True)\n",
    "#     model.fit(x_train, y_train)\n",
    "#     joblib.dump(model, \"../SVM_progress3/model/param1/SVM_model_{}.pkl\".format(split))"
   ]
  },
  {
   "cell_type": "code",
   "execution_count": 20,
   "id": "65de27bf-04e0-4926-ae2b-bb4bc7399a2e",
   "metadata": {
    "tags": []
   },
   "outputs": [],
   "source": [
    "# def train_param2(split):\n",
    "#     x_train,y_train,x_test,y_test,x_val,y_val = setup(split)\n",
    "#     model = SVC(C=100, gamma=0.001, kernel='rbf',probability=True)\n",
    "#     model.fit(x_train, y_train)\n",
    "#     joblib.dump(model, \"../SVM_progress3/model/param2/SVM_model_{}.pkl\".format(split))"
   ]
  },
  {
   "cell_type": "code",
   "execution_count": 21,
   "id": "dced8ab7-38a7-4a9c-9ea5-44c757cff4e4",
   "metadata": {
    "tags": []
   },
   "outputs": [],
   "source": [
    "# def train_param3(split):\n",
    "#     x_train,y_train,x_test,y_test,x_val,y_val = setup(split)\n",
    "#     model = SVC(C=0.1, gamma=1, kernel='linear',probability=True)\n",
    "#     model.fit(x_train, y_train)\n",
    "#     joblib.dump(model, \"../SVM_progress3/model/param3/SVM_model_{}.pkl\".format(split))"
   ]
  },
  {
   "cell_type": "code",
   "execution_count": 22,
   "id": "d351dfb3-2172-43ff-8a75-abd52aa6694c",
   "metadata": {
    "tags": []
   },
   "outputs": [],
   "source": [
    "# def train_param4(split):\n",
    "#     x_train,y_train,x_test,y_test,x_val,y_val = setup(split)\n",
    "#     model = SVC(C=100, gamma=0.1, kernel='rbf',probability=True)\n",
    "#     model.fit(x_train, y_train)\n",
    "#     joblib.dump(model, \"../SVM_progress3/model/param4/SVM_model_{}.pkl\".format(split))"
   ]
  },
  {
   "cell_type": "code",
   "execution_count": 23,
   "id": "36e09eac-5ac6-43c6-9f61-7c88d520b6b2",
   "metadata": {
    "tags": []
   },
   "outputs": [],
   "source": [
    "# def train_param5(split):\n",
    "#     x_train,y_train,x_test,y_test,x_val,y_val = setup(split)\n",
    "#     model = SVC(C=100, gamma=0.1, kernel='rbf',probability=True)\n",
    "#     model.fit(x_train, y_train)\n",
    "#     joblib.dump(model, \"../SVM_progress3/model/param5/SVM_model_{}.pkl\".format(split))"
   ]
  },
  {
   "cell_type": "markdown",
   "id": "a01cd536",
   "metadata": {
    "tags": []
   },
   "source": [
    "# Parameter1"
   ]
  },
  {
   "cell_type": "markdown",
   "id": "a4ba78ed-d102-45c6-b3aa-e6b5994a4a5b",
   "metadata": {},
   "source": [
    "## split1"
   ]
  },
  {
   "cell_type": "code",
   "execution_count": 24,
   "id": "55930adc",
   "metadata": {
    "tags": []
   },
   "outputs": [
    {
     "name": "stdout",
     "output_type": "stream",
     "text": [
      "../kitt/DATA_progress3_new/split1/train/train_oversampling.csv\n",
      "(456, 18)\n",
      "(456, 16)\n",
      "['B' 'M']\n",
      "../kitt/DATA_progress3_new/test.csv\n",
      "(114, 18)\n",
      "(114, 16)\n",
      "['B' 'M']\n",
      "../kitt/DATA_progress3_new/split1/val/val.csv\n",
      "(91, 18)\n",
      "(91, 16)\n",
      "['B' 'M']\n"
     ]
    }
   ],
   "source": [
    "split_num = 1\n",
    "split = \"split{}\".format(split_num)\n",
    "x_train,y_train,x_test,y_test,x_val,y_val = setup(split)"
   ]
  },
  {
   "cell_type": "code",
   "execution_count": 25,
   "id": "1187b5a3-f26d-4cf8-a4d4-0058e86ad245",
   "metadata": {
    "tags": []
   },
   "outputs": [],
   "source": [
    "# train_param1(split)"
   ]
  },
  {
   "cell_type": "code",
   "execution_count": null,
   "id": "753f273d",
   "metadata": {
    "tags": []
   },
   "outputs": [
    {
     "name": "stdout",
     "output_type": "stream",
     "text": [
      "../SVM/models/param1/SVM_model_split1.pkl\n",
      "############## validate set ################\n",
      "Best Threshold=0.287460\n",
      "FPR: 0.0702\n",
      "TPR: 0.9412\n",
      "Confusion Matrix\n",
      "----------------\n",
      "[[53  4]\n",
      " [ 2 32]] \n",
      "\n",
      "----------------\n",
      "split1\n",
      "Sensitivity: 94.12%\n",
      "Specificity: 92.98%\n",
      "Accuracy: 93.41%\n",
      "Precision: 88.89%\n",
      "Sensitivity: 94.12%\n",
      "Precision: 88.89%\n",
      "F1: 91.43%\n"
     ]
    },
    {
     "data": {
      "image/png": "[encoded data removed]",
      "text/plain": [
       "<Figure size 640x480 with 1 Axes>"
      ]
     },
     "metadata": {},
     "output_type": "display_data"
    },
    {
     "name": "stdout",
     "output_type": "stream",
     "text": [
      "################# test set ##################\n",
      "Best Threshold=0.138401\n",
      "FPR: 0.0972\n",
      "TPR: 0.9762\n",
      "Confusion Matrix\n",
      "----------------\n",
      "[[65  7]\n",
      " [ 1 41]] \n",
      "\n",
      "----------------\n",
      "split1\n",
      "Sensitivity: 97.62%\n",
      "Specificity: 90.28%\n",
      "Accuracy: 92.98%\n",
      "Precision: 85.42%\n",
      "Sensitivity: 97.62%\n",
      "Precision: 85.42%\n",
      "F1: 91.11%\n"
     ]
    },
    {
     "data": {
      "image/png": "[encoded data removed]",
      "text/plain": [
       "<Figure size 640x480 with 1 Axes>"
      ]
     },
     "metadata": {},
     "output_type": "display_data"
    },
    {
     "name": "stdout",
     "output_type": "stream",
     "text": [
      "---------------------------------------\n",
      "AUC validate: 97.32%\n",
      "AUC test: 98.35%\n"
     ]
    },
    {
     "data": {
      "image/png": "[encoded data removed]",
      "text/plain": [
       "<Figure size 640x480 with 1 Axes>"
      ]
     },
     "metadata": {},
     "output_type": "display_data"
    },
    {
     "name": "stdout",
     "output_type": "stream",
     "text": [
      "################# false predict ##################\n",
      "         id diagnosis  texture_mean  area_mean  smoothness_mean  \\\n",
      "36  8711216         B         19.46      880.2          0.07445   \n",
      "38   918192         B         13.17      594.2          0.12480   \n",
      "44   868223         B         16.67      423.6          0.10510   \n",
      "46  8710441         B         15.34      300.2          0.10720   \n",
      "79   868202         M         22.47      506.3          0.09055   \n",
      "81   862548         M         19.77      642.5          0.09752   \n",
      "\n",
      "    concavity_mean  symmetry_mean  fractal_dimension_mean  texture_se  \\\n",
      "36         0.05150         0.1844                 0.05268       2.060   \n",
      "38         0.10100         0.1976                 0.06457       2.635   \n",
      "44         0.03592         0.1339                 0.05945       2.508   \n",
      "46         0.41080         0.2548                 0.09296       2.664   \n",
      "79         0.04711         0.1585                 0.06065       1.380   \n",
      "81         0.09388         0.1879                 0.06390       1.851   \n",
      "\n",
      "    area_se  smoothness_se  concavity_se  symmetry_se  fractal_dimension_se  \\\n",
      "36    46.61       0.003443       0.03056      0.01520              0.001519   \n",
      "38    44.74       0.010040       0.04763      0.01715              0.005528   \n",
      "44    34.37       0.006578       0.02662      0.01359              0.003707   \n",
      "46    49.85       0.010970       0.39600      0.03546              0.029840   \n",
      "79    19.87       0.007499       0.02332      0.01647              0.002629   \n",
      "81    26.85       0.008005       0.03321      0.01462              0.004452   \n",
      "\n",
      "    smoothness_worst  concavity_worst  symmetry_worst  fractal_dimension_worst  \n",
      "36           0.08774           0.1882          0.2527                  0.05972  \n",
      "38           0.13940           0.1559          0.2160                  0.07253  \n",
      "44           0.12710           0.1046          0.1712                  0.07343  \n",
      "46           0.12920           0.8216          0.3108                  0.12590  \n",
      "79           0.14190           0.2177          0.2829                  0.08067  \n",
      "81           0.14310           0.3194          0.2718                  0.09353  \n",
      "[36, 38, 44, 46, 79, 81]\n"
     ]
    },
    {
     "data": {
      "image/png": "[encoded data removed]",
      "text/plain": [
       "<Figure size 640x480 with 1 Axes>"
      ]
     },
     "metadata": {},
     "output_type": "display_data"
    },
    {
     "name": "stdout",
     "output_type": "stream",
     "text": [
      "../SVM/models/param1/SVM_model_split1.pkl\n",
      "../kitt/DATA_progress3_new/split1/train/train_oversampling.csv\n",
      "(456, 18)\n",
      "(456, 16)\n",
      "['B' 'M']\n",
      "../kitt/DATA_progress3_new/test.csv\n",
      "(114, 18)\n",
      "(114, 16)\n",
      "['B' 'M']\n",
      "../kitt/DATA_progress3_new/split1/val/val.csv\n",
      "(91, 18)\n",
      "(91, 16)\n",
      "['B' 'M']\n"
     ]
    },
    {
     "ename": "TypeError",
     "evalue": "'SVC' object is not iterable",
     "output_type": "error",
     "traceback": [
      "\u001b[1;31m---------------------------------------------------------------------------\u001b[0m",
      "\u001b[1;31mTypeError\u001b[0m                                 Traceback (most recent call last)",
      "Cell \u001b[1;32mIn[26], line 3\u001b[0m\n\u001b[0;32m      1\u001b[0m \u001b[38;5;66;03m# hello world!\u001b[39;00m\n\u001b[0;32m      2\u001b[0m param \u001b[38;5;241m=\u001b[39m \u001b[38;5;241m1\u001b[39m\n\u001b[1;32m----> 3\u001b[0m param1_split1_cm_val, param1_split1_cm_test, param1_split1_AUC_val, param1_split1_AUC_test \u001b[38;5;241m=\u001b[39m \u001b[43mevaluate\u001b[49m\u001b[43m(\u001b[49m\u001b[43mparam\u001b[49m\u001b[43m,\u001b[49m\u001b[43msplit\u001b[49m\u001b[43m)\u001b[49m\n",
      "Cell \u001b[1;32mIn[8], line 188\u001b[0m, in \u001b[0;36mevaluate\u001b[1;34m(param, split)\u001b[0m\n\u001b[0;32m    186\u001b[0m \u001b[38;5;28mprint\u001b[39m(fp)\n\u001b[0;32m    187\u001b[0m false_predict_kitt(y_val, y_pred_val, split\u001b[38;5;241m=\u001b[39msplit)\n\u001b[1;32m--> 188\u001b[0m \u001b[43mkernal_svm_split5\u001b[49m\u001b[43m(\u001b[49m\u001b[43msplit\u001b[49m\u001b[43m)\u001b[49m\n\u001b[0;32m    189\u001b[0m \u001b[38;5;28;01mreturn\u001b[39;00m cm_val,cm_test,auc1,auc2\n",
      "Cell \u001b[1;32mIn[8], line 98\u001b[0m, in \u001b[0;36mkernal_svm_split5\u001b[1;34m(split)\u001b[0m\n\u001b[0;32m     94\u001b[0m \u001b[38;5;66;03m# title for the plots\u001b[39;00m\n\u001b[0;32m     95\u001b[0m titles \u001b[38;5;241m=\u001b[39m [\u001b[38;5;124m'\u001b[39m\u001b[38;5;124mSVC with RBF kernel\u001b[39m\u001b[38;5;124m'\u001b[39m]\n\u001b[1;32m---> 98\u001b[0m \u001b[38;5;28;01mfor\u001b[39;00m i, clf \u001b[38;5;129;01min\u001b[39;00m \u001b[38;5;28;43menumerate\u001b[39;49m\u001b[43m(\u001b[49m\u001b[43m(\u001b[49m\u001b[43mloaded_model\u001b[49m\u001b[43m)\u001b[49m\u001b[43m)\u001b[49m:\n\u001b[0;32m     99\u001b[0m     \u001b[38;5;66;03m# Plot the decision boundary. For that, we will assign a color to each\u001b[39;00m\n\u001b[0;32m    100\u001b[0m     \u001b[38;5;66;03m# point in the mesh [x_min, x_max]x[y_min, y_max].\u001b[39;00m\n\u001b[0;32m    101\u001b[0m     plt\u001b[38;5;241m.\u001b[39msubplot(\u001b[38;5;241m2\u001b[39m, \u001b[38;5;241m2\u001b[39m, i \u001b[38;5;241m+\u001b[39m \u001b[38;5;241m1\u001b[39m)\n\u001b[0;32m    102\u001b[0m     plt\u001b[38;5;241m.\u001b[39msubplots_adjust(wspace\u001b[38;5;241m=\u001b[39m\u001b[38;5;241m0.4\u001b[39m, hspace\u001b[38;5;241m=\u001b[39m\u001b[38;5;241m0.4\u001b[39m)\n",
      "\u001b[1;31mTypeError\u001b[0m: 'SVC' object is not iterable"
     ]
    }
   ],
   "source": [
    "# hello world!\n",
    "param = 1\n",
    "param1_split1_cm_val, param1_split1_cm_test, param1_split1_AUC_val, param1_split1_AUC_test = evaluate(param,split)"
   ]
  },
  {
   "cell_type": "markdown",
   "id": "1791a4ef-c3d5-4639-b198-3348e8a00d86",
   "metadata": {},
   "source": [
    "## split2"
   ]
  },
  {
   "cell_type": "code",
   "execution_count": null,
   "id": "4771b62a-eb6c-4553-aa9f-a9842c296649",
   "metadata": {
    "tags": []
   },
   "outputs": [],
   "source": [
    "split_num = 2\n",
    "split = \"split{}\".format(split_num)\n",
    "x_train,y_train,x_test,y_test,x_val,y_val = setup(split)"
   ]
  },
  {
   "cell_type": "code",
   "execution_count": null,
   "id": "76124242-ded0-4517-8582-357545363eb5",
   "metadata": {
    "tags": []
   },
   "outputs": [],
   "source": [
    "# train_param1(split)"
   ]
  },
  {
   "cell_type": "code",
   "execution_count": null,
   "id": "ebe46a28",
   "metadata": {
    "tags": []
   },
   "outputs": [],
   "source": [
    "param = 1\n",
    "param1_split2_cm_val, param1_split2_cm_test, param1_split2_AUC_val, param1_split2_AUC_test = evaluate(param,split)"
   ]
  },
  {
   "cell_type": "markdown",
   "id": "05e45e30-4068-4683-85b0-ea2fd1e42558",
   "metadata": {},
   "source": [
    "## split3"
   ]
  },
  {
   "cell_type": "code",
   "execution_count": null,
   "id": "81ced57e-183c-490a-b58d-50a01d79d19c",
   "metadata": {
    "tags": []
   },
   "outputs": [],
   "source": [
    "split_num = 3\n",
    "split = \"split{}\".format(split_num)\n",
    "x_train,y_train,x_test,y_test,x_val,y_val = setup(split)"
   ]
  },
  {
   "cell_type": "code",
   "execution_count": null,
   "id": "62a43b58-81a7-4edb-8120-464488ff4be8",
   "metadata": {
    "tags": []
   },
   "outputs": [],
   "source": [
    "train_param1(split)"
   ]
  },
  {
   "cell_type": "code",
   "execution_count": null,
   "id": "be11faf9",
   "metadata": {
    "tags": []
   },
   "outputs": [],
   "source": [
    "param = 1\n",
    "param1_split3_cm_val, param1_split3_cm_test, param1_split3_AUC_val, param1_split3_AUC_test = evaluate(param,split)"
   ]
  },
  {
   "cell_type": "markdown",
   "id": "2c2379fa-27b1-4b8e-b5b6-7a497016811f",
   "metadata": {},
   "source": [
    "## split4"
   ]
  },
  {
   "cell_type": "code",
   "execution_count": null,
   "id": "35b364dd-1704-4726-a20d-61f71c344f78",
   "metadata": {
    "tags": []
   },
   "outputs": [],
   "source": [
    "split_num = 4\n",
    "split = \"split{}\".format(split_num)\n",
    "x_train,y_train,x_test,y_test,x_val,y_val = setup(split)"
   ]
  },
  {
   "cell_type": "code",
   "execution_count": null,
   "id": "f59e4561-38c9-4dcc-9680-70ed375bfb0c",
   "metadata": {
    "tags": []
   },
   "outputs": [],
   "source": [
    "train_param1(split)"
   ]
  },
  {
   "cell_type": "code",
   "execution_count": null,
   "id": "8922d4e2",
   "metadata": {
    "tags": []
   },
   "outputs": [],
   "source": [
    "param = 1\n",
    "param1_split4_cm_val, param1_split4_cm_test, param1_split4_AUC_val, param1_split4_AUC_test = evaluate(param,split)"
   ]
  },
  {
   "cell_type": "markdown",
   "id": "224c98a8-564e-49c4-b45b-51f6cba9ad4e",
   "metadata": {},
   "source": [
    "## split5"
   ]
  },
  {
   "cell_type": "code",
   "execution_count": null,
   "id": "00994193-b810-49fd-8512-b5af9ef93e59",
   "metadata": {
    "tags": []
   },
   "outputs": [],
   "source": [
    "split_num = 5\n",
    "split = \"split{}\".format(split_num)\n",
    "x_train,y_train,x_test,y_test,x_val,y_val = setup(split)"
   ]
  },
  {
   "cell_type": "code",
   "execution_count": null,
   "id": "fa9db559-1b99-46f3-ab8a-e9e0c92c7dd4",
   "metadata": {
    "tags": []
   },
   "outputs": [],
   "source": [
    "train_param1(split)"
   ]
  },
  {
   "cell_type": "code",
   "execution_count": null,
   "id": "1ef738c7",
   "metadata": {
    "tags": []
   },
   "outputs": [],
   "source": [
    "param = 1\n",
    "param1_split5_cm_val, param1_split5_cm_test, param1_split5_AUC_val, param1_split5_AUC_test = evaluate(param,split)"
   ]
  },
  {
   "cell_type": "markdown",
   "id": "3d825226-8451-4992-8573-2ae107fd90f1",
   "metadata": {
    "tags": []
   },
   "source": [
    "# Parameter2"
   ]
  },
  {
   "cell_type": "markdown",
   "id": "278baaab-cc87-46a7-9883-ffde9e0c6a47",
   "metadata": {},
   "source": [
    "## split1"
   ]
  },
  {
   "cell_type": "code",
   "execution_count": null,
   "id": "8fb56182-1d11-4992-abe9-1b6d308c3fed",
   "metadata": {
    "tags": []
   },
   "outputs": [],
   "source": [
    "split_num = 1\n",
    "split = \"split{}\".format(split_num)\n",
    "x_train,y_train,x_test,y_test,x_val,y_val = setup(split)"
   ]
  },
  {
   "cell_type": "code",
   "execution_count": null,
   "id": "da952822-c626-4020-9fdf-856ce4ae2bb9",
   "metadata": {
    "tags": []
   },
   "outputs": [],
   "source": [
    "train_param2(split)"
   ]
  },
  {
   "cell_type": "code",
   "execution_count": null,
   "id": "8ea7d407",
   "metadata": {
    "tags": []
   },
   "outputs": [],
   "source": [
    "param = 2\n",
    "param2_split1_cm_val, param2_split1_cm_test, param2_split1_AUC_val, param2_split1_AUC_test = evaluate(param,split)"
   ]
  },
  {
   "cell_type": "markdown",
   "id": "b5f2a4c1-a0c3-4ae7-8ecd-9b806745fc6d",
   "metadata": {},
   "source": [
    "## split2"
   ]
  },
  {
   "cell_type": "code",
   "execution_count": null,
   "id": "94316c16-553c-41de-afbc-a89b54015258",
   "metadata": {
    "tags": []
   },
   "outputs": [],
   "source": [
    "split_num = 2\n",
    "split = \"split{}\".format(split_num)\n",
    "x_train,y_train,x_test,y_test,x_val,y_val = setup(split)"
   ]
  },
  {
   "cell_type": "code",
   "execution_count": null,
   "id": "44f2e351-0a00-464c-97bc-c1dda9122d06",
   "metadata": {
    "tags": []
   },
   "outputs": [],
   "source": [
    "train_param2(split)"
   ]
  },
  {
   "cell_type": "code",
   "execution_count": null,
   "id": "efbac0e2",
   "metadata": {
    "tags": []
   },
   "outputs": [],
   "source": [
    "param = 2\n",
    "param2_split2_cm_val, param2_split2_cm_test, param2_split2_AUC_val, param2_split2_AUC_test = evaluate(param,split)"
   ]
  },
  {
   "cell_type": "markdown",
   "id": "259cf7e5-4b78-4e7d-bce0-7093bb0f8676",
   "metadata": {},
   "source": [
    "## split3"
   ]
  },
  {
   "cell_type": "code",
   "execution_count": null,
   "id": "e22eaebc-7dd0-4b74-aadd-5d7219701cd1",
   "metadata": {
    "tags": []
   },
   "outputs": [],
   "source": [
    "split_num = 3\n",
    "split = \"split{}\".format(split_num)\n",
    "x_train,y_train,x_test,y_test,x_val,y_val = setup(split)"
   ]
  },
  {
   "cell_type": "code",
   "execution_count": null,
   "id": "ed92469e-44bc-4095-b1e8-0e0067086aba",
   "metadata": {
    "tags": []
   },
   "outputs": [],
   "source": [
    "train_param2(split)"
   ]
  },
  {
   "cell_type": "code",
   "execution_count": null,
   "id": "b0cf42fd",
   "metadata": {
    "tags": []
   },
   "outputs": [],
   "source": [
    "param = 2\n",
    "param2_split3_cm_val, param2_split3_cm_test, param2_split3_AUC_val, param2_split3_AUC_test = evaluate(param,split)"
   ]
  },
  {
   "cell_type": "markdown",
   "id": "cc516936-e16a-423e-a095-995a37c6e5b6",
   "metadata": {},
   "source": [
    "## split4"
   ]
  },
  {
   "cell_type": "code",
   "execution_count": null,
   "id": "181bb86d-276e-4005-8f81-58d2f94a1140",
   "metadata": {
    "tags": []
   },
   "outputs": [],
   "source": [
    "split_num = 4\n",
    "split = \"split{}\".format(split_num)\n",
    "x_train,y_train,x_test,y_test,x_val,y_val = setup(split)"
   ]
  },
  {
   "cell_type": "code",
   "execution_count": null,
   "id": "467ab451-5fd2-4410-b3b8-7e2fb119eca6",
   "metadata": {
    "tags": []
   },
   "outputs": [],
   "source": [
    "train_param2(split)"
   ]
  },
  {
   "cell_type": "code",
   "execution_count": null,
   "id": "2705a958-acfe-4e46-932f-2abdb52380d7",
   "metadata": {
    "tags": []
   },
   "outputs": [],
   "source": [
    "param = 2\n",
    "param2_split4_cm_val, param2_split4_cm_test, param2_split4_AUC_val, param2_split4_AUC_test = evaluate(param,split)"
   ]
  },
  {
   "cell_type": "markdown",
   "id": "0493f2ab-efe0-4d93-8b38-e3d373f61eec",
   "metadata": {},
   "source": [
    "## split5"
   ]
  },
  {
   "cell_type": "code",
   "execution_count": null,
   "id": "c86e489d-7849-4aef-a575-b40d8b411e6b",
   "metadata": {
    "tags": []
   },
   "outputs": [],
   "source": [
    "split_num = 5\n",
    "split = \"split{}\".format(split_num)\n",
    "x_train,y_train,x_test,y_test,x_val,y_val = setup(split)"
   ]
  },
  {
   "cell_type": "code",
   "execution_count": null,
   "id": "f3895c3b-779e-44d9-b3e4-57f0913d2eba",
   "metadata": {
    "tags": []
   },
   "outputs": [],
   "source": [
    "train_param2(split)"
   ]
  },
  {
   "cell_type": "code",
   "execution_count": null,
   "id": "f080a341",
   "metadata": {
    "tags": []
   },
   "outputs": [],
   "source": [
    "param = 2\n",
    "param2_split5_cm_val, param2_split5_cm_test, param2_split5_AUC_val, param2_split5_AUC_test = evaluate(param,split)"
   ]
  },
  {
   "cell_type": "markdown",
   "id": "9ed5e721-acb4-462c-9b4d-be540c0458f0",
   "metadata": {},
   "source": [
    "# Parameter 3"
   ]
  },
  {
   "cell_type": "markdown",
   "id": "c48dd1be-e79f-4698-b399-10dc16423f58",
   "metadata": {},
   "source": [
    "## split1"
   ]
  },
  {
   "cell_type": "code",
   "execution_count": null,
   "id": "bc4da9de-a90a-4d5f-a19f-0ae53c9ac6d6",
   "metadata": {
    "tags": []
   },
   "outputs": [],
   "source": [
    "split_num = 1\n",
    "split = \"split{}\".format(split_num)\n",
    "x_train,y_train,x_test,y_test,x_val,y_val = setup(split)"
   ]
  },
  {
   "cell_type": "code",
   "execution_count": null,
   "id": "63e2aca8-35ed-44cc-a3d8-87ca7a9c09e6",
   "metadata": {
    "tags": []
   },
   "outputs": [],
   "source": [
    "train_param3(split)"
   ]
  },
  {
   "cell_type": "code",
   "execution_count": null,
   "id": "38b17efa",
   "metadata": {
    "tags": []
   },
   "outputs": [],
   "source": [
    "param = 3\n",
    "param3_split1_cm_val, param3_split1_cm_test, param3_split1_AUC_val, param3_split1_AUC_test = evaluate(param,split)"
   ]
  },
  {
   "cell_type": "markdown",
   "id": "3f29dacc-173f-47c6-a6da-2ddab4693976",
   "metadata": {},
   "source": [
    "## split2"
   ]
  },
  {
   "cell_type": "code",
   "execution_count": null,
   "id": "8b74f0e9-3362-48aa-9c65-3dcc28541055",
   "metadata": {
    "tags": []
   },
   "outputs": [],
   "source": [
    "split_num = 2\n",
    "split = \"split{}\".format(split_num)\n",
    "x_train,y_train,x_test,y_test,x_val,y_val = setup(split)"
   ]
  },
  {
   "cell_type": "code",
   "execution_count": null,
   "id": "937e4def-712f-4fe9-8f33-9c314b303cf4",
   "metadata": {
    "tags": []
   },
   "outputs": [],
   "source": [
    "train_param3(split)"
   ]
  },
  {
   "cell_type": "code",
   "execution_count": null,
   "id": "1829defd",
   "metadata": {
    "tags": []
   },
   "outputs": [],
   "source": [
    "param = 3\n",
    "param3_split2_cm_val, param3_split2_cm_test, param3_split2_AUC_val, param3_split2_AUC_test = evaluate(param,split)"
   ]
  },
  {
   "cell_type": "markdown",
   "id": "d616459c-3caa-468e-a98c-574d1783150a",
   "metadata": {},
   "source": [
    "## split3"
   ]
  },
  {
   "cell_type": "code",
   "execution_count": null,
   "id": "6e85be73-5728-4e32-82a9-19404a00bb85",
   "metadata": {
    "tags": []
   },
   "outputs": [],
   "source": [
    "split_num = 3\n",
    "split = \"split{}\".format(split_num)\n",
    "x_train,y_train,x_test,y_test,x_val,y_val = setup(split)"
   ]
  },
  {
   "cell_type": "code",
   "execution_count": null,
   "id": "6974303a-2e27-4b18-bf77-9966626bc7b7",
   "metadata": {
    "tags": []
   },
   "outputs": [],
   "source": [
    "train_param3(split)"
   ]
  },
  {
   "cell_type": "code",
   "execution_count": null,
   "id": "0565a1e6-ddb3-4202-9c30-baf3f51d88db",
   "metadata": {
    "tags": []
   },
   "outputs": [],
   "source": [
    "param = 3\n",
    "param3_split3_cm_val, param3_split3_cm_test, param3_split3_AUC_val, param3_split3_AUC_test = evaluate(param,split)"
   ]
  },
  {
   "cell_type": "markdown",
   "id": "36935372-f80c-4ad5-9e60-343ba756301a",
   "metadata": {},
   "source": [
    "## split4"
   ]
  },
  {
   "cell_type": "code",
   "execution_count": null,
   "id": "3f8c735a-3faf-4f2d-853c-cc78fe1ca917",
   "metadata": {
    "tags": []
   },
   "outputs": [],
   "source": [
    "split_num = 4\n",
    "split = \"split{}\".format(split_num)\n",
    "x_train,y_train,x_test,y_test,x_val,y_val = setup(split)"
   ]
  },
  {
   "cell_type": "code",
   "execution_count": null,
   "id": "02e6e801-e14d-4e48-bcea-dd39e5fb19af",
   "metadata": {
    "tags": []
   },
   "outputs": [],
   "source": [
    "train_param3(split)"
   ]
  },
  {
   "cell_type": "code",
   "execution_count": null,
   "id": "74bf5213-cb18-43a4-9a57-c2bb9370d60a",
   "metadata": {
    "tags": []
   },
   "outputs": [],
   "source": [
    "param = 3\n",
    "param3_split4_cm_val, param3_split4_cm_test, param3_split4_AUC_val, param3_split4_AUC_test = evaluate(param,split)"
   ]
  },
  {
   "cell_type": "markdown",
   "id": "5463d9ad-f2c9-47b5-b847-38147147e48b",
   "metadata": {},
   "source": [
    "## split5"
   ]
  },
  {
   "cell_type": "code",
   "execution_count": null,
   "id": "5614e191-7e75-49e2-9715-96a23dab98f5",
   "metadata": {
    "tags": []
   },
   "outputs": [],
   "source": [
    "split_num = 5\n",
    "split = \"split{}\".format(split_num)\n",
    "x_train,y_train,x_test,y_test,x_val,y_val = setup(split)"
   ]
  },
  {
   "cell_type": "code",
   "execution_count": null,
   "id": "f238e7a2-1d29-419e-a10d-736285a25360",
   "metadata": {
    "tags": []
   },
   "outputs": [],
   "source": [
    "train_param3(split)"
   ]
  },
  {
   "cell_type": "code",
   "execution_count": null,
   "id": "8cd49c65",
   "metadata": {
    "tags": []
   },
   "outputs": [],
   "source": [
    "param = 3\n",
    "param3_split5_cm_val, param3_split5_cm_test, param3_split5_AUC_val, param3_split5_AUC_test = evaluate(param,split)"
   ]
  },
  {
   "cell_type": "markdown",
   "id": "c4f56154-5723-428f-a677-7072ab591ca3",
   "metadata": {
    "tags": []
   },
   "source": [
    "# Parameter 4"
   ]
  },
  {
   "cell_type": "markdown",
   "id": "608ddbe6-3468-4cac-8863-f051f406fbdf",
   "metadata": {},
   "source": [
    "## split1"
   ]
  },
  {
   "cell_type": "code",
   "execution_count": null,
   "id": "2233eb68-f860-408f-a661-95d5d0e01613",
   "metadata": {
    "tags": []
   },
   "outputs": [],
   "source": [
    "split_num = 1\n",
    "split = \"split{}\".format(split_num)\n",
    "x_train,y_train,x_test,y_test,x_val,y_val = setup(split)"
   ]
  },
  {
   "cell_type": "code",
   "execution_count": null,
   "id": "7cf48e8f-644e-468a-b139-81fe5f6c4b1a",
   "metadata": {
    "tags": []
   },
   "outputs": [],
   "source": [
    "train_param4(split)"
   ]
  },
  {
   "cell_type": "code",
   "execution_count": null,
   "id": "add0c0ca",
   "metadata": {
    "tags": []
   },
   "outputs": [],
   "source": [
    "param = 4\n",
    "param4_split1_cm_val, param4_split1_cm_test, param4_split1_AUC_val, param4_split1_AUC_test = evaluate(param,split)"
   ]
  },
  {
   "cell_type": "markdown",
   "id": "f0f00ef4-a6e4-48c5-b5c3-9a40eb7c5db0",
   "metadata": {},
   "source": [
    "## split2"
   ]
  },
  {
   "cell_type": "code",
   "execution_count": null,
   "id": "76decb0d-b4ff-4292-8cdc-1228f1860c7b",
   "metadata": {
    "tags": []
   },
   "outputs": [],
   "source": [
    "split_num = 2\n",
    "split = \"split{}\".format(split_num)\n",
    "x_train,y_train,x_test,y_test,x_val,y_val = setup(split)"
   ]
  },
  {
   "cell_type": "code",
   "execution_count": null,
   "id": "a8b3dcda-e4ca-4946-9690-93931c9a1ed4",
   "metadata": {
    "tags": []
   },
   "outputs": [],
   "source": [
    "train_param4(split)"
   ]
  },
  {
   "cell_type": "code",
   "execution_count": null,
   "id": "db836fd2",
   "metadata": {
    "tags": []
   },
   "outputs": [],
   "source": [
    "param = 4\n",
    "param4_split2_cm_val, param4_split2_cm_test, param4_split2_AUC_val, param4_split2_AUC_test = evaluate(param,split)"
   ]
  },
  {
   "cell_type": "markdown",
   "id": "210c6185-c8ff-47f4-8aa8-692ea6d1f08a",
   "metadata": {},
   "source": [
    "## split3"
   ]
  },
  {
   "cell_type": "code",
   "execution_count": null,
   "id": "521e3141-e855-4e46-9094-b400118023a2",
   "metadata": {
    "tags": []
   },
   "outputs": [],
   "source": [
    "split_num = 3\n",
    "split = \"split{}\".format(split_num)\n",
    "x_train,y_train,x_test,y_test,x_val,y_val = setup(split)"
   ]
  },
  {
   "cell_type": "code",
   "execution_count": null,
   "id": "2d1c865a-8b25-45f1-a4d4-21fcab4f0431",
   "metadata": {
    "tags": []
   },
   "outputs": [],
   "source": [
    "train_param4(split)"
   ]
  },
  {
   "cell_type": "code",
   "execution_count": null,
   "id": "8da3e267",
   "metadata": {
    "tags": []
   },
   "outputs": [],
   "source": [
    "param = 4\n",
    "param4_split3_cm_val, param4_split3_cm_test, param4_split3_AUC_val, param4_split3_AUC_test = evaluate(param,split)"
   ]
  },
  {
   "cell_type": "markdown",
   "id": "3ccadba1-579e-40f0-9d3e-5b597e6d842b",
   "metadata": {},
   "source": [
    "## split4"
   ]
  },
  {
   "cell_type": "code",
   "execution_count": null,
   "id": "5632c83d-6c17-4b3d-a213-87581494648e",
   "metadata": {
    "tags": []
   },
   "outputs": [],
   "source": [
    "split_num = 4\n",
    "split = \"split{}\".format(split_num)\n",
    "x_train,y_train,x_test,y_test,x_val,y_val = setup(split)"
   ]
  },
  {
   "cell_type": "code",
   "execution_count": null,
   "id": "74bf353d-f8c7-41a1-b44a-6ce949f25dc9",
   "metadata": {
    "tags": []
   },
   "outputs": [],
   "source": [
    "train_param4(split)"
   ]
  },
  {
   "cell_type": "code",
   "execution_count": null,
   "id": "cec21948",
   "metadata": {
    "tags": []
   },
   "outputs": [],
   "source": [
    "param = 4\n",
    "param4_split4_cm_val, param4_split4_cm_test, param4_split4_AUC_val, param4_split4_AUC_test = evaluate(param,split)"
   ]
  },
  {
   "cell_type": "markdown",
   "id": "c32c0a3f-c2e5-4542-886f-5996ace654c9",
   "metadata": {},
   "source": [
    "## split5"
   ]
  },
  {
   "cell_type": "code",
   "execution_count": null,
   "id": "5350c59d-ca54-4677-9034-07589b3326a6",
   "metadata": {
    "tags": []
   },
   "outputs": [],
   "source": [
    "split_num = 5\n",
    "split = \"split{}\".format(split_num)\n",
    "x_train,y_train,x_test,y_test,x_val,y_val = setup(split)"
   ]
  },
  {
   "cell_type": "code",
   "execution_count": null,
   "id": "27bc6a47-9bce-48c7-a154-a86db8932c7f",
   "metadata": {
    "tags": []
   },
   "outputs": [],
   "source": [
    "train_param4(split)"
   ]
  },
  {
   "cell_type": "code",
   "execution_count": null,
   "id": "1af56529",
   "metadata": {
    "tags": []
   },
   "outputs": [],
   "source": [
    "param = 4\n",
    "param4_split5_cm_val, param4_split5_cm_test, param4_split5_AUC_val, param4_split5_AUC_test = evaluate(param,split)"
   ]
  },
  {
   "cell_type": "markdown",
   "id": "0ff44f81-2f2a-485d-bfa4-121cf0affd36",
   "metadata": {},
   "source": [
    "# Parameter 5"
   ]
  },
  {
   "cell_type": "markdown",
   "id": "f1470e13-9bee-4ae2-94a4-34dd5d71a609",
   "metadata": {},
   "source": [
    "## split1"
   ]
  },
  {
   "cell_type": "code",
   "execution_count": null,
   "id": "610eb03b-5bb5-4e3c-99ad-5286f518cd9a",
   "metadata": {
    "tags": []
   },
   "outputs": [],
   "source": [
    "split_num = 1\n",
    "split = \"split{}\".format(split_num)\n",
    "x_train,y_train,x_test,y_test,x_val,y_val = setup(split)"
   ]
  },
  {
   "cell_type": "code",
   "execution_count": null,
   "id": "87776b4f-bec2-49fd-8611-1548766ae6a7",
   "metadata": {
    "tags": []
   },
   "outputs": [],
   "source": [
    "train_param5(split)"
   ]
  },
  {
   "cell_type": "code",
   "execution_count": null,
   "id": "2d4f4374",
   "metadata": {
    "tags": []
   },
   "outputs": [],
   "source": [
    "param = 5\n",
    "param5_split1_cm_val, param5_split1_cm_test, param5_split1_AUC_val, param5_split1_AUC_test = evaluate(param,split)"
   ]
  },
  {
   "cell_type": "markdown",
   "id": "c5a1b3f5-a17c-4fa7-846f-020bdb9b9cee",
   "metadata": {},
   "source": [
    "## split2"
   ]
  },
  {
   "cell_type": "code",
   "execution_count": null,
   "id": "da6c802f-b7bf-412e-a76f-744d351bc4a3",
   "metadata": {
    "tags": []
   },
   "outputs": [],
   "source": [
    "split_num = 2\n",
    "split = \"split{}\".format(split_num)\n",
    "x_train,y_train,x_test,y_test,x_val,y_val = setup(split)"
   ]
  },
  {
   "cell_type": "code",
   "execution_count": null,
   "id": "0bf61ea8-07c0-4b2e-a134-3561bd1277f2",
   "metadata": {
    "tags": []
   },
   "outputs": [],
   "source": [
    "train_param5(split)"
   ]
  },
  {
   "cell_type": "code",
   "execution_count": null,
   "id": "30c72b8a",
   "metadata": {
    "tags": []
   },
   "outputs": [],
   "source": [
    "param = 5\n",
    "param5_split2_cm_val, param5_split2_cm_test, param5_split2_AUC_val, param5_split2_AUC_test = evaluate(param,split)"
   ]
  },
  {
   "cell_type": "markdown",
   "id": "8d489a05-6848-496a-b3a5-b05a1de64c6a",
   "metadata": {},
   "source": [
    "## split3"
   ]
  },
  {
   "cell_type": "code",
   "execution_count": null,
   "id": "14c85f85-2017-4032-a7f9-397f65d9518c",
   "metadata": {
    "tags": []
   },
   "outputs": [],
   "source": [
    "split_num = 3\n",
    "split = \"split{}\".format(split_num)\n",
    "x_train,y_train,x_test,y_test,x_val,y_val = setup(split)"
   ]
  },
  {
   "cell_type": "code",
   "execution_count": null,
   "id": "ef438254-fb2d-41b8-94b4-98990809a176",
   "metadata": {
    "tags": []
   },
   "outputs": [],
   "source": [
    "train_param5(split)"
   ]
  },
  {
   "cell_type": "code",
   "execution_count": null,
   "id": "a6c55821",
   "metadata": {
    "tags": []
   },
   "outputs": [],
   "source": [
    "param = 5\n",
    "param5_split3_cm_val, param5_split3_cm_test, param5_split3_AUC_val, param5_split3_AUC_test = evaluate(param,split)"
   ]
  },
  {
   "cell_type": "markdown",
   "id": "c88e8746-4c50-4bf2-a35b-835bb5d5f3b8",
   "metadata": {},
   "source": [
    "## split4"
   ]
  },
  {
   "cell_type": "code",
   "execution_count": null,
   "id": "0ef3b590-5867-4074-bbea-36db47689577",
   "metadata": {
    "tags": []
   },
   "outputs": [],
   "source": [
    "split_num = 4\n",
    "split = \"split{}\".format(split_num)\n",
    "x_train,y_train,x_test,y_test,x_val,y_val = setup(split)"
   ]
  },
  {
   "cell_type": "code",
   "execution_count": null,
   "id": "ee68ca4c-fe83-49fe-9a69-63b4e583bc3a",
   "metadata": {
    "tags": []
   },
   "outputs": [],
   "source": [
    "train_param5(split)"
   ]
  },
  {
   "cell_type": "code",
   "execution_count": null,
   "id": "24c8efa5",
   "metadata": {
    "tags": []
   },
   "outputs": [],
   "source": [
    "param = 5\n",
    "param5_split4_cm_val, param5_split4_cm_test, param5_split4_AUC_val, param5_split4_AUC_test = evaluate(param,split)"
   ]
  },
  {
   "cell_type": "markdown",
   "id": "e04dcccd-c72d-4433-ba36-fc4f78e29324",
   "metadata": {},
   "source": [
    "## split5"
   ]
  },
  {
   "cell_type": "code",
   "execution_count": null,
   "id": "f0fb5e86-30f5-4d10-b4c8-64cd52cfdce4",
   "metadata": {
    "tags": []
   },
   "outputs": [],
   "source": [
    "split_num = 5\n",
    "split = \"split{}\".format(split_num)\n",
    "x_train,y_train,x_test,y_test,x_val,y_val = setup(split)"
   ]
  },
  {
   "cell_type": "code",
   "execution_count": null,
   "id": "b1e3ab6f-6a77-4ad3-a142-0c63c78db5d4",
   "metadata": {
    "tags": []
   },
   "outputs": [],
   "source": [
    "train_param5(split)"
   ]
  },
  {
   "cell_type": "code",
   "execution_count": null,
   "id": "a85c004e",
   "metadata": {
    "tags": []
   },
   "outputs": [],
   "source": [
    "param = 5\n",
    "param5_split5_cm_val, param5_split5_cm_test, param5_split5_AUC_val, param5_split5_AUC_test = evaluate(param,split)"
   ]
  },
  {
   "cell_type": "markdown",
   "id": "0d275937-9d7e-4f43-a371-5a490db1451a",
   "metadata": {
    "toc-hr-collapsed": true
   },
   "source": [
    "# Overall"
   ]
  },
  {
   "cell_type": "markdown",
   "id": "210b78bb-0095-48e6-b1e9-96d4bf8bd8be",
   "metadata": {},
   "source": [
    "## param1"
   ]
  },
  {
   "cell_type": "code",
   "execution_count": null,
   "id": "98f912cf-724c-41b2-9f3c-9970778e231a",
   "metadata": {
    "tags": []
   },
   "outputs": [],
   "source": [
    "print(\"param1\")\n",
    "plot(param1_split1_cm_val , param1_split2_cm_val , param1_split3_cm_val , param1_split4_cm_val , param1_split5_cm_val)\n",
    "Mean_SD(\"AUC1\",param1_split1_AUC_val*100, param1_split2_AUC_val*100, param1_split3_AUC_val*100, param1_split4_AUC_val*100, param1_split5_AUC_val*100)"
   ]
  },
  {
   "cell_type": "markdown",
   "id": "6c4c91dc-d9ab-44f6-bb8e-60301cfc6258",
   "metadata": {},
   "source": [
    "## param2"
   ]
  },
  {
   "cell_type": "code",
   "execution_count": null,
   "id": "a41f6e64-ae8b-49e1-862a-362d676f8653",
   "metadata": {
    "tags": []
   },
   "outputs": [],
   "source": [
    "print(\"param2\")\n",
    "plot(param2_split1_cm_val , param2_split2_cm_val , param2_split3_cm_val , param2_split4_cm_val , param2_split5_cm_val)\n",
    "Mean_SD(\"AUC1\",param2_split1_AUC_val*100, param2_split2_AUC_val*100, param2_split3_AUC_val*100, param2_split4_AUC_val*100, param2_split5_AUC_val*100)"
   ]
  },
  {
   "cell_type": "markdown",
   "id": "16c46d6a-2973-4155-9731-7a7cfc183a90",
   "metadata": {},
   "source": [
    "## param3"
   ]
  },
  {
   "cell_type": "code",
   "execution_count": null,
   "id": "7eadd98c-6939-464f-8da8-a48973cda65f",
   "metadata": {
    "tags": []
   },
   "outputs": [],
   "source": [
    "print(\"param3\")\n",
    "plot(param3_split1_cm_val , param3_split2_cm_val , param3_split3_cm_val , param3_split4_cm_val , param5_split5_cm_val)\n",
    "Mean_SD(\"AUC1\",param3_split1_AUC_val*100, param3_split2_AUC_val*100, param3_split3_AUC_val*100, param3_split4_AUC_val*100, param3_split5_AUC_val*100)"
   ]
  },
  {
   "cell_type": "markdown",
   "id": "52303c76-8b1f-4138-b158-2ec84e1e08aa",
   "metadata": {},
   "source": [
    "## param4"
   ]
  },
  {
   "cell_type": "code",
   "execution_count": null,
   "id": "3d9bfe43-a398-42ed-8fc4-89878f100c2c",
   "metadata": {
    "tags": []
   },
   "outputs": [],
   "source": [
    "print(\"param4\")\n",
    "plot(param4_split1_cm_val , param4_split2_cm_val , param4_split3_cm_val , param4_split4_cm_val , param4_split5_cm_val)\n",
    "Mean_SD(\"AUC1\",param4_split1_AUC_val*100, param4_split2_AUC_val*100, param4_split3_AUC_val*100, param4_split4_AUC_val*100, param4_split5_AUC_val*100)"
   ]
  },
  {
   "cell_type": "markdown",
   "id": "3a1183bd-709a-42f1-ad69-0e470cd3309d",
   "metadata": {},
   "source": [
    "## param5"
   ]
  },
  {
   "cell_type": "code",
   "execution_count": null,
   "id": "ce8e5f2e-5e76-42a4-aee5-6c269d54db96",
   "metadata": {
    "tags": []
   },
   "outputs": [],
   "source": [
    "print(\"param5\")\n",
    "plot(param5_split1_cm_val , param5_split2_cm_val , param5_split3_cm_val , param5_split4_cm_val , param5_split5_cm_val)\n",
    "Mean_SD(\"AUC1\",param5_split1_AUC_val*100, param5_split2_AUC_val*100, param5_split3_AUC_val*100, param5_split4_AUC_val*100, param5_split5_AUC_val*100)"
   ]
  },
  {
   "cell_type": "markdown",
   "id": "4ed24373-3e0b-4be3-bc02-a7574aa10936",
   "metadata": {},
   "source": [
    "# Test best param"
   ]
  },
  {
   "cell_type": "code",
   "execution_count": null,
   "id": "4e1d37b8-ac56-4a9f-8f74-112f304f8369",
   "metadata": {
    "tags": []
   },
   "outputs": [],
   "source": [
    "train_path = \"../kitt/DATA_progress3_new/train.csv\"\n",
    "test_path = \"../kitt/DATA_progress3_new/test.csv\""
   ]
  },
  {
   "cell_type": "code",
   "execution_count": null,
   "id": "d50a9853-b991-4967-97fb-cf8e5e2134bd",
   "metadata": {
    "tags": []
   },
   "outputs": [],
   "source": [
    "# Load the train set\n",
    "train_data = pd.read_csv(train_path)\n",
    "print(train_data.shape)\n",
    "x_train = train_data[train_data.columns[2:]]\n",
    "print(x_train.shape)\n",
    "y_train = train_data[train_data.columns[1]]\n",
    "le = LabelEncoder()\n",
    "y_train = np.array(le.fit_transform(y_train))\n",
    "print(le.classes_)\n",
    "\n",
    "# Load the test se\n",
    "test_data = pd.read_csv(test_path)\n",
    "print(test_data.shape)\n",
    "x_test = test_data[test_data.columns[2:]]\n",
    "print(x_test.shape)\n",
    "y_test = test_data[test_data.columns[1]]\n",
    "le = LabelEncoder()\n",
    "y_test = np.array(le.fit_transform(y_test))\n",
    "print(le.classes_)\n",
    "\n",
    "# StandardScaler\n",
    "sc = StandardScaler()\n",
    "x_train = x_train.to_numpy()\n",
    "x_test = x_test.to_numpy()\n",
    "x_train = sc.fit_transform(x_train)\n",
    "x_test = sc.transform(x_test)"
   ]
  },
  {
   "cell_type": "code",
   "execution_count": null,
   "id": "d563ec92-8912-4e24-8150-c34c520bc099",
   "metadata": {
    "tags": []
   },
   "outputs": [],
   "source": [
    "model = SGDClassifier(loss='modified_huber', penalty='l2', learning_rate='constant', eta0=0.01, max_iter=5000, alpha=0.01)\n",
    "model.fit(x_train, y_train)# Save the trained model to disk\n",
    "joblib.dump(model, \"../SGD/models/sgd_model_all.pkl\")"
   ]
  },
  {
   "cell_type": "code",
   "execution_count": null,
   "id": "c113fb97-beed-402d-bc08-8b5c83c1a722",
   "metadata": {
    "tags": []
   },
   "outputs": [],
   "source": [
    "model_path = \"../SGD/models/sgd_model_all.pkl\"\n",
    "print(model_path)\n",
    "loaded_model = joblib.load(model_path)\n",
    "\n",
    "# ################# test set ##################\n",
    "label = ['benign','malignant']\n",
    "print(\"################# test set ##################\")\n",
    "y_pred_test_raw = loaded_model.predict_proba(x_test)\n",
    "y_pred_test = thresholding(y_test, y_pred_test_raw)\n",
    "\n",
    "# Confusion matrix\n",
    "cm_test = confusion_matrix(y_test, y_pred_test)\n",
    "print('Confusion Matrix')\n",
    "print('-'*16)\n",
    "print(cm_test,'\\n')\n",
    "print('-'*16)\n",
    "\n",
    "# Calculate score\n",
    "print(split)\n",
    "cal_score_all(cm_test)\n",
    "\n",
    "# plot confusion matrix\n",
    "plot_cm(cm_test,which=\"Test set\")\n",
    "\n",
    "################## plot ROC curve ########################\n",
    "# fpr1, tpr1, thr1 = metrics.roc_curve(y_val,  y_pred_val_raw[:,1])\n",
    "# auc1 = metrics.roc_auc_score(y_val,  y_pred_val_raw[:,1])*100\n",
    "fpr2, tpr2, thr2 = metrics.roc_curve(y_test,  y_pred_test_raw[:,1])\n",
    "auc2 = metrics.roc_auc_score(y_test,  y_pred_test_raw[:,1])*100\n",
    "gmeans2 = np.sqrt(tpr2 * (1-fpr2))\n",
    "ix2 = np.argmax(gmeans2)\n",
    "print(\"---------------------------------------\")\n",
    "# print(\"AUC validate: %.2f%%\" % auc1)\n",
    "print(\"AUC test: %.2f%%\" % auc2)\n",
    "# plt.plot(fpr1,tpr1,label=\"ROC valid, auc=\"+str(\"%.2f%%\" % auc1))\n",
    "plt.plot(fpr2,tpr2,label=\"ROC test, auc=\"+str(\"%.2f%%\" % auc2))\n",
    "plt.plot([0, 1], [0, 1], linestyle=\"--\", lw=2, color=\"r\", label=\"Chance\", alpha=0.8)\n",
    "\n",
    "plt.legend(loc=4)\n",
    "plt.show()"
   ]
  },
  {
   "cell_type": "code",
   "execution_count": null,
   "id": "f108f2af-30ec-48d6-8ce5-dd457950e713",
   "metadata": {},
   "outputs": [],
   "source": []
  },
  {
   "cell_type": "code",
   "execution_count": null,
   "id": "c0c3673a-55b9-499c-b988-e2473fa5adad",
   "metadata": {},
   "outputs": [],
   "source": []
  }
 ],
 "metadata": {
  "kernelspec": {
   "display_name": "Python 3 (ipykernel)",
   "language": "python",
   "name": "python3"
  },
  "language_info": {
   "codemirror_mode": {
    "name": "ipython",
    "version": 3
   },
   "file_extension": ".py",
   "mimetype": "text/x-python",
   "name": "python",
   "nbconvert_exporter": "python",
   "pygments_lexer": "ipython3",
   "version": "3.10.9"
  },
  "vscode": {
   "interpreter": {
    "hash": "23bf0724a01b6ea9814e66f76182ea78c0ee849a72ca257c0e116bf83bb4960a"
   }
  }
 },
 "nbformat": 4,
 "nbformat_minor": 5
}
